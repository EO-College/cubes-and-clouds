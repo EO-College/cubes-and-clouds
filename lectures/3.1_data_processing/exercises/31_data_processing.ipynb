{
 "cells": [
  {
   "cell_type": "markdown",
   "id": "0fbba1f4-9e0b-4c47-9e5c-19dbae956a0c",
   "metadata": {},
   "source": [
    "<img src=\"https://raw.githubusercontent.com/EO-College/cubes-and-clouds/main/icons/cnc_3icons_process_circle.svg\"\n",
    "     alt=\"Cubes & Clouds logo\"\n",
    "     style=\"float: center; margin-right: 10px;\" />"
   ]
  },
  {
   "cell_type": "markdown",
   "id": "0c6aed2f-1493-4636-a124-03c81b28bc52",
   "metadata": {},
   "source": [
    "# 3.1 Data Processing\n",
    "In this exercise we will build a complete EO workflow on a cloud platform; from data access to obtaining the result. In this example we will analyse snow cover in the Alps.\n",
    "\n",
    "We are going to follow these steps in our analysis:\n",
    "\n",
    "-   Load satellite collections\n",
    "-   Specify the spatial, temporal extents and the features we are interested in\n",
    "-   Process the satellite data to retrieve snow cover information\n",
    "-   aggregate information to get catchment statistics over time\n",
    "-   Visualize and analyse the results\n",
    "\n",
    "More information on the openEO Python Client: https://open-eo.github.io/openeo-python-client/index.html"
   ]
  },
  {
   "cell_type": "markdown",
   "id": "cfe1892d-f9f9-4e9a-8d82-db000c59b6ce",
   "metadata": {
    "tags": []
   },
   "source": [
    "## Libraries"
   ]
  },
  {
   "cell_type": "code",
   "execution_count": 1,
   "id": "057019b0-17d5-4cb0-a1a3-5abd47dee312",
   "metadata": {
    "tags": []
   },
   "outputs": [],
   "source": [
    "%%capture\n",
    "pip install openeo rioxarray geopandas leafmap h5netcdf netcdf4"
   ]
  },
  {
   "cell_type": "code",
   "execution_count": 2,
   "id": "1abf270c-d73e-4109-854c-3cf36a1b36d7",
   "metadata": {
    "tags": []
   },
   "outputs": [],
   "source": [
    "# platform libraries\n",
    "import openeo\n",
    "\n",
    "# utility libraries\n",
    "from datetime import date\n",
    "import numpy as np\n",
    "import xarray as xr\n",
    "import rioxarray\n",
    "import json\n",
    "import pandas as pd\n",
    "import matplotlib.pyplot as plt\n",
    "import geopandas as gpd\n",
    "import leafmap.foliumap as leafmap"
   ]
  },
  {
   "cell_type": "markdown",
   "id": "f9d64c64-39db-4869-917c-ed24bef18204",
   "metadata": {},
   "source": [
    "## Connect to a cloud platform\n",
    "Connect to the Copernicus Dataspace Ecosystem. Being connected allows for data discovery."
   ]
  },
  {
   "cell_type": "code",
   "execution_count": 3,
   "id": "86afd551-857e-4129-a2ee-39a933255f34",
   "metadata": {
    "tags": []
   },
   "outputs": [],
   "source": [
    "conn = openeo.connect('https://openeo.dataspace.copernicus.eu/')"
   ]
  },
  {
   "cell_type": "markdown",
   "id": "0ed52c6b-9279-4563-8b1d-b51b8bdf8d63",
   "metadata": {},
   "source": [
    "And login. Being logged in allows to use the full range of functionality including processing!"
   ]
  },
  {
   "cell_type": "code",
   "execution_count": 4,
   "id": "bc9dbe7a-ff09-439c-9aef-4004fed80820",
   "metadata": {
    "tags": []
   },
   "outputs": [
    {
     "name": "stdout",
     "output_type": "stream",
     "text": [
      "Authenticated using refresh token.\n"
     ]
    },
    {
     "data": {
      "text/plain": [
       "<Connection to 'https://openeo.dataspace.copernicus.eu/openeo/1.2/' with OidcBearerAuth>"
      ]
     },
     "execution_count": 4,
     "metadata": {},
     "output_type": "execute_result"
    }
   ],
   "source": [
    "conn.authenticate_oidc()"
   ]
  },
  {
   "cell_type": "markdown",
   "id": "d8bfd388-c854-49f1-88b7-4879d5f5c2e1",
   "metadata": {},
   "source": [
    "Check if the login worked."
   ]
  },
  {
   "cell_type": "code",
   "execution_count": null,
   "id": "49e8aa86-c476-413c-a186-6f8df29b7429",
   "metadata": {
    "tags": []
   },
   "outputs": [],
   "source": [
    "conn.describe_account()"
   ]
  },
  {
   "cell_type": "markdown",
   "id": "1e95d456-a831-4cca-ab1f-5a2ec8805291",
   "metadata": {},
   "source": [
    "## Region of Interest"
   ]
  },
  {
   "cell_type": "markdown",
   "id": "3a324185-d64a-4e69-9601-8f63af0805ac",
   "metadata": {},
   "source": [
    "Our region of interest is the XXX catchment in the South Tyrolian Alps (Italy). Let's load the catchment area."
   ]
  },
  {
   "cell_type": "code",
   "execution_count": 6,
   "id": "b1679451-2868-4109-ab17-38532a8033e3",
   "metadata": {
    "tags": []
   },
   "outputs": [],
   "source": [
    "catchment_outline = gpd.read_file('data/catchment_outline.geojson')"
   ]
  },
  {
   "cell_type": "code",
   "execution_count": 7,
   "id": "3cd3057b-39f8-4644-886d-bdbad43c6cb5",
   "metadata": {
    "tags": []
   },
   "outputs": [
    {
     "data": {
      "text/html": [
       "<iframe srcdoc=\"&lt;!DOCTYPE html&gt;\n",
       "&lt;html&gt;\n",
       "&lt;head&gt;\n",
       "    \n",
       "    &lt;meta http-equiv=&quot;content-type&quot; content=&quot;text/html; charset=UTF-8&quot; /&gt;\n",
       "    \n",
       "        &lt;script&gt;\n",
       "            L_NO_TOUCH = false;\n",
       "            L_DISABLE_3D = false;\n",
       "        &lt;/script&gt;\n",
       "    \n",
       "    &lt;style&gt;html, body {width: 100%;height: 100%;margin: 0;padding: 0;}&lt;/style&gt;\n",
       "    &lt;style&gt;#map {position:absolute;top:0;bottom:0;right:0;left:0;}&lt;/style&gt;\n",
       "    &lt;script src=&quot;https://cdn.jsdelivr.net/npm/leaflet@1.9.3/dist/leaflet.js&quot;&gt;&lt;/script&gt;\n",
       "    &lt;script src=&quot;https://code.jquery.com/jquery-1.12.4.min.js&quot;&gt;&lt;/script&gt;\n",
       "    &lt;script src=&quot;https://cdn.jsdelivr.net/npm/bootstrap@5.2.2/dist/js/bootstrap.bundle.min.js&quot;&gt;&lt;/script&gt;\n",
       "    &lt;script src=&quot;https://cdnjs.cloudflare.com/ajax/libs/Leaflet.awesome-markers/2.0.2/leaflet.awesome-markers.js&quot;&gt;&lt;/script&gt;\n",
       "    &lt;link rel=&quot;stylesheet&quot; href=&quot;https://cdn.jsdelivr.net/npm/leaflet@1.9.3/dist/leaflet.css&quot;/&gt;\n",
       "    &lt;link rel=&quot;stylesheet&quot; href=&quot;https://cdn.jsdelivr.net/npm/bootstrap@5.2.2/dist/css/bootstrap.min.css&quot;/&gt;\n",
       "    &lt;link rel=&quot;stylesheet&quot; href=&quot;https://netdna.bootstrapcdn.com/bootstrap/3.0.0/css/bootstrap.min.css&quot;/&gt;\n",
       "    &lt;link rel=&quot;stylesheet&quot; href=&quot;https://cdn.jsdelivr.net/npm/@fortawesome/fontawesome-free@6.2.0/css/all.min.css&quot;/&gt;\n",
       "    &lt;link rel=&quot;stylesheet&quot; href=&quot;https://cdnjs.cloudflare.com/ajax/libs/Leaflet.awesome-markers/2.0.2/leaflet.awesome-markers.css&quot;/&gt;\n",
       "    &lt;link rel=&quot;stylesheet&quot; href=&quot;https://cdn.jsdelivr.net/gh/python-visualization/folium/folium/templates/leaflet.awesome.rotate.min.css&quot;/&gt;\n",
       "    \n",
       "            &lt;meta name=&quot;viewport&quot; content=&quot;width=device-width,\n",
       "                initial-scale=1.0, maximum-scale=1.0, user-scalable=no&quot; /&gt;\n",
       "            &lt;style&gt;\n",
       "                #map_216f4614e7dafaffd4999cd6f1cb611c {\n",
       "                    position: relative;\n",
       "                    width: 100.0%;\n",
       "                    height: 100.0%;\n",
       "                    left: 0.0%;\n",
       "                    top: 0.0%;\n",
       "                }\n",
       "                .leaflet-container { font-size: 1rem; }\n",
       "            &lt;/style&gt;\n",
       "        \n",
       "    &lt;script src=&quot;https://cdnjs.cloudflare.com/ajax/libs/leaflet.fullscreen/1.4.2/Control.FullScreen.min.js&quot;&gt;&lt;/script&gt;\n",
       "    &lt;link rel=&quot;stylesheet&quot; href=&quot;https://cdnjs.cloudflare.com/ajax/libs/leaflet.fullscreen/1.4.2/Control.FullScreen.min.css&quot;/&gt;\n",
       "    &lt;script src=&quot;https://cdnjs.cloudflare.com/ajax/libs/leaflet.draw/1.0.2/leaflet.draw.js&quot;&gt;&lt;/script&gt;\n",
       "    &lt;link rel=&quot;stylesheet&quot; href=&quot;https://cdnjs.cloudflare.com/ajax/libs/leaflet.draw/1.0.2/leaflet.draw.css&quot;/&gt;\n",
       "    &lt;script src=&quot;https://cdn.jsdelivr.net/gh/ljagis/leaflet-measure@2.1.7/dist/leaflet-measure.min.js&quot;&gt;&lt;/script&gt;\n",
       "    &lt;link rel=&quot;stylesheet&quot; href=&quot;https://cdn.jsdelivr.net/gh/ljagis/leaflet-measure@2.1.7/dist/leaflet-measure.min.css&quot;/&gt;\n",
       "    &lt;script src=&quot;https://unpkg.com/leaflet-control-geocoder/dist/Control.Geocoder.js&quot;&gt;&lt;/script&gt;\n",
       "    &lt;link rel=&quot;stylesheet&quot; href=&quot;https://unpkg.com/leaflet-control-geocoder/dist/Control.Geocoder.css&quot;/&gt;\n",
       "    \n",
       "                    &lt;style&gt;\n",
       "                        .foliumtooltip {\n",
       "                            \n",
       "                        }\n",
       "                       .foliumtooltip table{\n",
       "                            margin: auto;\n",
       "                        }\n",
       "                        .foliumtooltip tr{\n",
       "                            text-align: left;\n",
       "                        }\n",
       "                        .foliumtooltip th{\n",
       "                            padding: 2px; padding-right: 8px;\n",
       "                        }\n",
       "                    &lt;/style&gt;\n",
       "            \n",
       "&lt;/head&gt;\n",
       "&lt;body&gt;\n",
       "    \n",
       "    \n",
       "            &lt;div class=&quot;folium-map&quot; id=&quot;map_216f4614e7dafaffd4999cd6f1cb611c&quot; &gt;&lt;/div&gt;\n",
       "        \n",
       "&lt;/body&gt;\n",
       "&lt;script&gt;\n",
       "    \n",
       "    \n",
       "            var map_216f4614e7dafaffd4999cd6f1cb611c = L.map(\n",
       "                &quot;map_216f4614e7dafaffd4999cd6f1cb611c&quot;,\n",
       "                {\n",
       "                    center: [46.79856263096177, 11.177346530561929],\n",
       "                    crs: L.CRS.EPSG3857,\n",
       "                    zoom: 10,\n",
       "                    zoomControl: true,\n",
       "                    preferCanvas: false,\n",
       "                    drawExport: false,\n",
       "                    layersControl: true,\n",
       "                }\n",
       "            );\n",
       "            L.control.scale().addTo(map_216f4614e7dafaffd4999cd6f1cb611c);\n",
       "\n",
       "            \n",
       "\n",
       "        \n",
       "    \n",
       "            var tile_layer_3d260dd46261916d4c8fe0dcda1ad45a = L.tileLayer(\n",
       "                &quot;https://{s}.tile.openstreetmap.org/{z}/{x}/{y}.png&quot;,\n",
       "                {&quot;attribution&quot;: &quot;Data by \\u0026copy; \\u003ca target=\\&quot;_blank\\&quot; href=\\&quot;http://openstreetmap.org\\&quot;\\u003eOpenStreetMap\\u003c/a\\u003e, under \\u003ca target=\\&quot;_blank\\&quot; href=\\&quot;http://www.openstreetmap.org/copyright\\&quot;\\u003eODbL\\u003c/a\\u003e.&quot;, &quot;detectRetina&quot;: false, &quot;maxNativeZoom&quot;: 24, &quot;maxZoom&quot;: 24, &quot;minZoom&quot;: 0, &quot;noWrap&quot;: false, &quot;opacity&quot;: 1, &quot;subdomains&quot;: &quot;abc&quot;, &quot;tms&quot;: false}\n",
       "            ).addTo(map_216f4614e7dafaffd4999cd6f1cb611c);\n",
       "        \n",
       "    \n",
       "            L.control.fullscreen(\n",
       "                {&quot;forceSeparateButton&quot;: false, &quot;position&quot;: &quot;topleft&quot;, &quot;title&quot;: &quot;Full Screen&quot;, &quot;titleCancel&quot;: &quot;Exit Full Screen&quot;}\n",
       "            ).addTo(map_216f4614e7dafaffd4999cd6f1cb611c);\n",
       "        \n",
       "    \n",
       "            var options = {\n",
       "              position: &quot;topleft&quot;,\n",
       "              draw: {},\n",
       "              edit: {},\n",
       "            }\n",
       "            // FeatureGroup is to store editable layers.\n",
       "            var drawnItems = new L.featureGroup().addTo(\n",
       "                map_216f4614e7dafaffd4999cd6f1cb611c\n",
       "            );\n",
       "            options.edit.featureGroup = drawnItems;\n",
       "            var draw_control_9a3314f728aa6d3d020b38267f744eaf = new L.Control.Draw(\n",
       "                options\n",
       "            ).addTo( map_216f4614e7dafaffd4999cd6f1cb611c );\n",
       "            map_216f4614e7dafaffd4999cd6f1cb611c.on(L.Draw.Event.CREATED, function(e) {\n",
       "                var layer = e.layer,\n",
       "                    type = e.layerType;\n",
       "                var coords = JSON.stringify(layer.toGeoJSON());\n",
       "                layer.on(&#x27;click&#x27;, function() {\n",
       "                    alert(coords);\n",
       "                    console.log(coords);\n",
       "                });\n",
       "                drawnItems.addLayer(layer);\n",
       "             });\n",
       "            map_216f4614e7dafaffd4999cd6f1cb611c.on(&#x27;draw:created&#x27;, function(e) {\n",
       "                drawnItems.addLayer(e.layer);\n",
       "            });\n",
       "            \n",
       "        \n",
       "    \n",
       "            var measure_control_95808a8ab7ace72d5491b83d8bf8dade = new L.Control.Measure(\n",
       "                {&quot;position&quot;: &quot;bottomleft&quot;, &quot;primaryAreaUnit&quot;: &quot;sqmeters&quot;, &quot;primaryLengthUnit&quot;: &quot;meters&quot;, &quot;secondaryAreaUnit&quot;: &quot;acres&quot;, &quot;secondaryLengthUnit&quot;: &quot;miles&quot;});\n",
       "            map_216f4614e7dafaffd4999cd6f1cb611c.addControl(measure_control_95808a8ab7ace72d5491b83d8bf8dade);\n",
       "\n",
       "        \n",
       "    \n",
       "            L.Control.geocoder(\n",
       "                {&quot;collapsed&quot;: true, &quot;defaultMarkGeocode&quot;: true, &quot;position&quot;: &quot;topleft&quot;}\n",
       "            ).on(&#x27;markgeocode&#x27;, function(e) {\n",
       "                map_216f4614e7dafaffd4999cd6f1cb611c.setView(e.geocode.center, 11);\n",
       "            }).addTo(map_216f4614e7dafaffd4999cd6f1cb611c);\n",
       "\n",
       "        \n",
       "    \n",
       "            map_216f4614e7dafaffd4999cd6f1cb611c.fitBounds(\n",
       "                [[46.79856263096177, 11.177346530561929], [46.79856263096177, 11.177346530561929]],\n",
       "                {&quot;maxZoom&quot;: 10}\n",
       "            );\n",
       "        \n",
       "    \n",
       "        function geo_json_6a815b894b9e48faeb06ff1a2a1bbb57_styler(feature) {\n",
       "            switch(feature.properties.HYBAS_ID) {\n",
       "                default:\n",
       "                    return {&quot;color&quot;: &quot;#3388ff&quot;, &quot;fillOpacity&quot;: 0, &quot;opacity&quot;: 1, &quot;weight&quot;: 2};\n",
       "            }\n",
       "        }\n",
       "        function geo_json_6a815b894b9e48faeb06ff1a2a1bbb57_highlighter(feature) {\n",
       "            switch(feature.properties.HYBAS_ID) {\n",
       "                default:\n",
       "                    return {&quot;fillOpacity&quot;: 0, &quot;weight&quot;: 4};\n",
       "            }\n",
       "        }\n",
       "\n",
       "        function geo_json_6a815b894b9e48faeb06ff1a2a1bbb57_onEachFeature(feature, layer) {\n",
       "            layer.on({\n",
       "                mouseout: function(e) {\n",
       "                    if(typeof e.target.setStyle === &quot;function&quot;){\n",
       "                        geo_json_6a815b894b9e48faeb06ff1a2a1bbb57.resetStyle(e.target);\n",
       "                    }\n",
       "                },\n",
       "                mouseover: function(e) {\n",
       "                    if(typeof e.target.setStyle === &quot;function&quot;){\n",
       "                        const highlightStyle = geo_json_6a815b894b9e48faeb06ff1a2a1bbb57_highlighter(e.target.feature)\n",
       "                        e.target.setStyle(highlightStyle);\n",
       "                    }\n",
       "                },\n",
       "            });\n",
       "        };\n",
       "        var geo_json_6a815b894b9e48faeb06ff1a2a1bbb57 = L.geoJson(null, {\n",
       "                onEachFeature: geo_json_6a815b894b9e48faeb06ff1a2a1bbb57_onEachFeature,\n",
       "            \n",
       "                style: geo_json_6a815b894b9e48faeb06ff1a2a1bbb57_styler,\n",
       "        });\n",
       "\n",
       "        function geo_json_6a815b894b9e48faeb06ff1a2a1bbb57_add (data) {\n",
       "            geo_json_6a815b894b9e48faeb06ff1a2a1bbb57\n",
       "                .addData(data)\n",
       "                .addTo(map_216f4614e7dafaffd4999cd6f1cb611c);\n",
       "        }\n",
       "            geo_json_6a815b894b9e48faeb06ff1a2a1bbb57_add({&quot;crs&quot;: {&quot;properties&quot;: {&quot;name&quot;: &quot;urn:ogc:def:crs:OGC:1.3:CRS84&quot;}, &quot;type&quot;: &quot;name&quot;}, &quot;features&quot;: [{&quot;geometry&quot;: {&quot;coordinates&quot;: [[[11.075, 46.72916666666669], [11.072575547960094, 46.728813340928845], [11.069091118706622, 46.72535332573787], [11.048285590277802, 46.724646674262175], [11.042024739583358, 46.73087632921009], [11.041666666666691, 46.733333333333356], [11.038123575846377, 46.73424241807728], [11.0375, 46.74583333333336], [11.03664923773874, 46.74914923773874], [11.030017428927975, 46.75085076226131], [11.028599378797768, 46.756377156575546], [11.025567287868947, 46.76028951009117], [11.0244327121311, 46.76471048990888], [11.02140062120228, 46.7686228434245], [11.020833333333357, 46.77083333333336], [11.024291653103322, 46.77172071668839], [11.025567287868947, 46.781377156575545], [11.032766045464435, 46.78945617675784], [11.033900621202282, 46.79387715657555], [11.036932712131101, 46.79778951009117], [11.038067287868948, 46.80221048990888], [11.042586263020858, 46.80762905544707], [11.052210489908878, 46.808900621202284], [11.06028951009117, 46.816099378797766], [11.06471048990888, 46.81723395453562], [11.068622843424503, 46.820266045464436], [11.073043823242212, 46.82140062120228], [11.077974107530407, 46.82522176106773], [11.079733954535614, 46.83010389539933], [11.071295166015648, 46.83957451714412], [11.0744327121311, 46.843622843424505], [11.075567287868948, 46.846579996744815], [11.071400621202281, 46.85195617675784], [11.070266045464434, 46.859321424696205], [11.082766045464435, 46.872789510091174], [11.084041680230058, 46.882445949978326], [11.089710489908878, 46.88390062120228], [11.09995964898006, 46.89319695366756], [11.096400621202282, 46.89778951009117], [11.095266045464435, 46.91343722873266], [11.103599378797767, 46.92278951009117], [11.104166666666691, 46.929166666666696], [11.114924452039954, 46.92951999240454], [11.11875, 46.9333187527127], [11.12328694661461, 46.92881334092885], [11.139924452039956, 46.92951999240454], [11.143408881293428, 46.93298000759551], [11.148288302951414, 46.933691067165825], [11.157980007595512, 46.94340888129343], [11.158691406250025, 46.948290337456626], [11.16424221462676, 46.953813340928846], [11.166666666666693, 46.954166666666694], [11.167024739583358, 46.95170966254343], [11.172575547960095, 46.94618665907121], [11.177424452039956, 46.94548000759551], [11.180908881293428, 46.94201999240454], [11.185757785373289, 46.94131334092884], [11.189242214626761, 46.937853325737876], [11.194123670789956, 46.93714192708336], [11.199646674262178, 46.93159111870662], [11.200353325737872, 46.9100755479601], [11.204519992404538, 46.90587972005211], [11.203813340928845, 46.901742214626765], [11.199646674262178, 46.89754638671877], [11.200353325737872, 46.89340888129343], [11.203813340928845, 46.889924452039956], [11.204519992404538, 46.8850755479601], [11.21248609754777, 46.877084011501765], [11.208686659071207, 46.87325778537329], [11.208333333333359, 46.85833333333336], [11.210543823242213, 46.85776604546444], [11.214456176757839, 46.85473395453562], [11.231377156575547, 46.85359937879777], [11.239456176757837, 46.846400621202285], [11.260543823242212, 46.845266045464435], [11.26458333333336, 46.84213528103301], [11.26875, 46.84536471896704], [11.272789510091172, 46.842233954535615], [11.323043823242214, 46.84109937879777], [11.331122843424506, 46.83390062120228], [11.343877156575548, 46.83276604546444], [11.347789510091172, 46.82973395453561], [11.35331590440541, 46.82831590440541], [11.354733954535616, 46.82278951009117], [11.357766045464437, 46.818877156575546], [11.358900621202284, 46.81445617675784], [11.36609937879777, 46.80637715657554], [11.366666666666694, 46.80416666666669], [11.365779283311658, 46.80070834689673], [11.356122843424506, 46.7994327121311], [11.35208333333336, 46.796301947699675], [11.347916666666693, 46.799531385633706], [11.343877156575548, 46.79640062120228], [11.339456176757839, 46.79526604546444], [11.335543823242213, 46.79223395453562], [11.321806165907145, 46.79101189507381], [11.31306728786895, 46.781377156575545], [11.311932712131103, 46.776956176757835], [11.304733954535617, 46.76887715657555], [11.30359937879777, 46.76445617675784], [11.30056728786895, 46.760543823242216], [11.299149237738742, 46.75501742892798], [11.293622843424505, 46.753599378797766], [11.289710489908881, 46.75056728786895], [11.279166666666693, 46.75], [11.278813340928846, 46.73924221462676], [11.27464667426218, 46.73504638671878], [11.275353325737873, 46.73090888129343], [11.283319430881102, 46.722917344835096], [11.27951999240454, 46.71909111870662], [11.278813340928846, 46.705908881293425], [11.275353325737873, 46.702424452039956], [11.275, 46.7], [11.274032253689262, 46.69622938368058], [11.267413330078151, 46.691099378797766], [11.260289510091171, 46.69223395453562], [11.25491333007815, 46.69640062120228], [11.251956176757838, 46.695266045464436], [11.248043823242213, 46.69223395453562], [11.239456176757837, 46.691099378797766], [11.235543823242214, 46.68806728786895], [11.218622843424505, 46.6869327121311], [11.21471048990888, 46.683900621202284], [11.197789510091171, 46.68276604546443], [11.193877156575546, 46.679733954535614], [11.184220716688394, 46.67845831976999], [11.182413736979193, 46.671416219075546], [11.173043823242214, 46.66306728786895], [11.168622843424505, 46.6619327121311], [11.159270562065997, 46.653599378797765], [11.154985215928845, 46.655143907335095], [11.154166666666692, 46.65833333333336], [11.15085076226131, 46.65918409559464], [11.15, 46.6625], [11.150353325737871, 46.66909111870662], [11.155876329210095, 46.67464192708336], [11.160757785373288, 46.67535332573787], [11.166668023003497, 46.68123406304256], [11.162853325737872, 46.685075547960096], [11.162146674262178, 46.68992445203995], [11.15451999240454, 46.69757554796009], [11.153813340928846, 46.702424452039956], [11.148290337456622, 46.70797526041669], [11.143408881293428, 46.708686659071205], [11.139924452039956, 46.71214667426218], [11.122575547960095, 46.712853325737875], [11.119091118706622, 46.71631334092884], [11.11424221462676, 46.71701999240454], [11.110757785373288, 46.72048000759551], [11.10174221462676, 46.72118665907121], [11.098257785373288, 46.724646674262175], [11.085075547960095, 46.72535332573787], [11.081591118706623, 46.728813340928845], [11.075, 46.72916666666669]]], &quot;type&quot;: &quot;Polygon&quot;}, &quot;properties&quot;: {&quot;COAST&quot;: 0, &quot;DIST_MAIN&quot;: 334.5, &quot;DIST_SINK&quot;: 334.5, &quot;ENDO&quot;: 0, &quot;HYBAS_ID&quot;: 2090516090, &quot;MAIN_BAS&quot;: 2090012980, &quot;NEXT_DOWN&quot;: 2090516950, &quot;NEXT_SINK&quot;: 2090012980, &quot;ORDER&quot;: 3, &quot;PFAF_ID&quot;: 214040804, &quot;SORT&quot;: 10988, &quot;SUB_AREA&quot;: 419.1, &quot;UP_AREA&quot;: 419.2}, &quot;type&quot;: &quot;Feature&quot;}], &quot;type&quot;: &quot;FeatureCollection&quot;});\n",
       "\n",
       "        \n",
       "    \n",
       "    geo_json_6a815b894b9e48faeb06ff1a2a1bbb57.bindTooltip(\n",
       "    function(layer){\n",
       "    let div = L.DomUtil.create(&#x27;div&#x27;);\n",
       "    \n",
       "    let handleObject = feature=&gt;typeof(feature)==&#x27;object&#x27; ? JSON.stringify(feature) : feature;\n",
       "    let fields = [&quot;HYBAS_ID&quot;, &quot;NEXT_DOWN&quot;, &quot;NEXT_SINK&quot;, &quot;MAIN_BAS&quot;, &quot;DIST_SINK&quot;, &quot;DIST_MAIN&quot;, &quot;SUB_AREA&quot;, &quot;UP_AREA&quot;, &quot;PFAF_ID&quot;, &quot;ENDO&quot;, &quot;COAST&quot;, &quot;ORDER&quot;, &quot;SORT&quot;];\n",
       "    let aliases = [&quot;HYBAS_ID&quot;, &quot;NEXT_DOWN&quot;, &quot;NEXT_SINK&quot;, &quot;MAIN_BAS&quot;, &quot;DIST_SINK&quot;, &quot;DIST_MAIN&quot;, &quot;SUB_AREA&quot;, &quot;UP_AREA&quot;, &quot;PFAF_ID&quot;, &quot;ENDO&quot;, &quot;COAST&quot;, &quot;ORDER&quot;, &quot;SORT&quot;];\n",
       "    let table = &#x27;&lt;table&gt;&#x27; +\n",
       "        String(\n",
       "        fields.map(\n",
       "        (v,i)=&gt;\n",
       "        `&lt;tr&gt;\n",
       "            &lt;th&gt;${aliases[i]}&lt;/th&gt;\n",
       "            \n",
       "            &lt;td&gt;${handleObject(layer.feature.properties[v])}&lt;/td&gt;\n",
       "        &lt;/tr&gt;`).join(&#x27;&#x27;))\n",
       "    +&#x27;&lt;/table&gt;&#x27;;\n",
       "    div.innerHTML=table;\n",
       "    \n",
       "    return div\n",
       "    }\n",
       "    ,{&quot;className&quot;: &quot;foliumtooltip&quot;, &quot;sticky&quot;: true});\n",
       "                     \n",
       "    \n",
       "            map_216f4614e7dafaffd4999cd6f1cb611c.fitBounds(\n",
       "                [[46.653599378797765, 11.020833333333357], [46.954166666666694, 11.366666666666694]],\n",
       "                {}\n",
       "            );\n",
       "        \n",
       "    \n",
       "            var layer_control_3fb52710635ce361ab5f6a3177fe8799 = {\n",
       "                base_layers : {\n",
       "                    &quot;openstreetmap&quot; : tile_layer_3d260dd46261916d4c8fe0dcda1ad45a,\n",
       "                },\n",
       "                overlays :  {\n",
       "                    &quot;catchment&quot; : geo_json_6a815b894b9e48faeb06ff1a2a1bbb57,\n",
       "                },\n",
       "            };\n",
       "            L.control.layers(\n",
       "                layer_control_3fb52710635ce361ab5f6a3177fe8799.base_layers,\n",
       "                layer_control_3fb52710635ce361ab5f6a3177fe8799.overlays,\n",
       "                {&quot;autoZIndex&quot;: true, &quot;collapsed&quot;: true, &quot;position&quot;: &quot;topright&quot;}\n",
       "            ).addTo(map_216f4614e7dafaffd4999cd6f1cb611c);\n",
       "        \n",
       "&lt;/script&gt;\n",
       "&lt;/html&gt;\" width=\"100%\" height=\"600\"style=\"border:none !important;\" \"allowfullscreen\" \"webkitallowfullscreen\" \"mozallowfullscreen\"></iframe>"
      ],
      "text/plain": [
       "<leafmap.foliumap.Map at 0x7fa2d6dcd990>"
      ]
     },
     "execution_count": 7,
     "metadata": {},
     "output_type": "execute_result"
    }
   ],
   "source": [
    "center = (float(catchment_outline.centroid.y), float(catchment_outline.centroid.x))\n",
    "m = leafmap.Map(center=center, zoom=10)\n",
    "m.add_vector('data/catchment_outline.geojson', layer_name=\"catchment\")\n",
    "m"
   ]
  },
  {
   "cell_type": "markdown",
   "id": "284cd7b6-e646-4950-b747-4e1a734f148b",
   "metadata": {},
   "source": [
    "## Inspect Metadata\n",
    "We need to set the following configurations to define the content of the data cube we want to access:\n",
    "- dataset name\n",
    "- band names\n",
    "- time range\n",
    "- the area of interest specifed via bounding box coordinates\n",
    "- spatial resolution\n",
    "\n",
    "To select the correct dataset we can first list all the available datasets."
   ]
  },
  {
   "cell_type": "code",
   "execution_count": 8,
   "id": "7a3592c5-f078-48c0-b039-270fe99f48d6",
   "metadata": {
    "tags": []
   },
   "outputs": [
    {
     "name": "stdout",
     "output_type": "stream",
     "text": [
      "['SENTINEL3_OLCI_L1B', 'SENTINEL3_SLSTR', 'SENTINEL_5P_L2', 'SENTINEL2_L1C', 'SENTINEL2_L2A', 'SENTINEL1_GRD', 'COPERNICUS_30', 'LANDSAT8_L2']\n"
     ]
    }
   ],
   "source": [
    "print(conn.list_collection_ids())"
   ]
  },
  {
   "cell_type": "markdown",
   "id": "958ff432-b8cb-45b5-b6c4-68c1e0f92640",
   "metadata": {},
   "source": [
    "We want to use the Sentinel-2 L2A product. It's name is `'SENTINEL2_L2A'`. \n",
    "\n",
    "We get the metadata for this collection as follows. This is an important step to familiarize yourself with the data collection (e.g. learn the band names)."
   ]
  },
  {
   "cell_type": "code",
   "execution_count": 9,
   "id": "7bf6babb-457b-4a09-81d5-092b92c32d5d",
   "metadata": {
    "tags": []
   },
   "outputs": [
    {
     "data": {
      "text/html": [
       "\n",
       "    <script>\n",
       "    if (!window.customElements || !window.customElements.get('openeo-collection')) {\n",
       "        var el = document.createElement('script');\n",
       "        el.src = \"https://cdn.jsdelivr.net/npm/@openeo/vue-components@2/assets/openeo.min.js\";\n",
       "        document.head.appendChild(el);\n",
       "\n",
       "        var font = document.createElement('font');\n",
       "        font.as = \"font\";\n",
       "        font.type = \"font/woff2\";\n",
       "        font.crossOrigin = true;\n",
       "        font.href = \"https://use.fontawesome.com/releases/v5.13.0/webfonts/fa-solid-900.woff2\"\n",
       "        document.head.appendChild(font);\n",
       "    }\n",
       "    </script>\n",
       "    <openeo-collection>\n",
       "        <script type=\"application/json\">{\"mapOptions\": {}, \"data\": {\"assets\": {\"thumbnail\": {\"href\": \"https://www.esa.int/var/esa/storage/images/esa_multimedia/images/2022/07/tallinn_estonia/24383281-1-eng-GB/Tallinn_Estonia_pillars.jpg\", \"roles\": [\"thumbnail\"], \"title\": \"Sentinel 2 L2A\", \"type\": \"image/png\"}}, \"cube:dimensions\": {\"bands\": {\"type\": \"bands\", \"values\": [\"B01\", \"B02\", \"B03\", \"B04\", \"B05\", \"B06\", \"B07\", \"B08\", \"B8A\", \"B09\", \"B11\", \"B12\", \"WVP\", \"AOT\", \"SCL\", \"sunAzimuthAngles\", \"sunZenithAngles\", \"viewAzimuthMean\", \"viewZenithMean\"]}, \"t\": {\"extent\": [\"2015-07-04T00:00:00Z\", null], \"type\": \"temporal\"}, \"x\": {\"axis\": \"x\", \"extent\": [-180, 180], \"reference_system\": {\"$schema\": \"https://proj.org/schemas/v0.2/projjson.schema.json\", \"area\": \"World\", \"bbox\": {\"east_longitude\": 180, \"north_latitude\": 90, \"south_latitude\": -90, \"west_longitude\": -180}, \"coordinate_system\": {\"axis\": [{\"abbreviation\": \"Lat\", \"direction\": \"north\", \"name\": \"Geodetic latitude\", \"unit\": \"degree\"}, {\"abbreviation\": \"Lon\", \"direction\": \"east\", \"name\": \"Geodetic longitude\", \"unit\": \"degree\"}], \"subtype\": \"ellipsoidal\"}, \"datum\": {\"ellipsoid\": {\"inverse_flattening\": 298.257223563, \"name\": \"WGS 84\", \"semi_major_axis\": 6378137}, \"name\": \"World Geodetic System 1984\", \"type\": \"GeodeticReferenceFrame\"}, \"id\": {\"authority\": \"OGC\", \"code\": \"Auto42001\", \"version\": \"1.3\"}, \"name\": \"AUTO 42001 (Universal Transverse Mercator)\", \"type\": \"GeodeticCRS\"}, \"step\": 10, \"type\": \"spatial\"}, \"y\": {\"axis\": \"y\", \"extent\": [-56, 83], \"reference_system\": {\"$schema\": \"https://proj.org/schemas/v0.2/projjson.schema.json\", \"area\": \"World\", \"bbox\": {\"east_longitude\": 180, \"north_latitude\": 90, \"south_latitude\": -90, \"west_longitude\": -180}, \"coordinate_system\": {\"axis\": [{\"abbreviation\": \"Lat\", \"direction\": \"north\", \"name\": \"Geodetic latitude\", \"unit\": \"degree\"}, {\"abbreviation\": \"Lon\", \"direction\": \"east\", \"name\": \"Geodetic longitude\", \"unit\": \"degree\"}], \"subtype\": \"ellipsoidal\"}, \"datum\": {\"ellipsoid\": {\"inverse_flattening\": 298.257223563, \"name\": \"WGS 84\", \"semi_major_axis\": 6378137}, \"name\": \"World Geodetic System 1984\", \"type\": \"GeodeticReferenceFrame\"}, \"id\": {\"authority\": \"OGC\", \"code\": \"Auto42001\", \"version\": \"1.3\"}, \"name\": \"AUTO 42001 (Universal Transverse Mercator)\", \"type\": \"GeodeticCRS\"}, \"step\": 10, \"type\": \"spatial\"}}, \"description\": \"SENTINEL-2 is a wide-swath, high-resolution, multi-spectral imaging mission, supporting Copernicus Land Monitoring studies, including the monitoring of vegetation, soil and water cover, as well as observation of inland waterways and coastal areas. The SENTINEL-2 Multispectral Instrument (MSI) samples 13 spectral bands: four bands at 10 metres, six bands at 20 metres and three bands at 60 metres spatial resolution.\\n The level 2A data is atmospherically corrected using Sen2Cor.\", \"extent\": {\"spatial\": {\"bbox\": [[-180, -56, 180, 83]]}, \"temporal\": {\"interval\": [[\"2015-07-04T00:00:00Z\", null]]}}, \"id\": \"SENTINEL2_L2A\", \"keywords\": [\"COPERNICUS\", \"ESA\", \"Orthoimagery\", \"Sentinel-2\", \"MSI\", \"Level-2A\", \"Radiometry\", \"Plant Resource\", \"TOC\"], \"license\": \"proprietary\", \"links\": [{\"href\": \"https://sentinels.copernicus.eu/documents/247904/690755/Sentinel_Data_Legal_Notice\", \"rel\": \"license\", \"type\": \"application/pdf\"}, {\"href\": \"https://documentation.dataspace.copernicus.eu/Data/Sentinel2.html\", \"rel\": \"alternate\", \"type\": \"application/html\"}, {\"href\": \"https://dataspace.copernicus.eu/browser/?zoom=11&lat=45.36638&lng=12.49832&themeId=DEFAULT-THEME&visualizationUrl=https%3A%2F%2Fsh.dataspace.copernicus.eu%2Fogc%2Fwms%2F28b654e7-8912-4e59-9e58-85b58d768b3a&datasetId=S2_L2A_CDAS&fromTime=2023-02-07T00%3A00%3A00.000Z&toTime=2023-02-07T23%3A59%3A59.999Z&layerId=1_TRUE_COLOR&demSource3D=%22MAPZEN%22&cloudCoverage=10\", \"rel\": \"browser\", \"title\": \"CDSE Data-Browser\"}, {\"href\": \"https://catalogue.dataspace.copernicus.eu/resto/api/collections/Sentinel2/search.json?cloudCover=[0,10]&productType=S2MSI2A&startDate=2022-06-11&completionDate=2022-06-22&maxRecords=10\", \"rel\": \"opensearch\", \"title\": \"Opensearch product query\"}, {\"href\": \"https://sentinels.copernicus.eu/web/sentinel/user-guides/sentinel-2-msi/product-types/level-2a\", \"rel\": \"about\", \"title\": \"User guide\"}, {\"href\": \"https://services.sentinel-hub.com/ogc/wmts/7d34803f-511c-4caf-9438-6d72f32c8174\", \"rel\": \"wmts\", \"title\": \"Web Map Tile Service\", \"wmts:dimensions\": {\"warnings\": true}, \"wmts:layer\": \"TRUE-COLOR\"}, {\"href\": \"https://openeo.dataspace.copernicus.eu/openeo/1.2/collections\", \"rel\": \"root\"}, {\"href\": \"https://openeo.dataspace.copernicus.eu/openeo/1.2/collections\", \"rel\": \"parent\"}, {\"href\": \"https://openeo.dataspace.copernicus.eu/openeo/1.2/collections/SENTINEL2_L2A\", \"rel\": \"self\"}], \"mission\": \"Sentinel-2\", \"name\": \"SENTINEL2_L2A\", \"providers\": [{\"name\": \"ESA\", \"roles\": [\"producer\"], \"url\": \"https://esa.int/\"}, {\"name\": \"CDSE\", \"roles\": [\"processor\", \"host\"], \"url\": \"https://dataspace.copernicus.eu/\"}], \"stac_extensions\": [\"https://stac-extensions.github.io/datacube/v2.2.0/schema.json\", \"https://stac-extensions.github.io/eo/v1.1.0/schema.json\"], \"stac_version\": \"0.9.0\", \"summaries\": {\"constellation\": [\"sentinel-2\"], \"eo:bands\": [{\"aliases\": [\"IMG_DATA_Band_B01_60m_Tile1_Data\"], \"center_wavelength\": 0.4427, \"common_name\": \"coastal\", \"full_width_half_max\": 0.021, \"gsd\": 60, \"name\": \"B01\", \"offset\": 0, \"scale\": 0.0001, \"type\": \"int16\", \"unit\": \"1\"}, {\"aliases\": [\"IMG_DATA_Band_B02_10m_Tile1_Data\"], \"center_wavelength\": 0.4924, \"common_name\": \"blue\", \"full_width_half_max\": 0.066, \"gsd\": 10, \"name\": \"B02\", \"offset\": 0, \"scale\": 0.0001, \"type\": \"int16\", \"unit\": \"1\"}, {\"aliases\": [\"IMG_DATA_Band_B03_10m_Tile1_Data\"], \"center_wavelength\": 0.5598, \"common_name\": \"green\", \"full_width_half_max\": 0.036, \"gsd\": 10, \"name\": \"B03\", \"offset\": 0, \"scale\": 0.0001, \"type\": \"int16\", \"unit\": \"1\"}, {\"aliases\": [\"IMG_DATA_Band_B04_10m_Tile1_Data\"], \"center_wavelength\": 0.6646, \"common_name\": \"red\", \"full_width_half_max\": 0.031, \"gsd\": 10, \"name\": \"B04\", \"offset\": 0, \"scale\": 0.0001, \"type\": \"int16\", \"unit\": \"1\"}, {\"aliases\": [\"IMG_DATA_Band_B05_20m_Tile1_Data\"], \"center_wavelength\": 0.7041, \"full_width_half_max\": 0.015, \"gsd\": 20, \"name\": \"B05\", \"offset\": 0, \"scale\": 0.0001, \"type\": \"int16\", \"unit\": \"1\"}, {\"aliases\": [\"IMG_DATA_Band_B06_20m_Tile1_Data\"], \"center_wavelength\": 0.7405, \"full_width_half_max\": 0.015, \"gsd\": 20, \"name\": \"B06\", \"offset\": 0, \"scale\": 0.0001, \"type\": \"int16\", \"unit\": \"1\"}, {\"aliases\": [\"IMG_DATA_Band_B07_20m_Tile1_Data\"], \"center_wavelength\": 0.7828, \"full_width_half_max\": 0.02, \"gsd\": 20, \"name\": \"B07\", \"offset\": 0, \"scale\": 0.0001, \"type\": \"int16\", \"unit\": \"1\"}, {\"aliases\": [\"IMG_DATA_Band_B08_10m_Tile1_Data\"], \"center_wavelength\": 0.8328, \"common_name\": \"nir\", \"full_width_half_max\": 0.106, \"gsd\": 10, \"name\": \"B08\", \"offset\": 0, \"scale\": 0.0001, \"type\": \"int16\", \"unit\": \"1\"}, {\"aliases\": [\"IMG_DATA_Band_B8A_20m_Tile1_Data\"], \"center_wavelength\": 0.8647, \"common_name\": \"nir08\", \"full_width_half_max\": 0.021, \"gsd\": 20, \"name\": \"B8A\", \"offset\": 0, \"scale\": 0.0001, \"type\": \"int16\", \"unit\": \"1\"}, {\"aliases\": [\"IMG_DATA_Band_B09_60m_Tile1_Data\"], \"center_wavelength\": 0.9451, \"common_name\": \"nir09\", \"full_width_half_max\": 0.02, \"gsd\": 60, \"name\": \"B09\", \"offset\": 0, \"scale\": 0.0001, \"type\": \"int16\", \"unit\": \"1\"}, {\"aliases\": [\"IMG_DATA_Band_B11_20m_Tile1_Data\"], \"center_wavelength\": 1.6137, \"common_name\": \"swir16\", \"full_width_half_max\": 0.091, \"gsd\": 20, \"name\": \"B11\", \"offset\": 0, \"scale\": 0.0001, \"type\": \"int16\", \"unit\": \"1\"}, {\"aliases\": [\"IMG_DATA_Band_B12_20m_Tile1_Data\"], \"center_wavelength\": 2.2024, \"common_name\": \"swir22\", \"full_width_half_max\": 0.175, \"gsd\": 20, \"name\": \"B12\", \"offset\": 0, \"scale\": 0.0001, \"type\": \"int16\", \"unit\": \"1\"}, {\"aliases\": [\"IMG_DATA_Band_WVP_10m_Tile1_Data\"], \"name\": \"WVP\"}, {\"aliases\": [\"IMG_DATA_Band_AOT_20m_Tile1_Data\"], \"name\": \"AOT\"}, {\"aliases\": [\"IMG_DATA_Band_SCL_20m_Tile1_Data\"], \"name\": \"SCL\"}, {\"aliases\": [\"S2_Level-2A_Tile1_Metadata##0\", \"SAA\"], \"name\": \"sunAzimuthAngles\", \"unit\": \"deg\"}, {\"aliases\": [\"S2_Level-2A_Tile1_Metadata##1\", \"SZA\"], \"name\": \"sunZenithAngles\", \"unit\": \"deg\"}, {\"aliases\": [\"S2_Level-2A_Tile1_Metadata##2\", \"VAA\", \"approximateViewAzimuth\"], \"name\": \"viewAzimuthMean\", \"unit\": \"deg\"}, {\"aliases\": [\"S2_Level-2A_Tile1_Metadata##3\", \"VZA\", \"approximateViewZenith\"], \"name\": \"viewZenithMean\", \"unit\": \"deg\"}], \"eo:cloud_cover\": {\"maximum\": 100, \"minimum\": 0}, \"gsd\": [10], \"instrument\": [\"msi\"], \"platform\": [\"sentinel-2a\", \"sentinel-2b\"]}, \"title\": \"Sentinel-2 L2A\"}}</script>\n",
       "    </openeo-collection>\n",
       "    "
      ],
      "text/plain": [
       "{'assets': {'thumbnail': {'href': 'https://www.esa.int/var/esa/storage/images/esa_multimedia/images/2022/07/tallinn_estonia/24383281-1-eng-GB/Tallinn_Estonia_pillars.jpg',\n",
       "   'roles': ['thumbnail'],\n",
       "   'title': 'Sentinel 2 L2A',\n",
       "   'type': 'image/png'}},\n",
       " 'cube:dimensions': {'bands': {'type': 'bands',\n",
       "   'values': ['B01',\n",
       "    'B02',\n",
       "    'B03',\n",
       "    'B04',\n",
       "    'B05',\n",
       "    'B06',\n",
       "    'B07',\n",
       "    'B08',\n",
       "    'B8A',\n",
       "    'B09',\n",
       "    'B11',\n",
       "    'B12',\n",
       "    'WVP',\n",
       "    'AOT',\n",
       "    'SCL',\n",
       "    'sunAzimuthAngles',\n",
       "    'sunZenithAngles',\n",
       "    'viewAzimuthMean',\n",
       "    'viewZenithMean']},\n",
       "  't': {'extent': ['2015-07-04T00:00:00Z', None], 'type': 'temporal'},\n",
       "  'x': {'axis': 'x',\n",
       "   'extent': [-180, 180],\n",
       "   'reference_system': {'$schema': 'https://proj.org/schemas/v0.2/projjson.schema.json',\n",
       "    'area': 'World',\n",
       "    'bbox': {'east_longitude': 180,\n",
       "     'north_latitude': 90,\n",
       "     'south_latitude': -90,\n",
       "     'west_longitude': -180},\n",
       "    'coordinate_system': {'axis': [{'abbreviation': 'Lat',\n",
       "       'direction': 'north',\n",
       "       'name': 'Geodetic latitude',\n",
       "       'unit': 'degree'},\n",
       "      {'abbreviation': 'Lon',\n",
       "       'direction': 'east',\n",
       "       'name': 'Geodetic longitude',\n",
       "       'unit': 'degree'}],\n",
       "     'subtype': 'ellipsoidal'},\n",
       "    'datum': {'ellipsoid': {'inverse_flattening': 298.257223563,\n",
       "      'name': 'WGS 84',\n",
       "      'semi_major_axis': 6378137},\n",
       "     'name': 'World Geodetic System 1984',\n",
       "     'type': 'GeodeticReferenceFrame'},\n",
       "    'id': {'authority': 'OGC', 'code': 'Auto42001', 'version': '1.3'},\n",
       "    'name': 'AUTO 42001 (Universal Transverse Mercator)',\n",
       "    'type': 'GeodeticCRS'},\n",
       "   'step': 10,\n",
       "   'type': 'spatial'},\n",
       "  'y': {'axis': 'y',\n",
       "   'extent': [-56, 83],\n",
       "   'reference_system': {'$schema': 'https://proj.org/schemas/v0.2/projjson.schema.json',\n",
       "    'area': 'World',\n",
       "    'bbox': {'east_longitude': 180,\n",
       "     'north_latitude': 90,\n",
       "     'south_latitude': -90,\n",
       "     'west_longitude': -180},\n",
       "    'coordinate_system': {'axis': [{'abbreviation': 'Lat',\n",
       "       'direction': 'north',\n",
       "       'name': 'Geodetic latitude',\n",
       "       'unit': 'degree'},\n",
       "      {'abbreviation': 'Lon',\n",
       "       'direction': 'east',\n",
       "       'name': 'Geodetic longitude',\n",
       "       'unit': 'degree'}],\n",
       "     'subtype': 'ellipsoidal'},\n",
       "    'datum': {'ellipsoid': {'inverse_flattening': 298.257223563,\n",
       "      'name': 'WGS 84',\n",
       "      'semi_major_axis': 6378137},\n",
       "     'name': 'World Geodetic System 1984',\n",
       "     'type': 'GeodeticReferenceFrame'},\n",
       "    'id': {'authority': 'OGC', 'code': 'Auto42001', 'version': '1.3'},\n",
       "    'name': 'AUTO 42001 (Universal Transverse Mercator)',\n",
       "    'type': 'GeodeticCRS'},\n",
       "   'step': 10,\n",
       "   'type': 'spatial'}},\n",
       " 'description': 'SENTINEL-2 is a wide-swath, high-resolution, multi-spectral imaging mission, supporting Copernicus Land Monitoring studies, including the monitoring of vegetation, soil and water cover, as well as observation of inland waterways and coastal areas. The SENTINEL-2 Multispectral Instrument (MSI) samples 13 spectral bands: four bands at 10 metres, six bands at 20 metres and three bands at 60 metres spatial resolution.\\n The level 2A data is atmospherically corrected using Sen2Cor.',\n",
       " 'extent': {'spatial': {'bbox': [[-180, -56, 180, 83]]},\n",
       "  'temporal': {'interval': [['2015-07-04T00:00:00Z', None]]}},\n",
       " 'id': 'SENTINEL2_L2A',\n",
       " 'keywords': ['COPERNICUS',\n",
       "  'ESA',\n",
       "  'Orthoimagery',\n",
       "  'Sentinel-2',\n",
       "  'MSI',\n",
       "  'Level-2A',\n",
       "  'Radiometry',\n",
       "  'Plant Resource',\n",
       "  'TOC'],\n",
       " 'license': 'proprietary',\n",
       " 'links': [{'href': 'https://sentinels.copernicus.eu/documents/247904/690755/Sentinel_Data_Legal_Notice',\n",
       "   'rel': 'license',\n",
       "   'type': 'application/pdf'},\n",
       "  {'href': 'https://documentation.dataspace.copernicus.eu/Data/Sentinel2.html',\n",
       "   'rel': 'alternate',\n",
       "   'type': 'application/html'},\n",
       "  {'href': 'https://dataspace.copernicus.eu/browser/?zoom=11&lat=45.36638&lng=12.49832&themeId=DEFAULT-THEME&visualizationUrl=https%3A%2F%2Fsh.dataspace.copernicus.eu%2Fogc%2Fwms%2F28b654e7-8912-4e59-9e58-85b58d768b3a&datasetId=S2_L2A_CDAS&fromTime=2023-02-07T00%3A00%3A00.000Z&toTime=2023-02-07T23%3A59%3A59.999Z&layerId=1_TRUE_COLOR&demSource3D=%22MAPZEN%22&cloudCoverage=10',\n",
       "   'rel': 'browser',\n",
       "   'title': 'CDSE Data-Browser'},\n",
       "  {'href': 'https://catalogue.dataspace.copernicus.eu/resto/api/collections/Sentinel2/search.json?cloudCover=[0,10]&productType=S2MSI2A&startDate=2022-06-11&completionDate=2022-06-22&maxRecords=10',\n",
       "   'rel': 'opensearch',\n",
       "   'title': 'Opensearch product query'},\n",
       "  {'href': 'https://sentinels.copernicus.eu/web/sentinel/user-guides/sentinel-2-msi/product-types/level-2a',\n",
       "   'rel': 'about',\n",
       "   'title': 'User guide'},\n",
       "  {'href': 'https://services.sentinel-hub.com/ogc/wmts/7d34803f-511c-4caf-9438-6d72f32c8174',\n",
       "   'rel': 'wmts',\n",
       "   'title': 'Web Map Tile Service',\n",
       "   'wmts:dimensions': {'warnings': True},\n",
       "   'wmts:layer': 'TRUE-COLOR'},\n",
       "  {'href': 'https://openeo.dataspace.copernicus.eu/openeo/1.2/collections',\n",
       "   'rel': 'root'},\n",
       "  {'href': 'https://openeo.dataspace.copernicus.eu/openeo/1.2/collections',\n",
       "   'rel': 'parent'},\n",
       "  {'href': 'https://openeo.dataspace.copernicus.eu/openeo/1.2/collections/SENTINEL2_L2A',\n",
       "   'rel': 'self'}],\n",
       " 'mission': 'Sentinel-2',\n",
       " 'name': 'SENTINEL2_L2A',\n",
       " 'providers': [{'name': 'ESA',\n",
       "   'roles': ['producer'],\n",
       "   'url': 'https://esa.int/'},\n",
       "  {'name': 'CDSE',\n",
       "   'roles': ['processor', 'host'],\n",
       "   'url': 'https://dataspace.copernicus.eu/'}],\n",
       " 'stac_extensions': ['https://stac-extensions.github.io/datacube/v2.2.0/schema.json',\n",
       "  'https://stac-extensions.github.io/eo/v1.1.0/schema.json'],\n",
       " 'stac_version': '0.9.0',\n",
       " 'summaries': {'constellation': ['sentinel-2'],\n",
       "  'eo:bands': [{'aliases': ['IMG_DATA_Band_B01_60m_Tile1_Data'],\n",
       "    'center_wavelength': 0.4427,\n",
       "    'common_name': 'coastal',\n",
       "    'full_width_half_max': 0.021,\n",
       "    'gsd': 60,\n",
       "    'name': 'B01',\n",
       "    'offset': 0,\n",
       "    'scale': 0.0001,\n",
       "    'type': 'int16',\n",
       "    'unit': '1'},\n",
       "   {'aliases': ['IMG_DATA_Band_B02_10m_Tile1_Data'],\n",
       "    'center_wavelength': 0.4924,\n",
       "    'common_name': 'blue',\n",
       "    'full_width_half_max': 0.066,\n",
       "    'gsd': 10,\n",
       "    'name': 'B02',\n",
       "    'offset': 0,\n",
       "    'scale': 0.0001,\n",
       "    'type': 'int16',\n",
       "    'unit': '1'},\n",
       "   {'aliases': ['IMG_DATA_Band_B03_10m_Tile1_Data'],\n",
       "    'center_wavelength': 0.5598,\n",
       "    'common_name': 'green',\n",
       "    'full_width_half_max': 0.036,\n",
       "    'gsd': 10,\n",
       "    'name': 'B03',\n",
       "    'offset': 0,\n",
       "    'scale': 0.0001,\n",
       "    'type': 'int16',\n",
       "    'unit': '1'},\n",
       "   {'aliases': ['IMG_DATA_Band_B04_10m_Tile1_Data'],\n",
       "    'center_wavelength': 0.6646,\n",
       "    'common_name': 'red',\n",
       "    'full_width_half_max': 0.031,\n",
       "    'gsd': 10,\n",
       "    'name': 'B04',\n",
       "    'offset': 0,\n",
       "    'scale': 0.0001,\n",
       "    'type': 'int16',\n",
       "    'unit': '1'},\n",
       "   {'aliases': ['IMG_DATA_Band_B05_20m_Tile1_Data'],\n",
       "    'center_wavelength': 0.7041,\n",
       "    'full_width_half_max': 0.015,\n",
       "    'gsd': 20,\n",
       "    'name': 'B05',\n",
       "    'offset': 0,\n",
       "    'scale': 0.0001,\n",
       "    'type': 'int16',\n",
       "    'unit': '1'},\n",
       "   {'aliases': ['IMG_DATA_Band_B06_20m_Tile1_Data'],\n",
       "    'center_wavelength': 0.7405,\n",
       "    'full_width_half_max': 0.015,\n",
       "    'gsd': 20,\n",
       "    'name': 'B06',\n",
       "    'offset': 0,\n",
       "    'scale': 0.0001,\n",
       "    'type': 'int16',\n",
       "    'unit': '1'},\n",
       "   {'aliases': ['IMG_DATA_Band_B07_20m_Tile1_Data'],\n",
       "    'center_wavelength': 0.7828,\n",
       "    'full_width_half_max': 0.02,\n",
       "    'gsd': 20,\n",
       "    'name': 'B07',\n",
       "    'offset': 0,\n",
       "    'scale': 0.0001,\n",
       "    'type': 'int16',\n",
       "    'unit': '1'},\n",
       "   {'aliases': ['IMG_DATA_Band_B08_10m_Tile1_Data'],\n",
       "    'center_wavelength': 0.8328,\n",
       "    'common_name': 'nir',\n",
       "    'full_width_half_max': 0.106,\n",
       "    'gsd': 10,\n",
       "    'name': 'B08',\n",
       "    'offset': 0,\n",
       "    'scale': 0.0001,\n",
       "    'type': 'int16',\n",
       "    'unit': '1'},\n",
       "   {'aliases': ['IMG_DATA_Band_B8A_20m_Tile1_Data'],\n",
       "    'center_wavelength': 0.8647,\n",
       "    'common_name': 'nir08',\n",
       "    'full_width_half_max': 0.021,\n",
       "    'gsd': 20,\n",
       "    'name': 'B8A',\n",
       "    'offset': 0,\n",
       "    'scale': 0.0001,\n",
       "    'type': 'int16',\n",
       "    'unit': '1'},\n",
       "   {'aliases': ['IMG_DATA_Band_B09_60m_Tile1_Data'],\n",
       "    'center_wavelength': 0.9451,\n",
       "    'common_name': 'nir09',\n",
       "    'full_width_half_max': 0.02,\n",
       "    'gsd': 60,\n",
       "    'name': 'B09',\n",
       "    'offset': 0,\n",
       "    'scale': 0.0001,\n",
       "    'type': 'int16',\n",
       "    'unit': '1'},\n",
       "   {'aliases': ['IMG_DATA_Band_B11_20m_Tile1_Data'],\n",
       "    'center_wavelength': 1.6137,\n",
       "    'common_name': 'swir16',\n",
       "    'full_width_half_max': 0.091,\n",
       "    'gsd': 20,\n",
       "    'name': 'B11',\n",
       "    'offset': 0,\n",
       "    'scale': 0.0001,\n",
       "    'type': 'int16',\n",
       "    'unit': '1'},\n",
       "   {'aliases': ['IMG_DATA_Band_B12_20m_Tile1_Data'],\n",
       "    'center_wavelength': 2.2024,\n",
       "    'common_name': 'swir22',\n",
       "    'full_width_half_max': 0.175,\n",
       "    'gsd': 20,\n",
       "    'name': 'B12',\n",
       "    'offset': 0,\n",
       "    'scale': 0.0001,\n",
       "    'type': 'int16',\n",
       "    'unit': '1'},\n",
       "   {'aliases': ['IMG_DATA_Band_WVP_10m_Tile1_Data'], 'name': 'WVP'},\n",
       "   {'aliases': ['IMG_DATA_Band_AOT_20m_Tile1_Data'], 'name': 'AOT'},\n",
       "   {'aliases': ['IMG_DATA_Band_SCL_20m_Tile1_Data'], 'name': 'SCL'},\n",
       "   {'aliases': ['S2_Level-2A_Tile1_Metadata##0', 'SAA'],\n",
       "    'name': 'sunAzimuthAngles',\n",
       "    'unit': 'deg'},\n",
       "   {'aliases': ['S2_Level-2A_Tile1_Metadata##1', 'SZA'],\n",
       "    'name': 'sunZenithAngles',\n",
       "    'unit': 'deg'},\n",
       "   {'aliases': ['S2_Level-2A_Tile1_Metadata##2',\n",
       "     'VAA',\n",
       "     'approximateViewAzimuth'],\n",
       "    'name': 'viewAzimuthMean',\n",
       "    'unit': 'deg'},\n",
       "   {'aliases': ['S2_Level-2A_Tile1_Metadata##3',\n",
       "     'VZA',\n",
       "     'approximateViewZenith'],\n",
       "    'name': 'viewZenithMean',\n",
       "    'unit': 'deg'}],\n",
       "  'eo:cloud_cover': {'maximum': 100, 'minimum': 0},\n",
       "  'gsd': [10],\n",
       "  'instrument': ['msi'],\n",
       "  'platform': ['sentinel-2a', 'sentinel-2b']},\n",
       " 'title': 'Sentinel-2 L2A'}"
      ]
     },
     "execution_count": 9,
     "metadata": {},
     "output_type": "execute_result"
    }
   ],
   "source": [
    "conn.describe_collection(\"SENTINEL2_L2A\")"
   ]
  },
  {
   "cell_type": "markdown",
   "id": "ed91226f-a9ea-45d5-9663-98ed56fb067f",
   "metadata": {},
   "source": [
    "## Define a workflow\n",
    "We will define our workflow now. And chain all the processes together we need for analyzing the snow cover in the catchment.\n",
    "\n",
    "- Load a data cube with specific filters\n",
    "- Calculate the Normalized Difference Snow Index\n",
    "- Classify snow and no-snow using a threshold yielding the Snow Covered Area\n",
    "- Create and apply a cloud mask to remove cloudy pixels\n",
    "- Visualize one date of the snow map and crop it to the exact catchment outline\n",
    "- Calculate catchment statistics to get a timeseries on snow cover and cloud cover\n",
    "- Filter the time series by the cloud percentage and visualize the time series graph\n",
    "- "
   ]
  },
  {
   "cell_type": "markdown",
   "id": "f786a79c-897d-4858-83c0-af9d4c4efede",
   "metadata": {},
   "source": [
    "### Define the data cube\n",
    "We define all extents of our data cube. We use the catchment as spatial extent. As a time range we will focus on the snow melting season 2018, in particular from Febraury to June 2018. We are only interested in the green and short wave infrared band, band 3 and 11. And we directly remove time slices with a cloud cover >= 90 %."
   ]
  },
  {
   "cell_type": "code",
   "execution_count": 10,
   "id": "139b411c-b401-4af8-9f7a-d046e24e00e1",
   "metadata": {
    "tags": []
   },
   "outputs": [
    {
     "data": {
      "text/plain": [
       "minx    11.020833\n",
       "miny    46.653599\n",
       "maxx    11.366667\n",
       "maxy    46.954167\n",
       "Name: 0, dtype: float64"
      ]
     },
     "execution_count": 10,
     "metadata": {},
     "output_type": "execute_result"
    }
   ],
   "source": [
    "bbox = catchment_outline.bounds.iloc[0]\n",
    "bbox"
   ]
  },
  {
   "cell_type": "code",
   "execution_count": 11,
   "id": "2a136b78-6eba-42df-a71b-f1b86c4a27ea",
   "metadata": {
    "tags": []
   },
   "outputs": [],
   "source": [
    "from openeo.processes import lte\n",
    "collection      = 'SENTINEL2_L2A'\n",
    "spatial_extent  = {'west':bbox[0],'east':bbox[2],'south':bbox[1],'north':bbox[3],'crs':4326}\n",
    "temporal_extent = [\"2018-02-01\", \"2018-06-30\"]\n",
    "bands           = ['B03', 'B11', 'SCL']\n",
    "properties={\"eo:cloud_cover\": lambda x: lte(x, 90)}"
   ]
  },
  {
   "cell_type": "markdown",
   "id": "450db68c-ffdc-4037-9885-045afec86637",
   "metadata": {
    "tags": []
   },
   "source": [
    "### Load the data cube\n",
    "We have defined the extents we are interested in. Now we use these definitions to load the data cube."
   ]
  },
  {
   "cell_type": "code",
   "execution_count": 12,
   "id": "7d89755c-ef86-464f-a5e0-187bd44dfd53",
   "metadata": {
    "tags": []
   },
   "outputs": [],
   "source": [
    "s2 = conn.load_collection(collection,\n",
    "                          spatial_extent=spatial_extent,\n",
    "                          bands=bands,\n",
    "                          temporal_extent=temporal_extent,\n",
    "                          properties=properties)"
   ]
  },
  {
   "cell_type": "markdown",
   "id": "f93a67e6-6746-4de7-9142-635eee9a1196",
   "metadata": {},
   "source": [
    "### NDSI - Normalized Difference Snow Index\n",
    "The Normalized Difference Snow Index (NDSI) is computed as:\n",
    "\n",
    "$$ NDSI = \\frac {GREEN - SWIR} {GREEN +SWIR} $$\n",
    "\n",
    "We have created a Sentinel-2 data cube with bands B03 (green) and B11 (SWIR). We will use the green and SWIR band to calculate a the NDSI. This process is reducing the band dimension of the data cube to generate new information, the NDSI."
   ]
  },
  {
   "cell_type": "code",
   "execution_count": 13,
   "id": "26cd85ae-fddf-42c5-975a-1e911420e063",
   "metadata": {
    "tags": []
   },
   "outputs": [
    {
     "data": {
      "text/html": [
       "\n",
       "    <script>\n",
       "    if (!window.customElements || !window.customElements.get('openeo-model-builder')) {\n",
       "        var el = document.createElement('script');\n",
       "        el.src = \"https://cdn.jsdelivr.net/npm/@openeo/vue-components@2/assets/openeo.min.js\";\n",
       "        document.head.appendChild(el);\n",
       "\n",
       "        var font = document.createElement('font');\n",
       "        font.as = \"font\";\n",
       "        font.type = \"font/woff2\";\n",
       "        font.crossOrigin = true;\n",
       "        font.href = \"https://use.fontawesome.com/releases/v5.13.0/webfonts/fa-solid-900.woff2\"\n",
       "        document.head.appendChild(font);\n",
       "    }\n",
       "    </script>\n",
       "    <openeo-model-builder>\n",
       "        <script type=\"application/json\">{\"id\": \"5049f625216d44ce91317d3b091d25ce\", \"explicit-zoom\": true, \"height\": \"400px\", \"value\": {\"process_graph\": {\"loadcollection1\": {\"process_id\": \"load_collection\", \"arguments\": {\"bands\": [\"B03\", \"B11\", \"SCL\"], \"id\": \"SENTINEL2_L2A\", \"properties\": {\"eo:cloud_cover\": {\"process_graph\": {\"lte1\": {\"process_id\": \"lte\", \"arguments\": {\"x\": {\"from_parameter\": \"value\"}, \"y\": 90}, \"result\": true}}}}, \"spatial_extent\": {\"west\": 11.020833333333357, \"east\": 11.366666666666694, \"south\": 46.653599378797765, \"north\": 46.954166666666694, \"crs\": 4326}, \"temporal_extent\": [\"2018-02-01\", \"2018-06-30\"]}}, \"reducedimension1\": {\"process_id\": \"reduce_dimension\", \"arguments\": {\"data\": {\"from_node\": \"loadcollection1\"}, \"dimension\": \"bands\", \"reducer\": {\"process_graph\": {\"arrayelement1\": {\"process_id\": \"array_element\", \"arguments\": {\"data\": {\"from_parameter\": \"data\"}, \"index\": 0}}, \"arrayelement2\": {\"process_id\": \"array_element\", \"arguments\": {\"data\": {\"from_parameter\": \"data\"}, \"index\": 1}}, \"subtract1\": {\"process_id\": \"subtract\", \"arguments\": {\"x\": {\"from_node\": \"arrayelement1\"}, \"y\": {\"from_node\": \"arrayelement2\"}}}, \"add1\": {\"process_id\": \"add\", \"arguments\": {\"x\": {\"from_node\": \"arrayelement1\"}, \"y\": {\"from_node\": \"arrayelement2\"}}}, \"divide1\": {\"process_id\": \"divide\", \"arguments\": {\"x\": {\"from_node\": \"subtract1\"}, \"y\": {\"from_node\": \"add1\"}}, \"result\": true}}}}, \"result\": true}}}}</script>\n",
       "    </openeo-model-builder>\n",
       "    "
      ],
      "text/plain": [
       "<openeo.rest.datacube.DataCube at 0x7fa2d69e1c10>"
      ]
     },
     "execution_count": 13,
     "metadata": {},
     "output_type": "execute_result"
    }
   ],
   "source": [
    "green = s2.band(\"B03\")\n",
    "swir = s2.band(\"B11\")\n",
    "ndsi = (green - swir) / (green + swir)\n",
    "ndsi"
   ]
  },
  {
   "cell_type": "markdown",
   "id": "746ef0f4-9c9f-4884-8806-730d91261acb",
   "metadata": {},
   "source": [
    "### Creating the Snow Map\n",
    "So far we have a time series map of NDSI values. We are intereseted in the presence of snow though. Ideally in a binary classification: snow and no snow.\n",
    "To achieve this we are setting a threshold of 0.4 on the NDSI. This gives us a binary snow map."
   ]
  },
  {
   "cell_type": "code",
   "execution_count": 14,
   "id": "591d44b1-20d1-447a-a956-291495f7a1c1",
   "metadata": {
    "tags": []
   },
   "outputs": [
    {
     "data": {
      "text/html": [
       "\n",
       "    <script>\n",
       "    if (!window.customElements || !window.customElements.get('openeo-model-builder')) {\n",
       "        var el = document.createElement('script');\n",
       "        el.src = \"https://cdn.jsdelivr.net/npm/@openeo/vue-components@2/assets/openeo.min.js\";\n",
       "        document.head.appendChild(el);\n",
       "\n",
       "        var font = document.createElement('font');\n",
       "        font.as = \"font\";\n",
       "        font.type = \"font/woff2\";\n",
       "        font.crossOrigin = true;\n",
       "        font.href = \"https://use.fontawesome.com/releases/v5.13.0/webfonts/fa-solid-900.woff2\"\n",
       "        document.head.appendChild(font);\n",
       "    }\n",
       "    </script>\n",
       "    <openeo-model-builder>\n",
       "        <script type=\"application/json\">{\"id\": \"8450d27a6755460a9bce4097d2c1e66c\", \"explicit-zoom\": true, \"height\": \"400px\", \"value\": {\"process_graph\": {\"loadcollection1\": {\"process_id\": \"load_collection\", \"arguments\": {\"bands\": [\"B03\", \"B11\", \"SCL\"], \"id\": \"SENTINEL2_L2A\", \"properties\": {\"eo:cloud_cover\": {\"process_graph\": {\"lte1\": {\"process_id\": \"lte\", \"arguments\": {\"x\": {\"from_parameter\": \"value\"}, \"y\": 90}, \"result\": true}}}}, \"spatial_extent\": {\"west\": 11.020833333333357, \"east\": 11.366666666666694, \"south\": 46.653599378797765, \"north\": 46.954166666666694, \"crs\": 4326}, \"temporal_extent\": [\"2018-02-01\", \"2018-06-30\"]}}, \"reducedimension1\": {\"process_id\": \"reduce_dimension\", \"arguments\": {\"data\": {\"from_node\": \"loadcollection1\"}, \"dimension\": \"bands\", \"reducer\": {\"process_graph\": {\"arrayelement1\": {\"process_id\": \"array_element\", \"arguments\": {\"data\": {\"from_parameter\": \"data\"}, \"index\": 0}}, \"arrayelement2\": {\"process_id\": \"array_element\", \"arguments\": {\"data\": {\"from_parameter\": \"data\"}, \"index\": 1}}, \"subtract1\": {\"process_id\": \"subtract\", \"arguments\": {\"x\": {\"from_node\": \"arrayelement1\"}, \"y\": {\"from_node\": \"arrayelement2\"}}}, \"add1\": {\"process_id\": \"add\", \"arguments\": {\"x\": {\"from_node\": \"arrayelement1\"}, \"y\": {\"from_node\": \"arrayelement2\"}}}, \"divide1\": {\"process_id\": \"divide\", \"arguments\": {\"x\": {\"from_node\": \"subtract1\"}, \"y\": {\"from_node\": \"add1\"}}}, \"gt1\": {\"process_id\": \"gt\", \"arguments\": {\"x\": {\"from_node\": \"divide1\"}, \"y\": 0.4}}, \"multiply1\": {\"process_id\": \"multiply\", \"arguments\": {\"x\": {\"from_node\": \"gt1\"}, \"y\": 1.0}, \"result\": true}}}}, \"result\": true}}}}</script>\n",
       "    </openeo-model-builder>\n",
       "    "
      ],
      "text/plain": [
       "<openeo.rest.datacube.DataCube at 0x7fa2d69e0d10>"
      ]
     },
     "execution_count": 14,
     "metadata": {},
     "output_type": "execute_result"
    }
   ],
   "source": [
    "snowmap = ( ndsi > 0.4 ) * 1.0\n",
    "snowmap"
   ]
  },
  {
   "cell_type": "markdown",
   "id": "1b4ae963-05f1-48d0-937f-f162783f3fe3",
   "metadata": {},
   "source": [
    "### Creating a cloud mask\n",
    "We are going to use \"SCL\" band for creating a cloud mask and then applying it to the NDSI. \n",
    "`8 = cloud medium probability`, `9 = cloud high probability`, `3 = cloud shadow`\n",
    "\n",
    "Here is more information on the Scene Classification of Sentinel-2: https://sentinels.copernicus.eu/web/sentinel/technical-guides/sentinel-2-msi/level-2a/algorithm-overview"
   ]
  },
  {
   "cell_type": "code",
   "execution_count": 17,
   "id": "1178adce-2b0f-4c53-b013-27881c9f0115",
   "metadata": {
    "tags": []
   },
   "outputs": [],
   "source": [
    "# scl_cube =conn.load_collection(\n",
    "#     \"SENTINEL2_L2A\",\n",
    "#     spatial_extent=spatial_extent,\n",
    "#     bands=[\"SCL\"],\n",
    "#     temporal_extent=temporal_extent,\n",
    "# )"
   ]
  },
  {
   "cell_type": "code",
   "execution_count": 15,
   "id": "99556d13-fae5-4726-a656-979a1945e7c1",
   "metadata": {
    "tags": []
   },
   "outputs": [
    {
     "data": {
      "text/html": [
       "\n",
       "    <script>\n",
       "    if (!window.customElements || !window.customElements.get('openeo-model-builder')) {\n",
       "        var el = document.createElement('script');\n",
       "        el.src = \"https://cdn.jsdelivr.net/npm/@openeo/vue-components@2/assets/openeo.min.js\";\n",
       "        document.head.appendChild(el);\n",
       "\n",
       "        var font = document.createElement('font');\n",
       "        font.as = \"font\";\n",
       "        font.type = \"font/woff2\";\n",
       "        font.crossOrigin = true;\n",
       "        font.href = \"https://use.fontawesome.com/releases/v5.13.0/webfonts/fa-solid-900.woff2\"\n",
       "        document.head.appendChild(font);\n",
       "    }\n",
       "    </script>\n",
       "    <openeo-model-builder>\n",
       "        <script type=\"application/json\">{\"id\": \"612f1bf321544931bfdf389d8cc7ca44\", \"explicit-zoom\": true, \"height\": \"400px\", \"value\": {\"process_graph\": {\"loadcollection1\": {\"process_id\": \"load_collection\", \"arguments\": {\"bands\": [\"B03\", \"B11\", \"SCL\"], \"id\": \"SENTINEL2_L2A\", \"properties\": {\"eo:cloud_cover\": {\"process_graph\": {\"lte1\": {\"process_id\": \"lte\", \"arguments\": {\"x\": {\"from_parameter\": \"value\"}, \"y\": 90}, \"result\": true}}}}, \"spatial_extent\": {\"west\": 11.020833333333357, \"east\": 11.366666666666694, \"south\": 46.653599378797765, \"north\": 46.954166666666694, \"crs\": 4326}, \"temporal_extent\": [\"2018-02-01\", \"2018-06-30\"]}}, \"reducedimension1\": {\"process_id\": \"reduce_dimension\", \"arguments\": {\"data\": {\"from_node\": \"loadcollection1\"}, \"dimension\": \"bands\", \"reducer\": {\"process_graph\": {\"arrayelement1\": {\"process_id\": \"array_element\", \"arguments\": {\"data\": {\"from_parameter\": \"data\"}, \"index\": 2}}, \"eq1\": {\"process_id\": \"eq\", \"arguments\": {\"x\": {\"from_node\": \"arrayelement1\"}, \"y\": 8}}, \"eq2\": {\"process_id\": \"eq\", \"arguments\": {\"x\": {\"from_node\": \"arrayelement1\"}, \"y\": 9}}, \"or1\": {\"process_id\": \"or\", \"arguments\": {\"x\": {\"from_node\": \"eq1\"}, \"y\": {\"from_node\": \"eq2\"}}}, \"eq3\": {\"process_id\": \"eq\", \"arguments\": {\"x\": {\"from_node\": \"arrayelement1\"}, \"y\": 3}}, \"or2\": {\"process_id\": \"or\", \"arguments\": {\"x\": {\"from_node\": \"or1\"}, \"y\": {\"from_node\": \"eq3\"}}}, \"multiply1\": {\"process_id\": \"multiply\", \"arguments\": {\"x\": {\"from_node\": \"or2\"}, \"y\": 1.0}, \"result\": true}}}}, \"result\": true}}}}</script>\n",
       "    </openeo-model-builder>\n",
       "    "
      ],
      "text/plain": [
       "<openeo.rest.datacube.DataCube at 0x7fa2d69e33d0>"
      ]
     },
     "execution_count": 15,
     "metadata": {},
     "output_type": "execute_result"
    }
   ],
   "source": [
    "scl_band = s2.band(\"SCL\")\n",
    "cloud_mask = ( (scl_band == 8) | (scl_band == 9) | (scl_band == 3) ) * 1.0\n",
    "cloud_mask"
   ]
  },
  {
   "cell_type": "markdown",
   "id": "8b2219e0-12c1-487f-b95c-cd96743f866d",
   "metadata": {},
   "source": [
    "The SCL layer has a ground sample distance of 20 meter while the other bands have 10 meter GSD"
   ]
  },
  {
   "cell_type": "markdown",
   "id": "8e7d0d18-2c39-4b4f-b493-d0370d7f1c92",
   "metadata": {},
   "source": [
    "### Applying the cloud mask to the snowmap\n",
    "We will mask out all pixels that are covered by clouds. This will result in: 0 = no_snow, 1 = snow, 2 = cloud"
   ]
  },
  {
   "cell_type": "code",
   "execution_count": 16,
   "id": "8e188e75-57d6-4140-920d-937bea779934",
   "metadata": {
    "tags": []
   },
   "outputs": [
    {
     "data": {
      "text/html": [
       "\n",
       "    <script>\n",
       "    if (!window.customElements || !window.customElements.get('openeo-model-builder')) {\n",
       "        var el = document.createElement('script');\n",
       "        el.src = \"https://cdn.jsdelivr.net/npm/@openeo/vue-components@2/assets/openeo.min.js\";\n",
       "        document.head.appendChild(el);\n",
       "\n",
       "        var font = document.createElement('font');\n",
       "        font.as = \"font\";\n",
       "        font.type = \"font/woff2\";\n",
       "        font.crossOrigin = true;\n",
       "        font.href = \"https://use.fontawesome.com/releases/v5.13.0/webfonts/fa-solid-900.woff2\"\n",
       "        document.head.appendChild(font);\n",
       "    }\n",
       "    </script>\n",
       "    <openeo-model-builder>\n",
       "        <script type=\"application/json\">{\"id\": \"807ccec607bf47879cd7db63da5f3700\", \"explicit-zoom\": true, \"height\": \"400px\", \"value\": {\"process_graph\": {\"loadcollection1\": {\"process_id\": \"load_collection\", \"arguments\": {\"bands\": [\"B03\", \"B11\", \"SCL\"], \"id\": \"SENTINEL2_L2A\", \"properties\": {\"eo:cloud_cover\": {\"process_graph\": {\"lte1\": {\"process_id\": \"lte\", \"arguments\": {\"x\": {\"from_parameter\": \"value\"}, \"y\": 90}, \"result\": true}}}}, \"spatial_extent\": {\"west\": 11.020833333333357, \"east\": 11.366666666666694, \"south\": 46.653599378797765, \"north\": 46.954166666666694, \"crs\": 4326}, \"temporal_extent\": [\"2018-02-01\", \"2018-06-30\"]}}, \"reducedimension1\": {\"process_id\": \"reduce_dimension\", \"arguments\": {\"data\": {\"from_node\": \"loadcollection1\"}, \"dimension\": \"bands\", \"reducer\": {\"process_graph\": {\"arrayelement1\": {\"process_id\": \"array_element\", \"arguments\": {\"data\": {\"from_parameter\": \"data\"}, \"index\": 0}}, \"arrayelement2\": {\"process_id\": \"array_element\", \"arguments\": {\"data\": {\"from_parameter\": \"data\"}, \"index\": 1}}, \"subtract1\": {\"process_id\": \"subtract\", \"arguments\": {\"x\": {\"from_node\": \"arrayelement1\"}, \"y\": {\"from_node\": \"arrayelement2\"}}}, \"add1\": {\"process_id\": \"add\", \"arguments\": {\"x\": {\"from_node\": \"arrayelement1\"}, \"y\": {\"from_node\": \"arrayelement2\"}}}, \"divide1\": {\"process_id\": \"divide\", \"arguments\": {\"x\": {\"from_node\": \"subtract1\"}, \"y\": {\"from_node\": \"add1\"}}}, \"gt1\": {\"process_id\": \"gt\", \"arguments\": {\"x\": {\"from_node\": \"divide1\"}, \"y\": 0.4}}, \"multiply1\": {\"process_id\": \"multiply\", \"arguments\": {\"x\": {\"from_node\": \"gt1\"}, \"y\": 1.0}, \"result\": true}}}}}, \"reducedimension2\": {\"process_id\": \"reduce_dimension\", \"arguments\": {\"data\": {\"from_node\": \"loadcollection1\"}, \"dimension\": \"bands\", \"reducer\": {\"process_graph\": {\"arrayelement3\": {\"process_id\": \"array_element\", \"arguments\": {\"data\": {\"from_parameter\": \"data\"}, \"index\": 2}}, \"eq1\": {\"process_id\": \"eq\", \"arguments\": {\"x\": {\"from_node\": \"arrayelement3\"}, \"y\": 8}}, \"eq2\": {\"process_id\": \"eq\", \"arguments\": {\"x\": {\"from_node\": \"arrayelement3\"}, \"y\": 9}}, \"or1\": {\"process_id\": \"or\", \"arguments\": {\"x\": {\"from_node\": \"eq1\"}, \"y\": {\"from_node\": \"eq2\"}}}, \"eq3\": {\"process_id\": \"eq\", \"arguments\": {\"x\": {\"from_node\": \"arrayelement3\"}, \"y\": 3}}, \"or2\": {\"process_id\": \"or\", \"arguments\": {\"x\": {\"from_node\": \"or1\"}, \"y\": {\"from_node\": \"eq3\"}}}, \"multiply2\": {\"process_id\": \"multiply\", \"arguments\": {\"x\": {\"from_node\": \"or2\"}, \"y\": 1.0}, \"result\": true}}}}}, \"mask1\": {\"process_id\": \"mask\", \"arguments\": {\"data\": {\"from_node\": \"reducedimension1\"}, \"mask\": {\"from_node\": \"reducedimension2\"}, \"replacement\": 2}, \"result\": true}}}}</script>\n",
       "    </openeo-model-builder>\n",
       "    "
      ],
      "text/plain": [
       "<openeo.rest.datacube.DataCube at 0x7fa2d69e0e50>"
      ]
     },
     "execution_count": 16,
     "metadata": {},
     "output_type": "execute_result"
    }
   ],
   "source": [
    "snowmap_cloudfree = snowmap.mask(cloud_mask,replacement=2) # replacement is null by default\n",
    "snowmap_cloudfree"
   ]
  },
  {
   "cell_type": "markdown",
   "id": "61be5bad-fce6-46b3-85f3-cbfc15d309f0",
   "metadata": {},
   "source": [
    "### Mask Polygon: From Bounding Box to Shape\n",
    "We have a cloud masked snow map data cube now. In order to keep only pixels within the exact chatchment boundaries we mask to the outline of the catchment. Values outside of the boundaries are set to NA."
   ]
  },
  {
   "cell_type": "code",
   "execution_count": 17,
   "id": "09b8c9ff-0f11-43ae-81c7-c323365fe3ac",
   "metadata": {
    "tags": []
   },
   "outputs": [
    {
     "data": {
      "image/svg+xml": [
       "<svg xmlns=\"http://www.w3.org/2000/svg\" xmlns:xlink=\"http://www.w3.org/1999/xlink\" width=\"100.0\" height=\"100.0\" viewBox=\"11.007000000000023 46.639766045464434 0.37350000000000527 0.328233954535591\" preserveAspectRatio=\"xMinYMin meet\"><g transform=\"matrix(1,0,0,-1,0,93.60776604546446)\"><path fill-rule=\"evenodd\" fill=\"#66cc99\" stroke=\"#555555\" stroke-width=\"0.007470000000000105\" opacity=\"0.6\" d=\"M 11.075,46.72916666666669 L 11.072575547960094,46.728813340928845 L 11.069091118706622,46.72535332573787 L 11.048285590277802,46.724646674262175 L 11.042024739583358,46.73087632921009 L 11.041666666666691,46.733333333333356 L 11.038123575846377,46.73424241807728 L 11.0375,46.74583333333336 L 11.03664923773874,46.74914923773874 L 11.030017428927975,46.75085076226131 L 11.028599378797768,46.756377156575546 L 11.025567287868947,46.76028951009117 L 11.0244327121311,46.76471048990888 L 11.02140062120228,46.7686228434245 L 11.020833333333357,46.77083333333336 L 11.024291653103322,46.77172071668839 L 11.025567287868947,46.781377156575545 L 11.032766045464435,46.78945617675784 L 11.033900621202282,46.79387715657555 L 11.036932712131101,46.79778951009117 L 11.038067287868948,46.80221048990888 L 11.042586263020858,46.80762905544707 L 11.052210489908878,46.808900621202284 L 11.06028951009117,46.816099378797766 L 11.06471048990888,46.81723395453562 L 11.068622843424503,46.820266045464436 L 11.073043823242212,46.82140062120228 L 11.077974107530407,46.82522176106773 L 11.079733954535614,46.83010389539933 L 11.071295166015648,46.83957451714412 L 11.0744327121311,46.843622843424505 L 11.075567287868948,46.846579996744815 L 11.071400621202281,46.85195617675784 L 11.070266045464434,46.859321424696205 L 11.082766045464435,46.872789510091174 L 11.084041680230058,46.882445949978326 L 11.089710489908878,46.88390062120228 L 11.09995964898006,46.89319695366756 L 11.096400621202282,46.89778951009117 L 11.095266045464435,46.91343722873266 L 11.103599378797767,46.92278951009117 L 11.104166666666691,46.929166666666696 L 11.114924452039954,46.92951999240454 L 11.11875,46.9333187527127 L 11.12328694661461,46.92881334092885 L 11.139924452039956,46.92951999240454 L 11.143408881293428,46.93298000759551 L 11.148288302951414,46.933691067165825 L 11.157980007595512,46.94340888129343 L 11.158691406250025,46.948290337456626 L 11.16424221462676,46.953813340928846 L 11.166666666666693,46.954166666666694 L 11.167024739583358,46.95170966254343 L 11.172575547960095,46.94618665907121 L 11.177424452039956,46.94548000759551 L 11.180908881293428,46.94201999240454 L 11.185757785373289,46.94131334092884 L 11.189242214626761,46.937853325737876 L 11.194123670789956,46.93714192708336 L 11.199646674262178,46.93159111870662 L 11.200353325737872,46.9100755479601 L 11.204519992404538,46.90587972005211 L 11.203813340928845,46.901742214626765 L 11.199646674262178,46.89754638671877 L 11.200353325737872,46.89340888129343 L 11.203813340928845,46.889924452039956 L 11.204519992404538,46.8850755479601 L 11.21248609754777,46.877084011501765 L 11.208686659071207,46.87325778537329 L 11.208333333333359,46.85833333333336 L 11.210543823242213,46.85776604546444 L 11.214456176757839,46.85473395453562 L 11.231377156575547,46.85359937879777 L 11.239456176757837,46.846400621202285 L 11.260543823242212,46.845266045464435 L 11.26458333333336,46.84213528103301 L 11.26875,46.84536471896704 L 11.272789510091172,46.842233954535615 L 11.323043823242214,46.84109937879777 L 11.331122843424506,46.83390062120228 L 11.343877156575548,46.83276604546444 L 11.347789510091172,46.82973395453561 L 11.35331590440541,46.82831590440541 L 11.354733954535616,46.82278951009117 L 11.357766045464437,46.818877156575546 L 11.358900621202284,46.81445617675784 L 11.36609937879777,46.80637715657554 L 11.366666666666694,46.80416666666669 L 11.365779283311658,46.80070834689673 L 11.356122843424506,46.7994327121311 L 11.35208333333336,46.796301947699675 L 11.347916666666693,46.799531385633706 L 11.343877156575548,46.79640062120228 L 11.339456176757839,46.79526604546444 L 11.335543823242213,46.79223395453562 L 11.321806165907145,46.79101189507381 L 11.31306728786895,46.781377156575545 L 11.311932712131103,46.776956176757835 L 11.304733954535617,46.76887715657555 L 11.30359937879777,46.76445617675784 L 11.30056728786895,46.760543823242216 L 11.299149237738742,46.75501742892798 L 11.293622843424505,46.753599378797766 L 11.289710489908881,46.75056728786895 L 11.279166666666693,46.75 L 11.278813340928846,46.73924221462676 L 11.27464667426218,46.73504638671878 L 11.275353325737873,46.73090888129343 L 11.283319430881102,46.722917344835096 L 11.27951999240454,46.71909111870662 L 11.278813340928846,46.705908881293425 L 11.275353325737873,46.702424452039956 L 11.275,46.7 L 11.274032253689262,46.69622938368058 L 11.267413330078151,46.691099378797766 L 11.260289510091171,46.69223395453562 L 11.25491333007815,46.69640062120228 L 11.251956176757838,46.695266045464436 L 11.248043823242213,46.69223395453562 L 11.239456176757837,46.691099378797766 L 11.235543823242214,46.68806728786895 L 11.218622843424505,46.6869327121311 L 11.21471048990888,46.683900621202284 L 11.197789510091171,46.68276604546443 L 11.193877156575546,46.679733954535614 L 11.184220716688394,46.67845831976999 L 11.182413736979193,46.671416219075546 L 11.173043823242214,46.66306728786895 L 11.168622843424505,46.6619327121311 L 11.159270562065997,46.653599378797765 L 11.154985215928845,46.655143907335095 L 11.154166666666692,46.65833333333336 L 11.15085076226131,46.65918409559464 L 11.15,46.6625 L 11.150353325737871,46.66909111870662 L 11.155876329210095,46.67464192708336 L 11.160757785373288,46.67535332573787 L 11.166668023003497,46.68123406304256 L 11.162853325737872,46.685075547960096 L 11.162146674262178,46.68992445203995 L 11.15451999240454,46.69757554796009 L 11.153813340928846,46.702424452039956 L 11.148290337456622,46.70797526041669 L 11.143408881293428,46.708686659071205 L 11.139924452039956,46.71214667426218 L 11.122575547960095,46.712853325737875 L 11.119091118706622,46.71631334092884 L 11.11424221462676,46.71701999240454 L 11.110757785373288,46.72048000759551 L 11.10174221462676,46.72118665907121 L 11.098257785373288,46.724646674262175 L 11.085075547960095,46.72535332573787 L 11.081591118706623,46.728813340928845 L 11.075,46.72916666666669 z\" /></g></svg>"
      ],
      "text/plain": [
       "<POLYGON ((11.075 46.729, 11.073 46.729, 11.069 46.725, 11.048 46.725, 11.04...>"
      ]
     },
     "execution_count": 17,
     "metadata": {},
     "output_type": "execute_result"
    }
   ],
   "source": [
    "catchment_outline['geometry'][0]"
   ]
  },
  {
   "cell_type": "code",
   "execution_count": 18,
   "id": "c6cc66f6-0f09-46e4-b687-f42703da647f",
   "metadata": {
    "scrolled": true,
    "tags": []
   },
   "outputs": [],
   "source": [
    "snowmap_cloudfree_masked = snowmap_cloudfree.mask_polygon(catchment_outline['geometry'][0])"
   ]
  },
  {
   "cell_type": "markdown",
   "id": "ce3b6b14-7f09-456d-9162-8c5f688c67e5",
   "metadata": {},
   "source": [
    "### Visualize one time step of the timeseries\n",
    "Let's have a first look at a time slice of our snow map. So far we have not computed anything. We have only defined a set of functions that are going to be applied in sequence. This makes up our workflow or processing graph. \n",
    "To reduce the data volume which we are going to download we are only selecting one time step of our data cube.\n",
    "\n",
    "**In order to start the processing we have to tell the cloud platform specifically that we want to execute our workflow. In this case we want to start the processing directly without registering a job on the backend. This solution is good for small amounts of data. For larger processing tasks batch jobs are preferred (we'll do that later).**"
   ]
  },
  {
   "cell_type": "code",
   "execution_count": 19,
   "id": "891968e3-ddfe-4dad-bba7-af22f8a5f16e",
   "metadata": {
    "tags": []
   },
   "outputs": [],
   "source": [
    "snowmap_cloudfree_1d = snowmap_cloudfree_masked.filter_temporal('2018-02-10', '2018-02-12')\n",
    "snowmap_cloudfree_1d.download('results/snowmap_cloudfree_1d.nc')"
   ]
  },
  {
   "cell_type": "markdown",
   "id": "25a5d46c-4778-4c8a-bdbe-8041c7530f12",
   "metadata": {},
   "source": [
    "Once the processing is done on the cloud and the data is downloaded we can load the file into our working environment and plot it!"
   ]
  },
  {
   "cell_type": "code",
   "execution_count": 20,
   "id": "405e1ee1-febf-4ec6-83d4-5bc644756169",
   "metadata": {
    "tags": []
   },
   "outputs": [
    {
     "data": {
      "text/plain": [
       "<matplotlib.image.AxesImage at 0x7fa2d69b07d0>"
      ]
     },
     "execution_count": 20,
     "metadata": {},
     "output_type": "execute_result"
    },
    {
     "data": {
      "image/png": "[encoded data removed]",
      "text/plain": [
       "<Figure size 640x480 with 2 Axes>"
      ]
     },
     "metadata": {},
     "output_type": "display_data"
    }
   ],
   "source": [
    "xr.open_dataarray('results/snowmap_cloudfree_1d.nc',decode_coords=\"all\")[0].plot.imshow()"
   ]
  },
  {
   "cell_type": "markdown",
   "id": "914a28f1-1a9b-4647-8411-a3ff2821e59f",
   "metadata": {
    "tags": []
   },
   "source": [
    "## Calculate Catchment Statistics\n",
    "\n",
    "We are looking at the snow cover of a region over time and want to extract aggregated catchment statistics on snow cover and cloud cover. We do this by counting all the pixels in the catchment, counting the pixels that are covered by snow and the pixels covered by clouds.\n",
    "\n",
    "Ultimately we are interested in the **snow covered area (SCA)** within the catchment. We count all snow covered pixels within the catchment for each time step. Multiplied by the pixel size that would be the snow covered area. The snow pixel count divided by the total number of pixels in the catchment is the percentage of pixels covered with snow. We will use this number.\n",
    "\n",
    "We need to make sure that the information content meets our expected quality. Therefore, we calculate the **cloud percentage** for the catchment for each timestep. We use this information to filter the timeseries. All timesteps that have a cloud coverage of over 25% will be discarded.\n",
    "\n",
    "We are going to \n",
    "- Get number of pixels in the catchment: total, clouds, snow.\n",
    "- Combine the three aggregated pixel counts into one data cube.\n",
    "- Calculate cloud and snow percentages\n",
    "- Filter cloudy time steps with the cloud percentage\n",
    "- Plot the resulting time series\n"
   ]
  },
  {
   "cell_type": "markdown",
   "id": "2d9233ac-286e-432d-8581-0b53e7c0b63d",
   "metadata": {},
   "source": [
    "### Count pixels and aggregate spatially to the catchment"
   ]
  },
  {
   "cell_type": "code",
   "execution_count": 24,
   "id": "0704eac4-5fd2-4a6f-87b3-0689f669dc04",
   "metadata": {
    "tags": []
   },
   "outputs": [
    {
     "data": {
      "text/html": [
       "\n",
       "    <script>\n",
       "    if (!window.customElements || !window.customElements.get('openeo-model-builder')) {\n",
       "        var el = document.createElement('script');\n",
       "        el.src = \"https://cdn.jsdelivr.net/npm/@openeo/vue-components@2/assets/openeo.min.js\";\n",
       "        document.head.appendChild(el);\n",
       "\n",
       "        var font = document.createElement('font');\n",
       "        font.as = \"font\";\n",
       "        font.type = \"font/woff2\";\n",
       "        font.crossOrigin = true;\n",
       "        font.href = \"https://use.fontawesome.com/releases/v5.13.0/webfonts/fa-solid-900.woff2\"\n",
       "        document.head.appendChild(font);\n",
       "    }\n",
       "    </script>\n",
       "    <openeo-model-builder>\n",
       "        <script type=\"application/json\">{\"id\": \"d346430e1aee427eb85f1fc12044ccb0\", \"explicit-zoom\": true, \"height\": \"400px\", \"value\": {\"process_graph\": {\"loadcollection1\": {\"process_id\": \"load_collection\", \"arguments\": {\"bands\": [\"B03\", \"B11\", \"SCL\"], \"id\": \"SENTINEL2_L2A\", \"properties\": {\"eo:cloud_cover\": {\"process_graph\": {\"lte1\": {\"process_id\": \"lte\", \"arguments\": {\"x\": {\"from_parameter\": \"value\"}, \"y\": 90}, \"result\": true}}}}, \"spatial_extent\": {\"west\": 11.020833333333357, \"east\": 11.366666666666694, \"south\": 46.653599378797765, \"north\": 46.954166666666694, \"crs\": 4326}, \"temporal_extent\": [\"2018-02-01\", \"2018-06-30\"]}}, \"reducedimension1\": {\"process_id\": \"reduce_dimension\", \"arguments\": {\"data\": {\"from_node\": \"loadcollection1\"}, \"dimension\": \"bands\", \"reducer\": {\"process_graph\": {\"arrayelement1\": {\"process_id\": \"array_element\", \"arguments\": {\"data\": {\"from_parameter\": \"data\"}, \"index\": 0}}, \"arrayelement2\": {\"process_id\": \"array_element\", \"arguments\": {\"data\": {\"from_parameter\": \"data\"}, \"index\": 1}}, \"subtract1\": {\"process_id\": \"subtract\", \"arguments\": {\"x\": {\"from_node\": \"arrayelement1\"}, \"y\": {\"from_node\": \"arrayelement2\"}}}, \"add1\": {\"process_id\": \"add\", \"arguments\": {\"x\": {\"from_node\": \"arrayelement1\"}, \"y\": {\"from_node\": \"arrayelement2\"}}}, \"divide1\": {\"process_id\": \"divide\", \"arguments\": {\"x\": {\"from_node\": \"subtract1\"}, \"y\": {\"from_node\": \"add1\"}}}, \"gt1\": {\"process_id\": \"gt\", \"arguments\": {\"x\": {\"from_node\": \"divide1\"}, \"y\": 0.4}}, \"multiply1\": {\"process_id\": \"multiply\", \"arguments\": {\"x\": {\"from_node\": \"gt1\"}, \"y\": 1.0}, \"result\": true}}}}}, \"reducedimension2\": {\"process_id\": \"reduce_dimension\", \"arguments\": {\"data\": {\"from_node\": \"loadcollection1\"}, \"dimension\": \"bands\", \"reducer\": {\"process_graph\": {\"arrayelement3\": {\"process_id\": \"array_element\", \"arguments\": {\"data\": {\"from_parameter\": \"data\"}, \"index\": 2}}, \"eq1\": {\"process_id\": \"eq\", \"arguments\": {\"x\": {\"from_node\": \"arrayelement3\"}, \"y\": 8}}, \"eq2\": {\"process_id\": \"eq\", \"arguments\": {\"x\": {\"from_node\": \"arrayelement3\"}, \"y\": 9}}, \"or1\": {\"process_id\": \"or\", \"arguments\": {\"x\": {\"from_node\": \"eq1\"}, \"y\": {\"from_node\": \"eq2\"}}}, \"eq3\": {\"process_id\": \"eq\", \"arguments\": {\"x\": {\"from_node\": \"arrayelement3\"}, \"y\": 3}}, \"or2\": {\"process_id\": \"or\", \"arguments\": {\"x\": {\"from_node\": \"or1\"}, \"y\": {\"from_node\": \"eq3\"}}}, \"multiply2\": {\"process_id\": \"multiply\", \"arguments\": {\"x\": {\"from_node\": \"or2\"}, \"y\": 1.0}, \"result\": true}}}}}, \"mask1\": {\"process_id\": \"mask\", \"arguments\": {\"data\": {\"from_node\": \"reducedimension1\"}, \"mask\": {\"from_node\": \"reducedimension2\"}, \"replacement\": 2}}, \"apply1\": {\"process_id\": \"apply\", \"arguments\": {\"data\": {\"from_node\": \"mask1\"}, \"process\": {\"process_graph\": {\"gt2\": {\"process_id\": \"gt\", \"arguments\": {\"x\": {\"from_parameter\": \"x\"}, \"y\": -1}}, \"multiply3\": {\"process_id\": \"multiply\", \"arguments\": {\"x\": {\"from_node\": \"gt2\"}, \"y\": 1.0}, \"result\": true}}}}}, \"adddimension1\": {\"process_id\": \"add_dimension\", \"arguments\": {\"data\": {\"from_node\": \"apply1\"}, \"label\": \"n_catchment\", \"name\": \"bands\", \"type\": \"bands\"}}, \"adddimension2\": {\"process_id\": \"add_dimension\", \"arguments\": {\"data\": {\"from_node\": \"reducedimension2\"}, \"label\": \"n_cloud\", \"name\": \"bands\", \"type\": \"bands\"}}, \"mergecubes1\": {\"process_id\": \"merge_cubes\", \"arguments\": {\"cube1\": {\"from_node\": \"adddimension1\"}, \"cube2\": {\"from_node\": \"adddimension2\"}}}, \"apply2\": {\"process_id\": \"apply\", \"arguments\": {\"data\": {\"from_node\": \"mask1\"}, \"process\": {\"process_graph\": {\"eq4\": {\"process_id\": \"eq\", \"arguments\": {\"x\": {\"from_parameter\": \"x\"}, \"y\": 1}}, \"multiply4\": {\"process_id\": \"multiply\", \"arguments\": {\"x\": {\"from_node\": \"eq4\"}, \"y\": 1.0}, \"result\": true}}}}}, \"adddimension3\": {\"process_id\": \"add_dimension\", \"arguments\": {\"data\": {\"from_node\": \"apply2\"}, \"label\": \"n_snow\", \"name\": \"bands\", \"type\": \"bands\"}}, \"mergecubes2\": {\"process_id\": \"merge_cubes\", \"arguments\": {\"cube1\": {\"from_node\": \"mergecubes1\"}, \"cube2\": {\"from_node\": \"adddimension3\"}}}, \"aggregatespatial1\": {\"process_id\": \"aggregate_spatial\", \"arguments\": {\"data\": {\"from_node\": \"mergecubes2\"}, \"geometries\": {\"type\": \"Polygon\", \"coordinates\": [[[11.075, 46.72916666666669], [11.072575547960094, 46.728813340928845], [11.069091118706622, 46.72535332573787], [11.048285590277802, 46.724646674262175], [11.042024739583358, 46.73087632921009], [11.041666666666691, 46.733333333333356], [11.038123575846377, 46.73424241807728], [11.0375, 46.74583333333336], [11.03664923773874, 46.74914923773874], [11.030017428927975, 46.75085076226131], [11.028599378797768, 46.756377156575546], [11.025567287868947, 46.76028951009117], [11.0244327121311, 46.76471048990888], [11.02140062120228, 46.7686228434245], [11.020833333333357, 46.77083333333336], [11.024291653103322, 46.77172071668839], [11.025567287868947, 46.781377156575545], [11.032766045464435, 46.78945617675784], [11.033900621202282, 46.79387715657555], [11.036932712131101, 46.79778951009117], [11.038067287868948, 46.80221048990888], [11.042586263020858, 46.80762905544707], [11.052210489908878, 46.808900621202284], [11.06028951009117, 46.816099378797766], [11.06471048990888, 46.81723395453562], [11.068622843424503, 46.820266045464436], [11.073043823242212, 46.82140062120228], [11.077974107530407, 46.82522176106773], [11.079733954535614, 46.83010389539933], [11.071295166015648, 46.83957451714412], [11.0744327121311, 46.843622843424505], [11.075567287868948, 46.846579996744815], [11.071400621202281, 46.85195617675784], [11.070266045464434, 46.859321424696205], [11.082766045464435, 46.872789510091174], [11.084041680230058, 46.882445949978326], [11.089710489908878, 46.88390062120228], [11.09995964898006, 46.89319695366756], [11.096400621202282, 46.89778951009117], [11.095266045464435, 46.91343722873266], [11.103599378797767, 46.92278951009117], [11.104166666666691, 46.929166666666696], [11.114924452039954, 46.92951999240454], [11.11875, 46.9333187527127], [11.12328694661461, 46.92881334092885], [11.139924452039956, 46.92951999240454], [11.143408881293428, 46.93298000759551], [11.148288302951414, 46.933691067165825], [11.157980007595512, 46.94340888129343], [11.158691406250025, 46.948290337456626], [11.16424221462676, 46.953813340928846], [11.166666666666693, 46.954166666666694], [11.167024739583358, 46.95170966254343], [11.172575547960095, 46.94618665907121], [11.177424452039956, 46.94548000759551], [11.180908881293428, 46.94201999240454], [11.185757785373289, 46.94131334092884], [11.189242214626761, 46.937853325737876], [11.194123670789956, 46.93714192708336], [11.199646674262178, 46.93159111870662], [11.200353325737872, 46.9100755479601], [11.204519992404538, 46.90587972005211], [11.203813340928845, 46.901742214626765], [11.199646674262178, 46.89754638671877], [11.200353325737872, 46.89340888129343], [11.203813340928845, 46.889924452039956], [11.204519992404538, 46.8850755479601], [11.21248609754777, 46.877084011501765], [11.208686659071207, 46.87325778537329], [11.208333333333359, 46.85833333333336], [11.210543823242213, 46.85776604546444], [11.214456176757839, 46.85473395453562], [11.231377156575547, 46.85359937879777], [11.239456176757837, 46.846400621202285], [11.260543823242212, 46.845266045464435], [11.26458333333336, 46.84213528103301], [11.26875, 46.84536471896704], [11.272789510091172, 46.842233954535615], [11.323043823242214, 46.84109937879777], [11.331122843424506, 46.83390062120228], [11.343877156575548, 46.83276604546444], [11.347789510091172, 46.82973395453561], [11.35331590440541, 46.82831590440541], [11.354733954535616, 46.82278951009117], [11.357766045464437, 46.818877156575546], [11.358900621202284, 46.81445617675784], [11.36609937879777, 46.80637715657554], [11.366666666666694, 46.80416666666669], [11.365779283311658, 46.80070834689673], [11.356122843424506, 46.7994327121311], [11.35208333333336, 46.796301947699675], [11.347916666666693, 46.799531385633706], [11.343877156575548, 46.79640062120228], [11.339456176757839, 46.79526604546444], [11.335543823242213, 46.79223395453562], [11.321806165907145, 46.79101189507381], [11.31306728786895, 46.781377156575545], [11.311932712131103, 46.776956176757835], [11.304733954535617, 46.76887715657555], [11.30359937879777, 46.76445617675784], [11.30056728786895, 46.760543823242216], [11.299149237738742, 46.75501742892798], [11.293622843424505, 46.753599378797766], [11.289710489908881, 46.75056728786895], [11.279166666666693, 46.75], [11.278813340928846, 46.73924221462676], [11.27464667426218, 46.73504638671878], [11.275353325737873, 46.73090888129343], [11.283319430881102, 46.722917344835096], [11.27951999240454, 46.71909111870662], [11.278813340928846, 46.705908881293425], [11.275353325737873, 46.702424452039956], [11.275, 46.7], [11.274032253689262, 46.69622938368058], [11.267413330078151, 46.691099378797766], [11.260289510091171, 46.69223395453562], [11.25491333007815, 46.69640062120228], [11.251956176757838, 46.695266045464436], [11.248043823242213, 46.69223395453562], [11.239456176757837, 46.691099378797766], [11.235543823242214, 46.68806728786895], [11.218622843424505, 46.6869327121311], [11.21471048990888, 46.683900621202284], [11.197789510091171, 46.68276604546443], [11.193877156575546, 46.679733954535614], [11.184220716688394, 46.67845831976999], [11.182413736979193, 46.671416219075546], [11.173043823242214, 46.66306728786895], [11.168622843424505, 46.6619327121311], [11.159270562065997, 46.653599378797765], [11.154985215928845, 46.655143907335095], [11.154166666666692, 46.65833333333336], [11.15085076226131, 46.65918409559464], [11.15, 46.6625], [11.150353325737871, 46.66909111870662], [11.155876329210095, 46.67464192708336], [11.160757785373288, 46.67535332573787], [11.166668023003497, 46.68123406304256], [11.162853325737872, 46.685075547960096], [11.162146674262178, 46.68992445203995], [11.15451999240454, 46.69757554796009], [11.153813340928846, 46.702424452039956], [11.148290337456622, 46.70797526041669], [11.143408881293428, 46.708686659071205], [11.139924452039956, 46.71214667426218], [11.122575547960095, 46.712853325737875], [11.119091118706622, 46.71631334092884], [11.11424221462676, 46.71701999240454], [11.110757785373288, 46.72048000759551], [11.10174221462676, 46.72118665907121], [11.098257785373288, 46.724646674262175], [11.085075547960095, 46.72535332573787], [11.081591118706623, 46.728813340928845], [11.075, 46.72916666666669]]]}, \"reducer\": {\"process_graph\": {\"sum1\": {\"process_id\": \"sum\", \"arguments\": {\"data\": {\"from_parameter\": \"data\"}}, \"result\": true}}}}, \"result\": true}}}}</script>\n",
       "    </openeo-model-builder>\n",
       "    "
      ],
      "text/plain": [
       "<openeo.rest.vectorcube.VectorCube at 0x7fa2d69f5f50>"
      ]
     },
     "execution_count": 24,
     "metadata": {},
     "output_type": "execute_result"
    }
   ],
   "source": [
    "# number of all pixels\n",
    "n_catchment = ((snowmap_cloudfree > -1) * 1.0).add_dimension(name=\"bands\",type=\"bands\",label=\"n_catchment\")\n",
    "\n",
    "# number of cloud pixels (no function needed, mask already created before)\n",
    "n_cloud = cloud_mask.add_dimension(name=\"bands\",type=\"bands\",label=\"n_cloud\")\n",
    "\n",
    "# number of snow pixels\n",
    "n_snow = ((snowmap_cloudfree == 1) * 1.0).add_dimension(name=\"bands\",type=\"bands\",label=\"n_snow\")\n",
    "\n",
    "# combine the binary data cubes into one data cube\n",
    "n_catchment_cloud_snow = n_catchment.merge_cubes(n_cloud).merge_cubes(n_snow)\n",
    "\n",
    "# aggregate to catchment\n",
    "n_pixels = n_catchment_cloud_snow.aggregate_spatial(geometries = catchment_outline['geometry'][0], reducer = 'sum')\n",
    "n_pixels"
   ]
  },
  {
   "cell_type": "markdown",
   "id": "ff976399-bea0-477f-a014-5cf6a961e674",
   "metadata": {},
   "source": [
    "### Register a batch job for processing\n",
    "We are starting the processing now with a batch job. This registers our job on the backend in our user space and assigns further information to the job, such as an ID, the job status, the process graph and further metadata. First we specifiy the end of our process graph with `save_result()` and specifiy the format (since we aggregated over the spatial dimension we will receive three arrays of data. So JSON is a suitable format). Then we create the batch job and start it."
   ]
  },
  {
   "cell_type": "code",
   "execution_count": 25,
   "id": "09d15142-b402-4b85-a98c-e3aa61d793c8",
   "metadata": {
    "tags": []
   },
   "outputs": [],
   "source": [
    "# Define the end of the process graph and the output format\n",
    "n_pixels_json = n_pixels.save_result(format=\"JSON\")\n",
    "# Create a batch job\n",
    "job = n_pixels_json.create_job(title=\"n_pixels_json\")\n",
    "# start the job\n",
    "job.start_job()"
   ]
  },
  {
   "cell_type": "markdown",
   "id": "cc1be5d0-c0bd-4bad-8c7f-ee8ca0f50c9b",
   "metadata": {},
   "source": [
    "Now we can check the status of our job. We can download the result once the job has finished."
   ]
  },
  {
   "cell_type": "code",
   "execution_count": 29,
   "id": "2b2e726b-1c43-45e8-b0a4-e55a960c543a",
   "metadata": {
    "tags": []
   },
   "outputs": [
    {
     "data": {
      "text/plain": [
       "'finished'"
      ]
     },
     "execution_count": 29,
     "metadata": {},
     "output_type": "execute_result"
    }
   ],
   "source": [
    "job.status()"
   ]
  },
  {
   "cell_type": "code",
   "execution_count": 30,
   "id": "4350f435-c8ef-4c15-a461-4745d66677d0",
   "metadata": {
    "tags": []
   },
   "outputs": [],
   "source": [
    "if job.status() == \"finished\":\n",
    "    results = job.get_results()\n",
    "    results.download_files(\"results/\")"
   ]
  },
  {
   "cell_type": "markdown",
   "id": "aa996a8d-ced1-4641-b8b8-4b5badab028d",
   "metadata": {},
   "source": [
    "### Load the resulting time series\n",
    "Let's load the result. It contains the total number of pixels in the catchment, number of cloud and snow pixels."
   ]
  },
  {
   "cell_type": "code",
   "execution_count": 32,
   "id": "74764134-ea52-4837-a635-eb8e65119b12",
   "metadata": {
    "tags": []
   },
   "outputs": [],
   "source": [
    "# load the result\n",
    "with open(\"results/timeseries.json\",\"r\") as file:\n",
    "    n_pixels_json = json.load(file)"
   ]
  },
  {
   "cell_type": "code",
   "execution_count": 33,
   "id": "e022c407-f8a2-4fae-8869-4283cbd1916f",
   "metadata": {
    "tags": []
   },
   "outputs": [
    {
     "data": {
      "text/plain": [
       "[('2018-02-16T00:00:00Z', [[4201607.0, 1809140.0, 1479720.0]]),\n",
       " ('2018-04-17T00:00:00Z', [[4201607.0, 821551.0, 2215174.0]]),\n",
       " ('2018-05-17T00:00:00Z', [[4201607.0, 4033271.0, 87670.0]])]"
      ]
     },
     "execution_count": 33,
     "metadata": {},
     "output_type": "execute_result"
    }
   ],
   "source": [
    "# check the first 5 entries to check the data structure.\n",
    "list(n_pixels_json.items())[:3] # careful unsorted dates due to JSON format"
   ]
  },
  {
   "cell_type": "markdown",
   "id": "0101fa0a-44ac-4ece-b555-e29f6b4167da",
   "metadata": {},
   "source": [
    "Now we do some data wrangling to get a structured data frame."
   ]
  },
  {
   "cell_type": "code",
   "execution_count": 34,
   "id": "1ec6fdfe-329f-4688-887d-9dc8fa6bd492",
   "metadata": {
    "tags": []
   },
   "outputs": [
    {
     "data": {
      "text/html": [
       "<div>\n",
       "<style scoped>\n",
       "    .dataframe tbody tr th:only-of-type {\n",
       "        vertical-align: middle;\n",
       "    }\n",
       "\n",
       "    .dataframe tbody tr th {\n",
       "        vertical-align: top;\n",
       "    }\n",
       "\n",
       "    .dataframe thead th {\n",
       "        text-align: right;\n",
       "    }\n",
       "</style>\n",
       "<table border=\"1\" class=\"dataframe\">\n",
       "  <thead>\n",
       "    <tr style=\"text-align: right;\">\n",
       "      <th></th>\n",
       "      <th>n_catchment_vals</th>\n",
       "      <th>n_cloud_vals</th>\n",
       "      <th>n_snow_vals</th>\n",
       "    </tr>\n",
       "    <tr>\n",
       "      <th>time</th>\n",
       "      <th></th>\n",
       "      <th></th>\n",
       "      <th></th>\n",
       "    </tr>\n",
       "  </thead>\n",
       "  <tbody>\n",
       "    <tr>\n",
       "      <th>2018-02-06 00:00:00+00:00</th>\n",
       "      <td>1489702.0</td>\n",
       "      <td>253542.0</td>\n",
       "      <td>619519.0</td>\n",
       "    </tr>\n",
       "    <tr>\n",
       "      <th>2018-02-08 00:00:00+00:00</th>\n",
       "      <td>4201607.0</td>\n",
       "      <td>183099.0</td>\n",
       "      <td>2907006.0</td>\n",
       "    </tr>\n",
       "    <tr>\n",
       "      <th>2018-02-11 00:00:00+00:00</th>\n",
       "      <td>4201607.0</td>\n",
       "      <td>60947.0</td>\n",
       "      <td>2943057.0</td>\n",
       "    </tr>\n",
       "  </tbody>\n",
       "</table>\n",
       "</div>"
      ],
      "text/plain": [
       "                           n_catchment_vals  n_cloud_vals  n_snow_vals\n",
       "time                                                                  \n",
       "2018-02-06 00:00:00+00:00         1489702.0      253542.0     619519.0\n",
       "2018-02-08 00:00:00+00:00         4201607.0      183099.0    2907006.0\n",
       "2018-02-11 00:00:00+00:00         4201607.0       60947.0    2943057.0"
      ]
     },
     "execution_count": 34,
     "metadata": {},
     "output_type": "execute_result"
    }
   ],
   "source": [
    "# Create a Pandas DataFrame to hold the values\n",
    "dates = [k for k in n_pixels_json]\n",
    "n_catchment_vals = [n_pixels_json[k][0][0] for k in n_pixels_json]\n",
    "n_cloud_vals = [n_pixels_json[k][0][1] for k in n_pixels_json]\n",
    "n_snow_vals = [n_pixels_json[k][0][2] for k in n_pixels_json]\n",
    "\n",
    "data = {\n",
    "        \"time\":pd.to_datetime(dates),\n",
    "        \"n_catchment_vals\":n_catchment_vals,\n",
    "        \"n_cloud_vals\":n_cloud_vals,\n",
    "        \"n_snow_vals\":n_snow_vals\n",
    "       }\n",
    "df = pd.DataFrame(data=data).set_index(\"time\")\n",
    "# Sort the values by date\n",
    "df = df.sort_values(axis=0,by=\"time\")\n",
    "df[:3]"
   ]
  },
  {
   "cell_type": "markdown",
   "id": "1bad0cdc-9ae9-4dfc-a6d7-e7079bcd947a",
   "metadata": {},
   "source": [
    "### Calculate the cloud percentage for filtering time steps\n",
    "Divide the number of cloudy pixels by the number of total pixels = cloud percentage"
   ]
  },
  {
   "cell_type": "code",
   "execution_count": 35,
   "id": "ba2372ff-410f-47fb-849e-b8d008baf320",
   "metadata": {
    "tags": []
   },
   "outputs": [
    {
     "data": {
      "text/html": [
       "<div>\n",
       "<style scoped>\n",
       "    .dataframe tbody tr th:only-of-type {\n",
       "        vertical-align: middle;\n",
       "    }\n",
       "\n",
       "    .dataframe tbody tr th {\n",
       "        vertical-align: top;\n",
       "    }\n",
       "\n",
       "    .dataframe thead th {\n",
       "        text-align: right;\n",
       "    }\n",
       "</style>\n",
       "<table border=\"1\" class=\"dataframe\">\n",
       "  <thead>\n",
       "    <tr style=\"text-align: right;\">\n",
       "      <th></th>\n",
       "      <th>n_catchment_vals</th>\n",
       "      <th>n_cloud_vals</th>\n",
       "      <th>n_snow_vals</th>\n",
       "      <th>perc_cloud</th>\n",
       "    </tr>\n",
       "    <tr>\n",
       "      <th>time</th>\n",
       "      <th></th>\n",
       "      <th></th>\n",
       "      <th></th>\n",
       "      <th></th>\n",
       "    </tr>\n",
       "  </thead>\n",
       "  <tbody>\n",
       "    <tr>\n",
       "      <th>2018-02-06 00:00:00+00:00</th>\n",
       "      <td>1489702.0</td>\n",
       "      <td>253542.0</td>\n",
       "      <td>619519.0</td>\n",
       "      <td>17.019646</td>\n",
       "    </tr>\n",
       "    <tr>\n",
       "      <th>2018-02-08 00:00:00+00:00</th>\n",
       "      <td>4201607.0</td>\n",
       "      <td>183099.0</td>\n",
       "      <td>2907006.0</td>\n",
       "      <td>4.357833</td>\n",
       "    </tr>\n",
       "    <tr>\n",
       "      <th>2018-02-11 00:00:00+00:00</th>\n",
       "      <td>4201607.0</td>\n",
       "      <td>60947.0</td>\n",
       "      <td>2943057.0</td>\n",
       "      <td>1.450564</td>\n",
       "    </tr>\n",
       "  </tbody>\n",
       "</table>\n",
       "</div>"
      ],
      "text/plain": [
       "                           n_catchment_vals  n_cloud_vals  n_snow_vals  \\\n",
       "time                                                                     \n",
       "2018-02-06 00:00:00+00:00         1489702.0      253542.0     619519.0   \n",
       "2018-02-08 00:00:00+00:00         4201607.0      183099.0    2907006.0   \n",
       "2018-02-11 00:00:00+00:00         4201607.0       60947.0    2943057.0   \n",
       "\n",
       "                           perc_cloud  \n",
       "time                                   \n",
       "2018-02-06 00:00:00+00:00   17.019646  \n",
       "2018-02-08 00:00:00+00:00    4.357833  \n",
       "2018-02-11 00:00:00+00:00    1.450564  "
      ]
     },
     "execution_count": 35,
     "metadata": {},
     "output_type": "execute_result"
    }
   ],
   "source": [
    "perc_cloud = df[\"n_cloud_vals\"].values / df[\"n_catchment_vals\"].values * 100\n",
    "df[\"perc_cloud\"] = perc_cloud\n",
    "df[:3]"
   ]
  },
  {
   "cell_type": "markdown",
   "id": "af1331f9-b440-4f0e-a161-00cc00ffcd25",
   "metadata": {},
   "source": [
    "Plot the timeseries and the cloud threshold of 25%. If the cloud cover is higher the timestep will be excluded later on.\n",
    "\n",
    "Plot the **cloud percentage** with the threshold."
   ]
  },
  {
   "cell_type": "code",
   "execution_count": 36,
   "id": "fdea8b55-0cb5-4985-9913-55ac66a63d94",
   "metadata": {
    "tags": []
   },
   "outputs": [
    {
     "data": {
      "image/png": "[encoded data removed]",
      "text/plain": [
       "<Figure size 640x480 with 1 Axes>"
      ]
     },
     "metadata": {},
     "output_type": "display_data"
    }
   ],
   "source": [
    "df.plot(y=\"perc_cloud\",rot=45,kind=\"line\",marker='o')\n",
    "plt.axhline(y = 25, color = \"r\", linestyle = \"-\")\n",
    "plt.show()"
   ]
  },
  {
   "cell_type": "markdown",
   "id": "153772f2-dfdd-44e2-9cc5-5579c5dd3fd1",
   "metadata": {},
   "source": [
    "### Calculate the snow percentage\n",
    "Divide the number of snow pixels by the number of total pixels = snow percentage"
   ]
  },
  {
   "cell_type": "code",
   "execution_count": 37,
   "id": "669cba7c-d625-4adc-8d40-e029702a8826",
   "metadata": {
    "tags": []
   },
   "outputs": [
    {
     "data": {
      "text/html": [
       "<div>\n",
       "<style scoped>\n",
       "    .dataframe tbody tr th:only-of-type {\n",
       "        vertical-align: middle;\n",
       "    }\n",
       "\n",
       "    .dataframe tbody tr th {\n",
       "        vertical-align: top;\n",
       "    }\n",
       "\n",
       "    .dataframe thead th {\n",
       "        text-align: right;\n",
       "    }\n",
       "</style>\n",
       "<table border=\"1\" class=\"dataframe\">\n",
       "  <thead>\n",
       "    <tr style=\"text-align: right;\">\n",
       "      <th></th>\n",
       "      <th>n_catchment_vals</th>\n",
       "      <th>n_cloud_vals</th>\n",
       "      <th>n_snow_vals</th>\n",
       "      <th>perc_cloud</th>\n",
       "      <th>perc_snow</th>\n",
       "    </tr>\n",
       "    <tr>\n",
       "      <th>time</th>\n",
       "      <th></th>\n",
       "      <th></th>\n",
       "      <th></th>\n",
       "      <th></th>\n",
       "      <th></th>\n",
       "    </tr>\n",
       "  </thead>\n",
       "  <tbody>\n",
       "    <tr>\n",
       "      <th>2018-02-06 00:00:00+00:00</th>\n",
       "      <td>1489702.0</td>\n",
       "      <td>253542.0</td>\n",
       "      <td>619519.0</td>\n",
       "      <td>17.019646</td>\n",
       "      <td>41.586774</td>\n",
       "    </tr>\n",
       "    <tr>\n",
       "      <th>2018-02-08 00:00:00+00:00</th>\n",
       "      <td>4201607.0</td>\n",
       "      <td>183099.0</td>\n",
       "      <td>2907006.0</td>\n",
       "      <td>4.357833</td>\n",
       "      <td>69.187956</td>\n",
       "    </tr>\n",
       "    <tr>\n",
       "      <th>2018-02-11 00:00:00+00:00</th>\n",
       "      <td>4201607.0</td>\n",
       "      <td>60947.0</td>\n",
       "      <td>2943057.0</td>\n",
       "      <td>1.450564</td>\n",
       "      <td>70.045985</td>\n",
       "    </tr>\n",
       "  </tbody>\n",
       "</table>\n",
       "</div>"
      ],
      "text/plain": [
       "                           n_catchment_vals  n_cloud_vals  n_snow_vals  \\\n",
       "time                                                                     \n",
       "2018-02-06 00:00:00+00:00         1489702.0      253542.0     619519.0   \n",
       "2018-02-08 00:00:00+00:00         4201607.0      183099.0    2907006.0   \n",
       "2018-02-11 00:00:00+00:00         4201607.0       60947.0    2943057.0   \n",
       "\n",
       "                           perc_cloud  perc_snow  \n",
       "time                                              \n",
       "2018-02-06 00:00:00+00:00   17.019646  41.586774  \n",
       "2018-02-08 00:00:00+00:00    4.357833  69.187956  \n",
       "2018-02-11 00:00:00+00:00    1.450564  70.045985  "
      ]
     },
     "execution_count": 37,
     "metadata": {},
     "output_type": "execute_result"
    }
   ],
   "source": [
    "perc_snow = df[\"n_snow_vals\"].values / df[\"n_catchment_vals\"].values * 100\n",
    "df[\"perc_snow\"] = perc_snow\n",
    "df[:3]"
   ]
  },
  {
   "cell_type": "markdown",
   "id": "56db5d2a-22af-4200-9ea2-5d94479d9f72",
   "metadata": {},
   "source": [
    "Plot the **unfiltered snow percentage**"
   ]
  },
  {
   "cell_type": "code",
   "execution_count": 38,
   "id": "03e06724-f4c6-4dd0-9707-d94c92b4c74c",
   "metadata": {
    "tags": []
   },
   "outputs": [
    {
     "data": {
      "image/png": "[encoded data removed]",
      "text/plain": [
       "<Figure size 640x480 with 1 Axes>"
      ]
     },
     "metadata": {},
     "output_type": "display_data"
    }
   ],
   "source": [
    "df.plot(y=\"perc_snow\",rot=45,kind=\"line\",marker='o')\n",
    "plt.show()"
   ]
  },
  {
   "cell_type": "markdown",
   "id": "c6ca8ab6-a6b6-479f-821d-236dd8cb5df9",
   "metadata": {},
   "source": [
    "### Filter out cloudy time steps\n",
    "Keep only the dates with cloud coverage less than the threshold"
   ]
  },
  {
   "cell_type": "code",
   "execution_count": 39,
   "id": "f8c31218-8d75-43b3-9106-bf70f0624544",
   "metadata": {
    "tags": []
   },
   "outputs": [],
   "source": [
    "df_filtered = df.loc[df[\"perc_cloud\"]<25]"
   ]
  },
  {
   "cell_type": "markdown",
   "id": "9e192035-03c3-4b98-bb0c-611128be8284",
   "metadata": {},
   "source": [
    "### Plot and save the cloud free snow percentage time series\n",
    "Plot the **cloud filtered snow percentage**"
   ]
  },
  {
   "cell_type": "code",
   "execution_count": 40,
   "id": "b6c0646a-1385-4980-b443-48fbb2062783",
   "metadata": {
    "tags": []
   },
   "outputs": [
    {
     "data": {
      "image/png": "[encoded data removed]",
      "text/plain": [
       "<Figure size 640x480 with 1 Axes>"
      ]
     },
     "metadata": {},
     "output_type": "display_data"
    }
   ],
   "source": [
    "df_filtered.plot(y=\"perc_snow\",rot=45,kind=\"line\",marker='o')\n",
    "plt.show()"
   ]
  },
  {
   "cell_type": "markdown",
   "id": "dcff56ef-8fe1-4b63-a2b4-5c37b69572da",
   "metadata": {
    "tags": []
   },
   "source": [
    "Save the **cloud filtered snow percentage**"
   ]
  },
  {
   "cell_type": "code",
   "execution_count": 41,
   "id": "ff1025f1-f2ed-4d5f-afbd-c95df37da869",
   "metadata": {
    "tags": []
   },
   "outputs": [],
   "source": [
    "df_filtered.to_csv(\"results/filtered_snow_perc.csv\")"
   ]
  }
 ],
 "metadata": {
  "kernelspec": {
   "display_name": "users-edc-2023.07-01",
   "language": "python",
   "name": "conda-env-users-edc-2023.07-01-py"
  },
  "language_info": {
   "codemirror_mode": {
    "name": "ipython",
    "version": 3
   },
   "file_extension": ".py",
   "mimetype": "text/x-python",
   "name": "python",
   "nbconvert_exporter": "python",
   "pygments_lexer": "ipython3",
   "version": "3.11.4"
  }
 },
 "nbformat": 4,
 "nbformat_minor": 5
}
