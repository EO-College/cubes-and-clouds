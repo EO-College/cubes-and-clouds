{
 "cells": [
  {
   "cell_type": "markdown",
   "id": "d9e0a698-25e4-4364-a234-af7f788be5d6",
   "metadata": {},
   "source": [
    "<center><img src=\"https://raw.githubusercontent.com/EO-College/cubes-and-clouds/main/icons/cnc_3icons_process_circle.svg\"\n",
    "     alt=\"Cubes & Clouds logo\"\n",
    "     style=\"float: center; margin-right: 10px; margin-left: 10px; max-height: 250px;\" /></center>"
   ]
  },
  {
   "cell_type": "markdown",
   "id": "0c6aed2f-1493-4636-a124-03c81b28bc52",
   "metadata": {},
   "source": [
    "# 3.3 Data Sharing with Pangeo\n",
    "\n",
    "<img src=\"https://raw.githubusercontent.com/pangeo-data/pangeo.io/refs/heads/main/public/Pangeo-assets/pangeo_logo.png\"\n",
    "     alt=\"Pangeo logo\"\n",
    "     style=\"float: center; margin-right: 10px; max-height: 80px;\"/>\n",
    "     \n",
    "Science becomes significantly more impactful when it is shared. Therefore, we will learn how to open up our scientific output from a cloud platform to ensure it is Findable, Accessible, Interoperable, and Reusable (FAIR), maximizing its potential to contribute to broader research and applications.\n",
    "\n",
    "We will follow these steps:\n",
    "\n",
    "- Reuse the workflow previously used to create the snow-covered area.\n",
    "- Select the Area of Interest (AOI).\n",
    "- Download results for a single time-step:\n",
    "    - A Snow Cover Area map in the COG (Cloud Optimized GeoTIFF) format.\n",
    "    - A STAC (SpatioTemporal Asset Catalog) metadata item generated using the Pangeo ecosystem.\n",
    "- Adapt the STAC metadata item to include standardized and machine-readable metadata, improving its findability and interoperability.\n",
    "- Upload the results and make them openly available via:\n",
    "    - A STAC browser to enhance searchability and accessibility.\n",
    "    - A web map to facilitate visualization and usability for a wide range of stakeholders.\n",
    "\n",
    "By ensuring the data is as compliant as possible with the FAIR principles, we aim to make it easier for researchers, policymakers, and other stakeholders to discover, access, and build upon the scientific outputs."
   ]
  },
  {
   "cell_type": "markdown",
   "id": "7d102aad-5b61-422c-acb1-9c89621d70e3",
   "metadata": {
    "tags": []
   },
   "source": [
    "## Libraries"
   ]
  },
  {
   "cell_type": "markdown",
   "id": "bfd758d4-a3d3-44ae-9cd0-7689af34effe",
   "metadata": {},
   "source": [
    "Start by creating the folders and data files needed to complete the exercise"
   ]
  },
  {
   "cell_type": "code",
   "execution_count": null,
   "id": "cc4a7712-62f8-4459-85a7-f6ac46e6d9d2",
   "metadata": {
    "tags": []
   },
   "outputs": [],
   "source": [
    "!cp -r ${DATA_PATH%/*/*}/notebooks/cubes-and-clouds/lectures/3.3_data_sharing/exercises/_33_pangeo_utilities.py $HOME/\n",
    "!mkdir -p $HOME/33_results"
   ]
  },
  {
   "cell_type": "code",
   "execution_count": null,
   "id": "1abf270c-d73e-4109-854c-3cf36a1b36d7",
   "metadata": {
    "tags": []
   },
   "outputs": [],
   "source": [
    "import json\n",
    "import os\n",
    "import subprocess\n",
    "from datetime import datetime, timezone\n",
    "\n",
    "import numpy as np\n",
    "\n",
    "import ipyleaflet\n",
    "\n",
    "import geopandas as gpd\n",
    "import shapely\n",
    "from shapely.geometry import Polygon\n",
    "\n",
    "import pystac_client\n",
    "import pystac\n",
    "\n",
    "import matplotlib.pyplot as plt\n",
    "from matplotlib.ticker import PercentFormatter\n",
    "\n",
    "import rioxarray as rio\n",
    "import xarray\n",
    "\n",
    "from _33_pangeo_utilities import (\n",
    "    calculate_sca,\n",
    "    create_bounding_box,\n",
    "    extract_metadata_geometry, \n",
    "    extract_metadata_time,\n",
    "    extract_metadata_stac, \n",
    ")"
   ]
  },
  {
   "attachments": {
    "c26efbac-3096-4811-8f9e-20713817dab3.png": {
     "image/png": "[encoded data removed]"
    }
   },
   "cell_type": "markdown",
   "id": "b2d634d7-e719-4cab-8066-ed0cc1c278f6",
   "metadata": {
    "tags": []
   },
   "source": [
    "## Select an Area of Interest and Time Frame\n",
    "\n",
    "Start by selecting a center point of the area you would like to analyse from the map shown below.\n",
    "Use the circle marker tool: ![image.png](attachment:c26efbac-3096-4811-8f9e-20713817dab3.png)\n",
    "\n",
    "The starting extent is the full Alps. Zoom in to an area and choose a region that has not been mapped yet. *Make sure not to overlap too much with already mapped areas by having a look at the [STAC Collection](https://esa.pages.eox.at/cubes-and-clouds-catalog/browser/#/?.language=en)*. It's a community mapping project :)\n",
    "Create a 1 km bounding box around it. This will be the area you are calculating the snow covered area for. "
   ]
  },
  {
   "cell_type": "markdown",
   "id": "3cfc19ce-a624-4ecf-8890-4f615e25ad63",
   "metadata": {},
   "source": [
    "<div class=\"alert alert-block alert-warning\">\n",
    "    <b>Attention:</b>\n",
    " Execute the cell below to show the map. Zoom to a location you want to analyze. Use the \"draw a circlemarker\" button to select a point. A marker appears on the map. This is the center of your area of interest\n",
    "</div>"
   ]
  },
  {
   "cell_type": "code",
   "execution_count": null,
   "id": "c2999d0e-210e-4188-8c03-31719c06a70d",
   "metadata": {
    "tags": []
   },
   "outputs": [],
   "source": [
    "m = ipyleaflet.Map(\n",
    "    center=(47.005, 11.507),\n",
    "    zoom=7.5)\n",
    "\n",
    "draw_control = ipyleaflet.DrawControl()\n",
    "\n",
    "m.add(draw_control)\n",
    "m"
   ]
  },
  {
   "cell_type": "markdown",
   "id": "35370594-f936-4789-8cc4-838b4913320a",
   "metadata": {},
   "source": [
    "**Attention:**\n",
    " Now this cell will get the coordinates of the marker you have placed. This will create a 1 km bounding box around the chosen location. And visualize it in the map above. *The marker moves to the center when you zoom in*"
   ]
  },
  {
   "cell_type": "markdown",
   "id": "43b26ab5-1e30-4a51-b4e4-3fb50401634d",
   "metadata": {},
   "source": [
    "### Create a bounding box once the location of interest is selected"
   ]
  },
  {
   "cell_type": "code",
   "execution_count": null,
   "id": "abada03a-07c6-427f-a6f0-e0d9440ba5a5",
   "metadata": {
    "tags": []
   },
   "outputs": [],
   "source": [
    "geom = draw_control.last_draw[\"geometry\"]['coordinates']\n",
    "\n",
    "# set distance of 1 km around bbox\n",
    "distance_km = 1\n",
    "\n",
    "# Create a bounding box around the point\n",
    "bbox = create_bounding_box(geom[0], geom[1], distance_km)\n",
    "bbox"
   ]
  },
  {
   "cell_type": "markdown",
   "id": "c6acd69e-09f2-4464-928a-5c1c8a125118",
   "metadata": {},
   "source": [
    "We generate a polygon from the list points and add it on the map"
   ]
  },
  {
   "cell_type": "code",
   "execution_count": null,
   "id": "c5192c33-a7c0-4fb4-8140-66d939efb5de",
   "metadata": {
    "tags": []
   },
   "outputs": [],
   "source": [
    "# Create polygon from lists of points\n",
    "polygon = ipyleaflet.Polygon(\n",
    "    locations=[(bbox[1], bbox[0]), (bbox[3], bbox[0]), (bbox[3], bbox[2]),(bbox[1], bbox[2])],\n",
    "    color=\"green\",\n",
    "    fill_color=\"green\"\n",
    ")\n",
    "\n",
    "# Add the polygon to the map\n",
    "m.add(polygon);"
   ]
  },
  {
   "cell_type": "markdown",
   "id": "b8fc1d08-5464-4a04-a98a-b4f6d8c2bf82",
   "metadata": {},
   "source": [
    "Now we'll select the time frame. We'll start with the winter months of 2023. "
   ]
  },
  {
   "cell_type": "code",
   "execution_count": null,
   "id": "553852f1-24dd-41be-96b7-6cabafc161a9",
   "metadata": {
    "tags": []
   },
   "outputs": [],
   "source": [
    "temporal_extent = [\"2023-12-20\", \"2024-03-20\"]"
   ]
  },
  {
   "cell_type": "markdown",
   "id": "26325c28-6329-491f-9cdf-15c573a6d0f5",
   "metadata": {},
   "source": [
    "## Reuse the function to compute the snow covered area data cube\n",
    "\n",
    "To enhance reusability and streamline our workflow, we've encapsulated the Python code used to create the snow-covered area data cube into a reusable function, `calculate_sca()`. This function is stored in the `_33_pangeo_utilities.py` module.\n",
    "\n",
    "The function generates a three-dimensional data cube with the dimensions x, y, and time. By exposing key parameters to the function, specifically the bounding box and temporal extent, we've made it easy to adapt the function to different scenarios. For this exercise, we will update these parameters based on the choices we've made above.\n",
    "\n",
    "### Why Create Functions?\n",
    "Creating reusable functions like `calculate_sca()` is a best practice in Python for several reasons:\n",
    "- Improved Reusability: Functions allow you to reuse the same logic across multiple projects or analyses, reducing the need to rewrite code.\n",
    "- Modularity: Encapsulating code in functions helps organize scripts into logical sections, making them easier to understand and maintain.\n",
    "- Error Reduction: Reusing a thoroughly tested function minimizes the risk of introducing errors in your code.\n",
    "- Adaptability: Exposing parameters like the bounding box and temporal extent allows you to customize the function for different datasets or regions without modifying the core logic.\n",
    "\n",
    "By following this approach, we create more flexible, maintainable, and scalable workflows that can be easily shared with others or reused in future projects.\n",
    "\n",
    "We will call the function with the bounding box and temporal extent we chose above. "
   ]
  },
  {
   "cell_type": "code",
   "execution_count": null,
   "id": "af2c5198-c846-4478-97cd-28f051336af9",
   "metadata": {
    "tags": []
   },
   "outputs": [],
   "source": [
    "snow_map_3dcube = calculate_sca(bbox, temporal_extent)\n",
    "snow_map_3dcube"
   ]
  },
  {
   "cell_type": "markdown",
   "id": "7973af9d-15e0-4fae-bdfa-c35faf7f652a",
   "metadata": {},
   "source": [
    "## Reduce the time dimension\n",
    "\n",
    "To calculate the Snow-Covered Area (SCA) for the winter period of a given year, we need to reduce the values along the time dimension. Using `Xarray`, we achieve this by applying the `median()` operation along the time axis.\n",
    "\n",
    "Instead of performing the computation immediately, we leverage lazy loading in `Xarray`, which allows us to build a process graph that defines the computation steps without executing them. This approach optimizes memory usage and efficiency, as the computation will only be executed when explicitly triggered."
   ]
  },
  {
   "cell_type": "code",
   "execution_count": null,
   "id": "1d8e9005-f0b7-49af-b83a-9a2983a2965b",
   "metadata": {
    "tags": []
   },
   "outputs": [],
   "source": [
    "snow_map_2dcube = snow_map_3dcube.median([\"time\"])\n",
    "snow_map_2dcube"
   ]
  },
  {
   "cell_type": "markdown",
   "id": "ecd9a203-4664-4a6a-a232-6d848e8b4684",
   "metadata": {},
   "source": [
    "Additionally, we update the metadata associated with the data to ensure that it remains accurate and informative throughout the process. By directly building upon the process graph we loaded earlier, we incrementally prepare the computation while keeping the workflow efficient and modular.\n",
    "We add attributes such as statistics to the dataset, such as a summary of the values within the dataset and also some metadata, i.e. the legend (TIFFTAGS).  And we reduce the datatype to the lowest possible datatype supported by COG uint8, since only have three values to represent (0, 1, 2)."
   ]
  },
  {
   "cell_type": "code",
   "execution_count": null,
   "id": "733cd07f-655e-4d8a-bf14-692003bbcfc2",
   "metadata": {
    "tags": []
   },
   "outputs": [],
   "source": [
    "snow_map_2dcube = snow_map_2dcube.rename(\"snow_covered_area\")\n",
    "snow_map_2dcube = snow_map_2dcube.astype(\"uint8\")"
   ]
  },
  {
   "cell_type": "code",
   "execution_count": null,
   "id": "d99ad013-09ee-4320-a5a3-d4cb930fccde",
   "metadata": {
    "tags": []
   },
   "outputs": [],
   "source": [
    "snow_map_2dcube.attrs[\"TIFFTAG_IMAGEDESCRIPTION\"] = \"SnowCoveredArea_0=nosnow_1=snow_2-nodatavalue=cloud\"\n",
    "snow_map_2dcube.attrs[\"STATISTICS_MAXIMUM\"] = 1\n",
    "snow_map_2dcube.attrs[\"STATISTICS_MEAN\"] = 1\n",
    "snow_map_2dcube.attrs[\"STATISTICS_MINIMUM\"] = 1\n",
    "snow_map_2dcube.attrs[\"STATISTICS_STDDEV\"] = 0\n",
    "snow_map_2dcube.attrs[\"_FillValue\"] = 2\n",
    "snow_map_2dcube.attrs[\"scale_factor\"] = 1\n",
    "snow_map_2dcube.attrs[\"add_offset\"] = 0\n",
    "snow_map_2dcube.attrs[\"long_name\"] = \"Snow Covered Area\" \n",
    "snow_map_2dcube.attrs[\"temporal_extent\"] = temporal_extent[0].replace(\"-\",\"/\") + \"-\" + temporal_extent[1].replace(\"-\",\"/\")\n",
    "snow_map_2dcube.attrs[\"spatial_extent\"] =  json.dumps({\"crs\": 4326,\n",
    "                                            \"east\": bbox[2],\n",
    "                                            \"north\": bbox[3],\n",
    "                                            \"south\": bbox[1],\n",
    "                                            \"west\": bbox[0]})"
   ]
  },
  {
   "cell_type": "markdown",
   "id": "251ba878-3841-479a-868e-886d701f50ef",
   "metadata": {
    "tags": []
   },
   "source": [
    "## Save the result locally\n",
    "\n",
    "With the process graph complete, we can now compute the results and save them to a file in the `GTiff` format, which automatically generates a Cloud Optimized GeoTIFF (COG) for efficient storage and access."
   ]
  },
  {
   "cell_type": "code",
   "execution_count": null,
   "id": "558b227d-06c3-447d-91ae-931ca8ec5ec6",
   "metadata": {
    "tags": []
   },
   "outputs": [],
   "source": [
    "snow_map_2dcube.rio.to_raster(\"./33_results/snowmap_cog_pangeo_uint8.tif\", driver=\"COG\")"
   ]
  },
  {
   "cell_type": "markdown",
   "id": "ba5d74b4-ee86-48c4-a6a6-ff8a667ccafd",
   "metadata": {
    "tags": []
   },
   "source": [
    "## Open, load results, and create STAC catalog to share results\n",
    "Now we can open the COG and visualize it. "
   ]
  },
  {
   "cell_type": "code",
   "execution_count": null,
   "id": "c2512ed1-be6d-4700-9f57-4bbed1c9c862",
   "metadata": {
    "tags": []
   },
   "outputs": [],
   "source": [
    "snowmap = rio.open_rasterio(\"./33_results/snowmap_cog_pangeo_uint8.tif\", decode_coords=\"all\")\n",
    "snowmap"
   ]
  },
  {
   "cell_type": "markdown",
   "id": "b00131b6-23a1-4c61-9ab4-03ee5f8288f8",
   "metadata": {},
   "source": [
    "Now, we check if the nodata value can be determined directly from the COG metadata"
   ]
  },
  {
   "cell_type": "markdown",
   "id": "06ebdfae-948b-45e2-97ff-1f7917eff3d5",
   "metadata": {},
   "source": [
    "Now, we make a plot of the snowmap keeping in mind that `0 = no snow`, `1 = snow`, and `2 = clouds (nodata value)`"
   ]
  },
  {
   "cell_type": "code",
   "execution_count": null,
   "id": "82685fa0-8f9a-4174-9287-324ac6c65709",
   "metadata": {
    "tags": []
   },
   "outputs": [],
   "source": [
    "snowmap.plot(levels=[0, 1, 2])\n",
    "plt.title(\"Spatial distribution of snow, no snow and cloudy pixels\")\n",
    "plt.ylabel(\"Latitude\")\n",
    "plt.xlabel(\"Longitude\")\n",
    "plt.tight_layout()"
   ]
  },
  {
   "cell_type": "markdown",
   "id": "c45c4607-5540-42d7-9646-0cd1826eca5d",
   "metadata": {},
   "source": [
    "Let's have a look at the histogram to understand the distribution of the values in our map"
   ]
  },
  {
   "cell_type": "code",
   "execution_count": null,
   "id": "c9ed448e-d027-474e-83ec-7a361edf134e",
   "metadata": {
    "tags": []
   },
   "outputs": [],
   "source": [
    "data = snowmap.values.flatten()\n",
    "snowmap.plot.hist(xticks = [0, 1, 2], weights=np.ones(len(data)) / len(data))\n",
    "\n",
    "plt.gca().yaxis.set_major_formatter(PercentFormatter(1))\n",
    "plt.title(\"Distribution of snow, no snow and cloud pixels\")\n",
    "plt.show()"
   ]
  },
  {
   "cell_type": "markdown",
   "id": "65b9ec26-14be-4599-80a1-b44bde541a98",
   "metadata": {},
   "source": [
    "## Adding STAC metadata\n",
    "In addition to the COG we also need to STAC metadata for our result.\n",
    "Let's have a look at the metadata from the snowmap dataset"
   ]
  },
  {
   "cell_type": "code",
   "execution_count": null,
   "id": "c49eaccc-3ed4-4af7-8d68-851a9e2b1264",
   "metadata": {
    "tags": []
   },
   "outputs": [],
   "source": [
    "snowmap.attrs"
   ]
  },
  {
   "cell_type": "markdown",
   "id": "284412ab-7feb-45b3-8964-16416debcb4e",
   "metadata": {},
   "source": [
    "#### Adding Providers and Author of the data\n",
    "\n",
    "Add your information to become visible as author of the data -  description of each field can be found here: https://github.com/radiantearth/stac-spec/blob/master/commons/common-metadata.md#provider-object\n",
    "\n",
    "Please note that leaving the field empty will lead to failed validation of STAC item"
   ]
  },
  {
   "cell_type": "markdown",
   "id": "4c19d94d-0beb-4ba9-b98b-a91939c22ee0",
   "metadata": {},
   "source": [
    "<div class=\"alert alert-block alert-warning\">\n",
    "    <b>Attention</b>: Enter your full name and a short description of the snowmap you generated e.g. `name = \"Jane Doe\"` and `description = \"snow map of Merano\"`\n",
    "</div>"
   ]
  },
  {
   "cell_type": "code",
   "execution_count": null,
   "id": "23798396-84e5-48d4-b772-8952b0225293",
   "metadata": {
    "tags": []
   },
   "outputs": [],
   "source": [
    "name = \"Your Name\"\n",
    "description = \"Snow map generated with the Pangeo ecosystem\""
   ]
  },
  {
   "cell_type": "code",
   "execution_count": null,
   "id": "b3f1856b-8d9f-474a-b267-cfd86ea2790c",
   "metadata": {
    "tags": []
   },
   "outputs": [],
   "source": [
    "# generate timestamp\n",
    "datetime_utc = datetime.now(tz=timezone.utc)\n",
    "ts = datetime_utc.isoformat().split(\"T\")[0]\n",
    "\n",
    "author = [{\n",
    "    \"name\": name,\n",
    "    \"description\": description,\n",
    "    \"roles\": [\"processor\"],\n",
    "}]\n",
    "\n",
    "providers = author\n",
    "\n",
    "author_id = [name[:2] for name in author[0][\"name\"].split(\" \")]\n",
    "\n",
    "start_time, end_time = snowmap.attrs[\"temporal_extent\"].split(\"-\")\n",
    "\n",
    "spatial_extent = json.loads(snowmap.attrs[\"spatial_extent\"])\n",
    "footprint = {\"type\": \"Polygon\", \"coordinates\": [[\n",
    "    [spatial_extent[\"west\"], spatial_extent[\"south\"]],\n",
    "    [spatial_extent[\"east\"], spatial_extent[\"south\"]],\n",
    "    [spatial_extent[\"east\"], spatial_extent[\"north\"]],\n",
    "    [spatial_extent[\"west\"], spatial_extent[\"north\"]],\n",
    "    [spatial_extent[\"west\"], spatial_extent[\"south\"]] ]]}\n",
    "\n",
    "bbox = (spatial_extent[\"west\"], spatial_extent[\"south\"], \n",
    "        spatial_extent[\"east\"], spatial_extent[\"north\"])\n",
    "\n",
    "temporal_extent = [start_time.replace(\"/\",\"-\"), end_time.replace(\"/\",\"-\")]\n",
    "\n",
    "data_providers, links = extract_metadata_stac(bbox, temporal_extent)\n",
    "\n",
    "properties = { \"providers\" : providers }"
   ]
  },
  {
   "cell_type": "code",
   "execution_count": null,
   "id": "f9fb5e90-83c8-4e3a-9dad-03209c1fd92d",
   "metadata": {
    "tags": []
   },
   "outputs": [],
   "source": [
    "new_item = pystac.Item(id=\"snowcover_\" + \"\".join(author_id).lower()+ \"_pangeo_\" + str(ts),\n",
    "                       geometry=footprint,\n",
    "                       bbox=bbox,\n",
    "                       datetime=None,\n",
    "                       start_datetime=datetime.strptime(start_time, '%Y/%m/%d'),\n",
    "                       end_datetime=datetime.strptime(end_time, '%Y/%m/%d'),\n",
    "                       properties=properties)\n",
    "new_item"
   ]
  },
  {
   "cell_type": "markdown",
   "id": "5ed03021-6c57-41f7-b108-470647d1aab2",
   "metadata": {
    "tags": []
   },
   "source": [
    "### Add this Jupyter Notebook as a link\n",
    "\n",
    "- We use the [Example Links extension specification](https://github.com/stac-extensions/example-links) for this purpose.\n",
    "\n",
    "<div class=\"alert alert-block alert-warning\">\n",
    "    <b>Extension Maturity Classification</b>: This extension is currently classified as a Proposal, meaning it is not yet fully endorsed and may be subject to future changes.\n",
    "</div>"
   ]
  },
  {
   "cell_type": "code",
   "execution_count": null,
   "id": "64adc5a6-3723-4769-94d0-1638b282c7fc",
   "metadata": {
    "tags": []
   },
   "outputs": [],
   "source": [
    "link_to_notebook = {\n",
    "      \"rel\": \"example\",\n",
    "      \"href\": \"https://github.com/eo-college/cubes-and-clouds/blob/main/lectures/3.3_data_sharing/3.3_exercises/_alternatives/33_data_sharing_pangeo.ipynb\",\n",
    "      \"title\": \"3.3 Data Sharing with Pangeo\",\n",
    "      \"description\": \"This Jupyter notebook creates the snow-covered area from a user-selected Area Of Interest (AOI), save it as a COG and share it as a STAC item.\",\n",
    "      \"type\": \"application/x-ipynb+json\",\n",
    "      \"example:container\": True,\n",
    "      \"example:language\": \"Python\"\n",
    "    }"
   ]
  },
  {
   "cell_type": "code",
   "execution_count": null,
   "id": "ad2b2419-9441-4a69-b468-086a29fc26ad",
   "metadata": {
    "tags": []
   },
   "outputs": [],
   "source": [
    "new_item.add_link(pystac.link.Link.from_dict(link_to_notebook))"
   ]
  },
  {
   "cell_type": "markdown",
   "id": "1a8f99a1-d39c-4606-8640-b44e460c60a2",
   "metadata": {},
   "source": [
    "### Add Asset and all its information to Item "
   ]
  },
  {
   "cell_type": "code",
   "execution_count": null,
   "id": "e46ad516-0b91-4ac2-b13b-65bfea1e415f",
   "metadata": {
    "tags": []
   },
   "outputs": [],
   "source": [
    "new_item.add_asset(\n",
    "    key=\"image\",\n",
    "    asset=pystac.Asset(\n",
    "        href=\"snowmap_cog_pangeo_uint8.tif\",\n",
    "        media_type=pystac.MediaType.COG,\n",
    "        title = \"Snow coverage\",\n",
    "        roles=[\"data\"]\n",
    "    )\n",
    ")"
   ]
  },
  {
   "cell_type": "code",
   "execution_count": null,
   "id": "f3b9d24c-8d85-42c2-95cc-ab68c896afb9",
   "metadata": {
    "tags": []
   },
   "outputs": [],
   "source": [
    "new_item.to_dict()"
   ]
  },
  {
   "cell_type": "markdown",
   "id": "bda496d0-5617-4e45-8471-b027c15695ad",
   "metadata": {},
   "source": [
    "### Saving the resulting item as stac_item.json into results folder"
   ]
  },
  {
   "cell_type": "code",
   "execution_count": null,
   "id": "33ea8dc4-2556-4728-a4bc-ab2d030f6ac4",
   "metadata": {
    "tags": []
   },
   "outputs": [],
   "source": [
    "stac_json = json.dumps(new_item.to_dict())\n",
    "with open(\"./33_results/stac_item.json\", \"w\") as file:\n",
    "    file.write(stac_json)"
   ]
  },
  {
   "cell_type": "markdown",
   "id": "18a2b63e-3120-4bff-99fa-4814671c889f",
   "metadata": {},
   "source": [
    "### Validation of the STAC item\n",
    "\n",
    "Validating that STAC item is important - non valid STAC will not be displayed in the STAC browser after upload"
   ]
  },
  {
   "cell_type": "code",
   "execution_count": null,
   "id": "7e5273d8-1338-4b3a-b2e9-056069ddc4a2",
   "metadata": {
    "tags": []
   },
   "outputs": [],
   "source": [
    "from stac_validator import stac_validator\n",
    "import requests\n",
    "\n",
    "stac = stac_validator.StacValidate()\n",
    "f = open('./33_results/stac_item.json')\n",
    "data = json.load(f)\n",
    "stac.validate_dict(data)\n",
    "print(stac.message)"
   ]
  },
  {
   "cell_type": "markdown",
   "id": "1a2b455d-ac43-4f84-b5dd-23313b8452b3",
   "metadata": {},
   "source": [
    "<div class=\"alert alert-block alert-warning\">\n",
    "    <b>Attention</b>: Check if `valid_stac` is True. If not, check you have filled the author and description properly.\n",
    "</div>"
   ]
  },
  {
   "cell_type": "markdown",
   "id": "75e00b43-d734-4496-ae3f-483d6ae12263",
   "metadata": {},
   "source": [
    "### Now it is time to upload solution to the submission folder and make results visible in STAC browser"
   ]
  },
  {
   "cell_type": "markdown",
   "id": "bca36260-960e-4a69-bef8-9fb6fc880360",
   "metadata": {},
   "source": [
    "Upload both the STAC json file and the final .tif file to \"submissions\" folder in your home directory\n",
    "\n",
    "You can use the code below to copy the results to the submissions folder"
   ]
  },
  {
   "cell_type": "code",
   "execution_count": null,
   "id": "eb8c033c-9c51-4a0e-8fa9-79d38871721b",
   "metadata": {
    "tags": []
   },
   "outputs": [],
   "source": [
    "!cp ./33_results/stac_item.json ~/submissions/\n",
    "!cp ./33_results/snowmap_cog_pangeo_uint8.tif ~/submissions/"
   ]
  },
  {
   "cell_type": "markdown",
   "id": "900bdab1-26b5-41d3-bfb0-5c7091e2c4c3",
   "metadata": {},
   "source": [
    "And now by executing the cell below, update of the STAC browser will start. By this, you are uploading your results to the openly available STAC browser. This might take some minutes."
   ]
  },
  {
   "cell_type": "code",
   "execution_count": null,
   "id": "c8a56d8e-3b80-40f3-bcba-b2cfac968bdd",
   "metadata": {
    "tags": []
   },
   "outputs": [],
   "source": [
    "env_var1 = os.getenv('EMAIL')\n",
    "curl_command = f\"curl -X POST -F token=glptt-42d31ac6f592a9e321d0e4877e654dc50dcf4854 -F ref=main -F 'variables[USER_DIRECTORY]=\\\"{env_var1}\\\"' https://gitlab.eox.at/api/v4/projects/554/trigger/pipeline\" \n",
    "process = subprocess.Popen(curl_command, shell=True, stdout=subprocess.PIPE, stderr=subprocess.PIPE)\n",
    "stdout, stderr = process.communicate()"
   ]
  },
  {
   "cell_type": "markdown",
   "id": "427c1b95-039c-41b3-93c7-3fd6471fd1c4",
   "metadata": {},
   "source": [
    "### Your results are online!\n",
    "You can now browse your results together with all the other submissions at the publicly available STAC Catalog! You can check your snow cover map, that you are correctly listed as the author and that your contribution has the correct name. The license on the STAC Collection \"Cubes and Clouds: Snow Cover\" is CC-BY-4.0. The STAC Collection also has it's own DOI.\n",
    "\n",
    "Congratulations you have just contributed to a community mapping project that is completely open source, open data and FAIR! Make sure to show it also to your friends, colleagues or potential employers :)\n",
    "\n",
    "https://esa.pages.eox.at/cubes-and-clouds-catalog/browser/#/?.language=en"
   ]
  },
  {
   "cell_type": "markdown",
   "id": "d25e8ab2-097d-4ad2-a33f-58e1a7833598",
   "metadata": {},
   "source": [
    "If you would like to redo your submission, you can still update your files in submissions folder and once ready, run again the code in the cell above. "
   ]
  },
  {
   "cell_type": "markdown",
   "id": "a15589c8-9956-4df5-a55a-48ccb77173b5",
   "metadata": {},
   "source": [
    "**Attention:** If you have previously opened the STAC browser, your old submission will be cached and not directly displayed. To circumvent this, open a private window from your browser."
   ]
  },
  {
   "cell_type": "markdown",
   "id": "32e011fc-53ec-44b6-9611-4de13f739973",
   "metadata": {
    "tags": []
   },
   "source": [
    "Happy coding!"
   ]
  }
 ],
 "metadata": {
  "kernelspec": {
   "display_name": "cubes-and-clouds-cubes_and_clouds_2",
   "language": "python",
   "name": "conda-env-cubes-and-clouds-cubes_and_clouds_2-py"
  },
  "language_info": {
   "codemirror_mode": {
    "name": "ipython",
    "version": 3
   },
   "file_extension": ".py",
   "mimetype": "text/x-python",
   "name": "python",
   "nbconvert_exporter": "python",
   "pygments_lexer": "ipython3",
   "version": "3.10.13"
  }
 },
 "nbformat": 4,
 "nbformat_minor": 5
}
