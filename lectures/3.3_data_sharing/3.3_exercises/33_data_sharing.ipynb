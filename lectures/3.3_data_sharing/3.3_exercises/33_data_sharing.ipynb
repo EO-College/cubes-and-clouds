{
 "cells": [
  {
   "cell_type": "markdown",
   "id": "3d8f1015-699c-4c22-b3be-61608b6d993a",
   "metadata": {},
   "source": [
    "<img src=\"https://raw.githubusercontent.com/EO-College/cubes-and-clouds/main/icons/cnc_3icons_share_cirlce.svg\"\n",
    "     alt=\"Cubes & Clouds logo\"\n",
    "     style=\"float: center; margin-right: 10px;\" />"
   ]
  },
  {
   "cell_type": "markdown",
   "id": "0c6aed2f-1493-4636-a124-03c81b28bc52",
   "metadata": {},
   "source": [
    "# 3.4 Data Sharing\n",
    "Science is much more impactful once it's shared. Therefore, we are going to learn how to \n",
    "open up our scientific output from a cloud platform, so that is openly available - and \n",
    "has the chance to make the impact it should.\n",
    "- Reuse the workflow we have used before for creating the snow covered area\n",
    "- Select AOI,\n",
    "- Recreate process graph, \n",
    "- Download results for one time-step\n",
    "  - A Snow Cover Area map in the COG format\n",
    "  - A STAC metadata item that is provided with the result from openEO at CDSE\n",
    "- Adapt the STAC item\n",
    "- Upload the results and make them available openly via a STAC browser and web map\n"
   ]
  },
  {
   "cell_type": "markdown",
   "id": "7d102aad-5b61-422c-acb1-9c89621d70e3",
   "metadata": {
    "tags": []
   },
   "source": [
    "## Libraries"
   ]
  },
  {
   "cell_type": "code",
   "execution_count": 1,
   "id": "cc4a7712-62f8-4459-85a7-f6ac46e6d9d2",
   "metadata": {
    "tags": []
   },
   "outputs": [],
   "source": [
    "!cp -r $DATA_PATH/33_results/ $HOME/"
   ]
  },
  {
   "cell_type": "code",
   "execution_count": 15,
   "id": "1abf270c-d73e-4109-854c-3cf36a1b36d7",
   "metadata": {
    "tags": []
   },
   "outputs": [],
   "source": [
    "import json\n",
    "import os\n",
    "import subprocess\n",
    "from datetime import datetime\n",
    "\n",
    "import openeo\n",
    "import numpy as np\n",
    "import leafmap\n",
    "import geopandas as gpd\n",
    "import shapely\n",
    "from shapely.geometry import Polygon\n",
    "\n",
    "import rioxarray as rio\n",
    "import xarray"
   ]
  },
  {
   "cell_type": "markdown",
   "id": "8ca9a336-2110-47b7-98e9-94ecd12c676f",
   "metadata": {},
   "source": [
    "Import utility functions"
   ]
  },
  {
   "cell_type": "code",
   "execution_count": 16,
   "id": "bdda8ca0-7825-45c0-a0b5-0f97b40deb74",
   "metadata": {
    "tags": []
   },
   "outputs": [],
   "source": [
    "%run 33_cubes_utilities.py"
   ]
  },
  {
   "cell_type": "markdown",
   "id": "82f46c31-e6ef-4811-8e3a-7256ac0d2a86",
   "metadata": {},
   "source": [
    "## Login"
   ]
  },
  {
   "cell_type": "markdown",
   "id": "8ad2ba48-40ef-4cc5-9bb6-de59d4b9a67e",
   "metadata": {
    "tags": []
   },
   "source": [
    "Connect to the copernicus dataspace ecosystem."
   ]
  },
  {
   "cell_type": "code",
   "execution_count": 17,
   "id": "35624db3-17ef-4efb-a203-8d79113e2203",
   "metadata": {
    "tags": []
   },
   "outputs": [],
   "source": [
    "conn = openeo.connect('https://openeo.dataspace.copernicus.eu/')"
   ]
  },
  {
   "cell_type": "markdown",
   "id": "0046a654-ba6f-4dae-84f2-7f11e099592f",
   "metadata": {},
   "source": [
    "Authenticate login"
   ]
  },
  {
   "cell_type": "code",
   "execution_count": 18,
   "id": "de26fd5c-71da-4d28-b895-f5108a97a1d5",
   "metadata": {
    "tags": []
   },
   "outputs": [
    {
     "name": "stdout",
     "output_type": "stream",
     "text": [
      "Authenticated using refresh token.\n"
     ]
    },
    {
     "data": {
      "text/plain": [
       "<Connection to 'https://openeo.dataspace.copernicus.eu/openeo/1.2/' with OidcBearerAuth>"
      ]
     },
     "execution_count": 18,
     "metadata": {},
     "output_type": "execute_result"
    }
   ],
   "source": [
    "conn.authenticate_oidc()"
   ]
  },
  {
   "cell_type": "markdown",
   "id": "a1a2af45-ba11-41b8-9aaa-2b8169103f7b",
   "metadata": {},
   "source": [
    "Check if the login worked"
   ]
  },
  {
   "cell_type": "code",
   "execution_count": null,
   "id": "bf1eb435-8e42-425f-9470-75081325787a",
   "metadata": {
    "tags": []
   },
   "outputs": [],
   "source": [
    "conn.describe_account()"
   ]
  },
  {
   "cell_type": "markdown",
   "id": "b2d634d7-e719-4cab-8066-ed0cc1c278f6",
   "metadata": {},
   "source": [
    "## Select an Area of Interest and Time Frame\n",
    "Start by selecting a center point of the area you would like to analyse from the map shown below. The starting extent is the full alps. Zoom in to an area and choose a region that has not been mapped yet. Make sure not to overlap too much with already mapped areas. It's a community mapping project :)\n",
    "Create a 1 km bounding box around it. This will be the area you are calculating the snow covered area for. "
   ]
  },
  {
   "cell_type": "markdown",
   "id": "3cfc19ce-a624-4ecf-8890-4f615e25ad63",
   "metadata": {},
   "source": [
    "Execute the cell below to show the map. Zoom to a location you want to analyze. Use the location symbol to select a point. A marker appears on the map. This is the center of your area of interest."
   ]
  },
  {
   "cell_type": "code",
   "execution_count": 20,
   "id": "c2999d0e-210e-4188-8c03-31719c06a70d",
   "metadata": {
    "tags": []
   },
   "outputs": [
    {
     "data": {
      "application/vnd.jupyter.widget-view+json": {
       "model_id": "84ddad33844d4248ae7547bb4a4a6a0a",
       "version_major": 2,
       "version_minor": 0
      },
      "text/plain": [
       "Map(center=[47.005, 11.507], controls=(ZoomControl(options=['position', 'zoom_in_text', 'zoom_in_title', 'zoom…"
      ]
     },
     "execution_count": 20,
     "metadata": {},
     "output_type": "execute_result"
    }
   ],
   "source": [
    "m = leafmap.Map(center=(47.005, 11.507), zoom=7.5)\n",
    "m"
   ]
  },
  {
   "cell_type": "markdown",
   "id": "35370594-f936-4789-8cc4-838b4913320a",
   "metadata": {},
   "source": [
    "Now this cell will get the coordinates of the marker you have placed."
   ]
  },
  {
   "cell_type": "code",
   "execution_count": 21,
   "id": "42c6cb21-afff-4b5c-a7d0-403e81192995",
   "metadata": {
    "tags": []
   },
   "outputs": [
    {
     "ename": "IndexError",
     "evalue": "list index out of range",
     "output_type": "error",
     "traceback": [
      "\u001b[0;31m---------------------------------------------------------------------------\u001b[0m",
      "\u001b[0;31mIndexError\u001b[0m                                Traceback (most recent call last)",
      "Cell \u001b[0;32mIn[21], line 2\u001b[0m\n\u001b[1;32m      1\u001b[0m feat \u001b[38;5;241m=\u001b[39m m\u001b[38;5;241m.\u001b[39mdraw_features\n\u001b[0;32m----> 2\u001b[0m geom \u001b[38;5;241m=\u001b[39m \u001b[43mfeat\u001b[49m\u001b[43m[\u001b[49m\u001b[38;5;241;43m0\u001b[39;49m\u001b[43m]\u001b[49m[\u001b[38;5;124m'\u001b[39m\u001b[38;5;124mgeometry\u001b[39m\u001b[38;5;124m'\u001b[39m][\u001b[38;5;124m'\u001b[39m\u001b[38;5;124mcoordinates\u001b[39m\u001b[38;5;124m'\u001b[39m]\n",
      "\u001b[0;31mIndexError\u001b[0m: list index out of range"
     ]
    }
   ],
   "source": [
    "feat = m.draw_features\n",
    "geom = feat[0]['geometry']['coordinates']"
   ]
  },
  {
   "cell_type": "markdown",
   "id": "c8a67c0b-d095-41d2-9f3b-3860c6ea5d82",
   "metadata": {
    "tags": []
   },
   "source": [
    "This will create a 1 km bounding box around the chosen location. And visualize it."
   ]
  },
  {
   "cell_type": "code",
   "execution_count": null,
   "id": "ae2d3f75-8a05-4d93-a390-1666bb8f7565",
   "metadata": {
    "tags": []
   },
   "outputs": [],
   "source": [
    "distance_km = 1\n",
    "# Create a bounding box around the point\n",
    "bbox = create_bounding_box(geom[0], geom[1], distance_km)\n",
    "visualize_bbox(m, bbox)"
   ]
  },
  {
   "cell_type": "markdown",
   "id": "b8fc1d08-5464-4a04-a98a-b4f6d8c2bf82",
   "metadata": {},
   "source": [
    "Now we'll select the time frame. We'll start with the winter months of 2023. "
   ]
  },
  {
   "cell_type": "code",
   "execution_count": null,
   "id": "553852f1-24dd-41be-96b7-6cabafc161a9",
   "metadata": {
    "tags": []
   },
   "outputs": [],
   "source": [
    "temporal_extent = [\"2023-02-01\", \"2023-06-01\"]"
   ]
  },
  {
   "cell_type": "markdown",
   "id": "26325c28-6329-491f-9cdf-15c573a6d0f5",
   "metadata": {},
   "source": [
    "## Reuse the process graph of the snow covered area data cube\n",
    "We've saved the python code that we had used to create the snow cover area data cube into a python function `calculate_sca()`. It's stored in `cubes_utilities.py`. It creates a 4 dimensional data cube with the dimensions: x, y, time, bands.\n",
    "As parameters we have exposed the bounding box and temporal extent. We will update them with the choices we have made above. "
   ]
  },
  {
   "cell_type": "code",
   "execution_count": null,
   "id": "af2c5198-c846-4478-97cd-28f051336af9",
   "metadata": {
    "tags": []
   },
   "outputs": [],
   "source": [
    "snow_map_4dcube = calculate_sca(conn, bbox, temporal_extent)\n",
    "snow_map_4dcube"
   ]
  },
  {
   "cell_type": "markdown",
   "id": "7973af9d-15e0-4fae-bdfa-c35faf7f652a",
   "metadata": {},
   "source": [
    "## Reduce the time dimension\n",
    "We want to calculate the SCA for the winter period of a given year. Therefore, we need to reduce the values along the time dimension. We'll use the process `reduce_dimension()` with a `median()` to accomplish this. We are directly continuing to build on our process graph that we have loaded above."
   ]
  },
  {
   "cell_type": "code",
   "execution_count": null,
   "id": "1d8e9005-f0b7-49af-b83a-9a2983a2965b",
   "metadata": {
    "tags": []
   },
   "outputs": [],
   "source": [
    "snow_map_3dcube = snow_map_4dcube.reduce_dimension(reducer=\"median\", dimension=\"t\")\n",
    "snow_map_3dcube"
   ]
  },
  {
   "cell_type": "markdown",
   "id": "251ba878-3841-479a-868e-886d701f50ef",
   "metadata": {
    "tags": []
   },
   "source": [
    "## Download result\n",
    "To finish our process graph we add the `save_result()` process choosing the `GTiff` format. It creates a COG out of the box with openEO on CDSE."
   ]
  },
  {
   "cell_type": "code",
   "execution_count": null,
   "id": "d654adb3-fcc0-413c-bd5c-28de5564e570",
   "metadata": {
    "tags": []
   },
   "outputs": [],
   "source": [
    "# create a batch job\n",
    "snowmap_cog = snow_map_3dcube.save_result(format = \"GTiff\") #, options = {\"overviews\": \"AUTO\"})"
   ]
  },
  {
   "cell_type": "markdown",
   "id": "ceb0edb7-c349-467d-9a42-bfbe5538a299",
   "metadata": {},
   "source": [
    "We register the job as a batch job on the backend and start the processing."
   ]
  },
  {
   "cell_type": "code",
   "execution_count": null,
   "id": "1fc7c255-2f67-44a1-978b-2bb51b05eab3",
   "metadata": {
    "tags": []
   },
   "outputs": [],
   "source": [
    "job = snowmap_cog.create_job(title=\"snowmap_cog\")\n",
    "job.start_and_wait()"
   ]
  },
  {
   "cell_type": "markdown",
   "id": "28aada6d-8687-4370-ba52-e33e23f7d8ec",
   "metadata": {},
   "source": [
    "Now let's wait until the job is finished and then download the results."
   ]
  },
  {
   "cell_type": "code",
   "execution_count": null,
   "id": "219830d8-edec-48d8-b8b0-317112b32899",
   "metadata": {
    "tags": []
   },
   "outputs": [],
   "source": [
    "if job.status() == \"finished\":\n",
    "    results = job.get_results()\n",
    "    results.download_files(\"33_results/\")"
   ]
  },
  {
   "cell_type": "markdown",
   "id": "ba5d74b4-ee86-48c4-a6a6-ff8a667ccafd",
   "metadata": {},
   "source": [
    "## Load results\n",
    "Now we can open the COG and visualize it."
   ]
  },
  {
   "cell_type": "code",
   "execution_count": null,
   "id": "96022b16-5714-4f8b-949f-e9183270b451",
   "metadata": {
    "tags": []
   },
   "outputs": [],
   "source": [
    "snowmap = rio.open_rasterio(\"33_results/openEO.tif\",decode_coords=\"all\")\n",
    "snowmap"
   ]
  },
  {
   "cell_type": "code",
   "execution_count": null,
   "id": "147d9058-ccc7-4700-8a43-f6fecab55bc6",
   "metadata": {
    "tags": []
   },
   "outputs": [],
   "source": [
    "snowmap.plot()"
   ]
  },
  {
   "cell_type": "markdown",
   "id": "65b9ec26-14be-4599-80a1-b44bde541a98",
   "metadata": {},
   "source": [
    "## Load STAC metadata\n",
    "In addition to the COG we also receive STAC metadata for our result.\n",
    "Let's have a look at it."
   ]
  },
  {
   "cell_type": "code",
   "execution_count": null,
   "id": "1cee7c43-d939-462c-853d-d80a5883dd9b",
   "metadata": {
    "tags": []
   },
   "outputs": [],
   "source": [
    "stac_collection = results.get_metadata()"
   ]
  },
  {
   "cell_type": "code",
   "execution_count": null,
   "id": "c948170e-b4fd-4fd9-9123-6288999690be",
   "metadata": {
    "tags": []
   },
   "outputs": [],
   "source": [
    "stac_collection"
   ]
  },
  {
   "cell_type": "markdown",
   "id": "284412ab-7feb-45b3-8964-16416debcb4e",
   "metadata": {},
   "source": [
    "### Adding Author of the data\n",
    "\n",
    "Add your information to become visible as author of the data -  description of each field can be found here: https://github.com/radiantearth/stac-spec/blob/master/item-spec/common-metadata.md#provider-object\n",
    "\n",
    "Please note that leaving the field empty will lead to failed validation of STAC item"
   ]
  },
  {
   "cell_type": "code",
   "execution_count": null,
   "id": "058f0dcd-74e0-4a38-88be-8e77ea1d0f2b",
   "metadata": {
    "tags": []
   },
   "outputs": [],
   "source": [
    "author = [{\n",
    "    \"name\": \"\",\n",
    "    \"description\": \"\",\n",
    "    \"roles\": [\"processor\"],\n",
    "}]\n",
    "\n",
    "providers = stac_collection[\"providers\"] + author\n",
    "\n",
    "author_id = [nam[:2] for nam in author[0][\"name\"].split(\" \")]\n",
    "\n",
    "# generate timestamp\n",
    "# ts = datetime.timestamp(datetime.now())\n",
    "ts = datetime.now().timestamp()"
   ]
  },
  {
   "cell_type": "markdown",
   "id": "8a23469d-76aa-493f-abf5-d752ebcf8bfe",
   "metadata": {},
   "source": [
    "Creating actual polygon geometry from previously created bbox information"
   ]
  },
  {
   "cell_type": "code",
   "execution_count": null,
   "id": "d82b0467-fd21-44f7-b0db-64cca0606ef7",
   "metadata": {
    "tags": []
   },
   "outputs": [],
   "source": [
    "min_x, min_y, max_x, max_y = stac_collection[\"extent\"][\"spatial\"][\"bbox\"][0]\n",
    "geometry = {\n",
    "    \"type\": \"Polygon\",\n",
    "    \"coordinates\": [[\n",
    "        [min_x, min_y],\n",
    "        [max_x, min_y],\n",
    "        [max_x, max_y],\n",
    "        [min_x, max_y],\n",
    "        [min_x, min_y]\n",
    "    ]]\n",
    "}\n"
   ]
  },
  {
   "cell_type": "markdown",
   "id": "11d8875f-cf18-4749-ac6b-65dcf41cff2b",
   "metadata": {},
   "source": [
    "Let's create the actual STAC item describing your data! As talked about in previous lessons, STAC item has various required fields which need to be present and filled correctly. For the field ID we assign the fixed name snowcover and the initials of your name. That will be visible on the STAC browser once you have submitted the result!"
   ]
  },
  {
   "cell_type": "code",
   "execution_count": null,
   "id": "16ae70a4-866c-4b61-8e5b-38e381722643",
   "metadata": {
    "tags": []
   },
   "outputs": [],
   "source": [
    "stac_item = {\n",
    "    \"type\": \"Feature\", \n",
    "    \"stac_version\": stac_collection[\"stac_version\"],\n",
    "    \"stac_extensions\": [],\n",
    "    \"id\": \"snowcover_\" + \"\".join(author_id).lower()+ \"_\" + str(ts),\n",
    "    \"geometry\": geometry,\n",
    "    \"bbox\": stac_collection[\"extent\"][\"spatial\"][\"bbox\"][0],\n",
    "    \n",
    "    \"properties\": {\n",
    "       \"datetime\": None, \n",
    "        \"start_datetime\": stac_collection[\"extent\"][\"temporal\"][\"interval\"][0][0],\n",
    "        \"end_datetime\": stac_collection[\"extent\"][\"temporal\"][\"interval\"][0][1],\n",
    "        \"providers\" : providers\n",
    "                 },\n",
    "    \n",
    "    \"links\": stac_collection[\"links\"],\n",
    "    \"assets\": {\"visual\": {\n",
    "      \"href\": \"openEO.tif\",\n",
    "      \"type\": \"image/tiff; application=geotiff; profile=cloud-optimized\",\n",
    "      \"title\": \"Snow coverage\",\n",
    "      \"roles\": [\n",
    "        \"data\"\n",
    "              ]\n",
    "            }\n",
    "        },\n",
    "}"
   ]
  },
  {
   "cell_type": "code",
   "execution_count": null,
   "id": "8c00cfa0-571e-4518-8906-7983170246e8",
   "metadata": {
    "tags": []
   },
   "outputs": [],
   "source": [
    "stac_item"
   ]
  },
  {
   "cell_type": "markdown",
   "id": "f8c55b3d-1d3f-4584-9c1c-e00511288e77",
   "metadata": {},
   "source": [
    "Saving the resulting item as stac_item.json into results folder"
   ]
  },
  {
   "cell_type": "code",
   "execution_count": null,
   "id": "cc6b58e1-e759-4943-85b8-bad6716181ab",
   "metadata": {
    "tags": []
   },
   "outputs": [],
   "source": [
    "stac_json = json.dumps(stac_item)\n",
    "with open(\"33_results/stac_item.json\", \"w\") as file:\n",
    "    file.write(stac_json)"
   ]
  },
  {
   "cell_type": "markdown",
   "id": "5a5064ba-5d1a-4f49-8502-c715a6032856",
   "metadata": {},
   "source": [
    "Validating that STAC item is important - non valid STAC will not be displayed in the STAC browser after upload"
   ]
  },
  {
   "cell_type": "code",
   "execution_count": null,
   "id": "f1495fcc-19fe-46df-bf95-ac4c470696d5",
   "metadata": {
    "tags": []
   },
   "outputs": [],
   "source": [
    "from stac_validator import stac_validator\n",
    "import requests\n",
    "stac = stac_validator.StacValidate()\n",
    "f = open('33_results/stac_item.json')\n",
    "data = json.load(f)\n",
    "stac.validate_dict(data)\n",
    "print(stac.message)"
   ]
  },
  {
   "cell_type": "markdown",
   "id": "75e00b43-d734-4496-ae3f-483d6ae12263",
   "metadata": {},
   "source": [
    "### Now it is time to upload solution to the submission folder and make results visible in STAC browser"
   ]
  },
  {
   "cell_type": "markdown",
   "id": "bca36260-960e-4a69-bef8-9fb6fc880360",
   "metadata": {},
   "source": [
    "Upload both STAC json file and final .tif file to \"submissions\" folder in your home directory\n",
    "\n",
    "You can use code below or copy the code for you - if your results are stored at different path, you need to modify the path correctly"
   ]
  },
  {
   "cell_type": "code",
   "execution_count": null,
   "id": "eb8c033c-9c51-4a0e-8fa9-79d38871721b",
   "metadata": {
    "tags": []
   },
   "outputs": [],
   "source": [
    "!cp ./33_results/stac_item.json ~/submissions/\n",
    "!cp ./33_results/openEO.tif ~/submissions/"
   ]
  },
  {
   "cell_type": "markdown",
   "id": "900bdab1-26b5-41d3-bfb0-5c7091e2c4c3",
   "metadata": {},
   "source": [
    "And now by executing the cell bellow, update of the STAC browser will start. "
   ]
  },
  {
   "cell_type": "code",
   "execution_count": null,
   "id": "c8a56d8e-3b80-40f3-bcba-b2cfac968bdd",
   "metadata": {
    "tags": []
   },
   "outputs": [],
   "source": [
    "env_var1 = os.getenv('EMAIL')\n",
    "curl_command = f\"curl -X POST -F token=glptt-42d31ac6f592a9e321d0e4877e654dc50dcf4854 -F ref=main -F 'variables[USER_DIRECTORY]=\\\"{env_var1}\\\"' https://gitlab.eox.at/api/v4/projects/554/trigger/pipeline\" \n",
    "process = subprocess.Popen(curl_command, shell=True, stdout=subprocess.PIPE, stderr=subprocess.PIPE)\n",
    "stdout, stderr = process.communicate()"
   ]
  },
  {
   "cell_type": "markdown",
   "id": "427c1b95-039c-41b3-93c7-3fd6471fd1c4",
   "metadata": {},
   "source": [
    "### Your results are online!\n",
    "You can now browse your results together with all the other submissions at the publicly available STAC Catalog! You can check your snow cover map, that you are correctly listed as the author and that your contribution has the correct name. The license on the STAC Collection \"Cubes and Clouds: Snow Cover\" is CC-BY-4.0. The STAC Collection also has it's own DOI XXX. \n",
    "\n",
    "Congratulations you have just contributed to a community mapping project that is completely open source, open data and FAIR! Make sure to show it also to your friends, colleagues or potential employers :)\n",
    "\n",
    "https://esa.pages.eox.at/cubes-and-clouds-catalog/browser/#/?.language=en"
   ]
  },
  {
   "cell_type": "markdown",
   "id": "d25e8ab2-097d-4ad2-a33f-58e1a7833598",
   "metadata": {},
   "source": [
    "If you would like to redo your submission, you can still update your files in submissions folder and once ready, run again the code in the cell above"
   ]
  },
  {
   "cell_type": "markdown",
   "id": "32e011fc-53ec-44b6-9611-4de13f739973",
   "metadata": {
    "tags": []
   },
   "source": [
    "Happy coding!"
   ]
  }
 ],
 "metadata": {
  "kernelspec": {
   "display_name": "cubes-and-clouds-cubes-and-clouds2",
   "language": "python",
   "name": "conda-env-cubes-and-clouds-cubes-and-clouds2-py"
  },
  "language_info": {
   "codemirror_mode": {
    "name": "ipython",
    "version": 3
   },
   "file_extension": ".py",
   "mimetype": "text/x-python",
   "name": "python",
   "nbconvert_exporter": "python",
   "pygments_lexer": "ipython3",
   "version": "3.11.7"
  }
 },
 "nbformat": 4,
 "nbformat_minor": 5
}
