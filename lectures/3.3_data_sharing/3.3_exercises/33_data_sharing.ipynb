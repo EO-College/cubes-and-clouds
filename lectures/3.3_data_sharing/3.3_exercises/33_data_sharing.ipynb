{
 "cells": [
  {
   "cell_type": "markdown",
   "id": "3d8f1015-699c-4c22-b3be-61608b6d993a",
   "metadata": {},
   "source": [
    "<img src=\"https://raw.githubusercontent.com/EO-College/cubes-and-clouds/main/icons/cnc_3icons_share_cirlce.svg\"\n",
    "     alt=\"Cubes & Clouds logo\"\n",
    "     style=\"float: center; margin-right: 10px;\" />"
   ]
  },
  {
   "cell_type": "markdown",
   "id": "0c6aed2f-1493-4636-a124-03c81b28bc52",
   "metadata": {},
   "source": [
    "# 3.3 Data Sharing\n",
    "Science is much more impactful once it's shared. Therefore, we are going to learn how to \n",
    "open up our scientific output from a cloud platform, so that is openly available - and \n",
    "has the chance to make the impact it should.\n",
    "- Reuse the workflow we have used before for creating the snow covered area\n",
    "- Select AOI,\n",
    "- Recreate process graph, \n",
    "- Download results for one time-step\n",
    "  - A Snow Cover Area map in the COG format\n",
    "  - A STAC metadata item that is provided with the result from openEO at CDSE\n",
    "- Adapt the STAC item\n",
    "- Upload the results and make them available openly via a STAC browser and web map\n"
   ]
  },
  {
   "cell_type": "markdown",
   "id": "7d102aad-5b61-422c-acb1-9c89621d70e3",
   "metadata": {
    "tags": []
   },
   "source": [
    "## Libraries"
   ]
  },
  {
   "cell_type": "markdown",
   "id": "bfd758d4-a3d3-44ae-9cd0-7689af34effe",
   "metadata": {},
   "source": [
    "Start by creating the folders and data files needed to complete the exercise"
   ]
  },
  {
   "cell_type": "code",
   "execution_count": 1,
   "id": "cc4a7712-62f8-4459-85a7-f6ac46e6d9d2",
   "metadata": {
    "tags": []
   },
   "outputs": [],
   "source": [
    "!cp -r $DATA_PATH/33_results/ $HOME/"
   ]
  },
  {
   "cell_type": "code",
   "execution_count": 2,
   "id": "54507438-b159-49cb-85e0-b98d3ddb690a",
   "metadata": {
    "tags": []
   },
   "outputs": [],
   "source": [
    "!cp $DATA_PATH/_33_cubes_utilities.py $HOME/"
   ]
  },
  {
   "cell_type": "code",
   "execution_count": 3,
   "id": "1abf270c-d73e-4109-854c-3cf36a1b36d7",
   "metadata": {
    "tags": []
   },
   "outputs": [],
   "source": [
    "import json\n",
    "import os\n",
    "import subprocess\n",
    "from datetime import datetime\n",
    "\n",
    "import openeo\n",
    "import numpy as np\n",
    "import leafmap\n",
    "import geopandas as gpd\n",
    "import shapely\n",
    "from shapely.geometry import Polygon\n",
    "\n",
    "import matplotlib.pyplot as plt\n",
    "from matplotlib.ticker import PercentFormatter\n",
    "\n",
    "import rioxarray as rio\n",
    "import xarray\n",
    "from osgeo import gdal\n",
    "\n",
    "from _33_cubes_utilities import (\n",
    "    calculate_sca,\n",
    "    visualize_bbox,\n",
    "    create_bounding_box,\n",
    "    extract_metadata_geometry, \n",
    "    extract_metadata_time\n",
    ")"
   ]
  },
  {
   "cell_type": "markdown",
   "id": "cf32192c-da37-4ae0-8b5c-5391b4616244",
   "metadata": {},
   "source": [
    "## Login"
   ]
  },
  {
   "cell_type": "markdown",
   "id": "8ad2ba48-40ef-4cc5-9bb6-de59d4b9a67e",
   "metadata": {
    "tags": []
   },
   "source": [
    "Connect to the copernicus dataspace ecosystem."
   ]
  },
  {
   "cell_type": "code",
   "execution_count": 4,
   "id": "35624db3-17ef-4efb-a203-8d79113e2203",
   "metadata": {
    "tags": []
   },
   "outputs": [],
   "source": [
    "conn = openeo.connect('https://openeo.dataspace.copernicus.eu/')"
   ]
  },
  {
   "cell_type": "markdown",
   "id": "0046a654-ba6f-4dae-84f2-7f11e099592f",
   "metadata": {},
   "source": [
    "Authenticate login"
   ]
  },
  {
   "cell_type": "code",
   "execution_count": 5,
   "id": "de26fd5c-71da-4d28-b895-f5108a97a1d5",
   "metadata": {
    "tags": []
   },
   "outputs": [
    {
     "name": "stdout",
     "output_type": "stream",
     "text": [
      "Authenticated using refresh token.\n"
     ]
    },
    {
     "data": {
      "text/plain": [
       "<Connection to 'https://openeo.dataspace.copernicus.eu/openeo/1.2/' with OidcBearerAuth>"
      ]
     },
     "execution_count": 5,
     "metadata": {},
     "output_type": "execute_result"
    }
   ],
   "source": [
    "conn.authenticate_oidc()"
   ]
  },
  {
   "cell_type": "markdown",
   "id": "a1a2af45-ba11-41b8-9aaa-2b8169103f7b",
   "metadata": {},
   "source": [
    "Check if the login worked"
   ]
  },
  {
   "cell_type": "code",
   "execution_count": null,
   "id": "bf1eb435-8e42-425f-9470-75081325787a",
   "metadata": {
    "tags": []
   },
   "outputs": [],
   "source": [
    "conn.describe_account()"
   ]
  },
  {
   "cell_type": "markdown",
   "id": "b2d634d7-e719-4cab-8066-ed0cc1c278f6",
   "metadata": {
    "tags": []
   },
   "source": [
    "## Select an Area of Interest and Time Frame\n",
    "\n",
    "Start by selecting a center point of the area you would like to analyse from the map shown below. The starting extent is the full alps. Zoom in to an area and choose a region that has not been mapped yet. *Make sure not to overlap too much with already mapped areas by having a look at the [STAC Collection](https://esa.pages.eox.at/cubes-and-clouds-catalog/browser/#/?.language=en)*. It's a community mapping project :)\n",
    "Create a 1 km bounding box around it. This will be the area you are calculating the snow covered area for. \n"
   ]
  },
  {
   "cell_type": "markdown",
   "id": "3cfc19ce-a624-4ecf-8890-4f615e25ad63",
   "metadata": {},
   "source": [
    "**Attention:**\n",
    " Execute the cell below to show the map. Zoom to a location you want to analyze. Use the location symbol to select a point. A marker appears on the map. This is the center of your area of interest"
   ]
  },
  {
   "cell_type": "code",
   "execution_count": 7,
   "id": "c2999d0e-210e-4188-8c03-31719c06a70d",
   "metadata": {
    "tags": []
   },
   "outputs": [
    {
     "data": {
      "application/vnd.jupyter.widget-view+json": {
       "model_id": "2f462abf085248ab9c7e82fe548a5d6f",
       "version_major": 2,
       "version_minor": 0
      },
      "text/plain": [
       "Map(center=[47.005, 11.507], controls=(ZoomControl(options=['position', 'zoom_in_text', 'zoom_in_title', 'zoom…"
      ]
     },
     "metadata": {},
     "output_type": "display_data"
    }
   ],
   "source": [
    "m = leafmap.Map(center=(47.005, 11.507), zoom=7.5)\n",
    "m"
   ]
  },
  {
   "cell_type": "markdown",
   "id": "35370594-f936-4789-8cc4-838b4913320a",
   "metadata": {},
   "source": [
    "**Attention:**\n",
    " Now this cell will get the coordinates of the marker you have placed. This will create a 1 km bounding box around the chosen location. And visualize it in the map above. *The marker moves to the center when you zoom in*"
   ]
  },
  {
   "cell_type": "code",
   "execution_count": 8,
   "id": "42c6cb21-afff-4b5c-a7d0-403e81192995",
   "metadata": {
    "tags": []
   },
   "outputs": [],
   "source": [
    "feat = m.draw_features\n",
    "geom = feat[0]['geometry']['coordinates']\n",
    "\n",
    "# set distance of 1 km around bbox\n",
    "distance_km = 1\n",
    "\n",
    "# Create a bounding box around the point\n",
    "bbox = create_bounding_box(geom[0], geom[1], distance_km)\n",
    "visualize_bbox(m, bbox)"
   ]
  },
  {
   "cell_type": "markdown",
   "id": "b8fc1d08-5464-4a04-a98a-b4f6d8c2bf82",
   "metadata": {},
   "source": [
    "Now we'll select the time frame. We'll start with the winter months of 2023. "
   ]
  },
  {
   "cell_type": "code",
   "execution_count": 9,
   "id": "553852f1-24dd-41be-96b7-6cabafc161a9",
   "metadata": {
    "tags": []
   },
   "outputs": [],
   "source": [
    "temporal_extent = [\"2023-02-01\", \"2023-06-01\"]"
   ]
  },
  {
   "cell_type": "markdown",
   "id": "26325c28-6329-491f-9cdf-15c573a6d0f5",
   "metadata": {},
   "source": [
    "## Reuse the process graph of the snow covered area data cube\n",
    "We've saved the python code that we had used to create the snow cover area data cube into a python function `calculate_sca()`. It's stored in `cubes_utilities.py`. It creates a 4 dimensional data cube with the dimensions: x, y, time, bands.\n",
    "As parameters we have exposed the bounding box and temporal extent. We will update them with the choices we have made above. "
   ]
  },
  {
   "cell_type": "code",
   "execution_count": 10,
   "id": "af2c5198-c846-4478-97cd-28f051336af9",
   "metadata": {
    "tags": []
   },
   "outputs": [
    {
     "data": {
      "text/html": [
       "\n",
       "    <script>\n",
       "    if (!window.customElements || !window.customElements.get('openeo-model-builder')) {\n",
       "        var el = document.createElement('script');\n",
       "        el.src = \"https://cdn.jsdelivr.net/npm/@openeo/vue-components@2/assets/openeo.min.js\";\n",
       "        document.head.appendChild(el);\n",
       "\n",
       "        var font = document.createElement('font');\n",
       "        font.as = \"font\";\n",
       "        font.type = \"font/woff2\";\n",
       "        font.crossOrigin = true;\n",
       "        font.href = \"https://use.fontawesome.com/releases/v5.13.0/webfonts/fa-solid-900.woff2\"\n",
       "        document.head.appendChild(font);\n",
       "    }\n",
       "    </script>\n",
       "    <openeo-model-builder>\n",
       "        <script type=\"application/json\">{\"id\": \"843126f4a9334269a251eef3180070d1\", \"explicit-zoom\": true, \"height\": \"400px\", \"value\": {\"process_graph\": {\"loadcollection1\": {\"process_id\": \"load_collection\", \"arguments\": {\"bands\": [\"B03\", \"B11\", \"SCL\"], \"id\": \"SENTINEL2_L2A\", \"spatial_extent\": {\"west\": 11.461193783940812, \"east\": 11.479180216059186, \"south\": 46.62835651400798, \"north\": 46.64670948599201, \"crs\": 4326}, \"temporal_extent\": [\"2023-02-01\", \"2023-06-01\"]}}, \"reducedimension1\": {\"process_id\": \"reduce_dimension\", \"arguments\": {\"data\": {\"from_node\": \"loadcollection1\"}, \"dimension\": \"bands\", \"reducer\": {\"process_graph\": {\"arrayelement1\": {\"process_id\": \"array_element\", \"arguments\": {\"data\": {\"from_parameter\": \"data\"}, \"index\": 0}}, \"arrayelement2\": {\"process_id\": \"array_element\", \"arguments\": {\"data\": {\"from_parameter\": \"data\"}, \"index\": 1}}, \"subtract1\": {\"process_id\": \"subtract\", \"arguments\": {\"x\": {\"from_node\": \"arrayelement1\"}, \"y\": {\"from_node\": \"arrayelement2\"}}}, \"add1\": {\"process_id\": \"add\", \"arguments\": {\"x\": {\"from_node\": \"arrayelement1\"}, \"y\": {\"from_node\": \"arrayelement2\"}}}, \"divide1\": {\"process_id\": \"divide\", \"arguments\": {\"x\": {\"from_node\": \"subtract1\"}, \"y\": {\"from_node\": \"add1\"}}}, \"gt1\": {\"process_id\": \"gt\", \"arguments\": {\"x\": {\"from_node\": \"divide1\"}, \"y\": 0.4}}, \"multiply1\": {\"process_id\": \"multiply\", \"arguments\": {\"x\": {\"from_node\": \"gt1\"}, \"y\": 1.0}, \"result\": true}}}}}, \"reducedimension2\": {\"process_id\": \"reduce_dimension\", \"arguments\": {\"data\": {\"from_node\": \"loadcollection1\"}, \"dimension\": \"bands\", \"reducer\": {\"process_graph\": {\"arrayelement3\": {\"process_id\": \"array_element\", \"arguments\": {\"data\": {\"from_parameter\": \"data\"}, \"index\": 2}}, \"eq1\": {\"process_id\": \"eq\", \"arguments\": {\"x\": {\"from_node\": \"arrayelement3\"}, \"y\": 8}}, \"eq2\": {\"process_id\": \"eq\", \"arguments\": {\"x\": {\"from_node\": \"arrayelement3\"}, \"y\": 9}}, \"or1\": {\"process_id\": \"or\", \"arguments\": {\"x\": {\"from_node\": \"eq1\"}, \"y\": {\"from_node\": \"eq2\"}}}, \"eq3\": {\"process_id\": \"eq\", \"arguments\": {\"x\": {\"from_node\": \"arrayelement3\"}, \"y\": 3}}, \"or2\": {\"process_id\": \"or\", \"arguments\": {\"x\": {\"from_node\": \"or1\"}, \"y\": {\"from_node\": \"eq3\"}}}, \"multiply2\": {\"process_id\": \"multiply\", \"arguments\": {\"x\": {\"from_node\": \"or2\"}, \"y\": 1.0}, \"result\": true}}}}}, \"mask1\": {\"process_id\": \"mask\", \"arguments\": {\"data\": {\"from_node\": \"reducedimension1\"}, \"mask\": {\"from_node\": \"reducedimension2\"}, \"replacement\": 2}, \"result\": true}}}}</script>\n",
       "    </openeo-model-builder>\n",
       "    "
      ],
      "text/plain": [
       "<openeo.rest.datacube.DataCube at 0x7f010d0812d0>"
      ]
     },
     "execution_count": 10,
     "metadata": {},
     "output_type": "execute_result"
    }
   ],
   "source": [
    "snow_map_4dcube = calculate_sca(conn, bbox, temporal_extent)\n",
    "snow_map_4dcube"
   ]
  },
  {
   "cell_type": "markdown",
   "id": "7973af9d-15e0-4fae-bdfa-c35faf7f652a",
   "metadata": {},
   "source": [
    "## Reduce the time dimension\n",
    "We want to calculate the SCA for the winter period of a given year. Therefore, we need to reduce the values along the time dimension. We'll use the process `reduce_dimension()` with a `median()` to accomplish this. We are directly continuing to build on our process graph that we have loaded above."
   ]
  },
  {
   "cell_type": "code",
   "execution_count": 11,
   "id": "1d8e9005-f0b7-49af-b83a-9a2983a2965b",
   "metadata": {
    "tags": []
   },
   "outputs": [
    {
     "data": {
      "text/html": [
       "\n",
       "    <script>\n",
       "    if (!window.customElements || !window.customElements.get('openeo-model-builder')) {\n",
       "        var el = document.createElement('script');\n",
       "        el.src = \"https://cdn.jsdelivr.net/npm/@openeo/vue-components@2/assets/openeo.min.js\";\n",
       "        document.head.appendChild(el);\n",
       "\n",
       "        var font = document.createElement('font');\n",
       "        font.as = \"font\";\n",
       "        font.type = \"font/woff2\";\n",
       "        font.crossOrigin = true;\n",
       "        font.href = \"https://use.fontawesome.com/releases/v5.13.0/webfonts/fa-solid-900.woff2\"\n",
       "        document.head.appendChild(font);\n",
       "    }\n",
       "    </script>\n",
       "    <openeo-model-builder>\n",
       "        <script type=\"application/json\">{\"id\": \"151ee64f218f4c60a85d84419c657a38\", \"explicit-zoom\": true, \"height\": \"400px\", \"value\": {\"process_graph\": {\"loadcollection1\": {\"process_id\": \"load_collection\", \"arguments\": {\"bands\": [\"B03\", \"B11\", \"SCL\"], \"id\": \"SENTINEL2_L2A\", \"spatial_extent\": {\"west\": 11.461193783940812, \"east\": 11.479180216059186, \"south\": 46.62835651400798, \"north\": 46.64670948599201, \"crs\": 4326}, \"temporal_extent\": [\"2023-02-01\", \"2023-06-01\"]}}, \"reducedimension1\": {\"process_id\": \"reduce_dimension\", \"arguments\": {\"data\": {\"from_node\": \"loadcollection1\"}, \"dimension\": \"bands\", \"reducer\": {\"process_graph\": {\"arrayelement1\": {\"process_id\": \"array_element\", \"arguments\": {\"data\": {\"from_parameter\": \"data\"}, \"index\": 0}}, \"arrayelement2\": {\"process_id\": \"array_element\", \"arguments\": {\"data\": {\"from_parameter\": \"data\"}, \"index\": 1}}, \"subtract1\": {\"process_id\": \"subtract\", \"arguments\": {\"x\": {\"from_node\": \"arrayelement1\"}, \"y\": {\"from_node\": \"arrayelement2\"}}}, \"add1\": {\"process_id\": \"add\", \"arguments\": {\"x\": {\"from_node\": \"arrayelement1\"}, \"y\": {\"from_node\": \"arrayelement2\"}}}, \"divide1\": {\"process_id\": \"divide\", \"arguments\": {\"x\": {\"from_node\": \"subtract1\"}, \"y\": {\"from_node\": \"add1\"}}}, \"gt1\": {\"process_id\": \"gt\", \"arguments\": {\"x\": {\"from_node\": \"divide1\"}, \"y\": 0.4}}, \"multiply1\": {\"process_id\": \"multiply\", \"arguments\": {\"x\": {\"from_node\": \"gt1\"}, \"y\": 1.0}, \"result\": true}}}}}, \"reducedimension2\": {\"process_id\": \"reduce_dimension\", \"arguments\": {\"data\": {\"from_node\": \"loadcollection1\"}, \"dimension\": \"bands\", \"reducer\": {\"process_graph\": {\"arrayelement3\": {\"process_id\": \"array_element\", \"arguments\": {\"data\": {\"from_parameter\": \"data\"}, \"index\": 2}}, \"eq1\": {\"process_id\": \"eq\", \"arguments\": {\"x\": {\"from_node\": \"arrayelement3\"}, \"y\": 8}}, \"eq2\": {\"process_id\": \"eq\", \"arguments\": {\"x\": {\"from_node\": \"arrayelement3\"}, \"y\": 9}}, \"or1\": {\"process_id\": \"or\", \"arguments\": {\"x\": {\"from_node\": \"eq1\"}, \"y\": {\"from_node\": \"eq2\"}}}, \"eq3\": {\"process_id\": \"eq\", \"arguments\": {\"x\": {\"from_node\": \"arrayelement3\"}, \"y\": 3}}, \"or2\": {\"process_id\": \"or\", \"arguments\": {\"x\": {\"from_node\": \"or1\"}, \"y\": {\"from_node\": \"eq3\"}}}, \"multiply2\": {\"process_id\": \"multiply\", \"arguments\": {\"x\": {\"from_node\": \"or2\"}, \"y\": 1.0}, \"result\": true}}}}}, \"mask1\": {\"process_id\": \"mask\", \"arguments\": {\"data\": {\"from_node\": \"reducedimension1\"}, \"mask\": {\"from_node\": \"reducedimension2\"}, \"replacement\": 2}}, \"reducedimension3\": {\"process_id\": \"reduce_dimension\", \"arguments\": {\"data\": {\"from_node\": \"mask1\"}, \"dimension\": \"t\", \"reducer\": {\"process_graph\": {\"median1\": {\"process_id\": \"median\", \"arguments\": {\"data\": {\"from_parameter\": \"data\"}}, \"result\": true}}}}, \"result\": true}}}}</script>\n",
       "    </openeo-model-builder>\n",
       "    "
      ],
      "text/plain": [
       "<openeo.rest.datacube.DataCube at 0x7f010d2aa990>"
      ]
     },
     "execution_count": 11,
     "metadata": {},
     "output_type": "execute_result"
    }
   ],
   "source": [
    "snow_map_3dcube = snow_map_4dcube.reduce_dimension(reducer=\"median\", dimension=\"t\")\n",
    "snow_map_3dcube"
   ]
  },
  {
   "cell_type": "markdown",
   "id": "251ba878-3841-479a-868e-886d701f50ef",
   "metadata": {
    "tags": []
   },
   "source": [
    "## Download result\n",
    "To finish our process graph we add the `save_result()` process choosing the `GTiff` format. It creates a COG out of the box with openEO on CDSE."
   ]
  },
  {
   "cell_type": "code",
   "execution_count": 12,
   "id": "d654adb3-fcc0-413c-bd5c-28de5564e570",
   "metadata": {
    "tags": []
   },
   "outputs": [],
   "source": [
    "# create a batch job\n",
    "snowmap_cog = snow_map_3dcube.save_result(format = \"GTiff\") #, options = {\"overviews\": \"AUTO\"})"
   ]
  },
  {
   "cell_type": "markdown",
   "id": "ceb0edb7-c349-467d-9a42-bfbe5538a299",
   "metadata": {},
   "source": [
    "We register the job as a batch job on the backend and start the processing. Depending on the traffic on the backend, this usually takes between 1 to 5 minutes."
   ]
  },
  {
   "cell_type": "code",
   "execution_count": 13,
   "id": "1fc7c255-2f67-44a1-978b-2bb51b05eab3",
   "metadata": {
    "tags": []
   },
   "outputs": [
    {
     "name": "stdout",
     "output_type": "stream",
     "text": [
      "0:00:00 Job 'j-2401318f19a84122b62657ed798f0c9e': send 'start'\n",
      "0:00:17 Job 'j-2401318f19a84122b62657ed798f0c9e': created (progress N/A)\n",
      "0:00:22 Job 'j-2401318f19a84122b62657ed798f0c9e': created (progress N/A)\n",
      "0:00:29 Job 'j-2401318f19a84122b62657ed798f0c9e': created (progress N/A)\n",
      "0:00:37 Job 'j-2401318f19a84122b62657ed798f0c9e': created (progress N/A)\n",
      "0:00:47 Job 'j-2401318f19a84122b62657ed798f0c9e': created (progress N/A)\n",
      "0:01:00 Job 'j-2401318f19a84122b62657ed798f0c9e': created (progress N/A)\n",
      "0:01:16 Job 'j-2401318f19a84122b62657ed798f0c9e': created (progress N/A)\n",
      "0:01:36 Job 'j-2401318f19a84122b62657ed798f0c9e': created (progress N/A)\n",
      "0:02:01 Job 'j-2401318f19a84122b62657ed798f0c9e': created (progress N/A)\n",
      "0:02:31 Job 'j-2401318f19a84122b62657ed798f0c9e': created (progress N/A)\n",
      "0:03:09 Job 'j-2401318f19a84122b62657ed798f0c9e': created (progress N/A)\n",
      "0:03:56 Job 'j-2401318f19a84122b62657ed798f0c9e': created (progress N/A)\n",
      "0:04:54 Job 'j-2401318f19a84122b62657ed798f0c9e': running (progress N/A)\n",
      "0:05:54 Job 'j-2401318f19a84122b62657ed798f0c9e': finished (progress N/A)\n"
     ]
    },
    {
     "data": {
      "text/html": [
       "\n",
       "    <script>\n",
       "    if (!window.customElements || !window.customElements.get('openeo-job')) {\n",
       "        var el = document.createElement('script');\n",
       "        el.src = \"https://cdn.jsdelivr.net/npm/@openeo/vue-components@2/assets/openeo.min.js\";\n",
       "        document.head.appendChild(el);\n",
       "\n",
       "        var font = document.createElement('font');\n",
       "        font.as = \"font\";\n",
       "        font.type = \"font/woff2\";\n",
       "        font.crossOrigin = true;\n",
       "        font.href = \"https://use.fontawesome.com/releases/v5.13.0/webfonts/fa-solid-900.woff2\"\n",
       "        document.head.appendChild(font);\n",
       "    }\n",
       "    </script>\n",
       "    <openeo-job>\n",
       "        <script type=\"application/json\">{\"currency\": \"credits\", \"job\": {\"costs\": 0.0, \"created\": \"2024-01-31T12:59:18Z\", \"id\": \"j-2401318f19a84122b62657ed798f0c9e\", \"process\": {\"process_graph\": {\"loadcollection1\": {\"arguments\": {\"bands\": [\"B03\", \"B11\", \"SCL\"], \"id\": \"SENTINEL2_L2A\", \"spatial_extent\": {\"crs\": 4326, \"east\": 11.479180216059186, \"north\": 46.64670948599201, \"south\": 46.62835651400798, \"west\": 11.461193783940812}, \"temporal_extent\": [\"2023-02-01\", \"2023-06-01\"]}, \"process_id\": \"load_collection\"}, \"mask1\": {\"arguments\": {\"data\": {\"from_node\": \"reducedimension1\"}, \"mask\": {\"from_node\": \"reducedimension2\"}, \"replacement\": 2}, \"process_id\": \"mask\"}, \"reducedimension1\": {\"arguments\": {\"data\": {\"from_node\": \"loadcollection1\"}, \"dimension\": \"bands\", \"reducer\": {\"process_graph\": {\"add1\": {\"arguments\": {\"x\": {\"from_node\": \"arrayelement1\"}, \"y\": {\"from_node\": \"arrayelement2\"}}, \"process_id\": \"add\"}, \"arrayelement1\": {\"arguments\": {\"data\": {\"from_parameter\": \"data\"}, \"index\": 0}, \"process_id\": \"array_element\"}, \"arrayelement2\": {\"arguments\": {\"data\": {\"from_parameter\": \"data\"}, \"index\": 1}, \"process_id\": \"array_element\"}, \"divide1\": {\"arguments\": {\"x\": {\"from_node\": \"subtract1\"}, \"y\": {\"from_node\": \"add1\"}}, \"process_id\": \"divide\"}, \"gt1\": {\"arguments\": {\"x\": {\"from_node\": \"divide1\"}, \"y\": 0.4}, \"process_id\": \"gt\"}, \"multiply1\": {\"arguments\": {\"x\": {\"from_node\": \"gt1\"}, \"y\": 1.0}, \"process_id\": \"multiply\", \"result\": true}, \"subtract1\": {\"arguments\": {\"x\": {\"from_node\": \"arrayelement1\"}, \"y\": {\"from_node\": \"arrayelement2\"}}, \"process_id\": \"subtract\"}}}}, \"process_id\": \"reduce_dimension\"}, \"reducedimension2\": {\"arguments\": {\"data\": {\"from_node\": \"loadcollection1\"}, \"dimension\": \"bands\", \"reducer\": {\"process_graph\": {\"arrayelement3\": {\"arguments\": {\"data\": {\"from_parameter\": \"data\"}, \"index\": 2}, \"process_id\": \"array_element\"}, \"eq1\": {\"arguments\": {\"x\": {\"from_node\": \"arrayelement3\"}, \"y\": 8}, \"process_id\": \"eq\"}, \"eq2\": {\"arguments\": {\"x\": {\"from_node\": \"arrayelement3\"}, \"y\": 9}, \"process_id\": \"eq\"}, \"eq3\": {\"arguments\": {\"x\": {\"from_node\": \"arrayelement3\"}, \"y\": 3}, \"process_id\": \"eq\"}, \"multiply2\": {\"arguments\": {\"x\": {\"from_node\": \"or2\"}, \"y\": 1.0}, \"process_id\": \"multiply\", \"result\": true}, \"or1\": {\"arguments\": {\"x\": {\"from_node\": \"eq1\"}, \"y\": {\"from_node\": \"eq2\"}}, \"process_id\": \"or\"}, \"or2\": {\"arguments\": {\"x\": {\"from_node\": \"or1\"}, \"y\": {\"from_node\": \"eq3\"}}, \"process_id\": \"or\"}}}}, \"process_id\": \"reduce_dimension\"}, \"reducedimension3\": {\"arguments\": {\"data\": {\"from_node\": \"mask1\"}, \"dimension\": \"t\", \"reducer\": {\"process_graph\": {\"median1\": {\"arguments\": {\"data\": {\"from_parameter\": \"data\"}}, \"process_id\": \"median\", \"result\": true}}}}, \"process_id\": \"reduce_dimension\"}, \"saveresult1\": {\"arguments\": {\"data\": {\"from_node\": \"reducedimension3\"}, \"format\": \"GTiff\", \"options\": {}}, \"process_id\": \"save_result\", \"result\": true}}}, \"status\": \"finished\", \"title\": \"snowmap_cog\", \"updated\": \"2024-01-31T13:04:41Z\", \"usage\": {\"duration\": {\"unit\": \"seconds\", \"value\": 274}, \"input_pixel\": {\"unit\": \"mega-pixel\", \"value\": 18.0}}}}</script>\n",
       "    </openeo-job>\n",
       "    "
      ],
      "text/plain": [
       "<BatchJob job_id='j-2401318f19a84122b62657ed798f0c9e'>"
      ]
     },
     "execution_count": 13,
     "metadata": {},
     "output_type": "execute_result"
    }
   ],
   "source": [
    "job = snowmap_cog.create_job(title=\"snowmap_cog\")\n",
    "job.start_and_wait()"
   ]
  },
  {
   "cell_type": "markdown",
   "id": "28aada6d-8687-4370-ba52-e33e23f7d8ec",
   "metadata": {},
   "source": [
    "Now let's wait until the job is finished and then download the results."
   ]
  },
  {
   "cell_type": "code",
   "execution_count": 14,
   "id": "219830d8-edec-48d8-b8b0-317112b32899",
   "metadata": {
    "tags": []
   },
   "outputs": [],
   "source": [
    "if job.status() == \"finished\":\n",
    "    results = job.get_results()\n",
    "    results.download_files(\"33_results/\")"
   ]
  },
  {
   "cell_type": "markdown",
   "id": "1eb74eb4-de0c-467e-97f6-0487c4334d6c",
   "metadata": {},
   "source": [
    "Add statistics to the dataset via gdal, such as a summary of the values within the dataset and also some metadata, i.e. the legend (TIFFTAGS).  And we reduce the datatype to the lowest possible datatype supported by COG uint8, since only have three values to represent (0, 1, 2). If you're interested you can check what happened via `!gdalinfo 33_results/openEO_uint8.tif`"
   ]
  },
  {
   "cell_type": "code",
   "execution_count": 16,
   "id": "45b911a3-62fb-41a2-a34c-96ca436d921b",
   "metadata": {
    "tags": []
   },
   "outputs": [
    {
     "name": "stdout",
     "output_type": "stream",
     "text": [
      "Input file size is 145, 210\n",
      "0...10...20...30...40...50...60...70...80...90...100 - done.\n"
     ]
    }
   ],
   "source": [
    "!gdal_translate -mo {TIFFTAG_IMAGEDESCRIPTION}=SnowCoveredArea_0=nosnow_1=snow_2-nodatavalue=cloud -ot Byte -of COG -a_nodata 2 -stats \"33_results/openEO.tif\" \"33_results/openEO_uint8.tif\""
   ]
  },
  {
   "cell_type": "markdown",
   "id": "ba5d74b4-ee86-48c4-a6a6-ff8a667ccafd",
   "metadata": {
    "tags": []
   },
   "source": [
    "## Load results\n",
    "Now we can open the COG and visualize it. "
   ]
  },
  {
   "cell_type": "code",
   "execution_count": 18,
   "id": "96022b16-5714-4f8b-949f-e9183270b451",
   "metadata": {
    "tags": []
   },
   "outputs": [
    {
     "data": {
      "text/html": [
       "<div><svg style=\"position: absolute; width: 0; height: 0; overflow: hidden\">\n",
       "<defs>\n",
       "<symbol id=\"icon-database\" viewBox=\"0 0 32 32\">\n",
       "<path d=\"M16 0c-8.837 0-16 2.239-16 5v4c0 2.761 7.163 5 16 5s16-2.239 16-5v-4c0-2.761-7.163-5-16-5z\"></path>\n",
       "<path d=\"M16 17c-8.837 0-16-2.239-16-5v6c0 2.761 7.163 5 16 5s16-2.239 16-5v-6c0 2.761-7.163 5-16 5z\"></path>\n",
       "<path d=\"M16 26c-8.837 0-16-2.239-16-5v6c0 2.761 7.163 5 16 5s16-2.239 16-5v-6c0 2.761-7.163 5-16 5z\"></path>\n",
       "</symbol>\n",
       "<symbol id=\"icon-file-text2\" viewBox=\"0 0 32 32\">\n",
       "<path d=\"M28.681 7.159c-0.694-0.947-1.662-2.053-2.724-3.116s-2.169-2.030-3.116-2.724c-1.612-1.182-2.393-1.319-2.841-1.319h-15.5c-1.378 0-2.5 1.121-2.5 2.5v27c0 1.378 1.122 2.5 2.5 2.5h23c1.378 0 2.5-1.122 2.5-2.5v-19.5c0-0.448-0.137-1.23-1.319-2.841zM24.543 5.457c0.959 0.959 1.712 1.825 2.268 2.543h-4.811v-4.811c0.718 0.556 1.584 1.309 2.543 2.268zM28 29.5c0 0.271-0.229 0.5-0.5 0.5h-23c-0.271 0-0.5-0.229-0.5-0.5v-27c0-0.271 0.229-0.5 0.5-0.5 0 0 15.499-0 15.5 0v7c0 0.552 0.448 1 1 1h7v19.5z\"></path>\n",
       "<path d=\"M23 26h-14c-0.552 0-1-0.448-1-1s0.448-1 1-1h14c0.552 0 1 0.448 1 1s-0.448 1-1 1z\"></path>\n",
       "<path d=\"M23 22h-14c-0.552 0-1-0.448-1-1s0.448-1 1-1h14c0.552 0 1 0.448 1 1s-0.448 1-1 1z\"></path>\n",
       "<path d=\"M23 18h-14c-0.552 0-1-0.448-1-1s0.448-1 1-1h14c0.552 0 1 0.448 1 1s-0.448 1-1 1z\"></path>\n",
       "</symbol>\n",
       "</defs>\n",
       "</svg>\n",
       "<style>/* CSS stylesheet for displaying xarray objects in jupyterlab.\n",
       " *\n",
       " */\n",
       "\n",
       ":root {\n",
       "  --xr-font-color0: var(--jp-content-font-color0, rgba(0, 0, 0, 1));\n",
       "  --xr-font-color2: var(--jp-content-font-color2, rgba(0, 0, 0, 0.54));\n",
       "  --xr-font-color3: var(--jp-content-font-color3, rgba(0, 0, 0, 0.38));\n",
       "  --xr-border-color: var(--jp-border-color2, #e0e0e0);\n",
       "  --xr-disabled-color: var(--jp-layout-color3, #bdbdbd);\n",
       "  --xr-background-color: var(--jp-layout-color0, white);\n",
       "  --xr-background-color-row-even: var(--jp-layout-color1, white);\n",
       "  --xr-background-color-row-odd: var(--jp-layout-color2, #eeeeee);\n",
       "}\n",
       "\n",
       "html[theme=dark],\n",
       "body[data-theme=dark],\n",
       "body.vscode-dark {\n",
       "  --xr-font-color0: rgba(255, 255, 255, 1);\n",
       "  --xr-font-color2: rgba(255, 255, 255, 0.54);\n",
       "  --xr-font-color3: rgba(255, 255, 255, 0.38);\n",
       "  --xr-border-color: #1F1F1F;\n",
       "  --xr-disabled-color: #515151;\n",
       "  --xr-background-color: #111111;\n",
       "  --xr-background-color-row-even: #111111;\n",
       "  --xr-background-color-row-odd: #313131;\n",
       "}\n",
       "\n",
       ".xr-wrap {\n",
       "  display: block !important;\n",
       "  min-width: 300px;\n",
       "  max-width: 700px;\n",
       "}\n",
       "\n",
       ".xr-text-repr-fallback {\n",
       "  /* fallback to plain text repr when CSS is not injected (untrusted notebook) */\n",
       "  display: none;\n",
       "}\n",
       "\n",
       ".xr-header {\n",
       "  padding-top: 6px;\n",
       "  padding-bottom: 6px;\n",
       "  margin-bottom: 4px;\n",
       "  border-bottom: solid 1px var(--xr-border-color);\n",
       "}\n",
       "\n",
       ".xr-header > div,\n",
       ".xr-header > ul {\n",
       "  display: inline;\n",
       "  margin-top: 0;\n",
       "  margin-bottom: 0;\n",
       "}\n",
       "\n",
       ".xr-obj-type,\n",
       ".xr-array-name {\n",
       "  margin-left: 2px;\n",
       "  margin-right: 10px;\n",
       "}\n",
       "\n",
       ".xr-obj-type {\n",
       "  color: var(--xr-font-color2);\n",
       "}\n",
       "\n",
       ".xr-sections {\n",
       "  padding-left: 0 !important;\n",
       "  display: grid;\n",
       "  grid-template-columns: 150px auto auto 1fr 20px 20px;\n",
       "}\n",
       "\n",
       ".xr-section-item {\n",
       "  display: contents;\n",
       "}\n",
       "\n",
       ".xr-section-item input {\n",
       "  display: none;\n",
       "}\n",
       "\n",
       ".xr-section-item input + label {\n",
       "  color: var(--xr-disabled-color);\n",
       "}\n",
       "\n",
       ".xr-section-item input:enabled + label {\n",
       "  cursor: pointer;\n",
       "  color: var(--xr-font-color2);\n",
       "}\n",
       "\n",
       ".xr-section-item input:enabled + label:hover {\n",
       "  color: var(--xr-font-color0);\n",
       "}\n",
       "\n",
       ".xr-section-summary {\n",
       "  grid-column: 1;\n",
       "  color: var(--xr-font-color2);\n",
       "  font-weight: 500;\n",
       "}\n",
       "\n",
       ".xr-section-summary > span {\n",
       "  display: inline-block;\n",
       "  padding-left: 0.5em;\n",
       "}\n",
       "\n",
       ".xr-section-summary-in:disabled + label {\n",
       "  color: var(--xr-font-color2);\n",
       "}\n",
       "\n",
       ".xr-section-summary-in + label:before {\n",
       "  display: inline-block;\n",
       "  content: '►';\n",
       "  font-size: 11px;\n",
       "  width: 15px;\n",
       "  text-align: center;\n",
       "}\n",
       "\n",
       ".xr-section-summary-in:disabled + label:before {\n",
       "  color: var(--xr-disabled-color);\n",
       "}\n",
       "\n",
       ".xr-section-summary-in:checked + label:before {\n",
       "  content: '▼';\n",
       "}\n",
       "\n",
       ".xr-section-summary-in:checked + label > span {\n",
       "  display: none;\n",
       "}\n",
       "\n",
       ".xr-section-summary,\n",
       ".xr-section-inline-details {\n",
       "  padding-top: 4px;\n",
       "  padding-bottom: 4px;\n",
       "}\n",
       "\n",
       ".xr-section-inline-details {\n",
       "  grid-column: 2 / -1;\n",
       "}\n",
       "\n",
       ".xr-section-details {\n",
       "  display: none;\n",
       "  grid-column: 1 / -1;\n",
       "  margin-bottom: 5px;\n",
       "}\n",
       "\n",
       ".xr-section-summary-in:checked ~ .xr-section-details {\n",
       "  display: contents;\n",
       "}\n",
       "\n",
       ".xr-array-wrap {\n",
       "  grid-column: 1 / -1;\n",
       "  display: grid;\n",
       "  grid-template-columns: 20px auto;\n",
       "}\n",
       "\n",
       ".xr-array-wrap > label {\n",
       "  grid-column: 1;\n",
       "  vertical-align: top;\n",
       "}\n",
       "\n",
       ".xr-preview {\n",
       "  color: var(--xr-font-color3);\n",
       "}\n",
       "\n",
       ".xr-array-preview,\n",
       ".xr-array-data {\n",
       "  padding: 0 5px !important;\n",
       "  grid-column: 2;\n",
       "}\n",
       "\n",
       ".xr-array-data,\n",
       ".xr-array-in:checked ~ .xr-array-preview {\n",
       "  display: none;\n",
       "}\n",
       "\n",
       ".xr-array-in:checked ~ .xr-array-data,\n",
       ".xr-array-preview {\n",
       "  display: inline-block;\n",
       "}\n",
       "\n",
       ".xr-dim-list {\n",
       "  display: inline-block !important;\n",
       "  list-style: none;\n",
       "  padding: 0 !important;\n",
       "  margin: 0;\n",
       "}\n",
       "\n",
       ".xr-dim-list li {\n",
       "  display: inline-block;\n",
       "  padding: 0;\n",
       "  margin: 0;\n",
       "}\n",
       "\n",
       ".xr-dim-list:before {\n",
       "  content: '(';\n",
       "}\n",
       "\n",
       ".xr-dim-list:after {\n",
       "  content: ')';\n",
       "}\n",
       "\n",
       ".xr-dim-list li:not(:last-child):after {\n",
       "  content: ',';\n",
       "  padding-right: 5px;\n",
       "}\n",
       "\n",
       ".xr-has-index {\n",
       "  font-weight: bold;\n",
       "}\n",
       "\n",
       ".xr-var-list,\n",
       ".xr-var-item {\n",
       "  display: contents;\n",
       "}\n",
       "\n",
       ".xr-var-item > div,\n",
       ".xr-var-item label,\n",
       ".xr-var-item > .xr-var-name span {\n",
       "  background-color: var(--xr-background-color-row-even);\n",
       "  margin-bottom: 0;\n",
       "}\n",
       "\n",
       ".xr-var-item > .xr-var-name:hover span {\n",
       "  padding-right: 5px;\n",
       "}\n",
       "\n",
       ".xr-var-list > li:nth-child(odd) > div,\n",
       ".xr-var-list > li:nth-child(odd) > label,\n",
       ".xr-var-list > li:nth-child(odd) > .xr-var-name span {\n",
       "  background-color: var(--xr-background-color-row-odd);\n",
       "}\n",
       "\n",
       ".xr-var-name {\n",
       "  grid-column: 1;\n",
       "}\n",
       "\n",
       ".xr-var-dims {\n",
       "  grid-column: 2;\n",
       "}\n",
       "\n",
       ".xr-var-dtype {\n",
       "  grid-column: 3;\n",
       "  text-align: right;\n",
       "  color: var(--xr-font-color2);\n",
       "}\n",
       "\n",
       ".xr-var-preview {\n",
       "  grid-column: 4;\n",
       "}\n",
       "\n",
       ".xr-index-preview {\n",
       "  grid-column: 2 / 5;\n",
       "  color: var(--xr-font-color2);\n",
       "}\n",
       "\n",
       ".xr-var-name,\n",
       ".xr-var-dims,\n",
       ".xr-var-dtype,\n",
       ".xr-preview,\n",
       ".xr-attrs dt {\n",
       "  white-space: nowrap;\n",
       "  overflow: hidden;\n",
       "  text-overflow: ellipsis;\n",
       "  padding-right: 10px;\n",
       "}\n",
       "\n",
       ".xr-var-name:hover,\n",
       ".xr-var-dims:hover,\n",
       ".xr-var-dtype:hover,\n",
       ".xr-attrs dt:hover {\n",
       "  overflow: visible;\n",
       "  width: auto;\n",
       "  z-index: 1;\n",
       "}\n",
       "\n",
       ".xr-var-attrs,\n",
       ".xr-var-data,\n",
       ".xr-index-data {\n",
       "  display: none;\n",
       "  background-color: var(--xr-background-color) !important;\n",
       "  padding-bottom: 5px !important;\n",
       "}\n",
       "\n",
       ".xr-var-attrs-in:checked ~ .xr-var-attrs,\n",
       ".xr-var-data-in:checked ~ .xr-var-data,\n",
       ".xr-index-data-in:checked ~ .xr-index-data {\n",
       "  display: block;\n",
       "}\n",
       "\n",
       ".xr-var-data > table {\n",
       "  float: right;\n",
       "}\n",
       "\n",
       ".xr-var-name span,\n",
       ".xr-var-data,\n",
       ".xr-index-name div,\n",
       ".xr-index-data,\n",
       ".xr-attrs {\n",
       "  padding-left: 25px !important;\n",
       "}\n",
       "\n",
       ".xr-attrs,\n",
       ".xr-var-attrs,\n",
       ".xr-var-data,\n",
       ".xr-index-data {\n",
       "  grid-column: 1 / -1;\n",
       "}\n",
       "\n",
       "dl.xr-attrs {\n",
       "  padding: 0;\n",
       "  margin: 0;\n",
       "  display: grid;\n",
       "  grid-template-columns: 125px auto;\n",
       "}\n",
       "\n",
       ".xr-attrs dt,\n",
       ".xr-attrs dd {\n",
       "  padding: 0;\n",
       "  margin: 0;\n",
       "  float: left;\n",
       "  padding-right: 10px;\n",
       "  width: auto;\n",
       "}\n",
       "\n",
       ".xr-attrs dt {\n",
       "  font-weight: normal;\n",
       "  grid-column: 1;\n",
       "}\n",
       "\n",
       ".xr-attrs dt:hover span {\n",
       "  display: inline-block;\n",
       "  background: var(--xr-background-color);\n",
       "  padding-right: 10px;\n",
       "}\n",
       "\n",
       ".xr-attrs dd {\n",
       "  grid-column: 2;\n",
       "  white-space: pre-wrap;\n",
       "  word-break: break-all;\n",
       "}\n",
       "\n",
       ".xr-icon-database,\n",
       ".xr-icon-file-text2,\n",
       ".xr-no-icon {\n",
       "  display: inline-block;\n",
       "  vertical-align: middle;\n",
       "  width: 1em;\n",
       "  height: 1.5em !important;\n",
       "  stroke-width: 0;\n",
       "  stroke: currentColor;\n",
       "  fill: currentColor;\n",
       "}\n",
       "</style><pre class='xr-text-repr-fallback'>&lt;xarray.DataArray (band: 1, y: 210, x: 145)&gt;\n",
       "[30450 values with dtype=uint8]\n",
       "Coordinates:\n",
       "  * band         (band) int64 1\n",
       "  * x            (x) float64 6.883e+05 6.884e+05 ... 6.898e+05 6.898e+05\n",
       "  * y            (y) float64 5.169e+06 5.169e+06 ... 5.167e+06 5.167e+06\n",
       "    spatial_ref  int64 0\n",
       "Attributes:\n",
       "    AREA_OR_POINT:               Area\n",
       "    PROCESSING_SOFTWARE:         0.24.0a1\n",
       "    {TIFFTAG_IMAGEDESCRIPTION}:  SnowCoveredArea_0=nosnow_1=snow_2-nodatavalu...\n",
       "    STATISTICS_MAXIMUM:          1\n",
       "    STATISTICS_MEAN:             1\n",
       "    STATISTICS_MINIMUM:          1\n",
       "    STATISTICS_STDDEV:           0\n",
       "    STATISTICS_VALID_PERCENT:    39.04\n",
       "    _FillValue:                  2\n",
       "    scale_factor:                1.0\n",
       "    add_offset:                  0.0</pre><div class='xr-wrap' style='display:none'><div class='xr-header'><div class='xr-obj-type'>xarray.DataArray</div><div class='xr-array-name'></div><ul class='xr-dim-list'><li><span class='xr-has-index'>band</span>: 1</li><li><span class='xr-has-index'>y</span>: 210</li><li><span class='xr-has-index'>x</span>: 145</li></ul></div><ul class='xr-sections'><li class='xr-section-item'><div class='xr-array-wrap'><input id='section-8728e101-160c-457c-9c48-11a12dbf3605' class='xr-array-in' type='checkbox' checked><label for='section-8728e101-160c-457c-9c48-11a12dbf3605' title='Show/hide data repr'><svg class='icon xr-icon-database'><use xlink:href='#icon-database'></use></svg></label><div class='xr-array-preview xr-preview'><span>...</span></div><div class='xr-array-data'><pre>[30450 values with dtype=uint8]</pre></div></div></li><li class='xr-section-item'><input id='section-6cc6a8a1-fb23-4643-9d01-8a9ef7deaa7f' class='xr-section-summary-in' type='checkbox'  checked><label for='section-6cc6a8a1-fb23-4643-9d01-8a9ef7deaa7f' class='xr-section-summary' >Coordinates: <span>(4)</span></label><div class='xr-section-inline-details'></div><div class='xr-section-details'><ul class='xr-var-list'><li class='xr-var-item'><div class='xr-var-name'><span class='xr-has-index'>band</span></div><div class='xr-var-dims'>(band)</div><div class='xr-var-dtype'>int64</div><div class='xr-var-preview xr-preview'>1</div><input id='attrs-4a6d3798-2da9-4f57-9c42-1061753306b9' class='xr-var-attrs-in' type='checkbox' disabled><label for='attrs-4a6d3798-2da9-4f57-9c42-1061753306b9' title='Show/Hide attributes'><svg class='icon xr-icon-file-text2'><use xlink:href='#icon-file-text2'></use></svg></label><input id='data-5bb61c88-a745-4d47-9b3f-a22277d546b4' class='xr-var-data-in' type='checkbox'><label for='data-5bb61c88-a745-4d47-9b3f-a22277d546b4' title='Show/Hide data repr'><svg class='icon xr-icon-database'><use xlink:href='#icon-database'></use></svg></label><div class='xr-var-attrs'><dl class='xr-attrs'></dl></div><div class='xr-var-data'><pre>array([1])</pre></div></li><li class='xr-var-item'><div class='xr-var-name'><span class='xr-has-index'>x</span></div><div class='xr-var-dims'>(x)</div><div class='xr-var-dtype'>float64</div><div class='xr-var-preview xr-preview'>6.883e+05 6.884e+05 ... 6.898e+05</div><input id='attrs-9f464b9a-b94e-49a3-9789-5dd66205e9d7' class='xr-var-attrs-in' type='checkbox' disabled><label for='attrs-9f464b9a-b94e-49a3-9789-5dd66205e9d7' title='Show/Hide attributes'><svg class='icon xr-icon-file-text2'><use xlink:href='#icon-file-text2'></use></svg></label><input id='data-01ed7ce4-b9d1-46ad-a366-685e60c15e97' class='xr-var-data-in' type='checkbox'><label for='data-01ed7ce4-b9d1-46ad-a366-685e60c15e97' title='Show/Hide data repr'><svg class='icon xr-icon-database'><use xlink:href='#icon-database'></use></svg></label><div class='xr-var-attrs'><dl class='xr-attrs'></dl></div><div class='xr-var-data'><pre>array([688345., 688355., 688365., 688375., 688385., 688395., 688405., 688415.,\n",
       "       688425., 688435., 688445., 688455., 688465., 688475., 688485., 688495.,\n",
       "       688505., 688515., 688525., 688535., 688545., 688555., 688565., 688575.,\n",
       "       688585., 688595., 688605., 688615., 688625., 688635., 688645., 688655.,\n",
       "       688665., 688675., 688685., 688695., 688705., 688715., 688725., 688735.,\n",
       "       688745., 688755., 688765., 688775., 688785., 688795., 688805., 688815.,\n",
       "       688825., 688835., 688845., 688855., 688865., 688875., 688885., 688895.,\n",
       "       688905., 688915., 688925., 688935., 688945., 688955., 688965., 688975.,\n",
       "       688985., 688995., 689005., 689015., 689025., 689035., 689045., 689055.,\n",
       "       689065., 689075., 689085., 689095., 689105., 689115., 689125., 689135.,\n",
       "       689145., 689155., 689165., 689175., 689185., 689195., 689205., 689215.,\n",
       "       689225., 689235., 689245., 689255., 689265., 689275., 689285., 689295.,\n",
       "       689305., 689315., 689325., 689335., 689345., 689355., 689365., 689375.,\n",
       "       689385., 689395., 689405., 689415., 689425., 689435., 689445., 689455.,\n",
       "       689465., 689475., 689485., 689495., 689505., 689515., 689525., 689535.,\n",
       "       689545., 689555., 689565., 689575., 689585., 689595., 689605., 689615.,\n",
       "       689625., 689635., 689645., 689655., 689665., 689675., 689685., 689695.,\n",
       "       689705., 689715., 689725., 689735., 689745., 689755., 689765., 689775.,\n",
       "       689785.])</pre></div></li><li class='xr-var-item'><div class='xr-var-name'><span class='xr-has-index'>y</span></div><div class='xr-var-dims'>(y)</div><div class='xr-var-dtype'>float64</div><div class='xr-var-preview xr-preview'>5.169e+06 5.169e+06 ... 5.167e+06</div><input id='attrs-bca2bcea-4fb9-499d-b3c9-9e2af04449c7' class='xr-var-attrs-in' type='checkbox' disabled><label for='attrs-bca2bcea-4fb9-499d-b3c9-9e2af04449c7' title='Show/Hide attributes'><svg class='icon xr-icon-file-text2'><use xlink:href='#icon-file-text2'></use></svg></label><input id='data-988035ec-4f82-46ac-863c-c91053403b1a' class='xr-var-data-in' type='checkbox'><label for='data-988035ec-4f82-46ac-863c-c91053403b1a' title='Show/Hide data repr'><svg class='icon xr-icon-database'><use xlink:href='#icon-database'></use></svg></label><div class='xr-var-attrs'><dl class='xr-attrs'></dl></div><div class='xr-var-data'><pre>array([5168895., 5168885., 5168875., ..., 5166825., 5166815., 5166805.])</pre></div></li><li class='xr-var-item'><div class='xr-var-name'><span>spatial_ref</span></div><div class='xr-var-dims'>()</div><div class='xr-var-dtype'>int64</div><div class='xr-var-preview xr-preview'>0</div><input id='attrs-b60ab124-d53e-400a-8145-db0cc8dca873' class='xr-var-attrs-in' type='checkbox' ><label for='attrs-b60ab124-d53e-400a-8145-db0cc8dca873' title='Show/Hide attributes'><svg class='icon xr-icon-file-text2'><use xlink:href='#icon-file-text2'></use></svg></label><input id='data-05cd9f70-810e-4a29-a230-efc7fcf134cb' class='xr-var-data-in' type='checkbox'><label for='data-05cd9f70-810e-4a29-a230-efc7fcf134cb' title='Show/Hide data repr'><svg class='icon xr-icon-database'><use xlink:href='#icon-database'></use></svg></label><div class='xr-var-attrs'><dl class='xr-attrs'><dt><span>crs_wkt :</span></dt><dd>PROJCS[&quot;WGS 84 / UTM zone 32N&quot;,GEOGCS[&quot;WGS 84&quot;,DATUM[&quot;WGS_1984&quot;,SPHEROID[&quot;WGS 84&quot;,6378137,298.257223563,AUTHORITY[&quot;EPSG&quot;,&quot;7030&quot;]],AUTHORITY[&quot;EPSG&quot;,&quot;6326&quot;]],PRIMEM[&quot;Greenwich&quot;,0,AUTHORITY[&quot;EPSG&quot;,&quot;8901&quot;]],UNIT[&quot;degree&quot;,0.0174532925199433,AUTHORITY[&quot;EPSG&quot;,&quot;9122&quot;]],AUTHORITY[&quot;EPSG&quot;,&quot;4326&quot;]],PROJECTION[&quot;Transverse_Mercator&quot;],PARAMETER[&quot;latitude_of_origin&quot;,0],PARAMETER[&quot;central_meridian&quot;,9],PARAMETER[&quot;scale_factor&quot;,0.9996],PARAMETER[&quot;false_easting&quot;,500000],PARAMETER[&quot;false_northing&quot;,0],UNIT[&quot;metre&quot;,1,AUTHORITY[&quot;EPSG&quot;,&quot;9001&quot;]],AXIS[&quot;Easting&quot;,EAST],AXIS[&quot;Northing&quot;,NORTH],AUTHORITY[&quot;EPSG&quot;,&quot;32632&quot;]]</dd><dt><span>semi_major_axis :</span></dt><dd>6378137.0</dd><dt><span>semi_minor_axis :</span></dt><dd>6356752.314245179</dd><dt><span>inverse_flattening :</span></dt><dd>298.257223563</dd><dt><span>reference_ellipsoid_name :</span></dt><dd>WGS 84</dd><dt><span>longitude_of_prime_meridian :</span></dt><dd>0.0</dd><dt><span>prime_meridian_name :</span></dt><dd>Greenwich</dd><dt><span>geographic_crs_name :</span></dt><dd>WGS 84</dd><dt><span>horizontal_datum_name :</span></dt><dd>World Geodetic System 1984</dd><dt><span>projected_crs_name :</span></dt><dd>WGS 84 / UTM zone 32N</dd><dt><span>grid_mapping_name :</span></dt><dd>transverse_mercator</dd><dt><span>latitude_of_projection_origin :</span></dt><dd>0.0</dd><dt><span>longitude_of_central_meridian :</span></dt><dd>9.0</dd><dt><span>false_easting :</span></dt><dd>500000.0</dd><dt><span>false_northing :</span></dt><dd>0.0</dd><dt><span>scale_factor_at_central_meridian :</span></dt><dd>0.9996</dd><dt><span>spatial_ref :</span></dt><dd>PROJCS[&quot;WGS 84 / UTM zone 32N&quot;,GEOGCS[&quot;WGS 84&quot;,DATUM[&quot;WGS_1984&quot;,SPHEROID[&quot;WGS 84&quot;,6378137,298.257223563,AUTHORITY[&quot;EPSG&quot;,&quot;7030&quot;]],AUTHORITY[&quot;EPSG&quot;,&quot;6326&quot;]],PRIMEM[&quot;Greenwich&quot;,0,AUTHORITY[&quot;EPSG&quot;,&quot;8901&quot;]],UNIT[&quot;degree&quot;,0.0174532925199433,AUTHORITY[&quot;EPSG&quot;,&quot;9122&quot;]],AUTHORITY[&quot;EPSG&quot;,&quot;4326&quot;]],PROJECTION[&quot;Transverse_Mercator&quot;],PARAMETER[&quot;latitude_of_origin&quot;,0],PARAMETER[&quot;central_meridian&quot;,9],PARAMETER[&quot;scale_factor&quot;,0.9996],PARAMETER[&quot;false_easting&quot;,500000],PARAMETER[&quot;false_northing&quot;,0],UNIT[&quot;metre&quot;,1,AUTHORITY[&quot;EPSG&quot;,&quot;9001&quot;]],AXIS[&quot;Easting&quot;,EAST],AXIS[&quot;Northing&quot;,NORTH],AUTHORITY[&quot;EPSG&quot;,&quot;32632&quot;]]</dd><dt><span>GeoTransform :</span></dt><dd>688340.0 10.0 0.0 5168900.0 0.0 -10.0</dd></dl></div><div class='xr-var-data'><pre>array(0)</pre></div></li></ul></div></li><li class='xr-section-item'><input id='section-b85b8743-ad81-4832-97f3-7c51b72bdf3d' class='xr-section-summary-in' type='checkbox'  ><label for='section-b85b8743-ad81-4832-97f3-7c51b72bdf3d' class='xr-section-summary' >Indexes: <span>(3)</span></label><div class='xr-section-inline-details'></div><div class='xr-section-details'><ul class='xr-var-list'><li class='xr-var-item'><div class='xr-index-name'><div>band</div></div><div class='xr-index-preview'>PandasIndex</div><div></div><input id='index-50bf0ab5-3964-4975-a8dd-86486d432005' class='xr-index-data-in' type='checkbox'/><label for='index-50bf0ab5-3964-4975-a8dd-86486d432005' title='Show/Hide index repr'><svg class='icon xr-icon-database'><use xlink:href='#icon-database'></use></svg></label><div class='xr-index-data'><pre>PandasIndex(Index([1], dtype=&#x27;int64&#x27;, name=&#x27;band&#x27;))</pre></div></li><li class='xr-var-item'><div class='xr-index-name'><div>x</div></div><div class='xr-index-preview'>PandasIndex</div><div></div><input id='index-8fa93d98-0039-4059-b5d2-4a10483afb48' class='xr-index-data-in' type='checkbox'/><label for='index-8fa93d98-0039-4059-b5d2-4a10483afb48' title='Show/Hide index repr'><svg class='icon xr-icon-database'><use xlink:href='#icon-database'></use></svg></label><div class='xr-index-data'><pre>PandasIndex(Index([688345.0, 688355.0, 688365.0, 688375.0, 688385.0, 688395.0, 688405.0,\n",
       "       688415.0, 688425.0, 688435.0,\n",
       "       ...\n",
       "       689695.0, 689705.0, 689715.0, 689725.0, 689735.0, 689745.0, 689755.0,\n",
       "       689765.0, 689775.0, 689785.0],\n",
       "      dtype=&#x27;float64&#x27;, name=&#x27;x&#x27;, length=145))</pre></div></li><li class='xr-var-item'><div class='xr-index-name'><div>y</div></div><div class='xr-index-preview'>PandasIndex</div><div></div><input id='index-78820969-42f4-494b-a64a-2233a133b68a' class='xr-index-data-in' type='checkbox'/><label for='index-78820969-42f4-494b-a64a-2233a133b68a' title='Show/Hide index repr'><svg class='icon xr-icon-database'><use xlink:href='#icon-database'></use></svg></label><div class='xr-index-data'><pre>PandasIndex(Index([5168895.0, 5168885.0, 5168875.0, 5168865.0, 5168855.0, 5168845.0,\n",
       "       5168835.0, 5168825.0, 5168815.0, 5168805.0,\n",
       "       ...\n",
       "       5166895.0, 5166885.0, 5166875.0, 5166865.0, 5166855.0, 5166845.0,\n",
       "       5166835.0, 5166825.0, 5166815.0, 5166805.0],\n",
       "      dtype=&#x27;float64&#x27;, name=&#x27;y&#x27;, length=210))</pre></div></li></ul></div></li><li class='xr-section-item'><input id='section-1b1125d1-873b-4b59-b40b-dd81f3c9633b' class='xr-section-summary-in' type='checkbox'  ><label for='section-1b1125d1-873b-4b59-b40b-dd81f3c9633b' class='xr-section-summary' >Attributes: <span>(11)</span></label><div class='xr-section-inline-details'></div><div class='xr-section-details'><dl class='xr-attrs'><dt><span>AREA_OR_POINT :</span></dt><dd>Area</dd><dt><span>PROCESSING_SOFTWARE :</span></dt><dd>0.24.0a1</dd><dt><span>{TIFFTAG_IMAGEDESCRIPTION} :</span></dt><dd>SnowCoveredArea_0=nosnow_1=snow_2-nodatavalue=cloud</dd><dt><span>STATISTICS_MAXIMUM :</span></dt><dd>1</dd><dt><span>STATISTICS_MEAN :</span></dt><dd>1</dd><dt><span>STATISTICS_MINIMUM :</span></dt><dd>1</dd><dt><span>STATISTICS_STDDEV :</span></dt><dd>0</dd><dt><span>STATISTICS_VALID_PERCENT :</span></dt><dd>39.04</dd><dt><span>_FillValue :</span></dt><dd>2</dd><dt><span>scale_factor :</span></dt><dd>1.0</dd><dt><span>add_offset :</span></dt><dd>0.0</dd></dl></div></li></ul></div></div>"
      ],
      "text/plain": [
       "<xarray.DataArray (band: 1, y: 210, x: 145)>\n",
       "[30450 values with dtype=uint8]\n",
       "Coordinates:\n",
       "  * band         (band) int64 1\n",
       "  * x            (x) float64 6.883e+05 6.884e+05 ... 6.898e+05 6.898e+05\n",
       "  * y            (y) float64 5.169e+06 5.169e+06 ... 5.167e+06 5.167e+06\n",
       "    spatial_ref  int64 0\n",
       "Attributes:\n",
       "    AREA_OR_POINT:               Area\n",
       "    PROCESSING_SOFTWARE:         0.24.0a1\n",
       "    {TIFFTAG_IMAGEDESCRIPTION}:  SnowCoveredArea_0=nosnow_1=snow_2-nodatavalu...\n",
       "    STATISTICS_MAXIMUM:          1\n",
       "    STATISTICS_MEAN:             1\n",
       "    STATISTICS_MINIMUM:          1\n",
       "    STATISTICS_STDDEV:           0\n",
       "    STATISTICS_VALID_PERCENT:    39.04\n",
       "    _FillValue:                  2\n",
       "    scale_factor:                1.0\n",
       "    add_offset:                  0.0"
      ]
     },
     "execution_count": 18,
     "metadata": {},
     "output_type": "execute_result"
    }
   ],
   "source": [
    "snowmap = rio.open_rasterio(\"33_results/openEO_uint8.tif\", decode_coords=\"all\")\n",
    "snowmap"
   ]
  },
  {
   "cell_type": "markdown",
   "id": "b00131b6-23a1-4c61-9ab4-03ee5f8288f8",
   "metadata": {},
   "source": [
    "Now, we check if the nodata value can be determined directly from the COG metadata"
   ]
  },
  {
   "cell_type": "code",
   "execution_count": 19,
   "id": "3b799cc3-20be-4927-9e16-49ded2f0cbe0",
   "metadata": {
    "tags": []
   },
   "outputs": [
    {
     "data": {
      "text/plain": [
       "2"
      ]
     },
     "execution_count": 19,
     "metadata": {},
     "output_type": "execute_result"
    }
   ],
   "source": [
    "snowmap.rio.nodata"
   ]
  },
  {
   "cell_type": "markdown",
   "id": "06ebdfae-948b-45e2-97ff-1f7917eff3d5",
   "metadata": {},
   "source": [
    "Now, we make a plot of the snowmap keeping in mind that `0 = no snow`, `1 = snow`, and `2 = clouds (nodata value)`"
   ]
  },
  {
   "cell_type": "code",
   "execution_count": 20,
   "id": "82685fa0-8f9a-4174-9287-324ac6c65709",
   "metadata": {
    "tags": []
   },
   "outputs": [
    {
     "data": {
      "image/png": "[encoded data removed]",
      "text/plain": [
       "<Figure size 640x480 with 2 Axes>"
      ]
     },
     "metadata": {},
     "output_type": "display_data"
    }
   ],
   "source": [
    "snowmap.plot(levels=[0, 1, 2])\n",
    "plt.title(\"Spatial distribution of snow, no snow and cloudy pixels\")\n",
    "plt.ylabel(\"Latitude\")\n",
    "plt.xlabel(\"Longitude\")\n",
    "plt.tight_layout()"
   ]
  },
  {
   "cell_type": "markdown",
   "id": "c45c4607-5540-42d7-9646-0cd1826eca5d",
   "metadata": {},
   "source": [
    "Let's have a look at the histogram to understand the distribution of the values in our map"
   ]
  },
  {
   "cell_type": "code",
   "execution_count": 21,
   "id": "c9ed448e-d027-474e-83ec-7a361edf134e",
   "metadata": {
    "tags": []
   },
   "outputs": [
    {
     "data": {
      "image/png": "[encoded data removed]",
      "text/plain": [
       "<Figure size 640x480 with 1 Axes>"
      ]
     },
     "metadata": {},
     "output_type": "display_data"
    }
   ],
   "source": [
    "data = snowmap.values.flatten()\n",
    "snowmap.plot.hist(xticks = [0, 1, 2], weights=np.ones(len(data)) / len(data))\n",
    "\n",
    "plt.gca().yaxis.set_major_formatter(PercentFormatter(1))\n",
    "plt.title(\"Distribution of snow, no snow and cloud pixels\")\n",
    "plt.show()"
   ]
  },
  {
   "cell_type": "markdown",
   "id": "65b9ec26-14be-4599-80a1-b44bde541a98",
   "metadata": {},
   "source": [
    "## Load STAC metadata\n",
    "In addition to the COG we also receive STAC metadata for our result.\n",
    "Let's have a look at it."
   ]
  },
  {
   "cell_type": "code",
   "execution_count": 22,
   "id": "1cee7c43-d939-462c-853d-d80a5883dd9b",
   "metadata": {
    "tags": []
   },
   "outputs": [
    {
     "data": {
      "text/plain": [
       "{'assets': {'openEO.tif': {'file:nodata': ['nan'],\n",
       "   'href': 'https://openeo.dataspace.copernicus.eu/openeo/1.2/jobs/j-2401318f19a84122b62657ed798f0c9e/results/assets/MDYxODNjYmMtODRjOC00YzZhLThhN2QtY2IxOGJhMDhjYzhj/ed41e358ad1fe308f681e33015b06869/openEO.tif?expires=1707311403',\n",
       "   'proj:bbox': [688340.0, 5166800.0, 689790.0, 5168900.0],\n",
       "   'proj:epsg': 32632,\n",
       "   'proj:shape': [145, 210],\n",
       "   'raster:bands': [{'name': '1',\n",
       "     'statistics': {'maximum': 2.0,\n",
       "      'mean': 1.5691625615764,\n",
       "      'minimum': 0.5,\n",
       "      'stddev': 0.47448333824272,\n",
       "      'valid_percent': 100.0}}],\n",
       "   'roles': ['data'],\n",
       "   'title': 'openEO.tif',\n",
       "   'type': 'image/tiff; application=geotiff'}},\n",
       " 'description': 'Results for batch job j-2401318f19a84122b62657ed798f0c9e',\n",
       " 'extent': {'spatial': {'bbox': [[11.461193783940812,\n",
       "     46.62835651400798,\n",
       "     11.479180216059186,\n",
       "     46.64670948599201]]},\n",
       "  'temporal': {'interval': [['2023-02-01T00:00:00Z',\n",
       "     '2023-06-01T00:00:00Z']]}},\n",
       " 'id': 'j-2401318f19a84122b62657ed798f0c9e',\n",
       " 'license': 'proprietary',\n",
       " 'links': [{'href': '/eodata/Sentinel-2/MSI/L2A/2023/02/02/S2A_MSIL2A_20230202T101231_N0509_R022_T32TPS_20230202T142000.SAFE',\n",
       "   'rel': 'derived_from',\n",
       "   'title': 'Derived from /eodata/Sentinel-2/MSI/L2A/2023/02/02/S2A_MSIL2A_20230202T101231_N0509_R022_T32TPS_20230202T142000.SAFE',\n",
       "   'type': 'application/json'},\n",
       "  {'href': '/eodata/Sentinel-2/MSI/L2A/2023/02/05/S2A_MSIL2A_20230205T102221_N0509_R065_T32TPS_20230205T135958.SAFE',\n",
       "   'rel': 'derived_from',\n",
       "   'title': 'Derived from /eodata/Sentinel-2/MSI/L2A/2023/02/05/S2A_MSIL2A_20230205T102221_N0509_R065_T32TPS_20230205T135958.SAFE',\n",
       "   'type': 'application/json'},\n",
       "  {'href': '/eodata/Sentinel-2/MSI/L2A/2023/02/07/S2B_MSIL2A_20230207T101109_N0509_R022_T32TPS_20230207T124736.SAFE',\n",
       "   'rel': 'derived_from',\n",
       "   'title': 'Derived from /eodata/Sentinel-2/MSI/L2A/2023/02/07/S2B_MSIL2A_20230207T101109_N0509_R022_T32TPS_20230207T124736.SAFE',\n",
       "   'type': 'application/json'},\n",
       "  {'href': '/eodata/Sentinel-2/MSI/L2A/2023/02/10/S2B_MSIL2A_20230210T102049_N0509_R065_T32TPS_20230210T125716.SAFE',\n",
       "   'rel': 'derived_from',\n",
       "   'title': 'Derived from /eodata/Sentinel-2/MSI/L2A/2023/02/10/S2B_MSIL2A_20230210T102049_N0509_R065_T32TPS_20230210T125716.SAFE',\n",
       "   'type': 'application/json'},\n",
       "  {'href': '/eodata/Sentinel-2/MSI/L2A/2023/02/12/S2A_MSIL2A_20230212T101131_N0509_R022_T32TPS_20230212T142159.SAFE',\n",
       "   'rel': 'derived_from',\n",
       "   'title': 'Derived from /eodata/Sentinel-2/MSI/L2A/2023/02/12/S2A_MSIL2A_20230212T101131_N0509_R022_T32TPS_20230212T142159.SAFE',\n",
       "   'type': 'application/json'},\n",
       "  {'href': '/eodata/Sentinel-2/MSI/L2A/2023/02/15/S2A_MSIL2A_20230215T102121_N0509_R065_T32TPS_20230215T141008.SAFE',\n",
       "   'rel': 'derived_from',\n",
       "   'title': 'Derived from /eodata/Sentinel-2/MSI/L2A/2023/02/15/S2A_MSIL2A_20230215T102121_N0509_R065_T32TPS_20230215T141008.SAFE',\n",
       "   'type': 'application/json'},\n",
       "  {'href': '/eodata/Sentinel-2/MSI/L2A/2023/02/17/S2B_MSIL2A_20230217T101029_N0509_R022_T32TPS_20230217T125054.SAFE',\n",
       "   'rel': 'derived_from',\n",
       "   'title': 'Derived from /eodata/Sentinel-2/MSI/L2A/2023/02/17/S2B_MSIL2A_20230217T101029_N0509_R022_T32TPS_20230217T125054.SAFE',\n",
       "   'type': 'application/json'},\n",
       "  {'href': '/eodata/Sentinel-2/MSI/L2A/2023/02/20/S2B_MSIL2A_20230220T101949_N0509_R065_T32TPS_20230220T145403.SAFE',\n",
       "   'rel': 'derived_from',\n",
       "   'title': 'Derived from /eodata/Sentinel-2/MSI/L2A/2023/02/20/S2B_MSIL2A_20230220T101949_N0509_R065_T32TPS_20230220T145403.SAFE',\n",
       "   'type': 'application/json'},\n",
       "  {'href': '/eodata/Sentinel-2/MSI/L2A/2023/02/22/S2A_MSIL2A_20230222T101031_N0509_R022_T32TPS_20230222T141055.SAFE',\n",
       "   'rel': 'derived_from',\n",
       "   'title': 'Derived from /eodata/Sentinel-2/MSI/L2A/2023/02/22/S2A_MSIL2A_20230222T101031_N0509_R022_T32TPS_20230222T141055.SAFE',\n",
       "   'type': 'application/json'},\n",
       "  {'href': '/eodata/Sentinel-2/MSI/L2A/2023/02/25/S2A_MSIL2A_20230225T102021_N0509_R065_T32TPS_20230225T163245.SAFE',\n",
       "   'rel': 'derived_from',\n",
       "   'title': 'Derived from /eodata/Sentinel-2/MSI/L2A/2023/02/25/S2A_MSIL2A_20230225T102021_N0509_R065_T32TPS_20230225T163245.SAFE',\n",
       "   'type': 'application/json'},\n",
       "  {'href': '/eodata/Sentinel-2/MSI/L2A/2023/02/27/S2B_MSIL2A_20230227T101029_N0509_R022_T32TPS_20230227T124853.SAFE',\n",
       "   'rel': 'derived_from',\n",
       "   'title': 'Derived from /eodata/Sentinel-2/MSI/L2A/2023/02/27/S2B_MSIL2A_20230227T101029_N0509_R022_T32TPS_20230227T124853.SAFE',\n",
       "   'type': 'application/json'},\n",
       "  {'href': '/eodata/Sentinel-2/MSI/L2A/2023/03/02/S2B_MSIL2A_20230302T101839_N0509_R065_T32TPS_20230302T165059.SAFE',\n",
       "   'rel': 'derived_from',\n",
       "   'title': 'Derived from /eodata/Sentinel-2/MSI/L2A/2023/03/02/S2B_MSIL2A_20230302T101839_N0509_R065_T32TPS_20230302T165059.SAFE',\n",
       "   'type': 'application/json'},\n",
       "  {'href': '/eodata/Sentinel-2/MSI/L2A/2023/03/04/S2A_MSIL2A_20230304T101021_N0509_R022_T32TPS_20230907T154000.SAFE',\n",
       "   'rel': 'derived_from',\n",
       "   'title': 'Derived from /eodata/Sentinel-2/MSI/L2A/2023/03/04/S2A_MSIL2A_20230304T101021_N0509_R022_T32TPS_20230907T154000.SAFE',\n",
       "   'type': 'application/json'},\n",
       "  {'href': '/eodata/Sentinel-2/MSI/L2A/2023/03/07/S2A_MSIL2A_20230307T101901_N0509_R065_T32TPS_20230307T162402.SAFE',\n",
       "   'rel': 'derived_from',\n",
       "   'title': 'Derived from /eodata/Sentinel-2/MSI/L2A/2023/03/07/S2A_MSIL2A_20230307T101901_N0509_R065_T32TPS_20230307T162402.SAFE',\n",
       "   'type': 'application/json'},\n",
       "  {'href': '/eodata/Sentinel-2/MSI/L2A/2023/03/09/S2B_MSIL2A_20230309T100749_N0509_R022_T32TPS_20230309T162710.SAFE',\n",
       "   'rel': 'derived_from',\n",
       "   'title': 'Derived from /eodata/Sentinel-2/MSI/L2A/2023/03/09/S2B_MSIL2A_20230309T100749_N0509_R022_T32TPS_20230309T162710.SAFE',\n",
       "   'type': 'application/json'},\n",
       "  {'href': '/eodata/Sentinel-2/MSI/L2A/2023/03/12/S2B_MSIL2A_20230312T101729_N0509_R065_T32TPS_20230312T163807.SAFE',\n",
       "   'rel': 'derived_from',\n",
       "   'title': 'Derived from /eodata/Sentinel-2/MSI/L2A/2023/03/12/S2B_MSIL2A_20230312T101729_N0509_R065_T32TPS_20230312T163807.SAFE',\n",
       "   'type': 'application/json'},\n",
       "  {'href': '/eodata/Sentinel-2/MSI/L2A/2023/03/14/S2A_MSIL2A_20230314T101021_N0509_R022_T32TPS_20230314T161800.SAFE',\n",
       "   'rel': 'derived_from',\n",
       "   'title': 'Derived from /eodata/Sentinel-2/MSI/L2A/2023/03/14/S2A_MSIL2A_20230314T101021_N0509_R022_T32TPS_20230314T161800.SAFE',\n",
       "   'type': 'application/json'},\n",
       "  {'href': '/eodata/Sentinel-2/MSI/L2A/2023/03/17/S2A_MSIL2A_20230317T101741_N0509_R065_T32TPS_20230317T162557.SAFE',\n",
       "   'rel': 'derived_from',\n",
       "   'title': 'Derived from /eodata/Sentinel-2/MSI/L2A/2023/03/17/S2A_MSIL2A_20230317T101741_N0509_R065_T32TPS_20230317T162557.SAFE',\n",
       "   'type': 'application/json'},\n",
       "  {'href': '/eodata/Sentinel-2/MSI/L2A/2023/03/19/S2B_MSIL2A_20230319T100649_N0509_R022_T32TPS_20230319T130804.SAFE',\n",
       "   'rel': 'derived_from',\n",
       "   'title': 'Derived from /eodata/Sentinel-2/MSI/L2A/2023/03/19/S2B_MSIL2A_20230319T100649_N0509_R022_T32TPS_20230319T130804.SAFE',\n",
       "   'type': 'application/json'},\n",
       "  {'href': '/eodata/Sentinel-2/MSI/L2A/2023/03/22/S2B_MSIL2A_20230322T101649_N0509_R065_T32TPS_20230322T145625.SAFE',\n",
       "   'rel': 'derived_from',\n",
       "   'title': 'Derived from /eodata/Sentinel-2/MSI/L2A/2023/03/22/S2B_MSIL2A_20230322T101649_N0509_R065_T32TPS_20230322T145625.SAFE',\n",
       "   'type': 'application/json'},\n",
       "  {'href': '/eodata/Sentinel-2/MSI/L2A/2023/03/24/S2A_MSIL2A_20230324T101021_N0509_R022_T32TPS_20230324T161752.SAFE',\n",
       "   'rel': 'derived_from',\n",
       "   'title': 'Derived from /eodata/Sentinel-2/MSI/L2A/2023/03/24/S2A_MSIL2A_20230324T101021_N0509_R022_T32TPS_20230324T161752.SAFE',\n",
       "   'type': 'application/json'},\n",
       "  {'href': '/eodata/Sentinel-2/MSI/L2A/2023/03/27/S2A_MSIL2A_20230327T101631_N0509_R065_T32TPS_20230327T162303.SAFE',\n",
       "   'rel': 'derived_from',\n",
       "   'title': 'Derived from /eodata/Sentinel-2/MSI/L2A/2023/03/27/S2A_MSIL2A_20230327T101631_N0509_R065_T32TPS_20230327T162303.SAFE',\n",
       "   'type': 'application/json'},\n",
       "  {'href': '/eodata/Sentinel-2/MSI/L2A/2023/03/29/S2B_MSIL2A_20230329T100629_N0509_R022_T32TPS_20230329T130657.SAFE',\n",
       "   'rel': 'derived_from',\n",
       "   'title': 'Derived from /eodata/Sentinel-2/MSI/L2A/2023/03/29/S2B_MSIL2A_20230329T100629_N0509_R022_T32TPS_20230329T130657.SAFE',\n",
       "   'type': 'application/json'},\n",
       "  {'href': '/eodata/Sentinel-2/MSI/L2A/2023/04/01/S2B_MSIL2A_20230401T101559_N0509_R065_T32TPS_20230401T145632.SAFE',\n",
       "   'rel': 'derived_from',\n",
       "   'title': 'Derived from /eodata/Sentinel-2/MSI/L2A/2023/04/01/S2B_MSIL2A_20230401T101559_N0509_R065_T32TPS_20230401T145632.SAFE',\n",
       "   'type': 'application/json'},\n",
       "  {'href': '/eodata/Sentinel-2/MSI/L2A/2023/04/03/S2A_MSIL2A_20230403T100551_N0509_R022_T32TPS_20230403T162459.SAFE',\n",
       "   'rel': 'derived_from',\n",
       "   'title': 'Derived from /eodata/Sentinel-2/MSI/L2A/2023/04/03/S2A_MSIL2A_20230403T100551_N0509_R022_T32TPS_20230403T162459.SAFE',\n",
       "   'type': 'application/json'},\n",
       "  {'href': '/eodata/Sentinel-2/MSI/L2A/2023/04/06/S2A_MSIL2A_20230406T102021_N0509_R065_T32TPS_20230406T194357.SAFE',\n",
       "   'rel': 'derived_from',\n",
       "   'title': 'Derived from /eodata/Sentinel-2/MSI/L2A/2023/04/06/S2A_MSIL2A_20230406T102021_N0509_R065_T32TPS_20230406T194357.SAFE',\n",
       "   'type': 'application/json'},\n",
       "  {'href': '/eodata/Sentinel-2/MSI/L2A/2023/04/08/S2B_MSIL2A_20230408T100559_N0509_R022_T32TPS_20230408T131134.SAFE',\n",
       "   'rel': 'derived_from',\n",
       "   'title': 'Derived from /eodata/Sentinel-2/MSI/L2A/2023/04/08/S2B_MSIL2A_20230408T100559_N0509_R022_T32TPS_20230408T131134.SAFE',\n",
       "   'type': 'application/json'},\n",
       "  {'href': '/eodata/Sentinel-2/MSI/L2A/2023/04/11/S2B_MSIL2A_20230411T101559_N0509_R065_T32TPS_20230411T131019.SAFE',\n",
       "   'rel': 'derived_from',\n",
       "   'title': 'Derived from /eodata/Sentinel-2/MSI/L2A/2023/04/11/S2B_MSIL2A_20230411T101559_N0509_R065_T32TPS_20230411T131019.SAFE',\n",
       "   'type': 'application/json'},\n",
       "  {'href': '/eodata/Sentinel-2/MSI/L2A/2023/04/13/S2A_MSIL2A_20230413T100551_N0509_R022_T32TPS_20230413T161903.SAFE',\n",
       "   'rel': 'derived_from',\n",
       "   'title': 'Derived from /eodata/Sentinel-2/MSI/L2A/2023/04/13/S2A_MSIL2A_20230413T100551_N0509_R022_T32TPS_20230413T161903.SAFE',\n",
       "   'type': 'application/json'},\n",
       "  {'href': '/eodata/Sentinel-2/MSI/L2A/2023/04/16/S2A_MSIL2A_20230416T101601_N0509_R065_T32TPS_20230416T162901.SAFE',\n",
       "   'rel': 'derived_from',\n",
       "   'title': 'Derived from /eodata/Sentinel-2/MSI/L2A/2023/04/16/S2A_MSIL2A_20230416T101601_N0509_R065_T32TPS_20230416T162901.SAFE',\n",
       "   'type': 'application/json'},\n",
       "  {'href': '/eodata/Sentinel-2/MSI/L2A/2023/04/18/S2B_MSIL2A_20230418T100559_N0509_R022_T32TPS_20230418T131202.SAFE',\n",
       "   'rel': 'derived_from',\n",
       "   'title': 'Derived from /eodata/Sentinel-2/MSI/L2A/2023/04/18/S2B_MSIL2A_20230418T100559_N0509_R022_T32TPS_20230418T131202.SAFE',\n",
       "   'type': 'application/json'},\n",
       "  {'href': '/eodata/Sentinel-2/MSI/L2A/2023/04/21/S2B_MSIL2A_20230421T101559_N0509_R065_T32TPS_20230421T131333.SAFE',\n",
       "   'rel': 'derived_from',\n",
       "   'title': 'Derived from /eodata/Sentinel-2/MSI/L2A/2023/04/21/S2B_MSIL2A_20230421T101559_N0509_R065_T32TPS_20230421T131333.SAFE',\n",
       "   'type': 'application/json'},\n",
       "  {'href': '/eodata/Sentinel-2/MSI/L2A/2023/04/23/S2A_MSIL2A_20230423T100551_N0509_R022_T32TPS_20230423T162900.SAFE',\n",
       "   'rel': 'derived_from',\n",
       "   'title': 'Derived from /eodata/Sentinel-2/MSI/L2A/2023/04/23/S2A_MSIL2A_20230423T100551_N0509_R022_T32TPS_20230423T162900.SAFE',\n",
       "   'type': 'application/json'},\n",
       "  {'href': '/eodata/Sentinel-2/MSI/L2A/2023/04/26/S2A_MSIL2A_20230426T101601_N0509_R065_T32TPS_20230426T162055.SAFE',\n",
       "   'rel': 'derived_from',\n",
       "   'title': 'Derived from /eodata/Sentinel-2/MSI/L2A/2023/04/26/S2A_MSIL2A_20230426T101601_N0509_R065_T32TPS_20230426T162055.SAFE',\n",
       "   'type': 'application/json'},\n",
       "  {'href': '/eodata/Sentinel-2/MSI/L2A/2023/04/28/S2B_MSIL2A_20230428T100559_N0509_R022_T32TPS_20230428T133214.SAFE',\n",
       "   'rel': 'derived_from',\n",
       "   'title': 'Derived from /eodata/Sentinel-2/MSI/L2A/2023/04/28/S2B_MSIL2A_20230428T100559_N0509_R022_T32TPS_20230428T133214.SAFE',\n",
       "   'type': 'application/json'},\n",
       "  {'href': '/eodata/Sentinel-2/MSI/L2A/2023/05/01/S2B_MSIL2A_20230501T101559_N0509_R065_T32TPS_20230501T132325.SAFE',\n",
       "   'rel': 'derived_from',\n",
       "   'title': 'Derived from /eodata/Sentinel-2/MSI/L2A/2023/05/01/S2B_MSIL2A_20230501T101559_N0509_R065_T32TPS_20230501T132325.SAFE',\n",
       "   'type': 'application/json'},\n",
       "  {'href': '/eodata/Sentinel-2/MSI/L2A/2023/05/03/S2A_MSIL2A_20230503T101021_N0509_R022_T32TPS_20230503T180406.SAFE',\n",
       "   'rel': 'derived_from',\n",
       "   'title': 'Derived from /eodata/Sentinel-2/MSI/L2A/2023/05/03/S2A_MSIL2A_20230503T101021_N0509_R022_T32TPS_20230503T180406.SAFE',\n",
       "   'type': 'application/json'},\n",
       "  {'href': '/eodata/Sentinel-2/MSI/L2A/2023/05/06/S2A_MSIL2A_20230506T101601_N0509_R065_T32TPS_20230506T162659.SAFE',\n",
       "   'rel': 'derived_from',\n",
       "   'title': 'Derived from /eodata/Sentinel-2/MSI/L2A/2023/05/06/S2A_MSIL2A_20230506T101601_N0509_R065_T32TPS_20230506T162659.SAFE',\n",
       "   'type': 'application/json'},\n",
       "  {'href': '/eodata/Sentinel-2/MSI/L2A/2023/05/08/S2B_MSIL2A_20230508T100559_N0509_R022_T32TPS_20230508T131238.SAFE',\n",
       "   'rel': 'derived_from',\n",
       "   'title': 'Derived from /eodata/Sentinel-2/MSI/L2A/2023/05/08/S2B_MSIL2A_20230508T100559_N0509_R022_T32TPS_20230508T131238.SAFE',\n",
       "   'type': 'application/json'},\n",
       "  {'href': '/eodata/Sentinel-2/MSI/L2A/2023/05/11/S2B_MSIL2A_20230511T101559_N0509_R065_T32TPS_20230511T163715.SAFE',\n",
       "   'rel': 'derived_from',\n",
       "   'title': 'Derived from /eodata/Sentinel-2/MSI/L2A/2023/05/11/S2B_MSIL2A_20230511T101559_N0509_R065_T32TPS_20230511T163715.SAFE',\n",
       "   'type': 'application/json'},\n",
       "  {'href': '/eodata/Sentinel-2/MSI/L2A/2023/05/13/S2A_MSIL2A_20230513T100551_N0509_R022_T32TPS_20230513T161552.SAFE',\n",
       "   'rel': 'derived_from',\n",
       "   'title': 'Derived from /eodata/Sentinel-2/MSI/L2A/2023/05/13/S2A_MSIL2A_20230513T100551_N0509_R022_T32TPS_20230513T161552.SAFE',\n",
       "   'type': 'application/json'},\n",
       "  {'href': '/eodata/Sentinel-2/MSI/L2A/2023/05/16/S2A_MSIL2A_20230516T101601_N0509_R065_T32TPS_20230516T181153.SAFE',\n",
       "   'rel': 'derived_from',\n",
       "   'title': 'Derived from /eodata/Sentinel-2/MSI/L2A/2023/05/16/S2A_MSIL2A_20230516T101601_N0509_R065_T32TPS_20230516T181153.SAFE',\n",
       "   'type': 'application/json'},\n",
       "  {'href': '/eodata/Sentinel-2/MSI/L2A/2023/05/18/S2B_MSIL2A_20230518T100559_N0509_R022_T32TPS_20230518T144255.SAFE',\n",
       "   'rel': 'derived_from',\n",
       "   'title': 'Derived from /eodata/Sentinel-2/MSI/L2A/2023/05/18/S2B_MSIL2A_20230518T100559_N0509_R022_T32TPS_20230518T144255.SAFE',\n",
       "   'type': 'application/json'},\n",
       "  {'href': '/eodata/Sentinel-2/MSI/L2A/2023/05/21/S2B_MSIL2A_20230521T101609_N0509_R065_T32TPS_20230521T131745.SAFE',\n",
       "   'rel': 'derived_from',\n",
       "   'title': 'Derived from /eodata/Sentinel-2/MSI/L2A/2023/05/21/S2B_MSIL2A_20230521T101609_N0509_R065_T32TPS_20230521T131745.SAFE',\n",
       "   'type': 'application/json'},\n",
       "  {'href': '/eodata/Sentinel-2/MSI/L2A/2023/05/23/S2A_MSIL2A_20230523T100601_N0509_R022_T32TPS_20230523T161057.SAFE',\n",
       "   'rel': 'derived_from',\n",
       "   'title': 'Derived from /eodata/Sentinel-2/MSI/L2A/2023/05/23/S2A_MSIL2A_20230523T100601_N0509_R022_T32TPS_20230523T161057.SAFE',\n",
       "   'type': 'application/json'},\n",
       "  {'href': '/eodata/Sentinel-2/MSI/L2A/2023/05/26/S2A_MSIL2A_20230526T101601_N0509_R065_T32TPS_20230526T162854.SAFE',\n",
       "   'rel': 'derived_from',\n",
       "   'title': 'Derived from /eodata/Sentinel-2/MSI/L2A/2023/05/26/S2A_MSIL2A_20230526T101601_N0509_R065_T32TPS_20230526T162854.SAFE',\n",
       "   'type': 'application/json'},\n",
       "  {'href': '/eodata/Sentinel-2/MSI/L2A/2023/05/28/S2B_MSIL2A_20230528T100559_N0509_R022_T32TPS_20230528T131159.SAFE',\n",
       "   'rel': 'derived_from',\n",
       "   'title': 'Derived from /eodata/Sentinel-2/MSI/L2A/2023/05/28/S2B_MSIL2A_20230528T100559_N0509_R022_T32TPS_20230528T131159.SAFE',\n",
       "   'type': 'application/json'},\n",
       "  {'href': '/eodata/Sentinel-2/MSI/L2A/2023/05/31/S2B_MSIL2A_20230531T101559_N0509_R065_T32TPS_20230531T131936.SAFE',\n",
       "   'rel': 'derived_from',\n",
       "   'title': 'Derived from /eodata/Sentinel-2/MSI/L2A/2023/05/31/S2B_MSIL2A_20230531T101559_N0509_R065_T32TPS_20230531T131936.SAFE',\n",
       "   'type': 'application/json'},\n",
       "  {'href': 'https://openeo.dataspace.copernicus.eu/openeo/1.2/jobs/j-2401318f19a84122b62657ed798f0c9e/results',\n",
       "   'rel': 'self',\n",
       "   'type': 'application/json'},\n",
       "  {'href': 'https://openeo.dataspace.copernicus.eu/openeo/1.2/jobs/j-2401318f19a84122b62657ed798f0c9e/results/MDYxODNjYmMtODRjOC00YzZhLThhN2QtY2IxOGJhMDhjYzhj/e967c4ba33e20f0757876cf974ef7eb7?expires=1707311403',\n",
       "   'rel': 'canonical',\n",
       "   'type': 'application/json'},\n",
       "  {'href': 'http://ceos.org/ard/files/PFS/SR/v5.0/CARD4L_Product_Family_Specification_Surface_Reflectance-v5.0.pdf',\n",
       "   'rel': 'card4l-document',\n",
       "   'type': 'application/pdf'},\n",
       "  {'href': 'https://openeo.dataspace.copernicus.eu/openeo/1.2/jobs/j-2401318f19a84122b62657ed798f0c9e/results/items/MDYxODNjYmMtODRjOC00YzZhLThhN2QtY2IxOGJhMDhjYzhj/ed41e358ad1fe308f681e33015b06869/openEO.tif?expires=1707311403',\n",
       "   'rel': 'item',\n",
       "   'type': 'application/geo+json'}],\n",
       " 'openeo:status': 'finished',\n",
       " 'providers': [{'description': 'This data was processed on an openEO backend maintained by VITO.',\n",
       "   'name': 'VITO',\n",
       "   'processing:expression': [{'expression': {'loadcollection1': {'arguments': {'bands': ['B03',\n",
       "         'B11',\n",
       "         'SCL'],\n",
       "        'id': 'SENTINEL2_L2A',\n",
       "        'spatial_extent': {'crs': 4326,\n",
       "         'east': 11.479180216059186,\n",
       "         'north': 46.64670948599201,\n",
       "         'south': 46.62835651400798,\n",
       "         'west': 11.461193783940812},\n",
       "        'temporal_extent': ['2023-02-01', '2023-06-01']},\n",
       "       'process_id': 'load_collection'},\n",
       "      'mask1': {'arguments': {'data': {'from_node': 'reducedimension1'},\n",
       "        'mask': {'from_node': 'reducedimension2'},\n",
       "        'replacement': 2},\n",
       "       'process_id': 'mask'},\n",
       "      'reducedimension1': {'arguments': {'data': {'from_node': 'loadcollection1'},\n",
       "        'dimension': 'bands',\n",
       "        'reducer': {'process_graph': {'add1': {'arguments': {'x': {'from_node': 'arrayelement1'},\n",
       "            'y': {'from_node': 'arrayelement2'}},\n",
       "           'process_id': 'add'},\n",
       "          'arrayelement1': {'arguments': {'data': {'from_parameter': 'data'},\n",
       "            'index': 0},\n",
       "           'process_id': 'array_element'},\n",
       "          'arrayelement2': {'arguments': {'data': {'from_parameter': 'data'},\n",
       "            'index': 1},\n",
       "           'process_id': 'array_element'},\n",
       "          'divide1': {'arguments': {'x': {'from_node': 'subtract1'},\n",
       "            'y': {'from_node': 'add1'}},\n",
       "           'process_id': 'divide'},\n",
       "          'gt1': {'arguments': {'x': {'from_node': 'divide1'}, 'y': 0.4},\n",
       "           'process_id': 'gt'},\n",
       "          'multiply1': {'arguments': {'x': {'from_node': 'gt1'}, 'y': 1.0},\n",
       "           'process_id': 'multiply',\n",
       "           'result': True},\n",
       "          'subtract1': {'arguments': {'x': {'from_node': 'arrayelement1'},\n",
       "            'y': {'from_node': 'arrayelement2'}},\n",
       "           'process_id': 'subtract'}}}},\n",
       "       'process_id': 'reduce_dimension'},\n",
       "      'reducedimension2': {'arguments': {'data': {'from_node': 'loadcollection1'},\n",
       "        'dimension': 'bands',\n",
       "        'reducer': {'process_graph': {'arrayelement3': {'arguments': {'data': {'from_parameter': 'data'},\n",
       "            'index': 2},\n",
       "           'process_id': 'array_element'},\n",
       "          'eq1': {'arguments': {'x': {'from_node': 'arrayelement3'}, 'y': 8},\n",
       "           'process_id': 'eq'},\n",
       "          'eq2': {'arguments': {'x': {'from_node': 'arrayelement3'}, 'y': 9},\n",
       "           'process_id': 'eq'},\n",
       "          'eq3': {'arguments': {'x': {'from_node': 'arrayelement3'}, 'y': 3},\n",
       "           'process_id': 'eq'},\n",
       "          'multiply2': {'arguments': {'x': {'from_node': 'or2'}, 'y': 1.0},\n",
       "           'process_id': 'multiply',\n",
       "           'result': True},\n",
       "          'or1': {'arguments': {'x': {'from_node': 'eq1'},\n",
       "            'y': {'from_node': 'eq2'}},\n",
       "           'process_id': 'or'},\n",
       "          'or2': {'arguments': {'x': {'from_node': 'or1'},\n",
       "            'y': {'from_node': 'eq3'}},\n",
       "           'process_id': 'or'}}}},\n",
       "       'process_id': 'reduce_dimension'},\n",
       "      'reducedimension3': {'arguments': {'data': {'from_node': 'mask1'},\n",
       "        'dimension': 't',\n",
       "        'reducer': {'process_graph': {'median1': {'arguments': {'data': {'from_parameter': 'data'}},\n",
       "           'process_id': 'median',\n",
       "           'result': True}}}},\n",
       "       'process_id': 'reduce_dimension'},\n",
       "      'saveresult1': {'arguments': {'data': {'from_node': 'reducedimension3'},\n",
       "        'format': 'GTiff',\n",
       "        'options': {}},\n",
       "       'process_id': 'save_result',\n",
       "       'result': True}},\n",
       "     'format': 'openeo'}],\n",
       "   'processing:facility': 'openEO Geotrellis backend',\n",
       "   'processing:software': {'Geotrellis backend': '0.24.0a1'},\n",
       "   'roles': ['processor']}],\n",
       " 'stac_extensions': ['https://stac-extensions.github.io/eo/v1.1.0/schema.json',\n",
       "  'https://stac-extensions.github.io/file/v2.1.0/schema.json',\n",
       "  'https://stac-extensions.github.io/processing/v1.1.0/schema.json',\n",
       "  'https://stac-extensions.github.io/projection/v1.1.0/schema.json'],\n",
       " 'stac_version': '1.0.0',\n",
       " 'summaries': {'instruments': []},\n",
       " 'title': 'snowmap_cog',\n",
       " 'type': 'Collection'}"
      ]
     },
     "execution_count": 22,
     "metadata": {},
     "output_type": "execute_result"
    }
   ],
   "source": [
    "stac_collection = results.get_metadata()\n",
    "stac_collection"
   ]
  },
  {
   "cell_type": "markdown",
   "id": "284412ab-7feb-45b3-8964-16416debcb4e",
   "metadata": {},
   "source": [
    "### Adding Author of the data\n",
    "\n",
    "Add your information to become visible as author of the data -  description of each field can be found here: https://github.com/radiantearth/stac-spec/blob/master/item-spec/common-metadata.md#provider-object\n",
    "\n",
    "Please note that leaving the field empty will lead to failed validation of STAC item"
   ]
  },
  {
   "cell_type": "markdown",
   "id": "4c19d94d-0beb-4ba9-b98b-a91939c22ee0",
   "metadata": {},
   "source": [
    "**Attention:** Enter your full name and a short description of the snowmap you generated e.g. `name = \"Jane Doe\"` and `description = \"snow map of Merano\"`"
   ]
  },
  {
   "cell_type": "code",
   "execution_count": 25,
   "id": "18559584-a4a0-41f5-846b-9decf42d6456",
   "metadata": {
    "tags": []
   },
   "outputs": [],
   "source": [
    "name = \"\"\n",
    "description = \"\""
   ]
  },
  {
   "cell_type": "code",
   "execution_count": 26,
   "id": "058f0dcd-74e0-4a38-88be-8e77ea1d0f2b",
   "metadata": {
    "tags": []
   },
   "outputs": [],
   "source": [
    "author = [{\n",
    "    \"name\": name,\n",
    "    \"description\": description,\n",
    "    \"roles\": [\"processor\"],\n",
    "}]\n",
    "\n",
    "providers = stac_collection[\"providers\"] + author\n",
    "\n",
    "author_id = [nam[:2] for nam in author[0][\"name\"].split(\" \")]\n",
    "\n",
    "# generate timestamp\n",
    "ts = datetime.now().isoformat()\n",
    "ts = ts.split(\"T\")[0]"
   ]
  },
  {
   "cell_type": "markdown",
   "id": "8a23469d-76aa-493f-abf5-d752ebcf8bfe",
   "metadata": {},
   "source": [
    "Extract bbox information and temporal extent from the STAC collection that was delivered with the result from OpenEO. We are reusing it to create our STAC item. We have prepared these function for you `extract_metadata_geometry` and `extract_metadata_time`"
   ]
  },
  {
   "cell_type": "code",
   "execution_count": 27,
   "id": "d82b0467-fd21-44f7-b0db-64cca0606ef7",
   "metadata": {
    "tags": []
   },
   "outputs": [],
   "source": [
    "geometry = extract_metadata_geometry(stac_collection)[1]"
   ]
  },
  {
   "cell_type": "code",
   "execution_count": 28,
   "id": "30787523-02a1-4f2b-a903-3a8faddfe2a1",
   "metadata": {
    "tags": []
   },
   "outputs": [],
   "source": [
    "start_time, end_time = extract_metadata_time(stac_collection)"
   ]
  },
  {
   "cell_type": "markdown",
   "id": "c9cf787e-75f2-461f-85de-a378c4234105",
   "metadata": {},
   "source": [
    "Since we calculated the statistics and renamed the file, we have to add this new file name to the STAC item."
   ]
  },
  {
   "cell_type": "code",
   "execution_count": 29,
   "id": "dcecb79c-8d2a-40ef-b2c5-4a350de9a8e9",
   "metadata": {
    "tags": []
   },
   "outputs": [],
   "source": [
    "filename = \"openEO_uint8.tif\""
   ]
  },
  {
   "cell_type": "markdown",
   "id": "11d8875f-cf18-4749-ac6b-65dcf41cff2b",
   "metadata": {},
   "source": [
    "Let's create the actual STAC item describing your data! As talked about in previous lessons, STAC item has various required fields which need to be present and filled correctly. For the field ID we assign the fixed name snowcover and the initials of your name. That will be visible on the STAC browser once you have submitted the result!"
   ]
  },
  {
   "cell_type": "code",
   "execution_count": 38,
   "id": "16ae70a4-866c-4b61-8e5b-38e381722643",
   "metadata": {
    "tags": []
   },
   "outputs": [],
   "source": [
    "stac_item = {\n",
    "    \"type\": \"Feature\", \n",
    "    \"stac_version\": stac_collection[\"stac_version\"],\n",
    "    \"stac_extensions\": [],\n",
    "    \"id\": \"snowcover_\" + \"\".join(author_id).lower()+ \"_\" + str(ts),\n",
    "    \"geometry\": geometry,\n",
    "    \"bbox\": bbox,\n",
    "    \"properties\": {\n",
    "       \"datetime\": None, \n",
    "        \"start_datetime\": start_time,\n",
    "        \"end_datetime\": end_time,\n",
    "        \"providers\" : providers\n",
    "                 },\n",
    "    \n",
    "    \"links\": stac_collection[\"links\"],\n",
    "    \"assets\": {\"visual\": {\n",
    "      \"href\": filename,\n",
    "      \"type\": \"image/tiff; application=geotiff; profile=cloud-optimized\",\n",
    "      \"title\": \"Snow coverage\",\n",
    "      \"roles\": [\n",
    "        \"data\"\n",
    "              ]\n",
    "            }\n",
    "        },\n",
    "}"
   ]
  },
  {
   "cell_type": "code",
   "execution_count": 39,
   "id": "8c00cfa0-571e-4518-8906-7983170246e8",
   "metadata": {
    "tags": []
   },
   "outputs": [
    {
     "data": {
      "text/plain": [
       "{'type': 'Feature',\n",
       " 'stac_version': '1.0.0',\n",
       " 'stac_extensions': [],\n",
       " 'id': 'snowcover_ruomba_2024-01-31',\n",
       " 'geometry': {'type': 'Polygon',\n",
       "  'coordinates': [[[11.461193783940812, 46.62835651400798],\n",
       "    [11.479180216059186, 46.62835651400798],\n",
       "    [11.479180216059186, 46.64670948599201],\n",
       "    [11.461193783940812, 46.64670948599201],\n",
       "    [11.461193783940812, 46.62835651400798]]]},\n",
       " 'bbox': (11.461193783940812,\n",
       "  46.62835651400798,\n",
       "  11.479180216059186,\n",
       "  46.64670948599201),\n",
       " 'properties': {'datetime': None,\n",
       "  'start_datetime': '2023-02-01T00:00:00Z',\n",
       "  'end_datetime': '2023-06-01T00:00:00Z',\n",
       "  'providers': [{'description': 'This data was processed on an openEO backend maintained by VITO.',\n",
       "    'name': 'VITO',\n",
       "    'processing:expression': [{'expression': {'loadcollection1': {'arguments': {'bands': ['B03',\n",
       "          'B11',\n",
       "          'SCL'],\n",
       "         'id': 'SENTINEL2_L2A',\n",
       "         'spatial_extent': {'crs': 4326,\n",
       "          'east': 11.479180216059186,\n",
       "          'north': 46.64670948599201,\n",
       "          'south': 46.62835651400798,\n",
       "          'west': 11.461193783940812},\n",
       "         'temporal_extent': ['2023-02-01', '2023-06-01']},\n",
       "        'process_id': 'load_collection'},\n",
       "       'mask1': {'arguments': {'data': {'from_node': 'reducedimension1'},\n",
       "         'mask': {'from_node': 'reducedimension2'},\n",
       "         'replacement': 2},\n",
       "        'process_id': 'mask'},\n",
       "       'reducedimension1': {'arguments': {'data': {'from_node': 'loadcollection1'},\n",
       "         'dimension': 'bands',\n",
       "         'reducer': {'process_graph': {'add1': {'arguments': {'x': {'from_node': 'arrayelement1'},\n",
       "             'y': {'from_node': 'arrayelement2'}},\n",
       "            'process_id': 'add'},\n",
       "           'arrayelement1': {'arguments': {'data': {'from_parameter': 'data'},\n",
       "             'index': 0},\n",
       "            'process_id': 'array_element'},\n",
       "           'arrayelement2': {'arguments': {'data': {'from_parameter': 'data'},\n",
       "             'index': 1},\n",
       "            'process_id': 'array_element'},\n",
       "           'divide1': {'arguments': {'x': {'from_node': 'subtract1'},\n",
       "             'y': {'from_node': 'add1'}},\n",
       "            'process_id': 'divide'},\n",
       "           'gt1': {'arguments': {'x': {'from_node': 'divide1'}, 'y': 0.4},\n",
       "            'process_id': 'gt'},\n",
       "           'multiply1': {'arguments': {'x': {'from_node': 'gt1'}, 'y': 1.0},\n",
       "            'process_id': 'multiply',\n",
       "            'result': True},\n",
       "           'subtract1': {'arguments': {'x': {'from_node': 'arrayelement1'},\n",
       "             'y': {'from_node': 'arrayelement2'}},\n",
       "            'process_id': 'subtract'}}}},\n",
       "        'process_id': 'reduce_dimension'},\n",
       "       'reducedimension2': {'arguments': {'data': {'from_node': 'loadcollection1'},\n",
       "         'dimension': 'bands',\n",
       "         'reducer': {'process_graph': {'arrayelement3': {'arguments': {'data': {'from_parameter': 'data'},\n",
       "             'index': 2},\n",
       "            'process_id': 'array_element'},\n",
       "           'eq1': {'arguments': {'x': {'from_node': 'arrayelement3'}, 'y': 8},\n",
       "            'process_id': 'eq'},\n",
       "           'eq2': {'arguments': {'x': {'from_node': 'arrayelement3'}, 'y': 9},\n",
       "            'process_id': 'eq'},\n",
       "           'eq3': {'arguments': {'x': {'from_node': 'arrayelement3'}, 'y': 3},\n",
       "            'process_id': 'eq'},\n",
       "           'multiply2': {'arguments': {'x': {'from_node': 'or2'}, 'y': 1.0},\n",
       "            'process_id': 'multiply',\n",
       "            'result': True},\n",
       "           'or1': {'arguments': {'x': {'from_node': 'eq1'},\n",
       "             'y': {'from_node': 'eq2'}},\n",
       "            'process_id': 'or'},\n",
       "           'or2': {'arguments': {'x': {'from_node': 'or1'},\n",
       "             'y': {'from_node': 'eq3'}},\n",
       "            'process_id': 'or'}}}},\n",
       "        'process_id': 'reduce_dimension'},\n",
       "       'reducedimension3': {'arguments': {'data': {'from_node': 'mask1'},\n",
       "         'dimension': 't',\n",
       "         'reducer': {'process_graph': {'median1': {'arguments': {'data': {'from_parameter': 'data'}},\n",
       "            'process_id': 'median',\n",
       "            'result': True}}}},\n",
       "        'process_id': 'reduce_dimension'},\n",
       "       'saveresult1': {'arguments': {'data': {'from_node': 'reducedimension3'},\n",
       "         'format': 'GTiff',\n",
       "         'options': {}},\n",
       "        'process_id': 'save_result',\n",
       "        'result': True}},\n",
       "      'format': 'openeo'}],\n",
       "    'processing:facility': 'openEO Geotrellis backend',\n",
       "    'processing:software': {'Geotrellis backend': '0.24.0a1'},\n",
       "    'roles': ['processor']},\n",
       "   {'name': 'Rufai Omowunmi Balogun',\n",
       "    'description': 'snow map of merano',\n",
       "    'roles': ['processor']}]},\n",
       " 'links': [{'href': '/eodata/Sentinel-2/MSI/L2A/2023/02/02/S2A_MSIL2A_20230202T101231_N0509_R022_T32TPS_20230202T142000.SAFE',\n",
       "   'rel': 'derived_from',\n",
       "   'title': 'Derived from /eodata/Sentinel-2/MSI/L2A/2023/02/02/S2A_MSIL2A_20230202T101231_N0509_R022_T32TPS_20230202T142000.SAFE',\n",
       "   'type': 'application/json'},\n",
       "  {'href': '/eodata/Sentinel-2/MSI/L2A/2023/02/05/S2A_MSIL2A_20230205T102221_N0509_R065_T32TPS_20230205T135958.SAFE',\n",
       "   'rel': 'derived_from',\n",
       "   'title': 'Derived from /eodata/Sentinel-2/MSI/L2A/2023/02/05/S2A_MSIL2A_20230205T102221_N0509_R065_T32TPS_20230205T135958.SAFE',\n",
       "   'type': 'application/json'},\n",
       "  {'href': '/eodata/Sentinel-2/MSI/L2A/2023/02/07/S2B_MSIL2A_20230207T101109_N0509_R022_T32TPS_20230207T124736.SAFE',\n",
       "   'rel': 'derived_from',\n",
       "   'title': 'Derived from /eodata/Sentinel-2/MSI/L2A/2023/02/07/S2B_MSIL2A_20230207T101109_N0509_R022_T32TPS_20230207T124736.SAFE',\n",
       "   'type': 'application/json'},\n",
       "  {'href': '/eodata/Sentinel-2/MSI/L2A/2023/02/10/S2B_MSIL2A_20230210T102049_N0509_R065_T32TPS_20230210T125716.SAFE',\n",
       "   'rel': 'derived_from',\n",
       "   'title': 'Derived from /eodata/Sentinel-2/MSI/L2A/2023/02/10/S2B_MSIL2A_20230210T102049_N0509_R065_T32TPS_20230210T125716.SAFE',\n",
       "   'type': 'application/json'},\n",
       "  {'href': '/eodata/Sentinel-2/MSI/L2A/2023/02/12/S2A_MSIL2A_20230212T101131_N0509_R022_T32TPS_20230212T142159.SAFE',\n",
       "   'rel': 'derived_from',\n",
       "   'title': 'Derived from /eodata/Sentinel-2/MSI/L2A/2023/02/12/S2A_MSIL2A_20230212T101131_N0509_R022_T32TPS_20230212T142159.SAFE',\n",
       "   'type': 'application/json'},\n",
       "  {'href': '/eodata/Sentinel-2/MSI/L2A/2023/02/15/S2A_MSIL2A_20230215T102121_N0509_R065_T32TPS_20230215T141008.SAFE',\n",
       "   'rel': 'derived_from',\n",
       "   'title': 'Derived from /eodata/Sentinel-2/MSI/L2A/2023/02/15/S2A_MSIL2A_20230215T102121_N0509_R065_T32TPS_20230215T141008.SAFE',\n",
       "   'type': 'application/json'},\n",
       "  {'href': '/eodata/Sentinel-2/MSI/L2A/2023/02/17/S2B_MSIL2A_20230217T101029_N0509_R022_T32TPS_20230217T125054.SAFE',\n",
       "   'rel': 'derived_from',\n",
       "   'title': 'Derived from /eodata/Sentinel-2/MSI/L2A/2023/02/17/S2B_MSIL2A_20230217T101029_N0509_R022_T32TPS_20230217T125054.SAFE',\n",
       "   'type': 'application/json'},\n",
       "  {'href': '/eodata/Sentinel-2/MSI/L2A/2023/02/20/S2B_MSIL2A_20230220T101949_N0509_R065_T32TPS_20230220T145403.SAFE',\n",
       "   'rel': 'derived_from',\n",
       "   'title': 'Derived from /eodata/Sentinel-2/MSI/L2A/2023/02/20/S2B_MSIL2A_20230220T101949_N0509_R065_T32TPS_20230220T145403.SAFE',\n",
       "   'type': 'application/json'},\n",
       "  {'href': '/eodata/Sentinel-2/MSI/L2A/2023/02/22/S2A_MSIL2A_20230222T101031_N0509_R022_T32TPS_20230222T141055.SAFE',\n",
       "   'rel': 'derived_from',\n",
       "   'title': 'Derived from /eodata/Sentinel-2/MSI/L2A/2023/02/22/S2A_MSIL2A_20230222T101031_N0509_R022_T32TPS_20230222T141055.SAFE',\n",
       "   'type': 'application/json'},\n",
       "  {'href': '/eodata/Sentinel-2/MSI/L2A/2023/02/25/S2A_MSIL2A_20230225T102021_N0509_R065_T32TPS_20230225T163245.SAFE',\n",
       "   'rel': 'derived_from',\n",
       "   'title': 'Derived from /eodata/Sentinel-2/MSI/L2A/2023/02/25/S2A_MSIL2A_20230225T102021_N0509_R065_T32TPS_20230225T163245.SAFE',\n",
       "   'type': 'application/json'},\n",
       "  {'href': '/eodata/Sentinel-2/MSI/L2A/2023/02/27/S2B_MSIL2A_20230227T101029_N0509_R022_T32TPS_20230227T124853.SAFE',\n",
       "   'rel': 'derived_from',\n",
       "   'title': 'Derived from /eodata/Sentinel-2/MSI/L2A/2023/02/27/S2B_MSIL2A_20230227T101029_N0509_R022_T32TPS_20230227T124853.SAFE',\n",
       "   'type': 'application/json'},\n",
       "  {'href': '/eodata/Sentinel-2/MSI/L2A/2023/03/02/S2B_MSIL2A_20230302T101839_N0509_R065_T32TPS_20230302T165059.SAFE',\n",
       "   'rel': 'derived_from',\n",
       "   'title': 'Derived from /eodata/Sentinel-2/MSI/L2A/2023/03/02/S2B_MSIL2A_20230302T101839_N0509_R065_T32TPS_20230302T165059.SAFE',\n",
       "   'type': 'application/json'},\n",
       "  {'href': '/eodata/Sentinel-2/MSI/L2A/2023/03/04/S2A_MSIL2A_20230304T101021_N0509_R022_T32TPS_20230907T154000.SAFE',\n",
       "   'rel': 'derived_from',\n",
       "   'title': 'Derived from /eodata/Sentinel-2/MSI/L2A/2023/03/04/S2A_MSIL2A_20230304T101021_N0509_R022_T32TPS_20230907T154000.SAFE',\n",
       "   'type': 'application/json'},\n",
       "  {'href': '/eodata/Sentinel-2/MSI/L2A/2023/03/07/S2A_MSIL2A_20230307T101901_N0509_R065_T32TPS_20230307T162402.SAFE',\n",
       "   'rel': 'derived_from',\n",
       "   'title': 'Derived from /eodata/Sentinel-2/MSI/L2A/2023/03/07/S2A_MSIL2A_20230307T101901_N0509_R065_T32TPS_20230307T162402.SAFE',\n",
       "   'type': 'application/json'},\n",
       "  {'href': '/eodata/Sentinel-2/MSI/L2A/2023/03/09/S2B_MSIL2A_20230309T100749_N0509_R022_T32TPS_20230309T162710.SAFE',\n",
       "   'rel': 'derived_from',\n",
       "   'title': 'Derived from /eodata/Sentinel-2/MSI/L2A/2023/03/09/S2B_MSIL2A_20230309T100749_N0509_R022_T32TPS_20230309T162710.SAFE',\n",
       "   'type': 'application/json'},\n",
       "  {'href': '/eodata/Sentinel-2/MSI/L2A/2023/03/12/S2B_MSIL2A_20230312T101729_N0509_R065_T32TPS_20230312T163807.SAFE',\n",
       "   'rel': 'derived_from',\n",
       "   'title': 'Derived from /eodata/Sentinel-2/MSI/L2A/2023/03/12/S2B_MSIL2A_20230312T101729_N0509_R065_T32TPS_20230312T163807.SAFE',\n",
       "   'type': 'application/json'},\n",
       "  {'href': '/eodata/Sentinel-2/MSI/L2A/2023/03/14/S2A_MSIL2A_20230314T101021_N0509_R022_T32TPS_20230314T161800.SAFE',\n",
       "   'rel': 'derived_from',\n",
       "   'title': 'Derived from /eodata/Sentinel-2/MSI/L2A/2023/03/14/S2A_MSIL2A_20230314T101021_N0509_R022_T32TPS_20230314T161800.SAFE',\n",
       "   'type': 'application/json'},\n",
       "  {'href': '/eodata/Sentinel-2/MSI/L2A/2023/03/17/S2A_MSIL2A_20230317T101741_N0509_R065_T32TPS_20230317T162557.SAFE',\n",
       "   'rel': 'derived_from',\n",
       "   'title': 'Derived from /eodata/Sentinel-2/MSI/L2A/2023/03/17/S2A_MSIL2A_20230317T101741_N0509_R065_T32TPS_20230317T162557.SAFE',\n",
       "   'type': 'application/json'},\n",
       "  {'href': '/eodata/Sentinel-2/MSI/L2A/2023/03/19/S2B_MSIL2A_20230319T100649_N0509_R022_T32TPS_20230319T130804.SAFE',\n",
       "   'rel': 'derived_from',\n",
       "   'title': 'Derived from /eodata/Sentinel-2/MSI/L2A/2023/03/19/S2B_MSIL2A_20230319T100649_N0509_R022_T32TPS_20230319T130804.SAFE',\n",
       "   'type': 'application/json'},\n",
       "  {'href': '/eodata/Sentinel-2/MSI/L2A/2023/03/22/S2B_MSIL2A_20230322T101649_N0509_R065_T32TPS_20230322T145625.SAFE',\n",
       "   'rel': 'derived_from',\n",
       "   'title': 'Derived from /eodata/Sentinel-2/MSI/L2A/2023/03/22/S2B_MSIL2A_20230322T101649_N0509_R065_T32TPS_20230322T145625.SAFE',\n",
       "   'type': 'application/json'},\n",
       "  {'href': '/eodata/Sentinel-2/MSI/L2A/2023/03/24/S2A_MSIL2A_20230324T101021_N0509_R022_T32TPS_20230324T161752.SAFE',\n",
       "   'rel': 'derived_from',\n",
       "   'title': 'Derived from /eodata/Sentinel-2/MSI/L2A/2023/03/24/S2A_MSIL2A_20230324T101021_N0509_R022_T32TPS_20230324T161752.SAFE',\n",
       "   'type': 'application/json'},\n",
       "  {'href': '/eodata/Sentinel-2/MSI/L2A/2023/03/27/S2A_MSIL2A_20230327T101631_N0509_R065_T32TPS_20230327T162303.SAFE',\n",
       "   'rel': 'derived_from',\n",
       "   'title': 'Derived from /eodata/Sentinel-2/MSI/L2A/2023/03/27/S2A_MSIL2A_20230327T101631_N0509_R065_T32TPS_20230327T162303.SAFE',\n",
       "   'type': 'application/json'},\n",
       "  {'href': '/eodata/Sentinel-2/MSI/L2A/2023/03/29/S2B_MSIL2A_20230329T100629_N0509_R022_T32TPS_20230329T130657.SAFE',\n",
       "   'rel': 'derived_from',\n",
       "   'title': 'Derived from /eodata/Sentinel-2/MSI/L2A/2023/03/29/S2B_MSIL2A_20230329T100629_N0509_R022_T32TPS_20230329T130657.SAFE',\n",
       "   'type': 'application/json'},\n",
       "  {'href': '/eodata/Sentinel-2/MSI/L2A/2023/04/01/S2B_MSIL2A_20230401T101559_N0509_R065_T32TPS_20230401T145632.SAFE',\n",
       "   'rel': 'derived_from',\n",
       "   'title': 'Derived from /eodata/Sentinel-2/MSI/L2A/2023/04/01/S2B_MSIL2A_20230401T101559_N0509_R065_T32TPS_20230401T145632.SAFE',\n",
       "   'type': 'application/json'},\n",
       "  {'href': '/eodata/Sentinel-2/MSI/L2A/2023/04/03/S2A_MSIL2A_20230403T100551_N0509_R022_T32TPS_20230403T162459.SAFE',\n",
       "   'rel': 'derived_from',\n",
       "   'title': 'Derived from /eodata/Sentinel-2/MSI/L2A/2023/04/03/S2A_MSIL2A_20230403T100551_N0509_R022_T32TPS_20230403T162459.SAFE',\n",
       "   'type': 'application/json'},\n",
       "  {'href': '/eodata/Sentinel-2/MSI/L2A/2023/04/06/S2A_MSIL2A_20230406T102021_N0509_R065_T32TPS_20230406T194357.SAFE',\n",
       "   'rel': 'derived_from',\n",
       "   'title': 'Derived from /eodata/Sentinel-2/MSI/L2A/2023/04/06/S2A_MSIL2A_20230406T102021_N0509_R065_T32TPS_20230406T194357.SAFE',\n",
       "   'type': 'application/json'},\n",
       "  {'href': '/eodata/Sentinel-2/MSI/L2A/2023/04/08/S2B_MSIL2A_20230408T100559_N0509_R022_T32TPS_20230408T131134.SAFE',\n",
       "   'rel': 'derived_from',\n",
       "   'title': 'Derived from /eodata/Sentinel-2/MSI/L2A/2023/04/08/S2B_MSIL2A_20230408T100559_N0509_R022_T32TPS_20230408T131134.SAFE',\n",
       "   'type': 'application/json'},\n",
       "  {'href': '/eodata/Sentinel-2/MSI/L2A/2023/04/11/S2B_MSIL2A_20230411T101559_N0509_R065_T32TPS_20230411T131019.SAFE',\n",
       "   'rel': 'derived_from',\n",
       "   'title': 'Derived from /eodata/Sentinel-2/MSI/L2A/2023/04/11/S2B_MSIL2A_20230411T101559_N0509_R065_T32TPS_20230411T131019.SAFE',\n",
       "   'type': 'application/json'},\n",
       "  {'href': '/eodata/Sentinel-2/MSI/L2A/2023/04/13/S2A_MSIL2A_20230413T100551_N0509_R022_T32TPS_20230413T161903.SAFE',\n",
       "   'rel': 'derived_from',\n",
       "   'title': 'Derived from /eodata/Sentinel-2/MSI/L2A/2023/04/13/S2A_MSIL2A_20230413T100551_N0509_R022_T32TPS_20230413T161903.SAFE',\n",
       "   'type': 'application/json'},\n",
       "  {'href': '/eodata/Sentinel-2/MSI/L2A/2023/04/16/S2A_MSIL2A_20230416T101601_N0509_R065_T32TPS_20230416T162901.SAFE',\n",
       "   'rel': 'derived_from',\n",
       "   'title': 'Derived from /eodata/Sentinel-2/MSI/L2A/2023/04/16/S2A_MSIL2A_20230416T101601_N0509_R065_T32TPS_20230416T162901.SAFE',\n",
       "   'type': 'application/json'},\n",
       "  {'href': '/eodata/Sentinel-2/MSI/L2A/2023/04/18/S2B_MSIL2A_20230418T100559_N0509_R022_T32TPS_20230418T131202.SAFE',\n",
       "   'rel': 'derived_from',\n",
       "   'title': 'Derived from /eodata/Sentinel-2/MSI/L2A/2023/04/18/S2B_MSIL2A_20230418T100559_N0509_R022_T32TPS_20230418T131202.SAFE',\n",
       "   'type': 'application/json'},\n",
       "  {'href': '/eodata/Sentinel-2/MSI/L2A/2023/04/21/S2B_MSIL2A_20230421T101559_N0509_R065_T32TPS_20230421T131333.SAFE',\n",
       "   'rel': 'derived_from',\n",
       "   'title': 'Derived from /eodata/Sentinel-2/MSI/L2A/2023/04/21/S2B_MSIL2A_20230421T101559_N0509_R065_T32TPS_20230421T131333.SAFE',\n",
       "   'type': 'application/json'},\n",
       "  {'href': '/eodata/Sentinel-2/MSI/L2A/2023/04/23/S2A_MSIL2A_20230423T100551_N0509_R022_T32TPS_20230423T162900.SAFE',\n",
       "   'rel': 'derived_from',\n",
       "   'title': 'Derived from /eodata/Sentinel-2/MSI/L2A/2023/04/23/S2A_MSIL2A_20230423T100551_N0509_R022_T32TPS_20230423T162900.SAFE',\n",
       "   'type': 'application/json'},\n",
       "  {'href': '/eodata/Sentinel-2/MSI/L2A/2023/04/26/S2A_MSIL2A_20230426T101601_N0509_R065_T32TPS_20230426T162055.SAFE',\n",
       "   'rel': 'derived_from',\n",
       "   'title': 'Derived from /eodata/Sentinel-2/MSI/L2A/2023/04/26/S2A_MSIL2A_20230426T101601_N0509_R065_T32TPS_20230426T162055.SAFE',\n",
       "   'type': 'application/json'},\n",
       "  {'href': '/eodata/Sentinel-2/MSI/L2A/2023/04/28/S2B_MSIL2A_20230428T100559_N0509_R022_T32TPS_20230428T133214.SAFE',\n",
       "   'rel': 'derived_from',\n",
       "   'title': 'Derived from /eodata/Sentinel-2/MSI/L2A/2023/04/28/S2B_MSIL2A_20230428T100559_N0509_R022_T32TPS_20230428T133214.SAFE',\n",
       "   'type': 'application/json'},\n",
       "  {'href': '/eodata/Sentinel-2/MSI/L2A/2023/05/01/S2B_MSIL2A_20230501T101559_N0509_R065_T32TPS_20230501T132325.SAFE',\n",
       "   'rel': 'derived_from',\n",
       "   'title': 'Derived from /eodata/Sentinel-2/MSI/L2A/2023/05/01/S2B_MSIL2A_20230501T101559_N0509_R065_T32TPS_20230501T132325.SAFE',\n",
       "   'type': 'application/json'},\n",
       "  {'href': '/eodata/Sentinel-2/MSI/L2A/2023/05/03/S2A_MSIL2A_20230503T101021_N0509_R022_T32TPS_20230503T180406.SAFE',\n",
       "   'rel': 'derived_from',\n",
       "   'title': 'Derived from /eodata/Sentinel-2/MSI/L2A/2023/05/03/S2A_MSIL2A_20230503T101021_N0509_R022_T32TPS_20230503T180406.SAFE',\n",
       "   'type': 'application/json'},\n",
       "  {'href': '/eodata/Sentinel-2/MSI/L2A/2023/05/06/S2A_MSIL2A_20230506T101601_N0509_R065_T32TPS_20230506T162659.SAFE',\n",
       "   'rel': 'derived_from',\n",
       "   'title': 'Derived from /eodata/Sentinel-2/MSI/L2A/2023/05/06/S2A_MSIL2A_20230506T101601_N0509_R065_T32TPS_20230506T162659.SAFE',\n",
       "   'type': 'application/json'},\n",
       "  {'href': '/eodata/Sentinel-2/MSI/L2A/2023/05/08/S2B_MSIL2A_20230508T100559_N0509_R022_T32TPS_20230508T131238.SAFE',\n",
       "   'rel': 'derived_from',\n",
       "   'title': 'Derived from /eodata/Sentinel-2/MSI/L2A/2023/05/08/S2B_MSIL2A_20230508T100559_N0509_R022_T32TPS_20230508T131238.SAFE',\n",
       "   'type': 'application/json'},\n",
       "  {'href': '/eodata/Sentinel-2/MSI/L2A/2023/05/11/S2B_MSIL2A_20230511T101559_N0509_R065_T32TPS_20230511T163715.SAFE',\n",
       "   'rel': 'derived_from',\n",
       "   'title': 'Derived from /eodata/Sentinel-2/MSI/L2A/2023/05/11/S2B_MSIL2A_20230511T101559_N0509_R065_T32TPS_20230511T163715.SAFE',\n",
       "   'type': 'application/json'},\n",
       "  {'href': '/eodata/Sentinel-2/MSI/L2A/2023/05/13/S2A_MSIL2A_20230513T100551_N0509_R022_T32TPS_20230513T161552.SAFE',\n",
       "   'rel': 'derived_from',\n",
       "   'title': 'Derived from /eodata/Sentinel-2/MSI/L2A/2023/05/13/S2A_MSIL2A_20230513T100551_N0509_R022_T32TPS_20230513T161552.SAFE',\n",
       "   'type': 'application/json'},\n",
       "  {'href': '/eodata/Sentinel-2/MSI/L2A/2023/05/16/S2A_MSIL2A_20230516T101601_N0509_R065_T32TPS_20230516T181153.SAFE',\n",
       "   'rel': 'derived_from',\n",
       "   'title': 'Derived from /eodata/Sentinel-2/MSI/L2A/2023/05/16/S2A_MSIL2A_20230516T101601_N0509_R065_T32TPS_20230516T181153.SAFE',\n",
       "   'type': 'application/json'},\n",
       "  {'href': '/eodata/Sentinel-2/MSI/L2A/2023/05/18/S2B_MSIL2A_20230518T100559_N0509_R022_T32TPS_20230518T144255.SAFE',\n",
       "   'rel': 'derived_from',\n",
       "   'title': 'Derived from /eodata/Sentinel-2/MSI/L2A/2023/05/18/S2B_MSIL2A_20230518T100559_N0509_R022_T32TPS_20230518T144255.SAFE',\n",
       "   'type': 'application/json'},\n",
       "  {'href': '/eodata/Sentinel-2/MSI/L2A/2023/05/21/S2B_MSIL2A_20230521T101609_N0509_R065_T32TPS_20230521T131745.SAFE',\n",
       "   'rel': 'derived_from',\n",
       "   'title': 'Derived from /eodata/Sentinel-2/MSI/L2A/2023/05/21/S2B_MSIL2A_20230521T101609_N0509_R065_T32TPS_20230521T131745.SAFE',\n",
       "   'type': 'application/json'},\n",
       "  {'href': '/eodata/Sentinel-2/MSI/L2A/2023/05/23/S2A_MSIL2A_20230523T100601_N0509_R022_T32TPS_20230523T161057.SAFE',\n",
       "   'rel': 'derived_from',\n",
       "   'title': 'Derived from /eodata/Sentinel-2/MSI/L2A/2023/05/23/S2A_MSIL2A_20230523T100601_N0509_R022_T32TPS_20230523T161057.SAFE',\n",
       "   'type': 'application/json'},\n",
       "  {'href': '/eodata/Sentinel-2/MSI/L2A/2023/05/26/S2A_MSIL2A_20230526T101601_N0509_R065_T32TPS_20230526T162854.SAFE',\n",
       "   'rel': 'derived_from',\n",
       "   'title': 'Derived from /eodata/Sentinel-2/MSI/L2A/2023/05/26/S2A_MSIL2A_20230526T101601_N0509_R065_T32TPS_20230526T162854.SAFE',\n",
       "   'type': 'application/json'},\n",
       "  {'href': '/eodata/Sentinel-2/MSI/L2A/2023/05/28/S2B_MSIL2A_20230528T100559_N0509_R022_T32TPS_20230528T131159.SAFE',\n",
       "   'rel': 'derived_from',\n",
       "   'title': 'Derived from /eodata/Sentinel-2/MSI/L2A/2023/05/28/S2B_MSIL2A_20230528T100559_N0509_R022_T32TPS_20230528T131159.SAFE',\n",
       "   'type': 'application/json'},\n",
       "  {'href': '/eodata/Sentinel-2/MSI/L2A/2023/05/31/S2B_MSIL2A_20230531T101559_N0509_R065_T32TPS_20230531T131936.SAFE',\n",
       "   'rel': 'derived_from',\n",
       "   'title': 'Derived from /eodata/Sentinel-2/MSI/L2A/2023/05/31/S2B_MSIL2A_20230531T101559_N0509_R065_T32TPS_20230531T131936.SAFE',\n",
       "   'type': 'application/json'},\n",
       "  {'href': 'https://openeo.dataspace.copernicus.eu/openeo/1.2/jobs/j-2401318f19a84122b62657ed798f0c9e/results',\n",
       "   'rel': 'self',\n",
       "   'type': 'application/json'},\n",
       "  {'href': 'https://openeo.dataspace.copernicus.eu/openeo/1.2/jobs/j-2401318f19a84122b62657ed798f0c9e/results/MDYxODNjYmMtODRjOC00YzZhLThhN2QtY2IxOGJhMDhjYzhj/e967c4ba33e20f0757876cf974ef7eb7?expires=1707311403',\n",
       "   'rel': 'canonical',\n",
       "   'type': 'application/json'},\n",
       "  {'href': 'http://ceos.org/ard/files/PFS/SR/v5.0/CARD4L_Product_Family_Specification_Surface_Reflectance-v5.0.pdf',\n",
       "   'rel': 'card4l-document',\n",
       "   'type': 'application/pdf'},\n",
       "  {'href': 'https://openeo.dataspace.copernicus.eu/openeo/1.2/jobs/j-2401318f19a84122b62657ed798f0c9e/results/items/MDYxODNjYmMtODRjOC00YzZhLThhN2QtY2IxOGJhMDhjYzhj/ed41e358ad1fe308f681e33015b06869/openEO.tif?expires=1707311403',\n",
       "   'rel': 'item',\n",
       "   'type': 'application/geo+json'}],\n",
       " 'assets': {'visual': {'href': 'openEO_uint8.tif',\n",
       "   'type': 'image/tiff; application=geotiff; profile=cloud-optimized',\n",
       "   'title': 'Snow coverage',\n",
       "   'roles': ['data']}}}"
      ]
     },
     "execution_count": 39,
     "metadata": {},
     "output_type": "execute_result"
    }
   ],
   "source": [
    "stac_item"
   ]
  },
  {
   "cell_type": "markdown",
   "id": "f8c55b3d-1d3f-4584-9c1c-e00511288e77",
   "metadata": {},
   "source": [
    "Saving the resulting item as stac_item.json into results folder"
   ]
  },
  {
   "cell_type": "code",
   "execution_count": null,
   "id": "cc6b58e1-e759-4943-85b8-bad6716181ab",
   "metadata": {
    "tags": []
   },
   "outputs": [],
   "source": [
    "stac_json = json.dumps(stac_item)\n",
    "with open(\"33_results/stac_item.json\", \"w\") as file:\n",
    "    file.write(stac_json)"
   ]
  },
  {
   "cell_type": "markdown",
   "id": "5a5064ba-5d1a-4f49-8502-c715a6032856",
   "metadata": {},
   "source": [
    "Validating that STAC item is important - non valid STAC will not be displayed in the STAC browser after upload"
   ]
  },
  {
   "cell_type": "code",
   "execution_count": 41,
   "id": "f1495fcc-19fe-46df-bf95-ac4c470696d5",
   "metadata": {
    "tags": []
   },
   "outputs": [
    {
     "name": "stdout",
     "output_type": "stream",
     "text": [
      "[{'version': '1.0.0', 'path': None, 'schema': ['https://schemas.stacspec.org/v1.0.0/item-spec/json-schema/item.json'], 'valid_stac': True, 'asset_type': 'ITEM', 'validation_method': 'default'}]\n"
     ]
    }
   ],
   "source": [
    "from stac_validator import stac_validator\n",
    "import requests\n",
    "stac = stac_validator.StacValidate()\n",
    "f = open('33_results/stac_item.json')\n",
    "data = json.load(f)\n",
    "stac.validate_dict(data)\n",
    "print(stac.message)"
   ]
  },
  {
   "cell_type": "markdown",
   "id": "75e00b43-d734-4496-ae3f-483d6ae12263",
   "metadata": {},
   "source": [
    "### Now it is time to upload solution to the submission folder and make results visible in STAC browser"
   ]
  },
  {
   "cell_type": "markdown",
   "id": "bca36260-960e-4a69-bef8-9fb6fc880360",
   "metadata": {},
   "source": [
    "Upload both the STAC json file and the final .tif file to \"submissions\" folder in your home directory\n",
    "\n",
    "You can use the code below to copy the results to the submissions folder"
   ]
  },
  {
   "cell_type": "code",
   "execution_count": 49,
   "id": "eb8c033c-9c51-4a0e-8fa9-79d38871721b",
   "metadata": {
    "tags": []
   },
   "outputs": [],
   "source": [
    "!cp ./33_results/stac_item.json ~/submissions/\n",
    "!cp ./33_results/openEO_uint8.tif ~/submissions/"
   ]
  },
  {
   "cell_type": "markdown",
   "id": "900bdab1-26b5-41d3-bfb0-5c7091e2c4c3",
   "metadata": {},
   "source": [
    "And now by executing the cell below, update of the STAC browser will start. By this, you are uploading your results to the openly available STAC browser. This might take some minutes."
   ]
  },
  {
   "cell_type": "code",
   "execution_count": 50,
   "id": "c8a56d8e-3b80-40f3-bcba-b2cfac968bdd",
   "metadata": {
    "tags": []
   },
   "outputs": [],
   "source": [
    "env_var1 = os.getenv('EMAIL')\n",
    "curl_command = f\"curl -X POST -F token=glptt-42d31ac6f592a9e321d0e4877e654dc50dcf4854 -F ref=main -F 'variables[USER_DIRECTORY]=\\\"{env_var1}\\\"' https://gitlab.eox.at/api/v4/projects/554/trigger/pipeline\" \n",
    "process = subprocess.Popen(curl_command, shell=True, stdout=subprocess.PIPE, stderr=subprocess.PIPE)\n",
    "stdout, stderr = process.communicate()"
   ]
  },
  {
   "cell_type": "markdown",
   "id": "427c1b95-039c-41b3-93c7-3fd6471fd1c4",
   "metadata": {},
   "source": [
    "### Your results are online!\n",
    "You can now browse your results together with all the other submissions at the publicly available STAC Catalog! You can check your snow cover map, that you are correctly listed as the author and that your contribution has the correct name. The license on the STAC Collection \"Cubes and Clouds: Snow Cover\" is CC-BY-4.0. The STAC Collection also has it's own DOI.\n",
    "\n",
    "Congratulations you have just contributed to a community mapping project that is completely open source, open data and FAIR! Make sure to show it also to your friends, colleagues or potential employers :)\n",
    "\n",
    "https://esa.pages.eox.at/cubes-and-clouds-catalog/browser/#/?.language=en"
   ]
  },
  {
   "cell_type": "markdown",
   "id": "d25e8ab2-097d-4ad2-a33f-58e1a7833598",
   "metadata": {},
   "source": [
    "If you would like to redo your submission, you can still update your files in submissions folder and once ready, run again the code in the cell above. "
   ]
  },
  {
   "cell_type": "markdown",
   "id": "a15589c8-9956-4df5-a55a-48ccb77173b5",
   "metadata": {},
   "source": [
    "**Attention:** If you have previously opened the STAC browser, your old submission will be cached and not directly displayed. To circumvent this, open a private window from your browser."
   ]
  },
  {
   "cell_type": "markdown",
   "id": "32e011fc-53ec-44b6-9611-4de13f739973",
   "metadata": {
    "tags": []
   },
   "source": [
    "Happy coding!"
   ]
  }
 ],
 "metadata": {
  "kernelspec": {
   "display_name": "cubes-and-clouds-cubes-and-clouds2",
   "language": "python",
   "name": "conda-env-cubes-and-clouds-cubes-and-clouds2-py"
  },
  "language_info": {
   "codemirror_mode": {
    "name": "ipython",
    "version": 3
   },
   "file_extension": ".py",
   "mimetype": "text/x-python",
   "name": "python",
   "nbconvert_exporter": "python",
   "pygments_lexer": "ipython3",
   "version": "3.11.7"
  }
 },
 "nbformat": 4,
 "nbformat_minor": 5
}
