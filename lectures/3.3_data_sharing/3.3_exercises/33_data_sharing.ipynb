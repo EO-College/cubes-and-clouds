{
 "cells": [
  {
   "cell_type": "markdown",
   "id": "3d8f1015-699c-4c22-b3be-61608b6d993a",
   "metadata": {},
   "source": [
    "<img src=\"https://raw.githubusercontent.com/EO-College/cubes-and-clouds/main/icons/cnc_3icons_share_cirlce.svg\"\n",
    "     alt=\"Cubes & Clouds logo\"\n",
    "     style=\"float: center; margin-right: 10px;\" />"
   ]
  },
  {
   "cell_type": "markdown",
   "id": "0c6aed2f-1493-4636-a124-03c81b28bc52",
   "metadata": {},
   "source": [
    "# 3.3 Data Sharing\n",
    "Science is much more impactful once it's shared. Therefore, we are going to learn how to \n",
    "open up our scientific output from a cloud platform, so that is openly available - and \n",
    "has the chance to make the impact it should.\n",
    "- Reuse the workflow we have used before for creating the snow covered area\n",
    "- Select AOI,\n",
    "- Recreate process graph, \n",
    "- Download results for one time-step\n",
    "  - A Snow Cover Area map in the COG format\n",
    "  - A STAC metadata item that is provided with the result from openEO at CDSE\n",
    "- Adapt the STAC item\n",
    "- Upload the results and make them available openly via a STAC browser and web map\n"
   ]
  },
  {
   "cell_type": "markdown",
   "id": "7d102aad-5b61-422c-acb1-9c89621d70e3",
   "metadata": {
    "tags": []
   },
   "source": [
    "## Libraries"
   ]
  },
  {
   "cell_type": "markdown",
   "id": "bfd758d4-a3d3-44ae-9cd0-7689af34effe",
   "metadata": {},
   "source": [
    "Start by creating the folders and data files needed to complete the exercise"
   ]
  },
  {
   "cell_type": "code",
   "execution_count": 1,
   "id": "cc4a7712-62f8-4459-85a7-f6ac46e6d9d2",
   "metadata": {
    "tags": []
   },
   "outputs": [],
   "source": [
    "!cp -r $DATA_PATH/33_results/ $HOME/"
   ]
  },
  {
   "cell_type": "code",
   "execution_count": 2,
   "id": "54507438-b159-49cb-85e0-b98d3ddb690a",
   "metadata": {
    "tags": []
   },
   "outputs": [],
   "source": [
    "!cp $DATA_PATH/_33_cubes_utilities.py $HOME/"
   ]
  },
  {
   "cell_type": "code",
   "execution_count": 3,
   "id": "1abf270c-d73e-4109-854c-3cf36a1b36d7",
   "metadata": {
    "tags": []
   },
   "outputs": [],
   "source": [
    "import json\n",
    "import os\n",
    "import subprocess\n",
    "from datetime import datetime\n",
    "\n",
    "import openeo\n",
    "import numpy as np\n",
    "import leafmap\n",
    "import geopandas as gpd\n",
    "import shapely\n",
    "from shapely.geometry import Polygon\n",
    "\n",
    "import rioxarray as rio\n",
    "import xarray\n",
    "\n",
    "from _33_cubes_utilities import (\n",
    "    calculate_sca,\n",
    "    visualize_bbox,\n",
    "    create_bounding_box\n",
    ")"
   ]
  },
  {
   "cell_type": "markdown",
   "id": "8ca9a336-2110-47b7-98e9-94ecd12c676f",
   "metadata": {},
   "source": [
    "Import utility functions"
   ]
  },
  {
   "cell_type": "markdown",
   "id": "82f46c31-e6ef-4811-8e3a-7256ac0d2a86",
   "metadata": {},
   "source": [
    "## Login"
   ]
  },
  {
   "cell_type": "markdown",
   "id": "8ad2ba48-40ef-4cc5-9bb6-de59d4b9a67e",
   "metadata": {
    "tags": []
   },
   "source": [
    "Connect to the copernicus dataspace ecosystem."
   ]
  },
  {
   "cell_type": "code",
   "execution_count": 4,
   "id": "35624db3-17ef-4efb-a203-8d79113e2203",
   "metadata": {
    "tags": []
   },
   "outputs": [],
   "source": [
    "conn = openeo.connect('https://openeo.dataspace.copernicus.eu/')"
   ]
  },
  {
   "cell_type": "markdown",
   "id": "0046a654-ba6f-4dae-84f2-7f11e099592f",
   "metadata": {},
   "source": [
    "Authenticate login"
   ]
  },
  {
   "cell_type": "code",
   "execution_count": 5,
   "id": "de26fd5c-71da-4d28-b895-f5108a97a1d5",
   "metadata": {
    "tags": []
   },
   "outputs": [
    {
     "name": "stdout",
     "output_type": "stream",
     "text": [
      "Authenticated using refresh token.\n"
     ]
    },
    {
     "data": {
      "text/plain": [
       "<Connection to 'https://openeo.dataspace.copernicus.eu/openeo/1.2/' with OidcBearerAuth>"
      ]
     },
     "execution_count": 5,
     "metadata": {},
     "output_type": "execute_result"
    }
   ],
   "source": [
    "conn.authenticate_oidc()"
   ]
  },
  {
   "cell_type": "markdown",
   "id": "a1a2af45-ba11-41b8-9aaa-2b8169103f7b",
   "metadata": {},
   "source": [
    "Check if the login worked"
   ]
  },
  {
   "cell_type": "code",
   "execution_count": 6,
   "id": "bf1eb435-8e42-425f-9470-75081325787a",
   "metadata": {
    "tags": []
   },
   "outputs": [
    {
     "data": {
      "text/plain": [
       "{'info': {'oidc_userinfo': {'email': 'rufaibalogun1@gmail.com',\n",
       "   'email_verified': True,\n",
       "   'family_name': 'Balogun',\n",
       "   'given_name': 'Rufai Omowunmi',\n",
       "   'name': 'Rufai Omowunmi Balogun',\n",
       "   'preferred_username': 'rufaibalogun1@gmail.com',\n",
       "   'sub': '06183cbc-84c8-4c6a-8a7d-cb18ba08cc8c'}},\n",
       " 'name': 'Rufai Omowunmi Balogun',\n",
       " 'user_id': '06183cbc-84c8-4c6a-8a7d-cb18ba08cc8c'}"
      ]
     },
     "execution_count": 6,
     "metadata": {},
     "output_type": "execute_result"
    }
   ],
   "source": [
    "conn.describe_account()"
   ]
  },
  {
   "cell_type": "markdown",
   "id": "b2d634d7-e719-4cab-8066-ed0cc1c278f6",
   "metadata": {
    "tags": []
   },
   "source": [
    "## Select an Area of Interest and Time Frame\n",
    "\n",
    "Start by selecting a center point of the area you would like to analyse from the map shown below. The starting extent is the full alps. Zoom in to an area and choose a region that has not been mapped yet. Make sure not to overlap too much with already mapped areas. It's a community mapping project :)\n",
    "Create a 1 km bounding box around it. This will be the area you are calculating the snow covered area for. \n"
   ]
  },
  {
   "cell_type": "markdown",
   "id": "3cfc19ce-a624-4ecf-8890-4f615e25ad63",
   "metadata": {},
   "source": [
    "```{attention} \n",
    "\n",
    "Execute the cell below to show the map. Zoom to a location you want to analyze. Use the location symbol to select a point. A marker appears on the map. This is the center of your area of interest.\n",
    "```"
   ]
  },
  {
   "cell_type": "code",
   "execution_count": 7,
   "id": "c2999d0e-210e-4188-8c03-31719c06a70d",
   "metadata": {
    "tags": []
   },
   "outputs": [
    {
     "data": {
      "application/vnd.jupyter.widget-view+json": {
       "model_id": "77d0a196bac8435588f58884b6bd9a93",
       "version_major": 2,
       "version_minor": 0
      },
      "text/plain": [
       "Map(center=[47.005, 11.507], controls=(ZoomControl(options=['position', 'zoom_in_text', 'zoom_in_title', 'zoom…"
      ]
     },
     "metadata": {},
     "output_type": "display_data"
    }
   ],
   "source": [
    "m = leafmap.Map(center=(47.005, 11.507), zoom=7.5)\n",
    "m"
   ]
  },
  {
   "cell_type": "markdown",
   "id": "35370594-f936-4789-8cc4-838b4913320a",
   "metadata": {},
   "source": [
    "Now this cell will get the coordinates of the marker you have placed. This will create a 1 km bounding box around the chosen location. And visualize it in the map above."
   ]
  },
  {
   "cell_type": "code",
   "execution_count": 8,
   "id": "42c6cb21-afff-4b5c-a7d0-403e81192995",
   "metadata": {
    "tags": []
   },
   "outputs": [],
   "source": [
    "feat = m.draw_features\n",
    "geom = feat[0]['geometry']['coordinates']"
   ]
  },
  {
   "cell_type": "markdown",
   "id": "c8a67c0b-d095-41d2-9f3b-3860c6ea5d82",
   "metadata": {
    "tags": []
   },
   "source": []
  },
  {
   "cell_type": "code",
   "execution_count": 9,
   "id": "ae2d3f75-8a05-4d93-a390-1666bb8f7565",
   "metadata": {
    "tags": []
   },
   "outputs": [],
   "source": [
    "distance_km = 1\n",
    "# Create a bounding box around the point\n",
    "bbox = create_bounding_box(geom[0], geom[1], distance_km)\n",
    "visualize_bbox(m, bbox)"
   ]
  },
  {
   "cell_type": "markdown",
   "id": "b8fc1d08-5464-4a04-a98a-b4f6d8c2bf82",
   "metadata": {},
   "source": [
    "Now we'll select the time frame. We'll start with the winter months of 2023. "
   ]
  },
  {
   "cell_type": "code",
   "execution_count": 10,
   "id": "553852f1-24dd-41be-96b7-6cabafc161a9",
   "metadata": {
    "tags": []
   },
   "outputs": [],
   "source": [
    "temporal_extent = [\"2023-02-01\", \"2023-06-01\"]"
   ]
  },
  {
   "cell_type": "markdown",
   "id": "26325c28-6329-491f-9cdf-15c573a6d0f5",
   "metadata": {},
   "source": [
    "## Reuse the process graph of the snow covered area data cube\n",
    "We've saved the python code that we had used to create the snow cover area data cube into a python function `calculate_sca()`. It's stored in `cubes_utilities.py`. It creates a 4 dimensional data cube with the dimensions: x, y, time, bands.\n",
    "As parameters we have exposed the bounding box and temporal extent. We will update them with the choices we have made above. "
   ]
  },
  {
   "cell_type": "code",
   "execution_count": 11,
   "id": "af2c5198-c846-4478-97cd-28f051336af9",
   "metadata": {
    "tags": []
   },
   "outputs": [
    {
     "data": {
      "text/html": [
       "\n",
       "    <script>\n",
       "    if (!window.customElements || !window.customElements.get('openeo-model-builder')) {\n",
       "        var el = document.createElement('script');\n",
       "        el.src = \"https://cdn.jsdelivr.net/npm/@openeo/vue-components@2/assets/openeo.min.js\";\n",
       "        document.head.appendChild(el);\n",
       "\n",
       "        var font = document.createElement('font');\n",
       "        font.as = \"font\";\n",
       "        font.type = \"font/woff2\";\n",
       "        font.crossOrigin = true;\n",
       "        font.href = \"https://use.fontawesome.com/releases/v5.13.0/webfonts/fa-solid-900.woff2\"\n",
       "        document.head.appendChild(font);\n",
       "    }\n",
       "    </script>\n",
       "    <openeo-model-builder>\n",
       "        <script type=\"application/json\">{\"id\": \"11d17e2e2cbb42b7bb5e6b32a7175386\", \"explicit-zoom\": true, \"height\": \"400px\", \"value\": {\"process_graph\": {\"loadcollection1\": {\"process_id\": \"load_collection\", \"arguments\": {\"bands\": [\"B03\", \"B11\", \"SCL\"], \"id\": \"SENTINEL2_L2A\", \"spatial_extent\": {\"west\": 11.295938783940814, \"east\": 11.313925216059188, \"south\": 46.75607884321198, \"north\": 46.77442115678802, \"crs\": 4326}, \"temporal_extent\": [\"2023-02-01\", \"2023-06-01\"]}}, \"reducedimension1\": {\"process_id\": \"reduce_dimension\", \"arguments\": {\"data\": {\"from_node\": \"loadcollection1\"}, \"dimension\": \"bands\", \"reducer\": {\"process_graph\": {\"arrayelement1\": {\"process_id\": \"array_element\", \"arguments\": {\"data\": {\"from_parameter\": \"data\"}, \"index\": 0}}, \"arrayelement2\": {\"process_id\": \"array_element\", \"arguments\": {\"data\": {\"from_parameter\": \"data\"}, \"index\": 1}}, \"subtract1\": {\"process_id\": \"subtract\", \"arguments\": {\"x\": {\"from_node\": \"arrayelement1\"}, \"y\": {\"from_node\": \"arrayelement2\"}}}, \"add1\": {\"process_id\": \"add\", \"arguments\": {\"x\": {\"from_node\": \"arrayelement1\"}, \"y\": {\"from_node\": \"arrayelement2\"}}}, \"divide1\": {\"process_id\": \"divide\", \"arguments\": {\"x\": {\"from_node\": \"subtract1\"}, \"y\": {\"from_node\": \"add1\"}}}, \"gt1\": {\"process_id\": \"gt\", \"arguments\": {\"x\": {\"from_node\": \"divide1\"}, \"y\": 0.4}}, \"multiply1\": {\"process_id\": \"multiply\", \"arguments\": {\"x\": {\"from_node\": \"gt1\"}, \"y\": 1.0}, \"result\": true}}}}}, \"reducedimension2\": {\"process_id\": \"reduce_dimension\", \"arguments\": {\"data\": {\"from_node\": \"loadcollection1\"}, \"dimension\": \"bands\", \"reducer\": {\"process_graph\": {\"arrayelement3\": {\"process_id\": \"array_element\", \"arguments\": {\"data\": {\"from_parameter\": \"data\"}, \"index\": 2}}, \"eq1\": {\"process_id\": \"eq\", \"arguments\": {\"x\": {\"from_node\": \"arrayelement3\"}, \"y\": 8}}, \"eq2\": {\"process_id\": \"eq\", \"arguments\": {\"x\": {\"from_node\": \"arrayelement3\"}, \"y\": 9}}, \"or1\": {\"process_id\": \"or\", \"arguments\": {\"x\": {\"from_node\": \"eq1\"}, \"y\": {\"from_node\": \"eq2\"}}}, \"eq3\": {\"process_id\": \"eq\", \"arguments\": {\"x\": {\"from_node\": \"arrayelement3\"}, \"y\": 3}}, \"or2\": {\"process_id\": \"or\", \"arguments\": {\"x\": {\"from_node\": \"or1\"}, \"y\": {\"from_node\": \"eq3\"}}}, \"multiply2\": {\"process_id\": \"multiply\", \"arguments\": {\"x\": {\"from_node\": \"or2\"}, \"y\": 1.0}, \"result\": true}}}}}, \"mask1\": {\"process_id\": \"mask\", \"arguments\": {\"data\": {\"from_node\": \"reducedimension1\"}, \"mask\": {\"from_node\": \"reducedimension2\"}}, \"result\": true}}}}</script>\n",
       "    </openeo-model-builder>\n",
       "    "
      ],
      "text/plain": [
       "<openeo.rest.datacube.DataCube at 0x7fd8eacb71d0>"
      ]
     },
     "execution_count": 11,
     "metadata": {},
     "output_type": "execute_result"
    }
   ],
   "source": [
    "snow_map_4dcube = calculate_sca(conn, bbox, temporal_extent)\n",
    "snow_map_4dcube"
   ]
  },
  {
   "cell_type": "markdown",
   "id": "7973af9d-15e0-4fae-bdfa-c35faf7f652a",
   "metadata": {},
   "source": [
    "## Reduce the time dimension\n",
    "We want to calculate the SCA for the winter period of a given year. Therefore, we need to reduce the values along the time dimension. We'll use the process `reduce_dimension()` with a `median()` to accomplish this. We are directly continuing to build on our process graph that we have loaded above."
   ]
  },
  {
   "cell_type": "code",
   "execution_count": 12,
   "id": "1d8e9005-f0b7-49af-b83a-9a2983a2965b",
   "metadata": {
    "tags": []
   },
   "outputs": [
    {
     "data": {
      "text/html": [
       "\n",
       "    <script>\n",
       "    if (!window.customElements || !window.customElements.get('openeo-model-builder')) {\n",
       "        var el = document.createElement('script');\n",
       "        el.src = \"https://cdn.jsdelivr.net/npm/@openeo/vue-components@2/assets/openeo.min.js\";\n",
       "        document.head.appendChild(el);\n",
       "\n",
       "        var font = document.createElement('font');\n",
       "        font.as = \"font\";\n",
       "        font.type = \"font/woff2\";\n",
       "        font.crossOrigin = true;\n",
       "        font.href = \"https://use.fontawesome.com/releases/v5.13.0/webfonts/fa-solid-900.woff2\"\n",
       "        document.head.appendChild(font);\n",
       "    }\n",
       "    </script>\n",
       "    <openeo-model-builder>\n",
       "        <script type=\"application/json\">{\"id\": \"5f9e4ad563e3454cb4a4a9467651f121\", \"explicit-zoom\": true, \"height\": \"400px\", \"value\": {\"process_graph\": {\"loadcollection1\": {\"process_id\": \"load_collection\", \"arguments\": {\"bands\": [\"B03\", \"B11\", \"SCL\"], \"id\": \"SENTINEL2_L2A\", \"spatial_extent\": {\"west\": 11.295938783940814, \"east\": 11.313925216059188, \"south\": 46.75607884321198, \"north\": 46.77442115678802, \"crs\": 4326}, \"temporal_extent\": [\"2023-02-01\", \"2023-06-01\"]}}, \"reducedimension1\": {\"process_id\": \"reduce_dimension\", \"arguments\": {\"data\": {\"from_node\": \"loadcollection1\"}, \"dimension\": \"bands\", \"reducer\": {\"process_graph\": {\"arrayelement1\": {\"process_id\": \"array_element\", \"arguments\": {\"data\": {\"from_parameter\": \"data\"}, \"index\": 0}}, \"arrayelement2\": {\"process_id\": \"array_element\", \"arguments\": {\"data\": {\"from_parameter\": \"data\"}, \"index\": 1}}, \"subtract1\": {\"process_id\": \"subtract\", \"arguments\": {\"x\": {\"from_node\": \"arrayelement1\"}, \"y\": {\"from_node\": \"arrayelement2\"}}}, \"add1\": {\"process_id\": \"add\", \"arguments\": {\"x\": {\"from_node\": \"arrayelement1\"}, \"y\": {\"from_node\": \"arrayelement2\"}}}, \"divide1\": {\"process_id\": \"divide\", \"arguments\": {\"x\": {\"from_node\": \"subtract1\"}, \"y\": {\"from_node\": \"add1\"}}}, \"gt1\": {\"process_id\": \"gt\", \"arguments\": {\"x\": {\"from_node\": \"divide1\"}, \"y\": 0.4}}, \"multiply1\": {\"process_id\": \"multiply\", \"arguments\": {\"x\": {\"from_node\": \"gt1\"}, \"y\": 1.0}, \"result\": true}}}}}, \"reducedimension2\": {\"process_id\": \"reduce_dimension\", \"arguments\": {\"data\": {\"from_node\": \"loadcollection1\"}, \"dimension\": \"bands\", \"reducer\": {\"process_graph\": {\"arrayelement3\": {\"process_id\": \"array_element\", \"arguments\": {\"data\": {\"from_parameter\": \"data\"}, \"index\": 2}}, \"eq1\": {\"process_id\": \"eq\", \"arguments\": {\"x\": {\"from_node\": \"arrayelement3\"}, \"y\": 8}}, \"eq2\": {\"process_id\": \"eq\", \"arguments\": {\"x\": {\"from_node\": \"arrayelement3\"}, \"y\": 9}}, \"or1\": {\"process_id\": \"or\", \"arguments\": {\"x\": {\"from_node\": \"eq1\"}, \"y\": {\"from_node\": \"eq2\"}}}, \"eq3\": {\"process_id\": \"eq\", \"arguments\": {\"x\": {\"from_node\": \"arrayelement3\"}, \"y\": 3}}, \"or2\": {\"process_id\": \"or\", \"arguments\": {\"x\": {\"from_node\": \"or1\"}, \"y\": {\"from_node\": \"eq3\"}}}, \"multiply2\": {\"process_id\": \"multiply\", \"arguments\": {\"x\": {\"from_node\": \"or2\"}, \"y\": 1.0}, \"result\": true}}}}}, \"mask1\": {\"process_id\": \"mask\", \"arguments\": {\"data\": {\"from_node\": \"reducedimension1\"}, \"mask\": {\"from_node\": \"reducedimension2\"}}}, \"reducedimension3\": {\"process_id\": \"reduce_dimension\", \"arguments\": {\"data\": {\"from_node\": \"mask1\"}, \"dimension\": \"t\", \"reducer\": {\"process_graph\": {\"median1\": {\"process_id\": \"median\", \"arguments\": {\"data\": {\"from_parameter\": \"data\"}}, \"result\": true}}}}, \"result\": true}}}}</script>\n",
       "    </openeo-model-builder>\n",
       "    "
      ],
      "text/plain": [
       "<openeo.rest.datacube.DataCube at 0x7fd8ec4c3790>"
      ]
     },
     "execution_count": 12,
     "metadata": {},
     "output_type": "execute_result"
    }
   ],
   "source": [
    "snow_map_3dcube = snow_map_4dcube.reduce_dimension(reducer=\"median\", dimension=\"t\")\n",
    "snow_map_3dcube"
   ]
  },
  {
   "cell_type": "markdown",
   "id": "251ba878-3841-479a-868e-886d701f50ef",
   "metadata": {
    "tags": []
   },
   "source": [
    "## Download result\n",
    "To finish our process graph we add the `save_result()` process choosing the `GTiff` format. It creates a COG out of the box with openEO on CDSE."
   ]
  },
  {
   "cell_type": "code",
   "execution_count": 13,
   "id": "d654adb3-fcc0-413c-bd5c-28de5564e570",
   "metadata": {
    "tags": []
   },
   "outputs": [],
   "source": [
    "# create a batch job\n",
    "snowmap_cog = snow_map_3dcube.save_result(format = \"GTiff\") #, options = {\"overviews\": \"AUTO\"})"
   ]
  },
  {
   "cell_type": "markdown",
   "id": "ceb0edb7-c349-467d-9a42-bfbe5538a299",
   "metadata": {},
   "source": [
    "We register the job as a batch job on the backend and start the processing."
   ]
  },
  {
   "cell_type": "code",
   "execution_count": 14,
   "id": "1fc7c255-2f67-44a1-978b-2bb51b05eab3",
   "metadata": {
    "tags": []
   },
   "outputs": [
    {
     "name": "stdout",
     "output_type": "stream",
     "text": [
      "0:00:00 Job 'j-240124278d9c4b56a64c7ca8041482ef': send 'start'\n",
      "0:00:16 Job 'j-240124278d9c4b56a64c7ca8041482ef': created (progress N/A)\n",
      "0:00:21 Job 'j-240124278d9c4b56a64c7ca8041482ef': created (progress N/A)\n",
      "0:00:28 Job 'j-240124278d9c4b56a64c7ca8041482ef': created (progress N/A)\n",
      "0:00:38 Job 'j-240124278d9c4b56a64c7ca8041482ef': created (progress N/A)\n",
      "0:00:48 Job 'j-240124278d9c4b56a64c7ca8041482ef': running (progress N/A)\n",
      "0:01:03 Job 'j-240124278d9c4b56a64c7ca8041482ef': running (progress N/A)\n",
      "0:01:21 Job 'j-240124278d9c4b56a64c7ca8041482ef': running (progress N/A)\n",
      "0:01:41 Job 'j-240124278d9c4b56a64c7ca8041482ef': running (progress N/A)\n",
      "0:02:05 Job 'j-240124278d9c4b56a64c7ca8041482ef': running (progress N/A)\n",
      "0:02:35 Job 'j-240124278d9c4b56a64c7ca8041482ef': running (progress N/A)\n",
      "0:03:13 Job 'j-240124278d9c4b56a64c7ca8041482ef': finished (progress N/A)\n"
     ]
    },
    {
     "data": {
      "text/html": [
       "\n",
       "    <script>\n",
       "    if (!window.customElements || !window.customElements.get('openeo-job')) {\n",
       "        var el = document.createElement('script');\n",
       "        el.src = \"https://cdn.jsdelivr.net/npm/@openeo/vue-components@2/assets/openeo.min.js\";\n",
       "        document.head.appendChild(el);\n",
       "\n",
       "        var font = document.createElement('font');\n",
       "        font.as = \"font\";\n",
       "        font.type = \"font/woff2\";\n",
       "        font.crossOrigin = true;\n",
       "        font.href = \"https://use.fontawesome.com/releases/v5.13.0/webfonts/fa-solid-900.woff2\"\n",
       "        document.head.appendChild(font);\n",
       "    }\n",
       "    </script>\n",
       "    <openeo-job>\n",
       "        <script type=\"application/json\">{\"currency\": \"credits\", \"job\": {\"costs\": 2, \"created\": \"2024-01-24T15:26:33Z\", \"id\": \"j-240124278d9c4b56a64c7ca8041482ef\", \"process\": {\"process_graph\": {\"loadcollection1\": {\"arguments\": {\"bands\": [\"B03\", \"B11\", \"SCL\"], \"id\": \"SENTINEL2_L2A\", \"spatial_extent\": {\"crs\": 4326, \"east\": 11.313925216059188, \"north\": 46.77442115678802, \"south\": 46.75607884321198, \"west\": 11.295938783940814}, \"temporal_extent\": [\"2023-02-01\", \"2023-06-01\"]}, \"process_id\": \"load_collection\"}, \"mask1\": {\"arguments\": {\"data\": {\"from_node\": \"reducedimension1\"}, \"mask\": {\"from_node\": \"reducedimension2\"}}, \"process_id\": \"mask\"}, \"reducedimension1\": {\"arguments\": {\"data\": {\"from_node\": \"loadcollection1\"}, \"dimension\": \"bands\", \"reducer\": {\"process_graph\": {\"add1\": {\"arguments\": {\"x\": {\"from_node\": \"arrayelement1\"}, \"y\": {\"from_node\": \"arrayelement2\"}}, \"process_id\": \"add\"}, \"arrayelement1\": {\"arguments\": {\"data\": {\"from_parameter\": \"data\"}, \"index\": 0}, \"process_id\": \"array_element\"}, \"arrayelement2\": {\"arguments\": {\"data\": {\"from_parameter\": \"data\"}, \"index\": 1}, \"process_id\": \"array_element\"}, \"divide1\": {\"arguments\": {\"x\": {\"from_node\": \"subtract1\"}, \"y\": {\"from_node\": \"add1\"}}, \"process_id\": \"divide\"}, \"gt1\": {\"arguments\": {\"x\": {\"from_node\": \"divide1\"}, \"y\": 0.4}, \"process_id\": \"gt\"}, \"multiply1\": {\"arguments\": {\"x\": {\"from_node\": \"gt1\"}, \"y\": 1}, \"process_id\": \"multiply\", \"result\": true}, \"subtract1\": {\"arguments\": {\"x\": {\"from_node\": \"arrayelement1\"}, \"y\": {\"from_node\": \"arrayelement2\"}}, \"process_id\": \"subtract\"}}}}, \"process_id\": \"reduce_dimension\"}, \"reducedimension2\": {\"arguments\": {\"data\": {\"from_node\": \"loadcollection1\"}, \"dimension\": \"bands\", \"reducer\": {\"process_graph\": {\"arrayelement3\": {\"arguments\": {\"data\": {\"from_parameter\": \"data\"}, \"index\": 2}, \"process_id\": \"array_element\"}, \"eq1\": {\"arguments\": {\"x\": {\"from_node\": \"arrayelement3\"}, \"y\": 8}, \"process_id\": \"eq\"}, \"eq2\": {\"arguments\": {\"x\": {\"from_node\": \"arrayelement3\"}, \"y\": 9}, \"process_id\": \"eq\"}, \"eq3\": {\"arguments\": {\"x\": {\"from_node\": \"arrayelement3\"}, \"y\": 3}, \"process_id\": \"eq\"}, \"multiply2\": {\"arguments\": {\"x\": {\"from_node\": \"or2\"}, \"y\": 1}, \"process_id\": \"multiply\", \"result\": true}, \"or1\": {\"arguments\": {\"x\": {\"from_node\": \"eq1\"}, \"y\": {\"from_node\": \"eq2\"}}, \"process_id\": \"or\"}, \"or2\": {\"arguments\": {\"x\": {\"from_node\": \"or1\"}, \"y\": {\"from_node\": \"eq3\"}}, \"process_id\": \"or\"}}}}, \"process_id\": \"reduce_dimension\"}, \"reducedimension3\": {\"arguments\": {\"data\": {\"from_node\": \"mask1\"}, \"dimension\": \"t\", \"reducer\": {\"process_graph\": {\"median1\": {\"arguments\": {\"data\": {\"from_parameter\": \"data\"}}, \"process_id\": \"median\", \"result\": true}}}}, \"process_id\": \"reduce_dimension\"}, \"saveresult1\": {\"arguments\": {\"data\": {\"from_node\": \"reducedimension3\"}, \"format\": \"GTiff\", \"options\": {}}, \"process_id\": \"save_result\", \"result\": true}}}, \"status\": \"finished\", \"title\": \"snowmap_cog\", \"updated\": \"2024-01-24T15:29:23Z\", \"usage\": {\"cpu\": {\"unit\": \"cpu-seconds\", \"value\": 191.61451105999998}, \"duration\": {\"unit\": \"seconds\", \"value\": 113}, \"input_pixel\": {\"unit\": \"mega-pixel\", \"value\": 18.375}, \"max_executor_memory\": {\"unit\": \"gb\", \"value\": 2.1523475646972656}, \"memory\": {\"unit\": \"mb-seconds\", \"value\": 873249.875}, \"network_received\": {\"unit\": \"b\", \"value\": 5810558166}}}}</script>\n",
       "    </openeo-job>\n",
       "    "
      ],
      "text/plain": [
       "<BatchJob job_id='j-240124278d9c4b56a64c7ca8041482ef'>"
      ]
     },
     "execution_count": 14,
     "metadata": {},
     "output_type": "execute_result"
    }
   ],
   "source": [
    "job = snowmap_cog.create_job(title=\"snowmap_cog\")\n",
    "job.start_and_wait()"
   ]
  },
  {
   "cell_type": "markdown",
   "id": "28aada6d-8687-4370-ba52-e33e23f7d8ec",
   "metadata": {},
   "source": [
    "Now let's wait until the job is finished and then download the results."
   ]
  },
  {
   "cell_type": "code",
   "execution_count": 15,
   "id": "219830d8-edec-48d8-b8b0-317112b32899",
   "metadata": {
    "tags": []
   },
   "outputs": [],
   "source": [
    "if job.status() == \"finished\":\n",
    "    results = job.get_results()\n",
    "    results.download_files(\"33_results/\")"
   ]
  },
  {
   "cell_type": "markdown",
   "id": "ba5d74b4-ee86-48c4-a6a6-ff8a667ccafd",
   "metadata": {
    "tags": []
   },
   "source": [
    "## Load results\n",
    "Now we can open the COG and visualize it."
   ]
  },
  {
   "cell_type": "code",
   "execution_count": 58,
   "id": "d4130cd6-7681-4fd7-8ba4-d76f80d4fc42",
   "metadata": {
    "tags": []
   },
   "outputs": [
    {
     "name": "stdout",
     "output_type": "stream",
     "text": [
      "Input file size is 144, 209\n",
      "0...10...20...30...40...50...60...70...80...90...100 - done.\n"
     ]
    },
    {
     "name": "stderr",
     "output_type": "stream",
     "text": [
      "Warning 1: for band 1, nodata value has been rounded to 0, Byte being an integer datatype.\n"
     ]
    },
    {
     "data": {
      "text/plain": [
       "0"
      ]
     },
     "execution_count": 58,
     "metadata": {},
     "output_type": "execute_result"
    }
   ],
   "source": [
    "import subprocess\n",
    "\n",
    "image_in = \"33_results/openEO.tif\"\n",
    "image_out = \"33_results/openEO_test.tif\"\n",
    "subprocess.call([\"gdal_translate\", \"-ot\", \"Byte\", image_in, image_out ])\n",
    "\n",
    "# TODO: convert data to uint8 within the value range 0 -- 255"
   ]
  },
  {
   "cell_type": "code",
   "execution_count": 64,
   "id": "5c6d59b2-c9c5-4eeb-9c19-e70a11e4ef06",
   "metadata": {
    "tags": []
   },
   "outputs": [
    {
     "data": {
      "text/plain": [
       "0"
      ]
     },
     "execution_count": 64,
     "metadata": {},
     "output_type": "execute_result"
    }
   ],
   "source": [
    "snowmap = rio.open_rasterio(\"33_results/openEO_test.tif\", decode_coords=\"all\")\n",
    "np.min(snowmap.sel(band=1).values)"
   ]
  },
  {
   "cell_type": "code",
   "execution_count": 67,
   "id": "96022b16-5714-4f8b-949f-e9183270b451",
   "metadata": {
    "tags": []
   },
   "outputs": [
    {
     "data": {
      "text/html": [
       "<div><svg style=\"position: absolute; width: 0; height: 0; overflow: hidden\">\n",
       "<defs>\n",
       "<symbol id=\"icon-database\" viewBox=\"0 0 32 32\">\n",
       "<path d=\"M16 0c-8.837 0-16 2.239-16 5v4c0 2.761 7.163 5 16 5s16-2.239 16-5v-4c0-2.761-7.163-5-16-5z\"></path>\n",
       "<path d=\"M16 17c-8.837 0-16-2.239-16-5v6c0 2.761 7.163 5 16 5s16-2.239 16-5v-6c0 2.761-7.163 5-16 5z\"></path>\n",
       "<path d=\"M16 26c-8.837 0-16-2.239-16-5v6c0 2.761 7.163 5 16 5s16-2.239 16-5v-6c0 2.761-7.163 5-16 5z\"></path>\n",
       "</symbol>\n",
       "<symbol id=\"icon-file-text2\" viewBox=\"0 0 32 32\">\n",
       "<path d=\"M28.681 7.159c-0.694-0.947-1.662-2.053-2.724-3.116s-2.169-2.030-3.116-2.724c-1.612-1.182-2.393-1.319-2.841-1.319h-15.5c-1.378 0-2.5 1.121-2.5 2.5v27c0 1.378 1.122 2.5 2.5 2.5h23c1.378 0 2.5-1.122 2.5-2.5v-19.5c0-0.448-0.137-1.23-1.319-2.841zM24.543 5.457c0.959 0.959 1.712 1.825 2.268 2.543h-4.811v-4.811c0.718 0.556 1.584 1.309 2.543 2.268zM28 29.5c0 0.271-0.229 0.5-0.5 0.5h-23c-0.271 0-0.5-0.229-0.5-0.5v-27c0-0.271 0.229-0.5 0.5-0.5 0 0 15.499-0 15.5 0v7c0 0.552 0.448 1 1 1h7v19.5z\"></path>\n",
       "<path d=\"M23 26h-14c-0.552 0-1-0.448-1-1s0.448-1 1-1h14c0.552 0 1 0.448 1 1s-0.448 1-1 1z\"></path>\n",
       "<path d=\"M23 22h-14c-0.552 0-1-0.448-1-1s0.448-1 1-1h14c0.552 0 1 0.448 1 1s-0.448 1-1 1z\"></path>\n",
       "<path d=\"M23 18h-14c-0.552 0-1-0.448-1-1s0.448-1 1-1h14c0.552 0 1 0.448 1 1s-0.448 1-1 1z\"></path>\n",
       "</symbol>\n",
       "</defs>\n",
       "</svg>\n",
       "<style>/* CSS stylesheet for displaying xarray objects in jupyterlab.\n",
       " *\n",
       " */\n",
       "\n",
       ":root {\n",
       "  --xr-font-color0: var(--jp-content-font-color0, rgba(0, 0, 0, 1));\n",
       "  --xr-font-color2: var(--jp-content-font-color2, rgba(0, 0, 0, 0.54));\n",
       "  --xr-font-color3: var(--jp-content-font-color3, rgba(0, 0, 0, 0.38));\n",
       "  --xr-border-color: var(--jp-border-color2, #e0e0e0);\n",
       "  --xr-disabled-color: var(--jp-layout-color3, #bdbdbd);\n",
       "  --xr-background-color: var(--jp-layout-color0, white);\n",
       "  --xr-background-color-row-even: var(--jp-layout-color1, white);\n",
       "  --xr-background-color-row-odd: var(--jp-layout-color2, #eeeeee);\n",
       "}\n",
       "\n",
       "html[theme=dark],\n",
       "body[data-theme=dark],\n",
       "body.vscode-dark {\n",
       "  --xr-font-color0: rgba(255, 255, 255, 1);\n",
       "  --xr-font-color2: rgba(255, 255, 255, 0.54);\n",
       "  --xr-font-color3: rgba(255, 255, 255, 0.38);\n",
       "  --xr-border-color: #1F1F1F;\n",
       "  --xr-disabled-color: #515151;\n",
       "  --xr-background-color: #111111;\n",
       "  --xr-background-color-row-even: #111111;\n",
       "  --xr-background-color-row-odd: #313131;\n",
       "}\n",
       "\n",
       ".xr-wrap {\n",
       "  display: block !important;\n",
       "  min-width: 300px;\n",
       "  max-width: 700px;\n",
       "}\n",
       "\n",
       ".xr-text-repr-fallback {\n",
       "  /* fallback to plain text repr when CSS is not injected (untrusted notebook) */\n",
       "  display: none;\n",
       "}\n",
       "\n",
       ".xr-header {\n",
       "  padding-top: 6px;\n",
       "  padding-bottom: 6px;\n",
       "  margin-bottom: 4px;\n",
       "  border-bottom: solid 1px var(--xr-border-color);\n",
       "}\n",
       "\n",
       ".xr-header > div,\n",
       ".xr-header > ul {\n",
       "  display: inline;\n",
       "  margin-top: 0;\n",
       "  margin-bottom: 0;\n",
       "}\n",
       "\n",
       ".xr-obj-type,\n",
       ".xr-array-name {\n",
       "  margin-left: 2px;\n",
       "  margin-right: 10px;\n",
       "}\n",
       "\n",
       ".xr-obj-type {\n",
       "  color: var(--xr-font-color2);\n",
       "}\n",
       "\n",
       ".xr-sections {\n",
       "  padding-left: 0 !important;\n",
       "  display: grid;\n",
       "  grid-template-columns: 150px auto auto 1fr 20px 20px;\n",
       "}\n",
       "\n",
       ".xr-section-item {\n",
       "  display: contents;\n",
       "}\n",
       "\n",
       ".xr-section-item input {\n",
       "  display: none;\n",
       "}\n",
       "\n",
       ".xr-section-item input + label {\n",
       "  color: var(--xr-disabled-color);\n",
       "}\n",
       "\n",
       ".xr-section-item input:enabled + label {\n",
       "  cursor: pointer;\n",
       "  color: var(--xr-font-color2);\n",
       "}\n",
       "\n",
       ".xr-section-item input:enabled + label:hover {\n",
       "  color: var(--xr-font-color0);\n",
       "}\n",
       "\n",
       ".xr-section-summary {\n",
       "  grid-column: 1;\n",
       "  color: var(--xr-font-color2);\n",
       "  font-weight: 500;\n",
       "}\n",
       "\n",
       ".xr-section-summary > span {\n",
       "  display: inline-block;\n",
       "  padding-left: 0.5em;\n",
       "}\n",
       "\n",
       ".xr-section-summary-in:disabled + label {\n",
       "  color: var(--xr-font-color2);\n",
       "}\n",
       "\n",
       ".xr-section-summary-in + label:before {\n",
       "  display: inline-block;\n",
       "  content: '►';\n",
       "  font-size: 11px;\n",
       "  width: 15px;\n",
       "  text-align: center;\n",
       "}\n",
       "\n",
       ".xr-section-summary-in:disabled + label:before {\n",
       "  color: var(--xr-disabled-color);\n",
       "}\n",
       "\n",
       ".xr-section-summary-in:checked + label:before {\n",
       "  content: '▼';\n",
       "}\n",
       "\n",
       ".xr-section-summary-in:checked + label > span {\n",
       "  display: none;\n",
       "}\n",
       "\n",
       ".xr-section-summary,\n",
       ".xr-section-inline-details {\n",
       "  padding-top: 4px;\n",
       "  padding-bottom: 4px;\n",
       "}\n",
       "\n",
       ".xr-section-inline-details {\n",
       "  grid-column: 2 / -1;\n",
       "}\n",
       "\n",
       ".xr-section-details {\n",
       "  display: none;\n",
       "  grid-column: 1 / -1;\n",
       "  margin-bottom: 5px;\n",
       "}\n",
       "\n",
       ".xr-section-summary-in:checked ~ .xr-section-details {\n",
       "  display: contents;\n",
       "}\n",
       "\n",
       ".xr-array-wrap {\n",
       "  grid-column: 1 / -1;\n",
       "  display: grid;\n",
       "  grid-template-columns: 20px auto;\n",
       "}\n",
       "\n",
       ".xr-array-wrap > label {\n",
       "  grid-column: 1;\n",
       "  vertical-align: top;\n",
       "}\n",
       "\n",
       ".xr-preview {\n",
       "  color: var(--xr-font-color3);\n",
       "}\n",
       "\n",
       ".xr-array-preview,\n",
       ".xr-array-data {\n",
       "  padding: 0 5px !important;\n",
       "  grid-column: 2;\n",
       "}\n",
       "\n",
       ".xr-array-data,\n",
       ".xr-array-in:checked ~ .xr-array-preview {\n",
       "  display: none;\n",
       "}\n",
       "\n",
       ".xr-array-in:checked ~ .xr-array-data,\n",
       ".xr-array-preview {\n",
       "  display: inline-block;\n",
       "}\n",
       "\n",
       ".xr-dim-list {\n",
       "  display: inline-block !important;\n",
       "  list-style: none;\n",
       "  padding: 0 !important;\n",
       "  margin: 0;\n",
       "}\n",
       "\n",
       ".xr-dim-list li {\n",
       "  display: inline-block;\n",
       "  padding: 0;\n",
       "  margin: 0;\n",
       "}\n",
       "\n",
       ".xr-dim-list:before {\n",
       "  content: '(';\n",
       "}\n",
       "\n",
       ".xr-dim-list:after {\n",
       "  content: ')';\n",
       "}\n",
       "\n",
       ".xr-dim-list li:not(:last-child):after {\n",
       "  content: ',';\n",
       "  padding-right: 5px;\n",
       "}\n",
       "\n",
       ".xr-has-index {\n",
       "  font-weight: bold;\n",
       "}\n",
       "\n",
       ".xr-var-list,\n",
       ".xr-var-item {\n",
       "  display: contents;\n",
       "}\n",
       "\n",
       ".xr-var-item > div,\n",
       ".xr-var-item label,\n",
       ".xr-var-item > .xr-var-name span {\n",
       "  background-color: var(--xr-background-color-row-even);\n",
       "  margin-bottom: 0;\n",
       "}\n",
       "\n",
       ".xr-var-item > .xr-var-name:hover span {\n",
       "  padding-right: 5px;\n",
       "}\n",
       "\n",
       ".xr-var-list > li:nth-child(odd) > div,\n",
       ".xr-var-list > li:nth-child(odd) > label,\n",
       ".xr-var-list > li:nth-child(odd) > .xr-var-name span {\n",
       "  background-color: var(--xr-background-color-row-odd);\n",
       "}\n",
       "\n",
       ".xr-var-name {\n",
       "  grid-column: 1;\n",
       "}\n",
       "\n",
       ".xr-var-dims {\n",
       "  grid-column: 2;\n",
       "}\n",
       "\n",
       ".xr-var-dtype {\n",
       "  grid-column: 3;\n",
       "  text-align: right;\n",
       "  color: var(--xr-font-color2);\n",
       "}\n",
       "\n",
       ".xr-var-preview {\n",
       "  grid-column: 4;\n",
       "}\n",
       "\n",
       ".xr-index-preview {\n",
       "  grid-column: 2 / 5;\n",
       "  color: var(--xr-font-color2);\n",
       "}\n",
       "\n",
       ".xr-var-name,\n",
       ".xr-var-dims,\n",
       ".xr-var-dtype,\n",
       ".xr-preview,\n",
       ".xr-attrs dt {\n",
       "  white-space: nowrap;\n",
       "  overflow: hidden;\n",
       "  text-overflow: ellipsis;\n",
       "  padding-right: 10px;\n",
       "}\n",
       "\n",
       ".xr-var-name:hover,\n",
       ".xr-var-dims:hover,\n",
       ".xr-var-dtype:hover,\n",
       ".xr-attrs dt:hover {\n",
       "  overflow: visible;\n",
       "  width: auto;\n",
       "  z-index: 1;\n",
       "}\n",
       "\n",
       ".xr-var-attrs,\n",
       ".xr-var-data,\n",
       ".xr-index-data {\n",
       "  display: none;\n",
       "  background-color: var(--xr-background-color) !important;\n",
       "  padding-bottom: 5px !important;\n",
       "}\n",
       "\n",
       ".xr-var-attrs-in:checked ~ .xr-var-attrs,\n",
       ".xr-var-data-in:checked ~ .xr-var-data,\n",
       ".xr-index-data-in:checked ~ .xr-index-data {\n",
       "  display: block;\n",
       "}\n",
       "\n",
       ".xr-var-data > table {\n",
       "  float: right;\n",
       "}\n",
       "\n",
       ".xr-var-name span,\n",
       ".xr-var-data,\n",
       ".xr-index-name div,\n",
       ".xr-index-data,\n",
       ".xr-attrs {\n",
       "  padding-left: 25px !important;\n",
       "}\n",
       "\n",
       ".xr-attrs,\n",
       ".xr-var-attrs,\n",
       ".xr-var-data,\n",
       ".xr-index-data {\n",
       "  grid-column: 1 / -1;\n",
       "}\n",
       "\n",
       "dl.xr-attrs {\n",
       "  padding: 0;\n",
       "  margin: 0;\n",
       "  display: grid;\n",
       "  grid-template-columns: 125px auto;\n",
       "}\n",
       "\n",
       ".xr-attrs dt,\n",
       ".xr-attrs dd {\n",
       "  padding: 0;\n",
       "  margin: 0;\n",
       "  float: left;\n",
       "  padding-right: 10px;\n",
       "  width: auto;\n",
       "}\n",
       "\n",
       ".xr-attrs dt {\n",
       "  font-weight: normal;\n",
       "  grid-column: 1;\n",
       "}\n",
       "\n",
       ".xr-attrs dt:hover span {\n",
       "  display: inline-block;\n",
       "  background: var(--xr-background-color);\n",
       "  padding-right: 10px;\n",
       "}\n",
       "\n",
       ".xr-attrs dd {\n",
       "  grid-column: 2;\n",
       "  white-space: pre-wrap;\n",
       "  word-break: break-all;\n",
       "}\n",
       "\n",
       ".xr-icon-database,\n",
       ".xr-icon-file-text2,\n",
       ".xr-no-icon {\n",
       "  display: inline-block;\n",
       "  vertical-align: middle;\n",
       "  width: 1em;\n",
       "  height: 1.5em !important;\n",
       "  stroke-width: 0;\n",
       "  stroke: currentColor;\n",
       "  fill: currentColor;\n",
       "}\n",
       "</style><pre class='xr-text-repr-fallback'>&lt;xarray.DataArray (band: 1, y: 209, x: 144)&gt;\n",
       "[30096 values with dtype=float32]\n",
       "Coordinates:\n",
       "  * band         (band) int64 1\n",
       "  * x            (x) float64 6.753e+05 6.753e+05 ... 6.767e+05 6.767e+05\n",
       "  * y            (y) float64 5.183e+06 5.183e+06 ... 5.181e+06 5.181e+06\n",
       "    spatial_ref  int64 0\n",
       "Attributes:\n",
       "    AREA_OR_POINT:        Area\n",
       "    PROCESSING_SOFTWARE:  0.22.2a1\n",
       "    _FillValue:           nan\n",
       "    scale_factor:         1.0\n",
       "    add_offset:           0.0</pre><div class='xr-wrap' style='display:none'><div class='xr-header'><div class='xr-obj-type'>xarray.DataArray</div><div class='xr-array-name'></div><ul class='xr-dim-list'><li><span class='xr-has-index'>band</span>: 1</li><li><span class='xr-has-index'>y</span>: 209</li><li><span class='xr-has-index'>x</span>: 144</li></ul></div><ul class='xr-sections'><li class='xr-section-item'><div class='xr-array-wrap'><input id='section-701a9129-98d0-4b0b-b57f-fbebf70f573a' class='xr-array-in' type='checkbox' checked><label for='section-701a9129-98d0-4b0b-b57f-fbebf70f573a' title='Show/hide data repr'><svg class='icon xr-icon-database'><use xlink:href='#icon-database'></use></svg></label><div class='xr-array-preview xr-preview'><span>...</span></div><div class='xr-array-data'><pre>[30096 values with dtype=float32]</pre></div></div></li><li class='xr-section-item'><input id='section-92cc1a99-e9b2-4ab0-ad1c-8b0f827178ca' class='xr-section-summary-in' type='checkbox'  checked><label for='section-92cc1a99-e9b2-4ab0-ad1c-8b0f827178ca' class='xr-section-summary' >Coordinates: <span>(4)</span></label><div class='xr-section-inline-details'></div><div class='xr-section-details'><ul class='xr-var-list'><li class='xr-var-item'><div class='xr-var-name'><span class='xr-has-index'>band</span></div><div class='xr-var-dims'>(band)</div><div class='xr-var-dtype'>int64</div><div class='xr-var-preview xr-preview'>1</div><input id='attrs-e93ab9b5-9189-4530-a768-fba4a2a8eb2f' class='xr-var-attrs-in' type='checkbox' disabled><label for='attrs-e93ab9b5-9189-4530-a768-fba4a2a8eb2f' title='Show/Hide attributes'><svg class='icon xr-icon-file-text2'><use xlink:href='#icon-file-text2'></use></svg></label><input id='data-ef15a249-ec25-4998-abee-c674a09d0c74' class='xr-var-data-in' type='checkbox'><label for='data-ef15a249-ec25-4998-abee-c674a09d0c74' title='Show/Hide data repr'><svg class='icon xr-icon-database'><use xlink:href='#icon-database'></use></svg></label><div class='xr-var-attrs'><dl class='xr-attrs'></dl></div><div class='xr-var-data'><pre>array([1])</pre></div></li><li class='xr-var-item'><div class='xr-var-name'><span class='xr-has-index'>x</span></div><div class='xr-var-dims'>(x)</div><div class='xr-var-dtype'>float64</div><div class='xr-var-preview xr-preview'>6.753e+05 6.753e+05 ... 6.767e+05</div><input id='attrs-77f015e8-9b9a-402c-9d8d-6a9c0e32a897' class='xr-var-attrs-in' type='checkbox' disabled><label for='attrs-77f015e8-9b9a-402c-9d8d-6a9c0e32a897' title='Show/Hide attributes'><svg class='icon xr-icon-file-text2'><use xlink:href='#icon-file-text2'></use></svg></label><input id='data-563dc49d-e36c-4e20-95ab-0140f362a831' class='xr-var-data-in' type='checkbox'><label for='data-563dc49d-e36c-4e20-95ab-0140f362a831' title='Show/Hide data repr'><svg class='icon xr-icon-database'><use xlink:href='#icon-database'></use></svg></label><div class='xr-var-attrs'><dl class='xr-attrs'></dl></div><div class='xr-var-data'><pre>array([675285., 675295., 675305., 675315., 675325., 675335., 675345., 675355.,\n",
       "       675365., 675375., 675385., 675395., 675405., 675415., 675425., 675435.,\n",
       "       675445., 675455., 675465., 675475., 675485., 675495., 675505., 675515.,\n",
       "       675525., 675535., 675545., 675555., 675565., 675575., 675585., 675595.,\n",
       "       675605., 675615., 675625., 675635., 675645., 675655., 675665., 675675.,\n",
       "       675685., 675695., 675705., 675715., 675725., 675735., 675745., 675755.,\n",
       "       675765., 675775., 675785., 675795., 675805., 675815., 675825., 675835.,\n",
       "       675845., 675855., 675865., 675875., 675885., 675895., 675905., 675915.,\n",
       "       675925., 675935., 675945., 675955., 675965., 675975., 675985., 675995.,\n",
       "       676005., 676015., 676025., 676035., 676045., 676055., 676065., 676075.,\n",
       "       676085., 676095., 676105., 676115., 676125., 676135., 676145., 676155.,\n",
       "       676165., 676175., 676185., 676195., 676205., 676215., 676225., 676235.,\n",
       "       676245., 676255., 676265., 676275., 676285., 676295., 676305., 676315.,\n",
       "       676325., 676335., 676345., 676355., 676365., 676375., 676385., 676395.,\n",
       "       676405., 676415., 676425., 676435., 676445., 676455., 676465., 676475.,\n",
       "       676485., 676495., 676505., 676515., 676525., 676535., 676545., 676555.,\n",
       "       676565., 676575., 676585., 676595., 676605., 676615., 676625., 676635.,\n",
       "       676645., 676655., 676665., 676675., 676685., 676695., 676705., 676715.])</pre></div></li><li class='xr-var-item'><div class='xr-var-name'><span class='xr-has-index'>y</span></div><div class='xr-var-dims'>(y)</div><div class='xr-var-dtype'>float64</div><div class='xr-var-preview xr-preview'>5.183e+06 5.183e+06 ... 5.181e+06</div><input id='attrs-74598031-1695-4de1-9032-55494c81c771' class='xr-var-attrs-in' type='checkbox' disabled><label for='attrs-74598031-1695-4de1-9032-55494c81c771' title='Show/Hide attributes'><svg class='icon xr-icon-file-text2'><use xlink:href='#icon-file-text2'></use></svg></label><input id='data-5206d782-58f8-4e63-a27b-4d576ab8d0fc' class='xr-var-data-in' type='checkbox'><label for='data-5206d782-58f8-4e63-a27b-4d576ab8d0fc' title='Show/Hide data repr'><svg class='icon xr-icon-database'><use xlink:href='#icon-database'></use></svg></label><div class='xr-var-attrs'><dl class='xr-attrs'></dl></div><div class='xr-var-data'><pre>array([5182695., 5182685., 5182675., ..., 5180635., 5180625., 5180615.])</pre></div></li><li class='xr-var-item'><div class='xr-var-name'><span>spatial_ref</span></div><div class='xr-var-dims'>()</div><div class='xr-var-dtype'>int64</div><div class='xr-var-preview xr-preview'>0</div><input id='attrs-d52557cc-1fc8-4e48-a1a5-bfcd67408b0a' class='xr-var-attrs-in' type='checkbox' ><label for='attrs-d52557cc-1fc8-4e48-a1a5-bfcd67408b0a' title='Show/Hide attributes'><svg class='icon xr-icon-file-text2'><use xlink:href='#icon-file-text2'></use></svg></label><input id='data-e10e0a38-70b6-4aba-b524-ab52fbd0b299' class='xr-var-data-in' type='checkbox'><label for='data-e10e0a38-70b6-4aba-b524-ab52fbd0b299' title='Show/Hide data repr'><svg class='icon xr-icon-database'><use xlink:href='#icon-database'></use></svg></label><div class='xr-var-attrs'><dl class='xr-attrs'><dt><span>crs_wkt :</span></dt><dd>PROJCS[&quot;WGS 84 / UTM zone 32N&quot;,GEOGCS[&quot;WGS 84&quot;,DATUM[&quot;WGS_1984&quot;,SPHEROID[&quot;WGS 84&quot;,6378137,298.257223563,AUTHORITY[&quot;EPSG&quot;,&quot;7030&quot;]],AUTHORITY[&quot;EPSG&quot;,&quot;6326&quot;]],PRIMEM[&quot;Greenwich&quot;,0,AUTHORITY[&quot;EPSG&quot;,&quot;8901&quot;]],UNIT[&quot;degree&quot;,0.0174532925199433,AUTHORITY[&quot;EPSG&quot;,&quot;9122&quot;]],AUTHORITY[&quot;EPSG&quot;,&quot;4326&quot;]],PROJECTION[&quot;Transverse_Mercator&quot;],PARAMETER[&quot;latitude_of_origin&quot;,0],PARAMETER[&quot;central_meridian&quot;,9],PARAMETER[&quot;scale_factor&quot;,0.9996],PARAMETER[&quot;false_easting&quot;,500000],PARAMETER[&quot;false_northing&quot;,0],UNIT[&quot;metre&quot;,1,AUTHORITY[&quot;EPSG&quot;,&quot;9001&quot;]],AXIS[&quot;Easting&quot;,EAST],AXIS[&quot;Northing&quot;,NORTH],AUTHORITY[&quot;EPSG&quot;,&quot;32632&quot;]]</dd><dt><span>semi_major_axis :</span></dt><dd>6378137.0</dd><dt><span>semi_minor_axis :</span></dt><dd>6356752.314245179</dd><dt><span>inverse_flattening :</span></dt><dd>298.257223563</dd><dt><span>reference_ellipsoid_name :</span></dt><dd>WGS 84</dd><dt><span>longitude_of_prime_meridian :</span></dt><dd>0.0</dd><dt><span>prime_meridian_name :</span></dt><dd>Greenwich</dd><dt><span>geographic_crs_name :</span></dt><dd>WGS 84</dd><dt><span>horizontal_datum_name :</span></dt><dd>World Geodetic System 1984</dd><dt><span>projected_crs_name :</span></dt><dd>WGS 84 / UTM zone 32N</dd><dt><span>grid_mapping_name :</span></dt><dd>transverse_mercator</dd><dt><span>latitude_of_projection_origin :</span></dt><dd>0.0</dd><dt><span>longitude_of_central_meridian :</span></dt><dd>9.0</dd><dt><span>false_easting :</span></dt><dd>500000.0</dd><dt><span>false_northing :</span></dt><dd>0.0</dd><dt><span>scale_factor_at_central_meridian :</span></dt><dd>0.9996</dd><dt><span>spatial_ref :</span></dt><dd>PROJCS[&quot;WGS 84 / UTM zone 32N&quot;,GEOGCS[&quot;WGS 84&quot;,DATUM[&quot;WGS_1984&quot;,SPHEROID[&quot;WGS 84&quot;,6378137,298.257223563,AUTHORITY[&quot;EPSG&quot;,&quot;7030&quot;]],AUTHORITY[&quot;EPSG&quot;,&quot;6326&quot;]],PRIMEM[&quot;Greenwich&quot;,0,AUTHORITY[&quot;EPSG&quot;,&quot;8901&quot;]],UNIT[&quot;degree&quot;,0.0174532925199433,AUTHORITY[&quot;EPSG&quot;,&quot;9122&quot;]],AUTHORITY[&quot;EPSG&quot;,&quot;4326&quot;]],PROJECTION[&quot;Transverse_Mercator&quot;],PARAMETER[&quot;latitude_of_origin&quot;,0],PARAMETER[&quot;central_meridian&quot;,9],PARAMETER[&quot;scale_factor&quot;,0.9996],PARAMETER[&quot;false_easting&quot;,500000],PARAMETER[&quot;false_northing&quot;,0],UNIT[&quot;metre&quot;,1,AUTHORITY[&quot;EPSG&quot;,&quot;9001&quot;]],AXIS[&quot;Easting&quot;,EAST],AXIS[&quot;Northing&quot;,NORTH],AUTHORITY[&quot;EPSG&quot;,&quot;32632&quot;]]</dd><dt><span>GeoTransform :</span></dt><dd>675280.0 10.0 0.0 5182700.0 0.0 -10.0</dd></dl></div><div class='xr-var-data'><pre>array(0)</pre></div></li></ul></div></li><li class='xr-section-item'><input id='section-8fb2a3f5-8869-44fa-915d-81209cec0cb0' class='xr-section-summary-in' type='checkbox'  ><label for='section-8fb2a3f5-8869-44fa-915d-81209cec0cb0' class='xr-section-summary' >Indexes: <span>(3)</span></label><div class='xr-section-inline-details'></div><div class='xr-section-details'><ul class='xr-var-list'><li class='xr-var-item'><div class='xr-index-name'><div>band</div></div><div class='xr-index-preview'>PandasIndex</div><div></div><input id='index-90d1ff6c-915a-4cd2-979d-28d0fea38d6d' class='xr-index-data-in' type='checkbox'/><label for='index-90d1ff6c-915a-4cd2-979d-28d0fea38d6d' title='Show/Hide index repr'><svg class='icon xr-icon-database'><use xlink:href='#icon-database'></use></svg></label><div class='xr-index-data'><pre>PandasIndex(Index([1], dtype=&#x27;int64&#x27;, name=&#x27;band&#x27;))</pre></div></li><li class='xr-var-item'><div class='xr-index-name'><div>x</div></div><div class='xr-index-preview'>PandasIndex</div><div></div><input id='index-bb3b2b0b-d672-4e65-9c9a-ebf1b0426b8a' class='xr-index-data-in' type='checkbox'/><label for='index-bb3b2b0b-d672-4e65-9c9a-ebf1b0426b8a' title='Show/Hide index repr'><svg class='icon xr-icon-database'><use xlink:href='#icon-database'></use></svg></label><div class='xr-index-data'><pre>PandasIndex(Index([675285.0, 675295.0, 675305.0, 675315.0, 675325.0, 675335.0, 675345.0,\n",
       "       675355.0, 675365.0, 675375.0,\n",
       "       ...\n",
       "       676625.0, 676635.0, 676645.0, 676655.0, 676665.0, 676675.0, 676685.0,\n",
       "       676695.0, 676705.0, 676715.0],\n",
       "      dtype=&#x27;float64&#x27;, name=&#x27;x&#x27;, length=144))</pre></div></li><li class='xr-var-item'><div class='xr-index-name'><div>y</div></div><div class='xr-index-preview'>PandasIndex</div><div></div><input id='index-01bb4857-b47f-47b7-b7a3-dc3d531d151b' class='xr-index-data-in' type='checkbox'/><label for='index-01bb4857-b47f-47b7-b7a3-dc3d531d151b' title='Show/Hide index repr'><svg class='icon xr-icon-database'><use xlink:href='#icon-database'></use></svg></label><div class='xr-index-data'><pre>PandasIndex(Index([5182695.0, 5182685.0, 5182675.0, 5182665.0, 5182655.0, 5182645.0,\n",
       "       5182635.0, 5182625.0, 5182615.0, 5182605.0,\n",
       "       ...\n",
       "       5180705.0, 5180695.0, 5180685.0, 5180675.0, 5180665.0, 5180655.0,\n",
       "       5180645.0, 5180635.0, 5180625.0, 5180615.0],\n",
       "      dtype=&#x27;float64&#x27;, name=&#x27;y&#x27;, length=209))</pre></div></li></ul></div></li><li class='xr-section-item'><input id='section-9be075fd-f989-4bf2-afcd-42c653d96485' class='xr-section-summary-in' type='checkbox'  checked><label for='section-9be075fd-f989-4bf2-afcd-42c653d96485' class='xr-section-summary' >Attributes: <span>(5)</span></label><div class='xr-section-inline-details'></div><div class='xr-section-details'><dl class='xr-attrs'><dt><span>AREA_OR_POINT :</span></dt><dd>Area</dd><dt><span>PROCESSING_SOFTWARE :</span></dt><dd>0.22.2a1</dd><dt><span>_FillValue :</span></dt><dd>nan</dd><dt><span>scale_factor :</span></dt><dd>1.0</dd><dt><span>add_offset :</span></dt><dd>0.0</dd></dl></div></li></ul></div></div>"
      ],
      "text/plain": [
       "<xarray.DataArray (band: 1, y: 209, x: 144)>\n",
       "[30096 values with dtype=float32]\n",
       "Coordinates:\n",
       "  * band         (band) int64 1\n",
       "  * x            (x) float64 6.753e+05 6.753e+05 ... 6.767e+05 6.767e+05\n",
       "  * y            (y) float64 5.183e+06 5.183e+06 ... 5.181e+06 5.181e+06\n",
       "    spatial_ref  int64 0\n",
       "Attributes:\n",
       "    AREA_OR_POINT:        Area\n",
       "    PROCESSING_SOFTWARE:  0.22.2a1\n",
       "    _FillValue:           nan\n",
       "    scale_factor:         1.0\n",
       "    add_offset:           0.0"
      ]
     },
     "execution_count": 67,
     "metadata": {},
     "output_type": "execute_result"
    }
   ],
   "source": [
    "snowmap = rio.open_rasterio(\"33_results/openEO.tif\", decode_coords=\"all\")\n",
    "snowmap"
   ]
  },
  {
   "cell_type": "code",
   "execution_count": 51,
   "id": "56955f16-4b7e-4f22-a786-9db355984694",
   "metadata": {
    "tags": []
   },
   "outputs": [
    {
     "data": {
      "text/html": [
       "<div><svg style=\"position: absolute; width: 0; height: 0; overflow: hidden\">\n",
       "<defs>\n",
       "<symbol id=\"icon-database\" viewBox=\"0 0 32 32\">\n",
       "<path d=\"M16 0c-8.837 0-16 2.239-16 5v4c0 2.761 7.163 5 16 5s16-2.239 16-5v-4c0-2.761-7.163-5-16-5z\"></path>\n",
       "<path d=\"M16 17c-8.837 0-16-2.239-16-5v6c0 2.761 7.163 5 16 5s16-2.239 16-5v-6c0 2.761-7.163 5-16 5z\"></path>\n",
       "<path d=\"M16 26c-8.837 0-16-2.239-16-5v6c0 2.761 7.163 5 16 5s16-2.239 16-5v-6c0 2.761-7.163 5-16 5z\"></path>\n",
       "</symbol>\n",
       "<symbol id=\"icon-file-text2\" viewBox=\"0 0 32 32\">\n",
       "<path d=\"M28.681 7.159c-0.694-0.947-1.662-2.053-2.724-3.116s-2.169-2.030-3.116-2.724c-1.612-1.182-2.393-1.319-2.841-1.319h-15.5c-1.378 0-2.5 1.121-2.5 2.5v27c0 1.378 1.122 2.5 2.5 2.5h23c1.378 0 2.5-1.122 2.5-2.5v-19.5c0-0.448-0.137-1.23-1.319-2.841zM24.543 5.457c0.959 0.959 1.712 1.825 2.268 2.543h-4.811v-4.811c0.718 0.556 1.584 1.309 2.543 2.268zM28 29.5c0 0.271-0.229 0.5-0.5 0.5h-23c-0.271 0-0.5-0.229-0.5-0.5v-27c0-0.271 0.229-0.5 0.5-0.5 0 0 15.499-0 15.5 0v7c0 0.552 0.448 1 1 1h7v19.5z\"></path>\n",
       "<path d=\"M23 26h-14c-0.552 0-1-0.448-1-1s0.448-1 1-1h14c0.552 0 1 0.448 1 1s-0.448 1-1 1z\"></path>\n",
       "<path d=\"M23 22h-14c-0.552 0-1-0.448-1-1s0.448-1 1-1h14c0.552 0 1 0.448 1 1s-0.448 1-1 1z\"></path>\n",
       "<path d=\"M23 18h-14c-0.552 0-1-0.448-1-1s0.448-1 1-1h14c0.552 0 1 0.448 1 1s-0.448 1-1 1z\"></path>\n",
       "</symbol>\n",
       "</defs>\n",
       "</svg>\n",
       "<style>/* CSS stylesheet for displaying xarray objects in jupyterlab.\n",
       " *\n",
       " */\n",
       "\n",
       ":root {\n",
       "  --xr-font-color0: var(--jp-content-font-color0, rgba(0, 0, 0, 1));\n",
       "  --xr-font-color2: var(--jp-content-font-color2, rgba(0, 0, 0, 0.54));\n",
       "  --xr-font-color3: var(--jp-content-font-color3, rgba(0, 0, 0, 0.38));\n",
       "  --xr-border-color: var(--jp-border-color2, #e0e0e0);\n",
       "  --xr-disabled-color: var(--jp-layout-color3, #bdbdbd);\n",
       "  --xr-background-color: var(--jp-layout-color0, white);\n",
       "  --xr-background-color-row-even: var(--jp-layout-color1, white);\n",
       "  --xr-background-color-row-odd: var(--jp-layout-color2, #eeeeee);\n",
       "}\n",
       "\n",
       "html[theme=dark],\n",
       "body[data-theme=dark],\n",
       "body.vscode-dark {\n",
       "  --xr-font-color0: rgba(255, 255, 255, 1);\n",
       "  --xr-font-color2: rgba(255, 255, 255, 0.54);\n",
       "  --xr-font-color3: rgba(255, 255, 255, 0.38);\n",
       "  --xr-border-color: #1F1F1F;\n",
       "  --xr-disabled-color: #515151;\n",
       "  --xr-background-color: #111111;\n",
       "  --xr-background-color-row-even: #111111;\n",
       "  --xr-background-color-row-odd: #313131;\n",
       "}\n",
       "\n",
       ".xr-wrap {\n",
       "  display: block !important;\n",
       "  min-width: 300px;\n",
       "  max-width: 700px;\n",
       "}\n",
       "\n",
       ".xr-text-repr-fallback {\n",
       "  /* fallback to plain text repr when CSS is not injected (untrusted notebook) */\n",
       "  display: none;\n",
       "}\n",
       "\n",
       ".xr-header {\n",
       "  padding-top: 6px;\n",
       "  padding-bottom: 6px;\n",
       "  margin-bottom: 4px;\n",
       "  border-bottom: solid 1px var(--xr-border-color);\n",
       "}\n",
       "\n",
       ".xr-header > div,\n",
       ".xr-header > ul {\n",
       "  display: inline;\n",
       "  margin-top: 0;\n",
       "  margin-bottom: 0;\n",
       "}\n",
       "\n",
       ".xr-obj-type,\n",
       ".xr-array-name {\n",
       "  margin-left: 2px;\n",
       "  margin-right: 10px;\n",
       "}\n",
       "\n",
       ".xr-obj-type {\n",
       "  color: var(--xr-font-color2);\n",
       "}\n",
       "\n",
       ".xr-sections {\n",
       "  padding-left: 0 !important;\n",
       "  display: grid;\n",
       "  grid-template-columns: 150px auto auto 1fr 20px 20px;\n",
       "}\n",
       "\n",
       ".xr-section-item {\n",
       "  display: contents;\n",
       "}\n",
       "\n",
       ".xr-section-item input {\n",
       "  display: none;\n",
       "}\n",
       "\n",
       ".xr-section-item input + label {\n",
       "  color: var(--xr-disabled-color);\n",
       "}\n",
       "\n",
       ".xr-section-item input:enabled + label {\n",
       "  cursor: pointer;\n",
       "  color: var(--xr-font-color2);\n",
       "}\n",
       "\n",
       ".xr-section-item input:enabled + label:hover {\n",
       "  color: var(--xr-font-color0);\n",
       "}\n",
       "\n",
       ".xr-section-summary {\n",
       "  grid-column: 1;\n",
       "  color: var(--xr-font-color2);\n",
       "  font-weight: 500;\n",
       "}\n",
       "\n",
       ".xr-section-summary > span {\n",
       "  display: inline-block;\n",
       "  padding-left: 0.5em;\n",
       "}\n",
       "\n",
       ".xr-section-summary-in:disabled + label {\n",
       "  color: var(--xr-font-color2);\n",
       "}\n",
       "\n",
       ".xr-section-summary-in + label:before {\n",
       "  display: inline-block;\n",
       "  content: '►';\n",
       "  font-size: 11px;\n",
       "  width: 15px;\n",
       "  text-align: center;\n",
       "}\n",
       "\n",
       ".xr-section-summary-in:disabled + label:before {\n",
       "  color: var(--xr-disabled-color);\n",
       "}\n",
       "\n",
       ".xr-section-summary-in:checked + label:before {\n",
       "  content: '▼';\n",
       "}\n",
       "\n",
       ".xr-section-summary-in:checked + label > span {\n",
       "  display: none;\n",
       "}\n",
       "\n",
       ".xr-section-summary,\n",
       ".xr-section-inline-details {\n",
       "  padding-top: 4px;\n",
       "  padding-bottom: 4px;\n",
       "}\n",
       "\n",
       ".xr-section-inline-details {\n",
       "  grid-column: 2 / -1;\n",
       "}\n",
       "\n",
       ".xr-section-details {\n",
       "  display: none;\n",
       "  grid-column: 1 / -1;\n",
       "  margin-bottom: 5px;\n",
       "}\n",
       "\n",
       ".xr-section-summary-in:checked ~ .xr-section-details {\n",
       "  display: contents;\n",
       "}\n",
       "\n",
       ".xr-array-wrap {\n",
       "  grid-column: 1 / -1;\n",
       "  display: grid;\n",
       "  grid-template-columns: 20px auto;\n",
       "}\n",
       "\n",
       ".xr-array-wrap > label {\n",
       "  grid-column: 1;\n",
       "  vertical-align: top;\n",
       "}\n",
       "\n",
       ".xr-preview {\n",
       "  color: var(--xr-font-color3);\n",
       "}\n",
       "\n",
       ".xr-array-preview,\n",
       ".xr-array-data {\n",
       "  padding: 0 5px !important;\n",
       "  grid-column: 2;\n",
       "}\n",
       "\n",
       ".xr-array-data,\n",
       ".xr-array-in:checked ~ .xr-array-preview {\n",
       "  display: none;\n",
       "}\n",
       "\n",
       ".xr-array-in:checked ~ .xr-array-data,\n",
       ".xr-array-preview {\n",
       "  display: inline-block;\n",
       "}\n",
       "\n",
       ".xr-dim-list {\n",
       "  display: inline-block !important;\n",
       "  list-style: none;\n",
       "  padding: 0 !important;\n",
       "  margin: 0;\n",
       "}\n",
       "\n",
       ".xr-dim-list li {\n",
       "  display: inline-block;\n",
       "  padding: 0;\n",
       "  margin: 0;\n",
       "}\n",
       "\n",
       ".xr-dim-list:before {\n",
       "  content: '(';\n",
       "}\n",
       "\n",
       ".xr-dim-list:after {\n",
       "  content: ')';\n",
       "}\n",
       "\n",
       ".xr-dim-list li:not(:last-child):after {\n",
       "  content: ',';\n",
       "  padding-right: 5px;\n",
       "}\n",
       "\n",
       ".xr-has-index {\n",
       "  font-weight: bold;\n",
       "}\n",
       "\n",
       ".xr-var-list,\n",
       ".xr-var-item {\n",
       "  display: contents;\n",
       "}\n",
       "\n",
       ".xr-var-item > div,\n",
       ".xr-var-item label,\n",
       ".xr-var-item > .xr-var-name span {\n",
       "  background-color: var(--xr-background-color-row-even);\n",
       "  margin-bottom: 0;\n",
       "}\n",
       "\n",
       ".xr-var-item > .xr-var-name:hover span {\n",
       "  padding-right: 5px;\n",
       "}\n",
       "\n",
       ".xr-var-list > li:nth-child(odd) > div,\n",
       ".xr-var-list > li:nth-child(odd) > label,\n",
       ".xr-var-list > li:nth-child(odd) > .xr-var-name span {\n",
       "  background-color: var(--xr-background-color-row-odd);\n",
       "}\n",
       "\n",
       ".xr-var-name {\n",
       "  grid-column: 1;\n",
       "}\n",
       "\n",
       ".xr-var-dims {\n",
       "  grid-column: 2;\n",
       "}\n",
       "\n",
       ".xr-var-dtype {\n",
       "  grid-column: 3;\n",
       "  text-align: right;\n",
       "  color: var(--xr-font-color2);\n",
       "}\n",
       "\n",
       ".xr-var-preview {\n",
       "  grid-column: 4;\n",
       "}\n",
       "\n",
       ".xr-index-preview {\n",
       "  grid-column: 2 / 5;\n",
       "  color: var(--xr-font-color2);\n",
       "}\n",
       "\n",
       ".xr-var-name,\n",
       ".xr-var-dims,\n",
       ".xr-var-dtype,\n",
       ".xr-preview,\n",
       ".xr-attrs dt {\n",
       "  white-space: nowrap;\n",
       "  overflow: hidden;\n",
       "  text-overflow: ellipsis;\n",
       "  padding-right: 10px;\n",
       "}\n",
       "\n",
       ".xr-var-name:hover,\n",
       ".xr-var-dims:hover,\n",
       ".xr-var-dtype:hover,\n",
       ".xr-attrs dt:hover {\n",
       "  overflow: visible;\n",
       "  width: auto;\n",
       "  z-index: 1;\n",
       "}\n",
       "\n",
       ".xr-var-attrs,\n",
       ".xr-var-data,\n",
       ".xr-index-data {\n",
       "  display: none;\n",
       "  background-color: var(--xr-background-color) !important;\n",
       "  padding-bottom: 5px !important;\n",
       "}\n",
       "\n",
       ".xr-var-attrs-in:checked ~ .xr-var-attrs,\n",
       ".xr-var-data-in:checked ~ .xr-var-data,\n",
       ".xr-index-data-in:checked ~ .xr-index-data {\n",
       "  display: block;\n",
       "}\n",
       "\n",
       ".xr-var-data > table {\n",
       "  float: right;\n",
       "}\n",
       "\n",
       ".xr-var-name span,\n",
       ".xr-var-data,\n",
       ".xr-index-name div,\n",
       ".xr-index-data,\n",
       ".xr-attrs {\n",
       "  padding-left: 25px !important;\n",
       "}\n",
       "\n",
       ".xr-attrs,\n",
       ".xr-var-attrs,\n",
       ".xr-var-data,\n",
       ".xr-index-data {\n",
       "  grid-column: 1 / -1;\n",
       "}\n",
       "\n",
       "dl.xr-attrs {\n",
       "  padding: 0;\n",
       "  margin: 0;\n",
       "  display: grid;\n",
       "  grid-template-columns: 125px auto;\n",
       "}\n",
       "\n",
       ".xr-attrs dt,\n",
       ".xr-attrs dd {\n",
       "  padding: 0;\n",
       "  margin: 0;\n",
       "  float: left;\n",
       "  padding-right: 10px;\n",
       "  width: auto;\n",
       "}\n",
       "\n",
       ".xr-attrs dt {\n",
       "  font-weight: normal;\n",
       "  grid-column: 1;\n",
       "}\n",
       "\n",
       ".xr-attrs dt:hover span {\n",
       "  display: inline-block;\n",
       "  background: var(--xr-background-color);\n",
       "  padding-right: 10px;\n",
       "}\n",
       "\n",
       ".xr-attrs dd {\n",
       "  grid-column: 2;\n",
       "  white-space: pre-wrap;\n",
       "  word-break: break-all;\n",
       "}\n",
       "\n",
       ".xr-icon-database,\n",
       ".xr-icon-file-text2,\n",
       ".xr-no-icon {\n",
       "  display: inline-block;\n",
       "  vertical-align: middle;\n",
       "  width: 1em;\n",
       "  height: 1.5em !important;\n",
       "  stroke-width: 0;\n",
       "  stroke: currentColor;\n",
       "  fill: currentColor;\n",
       "}\n",
       "</style><pre class='xr-text-repr-fallback'>&lt;xarray.DataArray (y: 209, x: 144)&gt;\n",
       "array([[1, 1, 1, ..., 1, 1, 1],\n",
       "       [1, 1, 1, ..., 1, 1, 1],\n",
       "       [1, 1, 1, ..., 1, 1, 1],\n",
       "       ...,\n",
       "       [1, 1, 1, ..., 1, 1, 1],\n",
       "       [1, 1, 1, ..., 1, 1, 1],\n",
       "       [1, 1, 1, ..., 1, 1, 1]], dtype=uint8)\n",
       "Coordinates:\n",
       "    band         int64 1\n",
       "  * x            (x) float64 6.753e+05 6.753e+05 ... 6.767e+05 6.767e+05\n",
       "  * y            (y) float64 5.183e+06 5.183e+06 ... 5.181e+06 5.181e+06\n",
       "    spatial_ref  int64 0\n",
       "Attributes:\n",
       "    AREA_OR_POINT:        Area\n",
       "    PROCESSING_SOFTWARE:  0.22.2a1\n",
       "    _FillValue:           nan\n",
       "    scale_factor:         1.0\n",
       "    add_offset:           0.0</pre><div class='xr-wrap' style='display:none'><div class='xr-header'><div class='xr-obj-type'>xarray.DataArray</div><div class='xr-array-name'></div><ul class='xr-dim-list'><li><span class='xr-has-index'>y</span>: 209</li><li><span class='xr-has-index'>x</span>: 144</li></ul></div><ul class='xr-sections'><li class='xr-section-item'><div class='xr-array-wrap'><input id='section-b35e54c2-d699-4e30-8a59-9c68eead50e0' class='xr-array-in' type='checkbox' checked><label for='section-b35e54c2-d699-4e30-8a59-9c68eead50e0' title='Show/hide data repr'><svg class='icon xr-icon-database'><use xlink:href='#icon-database'></use></svg></label><div class='xr-array-preview xr-preview'><span>1 1 1 1 1 1 1 1 1 1 1 1 1 1 1 1 1 ... 1 1 1 1 1 1 1 1 1 1 1 1 1 1 1 1</span></div><div class='xr-array-data'><pre>array([[1, 1, 1, ..., 1, 1, 1],\n",
       "       [1, 1, 1, ..., 1, 1, 1],\n",
       "       [1, 1, 1, ..., 1, 1, 1],\n",
       "       ...,\n",
       "       [1, 1, 1, ..., 1, 1, 1],\n",
       "       [1, 1, 1, ..., 1, 1, 1],\n",
       "       [1, 1, 1, ..., 1, 1, 1]], dtype=uint8)</pre></div></div></li><li class='xr-section-item'><input id='section-3e36216c-ff42-4a30-927b-2743311cf328' class='xr-section-summary-in' type='checkbox'  checked><label for='section-3e36216c-ff42-4a30-927b-2743311cf328' class='xr-section-summary' >Coordinates: <span>(4)</span></label><div class='xr-section-inline-details'></div><div class='xr-section-details'><ul class='xr-var-list'><li class='xr-var-item'><div class='xr-var-name'><span>band</span></div><div class='xr-var-dims'>()</div><div class='xr-var-dtype'>int64</div><div class='xr-var-preview xr-preview'>1</div><input id='attrs-0469d08f-7807-48a1-86f7-0e1e1c9663df' class='xr-var-attrs-in' type='checkbox' disabled><label for='attrs-0469d08f-7807-48a1-86f7-0e1e1c9663df' title='Show/Hide attributes'><svg class='icon xr-icon-file-text2'><use xlink:href='#icon-file-text2'></use></svg></label><input id='data-f9a13588-53c6-40ab-9d70-c6970530aa21' class='xr-var-data-in' type='checkbox'><label for='data-f9a13588-53c6-40ab-9d70-c6970530aa21' title='Show/Hide data repr'><svg class='icon xr-icon-database'><use xlink:href='#icon-database'></use></svg></label><div class='xr-var-attrs'><dl class='xr-attrs'></dl></div><div class='xr-var-data'><pre>array(1)</pre></div></li><li class='xr-var-item'><div class='xr-var-name'><span class='xr-has-index'>x</span></div><div class='xr-var-dims'>(x)</div><div class='xr-var-dtype'>float64</div><div class='xr-var-preview xr-preview'>6.753e+05 6.753e+05 ... 6.767e+05</div><input id='attrs-2af77189-6641-4f51-b71f-0b14c39fc019' class='xr-var-attrs-in' type='checkbox' disabled><label for='attrs-2af77189-6641-4f51-b71f-0b14c39fc019' title='Show/Hide attributes'><svg class='icon xr-icon-file-text2'><use xlink:href='#icon-file-text2'></use></svg></label><input id='data-be947216-6a8a-4ae2-9eeb-ab64c1db9872' class='xr-var-data-in' type='checkbox'><label for='data-be947216-6a8a-4ae2-9eeb-ab64c1db9872' title='Show/Hide data repr'><svg class='icon xr-icon-database'><use xlink:href='#icon-database'></use></svg></label><div class='xr-var-attrs'><dl class='xr-attrs'></dl></div><div class='xr-var-data'><pre>array([675285., 675295., 675305., 675315., 675325., 675335., 675345., 675355.,\n",
       "       675365., 675375., 675385., 675395., 675405., 675415., 675425., 675435.,\n",
       "       675445., 675455., 675465., 675475., 675485., 675495., 675505., 675515.,\n",
       "       675525., 675535., 675545., 675555., 675565., 675575., 675585., 675595.,\n",
       "       675605., 675615., 675625., 675635., 675645., 675655., 675665., 675675.,\n",
       "       675685., 675695., 675705., 675715., 675725., 675735., 675745., 675755.,\n",
       "       675765., 675775., 675785., 675795., 675805., 675815., 675825., 675835.,\n",
       "       675845., 675855., 675865., 675875., 675885., 675895., 675905., 675915.,\n",
       "       675925., 675935., 675945., 675955., 675965., 675975., 675985., 675995.,\n",
       "       676005., 676015., 676025., 676035., 676045., 676055., 676065., 676075.,\n",
       "       676085., 676095., 676105., 676115., 676125., 676135., 676145., 676155.,\n",
       "       676165., 676175., 676185., 676195., 676205., 676215., 676225., 676235.,\n",
       "       676245., 676255., 676265., 676275., 676285., 676295., 676305., 676315.,\n",
       "       676325., 676335., 676345., 676355., 676365., 676375., 676385., 676395.,\n",
       "       676405., 676415., 676425., 676435., 676445., 676455., 676465., 676475.,\n",
       "       676485., 676495., 676505., 676515., 676525., 676535., 676545., 676555.,\n",
       "       676565., 676575., 676585., 676595., 676605., 676615., 676625., 676635.,\n",
       "       676645., 676655., 676665., 676675., 676685., 676695., 676705., 676715.])</pre></div></li><li class='xr-var-item'><div class='xr-var-name'><span class='xr-has-index'>y</span></div><div class='xr-var-dims'>(y)</div><div class='xr-var-dtype'>float64</div><div class='xr-var-preview xr-preview'>5.183e+06 5.183e+06 ... 5.181e+06</div><input id='attrs-d2d01b20-7fc2-4362-b29b-1d2bc32dfaf3' class='xr-var-attrs-in' type='checkbox' disabled><label for='attrs-d2d01b20-7fc2-4362-b29b-1d2bc32dfaf3' title='Show/Hide attributes'><svg class='icon xr-icon-file-text2'><use xlink:href='#icon-file-text2'></use></svg></label><input id='data-01776f99-a595-407e-b19f-9b653187080b' class='xr-var-data-in' type='checkbox'><label for='data-01776f99-a595-407e-b19f-9b653187080b' title='Show/Hide data repr'><svg class='icon xr-icon-database'><use xlink:href='#icon-database'></use></svg></label><div class='xr-var-attrs'><dl class='xr-attrs'></dl></div><div class='xr-var-data'><pre>array([5182695., 5182685., 5182675., ..., 5180635., 5180625., 5180615.])</pre></div></li><li class='xr-var-item'><div class='xr-var-name'><span>spatial_ref</span></div><div class='xr-var-dims'>()</div><div class='xr-var-dtype'>int64</div><div class='xr-var-preview xr-preview'>0</div><input id='attrs-ec9a6de4-6794-42c7-9b8e-0a74246ff32d' class='xr-var-attrs-in' type='checkbox' ><label for='attrs-ec9a6de4-6794-42c7-9b8e-0a74246ff32d' title='Show/Hide attributes'><svg class='icon xr-icon-file-text2'><use xlink:href='#icon-file-text2'></use></svg></label><input id='data-e3ab1465-3569-4f7f-a897-87f3a88f118d' class='xr-var-data-in' type='checkbox'><label for='data-e3ab1465-3569-4f7f-a897-87f3a88f118d' title='Show/Hide data repr'><svg class='icon xr-icon-database'><use xlink:href='#icon-database'></use></svg></label><div class='xr-var-attrs'><dl class='xr-attrs'><dt><span>crs_wkt :</span></dt><dd>PROJCS[&quot;WGS 84 / UTM zone 32N&quot;,GEOGCS[&quot;WGS 84&quot;,DATUM[&quot;WGS_1984&quot;,SPHEROID[&quot;WGS 84&quot;,6378137,298.257223563,AUTHORITY[&quot;EPSG&quot;,&quot;7030&quot;]],AUTHORITY[&quot;EPSG&quot;,&quot;6326&quot;]],PRIMEM[&quot;Greenwich&quot;,0,AUTHORITY[&quot;EPSG&quot;,&quot;8901&quot;]],UNIT[&quot;degree&quot;,0.0174532925199433,AUTHORITY[&quot;EPSG&quot;,&quot;9122&quot;]],AUTHORITY[&quot;EPSG&quot;,&quot;4326&quot;]],PROJECTION[&quot;Transverse_Mercator&quot;],PARAMETER[&quot;latitude_of_origin&quot;,0],PARAMETER[&quot;central_meridian&quot;,9],PARAMETER[&quot;scale_factor&quot;,0.9996],PARAMETER[&quot;false_easting&quot;,500000],PARAMETER[&quot;false_northing&quot;,0],UNIT[&quot;metre&quot;,1,AUTHORITY[&quot;EPSG&quot;,&quot;9001&quot;]],AXIS[&quot;Easting&quot;,EAST],AXIS[&quot;Northing&quot;,NORTH],AUTHORITY[&quot;EPSG&quot;,&quot;32632&quot;]]</dd><dt><span>semi_major_axis :</span></dt><dd>6378137.0</dd><dt><span>semi_minor_axis :</span></dt><dd>6356752.314245179</dd><dt><span>inverse_flattening :</span></dt><dd>298.257223563</dd><dt><span>reference_ellipsoid_name :</span></dt><dd>WGS 84</dd><dt><span>longitude_of_prime_meridian :</span></dt><dd>0.0</dd><dt><span>prime_meridian_name :</span></dt><dd>Greenwich</dd><dt><span>geographic_crs_name :</span></dt><dd>WGS 84</dd><dt><span>horizontal_datum_name :</span></dt><dd>World Geodetic System 1984</dd><dt><span>projected_crs_name :</span></dt><dd>WGS 84 / UTM zone 32N</dd><dt><span>grid_mapping_name :</span></dt><dd>transverse_mercator</dd><dt><span>latitude_of_projection_origin :</span></dt><dd>0.0</dd><dt><span>longitude_of_central_meridian :</span></dt><dd>9.0</dd><dt><span>false_easting :</span></dt><dd>500000.0</dd><dt><span>false_northing :</span></dt><dd>0.0</dd><dt><span>scale_factor_at_central_meridian :</span></dt><dd>0.9996</dd><dt><span>spatial_ref :</span></dt><dd>PROJCS[&quot;WGS 84 / UTM zone 32N&quot;,GEOGCS[&quot;WGS 84&quot;,DATUM[&quot;WGS_1984&quot;,SPHEROID[&quot;WGS 84&quot;,6378137,298.257223563,AUTHORITY[&quot;EPSG&quot;,&quot;7030&quot;]],AUTHORITY[&quot;EPSG&quot;,&quot;6326&quot;]],PRIMEM[&quot;Greenwich&quot;,0,AUTHORITY[&quot;EPSG&quot;,&quot;8901&quot;]],UNIT[&quot;degree&quot;,0.0174532925199433,AUTHORITY[&quot;EPSG&quot;,&quot;9122&quot;]],AUTHORITY[&quot;EPSG&quot;,&quot;4326&quot;]],PROJECTION[&quot;Transverse_Mercator&quot;],PARAMETER[&quot;latitude_of_origin&quot;,0],PARAMETER[&quot;central_meridian&quot;,9],PARAMETER[&quot;scale_factor&quot;,0.9996],PARAMETER[&quot;false_easting&quot;,500000],PARAMETER[&quot;false_northing&quot;,0],UNIT[&quot;metre&quot;,1,AUTHORITY[&quot;EPSG&quot;,&quot;9001&quot;]],AXIS[&quot;Easting&quot;,EAST],AXIS[&quot;Northing&quot;,NORTH],AUTHORITY[&quot;EPSG&quot;,&quot;32632&quot;]]</dd><dt><span>GeoTransform :</span></dt><dd>675280.0 10.0 0.0 5182700.0 0.0 -10.0</dd></dl></div><div class='xr-var-data'><pre>array(0)</pre></div></li></ul></div></li><li class='xr-section-item'><input id='section-5697a274-39d6-4a1a-9ed4-7f5b357de35b' class='xr-section-summary-in' type='checkbox'  ><label for='section-5697a274-39d6-4a1a-9ed4-7f5b357de35b' class='xr-section-summary' >Indexes: <span>(2)</span></label><div class='xr-section-inline-details'></div><div class='xr-section-details'><ul class='xr-var-list'><li class='xr-var-item'><div class='xr-index-name'><div>x</div></div><div class='xr-index-preview'>PandasIndex</div><div></div><input id='index-38accfa0-a5e7-408e-950d-a86d96051962' class='xr-index-data-in' type='checkbox'/><label for='index-38accfa0-a5e7-408e-950d-a86d96051962' title='Show/Hide index repr'><svg class='icon xr-icon-database'><use xlink:href='#icon-database'></use></svg></label><div class='xr-index-data'><pre>PandasIndex(Index([675285.0, 675295.0, 675305.0, 675315.0, 675325.0, 675335.0, 675345.0,\n",
       "       675355.0, 675365.0, 675375.0,\n",
       "       ...\n",
       "       676625.0, 676635.0, 676645.0, 676655.0, 676665.0, 676675.0, 676685.0,\n",
       "       676695.0, 676705.0, 676715.0],\n",
       "      dtype=&#x27;float64&#x27;, name=&#x27;x&#x27;, length=144))</pre></div></li><li class='xr-var-item'><div class='xr-index-name'><div>y</div></div><div class='xr-index-preview'>PandasIndex</div><div></div><input id='index-3b1d0641-a332-4844-a556-8fbaec5d7a62' class='xr-index-data-in' type='checkbox'/><label for='index-3b1d0641-a332-4844-a556-8fbaec5d7a62' title='Show/Hide index repr'><svg class='icon xr-icon-database'><use xlink:href='#icon-database'></use></svg></label><div class='xr-index-data'><pre>PandasIndex(Index([5182695.0, 5182685.0, 5182675.0, 5182665.0, 5182655.0, 5182645.0,\n",
       "       5182635.0, 5182625.0, 5182615.0, 5182605.0,\n",
       "       ...\n",
       "       5180705.0, 5180695.0, 5180685.0, 5180675.0, 5180665.0, 5180655.0,\n",
       "       5180645.0, 5180635.0, 5180625.0, 5180615.0],\n",
       "      dtype=&#x27;float64&#x27;, name=&#x27;y&#x27;, length=209))</pre></div></li></ul></div></li><li class='xr-section-item'><input id='section-59e946e1-17fd-46c8-afe6-9a4982ae10bf' class='xr-section-summary-in' type='checkbox'  checked><label for='section-59e946e1-17fd-46c8-afe6-9a4982ae10bf' class='xr-section-summary' >Attributes: <span>(5)</span></label><div class='xr-section-inline-details'></div><div class='xr-section-details'><dl class='xr-attrs'><dt><span>AREA_OR_POINT :</span></dt><dd>Area</dd><dt><span>PROCESSING_SOFTWARE :</span></dt><dd>0.22.2a1</dd><dt><span>_FillValue :</span></dt><dd>nan</dd><dt><span>scale_factor :</span></dt><dd>1.0</dd><dt><span>add_offset :</span></dt><dd>0.0</dd></dl></div></li></ul></div></div>"
      ],
      "text/plain": [
       "<xarray.DataArray (y: 209, x: 144)>\n",
       "array([[1, 1, 1, ..., 1, 1, 1],\n",
       "       [1, 1, 1, ..., 1, 1, 1],\n",
       "       [1, 1, 1, ..., 1, 1, 1],\n",
       "       ...,\n",
       "       [1, 1, 1, ..., 1, 1, 1],\n",
       "       [1, 1, 1, ..., 1, 1, 1],\n",
       "       [1, 1, 1, ..., 1, 1, 1]], dtype=uint8)\n",
       "Coordinates:\n",
       "    band         int64 1\n",
       "  * x            (x) float64 6.753e+05 6.753e+05 ... 6.767e+05 6.767e+05\n",
       "  * y            (y) float64 5.183e+06 5.183e+06 ... 5.181e+06 5.181e+06\n",
       "    spatial_ref  int64 0\n",
       "Attributes:\n",
       "    AREA_OR_POINT:        Area\n",
       "    PROCESSING_SOFTWARE:  0.22.2a1\n",
       "    _FillValue:           nan\n",
       "    scale_factor:         1.0\n",
       "    add_offset:           0.0"
      ]
     },
     "execution_count": 51,
     "metadata": {},
     "output_type": "execute_result"
    }
   ],
   "source": [
    "snowmap.sel(band=1)"
   ]
  },
  {
   "cell_type": "code",
   "execution_count": 33,
   "id": "591fdff7-3b0a-4454-9c44-7a3691bf1e6d",
   "metadata": {
    "tags": []
   },
   "outputs": [],
   "source": [
    "# !gdal_translate -ot Byte -of GTiff \"cubes-and-clouds/lectures/3.3_data_sharing/3.3_exercises/33_results/OpenEO.tif\" \"cubes-and-clouds/lectures/3.3_data_sharing/3.3_exercises/33_results/OpenEO.tif\""
   ]
  },
  {
   "cell_type": "code",
   "execution_count": 18,
   "id": "147d9058-ccc7-4700-8a43-f6fecab55bc6",
   "metadata": {
    "tags": []
   },
   "outputs": [
    {
     "data": {
      "text/plain": [
       "<matplotlib.collections.QuadMesh at 0x7fd8e9eb8210>"
      ]
     },
     "execution_count": 18,
     "metadata": {},
     "output_type": "execute_result"
    },
    {
     "data": {
      "image/png": "[encoded data removed]",
      "text/plain": [
       "<Figure size 640x480 with 2 Axes>"
      ]
     },
     "metadata": {},
     "output_type": "display_data"
    }
   ],
   "source": [
    "snowmap.plot()"
   ]
  },
  {
   "cell_type": "markdown",
   "id": "65b9ec26-14be-4599-80a1-b44bde541a98",
   "metadata": {},
   "source": [
    "## Load STAC metadata\n",
    "In addition to the COG we also receive STAC metadata for our result.\n",
    "Let's have a look at it."
   ]
  },
  {
   "cell_type": "code",
   "execution_count": 37,
   "id": "1cee7c43-d939-462c-853d-d80a5883dd9b",
   "metadata": {
    "tags": []
   },
   "outputs": [],
   "source": [
    "stac_collection = results.get_metadata()"
   ]
  },
  {
   "cell_type": "code",
   "execution_count": 38,
   "id": "c948170e-b4fd-4fd9-9123-6288999690be",
   "metadata": {
    "tags": []
   },
   "outputs": [
    {
     "data": {
      "text/plain": [
       "{'assets': {'openEO.tif': {'file:nodata': ['nan'],\n",
       "   'href': 'https://openeo.dataspace.copernicus.eu/openeo/1.2/jobs/j-240124278d9c4b56a64c7ca8041482ef/results/assets/MDYxODNjYmMtODRjOC00YzZhLThhN2QtY2IxOGJhMDhjYzhj/8c43655992f6dbcc9249909d7a4f3d75/openEO.tif?expires=1706714993',\n",
       "   'raster:bands': [{'name': '1',\n",
       "     'statistics': {'maximum': 1.0,\n",
       "      'mean': 0.94412878787879,\n",
       "      'minimum': 0.0,\n",
       "      'stddev': 0.2266327254365,\n",
       "      'valid_percent': 100.0}}],\n",
       "   'roles': ['data'],\n",
       "   'title': 'openEO.tif',\n",
       "   'type': 'image/tiff; application=geotiff'}},\n",
       " 'description': 'Results for batch job j-240124278d9c4b56a64c7ca8041482ef',\n",
       " 'extent': {'spatial': {'bbox': [None]},\n",
       "  'temporal': {'interval': [[None, None]]}},\n",
       " 'id': 'j-240124278d9c4b56a64c7ca8041482ef',\n",
       " 'license': 'proprietary',\n",
       " 'links': [{'href': 'https://openeo.dataspace.copernicus.eu/openeo/1.2/jobs/j-240124278d9c4b56a64c7ca8041482ef/results',\n",
       "   'rel': 'self',\n",
       "   'type': 'application/json'},\n",
       "  {'href': 'https://openeo.dataspace.copernicus.eu/openeo/1.2/jobs/j-240124278d9c4b56a64c7ca8041482ef/results/MDYxODNjYmMtODRjOC00YzZhLThhN2QtY2IxOGJhMDhjYzhj/99448d2ca9e4511fd1ee58b79ad58009?expires=1706714993',\n",
       "   'rel': 'canonical',\n",
       "   'type': 'application/json'},\n",
       "  {'href': 'http://ceos.org/ard/files/PFS/SR/v5.0/CARD4L_Product_Family_Specification_Surface_Reflectance-v5.0.pdf',\n",
       "   'rel': 'card4l-document',\n",
       "   'type': 'application/pdf'},\n",
       "  {'href': 'https://openeo.dataspace.copernicus.eu/openeo/1.2/jobs/j-240124278d9c4b56a64c7ca8041482ef/results/items/MDYxODNjYmMtODRjOC00YzZhLThhN2QtY2IxOGJhMDhjYzhj/8c43655992f6dbcc9249909d7a4f3d75/openEO.tif?expires=1706714993',\n",
       "   'rel': 'item',\n",
       "   'type': 'application/geo+json'}],\n",
       " 'openeo:status': 'finished',\n",
       " 'providers': [{'description': 'This data was processed on an openEO backend maintained by VITO.',\n",
       "   'name': 'VITO',\n",
       "   'processing:expression': [{'expression': {'loadcollection1': {'arguments': {'bands': ['B03',\n",
       "         'B11',\n",
       "         'SCL'],\n",
       "        'id': 'SENTINEL2_L2A',\n",
       "        'spatial_extent': {'crs': 4326,\n",
       "         'east': 11.313925216059188,\n",
       "         'north': 46.77442115678802,\n",
       "         'south': 46.75607884321198,\n",
       "         'west': 11.295938783940814},\n",
       "        'temporal_extent': ['2023-02-01', '2023-06-01']},\n",
       "       'process_id': 'load_collection'},\n",
       "      'mask1': {'arguments': {'data': {'from_node': 'reducedimension1'},\n",
       "        'mask': {'from_node': 'reducedimension2'}},\n",
       "       'process_id': 'mask'},\n",
       "      'reducedimension1': {'arguments': {'data': {'from_node': 'loadcollection1'},\n",
       "        'dimension': 'bands',\n",
       "        'reducer': {'process_graph': {'add1': {'arguments': {'x': {'from_node': 'arrayelement1'},\n",
       "            'y': {'from_node': 'arrayelement2'}},\n",
       "           'process_id': 'add'},\n",
       "          'arrayelement1': {'arguments': {'data': {'from_parameter': 'data'},\n",
       "            'index': 0},\n",
       "           'process_id': 'array_element'},\n",
       "          'arrayelement2': {'arguments': {'data': {'from_parameter': 'data'},\n",
       "            'index': 1},\n",
       "           'process_id': 'array_element'},\n",
       "          'divide1': {'arguments': {'x': {'from_node': 'subtract1'},\n",
       "            'y': {'from_node': 'add1'}},\n",
       "           'process_id': 'divide'},\n",
       "          'gt1': {'arguments': {'x': {'from_node': 'divide1'}, 'y': 0.4},\n",
       "           'process_id': 'gt'},\n",
       "          'multiply1': {'arguments': {'x': {'from_node': 'gt1'}, 'y': 1},\n",
       "           'process_id': 'multiply',\n",
       "           'result': True},\n",
       "          'subtract1': {'arguments': {'x': {'from_node': 'arrayelement1'},\n",
       "            'y': {'from_node': 'arrayelement2'}},\n",
       "           'process_id': 'subtract'}}}},\n",
       "       'process_id': 'reduce_dimension'},\n",
       "      'reducedimension2': {'arguments': {'data': {'from_node': 'loadcollection1'},\n",
       "        'dimension': 'bands',\n",
       "        'reducer': {'process_graph': {'arrayelement3': {'arguments': {'data': {'from_parameter': 'data'},\n",
       "            'index': 2},\n",
       "           'process_id': 'array_element'},\n",
       "          'eq1': {'arguments': {'x': {'from_node': 'arrayelement3'}, 'y': 8},\n",
       "           'process_id': 'eq'},\n",
       "          'eq2': {'arguments': {'x': {'from_node': 'arrayelement3'}, 'y': 9},\n",
       "           'process_id': 'eq'},\n",
       "          'eq3': {'arguments': {'x': {'from_node': 'arrayelement3'}, 'y': 3},\n",
       "           'process_id': 'eq'},\n",
       "          'multiply2': {'arguments': {'x': {'from_node': 'or2'}, 'y': 1},\n",
       "           'process_id': 'multiply',\n",
       "           'result': True},\n",
       "          'or1': {'arguments': {'x': {'from_node': 'eq1'},\n",
       "            'y': {'from_node': 'eq2'}},\n",
       "           'process_id': 'or'},\n",
       "          'or2': {'arguments': {'x': {'from_node': 'or1'},\n",
       "            'y': {'from_node': 'eq3'}},\n",
       "           'process_id': 'or'}}}},\n",
       "       'process_id': 'reduce_dimension'},\n",
       "      'reducedimension3': {'arguments': {'data': {'from_node': 'mask1'},\n",
       "        'dimension': 't',\n",
       "        'reducer': {'process_graph': {'median1': {'arguments': {'data': {'from_parameter': 'data'}},\n",
       "           'process_id': 'median',\n",
       "           'result': True}}}},\n",
       "       'process_id': 'reduce_dimension'},\n",
       "      'saveresult1': {'arguments': {'data': {'from_node': 'reducedimension3'},\n",
       "        'format': 'GTiff',\n",
       "        'options': {}},\n",
       "       'process_id': 'save_result',\n",
       "       'result': True}},\n",
       "     'format': 'openeo'}],\n",
       "   'processing:facility': 'openEO Geotrellis backend',\n",
       "   'processing:software': {'Geotrellis backend': '0.22.2a1'},\n",
       "   'roles': ['processor']}],\n",
       " 'stac_extensions': ['https://stac-extensions.github.io/eo/v1.1.0/schema.json',\n",
       "  'https://stac-extensions.github.io/file/v2.1.0/schema.json',\n",
       "  'https://stac-extensions.github.io/processing/v1.1.0/schema.json',\n",
       "  'https://stac-extensions.github.io/projection/v1.1.0/schema.json'],\n",
       " 'stac_version': '1.0.0',\n",
       " 'summaries': {'instruments': None},\n",
       " 'title': 'snowmap_cog',\n",
       " 'type': 'Collection'}"
      ]
     },
     "execution_count": 38,
     "metadata": {},
     "output_type": "execute_result"
    }
   ],
   "source": [
    "stac_collection"
   ]
  },
  {
   "cell_type": "markdown",
   "id": "284412ab-7feb-45b3-8964-16416debcb4e",
   "metadata": {},
   "source": [
    "### Adding Author of the data\n",
    "\n",
    "Add your information to become visible as author of the data -  description of each field can be found here: https://github.com/radiantearth/stac-spec/blob/master/item-spec/common-metadata.md#provider-object\n",
    "\n",
    "Please note that leaving the field empty will lead to failed validation of STAC item"
   ]
  },
  {
   "cell_type": "code",
   "execution_count": 123,
   "id": "058f0dcd-74e0-4a38-88be-8e77ea1d0f2b",
   "metadata": {
    "tags": []
   },
   "outputs": [],
   "source": [
    "author = [{\n",
    "    \"name\": \"ROB\",\n",
    "    \"description\": \"Snow map\",\n",
    "    \"roles\": [\"processor\"],\n",
    "}]\n",
    "\n",
    "providers = stac_collection[\"providers\"] + author\n",
    "\n",
    "author_id = [nam[:2] for nam in author[0][\"name\"].split(\" \")]\n",
    "\n",
    "# generate timestamp\n",
    "ts = datetime.now().timestamp()"
   ]
  },
  {
   "cell_type": "markdown",
   "id": "8a23469d-76aa-493f-abf5-d752ebcf8bfe",
   "metadata": {},
   "source": [
    "Creating actual polygon geometry from previously created bbox information"
   ]
  },
  {
   "cell_type": "code",
   "execution_count": 124,
   "id": "d82b0467-fd21-44f7-b0db-64cca0606ef7",
   "metadata": {
    "tags": []
   },
   "outputs": [],
   "source": [
    "min_x, min_y, max_x, max_y = bbox\n",
    "geometry = {\n",
    "    \"type\": \"Polygon\",\n",
    "    \"coordinates\": [[\n",
    "        [min_x, min_y],\n",
    "        [max_x, min_y],\n",
    "        [max_x, max_y],\n",
    "        [min_x, max_y],\n",
    "        [min_x, min_y]\n",
    "    ]]\n",
    "}"
   ]
  },
  {
   "cell_type": "markdown",
   "id": "11d8875f-cf18-4749-ac6b-65dcf41cff2b",
   "metadata": {},
   "source": [
    "Let's create the actual STAC item describing your data! As talked about in previous lessons, STAC item has various required fields which need to be present and filled correctly. For the field ID we assign the fixed name snowcover and the initials of your name. That will be visible on the STAC browser once you have submitted the result!"
   ]
  },
  {
   "cell_type": "code",
   "execution_count": 125,
   "id": "16ae70a4-866c-4b61-8e5b-38e381722643",
   "metadata": {
    "tags": []
   },
   "outputs": [],
   "source": [
    "stac_item = {\n",
    "    \"type\": \"Feature\", \n",
    "    \"stac_version\": stac_collection[\"stac_version\"],\n",
    "    \"stac_extensions\": [],\n",
    "    \"id\": \"snowcover_\" + \"\".join(author_id).lower()+ \"_\" + str(ts),\n",
    "    \"geometry\": geometry,\n",
    "    \"bbox\": bbox,\n",
    "    \n",
    "    \"properties\": {\n",
    "       \"datetime\": None, \n",
    "        \"start_datetime\": datetime.strptime(temporal_extent[0], '%Y-%m-%d').isoformat() + \"Z\",\n",
    "        \"end_datetime\": datetime.strptime(temporal_extent[1], '%Y-%m-%d').isoformat() + \"Z\",\n",
    "        \"providers\" : providers\n",
    "                 },\n",
    "    \n",
    "    \"links\": stac_collection[\"links\"],\n",
    "    \"assets\": {\"visual\": {\n",
    "      \"href\": \"openEO.tif\",\n",
    "      \"type\": \"image/tiff; application=geotiff; profile=cloud-optimized\",\n",
    "      \"title\": \"Snow coverage\",\n",
    "      \"roles\": [\n",
    "        \"data\"\n",
    "              ]\n",
    "            }\n",
    "        },\n",
    "}"
   ]
  },
  {
   "cell_type": "code",
   "execution_count": 126,
   "id": "8c00cfa0-571e-4518-8906-7983170246e8",
   "metadata": {
    "tags": []
   },
   "outputs": [
    {
     "data": {
      "text/plain": [
       "{'type': 'Feature',\n",
       " 'stac_version': '1.0.0',\n",
       " 'stac_extensions': [],\n",
       " 'id': 'snowcover_ro_1706117006.000553',\n",
       " 'geometry': {'type': 'Polygon',\n",
       "  'coordinates': [[[11.295938783940814, 46.75607884321198],\n",
       "    [11.313925216059188, 46.75607884321198],\n",
       "    [11.313925216059188, 46.77442115678802],\n",
       "    [11.295938783940814, 46.77442115678802],\n",
       "    [11.295938783940814, 46.75607884321198]]]},\n",
       " 'bbox': (11.295938783940814,\n",
       "  46.75607884321198,\n",
       "  11.313925216059188,\n",
       "  46.77442115678802),\n",
       " 'properties': {'datetime': None,\n",
       "  'start_datetime': '2023-02-01T00:00:00Z',\n",
       "  'end_datetime': '2023-06-01T00:00:00Z',\n",
       "  'providers': [{'description': 'This data was processed on an openEO backend maintained by VITO.',\n",
       "    'name': 'VITO',\n",
       "    'processing:expression': [{'expression': {'loadcollection1': {'arguments': {'bands': ['B03',\n",
       "          'B11',\n",
       "          'SCL'],\n",
       "         'id': 'SENTINEL2_L2A',\n",
       "         'spatial_extent': {'crs': 4326,\n",
       "          'east': 11.313925216059188,\n",
       "          'north': 46.77442115678802,\n",
       "          'south': 46.75607884321198,\n",
       "          'west': 11.295938783940814},\n",
       "         'temporal_extent': ['2023-02-01', '2023-06-01']},\n",
       "        'process_id': 'load_collection'},\n",
       "       'mask1': {'arguments': {'data': {'from_node': 'reducedimension1'},\n",
       "         'mask': {'from_node': 'reducedimension2'}},\n",
       "        'process_id': 'mask'},\n",
       "       'reducedimension1': {'arguments': {'data': {'from_node': 'loadcollection1'},\n",
       "         'dimension': 'bands',\n",
       "         'reducer': {'process_graph': {'add1': {'arguments': {'x': {'from_node': 'arrayelement1'},\n",
       "             'y': {'from_node': 'arrayelement2'}},\n",
       "            'process_id': 'add'},\n",
       "           'arrayelement1': {'arguments': {'data': {'from_parameter': 'data'},\n",
       "             'index': 0},\n",
       "            'process_id': 'array_element'},\n",
       "           'arrayelement2': {'arguments': {'data': {'from_parameter': 'data'},\n",
       "             'index': 1},\n",
       "            'process_id': 'array_element'},\n",
       "           'divide1': {'arguments': {'x': {'from_node': 'subtract1'},\n",
       "             'y': {'from_node': 'add1'}},\n",
       "            'process_id': 'divide'},\n",
       "           'gt1': {'arguments': {'x': {'from_node': 'divide1'}, 'y': 0.4},\n",
       "            'process_id': 'gt'},\n",
       "           'multiply1': {'arguments': {'x': {'from_node': 'gt1'}, 'y': 1},\n",
       "            'process_id': 'multiply',\n",
       "            'result': True},\n",
       "           'subtract1': {'arguments': {'x': {'from_node': 'arrayelement1'},\n",
       "             'y': {'from_node': 'arrayelement2'}},\n",
       "            'process_id': 'subtract'}}}},\n",
       "        'process_id': 'reduce_dimension'},\n",
       "       'reducedimension2': {'arguments': {'data': {'from_node': 'loadcollection1'},\n",
       "         'dimension': 'bands',\n",
       "         'reducer': {'process_graph': {'arrayelement3': {'arguments': {'data': {'from_parameter': 'data'},\n",
       "             'index': 2},\n",
       "            'process_id': 'array_element'},\n",
       "           'eq1': {'arguments': {'x': {'from_node': 'arrayelement3'}, 'y': 8},\n",
       "            'process_id': 'eq'},\n",
       "           'eq2': {'arguments': {'x': {'from_node': 'arrayelement3'}, 'y': 9},\n",
       "            'process_id': 'eq'},\n",
       "           'eq3': {'arguments': {'x': {'from_node': 'arrayelement3'}, 'y': 3},\n",
       "            'process_id': 'eq'},\n",
       "           'multiply2': {'arguments': {'x': {'from_node': 'or2'}, 'y': 1},\n",
       "            'process_id': 'multiply',\n",
       "            'result': True},\n",
       "           'or1': {'arguments': {'x': {'from_node': 'eq1'},\n",
       "             'y': {'from_node': 'eq2'}},\n",
       "            'process_id': 'or'},\n",
       "           'or2': {'arguments': {'x': {'from_node': 'or1'},\n",
       "             'y': {'from_node': 'eq3'}},\n",
       "            'process_id': 'or'}}}},\n",
       "        'process_id': 'reduce_dimension'},\n",
       "       'reducedimension3': {'arguments': {'data': {'from_node': 'mask1'},\n",
       "         'dimension': 't',\n",
       "         'reducer': {'process_graph': {'median1': {'arguments': {'data': {'from_parameter': 'data'}},\n",
       "            'process_id': 'median',\n",
       "            'result': True}}}},\n",
       "        'process_id': 'reduce_dimension'},\n",
       "       'saveresult1': {'arguments': {'data': {'from_node': 'reducedimension3'},\n",
       "         'format': 'GTiff',\n",
       "         'options': {}},\n",
       "        'process_id': 'save_result',\n",
       "        'result': True}},\n",
       "      'format': 'openeo'}],\n",
       "    'processing:facility': 'openEO Geotrellis backend',\n",
       "    'processing:software': {'Geotrellis backend': '0.22.2a1'},\n",
       "    'roles': ['processor']},\n",
       "   {'name': 'ROB', 'description': 'Snow map', 'roles': ['processor']}]},\n",
       " 'links': [{'href': 'https://openeo.dataspace.copernicus.eu/openeo/1.2/jobs/j-240124278d9c4b56a64c7ca8041482ef/results',\n",
       "   'rel': 'self',\n",
       "   'type': 'application/json'},\n",
       "  {'href': 'https://openeo.dataspace.copernicus.eu/openeo/1.2/jobs/j-240124278d9c4b56a64c7ca8041482ef/results/MDYxODNjYmMtODRjOC00YzZhLThhN2QtY2IxOGJhMDhjYzhj/99448d2ca9e4511fd1ee58b79ad58009?expires=1706714993',\n",
       "   'rel': 'canonical',\n",
       "   'type': 'application/json'},\n",
       "  {'href': 'http://ceos.org/ard/files/PFS/SR/v5.0/CARD4L_Product_Family_Specification_Surface_Reflectance-v5.0.pdf',\n",
       "   'rel': 'card4l-document',\n",
       "   'type': 'application/pdf'},\n",
       "  {'href': 'https://openeo.dataspace.copernicus.eu/openeo/1.2/jobs/j-240124278d9c4b56a64c7ca8041482ef/results/items/MDYxODNjYmMtODRjOC00YzZhLThhN2QtY2IxOGJhMDhjYzhj/8c43655992f6dbcc9249909d7a4f3d75/openEO.tif?expires=1706714993',\n",
       "   'rel': 'item',\n",
       "   'type': 'application/geo+json'}],\n",
       " 'assets': {'visual': {'href': 'openEO.tif',\n",
       "   'type': 'image/tiff; application=geotiff; profile=cloud-optimized',\n",
       "   'title': 'Snow coverage',\n",
       "   'roles': ['data']}}}"
      ]
     },
     "execution_count": 126,
     "metadata": {},
     "output_type": "execute_result"
    }
   ],
   "source": [
    "stac_item"
   ]
  },
  {
   "cell_type": "markdown",
   "id": "f8c55b3d-1d3f-4584-9c1c-e00511288e77",
   "metadata": {},
   "source": [
    "Saving the resulting item as stac_item.json into results folder"
   ]
  },
  {
   "cell_type": "code",
   "execution_count": 127,
   "id": "cc6b58e1-e759-4943-85b8-bad6716181ab",
   "metadata": {
    "tags": []
   },
   "outputs": [],
   "source": [
    "stac_json = json.dumps(stac_item)\n",
    "with open(\"33_results/stac_item.json\", \"w\") as file:\n",
    "    file.write(stac_json)"
   ]
  },
  {
   "cell_type": "markdown",
   "id": "5a5064ba-5d1a-4f49-8502-c715a6032856",
   "metadata": {},
   "source": [
    "Validating that STAC item is important - non valid STAC will not be displayed in the STAC browser after upload"
   ]
  },
  {
   "cell_type": "code",
   "execution_count": 128,
   "id": "f1495fcc-19fe-46df-bf95-ac4c470696d5",
   "metadata": {
    "tags": []
   },
   "outputs": [
    {
     "name": "stdout",
     "output_type": "stream",
     "text": [
      "[{'version': '1.0.0', 'path': None, 'schema': ['https://schemas.stacspec.org/v1.0.0/item-spec/json-schema/item.json'], 'valid_stac': True, 'asset_type': 'ITEM', 'validation_method': 'default'}]\n"
     ]
    }
   ],
   "source": [
    "from stac_validator import stac_validator\n",
    "import requests\n",
    "stac = stac_validator.StacValidate()\n",
    "f = open('33_results/stac_item.json')\n",
    "data = json.load(f)\n",
    "stac.validate_dict(data)\n",
    "print(stac.message)"
   ]
  },
  {
   "cell_type": "markdown",
   "id": "75e00b43-d734-4496-ae3f-483d6ae12263",
   "metadata": {},
   "source": [
    "### Now it is time to upload solution to the submission folder and make results visible in STAC browser"
   ]
  },
  {
   "cell_type": "markdown",
   "id": "bca36260-960e-4a69-bef8-9fb6fc880360",
   "metadata": {},
   "source": [
    "Upload both STAC json file and final .tif file to \"submissions\" folder in your home directory\n",
    "\n",
    "You can use code below or copy the code for you - if your results are stored at different path, you need to modify the path correctly"
   ]
  },
  {
   "cell_type": "code",
   "execution_count": null,
   "id": "eb8c033c-9c51-4a0e-8fa9-79d38871721b",
   "metadata": {
    "tags": []
   },
   "outputs": [],
   "source": [
    "!cp ./33_results/stac_item.json ~/submissions/\n",
    "!cp ./33_results/openEO.tif ~/submissions/"
   ]
  },
  {
   "cell_type": "markdown",
   "id": "900bdab1-26b5-41d3-bfb0-5c7091e2c4c3",
   "metadata": {},
   "source": [
    "And now by executing the cell bellow, update of the STAC browser will start. "
   ]
  },
  {
   "cell_type": "code",
   "execution_count": null,
   "id": "c8a56d8e-3b80-40f3-bcba-b2cfac968bdd",
   "metadata": {
    "tags": []
   },
   "outputs": [],
   "source": [
    "env_var1 = os.getenv('EMAIL')\n",
    "curl_command = f\"curl -X POST -F token=glptt-42d31ac6f592a9e321d0e4877e654dc50dcf4854 -F ref=main -F 'variables[USER_DIRECTORY]=\\\"{env_var1}\\\"' https://gitlab.eox.at/api/v4/projects/554/trigger/pipeline\" \n",
    "process = subprocess.Popen(curl_command, shell=True, stdout=subprocess.PIPE, stderr=subprocess.PIPE)\n",
    "stdout, stderr = process.communicate()"
   ]
  },
  {
   "cell_type": "markdown",
   "id": "427c1b95-039c-41b3-93c7-3fd6471fd1c4",
   "metadata": {},
   "source": [
    "### Your results are online!\n",
    "You can now browse your results together with all the other submissions at the publicly available STAC Catalog! You can check your snow cover map, that you are correctly listed as the author and that your contribution has the correct name. The license on the STAC Collection \"Cubes and Clouds: Snow Cover\" is CC-BY-4.0. The STAC Collection also has it's own DOI XXX. \n",
    "\n",
    "Congratulations you have just contributed to a community mapping project that is completely open source, open data and FAIR! Make sure to show it also to your friends, colleagues or potential employers :)\n",
    "\n",
    "https://esa.pages.eox.at/cubes-and-clouds-catalog/browser/#/?.language=en"
   ]
  },
  {
   "cell_type": "markdown",
   "id": "d25e8ab2-097d-4ad2-a33f-58e1a7833598",
   "metadata": {},
   "source": [
    "If you would like to redo your submission, you can still update your files in submissions folder and once ready, run again the code in the cell above"
   ]
  },
  {
   "cell_type": "markdown",
   "id": "32e011fc-53ec-44b6-9611-4de13f739973",
   "metadata": {
    "tags": []
   },
   "source": [
    "Happy coding!"
   ]
  }
 ],
 "metadata": {
  "kernelspec": {
   "display_name": "cubes-and-clouds-cubes-and-clouds2",
   "language": "python",
   "name": "conda-env-cubes-and-clouds-cubes-and-clouds2-py"
  },
  "language_info": {
   "codemirror_mode": {
    "name": "ipython",
    "version": 3
   },
   "file_extension": ".py",
   "mimetype": "text/x-python",
   "name": "python",
   "nbconvert_exporter": "python",
   "pygments_lexer": "ipython3",
   "version": "3.11.7"
  }
 },
 "nbformat": 4,
 "nbformat_minor": 5
}
