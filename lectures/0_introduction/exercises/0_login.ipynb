{
 "cells": [
  {
   "cell_type": "markdown",
   "id": "0c6aed2f-1493-4636-a124-03c81b28bc52",
   "metadata": {},
   "source": [
    "# Login to openEO\n",
    "In order to access a cloud platfrom you need to login. In this notebook we will login to the Copernicus Data Space Ecosystem for using openEO. \n",
    "- Import the libraries we need to interact with the cloud platform\n",
    "- Make sure we have the login credentials \n",
    "- Connect to the cloud platform\n",
    "- Login to the cloud platform\n",
    "- Check that the login worked"
   ]
  },
  {
   "cell_type": "markdown",
   "id": "d3400da4-b7c0-43be-abc9-e3100bf8c9f4",
   "metadata": {},
   "source": [
    "## Libraries\n",
    "We will import the openeo python client library. It is preinstalled in the jupyter workspace on EOX. \n",
    "- `openeo`: The openeo python client has all the functions available that we need to interact with the cloud platform using the openEO API.\n",
    "\n",
    "Here is more information on the openeo python client: \n",
    "- https://open-eo.github.io/openeo-python-client/"
   ]
  },
  {
   "cell_type": "code",
   "execution_count": 1,
   "id": "1abf270c-d73e-4109-854c-3cf36a1b36d7",
   "metadata": {},
   "outputs": [],
   "source": [
    "import openeo"
   ]
  },
  {
   "cell_type": "markdown",
   "id": "4acd87c3-537f-4f9e-9b2a-4378bb9c8abb",
   "metadata": {},
   "source": [
    "## Connect to the cloud platform\n",
    "In a first step we connect to the cloud platform. We can only see information and use functionality that is available to everybody. \n",
    "We can see for example which collections and processes are available, but we cannot process data. We will explore the platforms capabilities in an extra exercise in more depth later.\n",
    "\n",
    "Now let's just connect to the platform..."
   ]
  },
  {
   "cell_type": "code",
   "execution_count": 4,
   "id": "86afd551-857e-4129-a2ee-39a933255f34",
   "metadata": {},
   "outputs": [],
   "source": [
    "conn = openeo.connect('https://openeo.dataspace.copernicus.eu/')"
   ]
  },
  {
   "cell_type": "markdown",
   "id": "312b377d",
   "metadata": {},
   "source": [
    "... and check if the connection has worked. You should see that you are connected, but not logged in."
   ]
  },
  {
   "cell_type": "code",
   "execution_count": null,
   "id": "1107f9f8",
   "metadata": {},
   "outputs": [],
   "source": [
    "conn"
   ]
  },
  {
   "cell_type": "markdown",
   "id": "42084427-fce5-429b-8707-d950c9e80fa7",
   "metadata": {},
   "source": [
    "## Login to the cloud platform\n",
    "After we have connected to the platform and want more functionality, we need to login. This means we authenticate ourselfs to prove we are an registered user. \n",
    "After access is granted we can also process data. Every computation comes at a cost, this is why every user has an amount of credits (which usually have to be payed) for computing.\n",
    "Everytime you are going to use the cloud platform for processing you will have to login at the beginning of your workflow. We are going to learn how to create a workflow in a seperat exercise later on.\n",
    "\n",
    "Now let's just log in... *(this only works if you haver registered to CDSE as described in the lesson Introduction)*"
   ]
  },
  {
   "cell_type": "code",
   "execution_count": null,
   "id": "de26fd5c-71da-4d28-b895-f5108a97a1d5",
   "metadata": {},
   "outputs": [],
   "source": [
    "conn.authenticate_oidc()"
   ]
  },
  {
   "cell_type": "markdown",
   "id": "92fb1bf2",
   "metadata": {},
   "source": [
    "... and check if the login has worked..."
   ]
  },
  {
   "cell_type": "code",
   "execution_count": null,
   "id": "050b91c0-60d8-464e-9fd3-0ab62638aafd",
   "metadata": {},
   "outputs": [],
   "source": [
    "conn"
   ]
  },
  {
   "cell_type": "markdown",
   "id": "6c5858ed",
   "metadata": {},
   "source": [
    "... and let's check our user information, which is possible since we have authenticated now."
   ]
  },
  {
   "cell_type": "code",
   "execution_count": null,
   "id": "592cfb2a",
   "metadata": {},
   "outputs": [],
   "source": [
    "conn.describe_account()"
   ]
  },
  {
   "cell_type": "markdown",
   "id": "7c6de05a",
   "metadata": {},
   "source": [
    "## Return to EOCOllege\n",
    "This is all. We have verified that we can connect and login to the cloud platform. We will do this again later on when we'll start with some hands on exercises. \n",
    "\n",
    "For now let's return to EOCollege to get started with the lessons!\n",
    "\n",
    "[Return to Cubes and Clouds on EO College](https://eo-college.org/courses/cubes-and-clouds)"
   ]
  }
 ],
 "metadata": {
  "kernelspec": {
   "display_name": "users-edc-2023.03-02",
   "language": "python",
   "name": "conda-env-users-edc-2023.03-02-py"
  },
  "language_info": {
   "codemirror_mode": {
    "name": "ipython",
    "version": 3
   },
   "file_extension": ".py",
   "mimetype": "text/x-python",
   "name": "python",
   "nbconvert_exporter": "python",
   "pygments_lexer": "ipython3",
   "version": "3.9.16"
  }
 },
 "nbformat": 4,
 "nbformat_minor": 5
}
