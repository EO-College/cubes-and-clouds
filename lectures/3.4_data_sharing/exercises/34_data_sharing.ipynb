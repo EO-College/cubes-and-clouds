{
 "cells": [
  {
   "cell_type": "markdown",
   "id": "3d8f1015-699c-4c22-b3be-61608b6d993a",
   "metadata": {},
   "source": [
    "<img src=\"https://raw.githubusercontent.com/EO-College/cubes-and-clouds/main/icons/cnc_3icons_share_cirlce.svg\"\n",
    "     alt=\"Cubes & Clouds logo\"\n",
    "     style=\"float: center; margin-right: 10px;\" />"
   ]
  },
  {
   "cell_type": "markdown",
   "id": "0c6aed2f-1493-4636-a124-03c81b28bc52",
   "metadata": {},
   "source": [
    "# 3.4 Data Sharing\n",
    "Science is much more impactful once it's shared. Therefore, we are going to learn how to \n",
    "open up our scientific output from a cloud platform, so that is openly available - and \n",
    "has the chance to make the impact it should.\n",
    "- Load data,\n",
    "- Select AOI,\n",
    "- Recreate process graph, \n",
    "- Download results for one time-step, \n",
    "- Generate STAC\n"
   ]
  },
  {
   "cell_type": "markdown",
   "id": "7d102aad-5b61-422c-acb1-9c89621d70e3",
   "metadata": {
    "tags": []
   },
   "source": [
    "## Libraries"
   ]
  },
  {
   "cell_type": "code",
   "execution_count": 1,
   "id": "1abf270c-d73e-4109-854c-3cf36a1b36d7",
   "metadata": {},
   "outputs": [],
   "source": [
    "import json\n",
    "\n",
    "import openeo\n",
    "import numpy as np\n",
    "import leafmap\n",
    "\n",
    "import geopandas as gpd\n",
    "import shapely\n",
    "from shapely.geometry import Polygon\n",
    "\n",
    "import rioxarray as rio\n",
    "import xarray"
   ]
  },
  {
   "cell_type": "markdown",
   "id": "8ca9a336-2110-47b7-98e9-94ecd12c676f",
   "metadata": {},
   "source": [
    "Import utility functions"
   ]
  },
  {
   "cell_type": "code",
   "execution_count": 2,
   "id": "bdda8ca0-7825-45c0-a0b5-0f97b40deb74",
   "metadata": {
    "tags": []
   },
   "outputs": [],
   "source": [
    "%run cubes_utilities.py"
   ]
  },
  {
   "cell_type": "markdown",
   "id": "82f46c31-e6ef-4811-8e3a-7256ac0d2a86",
   "metadata": {},
   "source": [
    "## Login"
   ]
  },
  {
   "cell_type": "markdown",
   "id": "8ad2ba48-40ef-4cc5-9bb6-de59d4b9a67e",
   "metadata": {
    "tags": []
   },
   "source": [
    "Connect to the copernicus dataspace ecosystem."
   ]
  },
  {
   "cell_type": "code",
   "execution_count": 3,
   "id": "35624db3-17ef-4efb-a203-8d79113e2203",
   "metadata": {
    "tags": []
   },
   "outputs": [],
   "source": [
    "conn = openeo.connect('https://openeo.dataspace.copernicus.eu/')"
   ]
  },
  {
   "cell_type": "markdown",
   "id": "0046a654-ba6f-4dae-84f2-7f11e099592f",
   "metadata": {},
   "source": [
    "Authenticate login"
   ]
  },
  {
   "cell_type": "code",
   "execution_count": 4,
   "id": "de26fd5c-71da-4d28-b895-f5108a97a1d5",
   "metadata": {},
   "outputs": [
    {
     "name": "stdout",
     "output_type": "stream",
     "text": [
      "Authenticated using refresh token.\n"
     ]
    },
    {
     "data": {
      "text/plain": [
       "<Connection to 'https://openeo.dataspace.copernicus.eu/openeo/1.1/' with OidcBearerAuth>"
      ]
     },
     "execution_count": 4,
     "metadata": {},
     "output_type": "execute_result"
    }
   ],
   "source": [
    "conn.authenticate_oidc()"
   ]
  },
  {
   "cell_type": "markdown",
   "id": "a1a2af45-ba11-41b8-9aaa-2b8169103f7b",
   "metadata": {},
   "source": [
    "Check if the login worked"
   ]
  },
  {
   "cell_type": "code",
   "execution_count": null,
   "id": "bf1eb435-8e42-425f-9470-75081325787a",
   "metadata": {},
   "outputs": [],
   "source": [
    "conn.describe_account()"
   ]
  },
  {
   "cell_type": "markdown",
   "id": "b2d634d7-e719-4cab-8066-ed0cc1c278f6",
   "metadata": {},
   "source": [
    "## Select a Point of Interest\n",
    "Start by selecting a center point of the area you would like to analyse from the map shown below"
   ]
  },
  {
   "cell_type": "code",
   "execution_count": 6,
   "id": "c2999d0e-210e-4188-8c03-31719c06a70d",
   "metadata": {},
   "outputs": [
    {
     "data": {
      "application/vnd.jupyter.widget-view+json": {
       "model_id": "4fd5aed937b842ce9ee6db2c0cadf0cf",
       "version_major": 2,
       "version_minor": 0
      },
      "text/plain": [
       "Map(center=[46.497012, 11.356429], controls=(ZoomControl(options=['position', 'zoom_in_text', 'zoom_in_title',…"
      ]
     },
     "metadata": {},
     "output_type": "display_data"
    }
   ],
   "source": [
    "m = leafmap.Map(center=(46.497012, 11.356429), zoom=14)\n",
    "m"
   ]
  },
  {
   "cell_type": "code",
   "execution_count": 7,
   "id": "42c6cb21-afff-4b5c-a7d0-403e81192995",
   "metadata": {
    "tags": []
   },
   "outputs": [],
   "source": [
    "feat = m.draw_features\n",
    "geom = feat[0]['geometry']['coordinates']"
   ]
  },
  {
   "cell_type": "code",
   "execution_count": 8,
   "id": "ae2d3f75-8a05-4d93-a390-1666bb8f7565",
   "metadata": {
    "tags": []
   },
   "outputs": [],
   "source": [
    "distance_km = 1\n",
    "# Create a bounding box around the point\n",
    "bbox = create_bounding_box(geom[0], geom[1], distance_km)\n",
    "visualize_bbox(m, bbox)"
   ]
  },
  {
   "cell_type": "markdown",
   "id": "26325c28-6329-491f-9cdf-15c573a6d0f5",
   "metadata": {},
   "source": [
    "## Recreate process graph"
   ]
  },
  {
   "cell_type": "code",
   "execution_count": 9,
   "id": "af2c5198-c846-4478-97cd-28f051336af9",
   "metadata": {},
   "outputs": [
    {
     "data": {
      "text/html": [
       "\n",
       "    <script>\n",
       "    if (!window.customElements || !window.customElements.get('openeo-model-builder')) {\n",
       "        var el = document.createElement('script');\n",
       "        el.src = \"https://cdn.jsdelivr.net/npm/@openeo/vue-components@2/assets/openeo.min.js\";\n",
       "        document.head.appendChild(el);\n",
       "\n",
       "        var font = document.createElement('font');\n",
       "        font.as = \"font\";\n",
       "        font.type = \"font/woff2\";\n",
       "        font.crossOrigin = true;\n",
       "        font.href = \"https://use.fontawesome.com/releases/v5.13.0/webfonts/fa-solid-900.woff2\"\n",
       "        document.head.appendChild(font);\n",
       "    }\n",
       "    </script>\n",
       "    <openeo-model-builder>\n",
       "        <script type=\"application/json\">{\"id\": \"063b28873c0b4ef5b26d77d68b666bae\", \"explicit-zoom\": true, \"height\": \"400px\", \"value\": {\"process_graph\": {\"loadcollection1\": {\"process_id\": \"load_collection\", \"arguments\": {\"bands\": [\"B03\", \"B11\", \"SCL\"], \"id\": \"SENTINEL2_L2A\", \"spatial_extent\": {\"west\": 11.396102783940814, \"east\": 11.414089216059187, \"south\": 46.520292622936324, \"north\": 46.53864137706367, \"crs\": 4326}, \"temporal_extent\": [\"2018-01-01\", \"2018-02-15\"]}}, \"reducedimension1\": {\"process_id\": \"reduce_dimension\", \"arguments\": {\"data\": {\"from_node\": \"loadcollection1\"}, \"dimension\": \"bands\", \"reducer\": {\"process_graph\": {\"arrayelement1\": {\"process_id\": \"array_element\", \"arguments\": {\"data\": {\"from_parameter\": \"data\"}, \"index\": 0}}, \"arrayelement2\": {\"process_id\": \"array_element\", \"arguments\": {\"data\": {\"from_parameter\": \"data\"}, \"index\": 1}}, \"subtract1\": {\"process_id\": \"subtract\", \"arguments\": {\"x\": {\"from_node\": \"arrayelement1\"}, \"y\": {\"from_node\": \"arrayelement2\"}}}, \"add1\": {\"process_id\": \"add\", \"arguments\": {\"x\": {\"from_node\": \"arrayelement1\"}, \"y\": {\"from_node\": \"arrayelement2\"}}}, \"divide1\": {\"process_id\": \"divide\", \"arguments\": {\"x\": {\"from_node\": \"subtract1\"}, \"y\": {\"from_node\": \"add1\"}}}, \"gt1\": {\"process_id\": \"gt\", \"arguments\": {\"x\": {\"from_node\": \"divide1\"}, \"y\": 0.4}}, \"multiply1\": {\"process_id\": \"multiply\", \"arguments\": {\"x\": {\"from_node\": \"gt1\"}, \"y\": 1.0}, \"result\": true}}}}}, \"reducedimension2\": {\"process_id\": \"reduce_dimension\", \"arguments\": {\"data\": {\"from_node\": \"loadcollection1\"}, \"dimension\": \"bands\", \"reducer\": {\"process_graph\": {\"arrayelement3\": {\"process_id\": \"array_element\", \"arguments\": {\"data\": {\"from_parameter\": \"data\"}, \"index\": 2}}, \"eq1\": {\"process_id\": \"eq\", \"arguments\": {\"x\": {\"from_node\": \"arrayelement3\"}, \"y\": 8}}, \"eq2\": {\"process_id\": \"eq\", \"arguments\": {\"x\": {\"from_node\": \"arrayelement3\"}, \"y\": 9}}, \"or1\": {\"process_id\": \"or\", \"arguments\": {\"x\": {\"from_node\": \"eq1\"}, \"y\": {\"from_node\": \"eq2\"}}}, \"eq3\": {\"process_id\": \"eq\", \"arguments\": {\"x\": {\"from_node\": \"arrayelement3\"}, \"y\": 3}}, \"or2\": {\"process_id\": \"or\", \"arguments\": {\"x\": {\"from_node\": \"or1\"}, \"y\": {\"from_node\": \"eq3\"}}}, \"multiply2\": {\"process_id\": \"multiply\", \"arguments\": {\"x\": {\"from_node\": \"or2\"}, \"y\": 1.0}, \"result\": true}}}}}, \"mask1\": {\"process_id\": \"mask\", \"arguments\": {\"data\": {\"from_node\": \"reducedimension1\"}, \"mask\": {\"from_node\": \"reducedimension2\"}}, \"result\": true}}}}</script>\n",
       "    </openeo-model-builder>\n",
       "    "
      ],
      "text/plain": [
       "<openeo.rest.datacube.DataCube at 0x7f8e68ca9fd0>"
      ]
     },
     "execution_count": 9,
     "metadata": {},
     "output_type": "execute_result"
    }
   ],
   "source": [
    "temporal_extent = [\"2018-01-01\", \"2018-02-15\"]\n",
    "snow_map_4dcube = calculate_sca(conn, bbox, temporal_extent)\n",
    "snow_map_4dcube"
   ]
  },
  {
   "cell_type": "markdown",
   "id": "7973af9d-15e0-4fae-bdfa-c35faf7f652a",
   "metadata": {},
   "source": [
    "## Reduce dimension"
   ]
  },
  {
   "cell_type": "code",
   "execution_count": 10,
   "id": "1d8e9005-f0b7-49af-b83a-9a2983a2965b",
   "metadata": {},
   "outputs": [
    {
     "data": {
      "text/html": [
       "\n",
       "    <script>\n",
       "    if (!window.customElements || !window.customElements.get('openeo-model-builder')) {\n",
       "        var el = document.createElement('script');\n",
       "        el.src = \"https://cdn.jsdelivr.net/npm/@openeo/vue-components@2/assets/openeo.min.js\";\n",
       "        document.head.appendChild(el);\n",
       "\n",
       "        var font = document.createElement('font');\n",
       "        font.as = \"font\";\n",
       "        font.type = \"font/woff2\";\n",
       "        font.crossOrigin = true;\n",
       "        font.href = \"https://use.fontawesome.com/releases/v5.13.0/webfonts/fa-solid-900.woff2\"\n",
       "        document.head.appendChild(font);\n",
       "    }\n",
       "    </script>\n",
       "    <openeo-model-builder>\n",
       "        <script type=\"application/json\">{\"id\": \"fdcef758557f4f6db7c16feb8b8f4282\", \"explicit-zoom\": true, \"height\": \"400px\", \"value\": {\"process_graph\": {\"loadcollection1\": {\"process_id\": \"load_collection\", \"arguments\": {\"bands\": [\"B03\", \"B11\", \"SCL\"], \"id\": \"SENTINEL2_L2A\", \"spatial_extent\": {\"west\": 11.396102783940814, \"east\": 11.414089216059187, \"south\": 46.520292622936324, \"north\": 46.53864137706367, \"crs\": 4326}, \"temporal_extent\": [\"2018-01-01\", \"2018-02-15\"]}}, \"reducedimension1\": {\"process_id\": \"reduce_dimension\", \"arguments\": {\"data\": {\"from_node\": \"loadcollection1\"}, \"dimension\": \"bands\", \"reducer\": {\"process_graph\": {\"arrayelement1\": {\"process_id\": \"array_element\", \"arguments\": {\"data\": {\"from_parameter\": \"data\"}, \"index\": 0}}, \"arrayelement2\": {\"process_id\": \"array_element\", \"arguments\": {\"data\": {\"from_parameter\": \"data\"}, \"index\": 1}}, \"subtract1\": {\"process_id\": \"subtract\", \"arguments\": {\"x\": {\"from_node\": \"arrayelement1\"}, \"y\": {\"from_node\": \"arrayelement2\"}}}, \"add1\": {\"process_id\": \"add\", \"arguments\": {\"x\": {\"from_node\": \"arrayelement1\"}, \"y\": {\"from_node\": \"arrayelement2\"}}}, \"divide1\": {\"process_id\": \"divide\", \"arguments\": {\"x\": {\"from_node\": \"subtract1\"}, \"y\": {\"from_node\": \"add1\"}}}, \"gt1\": {\"process_id\": \"gt\", \"arguments\": {\"x\": {\"from_node\": \"divide1\"}, \"y\": 0.4}}, \"multiply1\": {\"process_id\": \"multiply\", \"arguments\": {\"x\": {\"from_node\": \"gt1\"}, \"y\": 1.0}, \"result\": true}}}}}, \"reducedimension2\": {\"process_id\": \"reduce_dimension\", \"arguments\": {\"data\": {\"from_node\": \"loadcollection1\"}, \"dimension\": \"bands\", \"reducer\": {\"process_graph\": {\"arrayelement3\": {\"process_id\": \"array_element\", \"arguments\": {\"data\": {\"from_parameter\": \"data\"}, \"index\": 2}}, \"eq1\": {\"process_id\": \"eq\", \"arguments\": {\"x\": {\"from_node\": \"arrayelement3\"}, \"y\": 8}}, \"eq2\": {\"process_id\": \"eq\", \"arguments\": {\"x\": {\"from_node\": \"arrayelement3\"}, \"y\": 9}}, \"or1\": {\"process_id\": \"or\", \"arguments\": {\"x\": {\"from_node\": \"eq1\"}, \"y\": {\"from_node\": \"eq2\"}}}, \"eq3\": {\"process_id\": \"eq\", \"arguments\": {\"x\": {\"from_node\": \"arrayelement3\"}, \"y\": 3}}, \"or2\": {\"process_id\": \"or\", \"arguments\": {\"x\": {\"from_node\": \"or1\"}, \"y\": {\"from_node\": \"eq3\"}}}, \"multiply2\": {\"process_id\": \"multiply\", \"arguments\": {\"x\": {\"from_node\": \"or2\"}, \"y\": 1.0}, \"result\": true}}}}}, \"mask1\": {\"process_id\": \"mask\", \"arguments\": {\"data\": {\"from_node\": \"reducedimension1\"}, \"mask\": {\"from_node\": \"reducedimension2\"}}}, \"reducedimension3\": {\"process_id\": \"reduce_dimension\", \"arguments\": {\"data\": {\"from_node\": \"mask1\"}, \"dimension\": \"t\", \"reducer\": {\"process_graph\": {\"median1\": {\"process_id\": \"median\", \"arguments\": {\"data\": {\"from_parameter\": \"data\"}}, \"result\": true}}}}, \"result\": true}}}}</script>\n",
       "    </openeo-model-builder>\n",
       "    "
      ],
      "text/plain": [
       "<openeo.rest.datacube.DataCube at 0x7f8e68dc6c40>"
      ]
     },
     "execution_count": 10,
     "metadata": {},
     "output_type": "execute_result"
    }
   ],
   "source": [
    "snow_map_3dcube = snow_map_4dcube.reduce_dimension(reducer=\"median\", dimension=\"t\")\n",
    "snow_map_3dcube"
   ]
  },
  {
   "cell_type": "markdown",
   "id": "251ba878-3841-479a-868e-886d701f50ef",
   "metadata": {
    "tags": []
   },
   "source": [
    "### Download result"
   ]
  },
  {
   "cell_type": "code",
   "execution_count": 13,
   "id": "d654adb3-fcc0-413c-bd5c-28de5564e570",
   "metadata": {
    "tags": []
   },
   "outputs": [],
   "source": [
    "# create a batch job\n",
    "snowmap_cog = snow_map_3dcube.save_result(format = \"GTiff\") #, options = {\"overviews\": \"AUTO\"})"
   ]
  },
  {
   "cell_type": "code",
   "execution_count": 14,
   "id": "1fc7c255-2f67-44a1-978b-2bb51b05eab3",
   "metadata": {
    "tags": []
   },
   "outputs": [],
   "source": [
    "job = snowmap_cog.create_job(title=\"snowmap_cog\")\n",
    "job.start_job()"
   ]
  },
  {
   "cell_type": "code",
   "execution_count": 18,
   "id": "c76b99e1-6eff-4974-adee-0d0e161ef0b6",
   "metadata": {
    "tags": []
   },
   "outputs": [
    {
     "data": {
      "text/plain": [
       "'finished'"
      ]
     },
     "execution_count": 18,
     "metadata": {},
     "output_type": "execute_result"
    }
   ],
   "source": [
    "job.status()"
   ]
  },
  {
   "cell_type": "code",
   "execution_count": 19,
   "id": "219830d8-edec-48d8-b8b0-317112b32899",
   "metadata": {
    "tags": []
   },
   "outputs": [],
   "source": [
    "if job.status() == \"finished\":\n",
    "    results = job.get_results()\n",
    "    results.download_files(\"results/\")"
   ]
  },
  {
   "cell_type": "code",
   "execution_count": 20,
   "id": "96022b16-5714-4f8b-949f-e9183270b451",
   "metadata": {},
   "outputs": [
    {
     "data": {
      "text/html": [
       "<div><svg style=\"position: absolute; width: 0; height: 0; overflow: hidden\">\n",
       "<defs>\n",
       "<symbol id=\"icon-database\" viewBox=\"0 0 32 32\">\n",
       "<path d=\"M16 0c-8.837 0-16 2.239-16 5v4c0 2.761 7.163 5 16 5s16-2.239 16-5v-4c0-2.761-7.163-5-16-5z\"></path>\n",
       "<path d=\"M16 17c-8.837 0-16-2.239-16-5v6c0 2.761 7.163 5 16 5s16-2.239 16-5v-6c0 2.761-7.163 5-16 5z\"></path>\n",
       "<path d=\"M16 26c-8.837 0-16-2.239-16-5v6c0 2.761 7.163 5 16 5s16-2.239 16-5v-6c0 2.761-7.163 5-16 5z\"></path>\n",
       "</symbol>\n",
       "<symbol id=\"icon-file-text2\" viewBox=\"0 0 32 32\">\n",
       "<path d=\"M28.681 7.159c-0.694-0.947-1.662-2.053-2.724-3.116s-2.169-2.030-3.116-2.724c-1.612-1.182-2.393-1.319-2.841-1.319h-15.5c-1.378 0-2.5 1.121-2.5 2.5v27c0 1.378 1.122 2.5 2.5 2.5h23c1.378 0 2.5-1.122 2.5-2.5v-19.5c0-0.448-0.137-1.23-1.319-2.841zM24.543 5.457c0.959 0.959 1.712 1.825 2.268 2.543h-4.811v-4.811c0.718 0.556 1.584 1.309 2.543 2.268zM28 29.5c0 0.271-0.229 0.5-0.5 0.5h-23c-0.271 0-0.5-0.229-0.5-0.5v-27c0-0.271 0.229-0.5 0.5-0.5 0 0 15.499-0 15.5 0v7c0 0.552 0.448 1 1 1h7v19.5z\"></path>\n",
       "<path d=\"M23 26h-14c-0.552 0-1-0.448-1-1s0.448-1 1-1h14c0.552 0 1 0.448 1 1s-0.448 1-1 1z\"></path>\n",
       "<path d=\"M23 22h-14c-0.552 0-1-0.448-1-1s0.448-1 1-1h14c0.552 0 1 0.448 1 1s-0.448 1-1 1z\"></path>\n",
       "<path d=\"M23 18h-14c-0.552 0-1-0.448-1-1s0.448-1 1-1h14c0.552 0 1 0.448 1 1s-0.448 1-1 1z\"></path>\n",
       "</symbol>\n",
       "</defs>\n",
       "</svg>\n",
       "<style>/* CSS stylesheet for displaying xarray objects in jupyterlab.\n",
       " *\n",
       " */\n",
       "\n",
       ":root {\n",
       "  --xr-font-color0: var(--jp-content-font-color0, rgba(0, 0, 0, 1));\n",
       "  --xr-font-color2: var(--jp-content-font-color2, rgba(0, 0, 0, 0.54));\n",
       "  --xr-font-color3: var(--jp-content-font-color3, rgba(0, 0, 0, 0.38));\n",
       "  --xr-border-color: var(--jp-border-color2, #e0e0e0);\n",
       "  --xr-disabled-color: var(--jp-layout-color3, #bdbdbd);\n",
       "  --xr-background-color: var(--jp-layout-color0, white);\n",
       "  --xr-background-color-row-even: var(--jp-layout-color1, white);\n",
       "  --xr-background-color-row-odd: var(--jp-layout-color2, #eeeeee);\n",
       "}\n",
       "\n",
       "html[theme=dark],\n",
       "body[data-theme=dark],\n",
       "body.vscode-dark {\n",
       "  --xr-font-color0: rgba(255, 255, 255, 1);\n",
       "  --xr-font-color2: rgba(255, 255, 255, 0.54);\n",
       "  --xr-font-color3: rgba(255, 255, 255, 0.38);\n",
       "  --xr-border-color: #1F1F1F;\n",
       "  --xr-disabled-color: #515151;\n",
       "  --xr-background-color: #111111;\n",
       "  --xr-background-color-row-even: #111111;\n",
       "  --xr-background-color-row-odd: #313131;\n",
       "}\n",
       "\n",
       ".xr-wrap {\n",
       "  display: block !important;\n",
       "  min-width: 300px;\n",
       "  max-width: 700px;\n",
       "}\n",
       "\n",
       ".xr-text-repr-fallback {\n",
       "  /* fallback to plain text repr when CSS is not injected (untrusted notebook) */\n",
       "  display: none;\n",
       "}\n",
       "\n",
       ".xr-header {\n",
       "  padding-top: 6px;\n",
       "  padding-bottom: 6px;\n",
       "  margin-bottom: 4px;\n",
       "  border-bottom: solid 1px var(--xr-border-color);\n",
       "}\n",
       "\n",
       ".xr-header > div,\n",
       ".xr-header > ul {\n",
       "  display: inline;\n",
       "  margin-top: 0;\n",
       "  margin-bottom: 0;\n",
       "}\n",
       "\n",
       ".xr-obj-type,\n",
       ".xr-array-name {\n",
       "  margin-left: 2px;\n",
       "  margin-right: 10px;\n",
       "}\n",
       "\n",
       ".xr-obj-type {\n",
       "  color: var(--xr-font-color2);\n",
       "}\n",
       "\n",
       ".xr-sections {\n",
       "  padding-left: 0 !important;\n",
       "  display: grid;\n",
       "  grid-template-columns: 150px auto auto 1fr 20px 20px;\n",
       "}\n",
       "\n",
       ".xr-section-item {\n",
       "  display: contents;\n",
       "}\n",
       "\n",
       ".xr-section-item input {\n",
       "  display: none;\n",
       "}\n",
       "\n",
       ".xr-section-item input + label {\n",
       "  color: var(--xr-disabled-color);\n",
       "}\n",
       "\n",
       ".xr-section-item input:enabled + label {\n",
       "  cursor: pointer;\n",
       "  color: var(--xr-font-color2);\n",
       "}\n",
       "\n",
       ".xr-section-item input:enabled + label:hover {\n",
       "  color: var(--xr-font-color0);\n",
       "}\n",
       "\n",
       ".xr-section-summary {\n",
       "  grid-column: 1;\n",
       "  color: var(--xr-font-color2);\n",
       "  font-weight: 500;\n",
       "}\n",
       "\n",
       ".xr-section-summary > span {\n",
       "  display: inline-block;\n",
       "  padding-left: 0.5em;\n",
       "}\n",
       "\n",
       ".xr-section-summary-in:disabled + label {\n",
       "  color: var(--xr-font-color2);\n",
       "}\n",
       "\n",
       ".xr-section-summary-in + label:before {\n",
       "  display: inline-block;\n",
       "  content: '►';\n",
       "  font-size: 11px;\n",
       "  width: 15px;\n",
       "  text-align: center;\n",
       "}\n",
       "\n",
       ".xr-section-summary-in:disabled + label:before {\n",
       "  color: var(--xr-disabled-color);\n",
       "}\n",
       "\n",
       ".xr-section-summary-in:checked + label:before {\n",
       "  content: '▼';\n",
       "}\n",
       "\n",
       ".xr-section-summary-in:checked + label > span {\n",
       "  display: none;\n",
       "}\n",
       "\n",
       ".xr-section-summary,\n",
       ".xr-section-inline-details {\n",
       "  padding-top: 4px;\n",
       "  padding-bottom: 4px;\n",
       "}\n",
       "\n",
       ".xr-section-inline-details {\n",
       "  grid-column: 2 / -1;\n",
       "}\n",
       "\n",
       ".xr-section-details {\n",
       "  display: none;\n",
       "  grid-column: 1 / -1;\n",
       "  margin-bottom: 5px;\n",
       "}\n",
       "\n",
       ".xr-section-summary-in:checked ~ .xr-section-details {\n",
       "  display: contents;\n",
       "}\n",
       "\n",
       ".xr-array-wrap {\n",
       "  grid-column: 1 / -1;\n",
       "  display: grid;\n",
       "  grid-template-columns: 20px auto;\n",
       "}\n",
       "\n",
       ".xr-array-wrap > label {\n",
       "  grid-column: 1;\n",
       "  vertical-align: top;\n",
       "}\n",
       "\n",
       ".xr-preview {\n",
       "  color: var(--xr-font-color3);\n",
       "}\n",
       "\n",
       ".xr-array-preview,\n",
       ".xr-array-data {\n",
       "  padding: 0 5px !important;\n",
       "  grid-column: 2;\n",
       "}\n",
       "\n",
       ".xr-array-data,\n",
       ".xr-array-in:checked ~ .xr-array-preview {\n",
       "  display: none;\n",
       "}\n",
       "\n",
       ".xr-array-in:checked ~ .xr-array-data,\n",
       ".xr-array-preview {\n",
       "  display: inline-block;\n",
       "}\n",
       "\n",
       ".xr-dim-list {\n",
       "  display: inline-block !important;\n",
       "  list-style: none;\n",
       "  padding: 0 !important;\n",
       "  margin: 0;\n",
       "}\n",
       "\n",
       ".xr-dim-list li {\n",
       "  display: inline-block;\n",
       "  padding: 0;\n",
       "  margin: 0;\n",
       "}\n",
       "\n",
       ".xr-dim-list:before {\n",
       "  content: '(';\n",
       "}\n",
       "\n",
       ".xr-dim-list:after {\n",
       "  content: ')';\n",
       "}\n",
       "\n",
       ".xr-dim-list li:not(:last-child):after {\n",
       "  content: ',';\n",
       "  padding-right: 5px;\n",
       "}\n",
       "\n",
       ".xr-has-index {\n",
       "  font-weight: bold;\n",
       "}\n",
       "\n",
       ".xr-var-list,\n",
       ".xr-var-item {\n",
       "  display: contents;\n",
       "}\n",
       "\n",
       ".xr-var-item > div,\n",
       ".xr-var-item label,\n",
       ".xr-var-item > .xr-var-name span {\n",
       "  background-color: var(--xr-background-color-row-even);\n",
       "  margin-bottom: 0;\n",
       "}\n",
       "\n",
       ".xr-var-item > .xr-var-name:hover span {\n",
       "  padding-right: 5px;\n",
       "}\n",
       "\n",
       ".xr-var-list > li:nth-child(odd) > div,\n",
       ".xr-var-list > li:nth-child(odd) > label,\n",
       ".xr-var-list > li:nth-child(odd) > .xr-var-name span {\n",
       "  background-color: var(--xr-background-color-row-odd);\n",
       "}\n",
       "\n",
       ".xr-var-name {\n",
       "  grid-column: 1;\n",
       "}\n",
       "\n",
       ".xr-var-dims {\n",
       "  grid-column: 2;\n",
       "}\n",
       "\n",
       ".xr-var-dtype {\n",
       "  grid-column: 3;\n",
       "  text-align: right;\n",
       "  color: var(--xr-font-color2);\n",
       "}\n",
       "\n",
       ".xr-var-preview {\n",
       "  grid-column: 4;\n",
       "}\n",
       "\n",
       ".xr-index-preview {\n",
       "  grid-column: 2 / 5;\n",
       "  color: var(--xr-font-color2);\n",
       "}\n",
       "\n",
       ".xr-var-name,\n",
       ".xr-var-dims,\n",
       ".xr-var-dtype,\n",
       ".xr-preview,\n",
       ".xr-attrs dt {\n",
       "  white-space: nowrap;\n",
       "  overflow: hidden;\n",
       "  text-overflow: ellipsis;\n",
       "  padding-right: 10px;\n",
       "}\n",
       "\n",
       ".xr-var-name:hover,\n",
       ".xr-var-dims:hover,\n",
       ".xr-var-dtype:hover,\n",
       ".xr-attrs dt:hover {\n",
       "  overflow: visible;\n",
       "  width: auto;\n",
       "  z-index: 1;\n",
       "}\n",
       "\n",
       ".xr-var-attrs,\n",
       ".xr-var-data,\n",
       ".xr-index-data {\n",
       "  display: none;\n",
       "  background-color: var(--xr-background-color) !important;\n",
       "  padding-bottom: 5px !important;\n",
       "}\n",
       "\n",
       ".xr-var-attrs-in:checked ~ .xr-var-attrs,\n",
       ".xr-var-data-in:checked ~ .xr-var-data,\n",
       ".xr-index-data-in:checked ~ .xr-index-data {\n",
       "  display: block;\n",
       "}\n",
       "\n",
       ".xr-var-data > table {\n",
       "  float: right;\n",
       "}\n",
       "\n",
       ".xr-var-name span,\n",
       ".xr-var-data,\n",
       ".xr-index-name div,\n",
       ".xr-index-data,\n",
       ".xr-attrs {\n",
       "  padding-left: 25px !important;\n",
       "}\n",
       "\n",
       ".xr-attrs,\n",
       ".xr-var-attrs,\n",
       ".xr-var-data,\n",
       ".xr-index-data {\n",
       "  grid-column: 1 / -1;\n",
       "}\n",
       "\n",
       "dl.xr-attrs {\n",
       "  padding: 0;\n",
       "  margin: 0;\n",
       "  display: grid;\n",
       "  grid-template-columns: 125px auto;\n",
       "}\n",
       "\n",
       ".xr-attrs dt,\n",
       ".xr-attrs dd {\n",
       "  padding: 0;\n",
       "  margin: 0;\n",
       "  float: left;\n",
       "  padding-right: 10px;\n",
       "  width: auto;\n",
       "}\n",
       "\n",
       ".xr-attrs dt {\n",
       "  font-weight: normal;\n",
       "  grid-column: 1;\n",
       "}\n",
       "\n",
       ".xr-attrs dt:hover span {\n",
       "  display: inline-block;\n",
       "  background: var(--xr-background-color);\n",
       "  padding-right: 10px;\n",
       "}\n",
       "\n",
       ".xr-attrs dd {\n",
       "  grid-column: 2;\n",
       "  white-space: pre-wrap;\n",
       "  word-break: break-all;\n",
       "}\n",
       "\n",
       ".xr-icon-database,\n",
       ".xr-icon-file-text2,\n",
       ".xr-no-icon {\n",
       "  display: inline-block;\n",
       "  vertical-align: middle;\n",
       "  width: 1em;\n",
       "  height: 1.5em !important;\n",
       "  stroke-width: 0;\n",
       "  stroke: currentColor;\n",
       "  fill: currentColor;\n",
       "}\n",
       "</style><pre class='xr-text-repr-fallback'>&lt;xarray.DataArray (band: 1, y: 209, x: 145)&gt;\n",
       "[30305 values with dtype=float32]\n",
       "Coordinates:\n",
       "  * band         (band) int64 1\n",
       "  * x            (x) float64 6.837e+05 6.837e+05 ... 6.852e+05 6.852e+05\n",
       "  * y            (y) float64 5.157e+06 5.157e+06 ... 5.155e+06 5.155e+06\n",
       "    spatial_ref  int64 0\n",
       "Attributes:\n",
       "    AREA_OR_POINT:        Area\n",
       "    PROCESSING_SOFTWARE:  0.19.2a1\n",
       "    _FillValue:           nan\n",
       "    scale_factor:         1.0\n",
       "    add_offset:           0.0</pre><div class='xr-wrap' style='display:none'><div class='xr-header'><div class='xr-obj-type'>xarray.DataArray</div><div class='xr-array-name'></div><ul class='xr-dim-list'><li><span class='xr-has-index'>band</span>: 1</li><li><span class='xr-has-index'>y</span>: 209</li><li><span class='xr-has-index'>x</span>: 145</li></ul></div><ul class='xr-sections'><li class='xr-section-item'><div class='xr-array-wrap'><input id='section-e5d3c35c-90c5-4f50-b5e1-01ae3501789d' class='xr-array-in' type='checkbox' checked><label for='section-e5d3c35c-90c5-4f50-b5e1-01ae3501789d' title='Show/hide data repr'><svg class='icon xr-icon-database'><use xlink:href='#icon-database'></use></svg></label><div class='xr-array-preview xr-preview'><span>...</span></div><div class='xr-array-data'><pre>[30305 values with dtype=float32]</pre></div></div></li><li class='xr-section-item'><input id='section-ec67b040-56f3-41b1-a4a8-1478102e1c10' class='xr-section-summary-in' type='checkbox'  checked><label for='section-ec67b040-56f3-41b1-a4a8-1478102e1c10' class='xr-section-summary' >Coordinates: <span>(4)</span></label><div class='xr-section-inline-details'></div><div class='xr-section-details'><ul class='xr-var-list'><li class='xr-var-item'><div class='xr-var-name'><span class='xr-has-index'>band</span></div><div class='xr-var-dims'>(band)</div><div class='xr-var-dtype'>int64</div><div class='xr-var-preview xr-preview'>1</div><input id='attrs-261ea2ba-9e06-4132-8ab5-66089963b3b9' class='xr-var-attrs-in' type='checkbox' disabled><label for='attrs-261ea2ba-9e06-4132-8ab5-66089963b3b9' title='Show/Hide attributes'><svg class='icon xr-icon-file-text2'><use xlink:href='#icon-file-text2'></use></svg></label><input id='data-ee87bedc-9813-4d75-919b-c98bbe151e3c' class='xr-var-data-in' type='checkbox'><label for='data-ee87bedc-9813-4d75-919b-c98bbe151e3c' title='Show/Hide data repr'><svg class='icon xr-icon-database'><use xlink:href='#icon-database'></use></svg></label><div class='xr-var-attrs'><dl class='xr-attrs'></dl></div><div class='xr-var-data'><pre>array([1])</pre></div></li><li class='xr-var-item'><div class='xr-var-name'><span class='xr-has-index'>x</span></div><div class='xr-var-dims'>(x)</div><div class='xr-var-dtype'>float64</div><div class='xr-var-preview xr-preview'>6.837e+05 6.837e+05 ... 6.852e+05</div><input id='attrs-a216e7d9-b770-477c-b2cb-866b57098bc6' class='xr-var-attrs-in' type='checkbox' disabled><label for='attrs-a216e7d9-b770-477c-b2cb-866b57098bc6' title='Show/Hide attributes'><svg class='icon xr-icon-file-text2'><use xlink:href='#icon-file-text2'></use></svg></label><input id='data-e670d4e3-ab7c-420f-90e8-d7619fba6feb' class='xr-var-data-in' type='checkbox'><label for='data-e670d4e3-ab7c-420f-90e8-d7619fba6feb' title='Show/Hide data repr'><svg class='icon xr-icon-database'><use xlink:href='#icon-database'></use></svg></label><div class='xr-var-attrs'><dl class='xr-attrs'></dl></div><div class='xr-var-data'><pre>array([683725., 683735., 683745., 683755., 683765., 683775., 683785., 683795.,\n",
       "       683805., 683815., 683825., 683835., 683845., 683855., 683865., 683875.,\n",
       "       683885., 683895., 683905., 683915., 683925., 683935., 683945., 683955.,\n",
       "       683965., 683975., 683985., 683995., 684005., 684015., 684025., 684035.,\n",
       "       684045., 684055., 684065., 684075., 684085., 684095., 684105., 684115.,\n",
       "       684125., 684135., 684145., 684155., 684165., 684175., 684185., 684195.,\n",
       "       684205., 684215., 684225., 684235., 684245., 684255., 684265., 684275.,\n",
       "       684285., 684295., 684305., 684315., 684325., 684335., 684345., 684355.,\n",
       "       684365., 684375., 684385., 684395., 684405., 684415., 684425., 684435.,\n",
       "       684445., 684455., 684465., 684475., 684485., 684495., 684505., 684515.,\n",
       "       684525., 684535., 684545., 684555., 684565., 684575., 684585., 684595.,\n",
       "       684605., 684615., 684625., 684635., 684645., 684655., 684665., 684675.,\n",
       "       684685., 684695., 684705., 684715., 684725., 684735., 684745., 684755.,\n",
       "       684765., 684775., 684785., 684795., 684805., 684815., 684825., 684835.,\n",
       "       684845., 684855., 684865., 684875., 684885., 684895., 684905., 684915.,\n",
       "       684925., 684935., 684945., 684955., 684965., 684975., 684985., 684995.,\n",
       "       685005., 685015., 685025., 685035., 685045., 685055., 685065., 685075.,\n",
       "       685085., 685095., 685105., 685115., 685125., 685135., 685145., 685155.,\n",
       "       685165.])</pre></div></li><li class='xr-var-item'><div class='xr-var-name'><span class='xr-has-index'>y</span></div><div class='xr-var-dims'>(y)</div><div class='xr-var-dtype'>float64</div><div class='xr-var-preview xr-preview'>5.157e+06 5.157e+06 ... 5.155e+06</div><input id='attrs-2a413ba4-eb25-4878-bb7b-f9196d6400c1' class='xr-var-attrs-in' type='checkbox' disabled><label for='attrs-2a413ba4-eb25-4878-bb7b-f9196d6400c1' title='Show/Hide attributes'><svg class='icon xr-icon-file-text2'><use xlink:href='#icon-file-text2'></use></svg></label><input id='data-824a4fe2-42f6-4dd5-866d-be11ebb1d1b3' class='xr-var-data-in' type='checkbox'><label for='data-824a4fe2-42f6-4dd5-866d-be11ebb1d1b3' title='Show/Hide data repr'><svg class='icon xr-icon-database'><use xlink:href='#icon-database'></use></svg></label><div class='xr-var-attrs'><dl class='xr-attrs'></dl></div><div class='xr-var-data'><pre>array([5156725., 5156715., 5156705., ..., 5154665., 5154655., 5154645.])</pre></div></li><li class='xr-var-item'><div class='xr-var-name'><span>spatial_ref</span></div><div class='xr-var-dims'>()</div><div class='xr-var-dtype'>int64</div><div class='xr-var-preview xr-preview'>0</div><input id='attrs-3c3122c2-848e-412d-941a-cb7bcc546ba8' class='xr-var-attrs-in' type='checkbox' ><label for='attrs-3c3122c2-848e-412d-941a-cb7bcc546ba8' title='Show/Hide attributes'><svg class='icon xr-icon-file-text2'><use xlink:href='#icon-file-text2'></use></svg></label><input id='data-05ab94f4-2508-4c56-b433-6f373818ec60' class='xr-var-data-in' type='checkbox'><label for='data-05ab94f4-2508-4c56-b433-6f373818ec60' title='Show/Hide data repr'><svg class='icon xr-icon-database'><use xlink:href='#icon-database'></use></svg></label><div class='xr-var-attrs'><dl class='xr-attrs'><dt><span>crs_wkt :</span></dt><dd>PROJCS[&quot;WGS 84 / UTM zone 32N&quot;,GEOGCS[&quot;WGS 84&quot;,DATUM[&quot;WGS_1984&quot;,SPHEROID[&quot;WGS 84&quot;,6378137,298.257223563,AUTHORITY[&quot;EPSG&quot;,&quot;7030&quot;]],AUTHORITY[&quot;EPSG&quot;,&quot;6326&quot;]],PRIMEM[&quot;Greenwich&quot;,0,AUTHORITY[&quot;EPSG&quot;,&quot;8901&quot;]],UNIT[&quot;degree&quot;,0.0174532925199433,AUTHORITY[&quot;EPSG&quot;,&quot;9122&quot;]],AUTHORITY[&quot;EPSG&quot;,&quot;4326&quot;]],PROJECTION[&quot;Transverse_Mercator&quot;],PARAMETER[&quot;latitude_of_origin&quot;,0],PARAMETER[&quot;central_meridian&quot;,9],PARAMETER[&quot;scale_factor&quot;,0.9996],PARAMETER[&quot;false_easting&quot;,500000],PARAMETER[&quot;false_northing&quot;,0],UNIT[&quot;metre&quot;,1,AUTHORITY[&quot;EPSG&quot;,&quot;9001&quot;]],AXIS[&quot;Easting&quot;,EAST],AXIS[&quot;Northing&quot;,NORTH],AUTHORITY[&quot;EPSG&quot;,&quot;32632&quot;]]</dd><dt><span>semi_major_axis :</span></dt><dd>6378137.0</dd><dt><span>semi_minor_axis :</span></dt><dd>6356752.314245179</dd><dt><span>inverse_flattening :</span></dt><dd>298.257223563</dd><dt><span>reference_ellipsoid_name :</span></dt><dd>WGS 84</dd><dt><span>longitude_of_prime_meridian :</span></dt><dd>0.0</dd><dt><span>prime_meridian_name :</span></dt><dd>Greenwich</dd><dt><span>geographic_crs_name :</span></dt><dd>WGS 84</dd><dt><span>horizontal_datum_name :</span></dt><dd>World Geodetic System 1984</dd><dt><span>projected_crs_name :</span></dt><dd>WGS 84 / UTM zone 32N</dd><dt><span>grid_mapping_name :</span></dt><dd>transverse_mercator</dd><dt><span>latitude_of_projection_origin :</span></dt><dd>0.0</dd><dt><span>longitude_of_central_meridian :</span></dt><dd>9.0</dd><dt><span>false_easting :</span></dt><dd>500000.0</dd><dt><span>false_northing :</span></dt><dd>0.0</dd><dt><span>scale_factor_at_central_meridian :</span></dt><dd>0.9996</dd><dt><span>spatial_ref :</span></dt><dd>PROJCS[&quot;WGS 84 / UTM zone 32N&quot;,GEOGCS[&quot;WGS 84&quot;,DATUM[&quot;WGS_1984&quot;,SPHEROID[&quot;WGS 84&quot;,6378137,298.257223563,AUTHORITY[&quot;EPSG&quot;,&quot;7030&quot;]],AUTHORITY[&quot;EPSG&quot;,&quot;6326&quot;]],PRIMEM[&quot;Greenwich&quot;,0,AUTHORITY[&quot;EPSG&quot;,&quot;8901&quot;]],UNIT[&quot;degree&quot;,0.0174532925199433,AUTHORITY[&quot;EPSG&quot;,&quot;9122&quot;]],AUTHORITY[&quot;EPSG&quot;,&quot;4326&quot;]],PROJECTION[&quot;Transverse_Mercator&quot;],PARAMETER[&quot;latitude_of_origin&quot;,0],PARAMETER[&quot;central_meridian&quot;,9],PARAMETER[&quot;scale_factor&quot;,0.9996],PARAMETER[&quot;false_easting&quot;,500000],PARAMETER[&quot;false_northing&quot;,0],UNIT[&quot;metre&quot;,1,AUTHORITY[&quot;EPSG&quot;,&quot;9001&quot;]],AXIS[&quot;Easting&quot;,EAST],AXIS[&quot;Northing&quot;,NORTH],AUTHORITY[&quot;EPSG&quot;,&quot;32632&quot;]]</dd><dt><span>GeoTransform :</span></dt><dd>683720.0 10.0 0.0 5156730.0 0.0 -10.0</dd></dl></div><div class='xr-var-data'><pre>array(0)</pre></div></li></ul></div></li><li class='xr-section-item'><input id='section-caf1c276-10a1-4bd6-9961-976e68faa5db' class='xr-section-summary-in' type='checkbox'  ><label for='section-caf1c276-10a1-4bd6-9961-976e68faa5db' class='xr-section-summary' >Indexes: <span>(3)</span></label><div class='xr-section-inline-details'></div><div class='xr-section-details'><ul class='xr-var-list'><li class='xr-var-item'><div class='xr-index-name'><div>band</div></div><div class='xr-index-preview'>PandasIndex</div><div></div><input id='index-a0d1b407-edf6-4dbb-bc6e-be0db0bc5cb7' class='xr-index-data-in' type='checkbox'/><label for='index-a0d1b407-edf6-4dbb-bc6e-be0db0bc5cb7' title='Show/Hide index repr'><svg class='icon xr-icon-database'><use xlink:href='#icon-database'></use></svg></label><div class='xr-index-data'><pre>PandasIndex(Index([1], dtype=&#x27;int64&#x27;, name=&#x27;band&#x27;))</pre></div></li><li class='xr-var-item'><div class='xr-index-name'><div>x</div></div><div class='xr-index-preview'>PandasIndex</div><div></div><input id='index-2d43b0cd-9274-4886-a125-fcb495ebdaea' class='xr-index-data-in' type='checkbox'/><label for='index-2d43b0cd-9274-4886-a125-fcb495ebdaea' title='Show/Hide index repr'><svg class='icon xr-icon-database'><use xlink:href='#icon-database'></use></svg></label><div class='xr-index-data'><pre>PandasIndex(Index([683725.0, 683735.0, 683745.0, 683755.0, 683765.0, 683775.0, 683785.0,\n",
       "       683795.0, 683805.0, 683815.0,\n",
       "       ...\n",
       "       685075.0, 685085.0, 685095.0, 685105.0, 685115.0, 685125.0, 685135.0,\n",
       "       685145.0, 685155.0, 685165.0],\n",
       "      dtype=&#x27;float64&#x27;, name=&#x27;x&#x27;, length=145))</pre></div></li><li class='xr-var-item'><div class='xr-index-name'><div>y</div></div><div class='xr-index-preview'>PandasIndex</div><div></div><input id='index-3e3d000e-2dda-472a-a306-93d92c2f1d08' class='xr-index-data-in' type='checkbox'/><label for='index-3e3d000e-2dda-472a-a306-93d92c2f1d08' title='Show/Hide index repr'><svg class='icon xr-icon-database'><use xlink:href='#icon-database'></use></svg></label><div class='xr-index-data'><pre>PandasIndex(Index([5156725.0, 5156715.0, 5156705.0, 5156695.0, 5156685.0, 5156675.0,\n",
       "       5156665.0, 5156655.0, 5156645.0, 5156635.0,\n",
       "       ...\n",
       "       5154735.0, 5154725.0, 5154715.0, 5154705.0, 5154695.0, 5154685.0,\n",
       "       5154675.0, 5154665.0, 5154655.0, 5154645.0],\n",
       "      dtype=&#x27;float64&#x27;, name=&#x27;y&#x27;, length=209))</pre></div></li></ul></div></li><li class='xr-section-item'><input id='section-c5d3fe9d-d13a-4a0b-ba84-870ccdae3b6e' class='xr-section-summary-in' type='checkbox'  checked><label for='section-c5d3fe9d-d13a-4a0b-ba84-870ccdae3b6e' class='xr-section-summary' >Attributes: <span>(5)</span></label><div class='xr-section-inline-details'></div><div class='xr-section-details'><dl class='xr-attrs'><dt><span>AREA_OR_POINT :</span></dt><dd>Area</dd><dt><span>PROCESSING_SOFTWARE :</span></dt><dd>0.19.2a1</dd><dt><span>_FillValue :</span></dt><dd>nan</dd><dt><span>scale_factor :</span></dt><dd>1.0</dd><dt><span>add_offset :</span></dt><dd>0.0</dd></dl></div></li></ul></div></div>"
      ],
      "text/plain": [
       "<xarray.DataArray (band: 1, y: 209, x: 145)>\n",
       "[30305 values with dtype=float32]\n",
       "Coordinates:\n",
       "  * band         (band) int64 1\n",
       "  * x            (x) float64 6.837e+05 6.837e+05 ... 6.852e+05 6.852e+05\n",
       "  * y            (y) float64 5.157e+06 5.157e+06 ... 5.155e+06 5.155e+06\n",
       "    spatial_ref  int64 0\n",
       "Attributes:\n",
       "    AREA_OR_POINT:        Area\n",
       "    PROCESSING_SOFTWARE:  0.19.2a1\n",
       "    _FillValue:           nan\n",
       "    scale_factor:         1.0\n",
       "    add_offset:           0.0"
      ]
     },
     "execution_count": 20,
     "metadata": {},
     "output_type": "execute_result"
    }
   ],
   "source": [
    "snowmap = rio.open_rasterio(\"results/openEO.tif\",decode_coords=\"all\")\n",
    "snowmap"
   ]
  },
  {
   "cell_type": "markdown",
   "id": "034610a1-f2e7-44e5-9f83-43b74d7ad058",
   "metadata": {},
   "source": [
    "### Visualize result"
   ]
  },
  {
   "cell_type": "code",
   "execution_count": 21,
   "id": "147d9058-ccc7-4700-8a43-f6fecab55bc6",
   "metadata": {
    "tags": []
   },
   "outputs": [
    {
     "data": {
      "text/plain": [
       "<matplotlib.collections.QuadMesh at 0x7f8e67709580>"
      ]
     },
     "execution_count": 21,
     "metadata": {},
     "output_type": "execute_result"
    },
    {
     "data": {
      "image/png": "[encoded data removed]",
      "text/plain": [
       "<Figure size 640x480 with 2 Axes>"
      ]
     },
     "metadata": {},
     "output_type": "display_data"
    }
   ],
   "source": [
    "snowmap.plot()"
   ]
  },
  {
   "cell_type": "code",
   "execution_count": 22,
   "id": "1cee7c43-d939-462c-853d-d80a5883dd9b",
   "metadata": {
    "tags": []
   },
   "outputs": [],
   "source": [
    "stac_item = results.get_metadata()"
   ]
  },
  {
   "cell_type": "code",
   "execution_count": 23,
   "id": "c948170e-b4fd-4fd9-9123-6288999690be",
   "metadata": {
    "tags": []
   },
   "outputs": [
    {
     "data": {
      "text/plain": [
       "{'assets': {'openEO.tif': {'file:nodata': ['nan'],\n",
       "   'href': 'https://openeo.dataspace.copernicus.eu/openeo/1.1/jobs/j-2311159d5c19419e97f9cd204828b161/results/assets/MDYxODNjYmMtODRjOC00YzZhLThhN2QtY2IxOGJhMDhjYzhj/d19e802d03e5e47b3e2b9556bee79313/openEO.tif?expires=1700646046',\n",
       "   'proj:bbox': [683720.0, 5154640.0, 685170.0, 5156730.0],\n",
       "   'proj:epsg': 32632,\n",
       "   'proj:shape': [145, 209],\n",
       "   'raster:bands': [{'name': '1',\n",
       "     'statistics': {'maximum': 1.0,\n",
       "      'mean': 0.26924599901006,\n",
       "      'minimum': 0.0,\n",
       "      'stddev': 0.43847078952239,\n",
       "      'valid_percent': 100.0}}],\n",
       "   'roles': ['data'],\n",
       "   'title': 'openEO.tif',\n",
       "   'type': 'image/tiff; application=geotiff'}},\n",
       " 'description': 'Results for batch job j-2311159d5c19419e97f9cd204828b161',\n",
       " 'extent': {'spatial': {'bbox': [[11.396102783940814,\n",
       "     46.520292622936324,\n",
       "     11.414089216059187,\n",
       "     46.53864137706367]]},\n",
       "  'temporal': {'interval': [['2018-01-01T00:00:00Z',\n",
       "     '2018-02-15T00:00:00Z']]}},\n",
       " 'id': 'j-2311159d5c19419e97f9cd204828b161',\n",
       " 'license': 'proprietary',\n",
       " 'links': [{'href': '/eodata/Sentinel-2/MSI/L2A/2018/01/02/S2A_MSIL2A_20180102T102421_N9999_R065_T32TPS_20221108T215439',\n",
       "   'rel': 'derived_from',\n",
       "   'title': 'Derived from /eodata/Sentinel-2/MSI/L2A/2018/01/02/S2A_MSIL2A_20180102T102421_N9999_R065_T32TPS_20221108T215439',\n",
       "   'type': 'application/json'},\n",
       "  {'href': '/eodata/Sentinel-2/MSI/L2A/2018/01/04/S2B_MSIL2A_20180104T101409_N9999_R022_T32TPS_20221109T045049',\n",
       "   'rel': 'derived_from',\n",
       "   'title': 'Derived from /eodata/Sentinel-2/MSI/L2A/2018/01/04/S2B_MSIL2A_20180104T101409_N9999_R022_T32TPS_20221109T045049',\n",
       "   'type': 'application/json'},\n",
       "  {'href': '/eodata/Sentinel-2/MSI/L2A/2018/01/07/S2B_MSIL2A_20180107T102359_N9999_R065_T32TPS_20221108T215306',\n",
       "   'rel': 'derived_from',\n",
       "   'title': 'Derived from /eodata/Sentinel-2/MSI/L2A/2018/01/07/S2B_MSIL2A_20180107T102359_N9999_R065_T32TPS_20221108T215306',\n",
       "   'type': 'application/json'},\n",
       "  {'href': '/eodata/Sentinel-2/MSI/L2A/2018/01/09/S2A_MSIL2A_20180109T101401_N9999_R022_T32TPS_20221109T045921',\n",
       "   'rel': 'derived_from',\n",
       "   'title': 'Derived from /eodata/Sentinel-2/MSI/L2A/2018/01/09/S2A_MSIL2A_20180109T101401_N9999_R022_T32TPS_20221109T045921',\n",
       "   'type': 'application/json'},\n",
       "  {'href': '/eodata/Sentinel-2/MSI/L2A/2018/01/12/S2A_MSIL2A_20180112T102401_N9999_R065_T32TPS_20221109T004423',\n",
       "   'rel': 'derived_from',\n",
       "   'title': 'Derived from /eodata/Sentinel-2/MSI/L2A/2018/01/12/S2A_MSIL2A_20180112T102401_N9999_R065_T32TPS_20221109T004423',\n",
       "   'type': 'application/json'},\n",
       "  {'href': '/eodata/Sentinel-2/MSI/L2A/2018/01/14/S2B_MSIL2A_20180114T101349_N9999_R022_T32TPS_20221109T050727',\n",
       "   'rel': 'derived_from',\n",
       "   'title': 'Derived from /eodata/Sentinel-2/MSI/L2A/2018/01/14/S2B_MSIL2A_20180114T101349_N9999_R022_T32TPS_20221109T050727',\n",
       "   'type': 'application/json'},\n",
       "  {'href': '/eodata/Sentinel-2/MSI/L2A/2018/01/17/S2B_MSIL2A_20180117T102339_N9999_R065_T32TPS_20221108T215336',\n",
       "   'rel': 'derived_from',\n",
       "   'title': 'Derived from /eodata/Sentinel-2/MSI/L2A/2018/01/17/S2B_MSIL2A_20180117T102339_N9999_R065_T32TPS_20221108T215336',\n",
       "   'type': 'application/json'},\n",
       "  {'href': '/eodata/Sentinel-2/MSI/L2A/2018/01/19/S2A_MSIL2A_20180119T101331_N9999_R022_T32TPS_20221109T053959',\n",
       "   'rel': 'derived_from',\n",
       "   'title': 'Derived from /eodata/Sentinel-2/MSI/L2A/2018/01/19/S2A_MSIL2A_20180119T101331_N9999_R022_T32TPS_20221109T053959',\n",
       "   'type': 'application/json'},\n",
       "  {'href': '/eodata/Sentinel-2/MSI/L2A/2018/01/22/S2A_MSIL2A_20180122T102321_N9999_R065_T32TPS_20221109T002539',\n",
       "   'rel': 'derived_from',\n",
       "   'title': 'Derived from /eodata/Sentinel-2/MSI/L2A/2018/01/22/S2A_MSIL2A_20180122T102321_N9999_R065_T32TPS_20221109T002539',\n",
       "   'type': 'application/json'},\n",
       "  {'href': '/eodata/Sentinel-2/MSI/L2A/2018/01/24/S2B_MSIL2A_20180124T101309_N9999_R022_T32TPS_20221022T180137',\n",
       "   'rel': 'derived_from',\n",
       "   'title': 'Derived from /eodata/Sentinel-2/MSI/L2A/2018/01/24/S2B_MSIL2A_20180124T101309_N9999_R022_T32TPS_20221022T180137',\n",
       "   'type': 'application/json'},\n",
       "  {'href': '/eodata/Sentinel-2/MSI/L2A/2018/01/27/S2B_MSIL2A_20180127T102259_N9999_R065_T32TPS_20221109T005600',\n",
       "   'rel': 'derived_from',\n",
       "   'title': 'Derived from /eodata/Sentinel-2/MSI/L2A/2018/01/27/S2B_MSIL2A_20180127T102259_N9999_R065_T32TPS_20221109T005600',\n",
       "   'type': 'application/json'},\n",
       "  {'href': '/eodata/Sentinel-2/MSI/L2A/2018/01/29/S2A_MSIL2A_20180129T101251_N9999_R022_T32TPS_20221214T002602.SAFE',\n",
       "   'rel': 'derived_from',\n",
       "   'title': 'Derived from /eodata/Sentinel-2/MSI/L2A/2018/01/29/S2A_MSIL2A_20180129T101251_N9999_R022_T32TPS_20221214T002602.SAFE',\n",
       "   'type': 'application/json'},\n",
       "  {'href': '/eodata/Sentinel-2/MSI/L2A/2018/02/01/S2A_MSIL2A_20180201T102241_N9999_R065_T32TPS_20221214T002600.SAFE',\n",
       "   'rel': 'derived_from',\n",
       "   'title': 'Derived from /eodata/Sentinel-2/MSI/L2A/2018/02/01/S2A_MSIL2A_20180201T102241_N9999_R065_T32TPS_20221214T002600.SAFE',\n",
       "   'type': 'application/json'},\n",
       "  {'href': '/eodata/Sentinel-2/MSI/L2A/2018/02/03/S2B_MSIL2A_20180203T101219_N9999_R022_T32TPS_20221109T002247',\n",
       "   'rel': 'derived_from',\n",
       "   'title': 'Derived from /eodata/Sentinel-2/MSI/L2A/2018/02/03/S2B_MSIL2A_20180203T101219_N9999_R022_T32TPS_20221109T002247',\n",
       "   'type': 'application/json'},\n",
       "  {'href': '/eodata/Sentinel-2/MSI/L2A/2018/02/06/S2B_MSIL2A_20180206T102209_N9999_R065_T32TPS_20221109T011108',\n",
       "   'rel': 'derived_from',\n",
       "   'title': 'Derived from /eodata/Sentinel-2/MSI/L2A/2018/02/06/S2B_MSIL2A_20180206T102209_N9999_R065_T32TPS_20221109T011108',\n",
       "   'type': 'application/json'},\n",
       "  {'href': '/eodata/Sentinel-2/MSI/L2A/2018/02/08/S2A_MSIL2A_20180208T101151_N9999_R022_T32TPS_20221108T222122',\n",
       "   'rel': 'derived_from',\n",
       "   'title': 'Derived from /eodata/Sentinel-2/MSI/L2A/2018/02/08/S2A_MSIL2A_20180208T101151_N9999_R022_T32TPS_20221108T222122',\n",
       "   'type': 'application/json'},\n",
       "  {'href': '/eodata/Sentinel-2/MSI/L2A/2018/02/11/S2A_MSIL2A_20180211T102141_N9999_R065_T32TPS_20221109T052255',\n",
       "   'rel': 'derived_from',\n",
       "   'title': 'Derived from /eodata/Sentinel-2/MSI/L2A/2018/02/11/S2A_MSIL2A_20180211T102141_N9999_R065_T32TPS_20221109T052255',\n",
       "   'type': 'application/json'},\n",
       "  {'href': '/eodata/Sentinel-2/MSI/L2A/2018/02/13/S2B_MSIL2A_20180213T101119_N9999_R022_T32TPS_20221109T053034',\n",
       "   'rel': 'derived_from',\n",
       "   'title': 'Derived from /eodata/Sentinel-2/MSI/L2A/2018/02/13/S2B_MSIL2A_20180213T101119_N9999_R022_T32TPS_20221109T053034',\n",
       "   'type': 'application/json'},\n",
       "  {'href': 'https://openeo.dataspace.copernicus.eu/openeo/1.1/jobs/j-2311159d5c19419e97f9cd204828b161/results',\n",
       "   'rel': 'self',\n",
       "   'type': 'application/json'},\n",
       "  {'href': 'https://openeo.dataspace.copernicus.eu/openeo/1.1/jobs/j-2311159d5c19419e97f9cd204828b161/results/MDYxODNjYmMtODRjOC00YzZhLThhN2QtY2IxOGJhMDhjYzhj/8b8fcbede23e4389bbff15448e6125a3?expires=1700646046',\n",
       "   'rel': 'canonical',\n",
       "   'type': 'application/json'},\n",
       "  {'href': 'http://ceos.org/ard/files/PFS/SR/v5.0/CARD4L_Product_Family_Specification_Surface_Reflectance-v5.0.pdf',\n",
       "   'rel': 'card4l-document',\n",
       "   'type': 'application/pdf'},\n",
       "  {'href': 'https://openeo.dataspace.copernicus.eu/openeo/1.1/jobs/j-2311159d5c19419e97f9cd204828b161/results/items/MDYxODNjYmMtODRjOC00YzZhLThhN2QtY2IxOGJhMDhjYzhj/d19e802d03e5e47b3e2b9556bee79313/openEO.tif?expires=1700646046',\n",
       "   'rel': 'item',\n",
       "   'type': 'application/geo+json'}],\n",
       " 'openeo:status': 'finished',\n",
       " 'providers': [{'description': 'This data was processed on an openEO backend maintained by VITO.',\n",
       "   'name': 'VITO',\n",
       "   'processing:expression': [{'expression': {'loadcollection1': {'arguments': {'bands': ['B03',\n",
       "         'B11',\n",
       "         'SCL'],\n",
       "        'id': 'SENTINEL2_L2A',\n",
       "        'spatial_extent': {'crs': 4326,\n",
       "         'east': 11.414089216059187,\n",
       "         'north': 46.53864137706367,\n",
       "         'south': 46.520292622936324,\n",
       "         'west': 11.396102783940814},\n",
       "        'temporal_extent': ['2018-01-01', '2018-02-15']},\n",
       "       'process_id': 'load_collection'},\n",
       "      'mask1': {'arguments': {'data': {'from_node': 'reducedimension1'},\n",
       "        'mask': {'from_node': 'reducedimension2'}},\n",
       "       'process_id': 'mask'},\n",
       "      'reducedimension1': {'arguments': {'data': {'from_node': 'loadcollection1'},\n",
       "        'dimension': 'bands',\n",
       "        'reducer': {'process_graph': {'add1': {'arguments': {'x': {'from_node': 'arrayelement1'},\n",
       "            'y': {'from_node': 'arrayelement2'}},\n",
       "           'process_id': 'add'},\n",
       "          'arrayelement1': {'arguments': {'data': {'from_parameter': 'data'},\n",
       "            'index': 0},\n",
       "           'process_id': 'array_element'},\n",
       "          'arrayelement2': {'arguments': {'data': {'from_parameter': 'data'},\n",
       "            'index': 1},\n",
       "           'process_id': 'array_element'},\n",
       "          'divide1': {'arguments': {'x': {'from_node': 'subtract1'},\n",
       "            'y': {'from_node': 'add1'}},\n",
       "           'process_id': 'divide'},\n",
       "          'gt1': {'arguments': {'x': {'from_node': 'divide1'}, 'y': 0.4},\n",
       "           'process_id': 'gt'},\n",
       "          'multiply1': {'arguments': {'x': {'from_node': 'gt1'}, 'y': 1.0},\n",
       "           'process_id': 'multiply',\n",
       "           'result': True},\n",
       "          'subtract1': {'arguments': {'x': {'from_node': 'arrayelement1'},\n",
       "            'y': {'from_node': 'arrayelement2'}},\n",
       "           'process_id': 'subtract'}}}},\n",
       "       'process_id': 'reduce_dimension'},\n",
       "      'reducedimension2': {'arguments': {'data': {'from_node': 'loadcollection1'},\n",
       "        'dimension': 'bands',\n",
       "        'reducer': {'process_graph': {'arrayelement3': {'arguments': {'data': {'from_parameter': 'data'},\n",
       "            'index': 2},\n",
       "           'process_id': 'array_element'},\n",
       "          'eq1': {'arguments': {'x': {'from_node': 'arrayelement3'}, 'y': 8},\n",
       "           'process_id': 'eq'},\n",
       "          'eq2': {'arguments': {'x': {'from_node': 'arrayelement3'}, 'y': 9},\n",
       "           'process_id': 'eq'},\n",
       "          'eq3': {'arguments': {'x': {'from_node': 'arrayelement3'}, 'y': 3},\n",
       "           'process_id': 'eq'},\n",
       "          'multiply2': {'arguments': {'x': {'from_node': 'or2'}, 'y': 1.0},\n",
       "           'process_id': 'multiply',\n",
       "           'result': True},\n",
       "          'or1': {'arguments': {'x': {'from_node': 'eq1'},\n",
       "            'y': {'from_node': 'eq2'}},\n",
       "           'process_id': 'or'},\n",
       "          'or2': {'arguments': {'x': {'from_node': 'or1'},\n",
       "            'y': {'from_node': 'eq3'}},\n",
       "           'process_id': 'or'}}}},\n",
       "       'process_id': 'reduce_dimension'},\n",
       "      'reducedimension3': {'arguments': {'data': {'from_node': 'mask1'},\n",
       "        'dimension': 't',\n",
       "        'reducer': {'process_graph': {'median1': {'arguments': {'data': {'from_parameter': 'data'}},\n",
       "           'process_id': 'median',\n",
       "           'result': True}}}},\n",
       "       'process_id': 'reduce_dimension'},\n",
       "      'saveresult1': {'arguments': {'data': {'from_node': 'reducedimension3'},\n",
       "        'format': 'GTiff',\n",
       "        'options': {}},\n",
       "       'process_id': 'save_result',\n",
       "       'result': True}},\n",
       "     'format': 'openeo'}],\n",
       "   'processing:facility': 'openEO Geotrellis backend',\n",
       "   'processing:software': {'Geotrellis backend': '0.19.2a1'},\n",
       "   'roles': ['processor']}],\n",
       " 'stac_extensions': ['https://stac-extensions.github.io/eo/v1.1.0/schema.json',\n",
       "  'https://stac-extensions.github.io/file/v2.1.0/schema.json',\n",
       "  'https://stac-extensions.github.io/processing/v1.1.0/schema.json',\n",
       "  'https://stac-extensions.github.io/projection/v1.1.0/schema.json'],\n",
       " 'stac_version': '1.0.0',\n",
       " 'summaries': {'instruments': []},\n",
       " 'title': 'snowmap_cog',\n",
       " 'type': 'Collection'}"
      ]
     },
     "execution_count": 23,
     "metadata": {},
     "output_type": "execute_result"
    }
   ],
   "source": [
    "stac_item"
   ]
  },
  {
   "cell_type": "code",
   "execution_count": 25,
   "id": "cc6b58e1-e759-4943-85b8-bad6716181ab",
   "metadata": {
    "tags": []
   },
   "outputs": [
    {
     "ename": "AttributeError",
     "evalue": "'dict' object has no attribute 'to_dict'",
     "output_type": "error",
     "traceback": [
      "\u001b[0;31m---------------------------------------------------------------------------\u001b[0m",
      "\u001b[0;31mAttributeError\u001b[0m                            Traceback (most recent call last)",
      "Cell \u001b[0;32mIn[25], line 1\u001b[0m\n\u001b[0;32m----> 1\u001b[0m stac_json \u001b[38;5;241m=\u001b[39m json\u001b[38;5;241m.\u001b[39mdumps(\u001b[43mstac_item\u001b[49m\u001b[38;5;241;43m.\u001b[39;49m\u001b[43mto_dict\u001b[49m())\n\u001b[1;32m      2\u001b[0m \u001b[38;5;28;01mwith\u001b[39;00m \u001b[38;5;28mopen\u001b[39m(\u001b[38;5;124m\"\u001b[39m\u001b[38;5;124mresults/stac_item.json\u001b[39m\u001b[38;5;124m\"\u001b[39m, \u001b[38;5;124m\"\u001b[39m\u001b[38;5;124mw\u001b[39m\u001b[38;5;124m\"\u001b[39m) \u001b[38;5;28;01mas\u001b[39;00m file:\n\u001b[1;32m      3\u001b[0m     file\u001b[38;5;241m.\u001b[39mwrite(stac_json)\n",
      "\u001b[0;31mAttributeError\u001b[0m: 'dict' object has no attribute 'to_dict'"
     ]
    }
   ],
   "source": [
    "stac_json = json.dumps(stac_item.to_dict())\n",
    "with open(\"results/stac_item.json\", \"w\") as file:\n",
    "    file.write(stac_json)"
   ]
  }
 ],
 "metadata": {
  "kernelspec": {
   "display_name": "users-edc-2023.03-02",
   "language": "python",
   "name": "conda-env-users-edc-2023.03-02-py"
  },
  "language_info": {
   "codemirror_mode": {
    "name": "ipython",
    "version": 3
   },
   "file_extension": ".py",
   "mimetype": "text/x-python",
   "name": "python",
   "nbconvert_exporter": "python",
   "pygments_lexer": "ipython3",
   "version": "3.9.16"
  }
 },
 "nbformat": 4,
 "nbformat_minor": 5
}
