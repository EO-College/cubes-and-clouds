{
 "cells": [
  {
   "cell_type": "markdown",
   "id": "ed11b495-af52-4786-9673-02ec4dc5dace",
   "metadata": {
    "tags": []
   },
   "source": [
    "<center><img src=\"https://raw.githubusercontent.com/EO-College/cubes-and-clouds/main/icons/cnc_3icons_process_circle.svg\"\n",
    "     alt=\"Cubes & Clouds logo\"\n",
    "     style=\"float: center; margin-right: 10px; margin-left: 10px; max-height: 250px;\" /></center>"
   ]
  },
  {
   "cell_type": "markdown",
   "id": "7f1e7b42-81f9-404c-aaaf-b4b9723508fd",
   "metadata": {},
   "source": [
    "# 2.2 Data Discovery & Properties"
   ]
  },
  {
   "cell_type": "markdown",
   "id": "46eb218b-02cb-42d5-89ca-f64133b8ec03",
   "metadata": {},
   "source": [
    "## GDAL, STAC and Data Properties"
   ]
  },
  {
   "cell_type": "markdown",
   "id": "2d5aaa31-fe29-41ee-bf3e-6bb632b28a20",
   "metadata": {},
   "source": [
    "In this exercise we interact with a SpatioTemporal Asset Catalog (STAC) and explore the metadata using GDAL."
   ]
  },
  {
   "cell_type": "markdown",
   "id": "27e74dad-e62e-4476-96a1-ac49943d5a5e",
   "metadata": {},
   "source": [
    "Start importing the necessary libraries"
   ]
  },
  {
   "cell_type": "code",
   "execution_count": null,
   "id": "b36b0531-425a-446f-8871-d7e2172a89fd",
   "metadata": {
    "tags": []
   },
   "outputs": [],
   "source": [
    "from osgeo import gdal\n",
    "from pystac_client import Client\n",
    "\n",
    "import rasterio\n",
    "import numpy as np\n",
    "import matplotlib.pyplot as plt"
   ]
  },
  {
   "cell_type": "markdown",
   "id": "4c4f75f5-3070-4822-869e-8c70b19ff026",
   "metadata": {},
   "source": [
    "### Exploring STAC Collections"
   ]
  },
  {
   "cell_type": "markdown",
   "id": "1311bc59-1102-4f7e-91d5-c66154a4697d",
   "metadata": {},
   "source": [
    "Connect to a STAC API and explore available data collections.  "
   ]
  },
  {
   "cell_type": "code",
   "execution_count": null,
   "id": "75572092-db1c-4c2c-b668-a4390595d94c",
   "metadata": {
    "tags": []
   },
   "outputs": [],
   "source": [
    "from pystac_client import Client\n",
    "\n",
    "# Connect to a STAC API\n",
    "catalog = Client.open(\"https://earth-search.aws.element84.com/v1\")\n",
    "\n",
    "# List available collections\n",
    "collections = catalog.get_collections()\n",
    "print(\"Available STAC Collections:\")\n",
    "for collection in collections:\n",
    "    print(collection.id)"
   ]
  },
  {
   "cell_type": "markdown",
   "id": "335d898f-2455-4b1d-a82d-bc970a065d8d",
   "metadata": {},
   "source": [
    "### Querying Sentinel-2 data from a STAC API\n",
    "\n",
    "Connect to the same public STAC API and search for Sentinel-2 Level-2A products over a specific area (Sardinia) and time range (September 2023).  \n",
    "We will filter the results to include only those items with less than or equal to 20% cloud cover.  \n",
    "The code retrieves all matching items and prints the number of results, as well as the unique IDs of the returned items.  \n",
    "This demonstrates how to query a geospatial data catalog programmatically using the `pystac-client` library- [which documentation can be found here](https://pystac-client.readthedocs.io/).\n"
   ]
  },
  {
   "cell_type": "code",
   "execution_count": null,
   "id": "515b0027-10f5-4858-976f-5aad8ffdb7ca",
   "metadata": {
    "tags": []
   },
   "outputs": [],
   "source": [
    "# Connect to a public STAC API (e.g., Sentinel-2)\n",
    "catalog = Client.open(\"https://earth-search.aws.element84.com/v1\")\n",
    "\n",
    "# Search for Sentinel-2 items over a specific area and date range\n",
    "items = catalog.search(\n",
    "    collections=[\"sentinel-2-l2a\"],\n",
    "    datetime=\"2023-09-01/2023-09-30\",\n",
    "    bbox=[8.0, 40.0, 9.0, 41.0],  # Example bounding box for Sardinia\n",
    "    query={\"eo:cloud_cover\": {\"lte\": 20}}\n",
    ").item_collection()\n",
    "\n",
    "# Print the number of items found\n",
    "print(f\"Number of items found: {len(items)}\\n\")\n",
    "\n",
    "# Display the IDs of the found items\n",
    "print(\"List of Sentinel-2 ids:\")\n",
    "for item in items:\n",
    "    print(item.id)"
   ]
  },
  {
   "cell_type": "markdown",
   "id": "967a92b5-fcb8-4385-b224-a0d0cdbc9ec4",
   "metadata": {},
   "source": [
    "### Metadata exploration"
   ]
  },
  {
   "cell_type": "markdown",
   "id": "a1158855-68a2-48b2-9d96-df3f97eaaf54",
   "metadata": {},
   "source": [
    "Display some metadata of the first STAC Item returned by our previous query:"
   ]
  },
  {
   "cell_type": "code",
   "execution_count": null,
   "id": "9f73d2d4-dded-4395-838b-1a4ce48d308a",
   "metadata": {},
   "outputs": [],
   "source": [
    "# Display metadata for the found items\n",
    "print(f\"ID: {items[0].id}\")\n",
    "print(f\"Date: {items[0].datetime}\")\n",
    "print(f\"Cloud Cover: {items[0].properties['eo:cloud_cover']}%\")\n",
    "print(f\"Geometry: {items[0].geometry}\")\n",
    "print(f\"Projection as EPSG Code: {items[0].properties['proj:epsg']}\")"
   ]
  },
  {
   "cell_type": "markdown",
   "id": "f4dd6ea5-59fc-4828-950f-552a23922d09",
   "metadata": {},
   "source": [
    "### Accessing and inspecting a Sentinel-2 red band raster"
   ]
  },
  {
   "cell_type": "markdown",
   "id": "901532f5-0691-4018-9d89-45cae42db5e3",
   "metadata": {},
   "source": [
    "Access the first Sentinel-2 item from a previously retrieved STAC search result and extract the URL for the red band.  \n",
    "Using GDAL, we will open the raster file from this URL and inspect its metadata, including the raster size, coordinate reference system (CRS), and geotransform parameters.  \n",
    "This demonstrates how to programmatically access specific assets within a STAC item and retrieve relevant geospatial metadata."
   ]
  },
  {
   "cell_type": "markdown",
   "id": "5a53ac60-9c34-4215-bcde-2d193e8313a1",
   "metadata": {},
   "source": [
    "Inspect the structure of items, available assets and properties"
   ]
  },
  {
   "cell_type": "code",
   "execution_count": null,
   "id": "a249dd96-1c47-4413-8b9b-0dd4eb77c60b",
   "metadata": {
    "tags": []
   },
   "outputs": [],
   "source": [
    "items[0]"
   ]
  },
  {
   "cell_type": "markdown",
   "id": "3a3a8590-b7c9-49b1-b578-730a27364261",
   "metadata": {},
   "source": [
    "Print the metadata using GDAL Python"
   ]
  },
  {
   "cell_type": "code",
   "execution_count": null,
   "id": "7910aad3-9f72-4bdc-9db1-fa754bfc5a94",
   "metadata": {
    "tags": []
   },
   "outputs": [],
   "source": [
    "first_item = items[0]\n",
    "\n",
    "asset_red_href = first_item.assets['red'].href  # Assuming B04 (red band) is available\n",
    "\n",
    "# Open and inspect the raster file\n",
    "dataset = gdal.Open(asset_red_href)\n",
    "print(f\"Raster Size: {dataset.RasterXSize} x {dataset.RasterYSize}\")\n",
    "print(f\"Projection: {dataset.GetProjection()}\")\n",
    "geotransform = dataset.GetGeoTransform()\n",
    "print(f\"GeoTransform: {dataset.GetGeoTransform()}\")\n",
    "\n",
    "# Get spatial resolution\n",
    "pixel_width = geotransform[1]\n",
    "pixel_height = geotransform[5]\n",
    "print(f\"Pixel Size: {pixel_width} x {pixel_height}\")\n",
    "\n",
    "# Get the number of bands\n",
    "bands = dataset.RasterCount\n",
    "print(f\"Number of Bands: {bands}\")"
   ]
  },
  {
   "cell_type": "markdown",
   "id": "816e3f33-a734-49a9-ba9d-cd702b064875",
   "metadata": {},
   "source": [
    "Print the metadata using GDAL from command line"
   ]
  },
  {
   "cell_type": "code",
   "execution_count": null,
   "id": "00190c2b-2fcb-4df7-8307-38675281d67a",
   "metadata": {},
   "outputs": [],
   "source": [
    "import os\n",
    "os.system(f\"gdalinfo {first_item.assets['red'].href}\")"
   ]
  },
  {
   "cell_type": "markdown",
   "id": "11f9400f-e384-431a-8963-0752f40aeb5a",
   "metadata": {},
   "source": [
    "### Simple band visualization"
   ]
  },
  {
   "cell_type": "markdown",
   "id": "aea57707-68fc-4e83-b2e4-1225a57e718a",
   "metadata": {},
   "source": [
    "Read the red band data as a NumPy array:"
   ]
  },
  {
   "cell_type": "code",
   "execution_count": null,
   "id": "605bb423-2d7d-4c8d-ad69-bc363d7e05da",
   "metadata": {},
   "outputs": [],
   "source": [
    "red_band = dataset.GetRasterBand(1).ReadAsArray()"
   ]
  },
  {
   "cell_type": "markdown",
   "id": "1652189d-fcd2-459e-be72-4149ce8739dc",
   "metadata": {},
   "source": [
    "Finally, visualize the content"
   ]
  },
  {
   "cell_type": "code",
   "execution_count": null,
   "id": "ae07fa58-fddd-4f76-9556-872d9f8ba454",
   "metadata": {},
   "outputs": [],
   "source": [
    "plt.imshow(red_band/1800,vmin=0,vmax=1)"
   ]
  }
 ],
 "metadata": {
  "kernelspec": {
   "display_name": "cubes-and-clouds-pangeo",
   "language": "python",
   "name": "conda-env-cubes-and-clouds-pangeo-py"
  },
  "language_info": {
   "codemirror_mode": {
    "name": "ipython",
    "version": 3
   },
   "file_extension": ".py",
   "mimetype": "text/x-python",
   "name": "python",
   "nbconvert_exporter": "python",
   "pygments_lexer": "ipython3",
   "version": "3.11.11"
  }
 },
 "nbformat": 4,
 "nbformat_minor": 5
}
