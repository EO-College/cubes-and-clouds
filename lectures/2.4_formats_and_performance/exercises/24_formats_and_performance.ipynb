{
 "cells": [
  {
   "cell_type": "markdown",
   "metadata": {
    "vscode": {
     "languageId": "html"
    }
   },
   "source": [
    "<img src=\"https://raw.githubusercontent.com/EO-College/cubes-and-clouds/main/icons/cnc_3icons_process_circle.svg\"\n",
    "     alt=\"Cubes & Clouds logo\"\n",
    "     style=\"float: center; margin-right: 10px;\" />"
   ]
  },
  {
   "cell_type": "markdown",
   "metadata": {},
   "source": [
    "# 2.4 Formats and Performance"
   ]
  },
  {
   "cell_type": "markdown",
   "metadata": {},
   "source": [
    "When executing code on your local machine or in the cloud, it is important to remember that each operation uses resources.\n",
    "\n",
    "In this section we showcase a python library `codecarbon` that can be used to estimate the energy consumption of your code.\n",
    "\n",
    "Please note that benchmarking systems and profiling code is a complex topic with many variables. These examples merely illustrate very rough estimates."
   ]
  },
  {
   "cell_type": "markdown",
   "metadata": {},
   "source": [
    "Start by import all the necessary libraries and utilities."
   ]
  },
  {
   "cell_type": "code",
   "execution_count": 2,
   "metadata": {},
   "outputs": [
    {
     "name": "stderr",
     "output_type": "stream",
     "text": [
      "Did not load machine learning processes due to missing dependencies: Install them like this: `pip install openeo-processes-dask[implementations, ml]`\n"
     ]
    }
   ],
   "source": [
    "import random\n",
    "import numpy as np\n",
    "import openeo\n",
    "from openeo.local import LocalConnection\n",
    "\n",
    "from codecarbon_utils import calculate_emission_equivalents, CustomEmissionsTracker\n",
    "local_conn = LocalConnection('')"
   ]
  },
  {
   "cell_type": "markdown",
   "metadata": {},
   "source": [
    "Setting up the emission tracker for \"offline\" use to not interact with the CodeCarbon API.\n",
    "\n",
    "Changing the country code will alter the carbon intensity value used to calculate the emissions.\n",
    "\n",
    "To learn more about the methodology behind `codecarbon` see the [documentation](https://mlco2.github.io/codecarbon/methodology.html#carbon-intensity).\n",
    "\n",
    "Feel free to change the country code to wherever you are to see how it affects the carbon emissions. ISO codes can be found on [Wikipedia](https://en.wikipedia.org/wiki/List_of_ISO_3166_country_codes)."
   ]
  },
  {
   "cell_type": "code",
   "execution_count": 3,
   "metadata": {},
   "outputs": [
    {
     "name": "stderr",
     "output_type": "stream",
     "text": [
      "[codecarbon INFO @ 11:20:05] offline tracker init\n"
     ]
    }
   ],
   "source": [
    "tracker = CustomEmissionsTracker(\n",
    "    country_iso_code=\"ITA\",\n",
    "    log_level=\"error\",\n",
    "    save_to_file=True,\n",
    "    output_dir=\"./\",\n",
    ")"
   ]
  },
  {
   "cell_type": "markdown",
   "metadata": {},
   "source": [
    "## Simple example\n",
    "\n",
    "This example performs a simple matrix multiplication using numpy and estimates the energy consumption of the operation.\n",
    "\n",
    "As a comparison, we also perform a matrix multiplication using the standard library functionality of Python.\n",
    "\n",
    "What you will see is that utilizing high performance libraries like numpy can dramatically increase the efficiency. "
   ]
  },
  {
   "cell_type": "code",
   "execution_count": 4,
   "metadata": {},
   "outputs": [
    {
     "name": "stdout",
     "output_type": "stream",
     "text": [
      "Starting experiment: 1\n",
      "Stopped experiment: 1\n"
     ]
    }
   ],
   "source": [
    "tracker.start_experiment(experiment_id=1)\n",
    "\n",
    "def matrix_numpy(size: int, iterations: int) -> np.ndarray:\n",
    "    \"\"\"\n",
    "    Compute the product of a square matrix with itself for a number of iterations using numpy.\n",
    "\n",
    "    Args:\n",
    "        size (int): Size of the matrix (size x size).\n",
    "        iterations (int): Number of iterations for matrix multiplication.\n",
    "\n",
    "    Returns:\n",
    "        The result of the matrix product.\n",
    "    \"\"\"\n",
    "    matrix = np.random.rand(size, size)\n",
    "    for _ in range(iterations):\n",
    "        matrix = np.dot(matrix, matrix)\n",
    "    return matrix\n",
    "\n",
    "matrix_numpy(100, 100)\n",
    "\n",
    "tracker.stop_experiment()"
   ]
  },
  {
   "cell_type": "code",
   "execution_count": 6,
   "metadata": {},
   "outputs": [
    {
     "data": {
      "text/html": [
       "<!DOCTYPE html>\n",
       "<html lang=\"en\">\n",
       "  <head>\n",
       "    <meta charset=\"UTF-8\" />\n",
       "    <title>Emission Equivalents for Latest Run</title>\n",
       "  </head>\n",
       "  <body>\n",
       "    <h2>Emission Equivalents for Latest Run</h2>\n",
       "    <div class=\"container\">\n",
       "      <!-- Mars Rover Perseverance Metric -->\n",
       "      <div class=\"item\">\n",
       "          <img src=\"../assets/marsrover.svg\" alt=\"Mars Rover\">\n",
       "          <p><strong>Mars Rover Perseverance distance:</strong><br>0.00 Meters</p>\n",
       "          <span class=\"tooltip\">\n",
       "            This is equivalent to the amount of energy required to move the Perseverance rover 0.00 meters.\n",
       "          </span>\n",
       "      </div>\n",
       "      \n",
       "      <!-- LED Bulb Runtime Metric -->\n",
       "      <div class=\"item\">\n",
       "          <img src=\"../assets/lightbulb.svg\" alt=\"LED Bulb\">\n",
       "          <p><strong>LED Bulb Runtime:</strong><br>0.15 seconds </p>\n",
       "          <span class=\"tooltip\">\n",
       "            This energy is equivalent to powering a standard 10W LED bulb for 0.15 seconds .\n",
       "          </span>\n",
       "      </div>\n",
       "      \n",
       "      <!-- Smartwatch Runtime Metric -->\n",
       "      <div class=\"item\">\n",
       "          <img src=\"../assets/smartwatch.svg\" alt=\"Smartwatch\">\n",
       "          <p><strong>Smartwatch Runtime idle use:</strong><br>24.50 seconds </p>\n",
       "          <p><strong>Smartwatch Runtime normal use:</strong><br>2.94 seconds </p>\n",
       "          <span class=\"tooltip\">\n",
       "            The amount of energy used to run the code could power a smartwatch for 24.50 seconds in idle mode and for 2.94 seconds in regular use mode .\n",
       "          </span>\n",
       "      </div>\n",
       "    </div>\n",
       "  </body>\n",
       "  <style>\n",
       "    .container {\n",
       "        display: flex;\n",
       "        flex-wrap: wrap;\n",
       "        min-height: 300px;\n",
       "    }\n",
       "    .item {\n",
       "        flex: 1;\n",
       "        padding: 10px;\n",
       "        text-align: center;\n",
       "        box-sizing: border-box;\n",
       "        position: relative;\n",
       "        border: 2px solid transparent;\n",
       "        transition: border-color 0.3s;\n",
       "    }\n",
       "    .item img {\n",
       "        width: 100px;\n",
       "        height: 100px;\n",
       "        transition: transform 0.3s;\n",
       "    }\n",
       "    .item:hover {\n",
       "        border-color: #838383; \n",
       "    }\n",
       "    .item:hover img {\n",
       "        transform: scale(1.2);\n",
       "    }\n",
       "    .tooltip {\n",
       "        display: none; \n",
       "        color: #000000;\n",
       "        text-align: center;\n",
       "        margin-top: 10px;\n",
       "        border-radius: 5px;\n",
       "        padding: 5px;\n",
       "        background-color: #ffffff;\n",
       "    }\n",
       "    .item:hover .tooltip {\n",
       "        display: block; \n",
       "    }\n",
       "    body {\n",
       "        background-color: #121212;\n",
       "        color: #ffffff;\n",
       "    }\n",
       "</style>\n",
       "</html>\n"
      ],
      "text/plain": [
       "<IPython.core.display.HTML object>"
      ]
     },
     "metadata": {},
     "output_type": "display_data"
    }
   ],
   "source": [
    "calculate_emission_equivalents(experiment_id=1)"
   ]
  },
  {
   "cell_type": "code",
   "execution_count": 7,
   "metadata": {},
   "outputs": [
    {
     "name": "stdout",
     "output_type": "stream",
     "text": [
      "Starting experiment: 2\n",
      "Stopped experiment: 2\n"
     ]
    }
   ],
   "source": [
    "tracker.start_experiment(experiment_id=2)\n",
    "\n",
    "def matrix_python(size: int, iterations: int) -> list:\n",
    "    \"\"\"\n",
    "    Compute the product of a square matrix with itself for a number of iterations using pure Python.\n",
    "    \n",
    "    Args:\n",
    "        size (int): Size of the matrix (size x size).\n",
    "        iterations (int): Number of iterations for matrix multiplication.\n",
    "    \n",
    "    Returns:\n",
    "        The result of the matrix product.\n",
    "    \"\"\"\n",
    "\n",
    "    matrix = [[random.random() for _ in range(size)] for _ in range(size)]\n",
    "\n",
    "    for _ in range(iterations):\n",
    "        result = [[0] * size for _ in range(size)]\n",
    "        for i in range(size):\n",
    "            for j in range(size):\n",
    "                for k in range(size):\n",
    "                    result[i][j] += matrix[i][k] * matrix[k][j]\n",
    "        matrix = result\n",
    "\n",
    "    return matrix\n",
    "\n",
    "matrix_python(100, 100)\n",
    "\n",
    "tracker.stop_experiment()"
   ]
  },
  {
   "cell_type": "code",
   "execution_count": 8,
   "metadata": {},
   "outputs": [
    {
     "data": {
      "text/html": [
       "<!DOCTYPE html>\n",
       "<html lang=\"en\">\n",
       "  <head>\n",
       "    <meta charset=\"UTF-8\" />\n",
       "    <title>Emission Equivalents for Latest Run</title>\n",
       "  </head>\n",
       "  <body>\n",
       "    <h2>Emission Equivalents for Latest Run</h2>\n",
       "    <div class=\"container\">\n",
       "      <!-- Mars Rover Perseverance Metric -->\n",
       "      <div class=\"item\">\n",
       "          <img src=\"../assets/marsrover.svg\" alt=\"Mars Rover\">\n",
       "          <p><strong>Mars Rover Perseverance distance:</strong><br>0.18 Meters</p>\n",
       "          <span class=\"tooltip\">\n",
       "            This is equivalent to the amount of energy required to move the Perseverance rover 0.18 meters.\n",
       "          </span>\n",
       "      </div>\n",
       "      \n",
       "      <!-- LED Bulb Runtime Metric -->\n",
       "      <div class=\"item\">\n",
       "          <img src=\"../assets/lightbulb.svg\" alt=\"LED Bulb\">\n",
       "          <p><strong>LED Bulb Runtime:</strong><br>1.29 minutes </p>\n",
       "          <span class=\"tooltip\">\n",
       "            This energy is equivalent to powering a standard 10W LED bulb for 1.29 minutes .\n",
       "          </span>\n",
       "      </div>\n",
       "      \n",
       "      <!-- Smartwatch Runtime Metric -->\n",
       "      <div class=\"item\">\n",
       "          <img src=\"../assets/smartwatch.svg\" alt=\"Smartwatch\">\n",
       "          <p><strong>Smartwatch Runtime idle use:</strong><br>3.57 hours </p>\n",
       "          <p><strong>Smartwatch Runtime normal use:</strong><br>25.72 minutes </p>\n",
       "          <span class=\"tooltip\">\n",
       "            The amount of energy used to run the code could power a smartwatch for 3.57 hours in idle mode and for 25.72 minutes in regular use mode .\n",
       "          </span>\n",
       "      </div>\n",
       "    </div>\n",
       "  </body>\n",
       "  <style>\n",
       "    .container {\n",
       "        display: flex;\n",
       "        flex-wrap: wrap;\n",
       "        min-height: 300px;\n",
       "    }\n",
       "    .item {\n",
       "        flex: 1;\n",
       "        padding: 10px;\n",
       "        text-align: center;\n",
       "        box-sizing: border-box;\n",
       "        position: relative;\n",
       "        border: 2px solid transparent;\n",
       "        transition: border-color 0.3s;\n",
       "    }\n",
       "    .item img {\n",
       "        width: 100px;\n",
       "        height: 100px;\n",
       "        transition: transform 0.3s;\n",
       "    }\n",
       "    .item:hover {\n",
       "        border-color: #838383; \n",
       "    }\n",
       "    .item:hover img {\n",
       "        transform: scale(1.2);\n",
       "    }\n",
       "    .tooltip {\n",
       "        display: none; \n",
       "        color: #000000;\n",
       "        text-align: center;\n",
       "        margin-top: 10px;\n",
       "        border-radius: 5px;\n",
       "        padding: 5px;\n",
       "        background-color: #ffffff;\n",
       "    }\n",
       "    .item:hover .tooltip {\n",
       "        display: block; \n",
       "    }\n",
       "    body {\n",
       "        background-color: #121212;\n",
       "        color: #ffffff;\n",
       "    }\n",
       "</style>\n",
       "</html>\n"
      ],
      "text/plain": [
       "<IPython.core.display.HTML object>"
      ]
     },
     "metadata": {},
     "output_type": "display_data"
    }
   ],
   "source": [
    "calculate_emission_equivalents(experiment_id=2)"
   ]
  },
  {
   "cell_type": "markdown",
   "metadata": {},
   "source": [
    "## Using a real world example\n",
    "\n",
    "In this example, we will use our tracker to estimate the energy consumption of an NDVI workflow from previous exercise.\n",
    "\n",
    "We need to squeeze the code into a single cell to be able to track the energy consumption more easily.\n",
    "\n",
    "For more detailed explanation of the workflow, please refer to the previous exercise.\n",
    "\n",
    "Overview of the workflow:\n",
    "1. We select  Sentinel-2 data for a specific area and time frame of 1 year.\n",
    "\n",
    "2. We perform temporal aggregation to get monthly composites.\n",
    "\n",
    "3. We calculate the NDVI for each composite."
   ]
  },
  {
   "cell_type": "code",
   "execution_count": 9,
   "metadata": {},
   "outputs": [
    {
     "name": "stdout",
     "output_type": "stream",
     "text": [
      "Starting experiment: 3\n"
     ]
    },
    {
     "name": "stderr",
     "output_type": "stream",
     "text": [
      "/home/jzvolensky/miniconda3/envs/cubes-and-clouds/lib/python3.11/site-packages/xarray/core/groupby.py:508: FutureWarning: 'M' is deprecated and will be removed in a future version, please use 'ME' instead.\n",
      "  index_grouper = pd.Grouper(\n"
     ]
    },
    {
     "name": "stdout",
     "output_type": "stream",
     "text": [
      "Stopped experiment: 3\n"
     ]
    }
   ],
   "source": [
    "tracker.start_experiment(experiment_id=3)\n",
    "\n",
    "url = \"https://earth-search.aws.element84.com/v1/collections/sentinel-2-l2a\"\n",
    "\n",
    "spatial_extent = {\"west\": 11.4, \"east\": 11.42, \"south\": 45.5, \"north\": 45.52}\n",
    "temporal_extent = [\"2023-01-01\", \"2023-12-31\"]\n",
    "bands = [\"red\",\"nir\"]\n",
    "\n",
    "s2_cube = local_conn.load_stac(url=url,\n",
    "   spatial_extent=spatial_extent,\n",
    "   temporal_extent=temporal_extent,\n",
    "   bands=bands\n",
    ")\n",
    "\n",
    "s2_monthly_mean = s2_cube.aggregate_temporal_period(period=\"month\", reducer=\"mean\")\n",
    "\n",
    "red = s2_monthly_mean.band(\"red\")\n",
    "nir = s2_monthly_mean.band(\"nir\")\n",
    "\n",
    "ndvi = (nir - red) / (nir + red)\n",
    "\n",
    "ndvi.execute().compute()\n",
    "\n",
    "tracker.stop_experiment()"
   ]
  },
  {
   "cell_type": "code",
   "execution_count": 10,
   "metadata": {},
   "outputs": [
    {
     "data": {
      "text/html": [
       "<!DOCTYPE html>\n",
       "<html lang=\"en\">\n",
       "  <head>\n",
       "    <meta charset=\"UTF-8\" />\n",
       "    <title>Emission Equivalents for Latest Run</title>\n",
       "  </head>\n",
       "  <body>\n",
       "    <h2>Emission Equivalents for Latest Run</h2>\n",
       "    <div class=\"container\">\n",
       "      <!-- Mars Rover Perseverance Metric -->\n",
       "      <div class=\"item\">\n",
       "          <img src=\"../assets/marsrover.svg\" alt=\"Mars Rover\">\n",
       "          <p><strong>Mars Rover Perseverance distance:</strong><br>1.67 Meters</p>\n",
       "          <span class=\"tooltip\">\n",
       "            This is equivalent to the amount of energy required to move the Perseverance rover 1.67 meters.\n",
       "          </span>\n",
       "      </div>\n",
       "      \n",
       "      <!-- LED Bulb Runtime Metric -->\n",
       "      <div class=\"item\">\n",
       "          <img src=\"../assets/lightbulb.svg\" alt=\"LED Bulb\">\n",
       "          <p><strong>LED Bulb Runtime:</strong><br>11.63 minutes </p>\n",
       "          <span class=\"tooltip\">\n",
       "            This energy is equivalent to powering a standard 10W LED bulb for 11.63 minutes .\n",
       "          </span>\n",
       "      </div>\n",
       "      \n",
       "      <!-- Smartwatch Runtime Metric -->\n",
       "      <div class=\"item\">\n",
       "          <img src=\"../assets/smartwatch.svg\" alt=\"Smartwatch\">\n",
       "          <p><strong>Smartwatch Runtime idle use:</strong><br>32.29 hours </p>\n",
       "          <p><strong>Smartwatch Runtime normal use:</strong><br>3.88 hours </p>\n",
       "          <span class=\"tooltip\">\n",
       "            The amount of energy used to run the code could power a smartwatch for 32.29 hours in idle mode and for 3.88 hours in regular use mode .\n",
       "          </span>\n",
       "      </div>\n",
       "    </div>\n",
       "  </body>\n",
       "  <style>\n",
       "    .container {\n",
       "        display: flex;\n",
       "        flex-wrap: wrap;\n",
       "        min-height: 300px;\n",
       "    }\n",
       "    .item {\n",
       "        flex: 1;\n",
       "        padding: 10px;\n",
       "        text-align: center;\n",
       "        box-sizing: border-box;\n",
       "        position: relative;\n",
       "        border: 2px solid transparent;\n",
       "        transition: border-color 0.3s;\n",
       "    }\n",
       "    .item img {\n",
       "        width: 100px;\n",
       "        height: 100px;\n",
       "        transition: transform 0.3s;\n",
       "    }\n",
       "    .item:hover {\n",
       "        border-color: #838383; \n",
       "    }\n",
       "    .item:hover img {\n",
       "        transform: scale(1.2);\n",
       "    }\n",
       "    .tooltip {\n",
       "        display: none; \n",
       "        color: #000000;\n",
       "        text-align: center;\n",
       "        margin-top: 10px;\n",
       "        border-radius: 5px;\n",
       "        padding: 5px;\n",
       "        background-color: #ffffff;\n",
       "    }\n",
       "    .item:hover .tooltip {\n",
       "        display: block; \n",
       "    }\n",
       "    body {\n",
       "        background-color: #121212;\n",
       "        color: #ffffff;\n",
       "    }\n",
       "</style>\n",
       "</html>\n"
      ],
      "text/plain": [
       "<IPython.core.display.HTML object>"
      ]
     },
     "metadata": {},
     "output_type": "display_data"
    }
   ],
   "source": [
    "calculate_emission_equivalents(experiment_id=3)"
   ]
  }
 ],
 "metadata": {
  "kernelspec": {
   "display_name": "cubes-and-clouds",
   "language": "python",
   "name": "python3"
  },
  "language_info": {
   "codemirror_mode": {
    "name": "ipython",
    "version": 3
   },
   "file_extension": ".py",
   "mimetype": "text/x-python",
   "name": "python",
   "nbconvert_exporter": "python",
   "pygments_lexer": "ipython3",
   "version": "3.11.10"
  }
 },
 "nbformat": 4,
 "nbformat_minor": 2
}
