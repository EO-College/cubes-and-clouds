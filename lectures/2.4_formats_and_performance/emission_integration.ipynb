{
 "cells": [
  {
   "cell_type": "markdown",
   "metadata": {},
   "source": [
    "# Integrating `codecarbon` into the exercises\n",
    "\n",
    "This notebook demonstrates 2 ways to integrate `codecarbon` into the exercises:\n",
    "\n",
    "1. Using the `@track_emissions` decorator\n",
    "\n",
    "2. Using the `CustomEmissionsTracker` class\n",
    "\n",
    "Due to some limitations of the `codecarbon` library the base emission tracker has been extended to provide better control over writing the data of each experiment.\n",
    "\n",
    "This is done purely for the course reasons, and there is not added functionality which is not already present in the `codecarbon` library. I decided to do it this way to streamline the process for the students and to make sure we can have consistent and correct data representations.\n",
    "\n",
    "The `CustomEmissionsTracker` class is a subclass of the `EmissionsTracker` class from the `codecarbon` library. It provides the same functionality as the base class, but it also allows for writing the data to a file after each experiment. This is useful for the course, as we can track the emissions of each experiment separately. It is a bit sketchy and incosistent doing it the codecarbon way, but it is the best way to do it for now."
   ]
  },
  {
   "cell_type": "code",
   "execution_count": 1,
   "metadata": {},
   "outputs": [],
   "source": [
    "from codecarbon import track_emissions \n",
    "import numpy as np\n",
    "\n",
    "from utils import calculate_emission_equivalents, CustomEmissionsTracker\n"
   ]
  },
  {
   "cell_type": "markdown",
   "metadata": {},
   "source": [
    "# Example use of the `CustomEmissionsTracker` class\n",
    "\n",
    "Offline tracking requires the use of `country_iso_code` and `log_level` controls how much is printed in the output\n",
    "\n",
    "The country code is used to determine the carbon intensity of electricity production\n",
    "\n",
    "https://mlco2.github.io/codecarbon/methodology.html\n",
    "\n",
    "In this mode the tracker supports setting up custom `experiment_id`. This is part of the custom class which is appending it to the experiment csv. This makes the data collection a lot more consistent as sometimes the tracker doesnt write to file as required etc.\n",
    "\n",
    "Once you run the first tracking, a CSV should be automatically created in the same directory. The CSV will contain the emissions data for the experiment.\n",
    "\n",
    "`codecarbon` has a list of supported CPUs for which it knows the power consumption. I noticed during testing on EoXhub that the CPU is not known:\n",
    "\n",
    "```\n",
    "[codecarbon WARNING @ 14:56:23] We saw that you have a AMD EPYC 7R13 Processor but we don't know it. Please contact us.\n",
    "[codecarbon INFO @ 14:56:23] CPU Model on constant consumption mode: AMD EPYC 7R13 Processor\n",
    "```\n",
    "\n",
    "in that case `default_cpu_power` needs to be set to a value in Watts. The default value is 42.5W which is too low for server CPUs.\n",
    "\n",
    "The `default_cpu_power` is power_constant x consumption_percentage_constant according to the docs [here](https://mlco2.github.io/codecarbon/parameters.html)\n",
    "\n",
    "The 7R13 has a TDP of 225W and 48 cores. However, each user is given 4.5 cores, so the power consumption should be around 225W / 48 * 4.5 = 21.09W. We use 4.5 instead of 4 as power/core is not fully linear. This is a rough estimate, but it should be close enough.\n",
    "\n",
    "This is something to be discussed and maybe agree on a value for the course. This can dramatically affect the results.\n"
   ]
  },
  {
   "cell_type": "code",
   "execution_count": 4,
   "metadata": {},
   "outputs": [],
   "source": [
    "tracker = CustomEmissionsTracker(\n",
    "    country_iso_code=\"ITA\",\n",
    "    log_level=\"error\",\n",
    "    save_to_file=True,\n",
    "    output_dir=\"./\",\n",
    "    default_cpu_power=21\n",
    ")"
   ]
  },
  {
   "cell_type": "code",
   "execution_count": 5,
   "metadata": {},
   "outputs": [
    {
     "name": "stdout",
     "output_type": "stream",
     "text": [
      "Starting experiment: 420\n",
      "Stopped experiment: 420\n"
     ]
    }
   ],
   "source": [
    "tracker.start_experiment(experiment_id=420)\n",
    "\n",
    "def whatever(size: int, iterations: int) -> np.ndarray:\n",
    "    \"\"\"\n",
    "    Multiply two random matrices of size x size\n",
    "\n",
    "    Args:\n",
    "    size (int): size of the matrices\n",
    "    \"\"\"\n",
    "    for _ in range(iterations):\n",
    "        matrix1 = np.random.rand(size, size)\n",
    "        matrix2 = np.random.rand(size, size)\n",
    "        result = np.dot(matrix1, matrix2)\n",
    "    return result\n",
    "\n",
    "\n",
    "whatever(size=10000, iterations=1)\n",
    "\n",
    "tracker.stop_experiment()"
   ]
  },
  {
   "cell_type": "markdown",
   "metadata": {},
   "source": [
    "# Visualizing the result\n",
    "\n",
    "The visualization is done via custom HTML template. The `calculate_emission_equivalents` function is used to calculate the equivalent of the emissions in terms of other metrics. This is done to make the data more relatable to the students.\n",
    "\n",
    "How it works is that we read the CSV generated by `codecarbon` and perform some calculations. These results are replaced in the HTML template and displayed to the user.\n",
    "\n",
    "When using the `CustomEmissionsTracker` class, we can visualize using the specific experiment_id. It makes things a bit more readable and understandable, even if it is not fully stock `codecarbon` functionality. Normally, you would use their dashboard anyway and dont bother with custom visualization."
   ]
  },
  {
   "cell_type": "code",
   "execution_count": 7,
   "metadata": {},
   "outputs": [
    {
     "data": {
      "text/html": [
       "<!DOCTYPE html>\n",
       "<html lang=\"en\">\n",
       "  <head>\n",
       "    <meta charset=\"UTF-8\" />\n",
       "    <title>Emission Equivalents for Latest Run</title>\n",
       "  </head>\n",
       "  <body>\n",
       "    <h2>Emission Equivalents for Latest Run</h2>\n",
       "    <div class=\"container\">\n",
       "      <!-- Mars Rover Perseverance Metric -->\n",
       "      <div class=\"item\">\n",
       "          <img src=\"./images/mars_rover_sketch.png\" alt=\"Mars Rover\">\n",
       "          <p><strong>Mars Rover Perseverance distance:</strong><br>0.32 Meters</p>\n",
       "          <span class=\"tooltip\">\n",
       "            This is equivalent to the amount of energy required to move the Perseverance rover 0.32 meters.\n",
       "          </span>\n",
       "      </div>\n",
       "      \n",
       "      <!-- LED Bulb Runtime Metric -->\n",
       "      <div class=\"item\">\n",
       "          <img src=\"./images/led_bulb_sketch.png\" alt=\"LED Bulb\">\n",
       "          <p><strong>LED Bulb Runtime:</strong><br>2.25 minutes </p>\n",
       "          <span class=\"tooltip\">\n",
       "            This energy is equivalent to powering a standard 10W LED bulb for 2.25 minutes .\n",
       "          </span>\n",
       "      </div>\n",
       "      \n",
       "      <!-- Smartwatch Runtime Metric -->\n",
       "      <div class=\"item\">\n",
       "          <img src=\"./images/smartwatch_sketch.png\" alt=\"Smartwatch\">\n",
       "          <p><strong>Smartwatch Runtime idle use:</strong><br>6.25 hours </p>\n",
       "          <p><strong>Smartwatch Runtime normal use:</strong><br>45.01 minutes </p>\n",
       "          <span class=\"tooltip\">\n",
       "            The amount of energy used to run the code could power a smartwatch for 6.25 hours in idle mode and for 45.01 minutes in regular use mode .\n",
       "          </span>\n",
       "      </div>\n",
       "    </div>\n",
       "  </body>\n",
       "  <style>\n",
       "    .container {\n",
       "        display: flex;\n",
       "        flex-wrap: wrap;\n",
       "        min-height: 300px;\n",
       "    }\n",
       "    .item {\n",
       "        flex: 1;\n",
       "        padding: 10px;\n",
       "        text-align: center;\n",
       "        box-sizing: border-box;\n",
       "        position: relative;\n",
       "        border: 2px solid transparent; /* Initial border */\n",
       "        transition: border-color 0.3s;\n",
       "    }\n",
       "    .item img {\n",
       "        width: 100px;\n",
       "        height: 100px;\n",
       "        transition: transform 0.3s;\n",
       "    }\n",
       "    .item:hover {\n",
       "        border-color: #838383; \n",
       "    }\n",
       "    .item:hover img {\n",
       "        transform: scale(1.2);\n",
       "    }\n",
       "    .tooltip {\n",
       "        display: none; \n",
       "        color: #000000;\n",
       "        text-align: center;\n",
       "        margin-top: 10px;\n",
       "        border-radius: 5px;\n",
       "        padding: 5px;\n",
       "        background-color: #ffffff;\n",
       "    }\n",
       "    .item:hover .tooltip {\n",
       "        display: block; \n",
       "    }\n",
       "    body {\n",
       "        background-color: #121212;\n",
       "        color: #ffffff;\n",
       "    }\n",
       "</style>\n",
       "</html>\n"
      ],
      "text/plain": [
       "<IPython.core.display.HTML object>"
      ]
     },
     "metadata": {},
     "output_type": "display_data"
    }
   ],
   "source": [
    "calculate_emission_equivalents(experiment_id=420)"
   ]
  },
  {
   "cell_type": "markdown",
   "metadata": {},
   "source": [
    "# Using the `track_emissions` decorator\n",
    "\n",
    "This mode is useful for wrapping a single function definition. It is useful for tracking the emissions of a single function. It is not as flexible as the `CustomEmissionsTracker` class, but it is useful for simple tracking.\n",
    "\n",
    "This mode however, does not support setting custom `experiment_id` and it is not as flexible as the `CustomEmissionsTracker` class. It is useful for simple tracking, but for more complex tracking, the `CustomEmissionsTracker` class is recommended.\n",
    "\n",
    "This mode requires `offline` to be set to `True` and `country_iso_code` to be set to the correct country code."
   ]
  },
  {
   "cell_type": "code",
   "execution_count": 8,
   "metadata": {},
   "outputs": [
    {
     "data": {
      "text/plain": [
       "array([[2483.27180478, 2490.23493118, 2456.49499933, ..., 2478.97760472,\n",
       "        2451.97859823, 2468.08242129],\n",
       "       [2505.44611951, 2515.09554418, 2481.46690565, ..., 2518.40299198,\n",
       "        2500.56134978, 2503.37980895],\n",
       "       [2504.39675515, 2506.49964045, 2485.56483129, ..., 2493.8078998 ,\n",
       "        2502.27529329, 2482.94691763],\n",
       "       ...,\n",
       "       [2509.82292392, 2499.24597244, 2489.09289879, ..., 2493.22274916,\n",
       "        2504.65738512, 2493.53384166],\n",
       "       [2509.24100095, 2531.02040351, 2490.09111877, ..., 2537.87721421,\n",
       "        2492.36396769, 2502.86121924],\n",
       "       [2516.90950612, 2532.07759305, 2513.16827735, ..., 2525.44904115,\n",
       "        2515.76632497, 2508.70997884]])"
      ]
     },
     "execution_count": 8,
     "metadata": {},
     "output_type": "execute_result"
    }
   ],
   "source": [
    "# I dont honestly know if we need all these args, but the thing is so buggy that I am not going to try to figure it out\n",
    "@track_emissions(offline=True, save_to_file=True,output_dir=\"./\",country_iso_code=\"ITA\", log_level=\"error\", default_cpu_power=100)\n",
    "def whatever(size: int, iterations: int) -> np.ndarray:\n",
    "    \"\"\"\n",
    "    Multiply two random matrices of size x size\n",
    "\n",
    "    Args:\n",
    "    size (int): size of the matrices\n",
    "    \"\"\"\n",
    "    for _ in range(iterations):\n",
    "        matrix1 = np.random.rand(size, size)\n",
    "        matrix2 = np.random.rand(size, size)\n",
    "        result = np.dot(matrix1, matrix2)\n",
    "    return result\n",
    "\n",
    "\n",
    "whatever(size=10000, iterations=2)"
   ]
  },
  {
   "cell_type": "markdown",
   "metadata": {},
   "source": [
    "# Visualizing the result of track_emissions\n",
    "\n",
    "Since `codecarbon` does not support custom IDs here (It says it does but it doesnt work), we rely on choosing the latest entry in the CSV file. This is not ideal, but it is the best we can do with the current state of the library."
   ]
  },
  {
   "cell_type": "code",
   "execution_count": 9,
   "metadata": {},
   "outputs": [
    {
     "data": {
      "text/html": [
       "<!DOCTYPE html>\n",
       "<html lang=\"en\">\n",
       "  <head>\n",
       "    <meta charset=\"UTF-8\" />\n",
       "    <title>Emission Equivalents for Latest Run</title>\n",
       "  </head>\n",
       "  <body>\n",
       "    <h2>Emission Equivalents for Latest Run</h2>\n",
       "    <div class=\"container\">\n",
       "      <!-- Mars Rover Perseverance Metric -->\n",
       "      <div class=\"item\">\n",
       "          <img src=\"./images/mars_rover_sketch.png\" alt=\"Mars Rover\">\n",
       "          <p><strong>Mars Rover Perseverance distance:</strong><br>0.64 Meters</p>\n",
       "          <span class=\"tooltip\">\n",
       "            This is equivalent to the amount of energy required to move the Perseverance rover 0.64 meters.\n",
       "          </span>\n",
       "      </div>\n",
       "      \n",
       "      <!-- LED Bulb Runtime Metric -->\n",
       "      <div class=\"item\">\n",
       "          <img src=\"./images/led_bulb_sketch.png\" alt=\"LED Bulb\">\n",
       "          <p><strong>LED Bulb Runtime:</strong><br>4.46 minutes </p>\n",
       "          <span class=\"tooltip\">\n",
       "            This energy is equivalent to powering a standard 10W LED bulb for 4.46 minutes .\n",
       "          </span>\n",
       "      </div>\n",
       "      \n",
       "      <!-- Smartwatch Runtime Metric -->\n",
       "      <div class=\"item\">\n",
       "          <img src=\"./images/smartwatch_sketch.png\" alt=\"Smartwatch\">\n",
       "          <p><strong>Smartwatch Runtime idle use:</strong><br>12.40 hours </p>\n",
       "          <p><strong>Smartwatch Runtime normal use:</strong><br>1.49 hours </p>\n",
       "          <span class=\"tooltip\">\n",
       "            The amount of energy used to run the code could power a smartwatch for 12.40 hours in idle mode and for 1.49 hours in regular use mode .\n",
       "          </span>\n",
       "      </div>\n",
       "    </div>\n",
       "  </body>\n",
       "  <style>\n",
       "    .container {\n",
       "        display: flex;\n",
       "        flex-wrap: wrap;\n",
       "        min-height: 300px;\n",
       "    }\n",
       "    .item {\n",
       "        flex: 1;\n",
       "        padding: 10px;\n",
       "        text-align: center;\n",
       "        box-sizing: border-box;\n",
       "        position: relative;\n",
       "        border: 2px solid transparent; /* Initial border */\n",
       "        transition: border-color 0.3s;\n",
       "    }\n",
       "    .item img {\n",
       "        width: 100px;\n",
       "        height: 100px;\n",
       "        transition: transform 0.3s;\n",
       "    }\n",
       "    .item:hover {\n",
       "        border-color: #838383; \n",
       "    }\n",
       "    .item:hover img {\n",
       "        transform: scale(1.2);\n",
       "    }\n",
       "    .tooltip {\n",
       "        display: none; \n",
       "        color: #000000;\n",
       "        text-align: center;\n",
       "        margin-top: 10px;\n",
       "        border-radius: 5px;\n",
       "        padding: 5px;\n",
       "        background-color: #ffffff;\n",
       "    }\n",
       "    .item:hover .tooltip {\n",
       "        display: block; \n",
       "    }\n",
       "    body {\n",
       "        background-color: #121212;\n",
       "        color: #ffffff;\n",
       "    }\n",
       "</style>\n",
       "</html>\n"
      ],
      "text/plain": [
       "<IPython.core.display.HTML object>"
      ]
     },
     "metadata": {},
     "output_type": "display_data"
    }
   ],
   "source": [
    "calculate_emission_equivalents()"
   ]
  }
 ],
 "metadata": {
  "kernelspec": {
   "display_name": "cubes-and-clouds",
   "language": "python",
   "name": "python3"
  },
  "language_info": {
   "codemirror_mode": {
    "name": "ipython",
    "version": 3
   },
   "file_extension": ".py",
   "mimetype": "text/x-python",
   "name": "python",
   "nbconvert_exporter": "python",
   "pygments_lexer": "ipython3",
   "version": "3.11.10"
  }
 },
 "nbformat": 4,
 "nbformat_minor": 2
}
