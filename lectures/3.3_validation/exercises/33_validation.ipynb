{
 "cells": [
  {
   "cell_type": "markdown",
   "id": "f0816bcf-2b14-4b19-b78e-491144f16344",
   "metadata": {},
   "source": [
    "<img src=\"https://raw.githubusercontent.com/EO-College/cubes-and-clouds/main/icons/cnc_3icons_process_circle.svg\"\n",
    "     alt=\"Cubes & Clouds logo\"\n",
    "     style=\"float: center; margin-right: 10px;\" />"
   ]
  },
  {
   "cell_type": "markdown",
   "id": "0c6aed2f-1493-4636-a124-03c81b28bc52",
   "metadata": {},
   "source": [
    "# 3.3 Validation\n",
    "In this exercise, we focus on the validation of the results we have produced. In general, the accuracy of a satellite derived product is expressed by comparing it to in-situ measurements. Furthermore, we will compare the resuling snow cover time series to the runoff of the catchment to check the plausibility of the observed relationship.\n",
    "\n",
    "The steps involved in this analysis:\n",
    "- Generate Datacube time-series of snowmap,\n",
    "- Load _in-situ_ datasets: snow depth station measurements,\n",
    "- Pre-process and filter _in-situ_ datasets to match area of interest, \n",
    "- Perform validation of snow-depth measurements,\n",
    "- Plausibility check with runoff of the catchment\n",
    "\n",
    "More information on the openEO Python Client: https://open-eo.github.io/openeo-python-client/index.html"
   ]
  },
  {
   "cell_type": "markdown",
   "id": "62f4cb92-ac45-4e98-8d61-b2ff43c7dc84",
   "metadata": {},
   "source": [
    "## Libraries"
   ]
  },
  {
   "cell_type": "code",
   "execution_count": 1,
   "id": "1abf270c-d73e-4109-854c-3cf36a1b36d7",
   "metadata": {
    "tags": []
   },
   "outputs": [],
   "source": [
    "import json\n",
    "from datetime import date\n",
    "import numpy as np\n",
    "import pandas as pd\n",
    "\n",
    "import xarray as xr\n",
    "import rioxarray as rio\n",
    "\n",
    "import matplotlib.pyplot as plt\n",
    "import rasterio\n",
    "from rasterio.plot import show\n",
    "\n",
    "import geopandas as gpd\n",
    "import leafmap.foliumap as leafmap\n",
    "# from leafmap import leafmap\n",
    "# import leafmap\n",
    "import openeo"
   ]
  },
  {
   "cell_type": "markdown",
   "id": "fc23ce94-ec50-42a1-ac64-031dc18565fa",
   "metadata": {
    "tags": []
   },
   "source": [
    "## Login\n",
    "Connect to the Copernicus Dataspace Ecosystem."
   ]
  },
  {
   "cell_type": "code",
   "execution_count": 2,
   "id": "86afd551-857e-4129-a2ee-39a933255f34",
   "metadata": {
    "tags": []
   },
   "outputs": [],
   "source": [
    "conn = openeo.connect('https://openeo.dataspace.copernicus.eu/')"
   ]
  },
  {
   "cell_type": "markdown",
   "id": "c5572699-f06c-4f42-8aed-4f6f549cedf9",
   "metadata": {},
   "source": [
    "Login."
   ]
  },
  {
   "cell_type": "code",
   "execution_count": 3,
   "id": "de26fd5c-71da-4d28-b895-f5108a97a1d5",
   "metadata": {
    "tags": []
   },
   "outputs": [
    {
     "name": "stdout",
     "output_type": "stream",
     "text": [
      "Authenticated using refresh token.\n"
     ]
    },
    {
     "data": {
      "text/plain": [
       "<Connection to 'https://openeo.dataspace.copernicus.eu/openeo/1.2/' with OidcBearerAuth>"
      ]
     },
     "execution_count": 3,
     "metadata": {},
     "output_type": "execute_result"
    }
   ],
   "source": [
    "conn.authenticate_oidc()"
   ]
  },
  {
   "cell_type": "markdown",
   "id": "96ccb225-6691-458a-bac3-ae0ed48c4a71",
   "metadata": {},
   "source": [
    "Check if the login worked."
   ]
  },
  {
   "cell_type": "code",
   "execution_count": null,
   "id": "7afd0fd0-0207-495d-b076-ed68f826bc5f",
   "metadata": {
    "tags": []
   },
   "outputs": [],
   "source": [
    "conn.describe_account()"
   ]
  },
  {
   "cell_type": "markdown",
   "id": "6cb40bc5-8916-4989-b026-1b354a33e695",
   "metadata": {},
   "source": [
    "## Region of Interest"
   ]
  },
  {
   "cell_type": "markdown",
   "id": "47820208-433d-4acb-9b97-4ef5ccda3feb",
   "metadata": {},
   "source": [
    "Load the XXX catchment, our region of interest. And plot it."
   ]
  },
  {
   "cell_type": "code",
   "execution_count": 4,
   "id": "bc69c8d6-62dc-474e-be39-3e5ca9c5daca",
   "metadata": {
    "tags": []
   },
   "outputs": [],
   "source": [
    "catchment_outline = gpd.read_file('data/catchment_outline.geojson')"
   ]
  },
  {
   "cell_type": "code",
   "execution_count": 5,
   "id": "920d356b-c477-4bac-a811-e0eb3b031853",
   "metadata": {
    "tags": []
   },
   "outputs": [
    {
     "data": {
      "text/html": [
       "<iframe srcdoc=\"&lt;!DOCTYPE html&gt;\n",
       "&lt;html&gt;\n",
       "&lt;head&gt;\n",
       "    \n",
       "    &lt;meta http-equiv=&quot;content-type&quot; content=&quot;text/html; charset=UTF-8&quot; /&gt;\n",
       "    \n",
       "        &lt;script&gt;\n",
       "            L_NO_TOUCH = false;\n",
       "            L_DISABLE_3D = false;\n",
       "        &lt;/script&gt;\n",
       "    \n",
       "    &lt;style&gt;html, body {width: 100%;height: 100%;margin: 0;padding: 0;}&lt;/style&gt;\n",
       "    &lt;style&gt;#map {position:absolute;top:0;bottom:0;right:0;left:0;}&lt;/style&gt;\n",
       "    &lt;script src=&quot;https://cdn.jsdelivr.net/npm/leaflet@1.9.3/dist/leaflet.js&quot;&gt;&lt;/script&gt;\n",
       "    &lt;script src=&quot;https://code.jquery.com/jquery-1.12.4.min.js&quot;&gt;&lt;/script&gt;\n",
       "    &lt;script src=&quot;https://cdn.jsdelivr.net/npm/bootstrap@5.2.2/dist/js/bootstrap.bundle.min.js&quot;&gt;&lt;/script&gt;\n",
       "    &lt;script src=&quot;https://cdnjs.cloudflare.com/ajax/libs/Leaflet.awesome-markers/2.0.2/leaflet.awesome-markers.js&quot;&gt;&lt;/script&gt;\n",
       "    &lt;link rel=&quot;stylesheet&quot; href=&quot;https://cdn.jsdelivr.net/npm/leaflet@1.9.3/dist/leaflet.css&quot;/&gt;\n",
       "    &lt;link rel=&quot;stylesheet&quot; href=&quot;https://cdn.jsdelivr.net/npm/bootstrap@5.2.2/dist/css/bootstrap.min.css&quot;/&gt;\n",
       "    &lt;link rel=&quot;stylesheet&quot; href=&quot;https://netdna.bootstrapcdn.com/bootstrap/3.0.0/css/bootstrap.min.css&quot;/&gt;\n",
       "    &lt;link rel=&quot;stylesheet&quot; href=&quot;https://cdn.jsdelivr.net/npm/@fortawesome/fontawesome-free@6.2.0/css/all.min.css&quot;/&gt;\n",
       "    &lt;link rel=&quot;stylesheet&quot; href=&quot;https://cdnjs.cloudflare.com/ajax/libs/Leaflet.awesome-markers/2.0.2/leaflet.awesome-markers.css&quot;/&gt;\n",
       "    &lt;link rel=&quot;stylesheet&quot; href=&quot;https://cdn.jsdelivr.net/gh/python-visualization/folium/folium/templates/leaflet.awesome.rotate.min.css&quot;/&gt;\n",
       "    \n",
       "            &lt;meta name=&quot;viewport&quot; content=&quot;width=device-width,\n",
       "                initial-scale=1.0, maximum-scale=1.0, user-scalable=no&quot; /&gt;\n",
       "            &lt;style&gt;\n",
       "                #map_c16531429ff2e3bec1e62546ff5d8482 {\n",
       "                    position: relative;\n",
       "                    width: 100.0%;\n",
       "                    height: 100.0%;\n",
       "                    left: 0.0%;\n",
       "                    top: 0.0%;\n",
       "                }\n",
       "                .leaflet-container { font-size: 1rem; }\n",
       "            &lt;/style&gt;\n",
       "        \n",
       "    &lt;script src=&quot;https://cdnjs.cloudflare.com/ajax/libs/leaflet.fullscreen/1.4.2/Control.FullScreen.min.js&quot;&gt;&lt;/script&gt;\n",
       "    &lt;link rel=&quot;stylesheet&quot; href=&quot;https://cdnjs.cloudflare.com/ajax/libs/leaflet.fullscreen/1.4.2/Control.FullScreen.min.css&quot;/&gt;\n",
       "    &lt;script src=&quot;https://cdnjs.cloudflare.com/ajax/libs/leaflet.draw/1.0.2/leaflet.draw.js&quot;&gt;&lt;/script&gt;\n",
       "    &lt;link rel=&quot;stylesheet&quot; href=&quot;https://cdnjs.cloudflare.com/ajax/libs/leaflet.draw/1.0.2/leaflet.draw.css&quot;/&gt;\n",
       "    &lt;script src=&quot;https://cdn.jsdelivr.net/gh/ljagis/leaflet-measure@2.1.7/dist/leaflet-measure.min.js&quot;&gt;&lt;/script&gt;\n",
       "    &lt;link rel=&quot;stylesheet&quot; href=&quot;https://cdn.jsdelivr.net/gh/ljagis/leaflet-measure@2.1.7/dist/leaflet-measure.min.css&quot;/&gt;\n",
       "    &lt;script src=&quot;https://unpkg.com/leaflet-control-geocoder/dist/Control.Geocoder.js&quot;&gt;&lt;/script&gt;\n",
       "    &lt;link rel=&quot;stylesheet&quot; href=&quot;https://unpkg.com/leaflet-control-geocoder/dist/Control.Geocoder.css&quot;/&gt;\n",
       "    \n",
       "                    &lt;style&gt;\n",
       "                        .foliumtooltip {\n",
       "                            \n",
       "                        }\n",
       "                       .foliumtooltip table{\n",
       "                            margin: auto;\n",
       "                        }\n",
       "                        .foliumtooltip tr{\n",
       "                            text-align: left;\n",
       "                        }\n",
       "                        .foliumtooltip th{\n",
       "                            padding: 2px; padding-right: 8px;\n",
       "                        }\n",
       "                    &lt;/style&gt;\n",
       "            \n",
       "&lt;/head&gt;\n",
       "&lt;body&gt;\n",
       "    \n",
       "    \n",
       "            &lt;div class=&quot;folium-map&quot; id=&quot;map_c16531429ff2e3bec1e62546ff5d8482&quot; &gt;&lt;/div&gt;\n",
       "        \n",
       "&lt;/body&gt;\n",
       "&lt;script&gt;\n",
       "    \n",
       "    \n",
       "            var map_c16531429ff2e3bec1e62546ff5d8482 = L.map(\n",
       "                &quot;map_c16531429ff2e3bec1e62546ff5d8482&quot;,\n",
       "                {\n",
       "                    center: [46.79856263096177, 11.177346530561929],\n",
       "                    crs: L.CRS.EPSG3857,\n",
       "                    zoom: 10,\n",
       "                    zoomControl: true,\n",
       "                    preferCanvas: false,\n",
       "                    drawExport: false,\n",
       "                    layersControl: true,\n",
       "                }\n",
       "            );\n",
       "            L.control.scale().addTo(map_c16531429ff2e3bec1e62546ff5d8482);\n",
       "\n",
       "            \n",
       "\n",
       "        \n",
       "    \n",
       "            var tile_layer_3a03cc012710206564849db0bcbf617c = L.tileLayer(\n",
       "                &quot;https://{s}.tile.openstreetmap.org/{z}/{x}/{y}.png&quot;,\n",
       "                {&quot;attribution&quot;: &quot;Data by \\u0026copy; \\u003ca target=\\&quot;_blank\\&quot; href=\\&quot;http://openstreetmap.org\\&quot;\\u003eOpenStreetMap\\u003c/a\\u003e, under \\u003ca target=\\&quot;_blank\\&quot; href=\\&quot;http://www.openstreetmap.org/copyright\\&quot;\\u003eODbL\\u003c/a\\u003e.&quot;, &quot;detectRetina&quot;: false, &quot;maxNativeZoom&quot;: 24, &quot;maxZoom&quot;: 24, &quot;minZoom&quot;: 0, &quot;noWrap&quot;: false, &quot;opacity&quot;: 1, &quot;subdomains&quot;: &quot;abc&quot;, &quot;tms&quot;: false}\n",
       "            ).addTo(map_c16531429ff2e3bec1e62546ff5d8482);\n",
       "        \n",
       "    \n",
       "            L.control.fullscreen(\n",
       "                {&quot;forceSeparateButton&quot;: false, &quot;position&quot;: &quot;topleft&quot;, &quot;title&quot;: &quot;Full Screen&quot;, &quot;titleCancel&quot;: &quot;Exit Full Screen&quot;}\n",
       "            ).addTo(map_c16531429ff2e3bec1e62546ff5d8482);\n",
       "        \n",
       "    \n",
       "            var options = {\n",
       "              position: &quot;topleft&quot;,\n",
       "              draw: {},\n",
       "              edit: {},\n",
       "            }\n",
       "            // FeatureGroup is to store editable layers.\n",
       "            var drawnItems = new L.featureGroup().addTo(\n",
       "                map_c16531429ff2e3bec1e62546ff5d8482\n",
       "            );\n",
       "            options.edit.featureGroup = drawnItems;\n",
       "            var draw_control_4845005a8d211f9642b8d549ffca8ef0 = new L.Control.Draw(\n",
       "                options\n",
       "            ).addTo( map_c16531429ff2e3bec1e62546ff5d8482 );\n",
       "            map_c16531429ff2e3bec1e62546ff5d8482.on(L.Draw.Event.CREATED, function(e) {\n",
       "                var layer = e.layer,\n",
       "                    type = e.layerType;\n",
       "                var coords = JSON.stringify(layer.toGeoJSON());\n",
       "                layer.on(&#x27;click&#x27;, function() {\n",
       "                    alert(coords);\n",
       "                    console.log(coords);\n",
       "                });\n",
       "                drawnItems.addLayer(layer);\n",
       "             });\n",
       "            map_c16531429ff2e3bec1e62546ff5d8482.on(&#x27;draw:created&#x27;, function(e) {\n",
       "                drawnItems.addLayer(e.layer);\n",
       "            });\n",
       "            \n",
       "        \n",
       "    \n",
       "            var measure_control_42cbe82d87addd1e66e66bb535dc5239 = new L.Control.Measure(\n",
       "                {&quot;position&quot;: &quot;bottomleft&quot;, &quot;primaryAreaUnit&quot;: &quot;sqmeters&quot;, &quot;primaryLengthUnit&quot;: &quot;meters&quot;, &quot;secondaryAreaUnit&quot;: &quot;acres&quot;, &quot;secondaryLengthUnit&quot;: &quot;miles&quot;});\n",
       "            map_c16531429ff2e3bec1e62546ff5d8482.addControl(measure_control_42cbe82d87addd1e66e66bb535dc5239);\n",
       "\n",
       "        \n",
       "    \n",
       "            L.Control.geocoder(\n",
       "                {&quot;collapsed&quot;: true, &quot;defaultMarkGeocode&quot;: true, &quot;position&quot;: &quot;topleft&quot;}\n",
       "            ).on(&#x27;markgeocode&#x27;, function(e) {\n",
       "                map_c16531429ff2e3bec1e62546ff5d8482.setView(e.geocode.center, 11);\n",
       "            }).addTo(map_c16531429ff2e3bec1e62546ff5d8482);\n",
       "\n",
       "        \n",
       "    \n",
       "            map_c16531429ff2e3bec1e62546ff5d8482.fitBounds(\n",
       "                [[46.79856263096177, 11.177346530561929], [46.79856263096177, 11.177346530561929]],\n",
       "                {&quot;maxZoom&quot;: 10}\n",
       "            );\n",
       "        \n",
       "    \n",
       "        function geo_json_7f7f5db66d1ad60d4fbf476d950e8f11_styler(feature) {\n",
       "            switch(feature.properties.HYBAS_ID) {\n",
       "                default:\n",
       "                    return {&quot;color&quot;: &quot;#3388ff&quot;, &quot;fillOpacity&quot;: 0, &quot;opacity&quot;: 1, &quot;weight&quot;: 2};\n",
       "            }\n",
       "        }\n",
       "        function geo_json_7f7f5db66d1ad60d4fbf476d950e8f11_highlighter(feature) {\n",
       "            switch(feature.properties.HYBAS_ID) {\n",
       "                default:\n",
       "                    return {&quot;fillOpacity&quot;: 0, &quot;weight&quot;: 4};\n",
       "            }\n",
       "        }\n",
       "\n",
       "        function geo_json_7f7f5db66d1ad60d4fbf476d950e8f11_onEachFeature(feature, layer) {\n",
       "            layer.on({\n",
       "                mouseout: function(e) {\n",
       "                    if(typeof e.target.setStyle === &quot;function&quot;){\n",
       "                        geo_json_7f7f5db66d1ad60d4fbf476d950e8f11.resetStyle(e.target);\n",
       "                    }\n",
       "                },\n",
       "                mouseover: function(e) {\n",
       "                    if(typeof e.target.setStyle === &quot;function&quot;){\n",
       "                        const highlightStyle = geo_json_7f7f5db66d1ad60d4fbf476d950e8f11_highlighter(e.target.feature)\n",
       "                        e.target.setStyle(highlightStyle);\n",
       "                    }\n",
       "                },\n",
       "            });\n",
       "        };\n",
       "        var geo_json_7f7f5db66d1ad60d4fbf476d950e8f11 = L.geoJson(null, {\n",
       "                onEachFeature: geo_json_7f7f5db66d1ad60d4fbf476d950e8f11_onEachFeature,\n",
       "            \n",
       "                style: geo_json_7f7f5db66d1ad60d4fbf476d950e8f11_styler,\n",
       "        });\n",
       "\n",
       "        function geo_json_7f7f5db66d1ad60d4fbf476d950e8f11_add (data) {\n",
       "            geo_json_7f7f5db66d1ad60d4fbf476d950e8f11\n",
       "                .addData(data)\n",
       "                .addTo(map_c16531429ff2e3bec1e62546ff5d8482);\n",
       "        }\n",
       "            geo_json_7f7f5db66d1ad60d4fbf476d950e8f11_add({&quot;crs&quot;: {&quot;properties&quot;: {&quot;name&quot;: &quot;urn:ogc:def:crs:OGC:1.3:CRS84&quot;}, &quot;type&quot;: &quot;name&quot;}, &quot;features&quot;: [{&quot;geometry&quot;: {&quot;coordinates&quot;: [[[[11.075, 46.72916666666669], [11.072575547960094, 46.728813340928845], [11.069091118706622, 46.72535332573787], [11.048285590277802, 46.724646674262175], [11.042024739583358, 46.73087632921009], [11.041666666666691, 46.733333333333356], [11.038123575846377, 46.73424241807728], [11.0375, 46.74583333333336], [11.03664923773874, 46.74914923773874], [11.030017428927975, 46.75085076226131], [11.028599378797768, 46.756377156575546], [11.025567287868947, 46.76028951009117], [11.0244327121311, 46.76471048990888], [11.02140062120228, 46.7686228434245], [11.020833333333357, 46.77083333333336], [11.024291653103322, 46.77172071668839], [11.025567287868947, 46.781377156575545], [11.032766045464435, 46.78945617675784], [11.033900621202282, 46.79387715657555], [11.036932712131101, 46.79778951009117], [11.038067287868948, 46.80221048990888], [11.042586263020858, 46.80762905544707], [11.052210489908878, 46.808900621202284], [11.06028951009117, 46.816099378797766], [11.06471048990888, 46.81723395453562], [11.068622843424503, 46.820266045464436], [11.073043823242212, 46.82140062120228], [11.077974107530407, 46.82522176106773], [11.079733954535614, 46.83010389539933], [11.071295166015648, 46.83957451714412], [11.0744327121311, 46.843622843424505], [11.075567287868948, 46.846579996744815], [11.071400621202281, 46.85195617675784], [11.070266045464434, 46.859321424696205], [11.082766045464435, 46.872789510091174], [11.084041680230058, 46.882445949978326], [11.089710489908878, 46.88390062120228], [11.09995964898006, 46.89319695366756], [11.096400621202282, 46.89778951009117], [11.095266045464435, 46.91343722873266], [11.103599378797767, 46.92278951009117], [11.104166666666691, 46.929166666666696], [11.114924452039954, 46.92951999240454], [11.11875, 46.9333187527127], [11.12328694661461, 46.92881334092885], [11.139924452039956, 46.92951999240454], [11.143408881293428, 46.93298000759551], [11.148288302951414, 46.933691067165825], [11.157980007595512, 46.94340888129343], [11.158691406250025, 46.948290337456626], [11.16424221462676, 46.953813340928846], [11.166666666666693, 46.954166666666694], [11.167024739583358, 46.95170966254343], [11.172575547960095, 46.94618665907121], [11.177424452039956, 46.94548000759551], [11.180908881293428, 46.94201999240454], [11.185757785373289, 46.94131334092884], [11.189242214626761, 46.937853325737876], [11.194123670789956, 46.93714192708336], [11.199646674262178, 46.93159111870662], [11.200353325737872, 46.9100755479601], [11.204519992404538, 46.90587972005211], [11.203813340928845, 46.901742214626765], [11.199646674262178, 46.89754638671877], [11.200353325737872, 46.89340888129343], [11.203813340928845, 46.889924452039956], [11.204519992404538, 46.8850755479601], [11.21248609754777, 46.877084011501765], [11.208686659071207, 46.87325778537329], [11.208333333333359, 46.85833333333336], [11.210543823242213, 46.85776604546444], [11.214456176757839, 46.85473395453562], [11.231377156575547, 46.85359937879777], [11.239456176757837, 46.846400621202285], [11.260543823242212, 46.845266045464435], [11.26458333333336, 46.84213528103301], [11.26875, 46.84536471896704], [11.272789510091172, 46.842233954535615], [11.323043823242214, 46.84109937879777], [11.331122843424506, 46.83390062120228], [11.343877156575548, 46.83276604546444], [11.347789510091172, 46.82973395453561], [11.35331590440541, 46.82831590440541], [11.354733954535616, 46.82278951009117], [11.357766045464437, 46.818877156575546], [11.358900621202284, 46.81445617675784], [11.36609937879777, 46.80637715657554], [11.366666666666694, 46.80416666666669], [11.365779283311658, 46.80070834689673], [11.356122843424506, 46.7994327121311], [11.35208333333336, 46.796301947699675], [11.347916666666693, 46.799531385633706], [11.343877156575548, 46.79640062120228], [11.339456176757839, 46.79526604546444], [11.335543823242213, 46.79223395453562], [11.321806165907145, 46.79101189507381], [11.31306728786895, 46.781377156575545], [11.311932712131103, 46.776956176757835], [11.304733954535617, 46.76887715657555], [11.30359937879777, 46.76445617675784], [11.30056728786895, 46.760543823242216], [11.299149237738742, 46.75501742892798], [11.293622843424505, 46.753599378797766], [11.289710489908881, 46.75056728786895], [11.279166666666693, 46.75], [11.278813340928846, 46.73924221462676], [11.27464667426218, 46.73504638671878], [11.275353325737873, 46.73090888129343], [11.283319430881102, 46.722917344835096], [11.27951999240454, 46.71909111870662], [11.278813340928846, 46.705908881293425], [11.275353325737873, 46.702424452039956], [11.275, 46.7], [11.274032253689262, 46.69622938368058], [11.267413330078151, 46.691099378797766], [11.260289510091171, 46.69223395453562], [11.25491333007815, 46.69640062120228], [11.251956176757838, 46.695266045464436], [11.248043823242213, 46.69223395453562], [11.239456176757837, 46.691099378797766], [11.235543823242214, 46.68806728786895], [11.218622843424505, 46.6869327121311], [11.21471048990888, 46.683900621202284], [11.197789510091171, 46.68276604546443], [11.193877156575546, 46.679733954535614], [11.184220716688394, 46.67845831976999], [11.182413736979193, 46.671416219075546], [11.173043823242214, 46.66306728786895], [11.168622843424505, 46.6619327121311], [11.159270562065997, 46.653599378797765], [11.154985215928845, 46.655143907335095], [11.154166666666692, 46.65833333333336], [11.15085076226131, 46.65918409559464], [11.15, 46.6625], [11.150353325737871, 46.66909111870662], [11.155876329210095, 46.67464192708336], [11.160757785373288, 46.67535332573787], [11.166668023003497, 46.68123406304256], [11.162853325737872, 46.685075547960096], [11.162146674262178, 46.68992445203995], [11.15451999240454, 46.69757554796009], [11.153813340928846, 46.702424452039956], [11.148290337456622, 46.70797526041669], [11.143408881293428, 46.708686659071205], [11.139924452039956, 46.71214667426218], [11.122575547960095, 46.712853325737875], [11.119091118706622, 46.71631334092884], [11.11424221462676, 46.71701999240454], [11.110757785373288, 46.72048000759551], [11.10174221462676, 46.72118665907121], [11.098257785373288, 46.724646674262175], [11.085075547960095, 46.72535332573787], [11.081591118706623, 46.728813340928845], [11.075, 46.72916666666669]]]], &quot;type&quot;: &quot;MultiPolygon&quot;}, &quot;properties&quot;: {&quot;COAST&quot;: 0, &quot;DIST_MAIN&quot;: 334.5, &quot;DIST_SINK&quot;: 334.5, &quot;ENDO&quot;: 0, &quot;HYBAS_ID&quot;: 2090516090, &quot;MAIN_BAS&quot;: 2090012980, &quot;NEXT_DOWN&quot;: 2090516950, &quot;NEXT_SINK&quot;: 2090012980, &quot;ORDER&quot;: 3, &quot;PFAF_ID&quot;: 214040804, &quot;SORT&quot;: 10988, &quot;SUB_AREA&quot;: 419.1, &quot;UP_AREA&quot;: 419.2}, &quot;type&quot;: &quot;Feature&quot;}], &quot;name&quot;: &quot;ADO_DSC_ITH1_0025_lev09_hybas&quot;, &quot;type&quot;: &quot;FeatureCollection&quot;});\n",
       "\n",
       "        \n",
       "    \n",
       "    geo_json_7f7f5db66d1ad60d4fbf476d950e8f11.bindTooltip(\n",
       "    function(layer){\n",
       "    let div = L.DomUtil.create(&#x27;div&#x27;);\n",
       "    \n",
       "    let handleObject = feature=&gt;typeof(feature)==&#x27;object&#x27; ? JSON.stringify(feature) : feature;\n",
       "    let fields = [&quot;HYBAS_ID&quot;, &quot;NEXT_DOWN&quot;, &quot;NEXT_SINK&quot;, &quot;MAIN_BAS&quot;, &quot;DIST_SINK&quot;, &quot;DIST_MAIN&quot;, &quot;SUB_AREA&quot;, &quot;UP_AREA&quot;, &quot;PFAF_ID&quot;, &quot;ENDO&quot;, &quot;COAST&quot;, &quot;ORDER&quot;, &quot;SORT&quot;];\n",
       "    let aliases = [&quot;HYBAS_ID&quot;, &quot;NEXT_DOWN&quot;, &quot;NEXT_SINK&quot;, &quot;MAIN_BAS&quot;, &quot;DIST_SINK&quot;, &quot;DIST_MAIN&quot;, &quot;SUB_AREA&quot;, &quot;UP_AREA&quot;, &quot;PFAF_ID&quot;, &quot;ENDO&quot;, &quot;COAST&quot;, &quot;ORDER&quot;, &quot;SORT&quot;];\n",
       "    let table = &#x27;&lt;table&gt;&#x27; +\n",
       "        String(\n",
       "        fields.map(\n",
       "        (v,i)=&gt;\n",
       "        `&lt;tr&gt;\n",
       "            &lt;th&gt;${aliases[i]}&lt;/th&gt;\n",
       "            \n",
       "            &lt;td&gt;${handleObject(layer.feature.properties[v])}&lt;/td&gt;\n",
       "        &lt;/tr&gt;`).join(&#x27;&#x27;))\n",
       "    +&#x27;&lt;/table&gt;&#x27;;\n",
       "    div.innerHTML=table;\n",
       "    \n",
       "    return div\n",
       "    }\n",
       "    ,{&quot;className&quot;: &quot;foliumtooltip&quot;, &quot;sticky&quot;: true});\n",
       "                     \n",
       "    \n",
       "            map_c16531429ff2e3bec1e62546ff5d8482.fitBounds(\n",
       "                [[46.653599378797765, 11.020833333333357], [46.954166666666694, 11.366666666666694]],\n",
       "                {}\n",
       "            );\n",
       "        \n",
       "    \n",
       "            var layer_control_308ef290bc8ea931fb74644a03654290 = {\n",
       "                base_layers : {\n",
       "                    &quot;openstreetmap&quot; : tile_layer_3a03cc012710206564849db0bcbf617c,\n",
       "                },\n",
       "                overlays :  {\n",
       "                    &quot;catchment&quot; : geo_json_7f7f5db66d1ad60d4fbf476d950e8f11,\n",
       "                },\n",
       "            };\n",
       "            L.control.layers(\n",
       "                layer_control_308ef290bc8ea931fb74644a03654290.base_layers,\n",
       "                layer_control_308ef290bc8ea931fb74644a03654290.overlays,\n",
       "                {&quot;autoZIndex&quot;: true, &quot;collapsed&quot;: true, &quot;position&quot;: &quot;topright&quot;}\n",
       "            ).addTo(map_c16531429ff2e3bec1e62546ff5d8482);\n",
       "        \n",
       "&lt;/script&gt;\n",
       "&lt;/html&gt;\" width=\"100%\" height=\"600\"style=\"border:none !important;\" \"allowfullscreen\" \"webkitallowfullscreen\" \"mozallowfullscreen\"></iframe>"
      ],
      "text/plain": [
       "<leafmap.foliumap.Map at 0x7f02828f8d10>"
      ]
     },
     "execution_count": 5,
     "metadata": {},
     "output_type": "execute_result"
    }
   ],
   "source": [
    "center = (float(catchment_outline.centroid.y), float(catchment_outline.centroid.x))\n",
    "m = leafmap.Map(center=center, zoom=10)\n",
    "m.add_vector('data/catchment_outline.geojson', layer_name=\"catchment\")\n",
    "m"
   ]
  },
  {
   "cell_type": "markdown",
   "id": "a6d24033-7c7f-41fa-ad68-7c32b01f0a30",
   "metadata": {
    "tags": []
   },
   "source": [
    "## Generate Datacube of Snowmap"
   ]
  },
  {
   "cell_type": "markdown",
   "id": "ee1e399f-0c77-47d5-bc67-648fcf7cb048",
   "metadata": {},
   "source": [
    "We have prepared the workflow to generate the snow map as a python function `calculate_sca()`. It's available in `cubes_utilities.py`."
   ]
  },
  {
   "cell_type": "code",
   "execution_count": 7,
   "id": "e0de482c-af6c-4beb-82c8-fc196d4bd7b0",
   "metadata": {
    "tags": []
   },
   "outputs": [],
   "source": [
    "%run cubes_utilities.py"
   ]
  },
  {
   "cell_type": "code",
   "execution_count": 8,
   "id": "c5343f82-547c-4af5-8aaf-6188a0dba977",
   "metadata": {
    "tags": []
   },
   "outputs": [
    {
     "data": {
      "text/html": [
       "\n",
       "    <script>\n",
       "    if (!window.customElements || !window.customElements.get('openeo-model-builder')) {\n",
       "        var el = document.createElement('script');\n",
       "        el.src = \"https://cdn.jsdelivr.net/npm/@openeo/vue-components@2/assets/openeo.min.js\";\n",
       "        document.head.appendChild(el);\n",
       "\n",
       "        var font = document.createElement('font');\n",
       "        font.as = \"font\";\n",
       "        font.type = \"font/woff2\";\n",
       "        font.crossOrigin = true;\n",
       "        font.href = \"https://use.fontawesome.com/releases/v5.13.0/webfonts/fa-solid-900.woff2\"\n",
       "        document.head.appendChild(font);\n",
       "    }\n",
       "    </script>\n",
       "    <openeo-model-builder>\n",
       "        <script type=\"application/json\">{\"id\": \"269ca346d5e14553ba35e8ac2e2495f4\", \"explicit-zoom\": true, \"height\": \"400px\", \"value\": {\"process_graph\": {\"loadcollection1\": {\"process_id\": \"load_collection\", \"arguments\": {\"bands\": [\"B03\", \"B11\"], \"id\": \"SENTINEL2_L2A\", \"spatial_extent\": {\"west\": 11.020833333333357, \"east\": 11.366666666666694, \"south\": 46.653599378797765, \"north\": 46.954166666666694, \"crs\": 4326}, \"temporal_extent\": [\"2018-02-01\", \"2018-06-30\"]}}, \"reducedimension1\": {\"process_id\": \"reduce_dimension\", \"arguments\": {\"data\": {\"from_node\": \"loadcollection1\"}, \"dimension\": \"bands\", \"reducer\": {\"process_graph\": {\"arrayelement1\": {\"process_id\": \"array_element\", \"arguments\": {\"data\": {\"from_parameter\": \"data\"}, \"index\": 0}}, \"arrayelement2\": {\"process_id\": \"array_element\", \"arguments\": {\"data\": {\"from_parameter\": \"data\"}, \"index\": 1}}, \"subtract1\": {\"process_id\": \"subtract\", \"arguments\": {\"x\": {\"from_node\": \"arrayelement1\"}, \"y\": {\"from_node\": \"arrayelement2\"}}}, \"add1\": {\"process_id\": \"add\", \"arguments\": {\"x\": {\"from_node\": \"arrayelement1\"}, \"y\": {\"from_node\": \"arrayelement2\"}}}, \"divide1\": {\"process_id\": \"divide\", \"arguments\": {\"x\": {\"from_node\": \"subtract1\"}, \"y\": {\"from_node\": \"add1\"}}}, \"gt1\": {\"process_id\": \"gt\", \"arguments\": {\"x\": {\"from_node\": \"divide1\"}, \"y\": 0.4}}, \"multiply1\": {\"process_id\": \"multiply\", \"arguments\": {\"x\": {\"from_node\": \"gt1\"}, \"y\": 1.0}, \"result\": true}}}}}, \"loadcollection2\": {\"process_id\": \"load_collection\", \"arguments\": {\"bands\": [\"SCL\"], \"id\": \"SENTINEL2_L2A\", \"spatial_extent\": {\"west\": 11.020833333333357, \"east\": 11.366666666666694, \"south\": 46.653599378797765, \"north\": 46.954166666666694, \"crs\": 4326}, \"temporal_extent\": [\"2018-02-01\", \"2018-06-30\"]}}, \"reducedimension2\": {\"process_id\": \"reduce_dimension\", \"arguments\": {\"data\": {\"from_node\": \"loadcollection2\"}, \"dimension\": \"bands\", \"reducer\": {\"process_graph\": {\"arrayelement3\": {\"process_id\": \"array_element\", \"arguments\": {\"data\": {\"from_parameter\": \"data\"}, \"index\": 0}}, \"eq1\": {\"process_id\": \"eq\", \"arguments\": {\"x\": {\"from_node\": \"arrayelement3\"}, \"y\": 8}}, \"eq2\": {\"process_id\": \"eq\", \"arguments\": {\"x\": {\"from_node\": \"arrayelement3\"}, \"y\": 9}}, \"or1\": {\"process_id\": \"or\", \"arguments\": {\"x\": {\"from_node\": \"eq1\"}, \"y\": {\"from_node\": \"eq2\"}}}, \"eq3\": {\"process_id\": \"eq\", \"arguments\": {\"x\": {\"from_node\": \"arrayelement3\"}, \"y\": 3}}, \"or2\": {\"process_id\": \"or\", \"arguments\": {\"x\": {\"from_node\": \"or1\"}, \"y\": {\"from_node\": \"eq3\"}}}, \"multiply2\": {\"process_id\": \"multiply\", \"arguments\": {\"x\": {\"from_node\": \"or2\"}, \"y\": 1.0}, \"result\": true}}}}}, \"mask1\": {\"process_id\": \"mask\", \"arguments\": {\"data\": {\"from_node\": \"reducedimension1\"}, \"mask\": {\"from_node\": \"reducedimension2\"}}, \"result\": true}}}}</script>\n",
       "    </openeo-model-builder>\n",
       "    "
      ],
      "text/plain": [
       "<openeo.rest.datacube.DataCube at 0x7f0237b91910>"
      ]
     },
     "execution_count": 8,
     "metadata": {},
     "output_type": "execute_result"
    }
   ],
   "source": [
    "bbox = catchment_outline.bounds.iloc[0]\n",
    "temporal_extent = [\"2018-02-01\", \"2018-06-30\"]\n",
    "snow_map_cloud_free = calculate_sca(conn, bbox, temporal_extent)\n",
    "snow_map_cloud_free"
   ]
  },
  {
   "cell_type": "markdown",
   "id": "1079721a-1c43-4956-8a15-f76a76d9c933",
   "metadata": {
    "tags": []
   },
   "source": [
    "## Load snow-station in-situ data\n",
    "Load the _in-situ_ datasets, snow depth station measurements. They have been compiled in the ClirSnow project and are available here: [Snow Cover in the European Alps](https://zenodo.org/record/5109574) with stations in our area of interest. \n",
    "\n",
    "We have made the data available for you already. We can load it directly."
   ]
  },
  {
   "cell_type": "code",
   "execution_count": 9,
   "id": "2c712f51-044c-4de9-aa89-814a1fbc94b4",
   "metadata": {
    "tags": []
   },
   "outputs": [],
   "source": [
    "# load snow station datasets from zenodo:: https://zenodo.org/record/5109574\n",
    "station_df = pd.read_csv(\"data/data_daily_IT_BZ.csv\")\n",
    "# station_df.head()"
   ]
  },
  {
   "cell_type": "code",
   "execution_count": 10,
   "id": "249cd8c1-371b-4010-94a0-c5020bf62d55",
   "metadata": {
    "tags": []
   },
   "outputs": [],
   "source": [
    "# load additional metadata for acessing the station geometries\n",
    "station_df_meta = pd.read_csv(\"data/meta_all.csv\")\n",
    "# station_df_meta.head()"
   ]
  },
  {
   "cell_type": "markdown",
   "id": "c0a09085-ba4c-497c-b710-404945865f62",
   "metadata": {
    "tags": []
   },
   "source": [
    "## Pre-process and filter _in-situ_ snow station measurements\n",
    "\n",
    "### Filter Temporally\n",
    "Filter the in-situ datasets to match the snow-map time series using the function `station_temporal_filter()` from `cubes_utilities.py`."
   ]
  },
  {
   "cell_type": "code",
   "execution_count": 11,
   "id": "f7940eb6-4ff6-4d76-83ba-e8e68a68daf4",
   "metadata": {
    "tags": []
   },
   "outputs": [],
   "source": [
    "start_date = \"2018-02-01\"\n",
    "end_date = \"2018-06-30\"\n",
    "\n",
    "snow_stations = station_temporal_filter(station_daily_df = station_df, \n",
    "                                        station_meta_df = station_df_meta,\n",
    "                                        start_date = start_date,\n",
    "                                        end_date = end_date)\n",
    "# snow_stations.head()"
   ]
  },
  {
   "cell_type": "markdown",
   "id": "033dc8c3-ae2e-461b-87f8-e6e3b4d81df7",
   "metadata": {},
   "source": [
    "### Filter Spatially\n",
    "Filter the in-situ datasets into the catchment area of interest using `station_spatial_filter()` from `cubes_utilities.py`."
   ]
  },
  {
   "cell_type": "code",
   "execution_count": 12,
   "id": "dba8cbb1-990c-41d5-b25c-e1e57f71a9ab",
   "metadata": {
    "tags": []
   },
   "outputs": [],
   "source": [
    "catchment_stations = station_spatial_filter(snow_stations, catchment_outline)\n",
    "# catchment_stations.head()"
   ]
  },
  {
   "cell_type": "markdown",
   "id": "90c78ce7-e5bf-4b31-abcd-20bd1fa65ef5",
   "metadata": {},
   "source": [
    "### Plot the filtered stations\n",
    "Visualize location of snow stations"
   ]
  },
  {
   "cell_type": "code",
   "execution_count": 13,
   "id": "bda36f9a-4c0a-4b17-b51c-26d4d31bcabf",
   "metadata": {
    "tags": []
   },
   "outputs": [
    {
     "name": "stdout",
     "output_type": "stream",
     "text": [
      "There are 5 unique stations within our catchment area of interest\n"
     ]
    }
   ],
   "source": [
    "print(\"There are\", len(np.unique(catchment_stations.Name)), \"unique stations within our catchment area of interest\")"
   ]
  },
  {
   "cell_type": "markdown",
   "id": "b13ca23c-3c4a-43ce-b175-630dc1e6f87f",
   "metadata": {},
   "source": [
    "**_Quick Hint: Remember the number of stations within the catchment for the final quiz exercise_**"
   ]
  },
  {
   "cell_type": "markdown",
   "id": "70832a9b-a1bb-4703-8643-dd3c7ab3b6d7",
   "metadata": {
    "tags": []
   },
   "source": [
    "### Convert snow depth to snow presence\n",
    "The stations are measuring snow depth. We only need the binary information on the presence of snow (yes, no). We're using the function `binarize_snow()` from `cubes_utilities.py`."
   ]
  },
  {
   "cell_type": "code",
   "execution_count": 14,
   "id": "4bf0d8d2-f2e0-4392-be2f-02918c39977b",
   "metadata": {
    "tags": []
   },
   "outputs": [
    {
     "data": {
      "text/html": [
       "<div>\n",
       "<style scoped>\n",
       "    .dataframe tbody tr th:only-of-type {\n",
       "        vertical-align: middle;\n",
       "    }\n",
       "\n",
       "    .dataframe tbody tr th {\n",
       "        vertical-align: top;\n",
       "    }\n",
       "\n",
       "    .dataframe thead th {\n",
       "        text-align: right;\n",
       "    }\n",
       "</style>\n",
       "<table border=\"1\" class=\"dataframe\">\n",
       "  <thead>\n",
       "    <tr style=\"text-align: right;\">\n",
       "      <th></th>\n",
       "      <th>Provider</th>\n",
       "      <th>Name</th>\n",
       "      <th>HN</th>\n",
       "      <th>HS</th>\n",
       "      <th>HN_after_qc</th>\n",
       "      <th>HS_after_qc</th>\n",
       "      <th>HS_after_gapfill</th>\n",
       "      <th>Longitude</th>\n",
       "      <th>Latitude</th>\n",
       "      <th>Elevation</th>\n",
       "      <th>geometry</th>\n",
       "      <th>snow_presence</th>\n",
       "    </tr>\n",
       "    <tr>\n",
       "      <th>Date</th>\n",
       "      <th></th>\n",
       "      <th></th>\n",
       "      <th></th>\n",
       "      <th></th>\n",
       "      <th></th>\n",
       "      <th></th>\n",
       "      <th></th>\n",
       "      <th></th>\n",
       "      <th></th>\n",
       "      <th></th>\n",
       "      <th></th>\n",
       "      <th></th>\n",
       "    </tr>\n",
       "  </thead>\n",
       "  <tbody>\n",
       "    <tr>\n",
       "      <th>2018-02-01</th>\n",
       "      <td>IT_BZ</td>\n",
       "      <td>S_Martino_in_Passiria_Osservatore</td>\n",
       "      <td>0.0</td>\n",
       "      <td>0.0</td>\n",
       "      <td>0.0</td>\n",
       "      <td>0.0</td>\n",
       "      <td>0.0</td>\n",
       "      <td>11.227909</td>\n",
       "      <td>46.782682</td>\n",
       "      <td>588.0</td>\n",
       "      <td>POINT (11.22791 46.78268)</td>\n",
       "      <td>0</td>\n",
       "    </tr>\n",
       "    <tr>\n",
       "      <th>2018-02-01</th>\n",
       "      <td>IT_BZ</td>\n",
       "      <td>Rifiano_Beobachter</td>\n",
       "      <td>0.0</td>\n",
       "      <td>0.0</td>\n",
       "      <td>0.0</td>\n",
       "      <td>0.0</td>\n",
       "      <td>0.0</td>\n",
       "      <td>11.183607</td>\n",
       "      <td>46.705034</td>\n",
       "      <td>500.0</td>\n",
       "      <td>POINT (11.18361 46.70503)</td>\n",
       "      <td>0</td>\n",
       "    </tr>\n",
       "    <tr>\n",
       "      <th>2018-02-01</th>\n",
       "      <td>IT_BZ</td>\n",
       "      <td>Plata_Osservatore</td>\n",
       "      <td>2.0</td>\n",
       "      <td>55.0</td>\n",
       "      <td>2.0</td>\n",
       "      <td>55.0</td>\n",
       "      <td>55.0</td>\n",
       "      <td>11.176968</td>\n",
       "      <td>46.822847</td>\n",
       "      <td>1130.0</td>\n",
       "      <td>POINT (11.17697 46.82285)</td>\n",
       "      <td>1</td>\n",
       "    </tr>\n",
       "    <tr>\n",
       "      <th>2018-02-01</th>\n",
       "      <td>IT_BZ</td>\n",
       "      <td>S_Leonardo_in_Passiria_Osservatore</td>\n",
       "      <td>0.0</td>\n",
       "      <td>NaN</td>\n",
       "      <td>0.0</td>\n",
       "      <td>NaN</td>\n",
       "      <td>NaN</td>\n",
       "      <td>11.247126</td>\n",
       "      <td>46.809062</td>\n",
       "      <td>644.0</td>\n",
       "      <td>POINT (11.24713 46.80906)</td>\n",
       "      <td>0</td>\n",
       "    </tr>\n",
       "    <tr>\n",
       "      <th>2018-02-01</th>\n",
       "      <td>IT_BZ</td>\n",
       "      <td>Scena_Osservatore</td>\n",
       "      <td>0.0</td>\n",
       "      <td>0.0</td>\n",
       "      <td>0.0</td>\n",
       "      <td>0.0</td>\n",
       "      <td>0.0</td>\n",
       "      <td>11.190831</td>\n",
       "      <td>46.689596</td>\n",
       "      <td>680.0</td>\n",
       "      <td>POINT (11.19083 46.68960)</td>\n",
       "      <td>0</td>\n",
       "    </tr>\n",
       "  </tbody>\n",
       "</table>\n",
       "</div>"
      ],
      "text/plain": [
       "           Provider                                Name   HN    HS  \\\n",
       "Date                                                                 \n",
       "2018-02-01    IT_BZ   S_Martino_in_Passiria_Osservatore  0.0   0.0   \n",
       "2018-02-01    IT_BZ                  Rifiano_Beobachter  0.0   0.0   \n",
       "2018-02-01    IT_BZ                   Plata_Osservatore  2.0  55.0   \n",
       "2018-02-01    IT_BZ  S_Leonardo_in_Passiria_Osservatore  0.0   NaN   \n",
       "2018-02-01    IT_BZ                   Scena_Osservatore  0.0   0.0   \n",
       "\n",
       "            HN_after_qc  HS_after_qc  HS_after_gapfill  Longitude   Latitude  \\\n",
       "Date                                                                           \n",
       "2018-02-01          0.0          0.0               0.0  11.227909  46.782682   \n",
       "2018-02-01          0.0          0.0               0.0  11.183607  46.705034   \n",
       "2018-02-01          2.0         55.0              55.0  11.176968  46.822847   \n",
       "2018-02-01          0.0          NaN               NaN  11.247126  46.809062   \n",
       "2018-02-01          0.0          0.0               0.0  11.190831  46.689596   \n",
       "\n",
       "            Elevation                   geometry  snow_presence  \n",
       "Date                                                             \n",
       "2018-02-01      588.0  POINT (11.22791 46.78268)              0  \n",
       "2018-02-01      500.0  POINT (11.18361 46.70503)              0  \n",
       "2018-02-01     1130.0  POINT (11.17697 46.82285)              1  \n",
       "2018-02-01      644.0  POINT (11.24713 46.80906)              0  \n",
       "2018-02-01      680.0  POINT (11.19083 46.68960)              0  "
      ]
     },
     "execution_count": 14,
     "metadata": {},
     "output_type": "execute_result"
    }
   ],
   "source": [
    "catchment_stations = catchment_stations.assign(snow_presence=catchment_stations.apply(binarize_snow, axis=1))\n",
    "catchment_stations.head()"
   ]
  },
  {
   "cell_type": "markdown",
   "id": "8e3ec45b-b0bf-4d46-af35-c524ce770903",
   "metadata": {},
   "source": [
    "### Save the pre-processed snow station measurements\n",
    "Save snow stations within catchment as GeoJSON"
   ]
  },
  {
   "cell_type": "code",
   "execution_count": 15,
   "id": "33cc1440-ce77-4c29-91f6-2bdace7f8c57",
   "metadata": {
    "tags": []
   },
   "outputs": [],
   "source": [
    "with open(\"results/catchment_stations.geojson\", \"w\") as file:\n",
    "    file.write(catchment_stations.to_json())"
   ]
  },
  {
   "cell_type": "markdown",
   "id": "64e38b03-2427-4718-8a11-544a6b0cc5aa",
   "metadata": {
    "tags": []
   },
   "source": [
    "## Extract SCA from the data cube per station"
   ]
  },
  {
   "cell_type": "markdown",
   "id": "82a7f129-c2ba-4bf6-aadc-548394a0954c",
   "metadata": {},
   "source": [
    "### Prepare snow station data for usage in openEO\n",
    "Create a buffer of approximately 80 meters (0.00075 degrees) around snow stations and visualize them."
   ]
  },
  {
   "cell_type": "code",
   "execution_count": null,
   "id": "e67e88fb-42ce-4d68-99c2-db7e1ba14ed0",
   "metadata": {
    "tags": []
   },
   "outputs": [],
   "source": [
    "catchment_stations_gpd = gpd.read_file(\"results/catchment_stations.geojson\")\n",
    "mappy =leafmap.Map(center=center, zoom=16)\n",
    "mappy.add_vector('data/catchment_outline.geojson', layer_name=\"catchment\")\n",
    "mappy.add_gdf(catchment_stations_gpd, layer_name=\"catchment_station\")\n",
    "\n",
    "catchment_stations_gpd[\"geometry\"] = catchment_stations_gpd.geometry.buffer(0.00075)\n",
    "mappy.add_gdf(catchment_stations_gpd, layer_name=\"catchment_station_buffer\")\n",
    "mappy"
   ]
  },
  {
   "cell_type": "markdown",
   "id": "3fb83f8e-0ed5-4cc5-b870-ecb522e43f0c",
   "metadata": {},
   "source": [
    "Convert the unique geometries to Feature Collection to be used in a openEO process."
   ]
  },
  {
   "cell_type": "code",
   "execution_count": null,
   "id": "ec68237a-c549-420e-a670-247d7d87000d",
   "metadata": {
    "tags": []
   },
   "outputs": [],
   "source": [
    "catchment_stations_fc = json.loads(\n",
    "    catchment_stations_gpd.geometry.iloc[:5].to_json()\n",
    ")"
   ]
  },
  {
   "cell_type": "markdown",
   "id": "4e70bd61-c865-4f97-bdbc-f3ca06de250c",
   "metadata": {},
   "source": [
    "### Extract SCA from the data cube per station\n",
    "We exgtract the SCA value of our data cube at the buffered station locations. Therefore we use the process `aggregate_spatial()` with the aggregation method `median()`. This gives us the most common value in the buffer (snow or snowfree)."
   ]
  },
  {
   "cell_type": "code",
   "execution_count": null,
   "id": "660cdb0b-c35c-43d9-8e11-7e0487ed7bf3",
   "metadata": {
    "tags": []
   },
   "outputs": [
    {
     "data": {
      "text/html": [
       "\n",
       "    <script>\n",
       "    if (!window.customElements || !window.customElements.get('openeo-model-builder')) {\n",
       "        var el = document.createElement('script');\n",
       "        el.src = \"https://cdn.jsdelivr.net/npm/@openeo/vue-components@2/assets/openeo.min.js\";\n",
       "        document.head.appendChild(el);\n",
       "\n",
       "        var font = document.createElement('font');\n",
       "        font.as = \"font\";\n",
       "        font.type = \"font/woff2\";\n",
       "        font.crossOrigin = true;\n",
       "        font.href = \"https://use.fontawesome.com/releases/v5.13.0/webfonts/fa-solid-900.woff2\"\n",
       "        document.head.appendChild(font);\n",
       "    }\n",
       "    </script>\n",
       "    <openeo-model-builder>\n",
       "        <script type=\"application/json\">{\"id\": \"193943d42e884fc5b0d2938a7f58abd6\", \"explicit-zoom\": true, \"height\": \"400px\", \"value\": {\"process_graph\": {\"loadcollection1\": {\"process_id\": \"load_collection\", \"arguments\": {\"bands\": [\"B03\", \"B11\"], \"id\": \"SENTINEL2_L2A\", \"spatial_extent\": {\"west\": 11.020833333333357, \"east\": 11.366666666666694, \"south\": 46.653599378797765, \"north\": 46.954166666666694, \"crs\": 4326}, \"temporal_extent\": [\"2018-02-01\", \"2018-06-30\"]}}, \"reducedimension1\": {\"process_id\": \"reduce_dimension\", \"arguments\": {\"data\": {\"from_node\": \"loadcollection1\"}, \"dimension\": \"bands\", \"reducer\": {\"process_graph\": {\"arrayelement1\": {\"process_id\": \"array_element\", \"arguments\": {\"data\": {\"from_parameter\": \"data\"}, \"index\": 0}}, \"arrayelement2\": {\"process_id\": \"array_element\", \"arguments\": {\"data\": {\"from_parameter\": \"data\"}, \"index\": 1}}, \"subtract1\": {\"process_id\": \"subtract\", \"arguments\": {\"x\": {\"from_node\": \"arrayelement1\"}, \"y\": {\"from_node\": \"arrayelement2\"}}}, \"add1\": {\"process_id\": \"add\", \"arguments\": {\"x\": {\"from_node\": \"arrayelement1\"}, \"y\": {\"from_node\": \"arrayelement2\"}}}, \"divide1\": {\"process_id\": \"divide\", \"arguments\": {\"x\": {\"from_node\": \"subtract1\"}, \"y\": {\"from_node\": \"add1\"}}}, \"gt1\": {\"process_id\": \"gt\", \"arguments\": {\"x\": {\"from_node\": \"divide1\"}, \"y\": 0.4}}, \"multiply1\": {\"process_id\": \"multiply\", \"arguments\": {\"x\": {\"from_node\": \"gt1\"}, \"y\": 1.0}, \"result\": true}}}}}, \"loadcollection2\": {\"process_id\": \"load_collection\", \"arguments\": {\"bands\": [\"SCL\"], \"id\": \"SENTINEL2_L2A\", \"spatial_extent\": {\"west\": 11.020833333333357, \"east\": 11.366666666666694, \"south\": 46.653599378797765, \"north\": 46.954166666666694, \"crs\": 4326}, \"temporal_extent\": [\"2018-02-01\", \"2018-06-30\"]}}, \"reducedimension2\": {\"process_id\": \"reduce_dimension\", \"arguments\": {\"data\": {\"from_node\": \"loadcollection2\"}, \"dimension\": \"bands\", \"reducer\": {\"process_graph\": {\"arrayelement3\": {\"process_id\": \"array_element\", \"arguments\": {\"data\": {\"from_parameter\": \"data\"}, \"index\": 0}}, \"eq1\": {\"process_id\": \"eq\", \"arguments\": {\"x\": {\"from_node\": \"arrayelement3\"}, \"y\": 8}}, \"eq2\": {\"process_id\": \"eq\", \"arguments\": {\"x\": {\"from_node\": \"arrayelement3\"}, \"y\": 9}}, \"or1\": {\"process_id\": \"or\", \"arguments\": {\"x\": {\"from_node\": \"eq1\"}, \"y\": {\"from_node\": \"eq2\"}}}, \"eq3\": {\"process_id\": \"eq\", \"arguments\": {\"x\": {\"from_node\": \"arrayelement3\"}, \"y\": 3}}, \"or2\": {\"process_id\": \"or\", \"arguments\": {\"x\": {\"from_node\": \"or1\"}, \"y\": {\"from_node\": \"eq3\"}}}, \"multiply2\": {\"process_id\": \"multiply\", \"arguments\": {\"x\": {\"from_node\": \"or2\"}, \"y\": 1.0}, \"result\": true}}}}}, \"mask1\": {\"process_id\": \"mask\", \"arguments\": {\"data\": {\"from_node\": \"reducedimension1\"}, \"mask\": {\"from_node\": \"reducedimension2\"}}}, \"aggregatespatial1\": {\"process_id\": \"aggregate_spatial\", \"arguments\": {\"data\": {\"from_node\": \"mask1\"}, \"geometries\": {\"type\": \"FeatureCollection\", \"features\": [{\"id\": \"0\", \"type\": \"Feature\", \"properties\": {}, \"geometry\": {\"type\": \"Polygon\", \"coordinates\": [[[11.22865902, 46.78268248], [11.228655408545004, 46.78260896714475], [11.228644608960302, 46.78253616225849], [11.2286267252518, 46.782464766492055], [11.228601929649384, 46.78239546742572], [11.228570460948262, 46.78232893244738], [11.228532622209228, 46.782265802325234], [11.228488777840022, 46.782206685036876], [11.22843935008589, 46.78215214991411], [11.228384814963123, 46.782102722159976], [11.228325697674764, 46.782058877790774], [11.228262567552619, 46.782021039051735], [11.228196032574274, 46.78198957035062], [11.22812673350794, 46.7819647747482], [11.228055337741512, 46.781946891039695], [11.227982532855247, 46.781936091454995], [11.22790902, 46.78193248], [11.227835507144754, 46.781936091454995], [11.227762702258488, 46.781946891039695], [11.22769130649206, 46.7819647747482], [11.227622007425726, 46.78198957035062], [11.227555472447381, 46.782021039051735], [11.227492342325236, 46.782058877790774], [11.227433225036878, 46.782102722159976], [11.22737868991411, 46.78215214991411], [11.227329262159978, 46.782206685036876], [11.227285417790773, 46.782265802325234], [11.227247579051738, 46.78232893244738], [11.227216110350616, 46.78239546742572], [11.2271913147482, 46.782464766492055], [11.227173431039699, 46.78253616225849], [11.227162631454997, 46.78260896714475], [11.22715902, 46.78268248], [11.227162631454997, 46.78275599285524], [11.227173431039699, 46.78282879774151], [11.2271913147482, 46.78290019350794], [11.227216110350616, 46.782969492574274], [11.227247579051738, 46.78303602755262], [11.227285417790773, 46.78309915767476], [11.227329262159978, 46.78315827496312], [11.22737868991411, 46.783212810085885], [11.227433225036878, 46.78326223784002], [11.227492342325236, 46.78330608220922], [11.227555472447381, 46.78334392094826], [11.227622007425726, 46.78337538964938], [11.22769130649206, 46.7834001852518], [11.227762702258488, 46.7834180689603], [11.227835507144754, 46.783428868545], [11.22790902, 46.783432479999995], [11.227982532855247, 46.783428868545], [11.228055337741512, 46.7834180689603], [11.22812673350794, 46.7834001852518], [11.228196032574274, 46.78337538964938], [11.228262567552619, 46.78334392094826], [11.228325697674764, 46.78330608220922], [11.228384814963123, 46.78326223784002], [11.22843935008589, 46.783212810085885], [11.228488777840022, 46.78315827496312], [11.228532622209228, 46.78309915767476], [11.228570460948262, 46.78303602755262], [11.228601929649384, 46.782969492574274], [11.2286267252518, 46.78290019350794], [11.228644608960302, 46.78282879774151], [11.228655408545004, 46.78275599285524], [11.22865902, 46.78268248]]]}, \"bbox\": [11.22715902, 46.78193248, 11.22865902, 46.783432479999995]}, {\"id\": \"1\", \"type\": \"Feature\", \"properties\": {}, \"geometry\": {\"type\": \"Polygon\", \"coordinates\": [[[11.18435656, 46.70503357], [11.184352948545003, 46.70496005714475], [11.184342148960301, 46.70488725225849], [11.1843242652518, 46.704815856492054], [11.184299469649384, 46.70474655742572], [11.184268000948261, 46.70468002244738], [11.184230162209227, 46.704616892325234], [11.184186317840021, 46.704557775036875], [11.18413689008589, 46.70450323991411], [11.184082354963122, 46.704453812159976], [11.184023237674763, 46.704409967790774], [11.183960107552618, 46.704372129051734], [11.183893572574274, 46.70434066035062], [11.18382427350794, 46.704315864748196], [11.183752877741512, 46.704297981039694], [11.183680072855246, 46.704287181454994], [11.18360656, 46.70428357], [11.183533047144753, 46.704287181454994], [11.183460242258487, 46.704297981039694], [11.18338884649206, 46.704315864748196], [11.183319547425725, 46.70434066035062], [11.18325301244738, 46.704372129051734], [11.183189882325236, 46.704409967790774], [11.183130765036877, 46.704453812159976], [11.183076229914109, 46.70450323991411], [11.183026802159977, 46.704557775036875], [11.182982957790772, 46.704616892325234], [11.182945119051737, 46.70468002244738], [11.182913650350615, 46.70474655742572], [11.1828888547482, 46.704815856492054], [11.182870971039698, 46.70488725225849], [11.182860171454996, 46.70496005714475], [11.18285656, 46.70503357], [11.182860171454996, 46.70510708285524], [11.182870971039698, 46.70517988774151], [11.1828888547482, 46.70525128350794], [11.182913650350615, 46.705320582574274], [11.182945119051737, 46.70538711755262], [11.182982957790772, 46.70545024767476], [11.183026802159977, 46.70550936496312], [11.183076229914109, 46.705563900085885], [11.183130765036877, 46.70561332784002], [11.183189882325236, 46.70565717220922], [11.18325301244738, 46.70569501094826], [11.183319547425725, 46.70572647964938], [11.18338884649206, 46.7057512752518], [11.183460242258487, 46.7057691589603], [11.183533047144753, 46.705779958545], [11.18360656, 46.705783569999994], [11.183680072855246, 46.705779958545], [11.183752877741512, 46.7057691589603], [11.18382427350794, 46.7057512752518], [11.183893572574274, 46.70572647964938], [11.183960107552618, 46.70569501094826], [11.184023237674763, 46.70565717220922], [11.184082354963122, 46.70561332784002], [11.18413689008589, 46.705563900085885], [11.184186317840021, 46.70550936496312], [11.184230162209227, 46.70545024767476], [11.184268000948261, 46.70538711755262], [11.184299469649384, 46.705320582574274], [11.1843242652518, 46.70525128350794], [11.184342148960301, 46.70517988774151], [11.184352948545003, 46.70510708285524], [11.18435656, 46.70503357]]]}, \"bbox\": [11.18285656, 46.70428357, 11.18435656, 46.705783569999994]}, {\"id\": \"2\", \"type\": \"Feature\", \"properties\": {}, \"geometry\": {\"type\": \"Polygon\", \"coordinates\": [[[11.17771798, 46.82284696], [11.177714368545004, 46.822773447144755], [11.177703568960302, 46.82270064225849], [11.1776856852518, 46.822629246492056], [11.177660889649385, 46.822559947425724], [11.177629420948263, 46.82249341244738], [11.177591582209228, 46.822430282325236], [11.177547737840023, 46.82237116503688], [11.177498310085891, 46.82231662991411], [11.177443774963123, 46.82226720215998], [11.177384657674764, 46.822223357790776], [11.17732152755262, 46.822185519051736], [11.177254992574275, 46.82215405035062], [11.17718569350794, 46.8221292547482], [11.177114297741513, 46.822111371039696], [11.177041492855247, 46.822100571454996], [11.17696798, 46.82209696], [11.176894467144754, 46.822100571454996], [11.176821662258488, 46.822111371039696], [11.17675026649206, 46.8221292547482], [11.176680967425726, 46.82215405035062], [11.176614432447382, 46.822185519051736], [11.176551302325237, 46.822223357790776], [11.176492185036878, 46.82226720215998], [11.17643764991411, 46.82231662991411], [11.176388222159979, 46.82237116503688], [11.176344377790773, 46.822430282325236], [11.176306539051739, 46.82249341244738], [11.176275070350616, 46.822559947425724], [11.1762502747482, 46.822629246492056], [11.176232391039699, 46.82270064225849], [11.176221591454997, 46.822773447144755], [11.17621798, 46.82284696], [11.176221591454997, 46.822920472855245], [11.176232391039699, 46.82299327774151], [11.1762502747482, 46.82306467350794], [11.176275070350616, 46.823133972574276], [11.176306539051739, 46.82320050755262], [11.176344377790773, 46.82326363767476], [11.176388222159979, 46.82332275496312], [11.17643764991411, 46.82337729008589], [11.176492185036878, 46.82342671784002], [11.176551302325237, 46.82347056220922], [11.176614432447382, 46.82350840094826], [11.176680967425726, 46.82353986964938], [11.17675026649206, 46.8235646652518], [11.176821662258488, 46.8235825489603], [11.176894467144754, 46.823593348545], [11.17696798, 46.823596959999996], [11.177041492855247, 46.823593348545], [11.177114297741513, 46.8235825489603], [11.17718569350794, 46.8235646652518], [11.177254992574275, 46.82353986964938], [11.17732152755262, 46.82350840094826], [11.177384657674764, 46.82347056220922], [11.177443774963123, 46.82342671784002], [11.177498310085891, 46.82337729008589], [11.177547737840023, 46.82332275496312], [11.177591582209228, 46.82326363767476], [11.177629420948263, 46.82320050755262], [11.177660889649385, 46.823133972574276], [11.1776856852518, 46.82306467350794], [11.177703568960302, 46.82299327774151], [11.177714368545004, 46.822920472855245], [11.17771798, 46.82284696]]]}, \"bbox\": [11.17621798, 46.82209696, 11.17771798, 46.823596959999996]}, {\"id\": \"3\", \"type\": \"Feature\", \"properties\": {}, \"geometry\": {\"type\": \"Polygon\", \"coordinates\": [[[11.24787619, 46.80906215], [11.247872578545003, 46.80898863714476], [11.247861778960301, 46.80891583225849], [11.2478438952518, 46.80884443649206], [11.247819099649384, 46.80877513742573], [11.247787630948261, 46.80870860244738], [11.247749792209227, 46.80864547232524], [11.247705947840021, 46.80858635503688], [11.24765652008589, 46.808531819914116], [11.247601984963122, 46.80848239215998], [11.247542867674763, 46.80843854779078], [11.247479737552618, 46.80840070905174], [11.247413202574274, 46.80836924035062], [11.24734390350794, 46.8083444447482], [11.247272507741512, 46.8083265610397], [11.247199702855246, 46.808315761455], [11.24712619, 46.808312150000006], [11.247052677144753, 46.808315761455], [11.246979872258487, 46.8083265610397], [11.24690847649206, 46.8083444447482], [11.246839177425725, 46.80836924035062], [11.24677264244738, 46.80840070905174], [11.246709512325236, 46.80843854779078], [11.246650395036877, 46.80848239215998], [11.246595859914109, 46.808531819914116], [11.246546432159978, 46.80858635503688], [11.246502587790772, 46.80864547232524], [11.246464749051738, 46.80870860244738], [11.246433280350615, 46.80877513742573], [11.2464084847482, 46.80884443649206], [11.246390601039698, 46.80891583225849], [11.246379801454996, 46.80898863714476], [11.24637619, 46.80906215], [11.246379801454996, 46.80913566285525], [11.246390601039698, 46.80920846774151], [11.2464084847482, 46.809279863507946], [11.246433280350615, 46.80934916257428], [11.246464749051738, 46.80941569755262], [11.246502587790772, 46.809478827674766], [11.246546432159978, 46.809537944963125], [11.246595859914109, 46.80959248008589], [11.246650395036877, 46.809641907840025], [11.246709512325236, 46.80968575220923], [11.24677264244738, 46.809723590948266], [11.246839177425725, 46.80975505964938], [11.24690847649206, 46.809779855251804], [11.246979872258487, 46.809797738960306], [11.247052677144753, 46.809808538545006], [11.24712619, 46.80981215], [11.247199702855246, 46.809808538545006], [11.247272507741512, 46.809797738960306], [11.24734390350794, 46.809779855251804], [11.247413202574274, 46.80975505964938], [11.247479737552618, 46.809723590948266], [11.247542867674763, 46.80968575220923], [11.247601984963122, 46.809641907840025], [11.24765652008589, 46.80959248008589], [11.247705947840021, 46.809537944963125], [11.247749792209227, 46.809478827674766], [11.247787630948261, 46.80941569755262], [11.247819099649384, 46.80934916257428], [11.2478438952518, 46.809279863507946], [11.247861778960301, 46.80920846774151], [11.247872578545003, 46.80913566285525], [11.24787619, 46.80906215]]]}, \"bbox\": [11.24637619, 46.808312150000006, 11.24787619, 46.80981215]}, {\"id\": \"4\", \"type\": \"Feature\", \"properties\": {}, \"geometry\": {\"type\": \"Polygon\", \"coordinates\": [[[11.19158113, 46.68959605], [11.191577518545003, 46.689522537144754], [11.191566718960301, 46.68944973225849], [11.1915488352518, 46.689378336492055], [11.191524039649384, 46.68930903742572], [11.191492570948261, 46.68924250244738], [11.191454732209227, 46.689179372325235], [11.191410887840021, 46.689120255036876], [11.19136146008589, 46.68906571991411], [11.191306924963122, 46.68901629215998], [11.191247807674763, 46.688972447790775], [11.191184677552618, 46.688934609051735], [11.191118142574274, 46.68890314035062], [11.19104884350794, 46.6888783447482], [11.190977447741512, 46.688860461039695], [11.190904642855246, 46.688849661454995], [11.19083113, 46.68884605], [11.190757617144753, 46.688849661454995], [11.190684812258487, 46.688860461039695], [11.19061341649206, 46.6888783447482], [11.190544117425725, 46.68890314035062], [11.19047758244738, 46.688934609051735], [11.190414452325236, 46.688972447790775], [11.190355335036877, 46.68901629215998], [11.190300799914109, 46.68906571991411], [11.190251372159977, 46.689120255036876], [11.190207527790772, 46.689179372325235], [11.190169689051737, 46.68924250244738], [11.190138220350615, 46.68930903742572], [11.1901134247482, 46.689378336492055], [11.190095541039698, 46.68944973225849], [11.190084741454996, 46.689522537144754], [11.19008113, 46.68959605], [11.190084741454996, 46.689669562855244], [11.190095541039698, 46.68974236774151], [11.1901134247482, 46.68981376350794], [11.190138220350615, 46.689883062574275], [11.190169689051737, 46.68994959755262], [11.190207527790772, 46.69001272767476], [11.190251372159977, 46.69007184496312], [11.190300799914109, 46.690126380085886], [11.190355335036877, 46.69017580784002], [11.190414452325236, 46.69021965220922], [11.19047758244738, 46.69025749094826], [11.190544117425725, 46.69028895964938], [11.19061341649206, 46.6903137552518], [11.190684812258487, 46.6903316389603], [11.190757617144753, 46.690342438545], [11.19083113, 46.690346049999995], [11.190904642855246, 46.690342438545], [11.190977447741512, 46.6903316389603], [11.19104884350794, 46.6903137552518], [11.191118142574274, 46.69028895964938], [11.191184677552618, 46.69025749094826], [11.191247807674763, 46.69021965220922], [11.191306924963122, 46.69017580784002], [11.19136146008589, 46.690126380085886], [11.191410887840021, 46.69007184496312], [11.191454732209227, 46.69001272767476], [11.191492570948261, 46.68994959755262], [11.191524039649384, 46.689883062574275], [11.1915488352518, 46.68981376350794], [11.191566718960301, 46.68974236774151], [11.191577518545003, 46.689669562855244], [11.19158113, 46.68959605]]]}, \"bbox\": [11.19008113, 46.68884605, 11.19158113, 46.690346049999995]}], \"bbox\": [11.17621798, 46.68884605, 11.24787619, 46.823596959999996]}, \"reducer\": {\"process_graph\": {\"median1\": {\"process_id\": \"median\", \"arguments\": {\"data\": {\"from_parameter\": \"data\"}}, \"result\": true}}}}, \"result\": true}}}}</script>\n",
       "    </openeo-model-builder>\n",
       "    "
      ],
      "text/plain": [
       "<openeo.rest.vectorcube.VectorCube at 0x7f02348cca50>"
      ]
     },
     "execution_count": 18,
     "metadata": {},
     "output_type": "execute_result"
    }
   ],
   "source": [
    "snowmap_per_station= snow_map_cloud_free.aggregate_spatial(catchment_stations_fc, reducer=\"median\")\n",
    "snowmap_per_station"
   ]
  },
  {
   "cell_type": "markdown",
   "id": "6417965b-8d86-468e-80a2-6bd26aa3afd4",
   "metadata": {},
   "source": [
    "Create a batch job on the cloud platform. And start it."
   ]
  },
  {
   "cell_type": "code",
   "execution_count": 19,
   "id": "b114331e-3206-4c38-8780-72c6bd87f882",
   "metadata": {
    "tags": []
   },
   "outputs": [],
   "source": [
    "snowmap_cloudfree_json = snowmap_per_station.save_result(format=\"JSON\")\n",
    "job = snowmap_cloudfree_json.create_job(title=\"snow_map\")\n",
    "job.start_job()"
   ]
  },
  {
   "cell_type": "markdown",
   "id": "a19d00e4-1f2a-4b00-b048-870bbe944e20",
   "metadata": {},
   "source": [
    "Check the status of the job. And download once it's finished."
   ]
  },
  {
   "cell_type": "code",
   "execution_count": 36,
   "id": "ef303390-bb1e-4332-b4b3-478df40f2fb0",
   "metadata": {
    "tags": []
   },
   "outputs": [
    {
     "data": {
      "text/plain": [
       "'created'"
      ]
     },
     "execution_count": 36,
     "metadata": {},
     "output_type": "execute_result"
    }
   ],
   "source": [
    "job.status()"
   ]
  },
  {
   "cell_type": "code",
   "execution_count": 21,
   "id": "5f43f292-9c32-4a5b-821f-8d21be8df5b0",
   "metadata": {
    "tags": []
   },
   "outputs": [],
   "source": [
    "if job.status() == \"finished\":\n",
    "    results = job.get_results()\n",
    "    results.download_files(\"results/snowmap/\")"
   ]
  },
  {
   "cell_type": "markdown",
   "id": "b2a9ae00-db74-4a58-93a7-76fe5a833515",
   "metadata": {},
   "source": [
    "Open the snow covered area time series extracted at the stations. We'll have a look at it in a second."
   ]
  },
  {
   "cell_type": "code",
   "execution_count": 22,
   "id": "1a5e1cfe-73c1-47cd-9eb0-128db0702edf",
   "metadata": {
    "tags": []
   },
   "outputs": [],
   "source": [
    "with open(\"results/snowmap/timeseries.json\",\"r\") as file:\n",
    "    snow_time_series = json.load(file)"
   ]
  },
  {
   "cell_type": "markdown",
   "id": "ad4b1d37-12b1-4967-b8d1-48685c6c5ae8",
   "metadata": {
    "tags": []
   },
   "source": [
    "## Combine station measurements and the extracted SCA from our data cube\n",
    "The **station measurements** are **daily** and all of the stations are combined in **one csv file**. \n",
    "The **extracted SCA values** are in the best case **six-daily** (Sentinel-2 repeat rate) and also all stations are in **one json file**.\n",
    "We will need to join the the extracted SCA with the station measurements by station (and time (selecting the corresponding time steps)"
   ]
  },
  {
   "cell_type": "markdown",
   "id": "f1260ef8-e005-4ac2-be10-1f1e3ab305ac",
   "metadata": {},
   "source": [
    "### Extract snow values from SCA extracted at the station location\n",
    "Let's have a look at the data structure first"
   ]
  },
  {
   "cell_type": "code",
   "execution_count": 23,
   "id": "d7b80a64-1792-48f1-8b3d-ff27f0656b36",
   "metadata": {
    "tags": []
   },
   "outputs": [],
   "source": [
    "# snow_time_series.sample(1)"
   ]
  },
  {
   "cell_type": "code",
   "execution_count": 24,
   "id": "c8155415-5659-424b-a6cd-529439bc0956",
   "metadata": {
    "tags": []
   },
   "outputs": [],
   "source": [
    "dates = [k.split(\"T\")[0] for k in snow_time_series]\n",
    "snow_val_smartino = [snow_time_series[k][0][0] for k in snow_time_series]\n",
    "snow_val_rifiano = [snow_time_series[k][1][0] for k in snow_time_series]\n",
    "snow_val_plata = [snow_time_series[k][2][0] for k in snow_time_series]\n",
    "snow_val_sleonardo = [snow_time_series[k][3][0] for k in snow_time_series]\n",
    "snow_val_scena = [snow_time_series[k][4][0] for k in snow_time_series]"
   ]
  },
  {
   "cell_type": "markdown",
   "id": "eb5779d4-de7e-4a27-ba3d-e7b3da396029",
   "metadata": {},
   "source": [
    "### Match in-situ measurements to dates in SCA \n",
    "Let's have a look at the in-situ measurement data set."
   ]
  },
  {
   "cell_type": "code",
   "execution_count": 25,
   "id": "d3755c18-1f3e-4e02-9ba2-8d6abf7c0078",
   "metadata": {
    "tags": []
   },
   "outputs": [
    {
     "data": {
      "text/html": [
       "<div>\n",
       "<style scoped>\n",
       "    .dataframe tbody tr th:only-of-type {\n",
       "        vertical-align: middle;\n",
       "    }\n",
       "\n",
       "    .dataframe tbody tr th {\n",
       "        vertical-align: top;\n",
       "    }\n",
       "\n",
       "    .dataframe thead th {\n",
       "        text-align: right;\n",
       "    }\n",
       "</style>\n",
       "<table border=\"1\" class=\"dataframe\">\n",
       "  <thead>\n",
       "    <tr style=\"text-align: right;\">\n",
       "      <th></th>\n",
       "      <th>id</th>\n",
       "      <th>Provider</th>\n",
       "      <th>Name</th>\n",
       "      <th>HN</th>\n",
       "      <th>HS</th>\n",
       "      <th>HN_after_qc</th>\n",
       "      <th>HS_after_qc</th>\n",
       "      <th>HS_after_gapfill</th>\n",
       "      <th>Longitude</th>\n",
       "      <th>Latitude</th>\n",
       "      <th>Elevation</th>\n",
       "      <th>snow_presence</th>\n",
       "      <th>geometry</th>\n",
       "    </tr>\n",
       "  </thead>\n",
       "  <tbody>\n",
       "    <tr>\n",
       "      <th>0</th>\n",
       "      <td>2018-02-01</td>\n",
       "      <td>IT_BZ</td>\n",
       "      <td>S_Martino_in_Passiria_Osservatore</td>\n",
       "      <td>0.0</td>\n",
       "      <td>0.0</td>\n",
       "      <td>0.0</td>\n",
       "      <td>0.0</td>\n",
       "      <td>0.0</td>\n",
       "      <td>11.227909</td>\n",
       "      <td>46.782682</td>\n",
       "      <td>588.0</td>\n",
       "      <td>0</td>\n",
       "      <td>POLYGON ((11.22866 46.78268, 11.22866 46.78261...</td>\n",
       "    </tr>\n",
       "    <tr>\n",
       "      <th>1</th>\n",
       "      <td>2018-02-01</td>\n",
       "      <td>IT_BZ</td>\n",
       "      <td>Rifiano_Beobachter</td>\n",
       "      <td>0.0</td>\n",
       "      <td>0.0</td>\n",
       "      <td>0.0</td>\n",
       "      <td>0.0</td>\n",
       "      <td>0.0</td>\n",
       "      <td>11.183607</td>\n",
       "      <td>46.705034</td>\n",
       "      <td>500.0</td>\n",
       "      <td>0</td>\n",
       "      <td>POLYGON ((11.18436 46.70503, 11.18435 46.70496...</td>\n",
       "    </tr>\n",
       "    <tr>\n",
       "      <th>2</th>\n",
       "      <td>2018-02-01</td>\n",
       "      <td>IT_BZ</td>\n",
       "      <td>Plata_Osservatore</td>\n",
       "      <td>2.0</td>\n",
       "      <td>55.0</td>\n",
       "      <td>2.0</td>\n",
       "      <td>55.0</td>\n",
       "      <td>55.0</td>\n",
       "      <td>11.176968</td>\n",
       "      <td>46.822847</td>\n",
       "      <td>1130.0</td>\n",
       "      <td>1</td>\n",
       "      <td>POLYGON ((11.17772 46.82285, 11.17771 46.82277...</td>\n",
       "    </tr>\n",
       "    <tr>\n",
       "      <th>3</th>\n",
       "      <td>2018-02-01</td>\n",
       "      <td>IT_BZ</td>\n",
       "      <td>S_Leonardo_in_Passiria_Osservatore</td>\n",
       "      <td>0.0</td>\n",
       "      <td>NaN</td>\n",
       "      <td>0.0</td>\n",
       "      <td>NaN</td>\n",
       "      <td>NaN</td>\n",
       "      <td>11.247126</td>\n",
       "      <td>46.809062</td>\n",
       "      <td>644.0</td>\n",
       "      <td>0</td>\n",
       "      <td>POLYGON ((11.24788 46.80906, 11.24787 46.80899...</td>\n",
       "    </tr>\n",
       "    <tr>\n",
       "      <th>4</th>\n",
       "      <td>2018-02-01</td>\n",
       "      <td>IT_BZ</td>\n",
       "      <td>Scena_Osservatore</td>\n",
       "      <td>0.0</td>\n",
       "      <td>0.0</td>\n",
       "      <td>0.0</td>\n",
       "      <td>0.0</td>\n",
       "      <td>0.0</td>\n",
       "      <td>11.190831</td>\n",
       "      <td>46.689596</td>\n",
       "      <td>680.0</td>\n",
       "      <td>0</td>\n",
       "      <td>POLYGON ((11.19158 46.68960, 11.19158 46.68952...</td>\n",
       "    </tr>\n",
       "    <tr>\n",
       "      <th>...</th>\n",
       "      <td>...</td>\n",
       "      <td>...</td>\n",
       "      <td>...</td>\n",
       "      <td>...</td>\n",
       "      <td>...</td>\n",
       "      <td>...</td>\n",
       "      <td>...</td>\n",
       "      <td>...</td>\n",
       "      <td>...</td>\n",
       "      <td>...</td>\n",
       "      <td>...</td>\n",
       "      <td>...</td>\n",
       "      <td>...</td>\n",
       "    </tr>\n",
       "    <tr>\n",
       "      <th>745</th>\n",
       "      <td>2018-06-30</td>\n",
       "      <td>IT_BZ</td>\n",
       "      <td>Plata_Osservatore</td>\n",
       "      <td>0.0</td>\n",
       "      <td>0.0</td>\n",
       "      <td>0.0</td>\n",
       "      <td>0.0</td>\n",
       "      <td>0.0</td>\n",
       "      <td>11.176968</td>\n",
       "      <td>46.822847</td>\n",
       "      <td>1130.0</td>\n",
       "      <td>0</td>\n",
       "      <td>POLYGON ((11.17772 46.82285, 11.17771 46.82277...</td>\n",
       "    </tr>\n",
       "    <tr>\n",
       "      <th>746</th>\n",
       "      <td>2018-06-30</td>\n",
       "      <td>IT_BZ</td>\n",
       "      <td>Scena_Osservatore</td>\n",
       "      <td>0.0</td>\n",
       "      <td>0.0</td>\n",
       "      <td>0.0</td>\n",
       "      <td>0.0</td>\n",
       "      <td>0.0</td>\n",
       "      <td>11.190831</td>\n",
       "      <td>46.689596</td>\n",
       "      <td>680.0</td>\n",
       "      <td>0</td>\n",
       "      <td>POLYGON ((11.19158 46.68960, 11.19158 46.68952...</td>\n",
       "    </tr>\n",
       "    <tr>\n",
       "      <th>747</th>\n",
       "      <td>2018-06-30</td>\n",
       "      <td>IT_BZ</td>\n",
       "      <td>Rifiano_Beobachter</td>\n",
       "      <td>0.0</td>\n",
       "      <td>0.0</td>\n",
       "      <td>0.0</td>\n",
       "      <td>0.0</td>\n",
       "      <td>0.0</td>\n",
       "      <td>11.183607</td>\n",
       "      <td>46.705034</td>\n",
       "      <td>500.0</td>\n",
       "      <td>0</td>\n",
       "      <td>POLYGON ((11.18436 46.70503, 11.18435 46.70496...</td>\n",
       "    </tr>\n",
       "    <tr>\n",
       "      <th>748</th>\n",
       "      <td>2018-06-30</td>\n",
       "      <td>IT_BZ</td>\n",
       "      <td>S_Leonardo_in_Passiria_Osservatore</td>\n",
       "      <td>0.0</td>\n",
       "      <td>NaN</td>\n",
       "      <td>0.0</td>\n",
       "      <td>NaN</td>\n",
       "      <td>NaN</td>\n",
       "      <td>11.247126</td>\n",
       "      <td>46.809062</td>\n",
       "      <td>644.0</td>\n",
       "      <td>0</td>\n",
       "      <td>POLYGON ((11.24788 46.80906, 11.24787 46.80899...</td>\n",
       "    </tr>\n",
       "    <tr>\n",
       "      <th>749</th>\n",
       "      <td>2018-06-30</td>\n",
       "      <td>IT_BZ</td>\n",
       "      <td>S_Martino_in_Passiria_Osservatore</td>\n",
       "      <td>0.0</td>\n",
       "      <td>0.0</td>\n",
       "      <td>0.0</td>\n",
       "      <td>0.0</td>\n",
       "      <td>0.0</td>\n",
       "      <td>11.227909</td>\n",
       "      <td>46.782682</td>\n",
       "      <td>588.0</td>\n",
       "      <td>0</td>\n",
       "      <td>POLYGON ((11.22866 46.78268, 11.22866 46.78261...</td>\n",
       "    </tr>\n",
       "  </tbody>\n",
       "</table>\n",
       "<p>750 rows × 13 columns</p>\n",
       "</div>"
      ],
      "text/plain": [
       "             id Provider                                Name   HN    HS  \\\n",
       "0    2018-02-01    IT_BZ   S_Martino_in_Passiria_Osservatore  0.0   0.0   \n",
       "1    2018-02-01    IT_BZ                  Rifiano_Beobachter  0.0   0.0   \n",
       "2    2018-02-01    IT_BZ                   Plata_Osservatore  2.0  55.0   \n",
       "3    2018-02-01    IT_BZ  S_Leonardo_in_Passiria_Osservatore  0.0   NaN   \n",
       "4    2018-02-01    IT_BZ                   Scena_Osservatore  0.0   0.0   \n",
       "..          ...      ...                                 ...  ...   ...   \n",
       "745  2018-06-30    IT_BZ                   Plata_Osservatore  0.0   0.0   \n",
       "746  2018-06-30    IT_BZ                   Scena_Osservatore  0.0   0.0   \n",
       "747  2018-06-30    IT_BZ                  Rifiano_Beobachter  0.0   0.0   \n",
       "748  2018-06-30    IT_BZ  S_Leonardo_in_Passiria_Osservatore  0.0   NaN   \n",
       "749  2018-06-30    IT_BZ   S_Martino_in_Passiria_Osservatore  0.0   0.0   \n",
       "\n",
       "     HN_after_qc  HS_after_qc  HS_after_gapfill  Longitude   Latitude  \\\n",
       "0            0.0          0.0               0.0  11.227909  46.782682   \n",
       "1            0.0          0.0               0.0  11.183607  46.705034   \n",
       "2            2.0         55.0              55.0  11.176968  46.822847   \n",
       "3            0.0          NaN               NaN  11.247126  46.809062   \n",
       "4            0.0          0.0               0.0  11.190831  46.689596   \n",
       "..           ...          ...               ...        ...        ...   \n",
       "745          0.0          0.0               0.0  11.176968  46.822847   \n",
       "746          0.0          0.0               0.0  11.190831  46.689596   \n",
       "747          0.0          0.0               0.0  11.183607  46.705034   \n",
       "748          0.0          NaN               NaN  11.247126  46.809062   \n",
       "749          0.0          0.0               0.0  11.227909  46.782682   \n",
       "\n",
       "     Elevation  snow_presence  \\\n",
       "0        588.0              0   \n",
       "1        500.0              0   \n",
       "2       1130.0              1   \n",
       "3        644.0              0   \n",
       "4        680.0              0   \n",
       "..         ...            ...   \n",
       "745     1130.0              0   \n",
       "746      680.0              0   \n",
       "747      500.0              0   \n",
       "748      644.0              0   \n",
       "749      588.0              0   \n",
       "\n",
       "                                              geometry  \n",
       "0    POLYGON ((11.22866 46.78268, 11.22866 46.78261...  \n",
       "1    POLYGON ((11.18436 46.70503, 11.18435 46.70496...  \n",
       "2    POLYGON ((11.17772 46.82285, 11.17771 46.82277...  \n",
       "3    POLYGON ((11.24788 46.80906, 11.24787 46.80899...  \n",
       "4    POLYGON ((11.19158 46.68960, 11.19158 46.68952...  \n",
       "..                                                 ...  \n",
       "745  POLYGON ((11.17772 46.82285, 11.17771 46.82277...  \n",
       "746  POLYGON ((11.19158 46.68960, 11.19158 46.68952...  \n",
       "747  POLYGON ((11.18436 46.70503, 11.18435 46.70496...  \n",
       "748  POLYGON ((11.24788 46.80906, 11.24787 46.80899...  \n",
       "749  POLYGON ((11.22866 46.78268, 11.22866 46.78261...  \n",
       "\n",
       "[750 rows x 13 columns]"
      ]
     },
     "execution_count": 25,
     "metadata": {},
     "output_type": "execute_result"
    }
   ],
   "source": [
    "catchment_stations_gpd"
   ]
  },
  {
   "cell_type": "markdown",
   "id": "69909e01-90ea-4f86-b4a0-2e46622d42e5",
   "metadata": {},
   "source": [
    "We are going to extract each station and keep only the dates that are available in the SCA results."
   ]
  },
  {
   "cell_type": "code",
   "execution_count": 26,
   "id": "f039220b-ad55-4d2f-9aad-33b5d523e1a4",
   "metadata": {
    "tags": []
   },
   "outputs": [],
   "source": [
    "catchment_stations_gpd_smartino = catchment_stations_gpd.query(\"Name == 'S_Martino_in_Passiria_Osservatore'\")\n",
    "catchment_stations_gpd_smartino = catchment_stations_gpd_smartino[\n",
    "    catchment_stations_gpd_smartino.id.isin(dates)\n",
    "]\n",
    "\n",
    "catchment_stations_gpd_rifiano = catchment_stations_gpd.query(\"Name == 'Rifiano_Beobachter'\")\n",
    "catchment_stations_gpd_rifiano = catchment_stations_gpd_rifiano[\n",
    "    catchment_stations_gpd_rifiano.id.isin(dates)\n",
    "]\n",
    "\n",
    "catchment_stations_gpd_plata = catchment_stations_gpd.query(\"Name == 'Plata_Osservatore'\")\n",
    "catchment_stations_gpd_plata = catchment_stations_gpd_plata[\n",
    "    catchment_stations_gpd_plata.id.isin(dates)\n",
    "]\n",
    "\n",
    "catchment_stations_gpd_sleonardo = catchment_stations_gpd.query(\"Name == 'S_Leonardo_in_Passiria_Osservatore'\")\n",
    "catchment_stations_gpd_sleonardo = catchment_stations_gpd_sleonardo[\n",
    "    catchment_stations_gpd_sleonardo.id.isin(dates)\n",
    "]\n",
    "\n",
    "catchment_stations_gpd_scena = catchment_stations_gpd.query(\"Name == 'Scena_Osservatore'\")\n",
    "catchment_stations_gpd_scena = catchment_stations_gpd_scena[\n",
    "    catchment_stations_gpd_scena.id.isin(dates)\n",
    "]"
   ]
  },
  {
   "cell_type": "markdown",
   "id": "0633819c-c9f0-4a28-9e33-9b68f92834b4",
   "metadata": {
    "tags": []
   },
   "source": [
    "### Combine in-situ measurements with SCA results at the stations \n",
    "The in situ measurements and the SCA are combined into one data set per station. This will be the basis for the validation."
   ]
  },
  {
   "cell_type": "code",
   "execution_count": 27,
   "id": "c80657a7-1a50-404f-9f51-ab4787b4a4cb",
   "metadata": {
    "tags": []
   },
   "outputs": [],
   "source": [
    "smartino_snow = assign_site_snow(catchment_stations_gpd_smartino, snow_val_smartino)\n",
    "rifiano_snow = assign_site_snow(catchment_stations_gpd_rifiano, snow_val_rifiano)\n",
    "plata_snow = assign_site_snow(catchment_stations_gpd_plata, snow_val_plata)\n",
    "sleonardo_snow = assign_site_snow(catchment_stations_gpd_sleonardo, snow_val_sleonardo)\n",
    "scena_snow = assign_site_snow(catchment_stations_gpd_scena, snow_val_scena)                                                                    "
   ]
  },
  {
   "cell_type": "code",
   "execution_count": 28,
   "id": "056207ea-812a-4155-95c4-d4898db1679d",
   "metadata": {
    "tags": []
   },
   "outputs": [],
   "source": [
    "# catchment_stations_gpd_sleonardo"
   ]
  },
  {
   "cell_type": "markdown",
   "id": "e0eaeefb-426b-4fa7-83f5-0067bbeb1107",
   "metadata": {},
   "source": [
    "Let's have a look at the SCA extracted at the station San Martino and it's in situ measurements."
   ]
  },
  {
   "cell_type": "code",
   "execution_count": 29,
   "id": "3aede571-8e46-46c5-898e-d250634b055e",
   "metadata": {
    "tags": []
   },
   "outputs": [
    {
     "data": {
      "text/html": [
       "<div>\n",
       "<style scoped>\n",
       "    .dataframe tbody tr th:only-of-type {\n",
       "        vertical-align: middle;\n",
       "    }\n",
       "\n",
       "    .dataframe tbody tr th {\n",
       "        vertical-align: top;\n",
       "    }\n",
       "\n",
       "    .dataframe thead th {\n",
       "        text-align: right;\n",
       "    }\n",
       "</style>\n",
       "<table border=\"1\" class=\"dataframe\">\n",
       "  <thead>\n",
       "    <tr style=\"text-align: right;\">\n",
       "      <th></th>\n",
       "      <th>id</th>\n",
       "      <th>Provider</th>\n",
       "      <th>Name</th>\n",
       "      <th>HN</th>\n",
       "      <th>HS</th>\n",
       "      <th>HN_after_qc</th>\n",
       "      <th>HS_after_qc</th>\n",
       "      <th>HS_after_gapfill</th>\n",
       "      <th>Longitude</th>\n",
       "      <th>Latitude</th>\n",
       "      <th>Elevation</th>\n",
       "      <th>snow_presence</th>\n",
       "      <th>geometry</th>\n",
       "      <th>cube_snow</th>\n",
       "    </tr>\n",
       "  </thead>\n",
       "  <tbody>\n",
       "    <tr>\n",
       "      <th>88</th>\n",
       "      <td>2018-02-18</td>\n",
       "      <td>IT_BZ</td>\n",
       "      <td>Plata_Osservatore</td>\n",
       "      <td>0.0</td>\n",
       "      <td>50.0</td>\n",
       "      <td>0.0</td>\n",
       "      <td>50.0</td>\n",
       "      <td>50.0</td>\n",
       "      <td>11.176968</td>\n",
       "      <td>46.822847</td>\n",
       "      <td>1130.0</td>\n",
       "      <td>1</td>\n",
       "      <td>POLYGON ((11.17772 46.82285, 11.17771 46.82277...</td>\n",
       "      <td>1.0</td>\n",
       "    </tr>\n",
       "    <tr>\n",
       "      <th>403</th>\n",
       "      <td>2018-04-22</td>\n",
       "      <td>IT_BZ</td>\n",
       "      <td>Plata_Osservatore</td>\n",
       "      <td>0.0</td>\n",
       "      <td>0.0</td>\n",
       "      <td>0.0</td>\n",
       "      <td>0.0</td>\n",
       "      <td>0.0</td>\n",
       "      <td>11.176968</td>\n",
       "      <td>46.822847</td>\n",
       "      <td>1130.0</td>\n",
       "      <td>0</td>\n",
       "      <td>POLYGON ((11.17772 46.82285, 11.17771 46.82277...</td>\n",
       "      <td>0.0</td>\n",
       "    </tr>\n",
       "    <tr>\n",
       "      <th>425</th>\n",
       "      <td>2018-04-27</td>\n",
       "      <td>IT_BZ</td>\n",
       "      <td>Plata_Osservatore</td>\n",
       "      <td>0.0</td>\n",
       "      <td>0.0</td>\n",
       "      <td>0.0</td>\n",
       "      <td>0.0</td>\n",
       "      <td>0.0</td>\n",
       "      <td>11.176968</td>\n",
       "      <td>46.822847</td>\n",
       "      <td>1130.0</td>\n",
       "      <td>0</td>\n",
       "      <td>POLYGON ((11.17772 46.82285, 11.17771 46.82277...</td>\n",
       "      <td>NaN</td>\n",
       "    </tr>\n",
       "    <tr>\n",
       "      <th>176</th>\n",
       "      <td>2018-03-08</td>\n",
       "      <td>IT_BZ</td>\n",
       "      <td>Plata_Osservatore</td>\n",
       "      <td>9.0</td>\n",
       "      <td>48.0</td>\n",
       "      <td>9.0</td>\n",
       "      <td>48.0</td>\n",
       "      <td>48.0</td>\n",
       "      <td>11.176968</td>\n",
       "      <td>46.822847</td>\n",
       "      <td>1130.0</td>\n",
       "      <td>1</td>\n",
       "      <td>POLYGON ((11.17772 46.82285, 11.17771 46.82277...</td>\n",
       "      <td>1.0</td>\n",
       "    </tr>\n",
       "    <tr>\n",
       "      <th>226</th>\n",
       "      <td>2018-03-18</td>\n",
       "      <td>IT_BZ</td>\n",
       "      <td>Plata_Osservatore</td>\n",
       "      <td>2.0</td>\n",
       "      <td>25.0</td>\n",
       "      <td>2.0</td>\n",
       "      <td>25.0</td>\n",
       "      <td>25.0</td>\n",
       "      <td>11.176968</td>\n",
       "      <td>46.822847</td>\n",
       "      <td>1130.0</td>\n",
       "      <td>1</td>\n",
       "      <td>POLYGON ((11.17772 46.82285, 11.17771 46.82277...</td>\n",
       "      <td>NaN</td>\n",
       "    </tr>\n",
       "  </tbody>\n",
       "</table>\n",
       "</div>"
      ],
      "text/plain": [
       "             id Provider               Name   HN    HS  HN_after_qc  \\\n",
       "88   2018-02-18    IT_BZ  Plata_Osservatore  0.0  50.0          0.0   \n",
       "403  2018-04-22    IT_BZ  Plata_Osservatore  0.0   0.0          0.0   \n",
       "425  2018-04-27    IT_BZ  Plata_Osservatore  0.0   0.0          0.0   \n",
       "176  2018-03-08    IT_BZ  Plata_Osservatore  9.0  48.0          9.0   \n",
       "226  2018-03-18    IT_BZ  Plata_Osservatore  2.0  25.0          2.0   \n",
       "\n",
       "     HS_after_qc  HS_after_gapfill  Longitude   Latitude  Elevation  \\\n",
       "88          50.0              50.0  11.176968  46.822847     1130.0   \n",
       "403          0.0               0.0  11.176968  46.822847     1130.0   \n",
       "425          0.0               0.0  11.176968  46.822847     1130.0   \n",
       "176         48.0              48.0  11.176968  46.822847     1130.0   \n",
       "226         25.0              25.0  11.176968  46.822847     1130.0   \n",
       "\n",
       "     snow_presence                                           geometry  \\\n",
       "88               1  POLYGON ((11.17772 46.82285, 11.17771 46.82277...   \n",
       "403              0  POLYGON ((11.17772 46.82285, 11.17771 46.82277...   \n",
       "425              0  POLYGON ((11.17772 46.82285, 11.17771 46.82277...   \n",
       "176              1  POLYGON ((11.17772 46.82285, 11.17771 46.82277...   \n",
       "226              1  POLYGON ((11.17772 46.82285, 11.17771 46.82277...   \n",
       "\n",
       "     cube_snow  \n",
       "88         1.0  \n",
       "403        0.0  \n",
       "425        NaN  \n",
       "176        1.0  \n",
       "226        NaN  "
      ]
     },
     "execution_count": 29,
     "metadata": {},
     "output_type": "execute_result"
    }
   ],
   "source": [
    "catchment_stations_gpd_plata.sample(5)"
   ]
  },
  {
   "cell_type": "markdown",
   "id": "f82995c3-ccd2-4a76-9cfa-0e149b3e03bc",
   "metadata": {},
   "source": [
    "Display snow presence threshold in in-situ data for Plato Osservatore"
   ]
  },
  {
   "cell_type": "code",
   "execution_count": 30,
   "id": "d7201df2-ebf0-4495-8bd9-6d0243349032",
   "metadata": {
    "tags": []
   },
   "outputs": [
    {
     "data": {
      "image/png": "[encoded data removed]",
      "text/plain": [
       "<Figure size 640x480 with 1 Axes>"
      ]
     },
     "metadata": {},
     "output_type": "display_data"
    }
   ],
   "source": [
    "catchment_stations_gpd_plata.plot(x=\"id\", y=\"HS_after_gapfill\",rot=45,kind=\"line\",marker='o')\n",
    "plt.axhline(y = 0.4, color = \"r\", linestyle = \"-\")\n",
    "plt.show()"
   ]
  },
  {
   "cell_type": "markdown",
   "id": "16752292-e134-4f28-b325-ead839532951",
   "metadata": {},
   "source": [
    "## Validate the SCA results with the snow station measurements \n",
    "Now that we have combined the SCA results with the snow station measurements we can start the actual validation. A **confusion matrix** compares the classes of the station data to the classes of the SCA result. The numbers can be used to calculate the accuracy (correctly classified cases / all cases).\n",
    "\n",
    "|         | snow    | no_snow |\n",
    "|---------|---------|---------|\n",
    "| snow    | correct | error   |\n",
    "| no_snow | error   | correct |"
   ]
  },
  {
   "cell_type": "code",
   "execution_count": 31,
   "id": "48fefa34-ae4d-4e43-985c-098ced246af3",
   "metadata": {
    "tags": []
   },
   "outputs": [],
   "source": [
    "import seaborn as sns"
   ]
  },
  {
   "cell_type": "code",
   "execution_count": 32,
   "id": "a4a6438d-bf24-4b93-b684-901f6faf0e30",
   "metadata": {
    "tags": []
   },
   "outputs": [
    {
     "data": {
      "image/png": "[encoded data removed]",
      "text/plain": [
       "<Figure size 640x480 with 8 Axes>"
      ]
     },
     "metadata": {},
     "output_type": "display_data"
    }
   ],
   "source": [
    "fig, ((ax1, ax2), (ax3, ax4)) = plt.subplots(2, 2)\n",
    "\n",
    "fig.suptitle(\"Error matrices for snow stations within our selected Catchment\")\n",
    "sns.heatmap(validation_metrics(smartino_snow)[1], annot=True, ax=ax1)\n",
    "ax1.set_title(\"San Martino in Passiria Osservatore\")\n",
    "\n",
    "sns.heatmap(validation_metrics(rifiano_snow)[1], annot=True, ax=ax2)\n",
    "ax2.set_title(\"Rifiano Beobachter\")\n",
    "\n",
    "sns.heatmap(validation_metrics(plata_snow)[1], annot=True, ax=ax3)\n",
    "ax3.set_title(\"Plata Osservatore\")\n",
    "\n",
    "sns.heatmap(validation_metrics(scena_snow)[1], annot=True, ax=ax4)\n",
    "ax4.set_title(\"Scena Osservatore\")\n",
    "\n",
    "fig.tight_layout()"
   ]
  },
  {
   "cell_type": "markdown",
   "id": "372191d3-ae11-4df6-abcd-f0bcb2fa3273",
   "metadata": {},
   "source": [
    "The fifth and last station **San Leonardo in Passiria Osservatore** recorded *NaNs* for snow depths for our selected dates, which could potentially be as a results of malfunctioning on-site equipments. Hence, we are not able to verify for it. But overall, the validation shows a 100% accuracy for stations **San Martino in Passiria Osservatore** and **Rifiano Beobachter**, while station **Plata Osservatore** has a lot more False Positive (4) than the other stations.This shows a good match between estimated snow values from satellite datasets and on-the ground measurements of the presence of snow. "
   ]
  },
  {
   "cell_type": "markdown",
   "id": "1f454452-c2e7-4c0c-a8ab-260c7b0e48f0",
   "metadata": {},
   "source": [
    "## Compare to discharge data\n",
    "In addition to computing metrics for validating the data, we also check the plausibility of our results. We compare our results with another measure with a known relationship. In this case, we compare the **snow cover area** time series with the **discharge** time-series at the main outlet of the catchment. We suspect that after snow melting starts, with a temporal lag, the runoff will increase. Let's see if this holds true."
   ]
  },
  {
   "cell_type": "markdown",
   "id": "d2b2ddcd-7493-477a-8fcd-81ea3bc308a6",
   "metadata": {},
   "source": [
    "Load the discharge data at Meran, the main outlet of the catchment. We have prepared this data set for you, it's extracted from Eurac's [Environmental Data Platform Alpine Drought Observatory Discharge Hydrological Datasets](https://edp-portal.eurac.edu/discovery/9e195271-02ae-40be-b3a7-525f57f53c80)). "
   ]
  },
  {
   "cell_type": "code",
   "execution_count": 33,
   "id": "bc096eb8-b4d3-4056-9a1f-8c3921009f13",
   "metadata": {
    "tags": []
   },
   "outputs": [
    {
     "data": {
      "text/html": [
       "<div>\n",
       "<style scoped>\n",
       "    .dataframe tbody tr th:only-of-type {\n",
       "        vertical-align: middle;\n",
       "    }\n",
       "\n",
       "    .dataframe tbody tr th {\n",
       "        vertical-align: top;\n",
       "    }\n",
       "\n",
       "    .dataframe thead th {\n",
       "        text-align: right;\n",
       "    }\n",
       "</style>\n",
       "<table border=\"1\" class=\"dataframe\">\n",
       "  <thead>\n",
       "    <tr style=\"text-align: right;\">\n",
       "      <th></th>\n",
       "      <th>discharge_m3_s</th>\n",
       "    </tr>\n",
       "    <tr>\n",
       "      <th>Time</th>\n",
       "      <th></th>\n",
       "    </tr>\n",
       "  </thead>\n",
       "  <tbody>\n",
       "    <tr>\n",
       "      <th>1994-01-01 01:00:00</th>\n",
       "      <td>4.03</td>\n",
       "    </tr>\n",
       "    <tr>\n",
       "      <th>1994-01-02 01:00:00</th>\n",
       "      <td>3.84</td>\n",
       "    </tr>\n",
       "    <tr>\n",
       "      <th>1994-01-03 01:00:00</th>\n",
       "      <td>3.74</td>\n",
       "    </tr>\n",
       "    <tr>\n",
       "      <th>1994-01-04 01:00:00</th>\n",
       "      <td>3.89</td>\n",
       "    </tr>\n",
       "    <tr>\n",
       "      <th>1994-01-05 01:00:00</th>\n",
       "      <td>3.80</td>\n",
       "    </tr>\n",
       "  </tbody>\n",
       "</table>\n",
       "</div>"
      ],
      "text/plain": [
       "                     discharge_m3_s\n",
       "Time                               \n",
       "1994-01-01 01:00:00            4.03\n",
       "1994-01-02 01:00:00            3.84\n",
       "1994-01-03 01:00:00            3.74\n",
       "1994-01-04 01:00:00            3.89\n",
       "1994-01-05 01:00:00            3.80"
      ]
     },
     "execution_count": 33,
     "metadata": {},
     "output_type": "execute_result"
    }
   ],
   "source": [
    "discharge_ds = pd.read_csv('data/ADO_DSC_ITH1_0025.csv', \n",
    "                           sep=',', index_col='Time', parse_dates=True)\n",
    "discharge_ds.head()"
   ]
  },
  {
   "cell_type": "markdown",
   "id": "6412118f-b9a3-4e00-811e-99ff77b85515",
   "metadata": {},
   "source": [
    "Load the SCA time series we have generated in a previous exercise. It's the time series of the aggregated snow cover area percentage for the whole catchment."
   ]
  },
  {
   "cell_type": "code",
   "execution_count": 34,
   "id": "f10dfcdf-28f5-4d7a-854c-d674f4a34f34",
   "metadata": {
    "tags": []
   },
   "outputs": [],
   "source": [
    "snow_perc_df = pd.read_csv(\"data/filtered_snow_perc.csv\", \n",
    "                          sep=',', index_col='time', parse_dates=True)"
   ]
  },
  {
   "cell_type": "markdown",
   "id": "b40c88f7-f520-4889-a79e-731b5540e9ed",
   "metadata": {},
   "source": [
    "Let's plot the relationship between the snow covered area and the discharge in the catchment."
   ]
  },
  {
   "cell_type": "code",
   "execution_count": 35,
   "id": "c9e61b7a-5db1-40ef-9fd5-db3896ac0faa",
   "metadata": {
    "tags": []
   },
   "outputs": [
    {
     "data": {
      "image/png": "[encoded data removed]",
      "text/plain": [
       "<Figure size 640x480 with 2 Axes>"
      ]
     },
     "metadata": {},
     "output_type": "display_data"
    }
   ],
   "source": [
    "start_date = date(2018, 2, 1)\n",
    "end_date = date(2018, 6, 30)\n",
    "# filter discharge data to start and end dates\n",
    "discharge_ds = discharge_ds.loc[start_date:end_date]\n",
    "\n",
    "ax1 = discharge_ds.discharge_m3_s.plot(label='Discharge', xlabel='', ylabel='Discharge (m$^3$/s)')\n",
    "ax2 = snow_perc_df[\"perc_snow\"].plot(marker='o', secondary_y=True, label='SCA', xlabel='', ylabel='Snow cover area (%)')\n",
    "ax1.legend(loc='center left', bbox_to_anchor=(0, 0.6))\n",
    "ax2.legend(loc='center left', bbox_to_anchor=(0, 0.5))\n",
    "plt.show()"
   ]
  },
  {
   "cell_type": "markdown",
   "id": "5c6b8f01-5cff-4300-8c59-19f321458d38",
   "metadata": {},
   "source": [
    "The relationship looks as expected! Once the snow cover decreases the runoff increases!"
   ]
  }
 ],
 "metadata": {
  "kernelspec": {
   "display_name": "users-edc-2023.07-01",
   "language": "python",
   "name": "conda-env-users-edc-2023.07-01-py"
  },
  "language_info": {
   "codemirror_mode": {
    "name": "ipython",
    "version": 3
   },
   "file_extension": ".py",
   "mimetype": "text/x-python",
   "name": "python",
   "nbconvert_exporter": "python",
   "pygments_lexer": "ipython3",
   "version": "3.11.4"
  }
 },
 "nbformat": 4,
 "nbformat_minor": 5
}
