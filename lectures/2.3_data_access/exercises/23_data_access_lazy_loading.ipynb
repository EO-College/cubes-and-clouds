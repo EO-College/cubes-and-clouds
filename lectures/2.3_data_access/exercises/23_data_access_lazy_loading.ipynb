{
 "cells": [
  {
   "cell_type": "markdown",
   "id": "5f4a0cab-e26e-4942-96ee-78de70890ad9",
   "metadata": {},
   "source": [
    "<img src=\"https://raw.githubusercontent.com/EO-College/cubes-and-clouds/main/icons/cnc_3icons_process_circle.svg\"\n",
    "     alt=\"Cubes & Clouds logo\"\n",
    "     style=\"float: center; margin-right: 10px;\" />"
   ]
  },
  {
   "cell_type": "markdown",
   "id": "be23f346-9a95-4315-b8b0-dff22a207084",
   "metadata": {},
   "source": [
    "# 2.3 Data Access and Basic Processing\n",
    "\n",
    "The exercise will use the openEO Python Client Side Processing functionality, which allows to experiment using openEO without a connection to an openEO back-end."
   ]
  },
  {
   "cell_type": "markdown",
   "id": "211eb4ab-7ef2-4ece-895f-ba4b8ab0cd18",
   "metadata": {},
   "source": [
    "**Quiz hint: remeber this information for the final quiz!**"
   ]
  },
  {
   "cell_type": "markdown",
   "id": "3261f721-f8ad-4d89-9c15-d3d6b1a39a73",
   "metadata": {},
   "source": [
    "## Lazy data loading\n",
    "\n",
    "When accessing data using an API, most of the time the data is **lazily** loaded.\n",
    "\n",
    "It means that only the metadata is loaded, so that it is possible to know about the data dimensions and their extents (spatial and temporal), the available bands and other additional information.\n",
    "\n",
    "Let's start with a call to the openEO process `load_stac` for lazily loading some Sentinel-2 data from a public STAC Collection. _Please note that not every STAC Collection or Item is currently supported._\n",
    "\n",
    "We need to specify an Area Of Interest (AOI) to get only part of the Collection, otherwise our code would try to load the metadata of all Sentinel-2 tiles available in the world!"
   ]
  },
  {
   "cell_type": "code",
   "execution_count": null,
   "id": "10295498-eff4-4a30-ad77-56d9333965b3",
   "metadata": {
    "tags": []
   },
   "outputs": [],
   "source": [
    "from openeo.local import LocalConnection\n",
    "local_conn = LocalConnection('')\n",
    "\n",
    "url = \"https://earth-search.aws.element84.com/v1/collections/sentinel-2-l2a\"\n",
    "spatial_extent = {\"west\": 11.1, \"east\": 11.5, \"south\": 46.1, \"north\": 46.5}\n",
    "\n",
    "datacube = local_conn.load_stac(url=url,\n",
    "                    spatial_extent=spatial_extent)\n",
    "datacube"
   ]
  },
  {
   "cell_type": "markdown",
   "id": "7f25ed7a-efed-4655-aac4-7f06b198b6a1",
   "metadata": {},
   "source": [
    "Calling the `.execute()` method, the data will be lazily loaded and an `xArray.DataArray` object returned.\n",
    "\n",
    "Running the next cell will show the selected data content with the dimension names and their extent:"
   ]
  },
  {
   "cell_type": "code",
   "execution_count": null,
   "id": "0686d0ef-6d05-482e-a5dd-f0098fb6efba",
   "metadata": {
    "tags": []
   },
   "outputs": [],
   "source": [
    "datacube.execute()"
   ]
  },
  {
   "cell_type": "markdown",
   "id": "fd6e97d5-4962-4be4-9e1c-46fe522b7abc",
   "metadata": {},
   "source": [
    "From the output of the previous cell you can notice something really interesting: **the size of the selected data is more than 3 TB!**\n",
    "\n",
    "But you should have noticed that it was too quick to download this huge amount of data.\n",
    "\n",
    "This is what lazy loading allows: getting all the information about the data in a quick manner without having to access and download all the available files."
   ]
  },
  {
   "cell_type": "markdown",
   "id": "375af2c0-f6b9-47ac-b11f-d1504b27a564",
   "metadata": {},
   "source": [
    "**Quiz hint: look carefully at the dimensions of the loaded datacube!**"
   ]
  }
 ],
 "metadata": {
  "kernelspec": {
   "display_name": "Python 3 (ipykernel)",
   "language": "python",
   "name": "python3"
  },
  "language_info": {
   "codemirror_mode": {
    "name": "ipython",
    "version": 3
   },
   "file_extension": ".py",
   "mimetype": "text/x-python",
   "name": "python",
   "nbconvert_exporter": "python",
   "pygments_lexer": "ipython3",
   "version": "3.10.12"
  }
 },
 "nbformat": 4,
 "nbformat_minor": 5
}
