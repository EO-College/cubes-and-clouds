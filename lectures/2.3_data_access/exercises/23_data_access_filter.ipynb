{
 "cells": [
  {
   "cell_type": "markdown",
   "id": "5f4a0cab-e26e-4942-96ee-78de70890ad9",
   "metadata": {},
   "source": [
    "<img src=\"https://raw.githubusercontent.com/EO-College/cubes-and-clouds/main/icons/cnc_3icons_process_circle.svg\"\n",
    "     alt=\"Cubes & Clouds logo\"\n",
    "     style=\"float: center; margin-right: 10px;\" />"
   ]
  },
  {
   "cell_type": "markdown",
   "id": "43f2c4b3-88f7-4ebf-8248-a72728d14012",
   "metadata": {},
   "source": [
    "# 2.3 Data Access and Basic Processing\n",
    "\n",
    "## Filter Operators\n",
    "\n",
    "When interacting with large data collections, it is necessary to keep in mind that it's not possible to load everything!\n",
    "\n",
    "Therefore, we always have to define our requirements in advance and apply them to the data using filter operators.\n",
    "\n",
    "Let's start again with the same sample data from the Sentinel-2 STAC Collection with an additional filter."
   ]
  },
  {
   "cell_type": "markdown",
   "id": "dda8de1c-83d3-4dfd-a506-eb1a2302d752",
   "metadata": {},
   "source": [
    "### Properties Filter\n",
    "\n",
    "When working with optical data like Sentinel-2, most of the times we would like to discard cloudy acquisitions as soon as possible.\n",
    "\n",
    "We can do it using a property filter: in this case we want to keep only the acquisitions with less than 50% cloud coverage."
   ]
  },
  {
   "cell_type": "code",
   "execution_count": null,
   "id": "90a6673e-3235-42e6-8174-1b6bae256b7c",
   "metadata": {},
   "outputs": [],
   "source": [
    "properties = {\"eo:cloud_cover\": dict(lt=50)}"
   ]
  },
  {
   "cell_type": "code",
   "execution_count": null,
   "id": "b5c18492-e3c7-4a05-a5b6-6c606b8253c1",
   "metadata": {},
   "outputs": [],
   "source": [
    "import openeo\n",
    "from openeo.local import LocalConnection\n",
    "local_conn = LocalConnection('')\n",
    "\n",
    "url = \"https://earth-search.aws.element84.com/v1/collections/sentinel-2-l2a\"\n",
    "spatial_extent = {\"west\": 11.1, \"east\": 11.5, \"south\": 46.1, \"north\": 46.5}\n",
    "\n",
    "datacube = local_conn.load_stac(url=url,\n",
    "                    spatial_extent=spatial_extent,\n",
    "                    properties=properties)\n",
    "datacube.execute()"
   ]
  },
  {
   "cell_type": "markdown",
   "id": "6097dca4-5ada-4ea1-bb8c-9a853f3fa2e8",
   "metadata": {},
   "source": [
    "### Temporal filter"
   ]
  },
  {
   "cell_type": "markdown",
   "id": "8c56a01b-795b-4b3e-99e2-93622302d955",
   "metadata": {},
   "source": [
    "To slice along time the data collection with openEO, we can use the `filter_temporal` process."
   ]
  },
  {
   "cell_type": "code",
   "execution_count": null,
   "id": "9d71f32a-4f58-4709-96ad-ebea3c248539",
   "metadata": {},
   "outputs": [],
   "source": [
    "temporal_extent = [\"2022-05-10T00:00:00Z\",\"2022-06-30T00:00:00Z\"]\n",
    "temporal_slice = datacube.filter_temporal(temporal_extent)\n",
    "temporal_slice.execute()"
   ]
  },
  {
   "cell_type": "markdown",
   "id": "1a41ee31-5e68-4c5d-ab4b-d3e6198725de",
   "metadata": {},
   "source": [
    "After running the previous cell, it is visible that the result has less elements (or labels) in the temporal dimension `time`.\n",
    "\n",
    "Additionally, the size of the selected data reduced a lot."
   ]
  },
  {
   "cell_type": "markdown",
   "id": "cba45782-c4ad-4993-b511-84ebb8b6d354",
   "metadata": {},
   "source": [
    "**Quiz hint: look carefully at the dimensions of the resulting datacube!**"
   ]
  },
  {
   "cell_type": "markdown",
   "id": "23071292-8c4c-49cb-8968-ee90588896b6",
   "metadata": {},
   "source": [
    "### Spatial filter"
   ]
  },
  {
   "cell_type": "markdown",
   "id": "4ecbc445-2b37-4e7d-a538-f194cc86a58c",
   "metadata": {},
   "source": [
    "To slice along the spatial dimensions the data collection with openEO, we can use `filter_bbox` or `filter_spatial` processes."
   ]
  },
  {
   "cell_type": "markdown",
   "id": "499ef2a5-0344-4c1f-a833-4c79f4aa652a",
   "metadata": {},
   "source": [
    "The `filter_bbox` process is used with a set of coordinates:"
   ]
  },
  {
   "cell_type": "code",
   "execution_count": null,
   "id": "ef0a59e7-18ff-4d94-b28e-975d247ad8bb",
   "metadata": {},
   "outputs": [],
   "source": [
    "spatial_extent = {\"west\": 11.259613, \"east\": 11.406212, \"south\": 46.461019, \"north\": 46.522237}\n",
    "spatial_slice = datacube.filter_bbox(spatial_extent)\n",
    "spatial_slice.execute()"
   ]
  },
  {
   "cell_type": "markdown",
   "id": "d07a11e3-2712-44f8-b185-497f707b3450",
   "metadata": {},
   "source": [
    "**Quiz hint: look carefully at the dimensions of the loaded datacube!**"
   ]
  },
  {
   "cell_type": "markdown",
   "id": "d4830d00-518e-4d26-ba35-bc593df3438a",
   "metadata": {},
   "source": [
    "### Bands filter"
   ]
  },
  {
   "cell_type": "markdown",
   "id": "75116f86-a34b-4784-8c54-35b59bf9da8c",
   "metadata": {},
   "source": [
    "To slice along the bands dimension, keeping only the necessary bands, we can use the `filter_bands` process."
   ]
  },
  {
   "cell_type": "code",
   "execution_count": null,
   "id": "2db7b95c-7b61-4421-a091-d5a2badb974b",
   "metadata": {},
   "outputs": [],
   "source": [
    "bands = [\"red\",\"green\",\"blue\"]\n",
    "bands_slice = datacube.filter_bands(bands)\n",
    "bands_slice.execute()"
   ]
  }
 ],
 "metadata": {
  "kernelspec": {
   "display_name": "Python 3 (ipykernel)",
   "language": "python",
   "name": "python3"
  },
  "language_info": {
   "codemirror_mode": {
    "name": "ipython",
    "version": 3
   },
   "file_extension": ".py",
   "mimetype": "text/x-python",
   "name": "python",
   "nbconvert_exporter": "python",
   "pygments_lexer": "ipython3",
   "version": "3.10.12"
  }
 },
 "nbformat": 4,
 "nbformat_minor": 5
}
