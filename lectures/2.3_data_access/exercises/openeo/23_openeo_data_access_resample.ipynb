{
 "cells": [
  {
   "cell_type": "markdown",
   "id": "5f4a0cab-e26e-4942-96ee-78de70890ad9",
   "metadata": {},
   "source": [
    "<img src=\"https://raw.githubusercontent.com/EO-College/cubes-and-clouds/main/icons/cnc_3icons_process_circle.svg\"\n",
    "     alt=\"Cubes & Clouds logo\"\n",
    "     style=\"float: center; margin-right: 10px;\" />"
   ]
  },
  {
   "cell_type": "markdown",
   "id": "43f2c4b3-88f7-4ebf-8248-a72728d14012",
   "metadata": {},
   "source": [
    "# 2.3 Data Access and Basic Processing\n",
    "\n",
    "## Resample Operators\n",
    "\n",
    "Sometimes we need to align the spatial or temporal dimension of two datacubes, so that they can be merged together."
   ]
  },
  {
   "cell_type": "markdown",
   "id": "5691278c-4d66-4ee2-8592-75431cbff3c7",
   "metadata": {},
   "source": [
    "### `resample_cube_spatial`: spatial resampling Sentinel-2 to match Landsat"
   ]
  },
  {
   "cell_type": "markdown",
   "id": "40dbc4e1-929a-4256-9e62-605d5a424fca",
   "metadata": {},
   "source": [
    "Start importing the necessary libraries and initialize a local connection for Client-Side Processing."
   ]
  },
  {
   "cell_type": "code",
   "execution_count": null,
   "id": "4eca5284-2873-4b5c-9505-d67545fdec05",
   "metadata": {
    "tags": []
   },
   "outputs": [],
   "source": [
    "import openeo\n",
    "from openeo.local import LocalConnection\n",
    "local_conn = LocalConnection('')"
   ]
  },
  {
   "cell_type": "markdown",
   "id": "0420def5-ebd5-446e-a6d0-799e3534e5d2",
   "metadata": {},
   "source": [
    "Create two datacubes, one for Sentinel-2 and one for Landsat"
   ]
  },
  {
   "cell_type": "code",
   "execution_count": null,
   "id": "053869f1-540f-48c1-b3ab-113d5be08bc6",
   "metadata": {
    "tags": []
   },
   "outputs": [],
   "source": [
    "url = \"https://earth-search.aws.element84.com/v1/collections/sentinel-2-l2a\"\n",
    "\n",
    "spatial_extent = {\"west\": 11.4, \"east\": 11.42, \"south\": 45.5, \"north\": 45.52}\n",
    "temporal_extent = [\"2023-06-01\", \"2023-06-30\"]\n",
    "bands = [\"red\",\"nir\"]\n",
    "\n",
    "s2_cube = local_conn.load_stac(url=url,\n",
    "   spatial_extent=spatial_extent,\n",
    "   temporal_extent=temporal_extent,\n",
    "   bands=bands\n",
    ")\n",
    "s2_cube.execute()"
   ]
  },
  {
   "cell_type": "code",
   "execution_count": null,
   "id": "da39cb8c-e911-4f8d-aba6-52bf8569a48c",
   "metadata": {
    "tags": []
   },
   "outputs": [],
   "source": [
    "url = \"https://planetarycomputer.microsoft.com/api/stac/v1/collections/landsat-c2-l2\"\n",
    "bands = [\"red\",\"nir08\"]\n",
    "l8_cube = local_conn.load_stac(url=url,\n",
    "                    spatial_extent=spatial_extent,\n",
    "                    temporal_extent=temporal_extent,\n",
    "                    bands=bands)\n",
    "l8_cube.execute()"
   ]
  },
  {
   "cell_type": "markdown",
   "id": "49a04782-d412-4229-aa4b-d8e0283d5feb",
   "metadata": {},
   "source": [
    "From the previous outputs, notice the shape difference in the spatial dimensions `x` and `y`.\n",
    "\n",
    "This is due to the different resolution of the two collections: 10m for Sentinel-2, 30m for Landsat.\n",
    "\n",
    "Now we use the `resample_cube_spatial` process to resample the Sentinel-2 data to match Landsat."
   ]
  },
  {
   "cell_type": "code",
   "execution_count": null,
   "id": "b652338d-5f31-4d33-9d46-b7ea76f1d23d",
   "metadata": {
    "tags": []
   },
   "outputs": [],
   "source": [
    "s2_cube_30m = s2_cube.resample_cube_spatial(target=l8_cube,method=\"average\")\n",
    "s2_cube_30m"
   ]
  },
  {
   "cell_type": "markdown",
   "id": "420f8621-fb50-4fc1-89a2-4dfc7ac0beea",
   "metadata": {},
   "source": [
    "Check what happens to the datacube inspecting the resulting xArray object. Now the `x` and `y` shape is the same as Landsat:"
   ]
  },
  {
   "cell_type": "code",
   "execution_count": null,
   "id": "f38e5288-7b95-4693-a912-b51c31a60e16",
   "metadata": {
    "tags": []
   },
   "outputs": [],
   "source": [
    "s2_cube_30m.execute()"
   ]
  }
 ],
 "metadata": {
  "kernelspec": {
   "display_name": "cubes-and-clouds-cubes-and-clouds2",
   "language": "python",
   "name": "conda-env-cubes-and-clouds-cubes-and-clouds2-py"
  },
  "language_info": {
   "codemirror_mode": {
    "name": "ipython",
    "version": 3
   },
   "file_extension": ".py",
   "mimetype": "text/x-python",
   "name": "python",
   "nbconvert_exporter": "python",
   "pygments_lexer": "ipython3",
   "version": "3.11.7"
  }
 },
 "nbformat": 4,
 "nbformat_minor": 5
}
