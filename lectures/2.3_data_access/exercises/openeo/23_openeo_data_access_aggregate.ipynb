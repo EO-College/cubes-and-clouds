{
 "cells": [
  {
   "cell_type": "markdown",
   "id": "5f4a0cab-e26e-4942-96ee-78de70890ad9",
   "metadata": {},
   "source": [
    "<center><img src=\"https://raw.githubusercontent.com/EO-College/cubes-and-clouds/main/icons/cnc_3icons_process_circle.svg\"\n",
    "     alt=\"Cubes & Clouds logo\"\n",
    "     style=\"float: center; margin-right: 10px; margin-left: 10px; max-height: 250px;\" /></center>"
   ]
  },
  {
   "cell_type": "markdown",
   "id": "43f2c4b3-88f7-4ebf-8248-a72728d14012",
   "metadata": {},
   "source": [
    "# 2.3 Data Access and Basic Processing\n",
    "\n",
    "<img src=\"https://openeo.org/images/openeo_logo.png\"\n",
    "     alt=\"openEO logo\"\n",
    "     style=\"float: center; margin-right: 10px; max-height: 100px;\"/>\n",
    "     \n",
    "## Aggregate Operators with openEO"
   ]
  },
  {
   "cell_type": "markdown",
   "id": "5691278c-4d66-4ee2-8592-75431cbff3c7",
   "metadata": {},
   "source": [
    "### `aggregate_temporal_period`: temporal aggregation with predefined intervals"
   ]
  },
  {
   "cell_type": "markdown",
   "id": "40dbc4e1-929a-4256-9e62-605d5a424fca",
   "metadata": {},
   "source": [
    "Start importing the necessary libraries and initialize a local connection for Client-Side Processing."
   ]
  },
  {
   "cell_type": "code",
   "execution_count": null,
   "id": "4eca5284-2873-4b5c-9505-d67545fdec05",
   "metadata": {
    "tags": []
   },
   "outputs": [],
   "source": [
    "import openeo\n",
    "from openeo.local import LocalConnection\n",
    "local_conn = LocalConnection('')"
   ]
  },
  {
   "cell_type": "markdown",
   "id": "0420def5-ebd5-446e-a6d0-799e3534e5d2",
   "metadata": {},
   "source": [
    "Create the starting Sentinel-2 datacube:"
   ]
  },
  {
   "cell_type": "code",
   "execution_count": null,
   "id": "dfffeeed-1dc6-4d69-9388-b8437e35904f",
   "metadata": {},
   "outputs": [],
   "source": [
    "url = \"https://earth-search.aws.element84.com/v1/collections/sentinel-2-l2a\"\n",
    "\n",
    "spatial_extent = {\"west\": 11.4, \"east\": 11.42, \"south\": 45.5, \"north\": 45.52}\n",
    "temporal_extent = [\"2020-01-01\", \"2020-12-31\"]\n",
    "bands = [\"red\",\"green\",\"blue\"]\n",
    "properties = {\"eo:cloud_cover\": dict(lt=50)}\n",
    "\n",
    "s2_cube = local_conn.load_stac(url=url,\n",
    "   spatial_extent=spatial_extent,\n",
    "   temporal_extent=temporal_extent,\n",
    "   bands=bands,\n",
    "   properties=properties\n",
    ")\n",
    "s2_cube.execute()"
   ]
  },
  {
   "cell_type": "markdown",
   "id": "49a04782-d412-4229-aa4b-d8e0283d5feb",
   "metadata": {},
   "source": [
    "We might be interested in aggregating our data over periods like week, month, year etc., defining what operation to use to combine the data available in the chosen period.\n",
    "\n",
    "Using `aggregate_temporal_period` we can achieve this easily:"
   ]
  },
  {
   "cell_type": "code",
   "execution_count": null,
   "id": "b652338d-5f31-4d33-9d46-b7ea76f1d23d",
   "metadata": {
    "tags": []
   },
   "outputs": [],
   "source": [
    "s2_monthly_min = s2_cube.aggregate_temporal_period(period=\"month\",reducer=\"min\")\n",
    "s2_monthly_min"
   ]
  },
  {
   "cell_type": "markdown",
   "id": "420f8621-fb50-4fc1-89a2-4dfc7ac0beea",
   "metadata": {},
   "source": [
    "Check what happens to the datacube inspecting the resulting xArray object. Now the `time` dimension has 12 labels, one for each month."
   ]
  },
  {
   "cell_type": "code",
   "execution_count": null,
   "id": "f38e5288-7b95-4693-a912-b51c31a60e16",
   "metadata": {
    "tags": []
   },
   "outputs": [],
   "source": [
    "s2_monthly_min.execute()"
   ]
  },
  {
   "cell_type": "markdown",
   "id": "665ac939-3121-4a70-9cb4-2ab31e0af943",
   "metadata": {},
   "source": [
    "### `aggregate_spatial`: spatial aggregation with geometries"
   ]
  },
  {
   "cell_type": "markdown",
   "id": "b0f7d4dd-93b4-4568-8ffc-cbedf0799a24",
   "metadata": {
    "tags": []
   },
   "source": [
    "Before performing the operation on the satellite data with openEO, we need to get a vector data to be used in our workflow.\n",
    "\n",
    "We will use the city boundaries of Bolzano (Italy) to perform an aggregation of the pixels within the specified geometry.\n",
    "\n",
    "The geometry will be loaded from a public geoJSON file containing the boundaries of all the italian municipalities."
   ]
  },
  {
   "cell_type": "code",
   "execution_count": null,
   "id": "2fdf4c6c-bfc7-4c5f-a8c1-cd5c409b0a13",
   "metadata": {
    "tags": []
   },
   "outputs": [],
   "source": [
    "import geopandas as gpd\n",
    "\n",
    "italian_municipalities = gpd.read_file(\"https://raw.githubusercontent.com/openpolis/geojson-italy/refs/heads/master/comuni.geojson\")\n",
    "italian_municipalities.head()"
   ]
  },
  {
   "cell_type": "markdown",
   "id": "b804c022-3de6-428a-8925-c7bad8cfd59d",
   "metadata": {},
   "source": [
    "We select the row corresponding to Bolzano and plot it with a base layer:"
   ]
  },
  {
   "cell_type": "code",
   "execution_count": null,
   "id": "4a5d9c7f-a787-4f60-a075-bf89b99cd46e",
   "metadata": {
    "tags": []
   },
   "outputs": [],
   "source": [
    "import contextily as cx\n",
    "\n",
    "bz_geom = italian_municipalities.loc[italian_municipalities[\"name\"] == \"Bolzano/Bozen\"]\n",
    "\n",
    "bz_wm = bz_geom.to_crs(epsg=3857)\n",
    "ax = bz_wm.plot(figsize=(10, 10), alpha=0.5, edgecolor=\"k\")\n",
    "cx.add_basemap(ax)"
   ]
  },
  {
   "cell_type": "markdown",
   "id": "5ba0ba74-09f0-4b34-a463-628f9ea3f3f0",
   "metadata": {},
   "source": [
    "We can now build our workflow with openEO, starting to load some Sentinel-2 data from STAC as before:"
   ]
  },
  {
   "cell_type": "code",
   "execution_count": null,
   "id": "12f4caea-ce4d-44ce-aafc-da5afb52339e",
   "metadata": {
    "tags": []
   },
   "outputs": [],
   "source": [
    "url = \"https://earth-search.aws.element84.com/v1/collections/sentinel-2-l2a\"\n",
    "\n",
    "spatial_extent = {\"west\": 11.25, \"east\": 11.44, \"south\": 46.4, \"north\": 46.6}\n",
    "temporal_extent = [\"2020-01-01\", \"2020-12-31\"]\n",
    "bands = [\"red\"]\n",
    "properties = {\"eo:cloud_cover\": dict(lt=15),\n",
    "             \"earthsearch:boa_offset_applied\": dict(eq=True)}\n",
    "\n",
    "s2_cube = local_conn.load_stac(url=url,\n",
    "   spatial_extent=spatial_extent,\n",
    "   temporal_extent=temporal_extent,\n",
    "   bands=bands,\n",
    "   properties=properties\n",
    ")"
   ]
  },
  {
   "cell_type": "markdown",
   "id": "d40e898e-e51f-4e62-beae-e86039ef930e",
   "metadata": {},
   "source": [
    "Now we call the `aggregate_spatial` process and compute the average over the Sentinel-2 pixels inside the city.\n",
    "\n",
    "**Running this cell may take up to 2 minutes**"
   ]
  },
  {
   "cell_type": "code",
   "execution_count": null,
   "id": "4f59245f-7c36-407f-ac84-1849693fa86c",
   "metadata": {
    "tags": []
   },
   "outputs": [],
   "source": [
    "bolzano_mean_xr = s2_cube.aggregate_spatial(\n",
    "    geometries=bz_geom.geometry.values[0].geoms[0],\n",
    "    reducer=\"mean\").execute()\n",
    "\n",
    "bolzano_mean_xr"
   ]
  },
  {
   "cell_type": "markdown",
   "id": "3ace3fab-762f-4923-ac44-94b49aa9a8db",
   "metadata": {
    "tags": []
   },
   "source": [
    "Finally, we can plot the resulting time series of values for a sample band:"
   ]
  },
  {
   "cell_type": "code",
   "execution_count": null,
   "id": "b60eb372-f33b-4b46-96e9-8d999bab82bd",
   "metadata": {
    "tags": []
   },
   "outputs": [],
   "source": [
    "bolzano_mean_xr[:,:,0].plot()"
   ]
  }
 ],
 "metadata": {
  "kernelspec": {
   "display_name": "cubes-and-clouds-cubes_and_clouds_update",
   "language": "python",
   "name": "conda-env-cubes-and-clouds-cubes_and_clouds_update-py"
  },
  "language_info": {
   "codemirror_mode": {
    "name": "ipython",
    "version": 3
   },
   "file_extension": ".py",
   "mimetype": "text/x-python",
   "name": "python",
   "nbconvert_exporter": "python",
   "pygments_lexer": "ipython3",
   "version": "3.11.12"
  }
 },
 "nbformat": 4,
 "nbformat_minor": 5
}
