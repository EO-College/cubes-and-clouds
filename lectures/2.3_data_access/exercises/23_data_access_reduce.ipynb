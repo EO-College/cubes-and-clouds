{
 "cells": [
  {
   "cell_type": "markdown",
   "id": "5f4a0cab-e26e-4942-96ee-78de70890ad9",
   "metadata": {},
   "source": [
    "<img src=\"https://raw.githubusercontent.com/EO-College/cubes-and-clouds/main/icons/cnc_3icons_process_circle.svg\"\n",
    "     alt=\"Cubes & Clouds logo\"\n",
    "     style=\"float: center; margin-right: 10px;\" />"
   ]
  },
  {
   "cell_type": "markdown",
   "id": "43f2c4b3-88f7-4ebf-8248-a72728d14012",
   "metadata": {},
   "source": [
    "# 2.3 Data Access and Basic Processing\n",
    "\n",
    "## Reduce Operators\n",
    "\n",
    "When computing statistics over time or indices based on multiple bands, it is possible to use reduce operators.\n",
    "\n",
    "In openEO we can use the [reduce_dimension](https://processes.openeo.org/#reduce_dimension) process, which applies a reducer to a data cube dimension by collapsing all the values along the specified dimension into an output value computed by the reducer."
   ]
  },
  {
   "cell_type": "markdown",
   "id": "5691278c-4d66-4ee2-8592-75431cbff3c7",
   "metadata": {},
   "source": [
    "Reduce the temporal dimension to a single value, the mean for instance:"
   ]
  },
  {
   "cell_type": "code",
   "execution_count": null,
   "id": "b5c18492-e3c7-4a05-a5b6-6c606b8253c1",
   "metadata": {
    "tags": []
   },
   "outputs": [],
   "source": [
    "import openeo\n",
    "from openeo.processes import clip\n",
    "from openeo.local import LocalConnection\n",
    "local_conn = LocalConnection('')\n",
    "\n",
    "url = \"https://earth-search.aws.element84.com/v1/collections/sentinel-2-l2a\"\n",
    "spatial_extent = {\"west\": 11.259613, \"east\": 11.406212, \"south\": 46.461019, \"north\": 46.522237}\n",
    "temporal_extent = [\"2021-05-28T00:00:00Z\",\"2021-06-30T00:00:00Z\"]\n",
    "bands = [\"red\",\"nir\"]\n",
    "datacube = local_conn.load_stac(url=url,\n",
    "                                spatial_extent=spatial_extent,\n",
    "                                temporal_extent=temporal_extent,\n",
    "                                bands=bands)\n",
    "datacube = datacube.apply(lambda x: clip(x,0,10000)) # Get rid of possible negative values\n",
    "\n",
    "datacube_mean_time = datacube.reduce_dimension(dimension=\"time\",reducer=\"mean\")\n",
    "datacube_mean_time"
   ]
  },
  {
   "cell_type": "markdown",
   "id": "420f8621-fb50-4fc1-89a2-4dfc7ac0beea",
   "metadata": {},
   "source": [
    "Check what happens to the datacube inspecting the resulting xArray object:"
   ]
  },
  {
   "cell_type": "code",
   "execution_count": null,
   "id": "b3709eb5-f855-4cca-a2aa-e7f6ca43053e",
   "metadata": {
    "tags": []
   },
   "outputs": [],
   "source": [
    "datacube_mean_time.execute()"
   ]
  },
  {
   "cell_type": "markdown",
   "id": "3dbfaf5a-39af-4a38-9d88-91a9d60e24e1",
   "metadata": {},
   "source": [
    "It is possible to reduce in the same way all the available dimensions of the datacube.\n",
    "\n",
    "We can, for instance, reduce the band dimension similarly as we did for the temporal dimension:"
   ]
  },
  {
   "cell_type": "code",
   "execution_count": null,
   "id": "5ccfe36d-d5de-4770-96ed-aaeae71fdd3d",
   "metadata": {
    "tags": []
   },
   "outputs": [],
   "source": [
    "datacube_mean_band = datacube.reduce_dimension(dimension=\"band\",reducer=\"mean\")"
   ]
  },
  {
   "cell_type": "markdown",
   "id": "f05c9f31-0f40-47ea-9bf2-d9ab4bd783d6",
   "metadata": {},
   "source": [
    "The result will now contain values resulting from the average of the bands:"
   ]
  },
  {
   "cell_type": "code",
   "execution_count": null,
   "id": "55001580-1fed-4cc8-a7ec-f9e0832fa285",
   "metadata": {
    "tags": []
   },
   "outputs": [],
   "source": [
    "datacube_mean_band.execute()"
   ]
  },
  {
   "cell_type": "markdown",
   "id": "3685933c-1d13-4c91-84fe-3a042197e1c6",
   "metadata": {},
   "source": [
    "**Quiz hint: look carefully at number of pixels of the loaded datacube!**"
   ]
  },
  {
   "cell_type": "markdown",
   "id": "80aef996-8571-44e5-86c1-c2f80c0e8ff1",
   "metadata": {},
   "source": [
    "The reducer could be again a single process, but when computing spectral indices like NDVI, NDSI etc. an arithmentical formula is used instead.\n",
    "\n",
    "For instance, the [NDVI](https://en.wikipedia.org/wiki/Normalized_difference_vegetation_index) formula can be expressed using a `reduce_dimension` process over the `bands` dimension:\n",
    "\n",
    "$$ NDVI = {{NIR - RED} \\over {NIR + RED}} $$"
   ]
  },
  {
   "cell_type": "code",
   "execution_count": null,
   "id": "996558e8-a2a3-40fe-8361-e52d3f5fb79a",
   "metadata": {
    "tags": []
   },
   "outputs": [],
   "source": [
    "def NDVI(data):\n",
    "    red = data.array_element(index=0)\n",
    "    nir = data.array_element(index=1)\n",
    "    ndvi = (nir - red)/(nir + red)\n",
    "    return ndvi\n",
    "\n",
    "ndvi = datacube.reduce_dimension(reducer=NDVI,dimension=\"band\")\n",
    "ndvi_xr = ndvi.execute()\n",
    "ndvi_xr"
   ]
  },
  {
   "cell_type": "markdown",
   "id": "cbfa0b5c-e686-4565-870d-5d8450d008fa",
   "metadata": {},
   "source": [
    "Visualize a sample NDVI result:"
   ]
  },
  {
   "cell_type": "code",
   "execution_count": null,
   "id": "f6ff2001-fe22-461b-81ae-a80fe6fbdd30",
   "metadata": {
    "tags": []
   },
   "outputs": [],
   "source": [
    "%%time\n",
    "ndvi_xr[0].plot.imshow(vmin=-1,vmax=1,cmap=\"Greens\")"
   ]
  },
  {
   "cell_type": "markdown",
   "id": "3a960282-f910-40a0-8b18-d0daa8466549",
   "metadata": {},
   "source": [
    "Additionally, it is possible to reduce both spatial dimensions of the datacube at the same time.\n",
    "\n",
    "To do this, we need the `reduce_spatial` process.\n",
    "\n",
    "This time we select a smaller area of interest, to reduce the amount of downloaded data:"
   ]
  },
  {
   "cell_type": "code",
   "execution_count": null,
   "id": "ba158589-c535-476c-acde-8bcb7fc8d7f6",
   "metadata": {
    "tags": []
   },
   "outputs": [],
   "source": [
    "url = \"https://earth-search.aws.element84.com/v1/collections/sentinel-2-l2a\"\n",
    "spatial_extent = {\"west\": 11.31369, \"east\": 11.31906, \"south\": 46.52167, \"north\": 46.52425}\n",
    "temporal_extent = [\"2021-01-01T00:00:00Z\",\"2021-12-30T00:00:00Z\"]\n",
    "bands = [\"red\",\"nir\"]\n",
    "properties = {\"eo:cloud_cover\": dict(lt=15)}\n",
    "\n",
    "datacube = local_conn.load_stac(url=url,\n",
    "                                spatial_extent=spatial_extent,\n",
    "                                temporal_extent=temporal_extent,\n",
    "                                bands=bands,\n",
    "                                properties=properties)\n",
    "datacube = datacube.apply(lambda x: clip(x,0,10000)) # Get rid of possible negative values"
   ]
  },
  {
   "cell_type": "code",
   "execution_count": null,
   "id": "f0fbb70b-84fb-4579-8d7b-cb4cafa09045",
   "metadata": {
    "tags": []
   },
   "outputs": [],
   "source": [
    "datacube_spatial_median = datacube.reduce_spatial(reducer=\"median\")\n",
    "datacube_spatial_median"
   ]
  },
  {
   "cell_type": "markdown",
   "id": "90538e1c-a697-4e86-ba26-564cdca4057e",
   "metadata": {},
   "source": [
    "Verify that the spatial dimensions were collapsed:"
   ]
  },
  {
   "cell_type": "code",
   "execution_count": null,
   "id": "d38d3737-9c89-4b24-8700-0ed461aa0080",
   "metadata": {
    "tags": []
   },
   "outputs": [],
   "source": [
    "datacube_spatial_median.execute()"
   ]
  },
  {
   "cell_type": "markdown",
   "id": "63278785-863a-4815-ac1b-22394fec29ea",
   "metadata": {},
   "source": [
    "We can combine this spatial reducer with the previous over bands to compute a time series of NDVI values:"
   ]
  },
  {
   "cell_type": "code",
   "execution_count": null,
   "id": "44e087bb-83b3-45f1-81d9-1e11f560eaf4",
   "metadata": {
    "tags": []
   },
   "outputs": [],
   "source": [
    "ndvi_spatial = datacube_spatial_median.reduce_dimension(reducer=NDVI,dimension=\"band\")"
   ]
  },
  {
   "cell_type": "code",
   "execution_count": null,
   "id": "b9cf3f16-a8e5-4bca-a2b4-7396e2e4a86a",
   "metadata": {
    "tags": []
   },
   "outputs": [],
   "source": [
    "%%time\n",
    "ndvi_spatial_xr = ndvi_spatial.execute()\n",
    "ndvi_spatial_xr = ndvi_spatial_xr.compute()"
   ]
  },
  {
   "cell_type": "markdown",
   "id": "50da1d87-92fe-485a-920f-cf1101a35636",
   "metadata": {},
   "source": [
    "Remember that calling `.compute()` on an xarray + dask based object will load into memory the data.\n",
    "In this case it will trigger the download of the data from the STAC Catalog and the processing defined as openEO process graph, computing the NDVI time series."
   ]
  },
  {
   "cell_type": "markdown",
   "id": "8cfd1db9-a7ed-4ec7-aabc-b6a599941817",
   "metadata": {},
   "source": [
    "Visualize the NDVI time series:"
   ]
  },
  {
   "cell_type": "code",
   "execution_count": null,
   "id": "15a9cd39-5fa9-4e17-852b-58297d622a77",
   "metadata": {
    "tags": []
   },
   "outputs": [],
   "source": [
    "ndvi_spatial_xr.where(ndvi_spatial_xr<1).plot.scatter()"
   ]
  }
 ],
 "metadata": {
  "kernelspec": {
   "display_name": "Python 3 (ipykernel)",
   "language": "python",
   "name": "python3"
  },
  "language_info": {
   "codemirror_mode": {
    "name": "ipython",
    "version": 3
   },
   "file_extension": ".py",
   "mimetype": "text/x-python",
   "name": "python",
   "nbconvert_exporter": "python",
   "pygments_lexer": "ipython3",
   "version": "3.10.12"
  }
 },
 "nbformat": 4,
 "nbformat_minor": 5
}
