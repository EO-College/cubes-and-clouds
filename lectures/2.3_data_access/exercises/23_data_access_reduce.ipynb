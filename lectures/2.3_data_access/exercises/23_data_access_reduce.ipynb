{
 "cells": [
  {
   "cell_type": "markdown",
   "id": "5f4a0cab-e26e-4942-96ee-78de70890ad9",
   "metadata": {},
   "source": [
    "<img src=\"https://raw.githubusercontent.com/EO-College/cubes-and-clouds/main/icons/cnc_3icons_process_circle.svg\"\n",
    "     alt=\"Cubes & Clouds logo\"\n",
    "     style=\"float: center; margin-right: 10px;\" />"
   ]
  },
  {
   "cell_type": "code",
   "execution_count": null,
   "id": "e272a65c-64f8-4e6a-a682-c5f24e12ae59",
   "metadata": {},
   "outputs": [],
   "source": [
    "# pip install openeo==0.23.0"
   ]
  },
  {
   "cell_type": "markdown",
   "id": "43f2c4b3-88f7-4ebf-8248-a72728d14012",
   "metadata": {},
   "source": [
    "# 2.3 Data Access and Basic Processing\n",
    "\n",
    "## Reduce Operators\n",
    "\n",
    "When computing statistics over time or indices based on multiple bands, it is possible to use reduce operators.\n",
    "\n",
    "In openEO we can use the [reduce_dimension](https://processes.openeo.org/#reduce_dimension) process, which applies a reducer to a data cube dimension by collapsing all the values along the specified dimension into an output value computed by the reducer."
   ]
  },
  {
   "cell_type": "markdown",
   "id": "5691278c-4d66-4ee2-8592-75431cbff3c7",
   "metadata": {},
   "source": [
    "Reduce the temporal dimension to a single value, the mean for instance:"
   ]
  },
  {
   "cell_type": "code",
   "execution_count": null,
   "id": "b5c18492-e3c7-4a05-a5b6-6c606b8253c1",
   "metadata": {},
   "outputs": [],
   "source": [
    "import openeo\n",
    "from openeo.local import LocalConnection\n",
    "local_conn = LocalConnection('')\n",
    "\n",
    "url = \"https://earth-search.aws.element84.com/v1/collections/sentinel-2-l2a\"\n",
    "spatial_extent = {\"west\": 11.259613, \"east\": 11.406212, \"south\": 46.461019, \"north\": 46.522237}\n",
    "temporal_extent = [\"2022-05-10T00:00:00Z\",\"2022-06-30T00:00:00Z\"]\n",
    "bands = [\"red\",\"nir\"]\n",
    "datacube = local_conn.load_stac(url=url,\n",
    "                                spatial_extent=spatial_extent,\n",
    "                                temporal_extent=temporal_extent,\n",
    "                                bands=bands)\n",
    "\n",
    "datacube_min_time = datacube.reduce_dimension(dimension=\"time\",reducer=\"min\")\n",
    "datacube_min_time"
   ]
  },
  {
   "cell_type": "markdown",
   "id": "420f8621-fb50-4fc1-89a2-4dfc7ac0beea",
   "metadata": {},
   "source": [
    "Check what happens to the datacube inspecting the resulting xArray object:"
   ]
  },
  {
   "cell_type": "code",
   "execution_count": null,
   "id": "b3709eb5-f855-4cca-a2aa-e7f6ca43053e",
   "metadata": {},
   "outputs": [],
   "source": [
    "datacube_min_time.execute()"
   ]
  },
  {
   "cell_type": "markdown",
   "id": "3dbfaf5a-39af-4a38-9d88-91a9d60e24e1",
   "metadata": {},
   "source": [
    "It is possible to reduce in the same way all the available dimensions of the datacube.\n",
    "\n",
    "We can, for instance, reduce the band dimension similarly as we did for the temporal dimension:"
   ]
  },
  {
   "cell_type": "code",
   "execution_count": null,
   "id": "5ccfe36d-d5de-4770-96ed-aaeae71fdd3d",
   "metadata": {},
   "outputs": [],
   "source": [
    "datacube_mean_band = datacube.reduce_dimension(dimension=\"band\",reducer=\"mean\")"
   ]
  },
  {
   "cell_type": "markdown",
   "id": "f05c9f31-0f40-47ea-9bf2-d9ab4bd783d6",
   "metadata": {},
   "source": [
    "The result will now contain values resulting from the average of the bands:"
   ]
  },
  {
   "cell_type": "code",
   "execution_count": null,
   "id": "55001580-1fed-4cc8-a7ec-f9e0832fa285",
   "metadata": {},
   "outputs": [],
   "source": [
    "datacube_mean_band.execute()"
   ]
  },
  {
   "cell_type": "markdown",
   "id": "3685933c-1d13-4c91-84fe-3a042197e1c6",
   "metadata": {},
   "source": [
    "**Quiz hint: look carefully at number of pixels of the loaded datacube!**"
   ]
  },
  {
   "cell_type": "markdown",
   "id": "80aef996-8571-44e5-86c1-c2f80c0e8ff1",
   "metadata": {},
   "source": [
    "The reducer could be again a single process, but when computing spectral indices like NDVI, NDSI etc. an arithmentical formula is used instead.\n",
    "\n",
    "For instance, the [NDVI](https://en.wikipedia.org/wiki/Normalized_difference_vegetation_index) formula can be expressed using a `reduce_dimension` process over the `bands` dimension:\n",
    "\n",
    "$$ NDVI = {{NIR - RED} \\over {NIR + RED}} $$"
   ]
  },
  {
   "cell_type": "code",
   "execution_count": null,
   "id": "996558e8-a2a3-40fe-8361-e52d3f5fb79a",
   "metadata": {},
   "outputs": [],
   "source": [
    "def NDVI(data):\n",
    "    red = data.array_element(index=0)\n",
    "    nir = data.array_element(index=1)\n",
    "    ndvi = (nir - red)/(nir + red)\n",
    "    return ndvi\n",
    "\n",
    "ndvi = datacube.reduce_dimension(reducer=NDVI,dimension=\"band\")\n",
    "ndvi.execute()"
   ]
  },
  {
   "cell_type": "markdown",
   "id": "3a960282-f910-40a0-8b18-d0daa8466549",
   "metadata": {},
   "source": [
    "Additionally, it is possible to reduce both spatial dimensions of the datacube at the same time.\n",
    "\n",
    "To do this, we need the `reduce_spatial` process.\n",
    "\n",
    "We show an example where it is used to compute the standard deviation `sd`."
   ]
  },
  {
   "cell_type": "code",
   "execution_count": null,
   "id": "f0fbb70b-84fb-4579-8d7b-cb4cafa09045",
   "metadata": {},
   "outputs": [],
   "source": [
    "datacube_spatial_sd = datacube.reduce_spatial(reducer=\"sd\")\n",
    "datacube_spatial_sd"
   ]
  },
  {
   "cell_type": "markdown",
   "id": "90538e1c-a697-4e86-ba26-564cdca4057e",
   "metadata": {},
   "source": [
    "Verify that the spatial dimensions were collapsed:"
   ]
  },
  {
   "cell_type": "code",
   "execution_count": null,
   "id": "d38d3737-9c89-4b24-8700-0ed461aa0080",
   "metadata": {},
   "outputs": [],
   "source": [
    "datacube_spatial_sd.execute()"
   ]
  }
 ],
 "metadata": {
  "kernelspec": {
   "display_name": "cubes-and-clouds-cubes_and_clouds",
   "language": "python",
   "name": "conda-env-cubes-and-clouds-cubes_and_clouds-py"
  },
  "language_info": {
   "codemirror_mode": {
    "name": "ipython",
    "version": 3
   },
   "file_extension": ".py",
   "mimetype": "text/x-python",
   "name": "python",
   "nbconvert_exporter": "python",
   "pygments_lexer": "ipython3",
   "version": "3.10.13"
  }
 },
 "nbformat": 4,
 "nbformat_minor": 5
}
