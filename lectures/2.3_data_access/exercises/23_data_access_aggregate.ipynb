{
 "cells": [
  {
   "cell_type": "markdown",
   "id": "5f4a0cab-e26e-4942-96ee-78de70890ad9",
   "metadata": {},
   "source": [
    "<img src=\"https://raw.githubusercontent.com/EO-College/cubes-and-clouds/main/icons/cnc_3icons_process_circle.svg\"\n",
    "     alt=\"Cubes & Clouds logo\"\n",
    "     style=\"float: center; margin-right: 10px;\" />"
   ]
  },
  {
   "cell_type": "markdown",
   "id": "43f2c4b3-88f7-4ebf-8248-a72728d14012",
   "metadata": {},
   "source": [
    "# 2.3 Data Access and Basic Processing\n",
    "\n",
    "## Aggregate Operators"
   ]
  },
  {
   "cell_type": "markdown",
   "id": "5691278c-4d66-4ee2-8592-75431cbff3c7",
   "metadata": {},
   "source": [
    "### `aggregate_temporal_period`: temporal aggregation with predefined intervals"
   ]
  },
  {
   "cell_type": "markdown",
   "id": "40dbc4e1-929a-4256-9e62-605d5a424fca",
   "metadata": {},
   "source": [
    "Start importing the necessary libraries and initialize a local connection for Client-Side Processing."
   ]
  },
  {
   "cell_type": "code",
   "execution_count": null,
   "id": "4eca5284-2873-4b5c-9505-d67545fdec05",
   "metadata": {
    "tags": []
   },
   "outputs": [],
   "source": [
    "import openeo\n",
    "from openeo.local import LocalConnection\n",
    "local_conn = LocalConnection('')"
   ]
  },
  {
   "cell_type": "markdown",
   "id": "0420def5-ebd5-446e-a6d0-799e3534e5d2",
   "metadata": {},
   "source": [
    "Create the starting Sentinel-2 datacube:"
   ]
  },
  {
   "cell_type": "code",
   "execution_count": null,
   "id": "053869f1-540f-48c1-b3ab-113d5be08bc6",
   "metadata": {
    "tags": []
   },
   "outputs": [],
   "source": [
    "url = \"https://earth-search.aws.element84.com/v1/collections/sentinel-2-l2a\"\n",
    "\n",
    "spatial_extent = {\"west\": 11.4, \"east\": 11.42, \"south\": 45.5, \"north\": 45.52}\n",
    "temporal_extent = [\"2022-01-01\", \"2022-12-31\"]\n",
    "bands = [\"red\",\"green\",\"blue\"]\n",
    "\n",
    "s2_cube = local_conn.load_stac(url=url,\n",
    "   spatial_extent=spatial_extent,\n",
    "   temporal_extent=temporal_extent,\n",
    "   bands=bands\n",
    ")\n",
    "s2_cube.execute()"
   ]
  },
  {
   "cell_type": "markdown",
   "id": "49a04782-d412-4229-aa4b-d8e0283d5feb",
   "metadata": {},
   "source": [
    "We might be interested in aggregating our data over periods like week, month, year etc., defining what operation to use to combine the data available in the chosen period.\n",
    "\n",
    "Using `aggregate_temporal_period` we can achieve this easily:"
   ]
  },
  {
   "cell_type": "code",
   "execution_count": null,
   "id": "b652338d-5f31-4d33-9d46-b7ea76f1d23d",
   "metadata": {
    "tags": []
   },
   "outputs": [],
   "source": [
    "s2_monthly_min = s2_cube.aggregate_temporal_period(period=\"month\",reducer=\"min\")\n",
    "s2_monthly_min"
   ]
  },
  {
   "cell_type": "markdown",
   "id": "420f8621-fb50-4fc1-89a2-4dfc7ac0beea",
   "metadata": {},
   "source": [
    "Check what happens to the datacube inspecting the resulting xArray object. Now the `time` dimension has 12 labels, one for each month."
   ]
  },
  {
   "cell_type": "code",
   "execution_count": null,
   "id": "f38e5288-7b95-4693-a912-b51c31a60e16",
   "metadata": {
    "tags": []
   },
   "outputs": [],
   "source": [
    "s2_monthly_min.execute()"
   ]
  }
 ],
 "metadata": {
  "kernelspec": {
   "display_name": "Python 3 (ipykernel)",
   "language": "python",
   "name": "python3"
  },
  "language_info": {
   "codemirror_mode": {
    "name": "ipython",
    "version": 3
   },
   "file_extension": ".py",
   "mimetype": "text/x-python",
   "name": "python",
   "nbconvert_exporter": "python",
   "pygments_lexer": "ipython3",
   "version": "3.10.12"
  }
 },
 "nbformat": 4,
 "nbformat_minor": 5
}
