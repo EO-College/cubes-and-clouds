{
 "cells": [
  {
   "cell_type": "markdown",
   "id": "5f4a0cab-e26e-4942-96ee-78de70890ad9",
   "metadata": {},
   "source": [
    "<center><img src=\"https://raw.githubusercontent.com/EO-College/cubes-and-clouds/main/icons/cnc_3icons_process_circle.svg\"\n",
    "     alt=\"Cubes & Clouds logo\"\n",
    "     style=\"float: center; margin-right: 10px; margin-left: 10px; max-height: 250px;\" /></center>"
   ]
  },
  {
   "cell_type": "markdown",
   "id": "be23f346-9a95-4315-b8b0-dff22a207084",
   "metadata": {},
   "source": [
    "# 2.3 Data Access and Basic Processing\n",
    "<img src=\"https://raw.githubusercontent.com/pangeo-data/pangeo.io/refs/heads/main/public/Pangeo-assets/pangeo_logo.png\"\n",
    "     alt=\"Pangeo logo\"\n",
    "     style=\"float: center; margin-right: 10px; max-height: 80px;\"/>\n",
    "\n",
    "The exercise will use the Pangeo ecosystem to access and process data."
   ]
  },
  {
   "cell_type": "markdown",
   "id": "3261f721-f8ad-4d89-9c15-d3d6b1a39a73",
   "metadata": {},
   "source": [
    "## Lazy data loading with Pangeo ecosystem\n",
    "\n",
    "When accessing data using an API, most of the time the data is **lazily** loaded.\n",
    "\n",
    "It means that only the metadata is loaded, so that it is possible to know about the data dimensions and their extents (spatial and temporal), the available bands and other additional information.\n",
    "\n",
    "Let's start with a call to the STAC Catalogue Python Libraries `pystac_client` for lazily loading some Sentinel-2 data from a public STAC Collection.\n",
    "\n",
    "We need to specify an Area Of Interest (AOI) to get only part of the Collection, otherwise our code would try to load the metadata of all Sentinel-2 tiles available in the world!"
   ]
  },
  {
   "cell_type": "code",
   "execution_count": null,
   "id": "10295498-eff4-4a30-ad77-56d9333965b3",
   "metadata": {
    "tags": []
   },
   "outputs": [],
   "source": [
    "import pystac_client\n",
    "import stackstac"
   ]
  },
  {
   "cell_type": "code",
   "execution_count": null,
   "id": "5a584368-bf93-4180-bd8a-dd0429e1c01d",
   "metadata": {},
   "outputs": [],
   "source": [
    "#                West, South, East, North\n",
    "spatial_extent = [11.1, 46.1, 11.5, 46.5]\n",
    "temporal_extent = [\"2015-01-01\",\"2022-01-01\"]"
   ]
  },
  {
   "cell_type": "markdown",
   "id": "c099ec70-726b-4b91-b918-ad0e19871d47",
   "metadata": {},
   "source": [
    "**Running this cell may take up to 2 minutes**"
   ]
  },
  {
   "cell_type": "code",
   "execution_count": null,
   "id": "79cb50ff-2837-4252-bc8e-379177ee0c8a",
   "metadata": {},
   "outputs": [],
   "source": [
    "URL = \"https://earth-search.aws.element84.com/v1\"\n",
    "catalog = pystac_client.Client.open(URL)\n",
    "items = catalog.search(\n",
    "    bbox=spatial_extent,\n",
    "    datetime=temporal_extent,\n",
    "    collections=[\"sentinel-2-l2a\"]\n",
    ").item_collection()"
   ]
  },
  {
   "cell_type": "markdown",
   "id": "7f25ed7a-efed-4655-aac4-7f06b198b6a1",
   "metadata": {},
   "source": [
    "Calling  `stackstac.stack()` method for the `items`, the data will be lazily loaded and an `xArray.DataArray` object returned.\n",
    "\n",
    "Running the next cell will show the selected data content with the dimension names and their extent."
   ]
  },
  {
   "cell_type": "code",
   "execution_count": null,
   "id": "0686d0ef-6d05-482e-a5dd-f0098fb6efba",
   "metadata": {
    "tags": []
   },
   "outputs": [],
   "source": [
    "datacube = stackstac.stack(items, bounds_latlon=spatial_extent)\n",
    "datacube"
   ]
  },
  {
   "cell_type": "markdown",
   "id": "fd6e97d5-4962-4be4-9e1c-46fe522b7abc",
   "metadata": {},
   "source": [
    "From the output of the previous cell you can notice something really interesting: **the size of the selected data is more than 3 TB!**\n",
    "\n",
    "But you should have noticed that it was too quick to download this huge amount of data.\n",
    "\n",
    "This is what lazy loading allows: getting all the information about the data in a quick manner without having to access and download all the available files."
   ]
  },
  {
   "cell_type": "markdown",
   "id": "375af2c0-f6b9-47ac-b11f-d1504b27a564",
   "metadata": {},
   "source": [
    "**Quiz hint: look carefully at the dimensions of the loaded datacube!**"
   ]
  }
 ],
 "metadata": {
  "kernelspec": {
   "display_name": "cubes-and-clouds-pangeo",
   "language": "python",
   "name": "conda-env-cubes-and-clouds-pangeo-py"
  },
  "language_info": {
   "codemirror_mode": {
    "name": "ipython",
    "version": 3
   },
   "file_extension": ".py",
   "mimetype": "text/x-python",
   "name": "python",
   "nbconvert_exporter": "python",
   "pygments_lexer": "ipython3",
   "version": "3.11.11"
  },
  "widgets": {
   "application/vnd.jupyter.widget-state+json": {
    "state": {
     "26020cd00a664b968ec89bccce01263b": {
      "model_module": "@jupyter-widgets/controls",
      "model_module_version": "2.0.0",
      "model_name": "VBoxModel",
      "state": {
       "layout": "IPY_MODEL_28e65d5a92b64057aad81efcd93ee62b"
      }
     },
     "28e65d5a92b64057aad81efcd93ee62b": {
      "model_module": "@jupyter-widgets/base",
      "model_module_version": "2.0.0",
      "model_name": "LayoutModel",
      "state": {}
     }
    },
    "version_major": 2,
    "version_minor": 0
   }
  }
 },
 "nbformat": 4,
 "nbformat_minor": 5
}
