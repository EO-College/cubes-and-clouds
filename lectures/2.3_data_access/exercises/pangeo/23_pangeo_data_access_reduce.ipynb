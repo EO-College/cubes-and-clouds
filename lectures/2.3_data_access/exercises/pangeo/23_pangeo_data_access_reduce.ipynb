{
 "cells": [
  {
   "cell_type": "markdown",
   "id": "5f4a0cab-e26e-4942-96ee-78de70890ad9",
   "metadata": {},
   "source": [
    "<center><img src=\"https://raw.githubusercontent.com/EO-College/cubes-and-clouds/main/icons/cnc_3icons_process_circle.svg\"\n",
    "     alt=\"Cubes & Clouds logo\"\n",
    "     style=\"float: center; margin-right: 10px; margin-left: 10px; max-height: 250px;\" /></center>"
   ]
  },
  {
   "cell_type": "markdown",
   "id": "43f2c4b3-88f7-4ebf-8248-a72728d14012",
   "metadata": {},
   "source": [
    "# 2.3 Data Access and Basic Processing\n",
    "<img src=\"https://raw.githubusercontent.com/pangeo-data/pangeo.io/refs/heads/main/public/Pangeo-assets/pangeo_logo.png\"\n",
    "     alt=\"Pangeo logo\"\n",
    "     style=\"float: center; margin-right: 10px; max-height: 80px;\"/>\n",
    "     \n",
    "## Reduce Operators with Pangeo ecosystem\n",
    "\n",
    "When computing statistics over time or indices based on multiple bands, it is possible to use reduce operators.\n",
    "\n",
    "In Pangeo and `Xarray` we can use different methods for reducing the dimensions, such as `median`, `mean` or `groupby`, which applies a reducer to a data cube dimension by collapsing all the values along the specified dimension into an output value computed by the reducer."
   ]
  },
  {
   "cell_type": "markdown",
   "id": "5691278c-4d66-4ee2-8592-75431cbff3c7",
   "metadata": {},
   "source": [
    "Reduce the temporal dimension to a single value, the mean for instance:"
   ]
  },
  {
   "cell_type": "code",
   "execution_count": null,
   "id": "8bb92f58-0ccc-425b-8f00-cba0cc2a60bb",
   "metadata": {},
   "outputs": [],
   "source": [
    "import pystac_client\n",
    "import stackstac\n",
    "import xarray as xr\n",
    "import numpy as np"
   ]
  },
  {
   "cell_type": "code",
   "execution_count": null,
   "id": "eacfff33-cb98-4665-90c7-072fcfdc6d88",
   "metadata": {},
   "outputs": [],
   "source": [
    "#                  West,     South,     East,      North\n",
    "spatial_extent = [11.259613, 46.461019, 11.406212, 46.522237]\n",
    "temporal_extent = [\"2021-05-28T00:00:00Z\",\"2021-06-30T00:00:00Z\"]"
   ]
  },
  {
   "cell_type": "code",
   "execution_count": null,
   "id": "85c71d09-f0b6-4498-86df-75c3bdbd28aa",
   "metadata": {},
   "outputs": [],
   "source": [
    "URL = \"https://earth-search.aws.element84.com/v1\"\n",
    "catalog = pystac_client.Client.open(URL)\n",
    "s2_items = catalog.search(\n",
    "    bbox=spatial_extent,\n",
    "    datetime=temporal_extent,\n",
    "    collections=[\"sentinel-2-l2a\"]\n",
    ").item_collection()\n",
    "\n",
    "s2_cube = stackstac.stack(s2_items,\n",
    "                     bounds_latlon=spatial_extent,\n",
    "                     assets=[\"red\",\"nir\"]\n",
    ")\n",
    "s2_cube"
   ]
  },
  {
   "cell_type": "markdown",
   "id": "3e5d2d8b-6de6-427f-b26f-6c7d781ff327",
   "metadata": {},
   "source": [
    "### Get rid of possible negative values"
   ]
  },
  {
   "cell_type": "code",
   "execution_count": null,
   "id": "736aa5e8-1a9a-48b3-9a6c-d331859aff8d",
   "metadata": {},
   "outputs": [],
   "source": [
    "s2_cube = xr.where(s2_cube>=0, s2_cube, 0)\n",
    "s2_cube"
   ]
  },
  {
   "cell_type": "markdown",
   "id": "7e9ba32a-3c5e-49f0-b3cd-d8a6e1588b90",
   "metadata": {},
   "source": [
    "Reduce the `time` dimension by averaging along the `time` dimension.\n",
    "\n",
    "We can use the `Xarray` [reduce](https://docs.xarray.dev/en/stable/generated/xarray.DataArray.reduce.html) method, passing the reducer function and the dimension to be reduced:"
   ]
  },
  {
   "cell_type": "code",
   "execution_count": null,
   "id": "b7c2c3c7-a6e5-4162-b0c1-3b1e1589ccdf",
   "metadata": {},
   "outputs": [],
   "source": [
    "datacube_mean_time = s2_cube.reduce(np.mean,dim=\"time\")"
   ]
  },
  {
   "cell_type": "markdown",
   "id": "c10184fe-2787-44bf-a56e-f5a860a2f3a8",
   "metadata": {},
   "source": [
    "Alternatively, `Xarray` define convenience methods, allowing to call the reduce operation over time easily with the following syntax, producing the same result. Check what happens to the datacube inspecting the resulting Xarray object."
   ]
  },
  {
   "cell_type": "code",
   "execution_count": null,
   "id": "51b6b1e6-7211-4af0-a3be-47fae37209e0",
   "metadata": {},
   "outputs": [],
   "source": [
    "datacube_mean_time = s2_cube.mean(\"time\")\n",
    "datacube_mean_time"
   ]
  },
  {
   "cell_type": "markdown",
   "id": "3dbfaf5a-39af-4a38-9d88-91a9d60e24e1",
   "metadata": {},
   "source": [
    "It is possible to reduce in the same way all the available dimensions of the datacube.\n",
    "\n",
    "We can, for instance, reduce the band dimension similarly as we did for the temporal dimension:"
   ]
  },
  {
   "cell_type": "markdown",
   "id": "f05c9f31-0f40-47ea-9bf2-d9ab4bd783d6",
   "metadata": {},
   "source": [
    "The result will now contain values resulting from the average of the bands:"
   ]
  },
  {
   "cell_type": "code",
   "execution_count": null,
   "id": "5ccfe36d-d5de-4770-96ed-aaeae71fdd3d",
   "metadata": {
    "tags": []
   },
   "outputs": [],
   "source": [
    "datacube_mean_band = s2_cube.mean(\"band\")\n",
    "datacube_mean_band"
   ]
  },
  {
   "cell_type": "markdown",
   "id": "3685933c-1d13-4c91-84fe-3a042197e1c6",
   "metadata": {},
   "source": [
    "**Quiz hint: look carefully at number of pixels of the loaded datacube!**"
   ]
  },
  {
   "cell_type": "markdown",
   "id": "80aef996-8571-44e5-86c1-c2f80c0e8ff1",
   "metadata": {},
   "source": [
    "The reducer could be again a single process, but when computing spectral indices like NDVI, NDSI etc. an arithmentical formula is used instead.\n",
    "\n",
    "For instance, the [NDVI](https://en.wikipedia.org/wiki/Normalized_difference_vegetation_index) formula can be expressed using a selection (`sel`) method over the `band` dimension:\n",
    "\n",
    "$$ NDVI = {{NIR - RED} \\over {NIR + RED}} $$"
   ]
  },
  {
   "cell_type": "code",
   "execution_count": null,
   "id": "a84ded7e-dfb5-45a3-8172-54961dc287f8",
   "metadata": {},
   "outputs": [],
   "source": [
    "def NDVI(data):\n",
    "    red = data.sel(band=\"red\")\n",
    "    nir = data.sel(band=\"nir\")\n",
    "    ndvi = (nir - red)/(nir + red)\n",
    "    return ndvi\n",
    "\n",
    "ndvi_xr = NDVI(s2_cube)\n",
    "ndvi_xr"
   ]
  },
  {
   "cell_type": "markdown",
   "id": "cbfa0b5c-e686-4565-870d-5d8450d008fa",
   "metadata": {},
   "source": [
    "Visualize a sample NDVI result:"
   ]
  },
  {
   "cell_type": "code",
   "execution_count": null,
   "id": "f6ff2001-fe22-461b-81ae-a80fe6fbdd30",
   "metadata": {
    "tags": []
   },
   "outputs": [],
   "source": [
    "%%time\n",
    "ndvi_xr.isel(time=0).plot.imshow(vmin=-1,vmax=1,cmap=\"Greens\")"
   ]
  },
  {
   "cell_type": "markdown",
   "id": "3a960282-f910-40a0-8b18-d0daa8466549",
   "metadata": {},
   "source": [
    "Additionally, it is possible to reduce both spatial dimensions of the datacube at the same time.\n",
    "\n",
    "To do this, we need to reduce the spatial dimension using for instance `median`.\n",
    "\n",
    "This time we select a smaller area of interest, to reduce the amount of downloaded data:"
   ]
  },
  {
   "cell_type": "code",
   "execution_count": null,
   "id": "392388e4-919f-4f0c-a9ee-be3a2483d28b",
   "metadata": {},
   "outputs": [],
   "source": [
    "#                  West,     South,     East,      North\n",
    "spatial_extent = [11.31369, 46.52167, 11.31906, 46.52425]\n",
    "temporal_extent = [\"2021-01-01T00:00:00Z\",\"2021-12-30T00:00:00Z\"]\n",
    "bands = [\"red\",\"nir\"]"
   ]
  },
  {
   "cell_type": "code",
   "execution_count": null,
   "id": "b7607cdf-1ee0-4be8-911f-9693a621cbb9",
   "metadata": {},
   "outputs": [],
   "source": [
    "URL = \"https://earth-search.aws.element84.com/v1\"\n",
    "catalog = pystac_client.Client.open(URL)\n",
    "s2_items = catalog.search(\n",
    "    bbox=spatial_extent,\n",
    "    datetime=temporal_extent,\n",
    "    collections=[\"sentinel-2-l2a\"]\n",
    ").item_collection()\n",
    "\n",
    "s2_cube = stackstac.stack(s2_items,\n",
    "                     bounds_latlon=spatial_extent,\n",
    "                     assets=bands\n",
    ")\n",
    "s2_cube = s2_cube[s2_cube[\"eo:cloud_cover\"] < 35]"
   ]
  },
  {
   "cell_type": "markdown",
   "id": "dfa44fe3-720f-49c6-b03a-21183e7edd56",
   "metadata": {},
   "source": [
    "### Get rid of possible negative values"
   ]
  },
  {
   "cell_type": "code",
   "execution_count": null,
   "id": "45bedf44-4125-4a7f-88b9-cadac33d13b2",
   "metadata": {},
   "outputs": [],
   "source": [
    "s2_cube = xr.where(s2_cube>=0, s2_cube, 0)"
   ]
  },
  {
   "cell_type": "markdown",
   "id": "40203b6b-67ad-4c82-8348-4a50a116c41a",
   "metadata": {},
   "source": [
    "### Reduce dimension x and y with median values"
   ]
  },
  {
   "cell_type": "code",
   "execution_count": null,
   "id": "1d7db22e-7d36-4206-985b-b76dcbd5fdea",
   "metadata": {},
   "outputs": [],
   "source": [
    "datacube_spatial_median = s2_cube.median(dim=[\"x\", \"y\"])"
   ]
  },
  {
   "cell_type": "markdown",
   "id": "90538e1c-a697-4e86-ba26-564cdca4057e",
   "metadata": {},
   "source": [
    "Verify that the spatial dimensions were collapsed:"
   ]
  },
  {
   "cell_type": "code",
   "execution_count": null,
   "id": "0524daad-9b1b-4bf2-ac4b-12d704fa6285",
   "metadata": {},
   "outputs": [],
   "source": [
    "datacube_spatial_median"
   ]
  },
  {
   "cell_type": "markdown",
   "id": "63278785-863a-4815-ac1b-22394fec29ea",
   "metadata": {},
   "source": [
    "We can combine this spatial reducer with the previous over bands to compute a time series of NDVI values:"
   ]
  },
  {
   "cell_type": "code",
   "execution_count": null,
   "id": "3d6b0256-8852-4d30-98c1-ccc4be526191",
   "metadata": {
    "tags": []
   },
   "outputs": [],
   "source": [
    "ndvi_spatial_xr = NDVI(datacube_spatial_median)\n",
    "ndvi_spatial_xr"
   ]
  },
  {
   "cell_type": "code",
   "execution_count": null,
   "id": "1c0f7dad-b3ba-49fd-94a5-54e2cb6400bb",
   "metadata": {},
   "outputs": [],
   "source": [
    "ndvi_spatial_xr = ndvi_spatial_xr.compute()\n",
    "ndvi_spatial_xr"
   ]
  },
  {
   "cell_type": "markdown",
   "id": "1819ef03-48d9-454d-a853-f1ae79552f0c",
   "metadata": {},
   "source": [
    "**Quiz hint: look carefully at the dimensions of the resulting datacube!**"
   ]
  },
  {
   "cell_type": "markdown",
   "id": "50da1d87-92fe-485a-920f-cf1101a35636",
   "metadata": {},
   "source": [
    "`compute()` executes the Dask computation and blocks until the result is available. It then collects and returns the final result to the local process.\n",
    "In this case it will trigger the download of the data from the STAC Catalog and the computing the NDVI time series."
   ]
  },
  {
   "cell_type": "markdown",
   "id": "8cfd1db9-a7ed-4ec7-aabc-b6a599941817",
   "metadata": {},
   "source": [
    "Visualize the NDVI time series:"
   ]
  },
  {
   "cell_type": "code",
   "execution_count": null,
   "id": "15a9cd39-5fa9-4e17-852b-58297d622a77",
   "metadata": {
    "tags": []
   },
   "outputs": [],
   "source": [
    "ndvi_spatial_xr.where(ndvi_spatial_xr<1).plot.scatter()"
   ]
  }
 ],
 "metadata": {
  "kernelspec": {
   "display_name": "cubes-and-clouds-pangeo",
   "language": "python",
   "name": "conda-env-cubes-and-clouds-pangeo-py"
  },
  "language_info": {
   "codemirror_mode": {
    "name": "ipython",
    "version": 3
   },
   "file_extension": ".py",
   "mimetype": "text/x-python",
   "name": "python",
   "nbconvert_exporter": "python",
   "pygments_lexer": "ipython3",
   "version": "3.11.11"
  },
  "widgets": {
   "application/vnd.jupyter.widget-state+json": {
    "state": {
     "0f066a1ceef04aa288369eb810dc7273": {
      "model_module": "@jupyter-widgets/controls",
      "model_module_version": "2.0.0",
      "model_name": "VBoxModel",
      "state": {
       "layout": "IPY_MODEL_6c517c9bb6f84a38806b2c127da868b4"
      }
     },
     "6c517c9bb6f84a38806b2c127da868b4": {
      "model_module": "@jupyter-widgets/base",
      "model_module_version": "2.0.0",
      "model_name": "LayoutModel",
      "state": {}
     }
    },
    "version_major": 2,
    "version_minor": 0
   }
  }
 },
 "nbformat": 4,
 "nbformat_minor": 5
}
