{
 "cells": [
  {
   "cell_type": "markdown",
   "id": "5f4a0cab-e26e-4942-96ee-78de70890ad9",
   "metadata": {},
   "source": [
    "<center><img src=\"https://raw.githubusercontent.com/EO-College/cubes-and-clouds/main/icons/cnc_3icons_process_circle.svg\"\n",
    "     alt=\"Cubes & Clouds logo\"\n",
    "     style=\"float: center; margin-right: 10px; margin-left: 10px; max-height: 250px;\" /></center>"
   ]
  },
  {
   "cell_type": "markdown",
   "id": "43f2c4b3-88f7-4ebf-8248-a72728d14012",
   "metadata": {},
   "source": [
    "# 2.3 Data Access and Basic Processing\n",
    "\n",
    "<img src=\"https://raw.githubusercontent.com/pangeo-data/pangeo.io/refs/heads/main/public/Pangeo-assets/pangeo_logo.png\"\n",
    "     alt=\"Pangeo logo\"\n",
    "     style=\"float: center; margin-right: 10px; max-height: 80px;\"/>\n",
    "\n",
    "## Apply Operator with Pangeo ecosystem\n",
    "\n",
    "The apply operator applies a process to each value in the data cube (i.e. a local operation).\n",
    "\n",
    "Let's start again with the same sample data from the Sentinel-2 STAC Collection, applying the filters directly in the `stackstac.stack` call, to reduce the amount of data."
   ]
  },
  {
   "cell_type": "code",
   "execution_count": null,
   "id": "17084f37-34ce-4447-9603-adad5338f248",
   "metadata": {
    "tags": []
   },
   "outputs": [],
   "source": [
    "import pystac_client\n",
    "import stackstac\n",
    "import xarray as xr"
   ]
  },
  {
   "cell_type": "code",
   "execution_count": null,
   "id": "ea4ca086-2aab-41b7-be96-00409557b59f",
   "metadata": {
    "tags": []
   },
   "outputs": [],
   "source": [
    "#                  West,     South,     East,      North\n",
    "spatial_extent = [11.259613, 46.461019, 11.406212, 46.522237]\n",
    "temporal_extent = ['2022-07-10T00:00:00Z','2022-07-13T00:00:00Z']\n",
    "bands = [\"red\",\"green\",\"blue\"]"
   ]
  },
  {
   "cell_type": "code",
   "execution_count": null,
   "id": "55a37e6a-3b3c-431a-b58b-128bd59ea810",
   "metadata": {
    "tags": []
   },
   "outputs": [],
   "source": [
    "URL = \"https://earth-search.aws.element84.com/v1\"\n",
    "catalog = pystac_client.Client.open(URL)\n",
    "s2_items = catalog.search(\n",
    "    bbox=spatial_extent,\n",
    "    datetime=temporal_extent,\n",
    "    query=[\"eo:cloud_cover<50\"],\n",
    "    collections=[\"sentinel-2-l2a\"]\n",
    ").item_collection()\n",
    "\n",
    "s2_cube = stackstac.stack(s2_items,\n",
    "                     bounds_latlon=spatial_extent,\n",
    "                     assets=bands\n",
    ")\n",
    "s2_cube"
   ]
  },
  {
   "cell_type": "markdown",
   "id": "3f2dade5-e7d9-48fa-9b2b-8e80a4d12d1b",
   "metadata": {},
   "source": [
    "Visualize the RGB bands of our sample dataset:"
   ]
  },
  {
   "cell_type": "code",
   "execution_count": null,
   "id": "245c0752-a733-48b0-b0a4-0606b185add2",
   "metadata": {
    "tags": []
   },
   "outputs": [],
   "source": [
    "s2_cube.isel(time=0).plot.imshow()"
   ]
  },
  {
   "cell_type": "markdown",
   "id": "6097dca4-5ada-4ea1-bb8c-9a853f3fa2e8",
   "metadata": {},
   "source": [
    "### Apply an arithmetic formula"
   ]
  },
  {
   "cell_type": "markdown",
   "id": "8c56a01b-795b-4b3e-99e2-93622302d955",
   "metadata": {},
   "source": [
    "We would like to improve the previous visualization, rescaling all the pixels between 0 and 1.\n",
    "\n",
    "We can use `apply` with an ad-hoc `rescale` function."
   ]
  },
  {
   "cell_type": "code",
   "execution_count": null,
   "id": "1331957a-c49f-42ba-8144-054abded50cc",
   "metadata": {
    "tags": []
   },
   "outputs": [],
   "source": [
    "input_min = -0.1\n",
    "input_max = 0.2\n",
    "output_min = 0\n",
    "output_max = 1\n",
    "\n",
    "\n",
    "def rescale(arr):\n",
    "    norm_arr = arr.clip(min=input_min, max=input_max)\n",
    "    norm_arr = ((norm_arr - input_min) / (input_max - input_min)) * (output_max - output_min) + output_min\n",
    "    return norm_arr\n",
    "\n",
    "scaled_data = s2_cube.to_dataset().apply(rescale)"
   ]
  },
  {
   "cell_type": "markdown",
   "id": "306b9c38-0780-4234-ba8d-ec72e0becd60",
   "metadata": {},
   "source": [
    "## Visualise the scaled image"
   ]
  },
  {
   "cell_type": "markdown",
   "id": "179b0c31-97ce-47d7-9a87-16fc7d2bd544",
   "metadata": {},
   "source": [
    "Visualize the result and see how `apply` scaled the data resulting in a more meaningful visualization:"
   ]
  },
  {
   "cell_type": "code",
   "execution_count": null,
   "id": "8de2bd88-20a6-4c61-8eb7-22cd688ac9b9",
   "metadata": {
    "tags": []
   },
   "outputs": [],
   "source": [
    "scaled_data.to_dataarray().squeeze().plot.imshow()"
   ]
  }
 ],
 "metadata": {
  "kernelspec": {
   "display_name": "cubes-and-clouds-pangeo",
   "language": "python",
   "name": "conda-env-cubes-and-clouds-pangeo-py"
  },
  "language_info": {
   "codemirror_mode": {
    "name": "ipython",
    "version": 3
   },
   "file_extension": ".py",
   "mimetype": "text/x-python",
   "name": "python",
   "nbconvert_exporter": "python",
   "pygments_lexer": "ipython3",
   "version": "3.11.11"
  },
  "widgets": {
   "application/vnd.jupyter.widget-state+json": {
    "state": {
     "1ee75a6331134a04a06deabf8a654e5b": {
      "model_module": "@jupyter-widgets/base",
      "model_module_version": "2.0.0",
      "model_name": "LayoutModel",
      "state": {}
     },
     "a0a550207abd48ea9cef5da731f6b5f5": {
      "model_module": "@jupyter-widgets/controls",
      "model_module_version": "2.0.0",
      "model_name": "VBoxModel",
      "state": {
       "layout": "IPY_MODEL_1ee75a6331134a04a06deabf8a654e5b"
      }
     }
    },
    "version_major": 2,
    "version_minor": 0
   }
  }
 },
 "nbformat": 4,
 "nbformat_minor": 5
}
