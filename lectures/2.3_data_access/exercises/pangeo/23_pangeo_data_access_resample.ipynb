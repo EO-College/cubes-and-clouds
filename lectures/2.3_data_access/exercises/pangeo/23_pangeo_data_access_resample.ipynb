{
 "cells": [
  {
   "cell_type": "markdown",
   "id": "5f4a0cab-e26e-4942-96ee-78de70890ad9",
   "metadata": {},
   "source": [
    "<center><img src=\"https://raw.githubusercontent.com/EO-College/cubes-and-clouds/main/icons/cnc_3icons_process_circle.svg\"\n",
    "     alt=\"Cubes & Clouds logo\"\n",
    "     style=\"float: center; margin-right: 10px; margin-left: 10px; max-height: 250px;\" /></center>"
   ]
  },
  {
   "cell_type": "markdown",
   "id": "43f2c4b3-88f7-4ebf-8248-a72728d14012",
   "metadata": {},
   "source": [
    "# 2.3 Data Access and Basic Processing\n",
    "\n",
    "<img src=\"https://raw.githubusercontent.com/pangeo-data/pangeo.io/refs/heads/main/public/Pangeo-assets/pangeo_logo.png\"\n",
    "     alt=\"Pangeo logo\"\n",
    "     style=\"float: center; margin-right: 10px; max-height: 80px;\"/>\n",
    "\n",
    "## Resample Operators with Pangeo ecosystem\n",
    "\n",
    "Sometimes we need to align the spatial or temporal dimension of two datacubes, so that they can be merged together."
   ]
  },
  {
   "cell_type": "markdown",
   "id": "5691278c-4d66-4ee2-8592-75431cbff3c7",
   "metadata": {},
   "source": [
    "### Spatial resampling Sentinel-2 to match Landsat"
   ]
  },
  {
   "cell_type": "markdown",
   "id": "40dbc4e1-929a-4256-9e62-605d5a424fca",
   "metadata": {},
   "source": [
    "Start importing the necessary libraries"
   ]
  },
  {
   "cell_type": "code",
   "execution_count": null,
   "id": "4eca5284-2873-4b5c-9505-d67545fdec05",
   "metadata": {
    "tags": []
   },
   "outputs": [],
   "source": [
    "import pystac_client\n",
    "import stackstac\n",
    "from rasterio.enums import Resampling"
   ]
  },
  {
   "cell_type": "markdown",
   "id": "0420def5-ebd5-446e-a6d0-799e3534e5d2",
   "metadata": {},
   "source": [
    "Create two datacubes, one for Sentinel-2 and one for Landsat"
   ]
  },
  {
   "cell_type": "code",
   "execution_count": null,
   "id": "a3cc8dbb-df15-4471-aa6f-75acf5bd39dd",
   "metadata": {
    "tags": []
   },
   "outputs": [],
   "source": [
    "spatial_extent = [11.4, 45.5, 11.42, 45.52]\n",
    "temporal_extent = [\"2023-06-01\", \"2023-06-30\"]"
   ]
  },
  {
   "cell_type": "markdown",
   "id": "f6139306-676e-4c60-96af-b0848c0783d0",
   "metadata": {},
   "source": [
    "Datacube for Sentinel-2"
   ]
  },
  {
   "cell_type": "code",
   "execution_count": null,
   "id": "5fa842af-4a26-41cd-a0ed-f0729e18a471",
   "metadata": {
    "tags": []
   },
   "outputs": [],
   "source": [
    "URL = \"https://earth-search.aws.element84.com/v1\"\n",
    "catalog = pystac_client.Client.open(URL)\n",
    "s2_items = catalog.search(\n",
    "    bbox=spatial_extent,\n",
    "    datetime=temporal_extent,\n",
    "    collections=[\"sentinel-2-l2a\"]\n",
    ").item_collection()\n",
    "\n",
    "s2_cube = stackstac.stack(s2_items,\n",
    "                     bounds_latlon=spatial_extent,\n",
    "                     assets=[\"red\",\"nir\"]\n",
    ")\n",
    "s2_cube"
   ]
  },
  {
   "cell_type": "markdown",
   "id": "6214dd95-1f21-4dd1-b53d-fddaf927a38b",
   "metadata": {},
   "source": [
    "Datacube for Landsat"
   ]
  },
  {
   "cell_type": "code",
   "execution_count": null,
   "id": "f2ce4988-c17b-4760-ba52-edf2f87587e7",
   "metadata": {
    "tags": []
   },
   "outputs": [],
   "source": [
    "url = \"https://planetarycomputer.microsoft.com/api/stac/v1\"\n",
    "catalog = pystac_client.Client.open(URL)\n",
    "l8_items = catalog.search(\n",
    "    bbox=spatial_extent,\n",
    "    datetime=temporal_extent,\n",
    "    collections=[\"landsat-c2-l2\"]\n",
    ").item_collection()\n",
    "\n",
    "l8_cube = stackstac.stack(l8_items,\n",
    "                     bounds_latlon=spatial_extent,\n",
    "                     assets=[\"red\",\"nir08\"]\n",
    ")\n",
    "l8_cube"
   ]
  },
  {
   "cell_type": "markdown",
   "id": "49a04782-d412-4229-aa4b-d8e0283d5feb",
   "metadata": {},
   "source": [
    "From the previous outputs, notice the shape difference in the spatial dimensions `x` and `y`.\n",
    "\n",
    "This is due to the different resolution of the two collections: 10m for Sentinel-2, 30m for Landsat.\n",
    "\n",
    "Now we use the `stackstac.stack` to load and resample the Sentinel-2 data to match Landsat."
   ]
  },
  {
   "cell_type": "code",
   "execution_count": null,
   "id": "b9dabb91-a60f-4dc0-ae84-f47b50ce41de",
   "metadata": {
    "tags": []
   },
   "outputs": [],
   "source": [
    "s2_cube_coarse = stackstac.stack(s2_items,\n",
    "                                 bounds_latlon=spatial_extent,\n",
    "                                 assets=[\"red\",\"nir\"],\n",
    "                                 resolution=30.0, resampling=Resampling.average, epsg=32632)\n",
    "s2_cube_coarse"
   ]
  }
 ],
 "metadata": {
  "kernelspec": {
   "display_name": "cubes-and-clouds-pangeo",
   "language": "python",
   "name": "conda-env-cubes-and-clouds-pangeo-py"
  },
  "language_info": {
   "codemirror_mode": {
    "name": "ipython",
    "version": 3
   },
   "file_extension": ".py",
   "mimetype": "text/x-python",
   "name": "python",
   "nbconvert_exporter": "python",
   "pygments_lexer": "ipython3",
   "version": "3.11.11"
  },
  "widgets": {
   "application/vnd.jupyter.widget-state+json": {
    "state": {
     "523c6d79b0094ccbb324694a9a57cf31": {
      "model_module": "@jupyter-widgets/controls",
      "model_module_version": "2.0.0",
      "model_name": "VBoxModel",
      "state": {
       "layout": "IPY_MODEL_b6306c1ca0534b69adae2048dcd23aa9"
      }
     },
     "b6306c1ca0534b69adae2048dcd23aa9": {
      "model_module": "@jupyter-widgets/base",
      "model_module_version": "2.0.0",
      "model_name": "LayoutModel",
      "state": {}
     }
    },
    "version_major": 2,
    "version_minor": 0
   }
  }
 },
 "nbformat": 4,
 "nbformat_minor": 5
}
