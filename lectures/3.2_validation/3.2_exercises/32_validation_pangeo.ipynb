{
 "cells": [
  {
   "cell_type": "markdown",
   "id": "f0816bcf-2b14-4b19-b78e-491144f16344",
   "metadata": {},
   "source": [
    "<img src=\"https://raw.githubusercontent.com/EO-College/cubes-and-clouds/main/icons/cnc_3icons_process_circle.svg\"\n",
    "     alt=\"Cubes & Clouds logo\"\n",
    "     style=\"float: center; margin-right: 10px;\" />"
   ]
  },
  {
   "cell_type": "markdown",
   "id": "0c6aed2f-1493-4636-a124-03c81b28bc52",
   "metadata": {},
   "source": [
    "# 3.2 Validation of the results with Pangeo\n",
    "In this exercise, we focus on the validation of the results we have produced when using the [Pangeo](https://www.pangeo.io) ecosystem. In general, the accuracy of a satellite derived product is expressed by comparing it to in-situ measurements. Furthermore, we will compare the resuling snow cover time series to the runoff of the catchment to check the plausibility of the observed relationship.\n",
    "\n",
    "The steps involved in this analysis:\n",
    "- Generate Datacube time-series of snowmap,\n",
    "- Load _in-situ_ datasets: snow depth station measurements,\n",
    "- Pre-process and filter _in-situ_ datasets to match area of interest, \n",
    "- Perform validation of snow-depth measurements,\n",
    "- Plausibility check with runoff of the catchment\n"
   ]
  },
  {
   "cell_type": "markdown",
   "id": "ca425653-a63a-4090-9eab-bba515474133",
   "metadata": {},
   "source": [
    "Start by creating the folders and data files needed to complete the exercise."
   ]
  },
  {
   "cell_type": "code",
   "execution_count": 1,
   "id": "7f19530f-6aa9-4cfa-be7d-d8791ae014b4",
   "metadata": {
    "tags": []
   },
   "outputs": [],
   "source": [
    "!cp -r $DATA_PATH/32_results/ $HOME/\n",
    "!cp -r $DATA_PATH/32_data/ $HOME/"
   ]
  },
  {
   "cell_type": "code",
   "execution_count": 2,
   "id": "fa60bba1-19af-461f-bb91-bcb134187eca",
   "metadata": {
    "tags": []
   },
   "outputs": [],
   "source": [
    "!cp -r $DATA_PATH/_32_cubes_utilities.py $HOME/"
   ]
  },
  {
   "cell_type": "code",
   "execution_count": 3,
   "id": "11b18e90-3afd-4fba-82e9-9ed187281d64",
   "metadata": {
    "tags": []
   },
   "outputs": [
    {
     "name": "stdout",
     "output_type": "stream",
     "text": [
      "Defaulting to user installation because normal site-packages is not writeable\n",
      "Requirement already satisfied: rio-stac in /home/7b9d4b67-c6b3-41f7-9763-16816b6a9a3a/.local/lib/python3.11/site-packages (0.10.0)\n",
      "Requirement already satisfied: rasterio in /home/conda/cubes-and-clouds/30d8bce6e9d2d3312ad568684b7851b268e5321683bef302b527561c66bcbe23-20240905-143316-989438-487-pangeo/lib/python3.11/site-packages (from rio-stac) (1.3.9)\n",
      "Requirement already satisfied: pystac<2.0.0,>=1.0.0 in /home/conda/cubes-and-clouds/30d8bce6e9d2d3312ad568684b7851b268e5321683bef302b527561c66bcbe23-20240905-143316-989438-487-pangeo/lib/python3.11/site-packages (from rio-stac) (1.10.1)\n",
      "Requirement already satisfied: python-dateutil>=2.7.0 in /home/conda/cubes-and-clouds/30d8bce6e9d2d3312ad568684b7851b268e5321683bef302b527561c66bcbe23-20240905-143316-989438-487-pangeo/lib/python3.11/site-packages (from pystac<2.0.0,>=1.0.0->rio-stac) (2.8.2)\n",
      "Requirement already satisfied: affine in /home/conda/cubes-and-clouds/30d8bce6e9d2d3312ad568684b7851b268e5321683bef302b527561c66bcbe23-20240905-143316-989438-487-pangeo/lib/python3.11/site-packages (from rasterio->rio-stac) (2.4.0)\n",
      "Requirement already satisfied: attrs in /home/conda/cubes-and-clouds/30d8bce6e9d2d3312ad568684b7851b268e5321683bef302b527561c66bcbe23-20240905-143316-989438-487-pangeo/lib/python3.11/site-packages (from rasterio->rio-stac) (24.2.0)\n",
      "Requirement already satisfied: certifi in /home/conda/cubes-and-clouds/30d8bce6e9d2d3312ad568684b7851b268e5321683bef302b527561c66bcbe23-20240905-143316-989438-487-pangeo/lib/python3.11/site-packages (from rasterio->rio-stac) (2024.8.30)\n",
      "Requirement already satisfied: click>=4.0 in /home/conda/cubes-and-clouds/30d8bce6e9d2d3312ad568684b7851b268e5321683bef302b527561c66bcbe23-20240905-143316-989438-487-pangeo/lib/python3.11/site-packages (from rasterio->rio-stac) (8.1.7)\n",
      "Requirement already satisfied: cligj>=0.5 in /home/conda/cubes-and-clouds/30d8bce6e9d2d3312ad568684b7851b268e5321683bef302b527561c66bcbe23-20240905-143316-989438-487-pangeo/lib/python3.11/site-packages (from rasterio->rio-stac) (0.7.2)\n",
      "Requirement already satisfied: numpy in /home/conda/cubes-and-clouds/30d8bce6e9d2d3312ad568684b7851b268e5321683bef302b527561c66bcbe23-20240905-143316-989438-487-pangeo/lib/python3.11/site-packages (from rasterio->rio-stac) (1.26.4)\n",
      "Requirement already satisfied: snuggs>=1.4.1 in /home/conda/cubes-and-clouds/30d8bce6e9d2d3312ad568684b7851b268e5321683bef302b527561c66bcbe23-20240905-143316-989438-487-pangeo/lib/python3.11/site-packages (from rasterio->rio-stac) (1.4.7)\n",
      "Requirement already satisfied: click-plugins in /home/conda/cubes-and-clouds/30d8bce6e9d2d3312ad568684b7851b268e5321683bef302b527561c66bcbe23-20240905-143316-989438-487-pangeo/lib/python3.11/site-packages (from rasterio->rio-stac) (1.1.1)\n",
      "Requirement already satisfied: setuptools in /home/conda/cubes-and-clouds/30d8bce6e9d2d3312ad568684b7851b268e5321683bef302b527561c66bcbe23-20240905-143316-989438-487-pangeo/lib/python3.11/site-packages (from rasterio->rio-stac) (73.0.1)\n",
      "Requirement already satisfied: six>=1.5 in /home/conda/cubes-and-clouds/30d8bce6e9d2d3312ad568684b7851b268e5321683bef302b527561c66bcbe23-20240905-143316-989438-487-pangeo/lib/python3.11/site-packages (from python-dateutil>=2.7.0->pystac<2.0.0,>=1.0.0->rio-stac) (1.16.0)\n",
      "Requirement already satisfied: pyparsing>=2.1.6 in /home/conda/cubes-and-clouds/30d8bce6e9d2d3312ad568684b7851b268e5321683bef302b527561c66bcbe23-20240905-143316-989438-487-pangeo/lib/python3.11/site-packages (from snuggs>=1.4.1->rasterio->rio-stac) (3.1.4)\n",
      "Note: you may need to restart the kernel to use updated packages.\n"
     ]
    }
   ],
   "source": [
    "pip install rio-stac"
   ]
  },
  {
   "cell_type": "markdown",
   "id": "62f4cb92-ac45-4e98-8d61-b2ff43c7dc84",
   "metadata": {},
   "source": [
    "## Libraries"
   ]
  },
  {
   "cell_type": "code",
   "execution_count": 4,
   "id": "1abf270c-d73e-4109-854c-3cf36a1b36d7",
   "metadata": {
    "tags": []
   },
   "outputs": [],
   "source": [
    "import json\n",
    "from datetime import date\n",
    "import numpy as np\n",
    "import pandas as pd\n",
    "\n",
    "import xarray as xr\n",
    "import rioxarray as rio\n",
    "\n",
    "import matplotlib.pyplot as plt\n",
    "import rasterio\n",
    "from rasterio.plot import show\n",
    "\n",
    "import geopandas as gpd\n",
    "import folium\n",
    "\n",
    "from _32_cubes_utilities_pangeo import ( calculate_sca,\n",
    "                                 station_temporal_filter,\n",
    "                                 station_spatial_filter,\n",
    "                                 binarize_snow,\n",
    "                                 format_date,\n",
    "                                 assign_site_snow,\n",
    "                                 validation_metrics)\n"
   ]
  },
  {
   "cell_type": "markdown",
   "id": "6cb40bc5-8916-4989-b026-1b354a33e695",
   "metadata": {},
   "source": [
    "## Region of Interest"
   ]
  },
  {
   "cell_type": "markdown",
   "id": "47820208-433d-4acb-9b97-4ef5ccda3feb",
   "metadata": {},
   "source": [
    "Load the Val Passiria Catchment, our region of interest. And plot it."
   ]
  },
  {
   "cell_type": "code",
   "execution_count": 5,
   "id": "bc69c8d6-62dc-474e-be39-3e5ca9c5daca",
   "metadata": {
    "tags": []
   },
   "outputs": [
    {
     "data": {
      "text/html": [
       "<div>\n",
       "<style scoped>\n",
       "    .dataframe tbody tr th:only-of-type {\n",
       "        vertical-align: middle;\n",
       "    }\n",
       "\n",
       "    .dataframe tbody tr th {\n",
       "        vertical-align: top;\n",
       "    }\n",
       "\n",
       "    .dataframe thead th {\n",
       "        text-align: right;\n",
       "    }\n",
       "</style>\n",
       "<table border=\"1\" class=\"dataframe\">\n",
       "  <thead>\n",
       "    <tr style=\"text-align: right;\">\n",
       "      <th></th>\n",
       "      <th>HYBAS_ID</th>\n",
       "      <th>NEXT_DOWN</th>\n",
       "      <th>NEXT_SINK</th>\n",
       "      <th>MAIN_BAS</th>\n",
       "      <th>DIST_SINK</th>\n",
       "      <th>DIST_MAIN</th>\n",
       "      <th>SUB_AREA</th>\n",
       "      <th>UP_AREA</th>\n",
       "      <th>PFAF_ID</th>\n",
       "      <th>ENDO</th>\n",
       "      <th>COAST</th>\n",
       "      <th>ORDER</th>\n",
       "      <th>SORT</th>\n",
       "      <th>geometry</th>\n",
       "    </tr>\n",
       "  </thead>\n",
       "  <tbody>\n",
       "    <tr>\n",
       "      <th>0</th>\n",
       "      <td>2090516090</td>\n",
       "      <td>2090516950</td>\n",
       "      <td>2090012980</td>\n",
       "      <td>2090012980</td>\n",
       "      <td>334.5</td>\n",
       "      <td>334.5</td>\n",
       "      <td>419.1</td>\n",
       "      <td>419.2</td>\n",
       "      <td>214040804</td>\n",
       "      <td>0</td>\n",
       "      <td>0</td>\n",
       "      <td>3</td>\n",
       "      <td>10988</td>\n",
       "      <td>POLYGON ((11.07500 46.72917, 11.07258 46.72881...</td>\n",
       "    </tr>\n",
       "  </tbody>\n",
       "</table>\n",
       "</div>"
      ],
      "text/plain": [
       "     HYBAS_ID   NEXT_DOWN   NEXT_SINK    MAIN_BAS  DIST_SINK  DIST_MAIN  \\\n",
       "0  2090516090  2090516950  2090012980  2090012980      334.5      334.5   \n",
       "\n",
       "   SUB_AREA  UP_AREA    PFAF_ID  ENDO  COAST  ORDER   SORT  \\\n",
       "0     419.1    419.2  214040804     0      0      3  10988   \n",
       "\n",
       "                                            geometry  \n",
       "0  POLYGON ((11.07500 46.72917, 11.07258 46.72881...  "
      ]
     },
     "execution_count": 5,
     "metadata": {},
     "output_type": "execute_result"
    }
   ],
   "source": [
    "catchment_outline = gpd.read_file('32_data/catchment_outline.geojson')\n",
    "catchment_outline"
   ]
  },
  {
   "cell_type": "code",
   "execution_count": 6,
   "id": "088cfa17-6330-45b4-b6aa-3460899d22dc",
   "metadata": {
    "tags": []
   },
   "outputs": [
    {
     "name": "stderr",
     "output_type": "stream",
     "text": [
      "/tmp/ipykernel_2024/2582970674.py:1: UserWarning: Geometry is in a geographic CRS. Results from 'centroid' are likely incorrect. Use 'GeoSeries.to_crs()' to re-project geometries to a projected CRS before this operation.\n",
      "\n",
      "  latitude_centre = float(catchment_outline.centroid.y)\n",
      "/tmp/ipykernel_2024/2582970674.py:1: FutureWarning: Calling float on a single element Series is deprecated and will raise a TypeError in the future. Use float(ser.iloc[0]) instead\n",
      "  latitude_centre = float(catchment_outline.centroid.y)\n",
      "/tmp/ipykernel_2024/2582970674.py:2: UserWarning: Geometry is in a geographic CRS. Results from 'centroid' are likely incorrect. Use 'GeoSeries.to_crs()' to re-project geometries to a projected CRS before this operation.\n",
      "\n",
      "  longitude_centre = float(catchment_outline.centroid.x)\n",
      "/tmp/ipykernel_2024/2582970674.py:2: FutureWarning: Calling float on a single element Series is deprecated and will raise a TypeError in the future. Use float(ser.iloc[0]) instead\n",
      "  longitude_centre = float(catchment_outline.centroid.x)\n"
     ]
    },
    {
     "data": {
      "text/plain": [
       "(46.79856263096177, 11.177346530561929)"
      ]
     },
     "execution_count": 6,
     "metadata": {},
     "output_type": "execute_result"
    }
   ],
   "source": [
    "latitude_centre = float(catchment_outline.centroid.y)\n",
    "longitude_centre = float(catchment_outline.centroid.x)\n",
    "latitude_centre, longitude_centre"
   ]
  },
  {
   "cell_type": "code",
   "execution_count": 7,
   "id": "920d356b-c477-4bac-a811-e0eb3b031853",
   "metadata": {
    "tags": []
   },
   "outputs": [
    {
     "data": {
      "text/html": [
       "<div style=\"width:100%;\"><div style=\"position:relative;width:100%;height:0;padding-bottom:60%;\"><span style=\"color:#565656\">Make this Notebook Trusted to load map: File -> Trust Notebook</span><iframe srcdoc=\"&lt;!DOCTYPE html&gt;\n",
       "&lt;html&gt;\n",
       "&lt;head&gt;\n",
       "    \n",
       "    &lt;meta http-equiv=&quot;content-type&quot; content=&quot;text/html; charset=UTF-8&quot; /&gt;\n",
       "    \n",
       "        &lt;script&gt;\n",
       "            L_NO_TOUCH = false;\n",
       "            L_DISABLE_3D = false;\n",
       "        &lt;/script&gt;\n",
       "    \n",
       "    &lt;style&gt;html, body {width: 100%;height: 100%;margin: 0;padding: 0;}&lt;/style&gt;\n",
       "    &lt;style&gt;#map {position:absolute;top:0;bottom:0;right:0;left:0;}&lt;/style&gt;\n",
       "    &lt;script src=&quot;https://cdn.jsdelivr.net/npm/leaflet@1.9.3/dist/leaflet.js&quot;&gt;&lt;/script&gt;\n",
       "    &lt;script src=&quot;https://code.jquery.com/jquery-3.7.1.min.js&quot;&gt;&lt;/script&gt;\n",
       "    &lt;script src=&quot;https://cdn.jsdelivr.net/npm/bootstrap@5.2.2/dist/js/bootstrap.bundle.min.js&quot;&gt;&lt;/script&gt;\n",
       "    &lt;script src=&quot;https://cdnjs.cloudflare.com/ajax/libs/Leaflet.awesome-markers/2.0.2/leaflet.awesome-markers.js&quot;&gt;&lt;/script&gt;\n",
       "    &lt;link rel=&quot;stylesheet&quot; href=&quot;https://cdn.jsdelivr.net/npm/leaflet@1.9.3/dist/leaflet.css&quot;/&gt;\n",
       "    &lt;link rel=&quot;stylesheet&quot; href=&quot;https://cdn.jsdelivr.net/npm/bootstrap@5.2.2/dist/css/bootstrap.min.css&quot;/&gt;\n",
       "    &lt;link rel=&quot;stylesheet&quot; href=&quot;https://netdna.bootstrapcdn.com/bootstrap/3.0.0/css/bootstrap-glyphicons.css&quot;/&gt;\n",
       "    &lt;link rel=&quot;stylesheet&quot; href=&quot;https://cdn.jsdelivr.net/npm/@fortawesome/fontawesome-free@6.2.0/css/all.min.css&quot;/&gt;\n",
       "    &lt;link rel=&quot;stylesheet&quot; href=&quot;https://cdnjs.cloudflare.com/ajax/libs/Leaflet.awesome-markers/2.0.2/leaflet.awesome-markers.css&quot;/&gt;\n",
       "    &lt;link rel=&quot;stylesheet&quot; href=&quot;https://cdn.jsdelivr.net/gh/python-visualization/folium/folium/templates/leaflet.awesome.rotate.min.css&quot;/&gt;\n",
       "    \n",
       "            &lt;meta name=&quot;viewport&quot; content=&quot;width=device-width,\n",
       "                initial-scale=1.0, maximum-scale=1.0, user-scalable=no&quot; /&gt;\n",
       "            &lt;style&gt;\n",
       "                #map_3f85f2948c751e228eae2bf02faf4070 {\n",
       "                    position: relative;\n",
       "                    width: 100.0%;\n",
       "                    height: 100.0%;\n",
       "                    left: 0.0%;\n",
       "                    top: 0.0%;\n",
       "                }\n",
       "                .leaflet-container { font-size: 1rem; }\n",
       "            &lt;/style&gt;\n",
       "        \n",
       "&lt;/head&gt;\n",
       "&lt;body&gt;\n",
       "    \n",
       "    \n",
       "            &lt;div class=&quot;folium-map&quot; id=&quot;map_3f85f2948c751e228eae2bf02faf4070&quot; &gt;&lt;/div&gt;\n",
       "        \n",
       "&lt;/body&gt;\n",
       "&lt;script&gt;\n",
       "    \n",
       "    \n",
       "            var map_3f85f2948c751e228eae2bf02faf4070 = L.map(\n",
       "                &quot;map_3f85f2948c751e228eae2bf02faf4070&quot;,\n",
       "                {\n",
       "                    center: [46.79856263096177, 11.177346530561929],\n",
       "                    crs: L.CRS.EPSG3857,\n",
       "                    zoom: 10,\n",
       "                    zoomControl: true,\n",
       "                    preferCanvas: false,\n",
       "                }\n",
       "            );\n",
       "\n",
       "            \n",
       "\n",
       "        \n",
       "    \n",
       "            var tile_layer_3f54bae5c9861c39bb4afd9819152d9f = L.tileLayer(\n",
       "                &quot;https://tile.openstreetmap.org/{z}/{x}/{y}.png&quot;,\n",
       "                {&quot;attribution&quot;: &quot;\\u0026copy; \\u003ca href=\\&quot;https://www.openstreetmap.org/copyright\\&quot;\\u003eOpenStreetMap\\u003c/a\\u003e contributors&quot;, &quot;detectRetina&quot;: false, &quot;maxNativeZoom&quot;: 19, &quot;maxZoom&quot;: 19, &quot;minZoom&quot;: 0, &quot;noWrap&quot;: false, &quot;opacity&quot;: 1, &quot;subdomains&quot;: &quot;abc&quot;, &quot;tms&quot;: false}\n",
       "            );\n",
       "        \n",
       "    \n",
       "            tile_layer_3f54bae5c9861c39bb4afd9819152d9f.addTo(map_3f85f2948c751e228eae2bf02faf4070);\n",
       "        \n",
       "    \n",
       "\n",
       "        function geo_json_14342e420aa29bbed5c213d170e3a3d7_onEachFeature(feature, layer) {\n",
       "            layer.on({\n",
       "            });\n",
       "        };\n",
       "        var geo_json_14342e420aa29bbed5c213d170e3a3d7 = L.geoJson(null, {\n",
       "                onEachFeature: geo_json_14342e420aa29bbed5c213d170e3a3d7_onEachFeature,\n",
       "            \n",
       "        });\n",
       "\n",
       "        function geo_json_14342e420aa29bbed5c213d170e3a3d7_add (data) {\n",
       "            geo_json_14342e420aa29bbed5c213d170e3a3d7\n",
       "                .addData(data);\n",
       "        }\n",
       "            geo_json_14342e420aa29bbed5c213d170e3a3d7_add({&quot;features&quot;: [{&quot;geometry&quot;: {&quot;coordinates&quot;: [[[11.075, 46.72916666666669], [11.072575547960094, 46.728813340928845], [11.069091118706622, 46.72535332573787], [11.048285590277802, 46.724646674262175], [11.042024739583358, 46.73087632921009], [11.041666666666691, 46.733333333333356], [11.038123575846377, 46.73424241807728], [11.0375, 46.74583333333336], [11.03664923773874, 46.74914923773874], [11.030017428927975, 46.75085076226131], [11.028599378797768, 46.756377156575546], [11.025567287868947, 46.76028951009117], [11.0244327121311, 46.76471048990888], [11.02140062120228, 46.7686228434245], [11.020833333333357, 46.77083333333336], [11.024291653103322, 46.77172071668839], [11.025567287868947, 46.781377156575545], [11.032766045464435, 46.78945617675784], [11.033900621202282, 46.79387715657555], [11.036932712131101, 46.79778951009117], [11.038067287868948, 46.80221048990888], [11.042586263020858, 46.80762905544707], [11.052210489908878, 46.808900621202284], [11.06028951009117, 46.816099378797766], [11.06471048990888, 46.81723395453562], [11.068622843424503, 46.820266045464436], [11.073043823242212, 46.82140062120228], [11.077974107530407, 46.82522176106773], [11.079733954535614, 46.83010389539933], [11.071295166015648, 46.83957451714412], [11.0744327121311, 46.843622843424505], [11.075567287868948, 46.846579996744815], [11.071400621202281, 46.85195617675784], [11.070266045464434, 46.859321424696205], [11.082766045464435, 46.872789510091174], [11.084041680230058, 46.882445949978326], [11.089710489908878, 46.88390062120228], [11.09995964898006, 46.89319695366756], [11.096400621202282, 46.89778951009117], [11.095266045464435, 46.91343722873266], [11.103599378797767, 46.92278951009117], [11.104166666666691, 46.929166666666696], [11.114924452039954, 46.92951999240454], [11.11875, 46.9333187527127], [11.12328694661461, 46.92881334092885], [11.139924452039956, 46.92951999240454], [11.143408881293428, 46.93298000759551], [11.148288302951414, 46.933691067165825], [11.157980007595512, 46.94340888129343], [11.158691406250025, 46.948290337456626], [11.16424221462676, 46.953813340928846], [11.166666666666693, 46.954166666666694], [11.167024739583358, 46.95170966254343], [11.172575547960095, 46.94618665907121], [11.177424452039956, 46.94548000759551], [11.180908881293428, 46.94201999240454], [11.185757785373289, 46.94131334092884], [11.189242214626761, 46.937853325737876], [11.194123670789956, 46.93714192708336], [11.199646674262178, 46.93159111870662], [11.200353325737872, 46.9100755479601], [11.204519992404538, 46.90587972005211], [11.203813340928845, 46.901742214626765], [11.199646674262178, 46.89754638671877], [11.200353325737872, 46.89340888129343], [11.203813340928845, 46.889924452039956], [11.204519992404538, 46.8850755479601], [11.21248609754777, 46.877084011501765], [11.208686659071207, 46.87325778537329], [11.208333333333359, 46.85833333333336], [11.210543823242213, 46.85776604546444], [11.214456176757839, 46.85473395453562], [11.231377156575547, 46.85359937879777], [11.239456176757837, 46.846400621202285], [11.260543823242212, 46.845266045464435], [11.26458333333336, 46.84213528103301], [11.26875, 46.84536471896704], [11.272789510091172, 46.842233954535615], [11.323043823242214, 46.84109937879777], [11.331122843424506, 46.83390062120228], [11.343877156575548, 46.83276604546444], [11.347789510091172, 46.82973395453561], [11.35331590440541, 46.82831590440541], [11.354733954535616, 46.82278951009117], [11.357766045464437, 46.818877156575546], [11.358900621202284, 46.81445617675784], [11.36609937879777, 46.80637715657554], [11.366666666666694, 46.80416666666669], [11.365779283311658, 46.80070834689673], [11.356122843424506, 46.7994327121311], [11.35208333333336, 46.796301947699675], [11.347916666666693, 46.799531385633706], [11.343877156575548, 46.79640062120228], [11.339456176757839, 46.79526604546444], [11.335543823242213, 46.79223395453562], [11.321806165907145, 46.79101189507381], [11.31306728786895, 46.781377156575545], [11.311932712131103, 46.776956176757835], [11.304733954535617, 46.76887715657555], [11.30359937879777, 46.76445617675784], [11.30056728786895, 46.760543823242216], [11.299149237738742, 46.75501742892798], [11.293622843424505, 46.753599378797766], [11.289710489908881, 46.75056728786895], [11.279166666666693, 46.75], [11.278813340928846, 46.73924221462676], [11.27464667426218, 46.73504638671878], [11.275353325737873, 46.73090888129343], [11.283319430881102, 46.722917344835096], [11.27951999240454, 46.71909111870662], [11.278813340928846, 46.705908881293425], [11.275353325737873, 46.702424452039956], [11.275, 46.7], [11.274032253689262, 46.69622938368058], [11.267413330078151, 46.691099378797766], [11.260289510091171, 46.69223395453562], [11.25491333007815, 46.69640062120228], [11.251956176757838, 46.695266045464436], [11.248043823242213, 46.69223395453562], [11.239456176757837, 46.691099378797766], [11.235543823242214, 46.68806728786895], [11.218622843424505, 46.6869327121311], [11.21471048990888, 46.683900621202284], [11.197789510091171, 46.68276604546443], [11.193877156575546, 46.679733954535614], [11.184220716688394, 46.67845831976999], [11.182413736979193, 46.671416219075546], [11.173043823242214, 46.66306728786895], [11.168622843424505, 46.6619327121311], [11.159270562065997, 46.653599378797765], [11.154985215928845, 46.655143907335095], [11.154166666666692, 46.65833333333336], [11.15085076226131, 46.65918409559464], [11.15, 46.6625], [11.150353325737871, 46.66909111870662], [11.155876329210095, 46.67464192708336], [11.160757785373288, 46.67535332573787], [11.166668023003497, 46.68123406304256], [11.162853325737872, 46.685075547960096], [11.162146674262178, 46.68992445203995], [11.15451999240454, 46.69757554796009], [11.153813340928846, 46.702424452039956], [11.148290337456622, 46.70797526041669], [11.143408881293428, 46.708686659071205], [11.139924452039956, 46.71214667426218], [11.122575547960095, 46.712853325737875], [11.119091118706622, 46.71631334092884], [11.11424221462676, 46.71701999240454], [11.110757785373288, 46.72048000759551], [11.10174221462676, 46.72118665907121], [11.098257785373288, 46.724646674262175], [11.085075547960095, 46.72535332573787], [11.081591118706623, 46.728813340928845], [11.075, 46.72916666666669]]], &quot;type&quot;: &quot;Polygon&quot;}, &quot;id&quot;: &quot;0&quot;, &quot;properties&quot;: {&quot;COAST&quot;: 0, &quot;DIST_MAIN&quot;: 334.5, &quot;DIST_SINK&quot;: 334.5, &quot;ENDO&quot;: 0, &quot;HYBAS_ID&quot;: 2090516090, &quot;MAIN_BAS&quot;: 2090012980, &quot;NEXT_DOWN&quot;: 2090516950, &quot;NEXT_SINK&quot;: 2090012980, &quot;ORDER&quot;: 3, &quot;PFAF_ID&quot;: 214040804, &quot;SORT&quot;: 10988, &quot;SUB_AREA&quot;: 419.1, &quot;UP_AREA&quot;: 419.2}, &quot;type&quot;: &quot;Feature&quot;}], &quot;type&quot;: &quot;FeatureCollection&quot;});\n",
       "        geo_json_14342e420aa29bbed5c213d170e3a3d7.setStyle(function(feature) {return feature.properties.style;});\n",
       "\n",
       "        \n",
       "    \n",
       "            geo_json_14342e420aa29bbed5c213d170e3a3d7.addTo(map_3f85f2948c751e228eae2bf02faf4070);\n",
       "        \n",
       "    \n",
       "            var layer_control_0cbe8f5e8fb1fc3c412cfff43aa37844_layers = {\n",
       "                base_layers : {\n",
       "                    &quot;openstreetmap&quot; : tile_layer_3f54bae5c9861c39bb4afd9819152d9f,\n",
       "                },\n",
       "                overlays :  {\n",
       "                    &quot;catchment&quot; : geo_json_14342e420aa29bbed5c213d170e3a3d7,\n",
       "                },\n",
       "            };\n",
       "            let layer_control_0cbe8f5e8fb1fc3c412cfff43aa37844 = L.control.layers(\n",
       "                layer_control_0cbe8f5e8fb1fc3c412cfff43aa37844_layers.base_layers,\n",
       "                layer_control_0cbe8f5e8fb1fc3c412cfff43aa37844_layers.overlays,\n",
       "                {&quot;autoZIndex&quot;: true, &quot;collapsed&quot;: true, &quot;position&quot;: &quot;topright&quot;}\n",
       "            ).addTo(map_3f85f2948c751e228eae2bf02faf4070);\n",
       "\n",
       "        \n",
       "&lt;/script&gt;\n",
       "&lt;/html&gt;\" style=\"position:absolute;width:100%;height:100%;left:0;top:0;border:none !important;\" allowfullscreen webkitallowfullscreen mozallowfullscreen></iframe></div></div>"
      ],
      "text/plain": [
       "<folium.folium.Map at 0x7fb583fa2a50>"
      ]
     },
     "execution_count": 7,
     "metadata": {},
     "output_type": "execute_result"
    }
   ],
   "source": [
    "m = folium.Map((latitude_centre, longitude_centre), zoom_start=10)\n",
    "folium.GeoJson(catchment_outline.to_json(), name=\"catchment\").add_to(m)\n",
    "folium.LayerControl().add_to(m)\n",
    "m"
   ]
  },
  {
   "cell_type": "markdown",
   "id": "a6d24033-7c7f-41fa-ad68-7c32b01f0a30",
   "metadata": {
    "tags": []
   },
   "source": [
    "## Generate Datacube of Snowmap"
   ]
  },
  {
   "cell_type": "markdown",
   "id": "ee1e399f-0c77-47d5-bc67-648fcf7cb048",
   "metadata": {},
   "source": [
    "We have prepared the workflow to generate the snow map as a python function `calculate_sca()`. The `calculate_sca()` is from `_32_cubes_utilities` and is used to reproduce the snow map process graph in openEO"
   ]
  },
  {
   "cell_type": "code",
   "execution_count": 8,
   "id": "c5343f82-547c-4af5-8aaf-6188a0dba977",
   "metadata": {
    "collapsed": true,
    "jupyter": {
     "outputs_hidden": true
    },
    "tags": []
   },
   "outputs": [
    {
     "ename": "AssertionError",
     "evalue": "out_bounds=None",
     "output_type": "error",
     "traceback": [
      "\u001b[0;31m---------------------------------------------------------------------------\u001b[0m",
      "\u001b[0;31mAssertionError\u001b[0m                            Traceback (most recent call last)",
      "Cell \u001b[0;32mIn[8], line 3\u001b[0m\n\u001b[1;32m      1\u001b[0m bbox \u001b[38;5;241m=\u001b[39m catchment_outline\u001b[38;5;241m.\u001b[39mbounds\u001b[38;5;241m.\u001b[39miloc[\u001b[38;5;241m0\u001b[39m]\n\u001b[1;32m      2\u001b[0m temporal_extent \u001b[38;5;241m=\u001b[39m [\u001b[38;5;124m\"\u001b[39m\u001b[38;5;124m2018-02-01\u001b[39m\u001b[38;5;124m\"\u001b[39m, \u001b[38;5;124m\"\u001b[39m\u001b[38;5;124m2018-06-30\u001b[39m\u001b[38;5;124m\"\u001b[39m]\n\u001b[0;32m----> 3\u001b[0m snow_map_cloud_free \u001b[38;5;241m=\u001b[39m \u001b[43mcalculate_sca\u001b[49m\u001b[43m(\u001b[49m\u001b[43mbbox\u001b[49m\u001b[43m,\u001b[49m\u001b[43m \u001b[49m\u001b[43mtemporal_extent\u001b[49m\u001b[43m)\u001b[49m\n\u001b[1;32m      4\u001b[0m snow_map_cloud_free\n",
      "File \u001b[0;32m~/cubes-and-clouds/lectures/3.2_validation/3.2_exercises/_32_cubes_utilities_pangeo.py:61\u001b[0m, in \u001b[0;36mcalculate_sca\u001b[0;34m(bbox, temporal_extent)\u001b[0m\n\u001b[1;32m     56\u001b[0m spatial_extent \u001b[38;5;241m=\u001b[39m [bbox[\u001b[38;5;124m\"\u001b[39m\u001b[38;5;124mminx\u001b[39m\u001b[38;5;124m\"\u001b[39m], bbox[\u001b[38;5;124m\"\u001b[39m\u001b[38;5;124mminy\u001b[39m\u001b[38;5;124m\"\u001b[39m], bbox[\u001b[38;5;124m\"\u001b[39m\u001b[38;5;124mmaxx\u001b[39m\u001b[38;5;124m\"\u001b[39m], bbox[\u001b[38;5;124m\"\u001b[39m\u001b[38;5;124mmaxy\u001b[39m\u001b[38;5;124m\"\u001b[39m]]\n\u001b[1;32m     57\u001b[0m items \u001b[38;5;241m=\u001b[39m catalog\u001b[38;5;241m.\u001b[39msearch(\n\u001b[1;32m     58\u001b[0m bbox\u001b[38;5;241m=\u001b[39mspatial_extent,\n\u001b[1;32m     59\u001b[0m datetime\u001b[38;5;241m=\u001b[39mtemporal_extent,\n\u001b[1;32m     60\u001b[0m collections\u001b[38;5;241m=\u001b[39m[\u001b[38;5;124m\"\u001b[39m\u001b[38;5;124msentinel-2-l2a\u001b[39m\u001b[38;5;124m\"\u001b[39m])\u001b[38;5;241m.\u001b[39mitem_collection()\n\u001b[0;32m---> 61\u001b[0m s2_cube \u001b[38;5;241m=\u001b[39m \u001b[43mstackstac\u001b[49m\u001b[38;5;241;43m.\u001b[39;49m\u001b[43mstack\u001b[49m\u001b[43m(\u001b[49m\u001b[43mitems\u001b[49m\u001b[43m,\u001b[49m\n\u001b[1;32m     62\u001b[0m \u001b[43m                 \u001b[49m\u001b[43mbounds_latlon\u001b[49m\u001b[38;5;241;43m=\u001b[39;49m\u001b[43mspatial_extent\u001b[49m\u001b[43m,\u001b[49m\n\u001b[1;32m     63\u001b[0m \u001b[43m                 \u001b[49m\u001b[43massets\u001b[49m\u001b[38;5;241;43m=\u001b[39;49m\u001b[43m[\u001b[49m\u001b[38;5;124;43m'\u001b[39;49m\u001b[38;5;124;43mB03\u001b[39;49m\u001b[38;5;124;43m'\u001b[39;49m\u001b[43m,\u001b[49m\u001b[43m \u001b[49m\u001b[38;5;124;43m'\u001b[39;49m\u001b[38;5;124;43mB11\u001b[39;49m\u001b[38;5;124;43m'\u001b[39;49m\u001b[43m]\u001b[49m\u001b[43m)\u001b[49m\n\u001b[1;32m     65\u001b[0m \u001b[38;5;66;03m# compute ndsi and snowmap\u001b[39;00m\n\u001b[1;32m     66\u001b[0m green \u001b[38;5;241m=\u001b[39m s2_cube\u001b[38;5;241m.\u001b[39mband(\u001b[38;5;124m\"\u001b[39m\u001b[38;5;124mB03\u001b[39m\u001b[38;5;124m\"\u001b[39m)\n",
      "File \u001b[0;32m/home/conda/cubes-and-clouds/30d8bce6e9d2d3312ad568684b7851b268e5321683bef302b527561c66bcbe23-20240905-143316-989438-487-pangeo/lib/python3.11/site-packages/stackstac/stack.py:290\u001b[0m, in \u001b[0;36mstack\u001b[0;34m(items, assets, epsg, resolution, bounds, bounds_latlon, snap_bounds, resampling, chunksize, dtype, fill_value, rescale, sortby_date, xy_coords, properties, band_coords, gdal_env, errors_as_nodata, reader)\u001b[0m\n\u001b[1;32m    283\u001b[0m \u001b[38;5;28;01mif\u001b[39;00m sortby_date \u001b[38;5;129;01mis\u001b[39;00m \u001b[38;5;129;01mnot\u001b[39;00m \u001b[38;5;28;01mFalse\u001b[39;00m:\n\u001b[1;32m    284\u001b[0m     plain_items \u001b[38;5;241m=\u001b[39m \u001b[38;5;28msorted\u001b[39m(\n\u001b[1;32m    285\u001b[0m         plain_items,\n\u001b[1;32m    286\u001b[0m         key\u001b[38;5;241m=\u001b[39m\u001b[38;5;28;01mlambda\u001b[39;00m item: item[\u001b[38;5;124m\"\u001b[39m\u001b[38;5;124mproperties\u001b[39m\u001b[38;5;124m\"\u001b[39m]\u001b[38;5;241m.\u001b[39mget(\u001b[38;5;124m\"\u001b[39m\u001b[38;5;124mdatetime\u001b[39m\u001b[38;5;124m\"\u001b[39m, \u001b[38;5;124m\"\u001b[39m\u001b[38;5;124m\"\u001b[39m) \u001b[38;5;129;01mor\u001b[39;00m \u001b[38;5;124m\"\u001b[39m\u001b[38;5;124m\"\u001b[39m,\n\u001b[1;32m    287\u001b[0m         reverse\u001b[38;5;241m=\u001b[39msortby_date \u001b[38;5;241m==\u001b[39m \u001b[38;5;124m\"\u001b[39m\u001b[38;5;124mdesc\u001b[39m\u001b[38;5;124m\"\u001b[39m,\n\u001b[1;32m    288\u001b[0m     )\n\u001b[0;32m--> 290\u001b[0m asset_table, spec, asset_ids, plain_items \u001b[38;5;241m=\u001b[39m \u001b[43mprepare_items\u001b[49m\u001b[43m(\u001b[49m\n\u001b[1;32m    291\u001b[0m \u001b[43m    \u001b[49m\u001b[43mplain_items\u001b[49m\u001b[43m,\u001b[49m\n\u001b[1;32m    292\u001b[0m \u001b[43m    \u001b[49m\u001b[43massets\u001b[49m\u001b[38;5;241;43m=\u001b[39;49m\u001b[43massets\u001b[49m\u001b[43m,\u001b[49m\n\u001b[1;32m    293\u001b[0m \u001b[43m    \u001b[49m\u001b[43mepsg\u001b[49m\u001b[38;5;241;43m=\u001b[39;49m\u001b[43mepsg\u001b[49m\u001b[43m,\u001b[49m\n\u001b[1;32m    294\u001b[0m \u001b[43m    \u001b[49m\u001b[43mresolution\u001b[49m\u001b[38;5;241;43m=\u001b[39;49m\u001b[43mresolution\u001b[49m\u001b[43m,\u001b[49m\n\u001b[1;32m    295\u001b[0m \u001b[43m    \u001b[49m\u001b[43mbounds\u001b[49m\u001b[38;5;241;43m=\u001b[39;49m\u001b[43mbounds\u001b[49m\u001b[43m,\u001b[49m\n\u001b[1;32m    296\u001b[0m \u001b[43m    \u001b[49m\u001b[43mbounds_latlon\u001b[49m\u001b[38;5;241;43m=\u001b[39;49m\u001b[43mbounds_latlon\u001b[49m\u001b[43m,\u001b[49m\n\u001b[1;32m    297\u001b[0m \u001b[43m    \u001b[49m\u001b[43msnap_bounds\u001b[49m\u001b[38;5;241;43m=\u001b[39;49m\u001b[43msnap_bounds\u001b[49m\u001b[43m,\u001b[49m\n\u001b[1;32m    298\u001b[0m \u001b[43m    \u001b[49m\u001b[43mrescale\u001b[49m\u001b[38;5;241;43m=\u001b[39;49m\u001b[43mrescale\u001b[49m\u001b[43m,\u001b[49m\n\u001b[1;32m    299\u001b[0m \u001b[43m    \u001b[49m\u001b[43mdtype\u001b[49m\u001b[38;5;241;43m=\u001b[39;49m\u001b[43mdtype\u001b[49m\u001b[43m,\u001b[49m\n\u001b[1;32m    300\u001b[0m \u001b[43m\u001b[49m\u001b[43m)\u001b[49m\n\u001b[1;32m    301\u001b[0m arr \u001b[38;5;241m=\u001b[39m items_to_dask(\n\u001b[1;32m    302\u001b[0m     asset_table,\n\u001b[1;32m    303\u001b[0m     spec,\n\u001b[0;32m   (...)\u001b[0m\n\u001b[1;32m    311\u001b[0m     errors_as_nodata\u001b[38;5;241m=\u001b[39merrors_as_nodata,\n\u001b[1;32m    312\u001b[0m )\n\u001b[1;32m    314\u001b[0m \u001b[38;5;28;01mreturn\u001b[39;00m xr\u001b[38;5;241m.\u001b[39mDataArray(\n\u001b[1;32m    315\u001b[0m     arr,\n\u001b[1;32m    316\u001b[0m     \u001b[38;5;241m*\u001b[39mto_coords(\n\u001b[0;32m   (...)\u001b[0m\n\u001b[1;32m    325\u001b[0m     name\u001b[38;5;241m=\u001b[39m\u001b[38;5;124m\"\u001b[39m\u001b[38;5;124mstackstac-\u001b[39m\u001b[38;5;124m\"\u001b[39m \u001b[38;5;241m+\u001b[39m dask\u001b[38;5;241m.\u001b[39mbase\u001b[38;5;241m.\u001b[39mtokenize(arr),\n\u001b[1;32m    326\u001b[0m )\n",
      "File \u001b[0;32m/home/conda/cubes-and-clouds/30d8bce6e9d2d3312ad568684b7851b268e5321683bef302b527561c66bcbe23-20240905-143316-989438-487-pangeo/lib/python3.11/site-packages/stackstac/prepare.py:373\u001b[0m, in \u001b[0;36mprepare_items\u001b[0;34m(items, assets, epsg, resolution, bounds, bounds_latlon, snap_bounds, rescale, dtype)\u001b[0m\n\u001b[1;32m    365\u001b[0m         asset_table[item_i, asset_i] \u001b[38;5;241m=\u001b[39m (\n\u001b[1;32m    366\u001b[0m             asset[\u001b[38;5;124m\"\u001b[39m\u001b[38;5;124mhref\u001b[39m\u001b[38;5;124m\"\u001b[39m],\n\u001b[1;32m    367\u001b[0m             asset_bbox_proj,\n\u001b[1;32m    368\u001b[0m             (asset_scale, asset_offset),\n\u001b[1;32m    369\u001b[0m         )\n\u001b[1;32m    370\u001b[0m         \u001b[38;5;66;03m# ^ NOTE: If `asset_bbox_proj` is None, NumPy automatically converts it to NaNs\u001b[39;00m\n\u001b[1;32m    371\u001b[0m \n\u001b[1;32m    372\u001b[0m \u001b[38;5;66;03m# At this point, everything has been set (or there was as error)\u001b[39;00m\n\u001b[0;32m--> 373\u001b[0m \u001b[38;5;28;01massert\u001b[39;00m out_bounds, \u001b[38;5;124mf\u001b[39m\u001b[38;5;124m\"\u001b[39m\u001b[38;5;132;01m{\u001b[39;00mout_bounds\u001b[38;5;132;01m=}\u001b[39;00m\u001b[38;5;124m\"\u001b[39m\n\u001b[1;32m    374\u001b[0m \u001b[38;5;28;01massert\u001b[39;00m out_resolutions_xy \u001b[38;5;129;01mis\u001b[39;00m \u001b[38;5;129;01mnot\u001b[39;00m \u001b[38;5;28;01mNone\u001b[39;00m, \u001b[38;5;124mf\u001b[39m\u001b[38;5;124m\"\u001b[39m\u001b[38;5;132;01m{\u001b[39;00mout_resolutions_xy\u001b[38;5;132;01m=}\u001b[39;00m\u001b[38;5;124m\"\u001b[39m\n\u001b[1;32m    375\u001b[0m \u001b[38;5;28;01massert\u001b[39;00m out_epsg \u001b[38;5;129;01mis\u001b[39;00m \u001b[38;5;129;01mnot\u001b[39;00m \u001b[38;5;28;01mNone\u001b[39;00m, \u001b[38;5;124mf\u001b[39m\u001b[38;5;124m\"\u001b[39m\u001b[38;5;132;01m{\u001b[39;00mout_epsg\u001b[38;5;132;01m=}\u001b[39;00m\u001b[38;5;124m\"\u001b[39m\n",
      "\u001b[0;31mAssertionError\u001b[0m: out_bounds=None"
     ]
    }
   ],
   "source": [
    "bbox = catchment_outline.bounds.iloc[0]\n",
    "temporal_extent = [\"2018-02-01\", \"2018-06-30\"]\n",
    "snow_map_cloud_free = calculate_sca(bbox, temporal_extent)\n",
    "snow_map_cloud_free"
   ]
  },
  {
   "cell_type": "markdown",
   "id": "1079721a-1c43-4956-8a15-f76a76d9c933",
   "metadata": {
    "tags": []
   },
   "source": [
    "## Load snow-station in-situ data\n",
    "Load the _in-situ_ datasets, snow depth station measurements. They have been compiled in the ClirSnow project and are available here: [Snow Cover in the European Alps](https://zenodo.org/record/5109574) with stations in our area of interest. \n",
    "\n",
    "We have made the data available for you already. We can load it directly."
   ]
  },
  {
   "cell_type": "code",
   "execution_count": null,
   "id": "2c712f51-044c-4de9-aa89-814a1fbc94b4",
   "metadata": {
    "tags": []
   },
   "outputs": [],
   "source": [
    "# load snow station datasets from zenodo:: https://zenodo.org/record/5109574\n",
    "station_df = pd.read_csv(\"32_data/data_daily_IT_BZ.csv\")\n",
    "station_df = station_df.assign(Date=station_df.apply(format_date, axis=1))\n",
    "# the format_date function, from _32_cubes_utilities was used to stringify each Datetime object in the dataframe\n",
    "# station_df.head()"
   ]
  },
  {
   "cell_type": "code",
   "execution_count": null,
   "id": "249cd8c1-371b-4010-94a0-c5020bf62d55",
   "metadata": {
    "tags": []
   },
   "outputs": [],
   "source": [
    "# load additional metadata for acessing the station geometries\n",
    "station_df_meta = pd.read_csv(\"32_data/meta_all.csv\")\n",
    "station_df_meta.head()"
   ]
  },
  {
   "cell_type": "markdown",
   "id": "c0a09085-ba4c-497c-b710-404945865f62",
   "metadata": {
    "tags": []
   },
   "source": [
    "## Pre-process and filter _in-situ_ snow station measurements\n",
    "\n",
    "### Filter Temporally\n",
    "Filter the in-situ datasets to match the snow-map time series using the function `station_temporal_filter()` from `cubes_utilities.py`, which merges the station dataframe with additional metadata needed for the Lat/Long information and convert them to geometries"
   ]
  },
  {
   "cell_type": "code",
   "execution_count": null,
   "id": "f7940eb6-4ff6-4d76-83ba-e8e68a68daf4",
   "metadata": {
    "tags": []
   },
   "outputs": [],
   "source": [
    "start_date = \"2018-02-01\"\n",
    "end_date = \"2018-06-30\"\n",
    "\n",
    "snow_stations = station_temporal_filter(station_daily_df = station_df, \n",
    "                                        station_meta_df = station_df_meta,\n",
    "                                        start_date = start_date,\n",
    "                                        end_date = end_date)\n",
    "snow_stations.head()"
   ]
  },
  {
   "cell_type": "markdown",
   "id": "033dc8c3-ae2e-461b-87f8-e6e3b4d81df7",
   "metadata": {},
   "source": [
    "### Filter Spatially\n",
    "Filter the in-situ datasets into the catchment area of interest using `station_spatial_filter()` from `cubes_utilities.py`."
   ]
  },
  {
   "cell_type": "code",
   "execution_count": null,
   "id": "dba8cbb1-990c-41d5-b25c-e1e57f71a9ab",
   "metadata": {
    "tags": []
   },
   "outputs": [],
   "source": [
    "catchment_stations = station_spatial_filter(snow_stations, catchment_outline)\n",
    "catchment_stations.head()"
   ]
  },
  {
   "cell_type": "markdown",
   "id": "90c78ce7-e5bf-4b31-abcd-20bd1fa65ef5",
   "metadata": {},
   "source": [
    "### Plot the filtered stations\n",
    "Visualize location of snow stations"
   ]
  },
  {
   "cell_type": "code",
   "execution_count": null,
   "id": "bda36f9a-4c0a-4b17-b51c-26d4d31bcabf",
   "metadata": {
    "tags": []
   },
   "outputs": [],
   "source": [
    "print(\"There are\", len(np.unique(catchment_stations.Name)), \"unique stations within our catchment area of interest\")"
   ]
  },
  {
   "cell_type": "markdown",
   "id": "b13ca23c-3c4a-43ce-b175-630dc1e6f87f",
   "metadata": {},
   "source": [
    "**_Quick Hint: Remember the number of stations within the catchment for the final quiz exercise_**"
   ]
  },
  {
   "cell_type": "markdown",
   "id": "70832a9b-a1bb-4703-8643-dd3c7ab3b6d7",
   "metadata": {
    "tags": []
   },
   "source": [
    "### Convert snow depth to snow presence\n",
    "The stations are measuring snow depth. We only need the binary information on the presence of snow (yes, no). We use the `binarize_snow()`  function from `cubes_utilities.py` to assign 0 for now snow and 1 for snow in the **snow_presence** column."
   ]
  },
  {
   "cell_type": "code",
   "execution_count": null,
   "id": "4bf0d8d2-f2e0-4392-be2f-02918c39977b",
   "metadata": {
    "tags": []
   },
   "outputs": [],
   "source": [
    "catchment_stations = catchment_stations.assign(snow_presence=catchment_stations.apply(binarize_snow, axis=1))\n",
    "catchment_stations.head()"
   ]
  },
  {
   "cell_type": "markdown",
   "id": "8e3ec45b-b0bf-4d46-af35-c524ce770903",
   "metadata": {},
   "source": [
    "### Save the pre-processed snow station measurements\n",
    "Save snow stations within catchment as GeoJSON"
   ]
  },
  {
   "cell_type": "code",
   "execution_count": null,
   "id": "33cc1440-ce77-4c29-91f6-2bdace7f8c57",
   "metadata": {
    "tags": []
   },
   "outputs": [],
   "source": [
    "with open(\"32_results/catchment_stations.geojson\", \"w\") as file:\n",
    "    file.write(catchment_stations.to_json())"
   ]
  },
  {
   "cell_type": "markdown",
   "id": "64e38b03-2427-4718-8a11-544a6b0cc5aa",
   "metadata": {
    "tags": []
   },
   "source": [
    "## Extract SCA from the data cube per station"
   ]
  },
  {
   "cell_type": "markdown",
   "id": "82a7f129-c2ba-4bf6-aadc-548394a0954c",
   "metadata": {},
   "source": [
    "### Prepare snow station data for usage in openEO\n",
    "Create a buffer of approximately 80 meters (0.00075 degrees) around snow stations and visualize them."
   ]
  },
  {
   "cell_type": "code",
   "execution_count": null,
   "id": "e67e88fb-42ce-4d68-99c2-db7e1ba14ed0",
   "metadata": {
    "tags": []
   },
   "outputs": [],
   "source": [
    "catchment_stations_gpd = gpd.read_file(\"32_results/catchment_stations.geojson\")\n",
    "mappy =leafmap.Map(center=center, zoom=16)\n",
    "mappy.add_vector('32_data/catchment_outline.geojson', layer_name=\"catchment\")\n",
    "mappy.add_gdf(catchment_stations_gpd, layer_name=\"catchment_station\")\n",
    "\n",
    "catchment_stations_gpd[\"geometry\"] = catchment_stations_gpd.geometry.buffer(0.00075)\n",
    "mappy.add_gdf(catchment_stations_gpd, layer_name=\"catchment_station_buffer\")\n",
    "mappy"
   ]
  },
  {
   "cell_type": "markdown",
   "id": "3fb83f8e-0ed5-4cc5-b870-ecb522e43f0c",
   "metadata": {},
   "source": [
    "Convert the unique geometries to Feature Collection to be used in a openEO process."
   ]
  },
  {
   "cell_type": "code",
   "execution_count": null,
   "id": "ec68237a-c549-420e-a670-247d7d87000d",
   "metadata": {
    "tags": []
   },
   "outputs": [],
   "source": [
    "catchment_stations_fc = json.loads(\n",
    "    catchment_stations_gpd.geometry.iloc[:5].to_json()\n",
    ")"
   ]
  },
  {
   "cell_type": "markdown",
   "id": "4e70bd61-c865-4f97-bdbc-f3ca06de250c",
   "metadata": {},
   "source": [
    "### Extract SCA from the data cube per station\n",
    "We exgtract the SCA value of our data cube at the buffered station locations. Therefore we use the process `aggregate_spatial()` with the aggregation method `median()`. This gives us the most common value in the buffer (snow or snowfree)."
   ]
  },
  {
   "cell_type": "code",
   "execution_count": null,
   "id": "660cdb0b-c35c-43d9-8e11-7e0487ed7bf3",
   "metadata": {
    "tags": []
   },
   "outputs": [],
   "source": [
    "snowmap_per_station= snow_map_cloud_free.aggregate_spatial(catchment_stations_fc, reducer=\"median\")\n",
    "snowmap_per_station"
   ]
  },
  {
   "cell_type": "markdown",
   "id": "6417965b-8d86-468e-80a2-6bd26aa3afd4",
   "metadata": {},
   "source": [
    "Create a batch job on the cloud platform. And start it."
   ]
  },
  {
   "cell_type": "code",
   "execution_count": null,
   "id": "b114331e-3206-4c38-8780-72c6bd87f882",
   "metadata": {
    "tags": []
   },
   "outputs": [],
   "source": [
    "snowmap_cloudfree_json = snowmap_per_station.save_result(format=\"JSON\")\n",
    "job = snowmap_cloudfree_json.create_job(title=\"snow_map\")\n",
    "job.start_and_wait()"
   ]
  },
  {
   "cell_type": "markdown",
   "id": "a19d00e4-1f2a-4b00-b048-870bbe944e20",
   "metadata": {},
   "source": [
    "Check the status of the job. And download once it's finished."
   ]
  },
  {
   "cell_type": "code",
   "execution_count": null,
   "id": "ef303390-bb1e-4332-b4b3-478df40f2fb0",
   "metadata": {
    "tags": []
   },
   "outputs": [],
   "source": [
    "job.status()"
   ]
  },
  {
   "cell_type": "code",
   "execution_count": null,
   "id": "5f43f292-9c32-4a5b-821f-8d21be8df5b0",
   "metadata": {
    "tags": []
   },
   "outputs": [],
   "source": [
    "if job.status() == \"finished\":\n",
    "    results = job.get_results()\n",
    "    results.download_files(\"32_results/snowmap/\")"
   ]
  },
  {
   "cell_type": "markdown",
   "id": "b2a9ae00-db74-4a58-93a7-76fe5a833515",
   "metadata": {},
   "source": [
    "Open the snow covered area time series extracted at the stations. We'll have a look at it in a second."
   ]
  },
  {
   "cell_type": "code",
   "execution_count": null,
   "id": "1a5e1cfe-73c1-47cd-9eb0-128db0702edf",
   "metadata": {
    "tags": []
   },
   "outputs": [],
   "source": [
    "with open(\"32_results/snowmap/timeseries.json\",\"r\") as file:\n",
    "    snow_time_series = json.load(file)"
   ]
  },
  {
   "cell_type": "markdown",
   "id": "ad4b1d37-12b1-4967-b8d1-48685c6c5ae8",
   "metadata": {
    "tags": []
   },
   "source": [
    "## Combine station measurements and the extracted SCA from our data cube\n",
    "The **station measurements** are **daily** and all of the stations are combined in **one csv file**. \n",
    "The **extracted SCA values** are in the best case **six-daily** (Sentinel-2 repeat rate) and also all stations are in **one json file**.\n",
    "We will need to join the the extracted SCA with the station measurements by station (and time (selecting the corresponding time steps)"
   ]
  },
  {
   "cell_type": "markdown",
   "id": "f1260ef8-e005-4ac2-be10-1f1e3ab305ac",
   "metadata": {},
   "source": [
    "### Extract snow values from SCA extracted at the station location\n",
    "Let's have a look at the data structure first"
   ]
  },
  {
   "cell_type": "code",
   "execution_count": null,
   "id": "c8155415-5659-424b-a6cd-529439bc0956",
   "metadata": {
    "tags": []
   },
   "outputs": [],
   "source": [
    "dates = [k.split(\"T\")[0] for k in snow_time_series]\n",
    "snow_val_smartino = [snow_time_series[k][0][0] for k in snow_time_series]\n",
    "snow_val_rifiano = [snow_time_series[k][1][0] for k in snow_time_series]\n",
    "snow_val_plata = [snow_time_series[k][2][0] for k in snow_time_series]\n",
    "snow_val_sleonardo = [snow_time_series[k][3][0] for k in snow_time_series]\n",
    "snow_val_scena = [snow_time_series[k][4][0] for k in snow_time_series]"
   ]
  },
  {
   "cell_type": "markdown",
   "id": "eb5779d4-de7e-4a27-ba3d-e7b3da396029",
   "metadata": {},
   "source": [
    "### Match in-situ measurements to dates in SCA \n",
    "Let's have a look at the in-situ measurement data set."
   ]
  },
  {
   "cell_type": "code",
   "execution_count": null,
   "id": "d3755c18-1f3e-4e02-9ba2-8d6abf7c0078",
   "metadata": {
    "tags": []
   },
   "outputs": [],
   "source": [
    "catchment_stations_gpd.sample(10)"
   ]
  },
  {
   "cell_type": "markdown",
   "id": "69909e01-90ea-4f86-b4a0-2e46622d42e5",
   "metadata": {},
   "source": [
    "We are going to extract each station and keep only the dates that are available in the SCA results."
   ]
  },
  {
   "cell_type": "code",
   "execution_count": null,
   "id": "f039220b-ad55-4d2f-9aad-33b5d523e1a4",
   "metadata": {
    "tags": []
   },
   "outputs": [],
   "source": [
    "catchment_stations_gpd_smartino = catchment_stations_gpd.query(\"Name == 'S_Martino_in_Passiria_Osservatore'\")\n",
    "catchment_stations_gpd_smartino = catchment_stations_gpd_smartino[\n",
    "    catchment_stations_gpd_smartino.id.isin(dates)\n",
    "]\n",
    "\n",
    "catchment_stations_gpd_rifiano = catchment_stations_gpd.query(\"Name == 'Rifiano_Beobachter'\")\n",
    "catchment_stations_gpd_rifiano = catchment_stations_gpd_rifiano[\n",
    "    catchment_stations_gpd_rifiano.id.isin(dates)\n",
    "]\n",
    "\n",
    "catchment_stations_gpd_plata = catchment_stations_gpd.query(\"Name == 'Plata_Osservatore'\")\n",
    "catchment_stations_gpd_plata = catchment_stations_gpd_plata[\n",
    "    catchment_stations_gpd_plata.id.isin(dates)\n",
    "]\n",
    "\n",
    "catchment_stations_gpd_sleonardo = catchment_stations_gpd.query(\"Name == 'S_Leonardo_in_Passiria_Osservatore'\")\n",
    "catchment_stations_gpd_sleonardo = catchment_stations_gpd_sleonardo[\n",
    "    catchment_stations_gpd_sleonardo.id.isin(dates)\n",
    "]\n",
    "\n",
    "catchment_stations_gpd_scena = catchment_stations_gpd.query(\"Name == 'Scena_Osservatore'\")\n",
    "catchment_stations_gpd_scena = catchment_stations_gpd_scena[\n",
    "    catchment_stations_gpd_scena.id.isin(dates)\n",
    "]"
   ]
  },
  {
   "cell_type": "markdown",
   "id": "0633819c-c9f0-4a28-9e33-9b68f92834b4",
   "metadata": {
    "tags": []
   },
   "source": [
    "### Combine in-situ measurements with SCA results at the stations \n",
    "The in situ measurements and the SCA are combined into one data set per station. This will be the basis for the validation."
   ]
  },
  {
   "cell_type": "code",
   "execution_count": null,
   "id": "c80657a7-1a50-404f-9f51-ab4787b4a4cb",
   "metadata": {
    "tags": []
   },
   "outputs": [],
   "source": [
    "smartino_snow = assign_site_snow(catchment_stations_gpd_smartino, snow_val_smartino)\n",
    "rifiano_snow = assign_site_snow(catchment_stations_gpd_rifiano, snow_val_rifiano)\n",
    "plata_snow = assign_site_snow(catchment_stations_gpd_plata, snow_val_plata)\n",
    "sleonardo_snow = assign_site_snow(catchment_stations_gpd_sleonardo, snow_val_sleonardo)\n",
    "scena_snow = assign_site_snow(catchment_stations_gpd_scena, snow_val_scena)                                                                    "
   ]
  },
  {
   "cell_type": "markdown",
   "id": "e0eaeefb-426b-4fa7-83f5-0067bbeb1107",
   "metadata": {},
   "source": [
    "Let's have a look at the SCA extracted at the station San Martino and it's in situ measurements."
   ]
  },
  {
   "cell_type": "code",
   "execution_count": null,
   "id": "3aede571-8e46-46c5-898e-d250634b055e",
   "metadata": {
    "tags": []
   },
   "outputs": [],
   "source": [
    "catchment_stations_gpd_plata.sample(5)"
   ]
  },
  {
   "cell_type": "markdown",
   "id": "f82995c3-ccd2-4a76-9cfa-0e149b3e03bc",
   "metadata": {},
   "source": [
    "Display snow presence threshold in in-situ data for Plato Osservatore"
   ]
  },
  {
   "cell_type": "code",
   "execution_count": null,
   "id": "d7201df2-ebf0-4495-8bd9-6d0243349032",
   "metadata": {
    "tags": []
   },
   "outputs": [],
   "source": [
    "catchment_stations_gpd_plata.plot(x=\"id\", y=\"HS_after_gapfill\",rot=45,kind=\"line\",marker='o')\n",
    "plt.axhline(y = 0.4, color = \"r\", linestyle = \"-\")\n",
    "plt.show()"
   ]
  },
  {
   "cell_type": "markdown",
   "id": "16752292-e134-4f28-b325-ead839532951",
   "metadata": {},
   "source": [
    "## Validate the SCA results with the snow station measurements \n",
    "Now that we have combined the SCA results with the snow station measurements we can start the actual validation. A **confusion matrix** compares the classes of the station data to the classes of the SCA result. The numbers can be used to calculate the accuracy (correctly classified cases / all cases).\n",
    "\n",
    "|             | no_snow | snow    |\n",
    "|-------------|---------|---------|\n",
    "| **no_snow** | correct | error   |\n",
    "| **snow**    | error   | correct |"
   ]
  },
  {
   "cell_type": "code",
   "execution_count": null,
   "id": "48fefa34-ae4d-4e43-985c-098ced246af3",
   "metadata": {
    "tags": []
   },
   "outputs": [],
   "source": [
    "import seaborn as sns"
   ]
  },
  {
   "cell_type": "code",
   "execution_count": null,
   "id": "a4a6438d-bf24-4b93-b684-901f6faf0e30",
   "metadata": {
    "tags": []
   },
   "outputs": [],
   "source": [
    "fig, ((ax1, ax2), (ax3, ax4)) = plt.subplots(2, 2, figsize=(10, 6))\n",
    "\n",
    "fig.suptitle(\"Error matrices for snow stations within our selected Catchment\")\n",
    "sns.heatmap(validation_metrics(smartino_snow)[1], annot=True, xticklabels=[\"No Snow\", \"Snow\"], yticklabels=[\"No Snow\", \"Snow\"], ax=ax1)\n",
    "ax1.set_title(\"San Martino in Passiria Osservatore\")\n",
    "ax1.set(xlabel=\"Predicted label\", ylabel=\"True label\")\n",
    "\n",
    "\n",
    "sns.heatmap(validation_metrics(rifiano_snow)[1], annot=True, xticklabels=[\"No Snow\", \"Snow\"], yticklabels=[\"No Snow\", \"Snow\"], ax=ax2)\n",
    "ax2.set_title(\"Rifiano Beobachter\")\n",
    "ax2.set(xlabel=\"Predicted label\", ylabel=\"True label\")\n",
    "\n",
    "\n",
    "sns.heatmap(validation_metrics(plata_snow)[1], annot=True, xticklabels=[\"No Snow\", \"Snow\"], yticklabels=[\"No Snow\", \"Snow\"], ax=ax3)\n",
    "ax3.set_title(\"Plata Osservatore\")\n",
    "ax3.set(xlabel=\"Predicted label\", ylabel=\"True label\")\n",
    "\n",
    "\n",
    "sns.heatmap(validation_metrics(scena_snow)[1], annot=True, xticklabels=[\"No Snow\", \"Snow\"], yticklabels=[\"No Snow\", \"Snow\"], ax=ax4)\n",
    "ax4.set_title(\"Scena Osservatore\")\n",
    "ax4.set(xlabel=\"Predicted label\", ylabel=\"True label\")\n",
    "\n",
    "fig.tight_layout()"
   ]
  },
  {
   "cell_type": "markdown",
   "id": "12ad0abc-1d43-4574-b6d8-916e45fbde61",
   "metadata": {},
   "source": [
    "The **accuracy** of the snow estimate from the satellite image computation for each station is shown below: \n",
    "\n",
    "\n",
    "| **On-site snow station**             | **Accuracy**|\n",
    "|--------------------------------------|-------------|\n",
    "| San Martino in Passiria Osservatore  | **100.00%** |\n",
    "| Rifiano Beobachter                   | **100.00%** |\n",
    "| Plata Osservatore                    |    82.61%   |\n",
    "| San Leonardo in Passiria Osservatore |    NaN      |\n",
    "| Scena Osservatore                    |    96.15%   |"
   ]
  },
  {
   "cell_type": "markdown",
   "id": "372191d3-ae11-4df6-abcd-f0bcb2fa3273",
   "metadata": {},
   "source": [
    "The fifth and last station **San Leonardo in Passiria Osservatore** recorded **_NaNs_** for snow depths for our selected dates, which could potentially be as a results of malfunctioning on-site equipments. Hence, we are not able to verify for it. But overall, the validation shows a 100% accuracy for stations **San Martino in Passiria Osservatore** and **Rifiano Beobachter**, while station **Plata Osservatore** has a lot more False Positive (4) than the other stations.This shows a good match between estimated snow values from satellite datasets and on-the ground measurements of the presence of snow. "
   ]
  },
  {
   "cell_type": "markdown",
   "id": "1f454452-c2e7-4c0c-a8ab-260c7b0e48f0",
   "metadata": {},
   "source": [
    "## Compare to discharge data\n",
    "In addition to computing metrics for validating the data, we also check the plausibility of our results. We compare our results with another measure with a known relationship. In this case, we compare the **snow cover area** time series with the **discharge** time-series at the main outlet of the catchment. We suspect that after snow melting starts, with a temporal lag, the runoff will increase. Let's see if this holds true."
   ]
  },
  {
   "cell_type": "markdown",
   "id": "d2b2ddcd-7493-477a-8fcd-81ea3bc308a6",
   "metadata": {},
   "source": [
    "Load the discharge data at Meran, the main outlet of the catchment. We have prepared this data set for you, it's extracted from Eurac's [Environmental Data Platform Alpine Drought Observatory Discharge Hydrological Datasets](https://edp-portal.eurac.edu/discovery/9e195271-02ae-40be-b3a7-525f57f53c80)). "
   ]
  },
  {
   "cell_type": "code",
   "execution_count": null,
   "id": "bc096eb8-b4d3-4056-9a1f-8c3921009f13",
   "metadata": {
    "tags": []
   },
   "outputs": [],
   "source": [
    "discharge_ds = pd.read_csv('32_data/ADO_DSC_ITH1_0025.csv', \n",
    "                           sep=',', index_col='Time', parse_dates=True)\n",
    "discharge_ds.head()"
   ]
  },
  {
   "cell_type": "markdown",
   "id": "6412118f-b9a3-4e00-811e-99ff77b85515",
   "metadata": {},
   "source": [
    "Load the SCA time series we have generated in a previous exercise. It's the time series of the aggregated snow cover area percentage for the whole catchment."
   ]
  },
  {
   "cell_type": "code",
   "execution_count": null,
   "id": "f10dfcdf-28f5-4d7a-854c-d674f4a34f34",
   "metadata": {
    "tags": []
   },
   "outputs": [],
   "source": [
    "snow_perc_df = pd.read_csv(\"32_data/filtered_snow_perc.csv\", \n",
    "                          sep=',', index_col='time', parse_dates=True)"
   ]
  },
  {
   "cell_type": "markdown",
   "id": "b40c88f7-f520-4889-a79e-731b5540e9ed",
   "metadata": {},
   "source": [
    "Let's plot the relationship between the snow covered area and the discharge in the catchment."
   ]
  },
  {
   "cell_type": "code",
   "execution_count": null,
   "id": "c9e61b7a-5db1-40ef-9fd5-db3896ac0faa",
   "metadata": {
    "tags": []
   },
   "outputs": [],
   "source": [
    "start_date = date(2018, 2, 1)\n",
    "end_date = date(2018, 6, 30)\n",
    "# filter discharge data to start and end dates\n",
    "discharge_ds = discharge_ds.loc[start_date:end_date]\n",
    "\n",
    "ax1 = discharge_ds.discharge_m3_s.plot(label='Discharge', xlabel='', ylabel='Discharge (m$^3$/s)')\n",
    "ax2 = snow_perc_df[\"perc_snow\"].plot(marker='o', secondary_y=True, label='SCA', xlabel='', ylabel='Snow cover area (%)')\n",
    "ax1.legend(loc='center left', bbox_to_anchor=(0, 0.6))\n",
    "ax2.legend(loc='center left', bbox_to_anchor=(0, 0.5))\n",
    "plt.show()"
   ]
  },
  {
   "cell_type": "markdown",
   "id": "5c6b8f01-5cff-4300-8c59-19f321458d38",
   "metadata": {},
   "source": [
    "The relationship looks as expected! Once the snow cover decreases the runoff increases!"
   ]
  }
 ],
 "metadata": {
  "kernelspec": {
   "display_name": "cubes-and-clouds-pangeo",
   "language": "python",
   "name": "conda-env-cubes-and-clouds-pangeo-py"
  },
  "language_info": {
   "codemirror_mode": {
    "name": "ipython",
    "version": 3
   },
   "file_extension": ".py",
   "mimetype": "text/x-python",
   "name": "python",
   "nbconvert_exporter": "python",
   "pygments_lexer": "ipython3",
   "version": "3.11.9"
  },
  "widgets": {
   "application/vnd.jupyter.widget-state+json": {
    "state": {},
    "version_major": 2,
    "version_minor": 0
   }
  }
 },
 "nbformat": 4,
 "nbformat_minor": 5
}
