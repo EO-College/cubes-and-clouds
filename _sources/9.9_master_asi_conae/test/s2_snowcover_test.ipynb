{
 "cells": [
  {
   "cell_type": "markdown",
   "id": "4caf2eef-4d02-47c2-b08d-4091ef13f510",
   "metadata": {},
   "source": [
    "# Sentinel-2 snow cover\n",
    "\n",
    "#### Import libraries"
   ]
  },
  {
   "cell_type": "code",
   "execution_count": 5,
   "id": "42919ddd-ba0a-42d9-b574-34ebb4b520dc",
   "metadata": {},
   "outputs": [],
   "source": [
    "# Sentinel Hub\n",
    "from sentinelhub import (SHConfig, SentinelHubRequest, DataCollection, MimeType, CRS, BBox, bbox_to_dimensions, geometry)\n",
    "\n",
    "# Geospatial libraries\n",
    "import geopandas as gpd\n",
    "\n",
    "from datetime import date\n",
    "\n",
    "import folium"
   ]
  },
  {
   "cell_type": "markdown",
   "id": "95077731-eb91-43a6-8738-1709ab10501f",
   "metadata": {},
   "source": [
    "#### Sentinel-hub authentication"
   ]
  },
  {
   "cell_type": "code",
   "execution_count": 2,
   "id": "e54f3f56-e774-4332-bb35-82c211b6172c",
   "metadata": {},
   "outputs": [],
   "source": [
    "config = SHConfig()\n",
    "config.sh_client_id = %env SH_CLIENT_ID\n",
    "config.sh_client_secret = %env SH_CLIENT_SECRET"
   ]
  },
  {
   "cell_type": "markdown",
   "id": "f768f2c6-c079-48e7-a30a-62401a980fd8",
   "metadata": {},
   "source": [
    "#### Input definition\n",
    "\n",
    "Read the shapefile on which to compute the snow cover map and plot it"
   ]
  },
  {
   "cell_type": "code",
   "execution_count": 3,
   "id": "ca58d65a-0e9a-4dbd-aa79-b13d83701633",
   "metadata": {},
   "outputs": [
    {
     "data": {
      "text/html": [
       "<div style=\"width:100%;\"><div style=\"position:relative;width:100%;height:0;padding-bottom:60%;\"><span style=\"color:#565656\">Make this Notebook Trusted to load map: File -> Trust Notebook</span><iframe srcdoc=\"&lt;!DOCTYPE html&gt;\n",
       "&lt;html&gt;\n",
       "&lt;head&gt;\n",
       "    \n",
       "    &lt;meta http-equiv=&quot;content-type&quot; content=&quot;text/html; charset=UTF-8&quot; /&gt;\n",
       "    \n",
       "        &lt;script&gt;\n",
       "            L_NO_TOUCH = false;\n",
       "            L_DISABLE_3D = false;\n",
       "        &lt;/script&gt;\n",
       "    \n",
       "    &lt;style&gt;html, body {width: 100%;height: 100%;margin: 0;padding: 0;}&lt;/style&gt;\n",
       "    &lt;style&gt;#map {position:absolute;top:0;bottom:0;right:0;left:0;}&lt;/style&gt;\n",
       "    &lt;script src=&quot;https://cdn.jsdelivr.net/npm/leaflet@1.9.3/dist/leaflet.js&quot;&gt;&lt;/script&gt;\n",
       "    &lt;script src=&quot;https://code.jquery.com/jquery-1.12.4.min.js&quot;&gt;&lt;/script&gt;\n",
       "    &lt;script src=&quot;https://cdn.jsdelivr.net/npm/bootstrap@5.2.2/dist/js/bootstrap.bundle.min.js&quot;&gt;&lt;/script&gt;\n",
       "    &lt;script src=&quot;https://cdnjs.cloudflare.com/ajax/libs/Leaflet.awesome-markers/2.0.2/leaflet.awesome-markers.js&quot;&gt;&lt;/script&gt;\n",
       "    &lt;link rel=&quot;stylesheet&quot; href=&quot;https://cdn.jsdelivr.net/npm/leaflet@1.9.3/dist/leaflet.css&quot;/&gt;\n",
       "    &lt;link rel=&quot;stylesheet&quot; href=&quot;https://cdn.jsdelivr.net/npm/bootstrap@5.2.2/dist/css/bootstrap.min.css&quot;/&gt;\n",
       "    &lt;link rel=&quot;stylesheet&quot; href=&quot;https://netdna.bootstrapcdn.com/bootstrap/3.0.0/css/bootstrap.min.css&quot;/&gt;\n",
       "    &lt;link rel=&quot;stylesheet&quot; href=&quot;https://cdn.jsdelivr.net/npm/@fortawesome/fontawesome-free@6.2.0/css/all.min.css&quot;/&gt;\n",
       "    &lt;link rel=&quot;stylesheet&quot; href=&quot;https://cdnjs.cloudflare.com/ajax/libs/Leaflet.awesome-markers/2.0.2/leaflet.awesome-markers.css&quot;/&gt;\n",
       "    &lt;link rel=&quot;stylesheet&quot; href=&quot;https://cdn.jsdelivr.net/gh/python-visualization/folium/folium/templates/leaflet.awesome.rotate.min.css&quot;/&gt;\n",
       "    \n",
       "            &lt;meta name=&quot;viewport&quot; content=&quot;width=device-width,\n",
       "                initial-scale=1.0, maximum-scale=1.0, user-scalable=no&quot; /&gt;\n",
       "            &lt;style&gt;\n",
       "                #map_f29601eeb52a1209e9321bf92132ff08 {\n",
       "                    position: relative;\n",
       "                    width: 100.0%;\n",
       "                    height: 100.0%;\n",
       "                    left: 0.0%;\n",
       "                    top: 0.0%;\n",
       "                }\n",
       "                .leaflet-container { font-size: 1rem; }\n",
       "            &lt;/style&gt;\n",
       "        \n",
       "&lt;/head&gt;\n",
       "&lt;body&gt;\n",
       "    \n",
       "    \n",
       "            &lt;div class=&quot;folium-map&quot; id=&quot;map_f29601eeb52a1209e9321bf92132ff08&quot; &gt;&lt;/div&gt;\n",
       "        \n",
       "&lt;/body&gt;\n",
       "&lt;script&gt;\n",
       "    \n",
       "    \n",
       "            var map_f29601eeb52a1209e9321bf92132ff08 = L.map(\n",
       "                &quot;map_f29601eeb52a1209e9321bf92132ff08&quot;,\n",
       "                {\n",
       "                    center: [46.84433286913514, 11.279845837534058],\n",
       "                    crs: L.CRS.EPSG3857,\n",
       "                    zoom: 11,\n",
       "                    zoomControl: true,\n",
       "                    preferCanvas: false,\n",
       "                }\n",
       "            );\n",
       "\n",
       "            \n",
       "\n",
       "        \n",
       "    \n",
       "            var tile_layer_e2cbd56783e82318a9440ae1f5128606 = L.tileLayer(\n",
       "                &quot;https://{s}.tile.openstreetmap.org/{z}/{x}/{y}.png&quot;,\n",
       "                {&quot;attribution&quot;: &quot;Data by \\u0026copy; \\u003ca target=\\&quot;_blank\\&quot; href=\\&quot;http://openstreetmap.org\\&quot;\\u003eOpenStreetMap\\u003c/a\\u003e, under \\u003ca target=\\&quot;_blank\\&quot; href=\\&quot;http://www.openstreetmap.org/copyright\\&quot;\\u003eODbL\\u003c/a\\u003e.&quot;, &quot;detectRetina&quot;: false, &quot;maxNativeZoom&quot;: 18, &quot;maxZoom&quot;: 18, &quot;minZoom&quot;: 0, &quot;noWrap&quot;: false, &quot;opacity&quot;: 1, &quot;subdomains&quot;: &quot;abc&quot;, &quot;tms&quot;: false}\n",
       "            ).addTo(map_f29601eeb52a1209e9321bf92132ff08);\n",
       "        \n",
       "    \n",
       "\n",
       "        function geo_json_9b1d63a04f67c0707252a97c1bd4a37d_onEachFeature(feature, layer) {\n",
       "            layer.on({\n",
       "            });\n",
       "        };\n",
       "        var geo_json_9b1d63a04f67c0707252a97c1bd4a37d = L.geoJson(null, {\n",
       "                onEachFeature: geo_json_9b1d63a04f67c0707252a97c1bd4a37d_onEachFeature,\n",
       "            \n",
       "        });\n",
       "\n",
       "        function geo_json_9b1d63a04f67c0707252a97c1bd4a37d_add (data) {\n",
       "            geo_json_9b1d63a04f67c0707252a97c1bd4a37d\n",
       "                .addData(data)\n",
       "                .addTo(map_f29601eeb52a1209e9321bf92132ff08);\n",
       "        }\n",
       "            geo_json_9b1d63a04f67c0707252a97c1bd4a37d_add({&quot;features&quot;: [{&quot;geometry&quot;: {&quot;coordinates&quot;: [[[11.177188161798057, 46.699056915737], [11.206029922675356, 46.722893110726375], [11.326795356122659, 46.72672132295378], [11.368679321480357, 46.77407296769147], [11.43150526951618, 46.80466199337738], [11.47199311038321, 46.857769612391934], [11.423128494619476, 46.888788127800325], [11.442674345119258, 46.93552061086038], [11.421034296351706, 46.94648253455131], [11.349831555243838, 46.966494169246516], [11.273742351510776, 46.959824455885496], [11.216500932188893, 46.93599726290836], [11.126927404246942, 46.90309831922846], [11.112268015263169, 46.82912123213768], [11.154151980721707, 46.81861299569002], [11.08294923961381, 46.784208042639904], [11.127625469328876, 46.75265084088673], [11.191847549672644, 46.75934633757268], [11.177188161798057, 46.699056915737]]], &quot;type&quot;: &quot;Polygon&quot;}, &quot;id&quot;: &quot;0&quot;, &quot;properties&quot;: {}, &quot;type&quot;: &quot;Feature&quot;}], &quot;type&quot;: &quot;FeatureCollection&quot;});\n",
       "\n",
       "        \n",
       "&lt;/script&gt;\n",
       "&lt;/html&gt;\" style=\"position:absolute;width:100%;height:100%;left:0;top:0;border:none !important;\" allowfullscreen webkitallowfullscreen mozallowfullscreen></iframe></div></div>"
      ],
      "text/plain": [
       "<folium.folium.Map at 0x7f8337ddd430>"
      ]
     },
     "execution_count": 3,
     "metadata": {},
     "output_type": "execute_result"
    }
   ],
   "source": [
    "# Read the file with geopandas and convert it to EPSG:4326\n",
    "aoi_df = gpd.read_file('ADO_DSC_ITH1_0025.geojson')\n",
    "aoi_df = aoi_df.to_crs(4326)\n",
    "\n",
    "# Create a basemap with folium\n",
    "m = folium.Map(\n",
    "    location=[aoi_df.to_crs(4326).iloc[0].geometry.centroid.y, aoi_df.to_crs(4326).iloc[0].geometry.centroid.x],\n",
    "    zoom_start=11)\n",
    "\n",
    "# Add the polygon to the map\n",
    "geo_j = folium.GeoJson(data=aoi_df.to_json())\n",
    "geo_j.add_to(m)\n",
    "\n",
    "# Show the map\n",
    "m"
   ]
  },
  {
   "cell_type": "markdown",
   "id": "77ba861c-ad15-40a5-bc2d-0dc686d4ebed",
   "metadata": {},
   "source": [
    "Select a date"
   ]
  },
  {
   "cell_type": "code",
   "execution_count": 6,
   "id": "3243189c-25aa-423b-b1f8-8c7f9ff8e552",
   "metadata": {},
   "outputs": [],
   "source": [
    "start_date = date(2018, 4, 1)\n",
    "end_date = date(2018, 4, 15)"
   ]
  },
  {
   "cell_type": "markdown",
   "id": "f72787a6-14f2-4433-87ca-719f713f0ce4",
   "metadata": {},
   "source": [
    "#### Snowcover map generation"
   ]
  },
  {
   "cell_type": "markdown",
   "id": "76e8afb0-3b69-42d1-872b-ec858bd76ea9",
   "metadata": {},
   "source": [
    "Generate the snow cover map on the selected AOI and date from S2L1C"
   ]
  },
  {
   "cell_type": "code",
   "execution_count": 8,
   "id": "ca74e02b-9060-49a9-9d76-b1ba9691117a",
   "metadata": {},
   "outputs": [],
   "source": [
    "evalscript_snowcover = \"\"\"\n",
    "\n",
    "//VERSION=3\n",
    "\n",
    "function setup() {\n",
    "  return {\n",
    "    input: [\"B03\", \"B04\", \"B08\", \"B11\", \"CLM\", \"dataMask\"],\n",
    "    output: {bands: 1, sampleType: \"UINT8\"}\n",
    "  };\n",
    "}\n",
    "\n",
    "function calc_snow_mask(NDVI, NDSI, B03){\n",
    " \n",
    "  let si = (NDSI >= 0.4) ? 1 : (Math.abs(NDVI - 0.1) <= 0.025 ? 1 : 0);\n",
    "  let br = B03 > 0.3;\n",
    " \n",
    "  return si && br;\n",
    "}\n",
    "\n",
    "function evaluatePixel(sample) {\n",
    "  \n",
    "  // Calculate indices\n",
    "  var NDSI = (sample.B03 - sample.B11) / (sample.B03 + sample.B11);\n",
    "  var NDVI = (sample.B08 - sample.B04) / (sample.B08 + sample.B04);\n",
    "  \n",
    "  // Calculate snowmask\n",
    "  var snow = calc_snow_mask(NDVI, NDSI, sample.B03);  \n",
    "  \n",
    "  // Create the snow mask with clouds\n",
    "  if (sample.dataMask == 0){\n",
    "      return [0];\n",
    "  }\n",
    "  else if (sample.CLM == 1){\n",
    "      return [3];\n",
    "  }\n",
    "  else if (snow == 1){\n",
    "      return [1];\n",
    "  }\n",
    "  else if (snow == 0){\n",
    "      return [2];\n",
    "  }\n",
    "  \n",
    "\n",
    "}\n",
    "\"\"\"\n",
    "\n",
    "aoi = geometry.Geometry(aoi_df.geometry.iloc[0], CRS.WGS84)\n",
    "\n",
    "request_snowcover = SentinelHubRequest(\n",
    "    evalscript=evalscript_snowcover,\n",
    "    input_data=[\n",
    "        SentinelHubRequest.input_data(\n",
    "            data_collection=DataCollection.SENTINEL2_L1C,\n",
    "            time_interval=(start_date, end_date),\n",
    "        )\n",
    "    ],\n",
    "    responses=[SentinelHubRequest.output_response('default', MimeType.TIFF)],\n",
    "    geometry=aoi,\n",
    "    size=bbox_to_dimensions(aoi.bbox, resolution=100),\n",
    "    config=config\n",
    ")\n",
    "\n",
    "snowcover = request_snowcover.get_data()"
   ]
  },
  {
   "cell_type": "code",
   "execution_count": 11,
   "id": "dfcaa117-d73f-4b25-90b7-5e37dd0c1634",
   "metadata": {},
   "outputs": [
    {
     "data": {
      "text/plain": [
       "1"
      ]
     },
     "execution_count": 11,
     "metadata": {},
     "output_type": "execute_result"
    }
   ],
   "source": [
    "len(snowcover)"
   ]
  },
  {
   "cell_type": "markdown",
   "id": "dfdf9e67-05d1-4c05-a119-8b8d11a8481b",
   "metadata": {},
   "source": [
    "Generate the corresponding RGB image"
   ]
  },
  {
   "cell_type": "code",
   "execution_count": null,
   "id": "f6811256-e9c7-45bf-8321-423d99dfb0e7",
   "metadata": {},
   "outputs": [],
   "source": []
  },
  {
   "cell_type": "code",
   "execution_count": null,
   "id": "9d755e40-6e28-4648-b859-ef85bc9b3b62",
   "metadata": {},
   "outputs": [],
   "source": []
  },
  {
   "cell_type": "code",
   "execution_count": 10,
   "id": "e15cc1b0-1005-41d7-8bdd-7cd13755648b",
   "metadata": {},
   "outputs": [
    {
     "ename": "DownloadFailedException",
     "evalue": "Failed to download from:\nhttps://services.sentinel-hub.com/api/v1/process\nwith HTTPError:\n400 Client Error: Bad Request for url: https://services.sentinel-hub.com/api/v1/process\nServer response: \"{\"status\": 400, \"reason\": \"Bad Request\", \"message\": \"Invalid request\", \"code\": \"COMMON_BAD_PAYLOAD\", \"errors\": [{\"parameter\": \"output->width\", \"invalidValue\": 2881, \"violation\": \"must be less than or equal to 2500\", \"description\": \"The request image width. Must be an integer between 1 and 2500. <br />*Only one pair of parameters \\\"width\\\"/\\\"height\\\" or \\\"resx\\\"/\\\"resy\\\" must be set at the same time.*\"}, {\"parameter\": \"output->height\", \"invalidValue\": 3058, \"violation\": \"must be less than or equal to 2500\", \"description\": \"The request image height. Must be an integer between 1 and 2500. <br />*Only one pair of parameters \\\"width\\\"/\\\"height\\\" or \\\"resx\\\"/\\\"resy\\\" must be set at the same time.*\"}]}\"",
     "output_type": "error",
     "traceback": [
      "\u001b[0;31m---------------------------------------------------------------------------\u001b[0m",
      "\u001b[0;31mHTTPError\u001b[0m                                 Traceback (most recent call last)",
      "File \u001b[0;32m/home/conda/master-asi-conae/315434deb1b1e05eacacc41e1b0529b1837100f46402a32041d77ba54ae6c5f3-20230213-125825-013239-74-edc-2022.10-14/lib/python3.9/site-packages/sentinelhub/download/handlers.py:41\u001b[0m, in \u001b[0;36mfail_user_errors.<locals>.new_download_func\u001b[0;34m(self, request)\u001b[0m\n\u001b[1;32m     40\u001b[0m \u001b[38;5;28;01mtry\u001b[39;00m:\n\u001b[0;32m---> 41\u001b[0m     \u001b[38;5;28;01mreturn\u001b[39;00m \u001b[43mdownload_func\u001b[49m\u001b[43m(\u001b[49m\u001b[38;5;28;43mself\u001b[39;49m\u001b[43m,\u001b[49m\u001b[43m \u001b[49m\u001b[43mrequest\u001b[49m\u001b[43m)\u001b[49m\n\u001b[1;32m     42\u001b[0m \u001b[38;5;28;01mexcept\u001b[39;00m requests\u001b[38;5;241m.\u001b[39mHTTPError \u001b[38;5;28;01mas\u001b[39;00m exception:\n",
      "File \u001b[0;32m/home/conda/master-asi-conae/315434deb1b1e05eacacc41e1b0529b1837100f46402a32041d77ba54ae6c5f3-20230213-125825-013239-74-edc-2022.10-14/lib/python3.9/site-packages/sentinelhub/download/sentinelhub_client.py:90\u001b[0m, in \u001b[0;36mSentinelHubDownloadClient._execute_download\u001b[0;34m(self, request)\u001b[0m\n\u001b[1;32m     88\u001b[0m     \u001b[38;5;28;01mcontinue\u001b[39;00m\n\u001b[0;32m---> 90\u001b[0m \u001b[43mresponse\u001b[49m\u001b[38;5;241;43m.\u001b[39;49m\u001b[43mraise_for_status\u001b[49m\u001b[43m(\u001b[49m\u001b[43m)\u001b[49m\n\u001b[1;32m     92\u001b[0m LOGGER\u001b[38;5;241m.\u001b[39mdebug(\u001b[38;5;124m\"\u001b[39m\u001b[38;5;124mSuccessful \u001b[39m\u001b[38;5;132;01m%s\u001b[39;00m\u001b[38;5;124m request to \u001b[39m\u001b[38;5;132;01m%s\u001b[39;00m\u001b[38;5;124m\"\u001b[39m, request\u001b[38;5;241m.\u001b[39mrequest_type\u001b[38;5;241m.\u001b[39mvalue, request\u001b[38;5;241m.\u001b[39murl)\n",
      "File \u001b[0;32m/home/conda/master-asi-conae/315434deb1b1e05eacacc41e1b0529b1837100f46402a32041d77ba54ae6c5f3-20230213-125825-013239-74-edc-2022.10-14/lib/python3.9/site-packages/requests/models.py:1021\u001b[0m, in \u001b[0;36mResponse.raise_for_status\u001b[0;34m(self)\u001b[0m\n\u001b[1;32m   1020\u001b[0m \u001b[38;5;28;01mif\u001b[39;00m http_error_msg:\n\u001b[0;32m-> 1021\u001b[0m     \u001b[38;5;28;01mraise\u001b[39;00m HTTPError(http_error_msg, response\u001b[38;5;241m=\u001b[39m\u001b[38;5;28mself\u001b[39m)\n",
      "\u001b[0;31mHTTPError\u001b[0m: 400 Client Error: Bad Request for url: https://services.sentinel-hub.com/api/v1/process",
      "\nThe above exception was the direct cause of the following exception:\n",
      "\u001b[0;31mDownloadFailedException\u001b[0m                   Traceback (most recent call last)",
      "Cell \u001b[0;32mIn[10], line 32\u001b[0m\n\u001b[1;32m      2\u001b[0m evalscript_rgb \u001b[38;5;241m=\u001b[39m \u001b[38;5;124m\"\"\"\u001b[39m\n\u001b[1;32m      3\u001b[0m \u001b[38;5;124m //VERSION=3\u001b[39m\n\u001b[1;32m      4\u001b[0m \u001b[38;5;124mfunction setup()\u001b[39m\u001b[38;5;124m{\u001b[39m\n\u001b[0;32m   (...)\u001b[0m\n\u001b[1;32m     16\u001b[0m \u001b[38;5;124m}\u001b[39m\n\u001b[1;32m     17\u001b[0m \u001b[38;5;124m\"\"\"\u001b[39m\n\u001b[1;32m     18\u001b[0m request_rgb \u001b[38;5;241m=\u001b[39m SentinelHubRequest(\n\u001b[1;32m     19\u001b[0m     evalscript\u001b[38;5;241m=\u001b[39mevalscript_rgb,\n\u001b[1;32m     20\u001b[0m     input_data\u001b[38;5;241m=\u001b[39m[\n\u001b[0;32m   (...)\u001b[0m\n\u001b[1;32m     30\u001b[0m     config\u001b[38;5;241m=\u001b[39mconfig\n\u001b[1;32m     31\u001b[0m )\n\u001b[0;32m---> 32\u001b[0m rgb_response \u001b[38;5;241m=\u001b[39m \u001b[43mrequest_rgb\u001b[49m\u001b[38;5;241;43m.\u001b[39;49m\u001b[43mget_data\u001b[49m\u001b[43m(\u001b[49m\u001b[43m)\u001b[49m\n",
      "File \u001b[0;32m/home/conda/master-asi-conae/315434deb1b1e05eacacc41e1b0529b1837100f46402a32041d77ba54ae6c5f3-20230213-125825-013239-74-edc-2022.10-14/lib/python3.9/site-packages/sentinelhub/base.py:110\u001b[0m, in \u001b[0;36mDataRequest.get_data\u001b[0;34m(self, save_data, redownload, data_filter, max_threads, decode_data, raise_download_errors, show_progress)\u001b[0m\n\u001b[1;32m     88\u001b[0m \u001b[38;5;250m\u001b[39m\u001b[38;5;124;03m\"\"\"Get requested data either by downloading it or by reading it from the disk (if it\u001b[39;00m\n\u001b[1;32m     89\u001b[0m \u001b[38;5;124;03mwas previously downloaded and saved).\u001b[39;00m\n\u001b[1;32m     90\u001b[0m \n\u001b[0;32m   (...)\u001b[0m\n\u001b[1;32m    107\u001b[0m \u001b[38;5;124;03m    shape ``[height, width, channels]``.\u001b[39;00m\n\u001b[1;32m    108\u001b[0m \u001b[38;5;124;03m\"\"\"\u001b[39;00m\n\u001b[1;32m    109\u001b[0m \u001b[38;5;28mself\u001b[39m\u001b[38;5;241m.\u001b[39m_preprocess_request(save_data, \u001b[38;5;28;01mTrue\u001b[39;00m)\n\u001b[0;32m--> 110\u001b[0m \u001b[38;5;28;01mreturn\u001b[39;00m \u001b[38;5;28;43mself\u001b[39;49m\u001b[38;5;241;43m.\u001b[39;49m\u001b[43m_execute_data_download\u001b[49m\u001b[43m(\u001b[49m\n\u001b[1;32m    111\u001b[0m \u001b[43m    \u001b[49m\u001b[43mdata_filter\u001b[49m\u001b[43m,\u001b[49m\n\u001b[1;32m    112\u001b[0m \u001b[43m    \u001b[49m\u001b[43mredownload\u001b[49m\u001b[43m,\u001b[49m\n\u001b[1;32m    113\u001b[0m \u001b[43m    \u001b[49m\u001b[43mmax_threads\u001b[49m\u001b[43m,\u001b[49m\n\u001b[1;32m    114\u001b[0m \u001b[43m    \u001b[49m\u001b[43mraise_download_errors\u001b[49m\u001b[43m,\u001b[49m\n\u001b[1;32m    115\u001b[0m \u001b[43m    \u001b[49m\u001b[43mdecode_data\u001b[49m\u001b[38;5;241;43m=\u001b[39;49m\u001b[43mdecode_data\u001b[49m\u001b[43m,\u001b[49m\n\u001b[1;32m    116\u001b[0m \u001b[43m    \u001b[49m\u001b[43mshow_progress\u001b[49m\u001b[38;5;241;43m=\u001b[39;49m\u001b[43mshow_progress\u001b[49m\u001b[43m,\u001b[49m\n\u001b[1;32m    117\u001b[0m \u001b[43m\u001b[49m\u001b[43m)\u001b[49m\n",
      "File \u001b[0;32m/home/conda/master-asi-conae/315434deb1b1e05eacacc41e1b0529b1837100f46402a32041d77ba54ae6c5f3-20230213-125825-013239-74-edc-2022.10-14/lib/python3.9/site-packages/sentinelhub/base.py:184\u001b[0m, in \u001b[0;36mDataRequest._execute_data_download\u001b[0;34m(self, data_filter, redownload, max_threads, raise_download_errors, decode_data, show_progress)\u001b[0m\n\u001b[1;32m    179\u001b[0m     \u001b[38;5;28;01mraise\u001b[39;00m \u001b[38;5;167;01mValueError\u001b[39;00m(\u001b[38;5;124m\"\u001b[39m\u001b[38;5;124mdata_filter parameter must be a list of indices\u001b[39m\u001b[38;5;124m\"\u001b[39m)\n\u001b[1;32m    181\u001b[0m client \u001b[38;5;241m=\u001b[39m \u001b[38;5;28mself\u001b[39m\u001b[38;5;241m.\u001b[39mdownload_client_class(\n\u001b[1;32m    182\u001b[0m     redownload\u001b[38;5;241m=\u001b[39mredownload, raise_download_errors\u001b[38;5;241m=\u001b[39mraise_download_errors, config\u001b[38;5;241m=\u001b[39m\u001b[38;5;28mself\u001b[39m\u001b[38;5;241m.\u001b[39mconfig\n\u001b[1;32m    183\u001b[0m )\n\u001b[0;32m--> 184\u001b[0m data_list \u001b[38;5;241m=\u001b[39m \u001b[43mclient\u001b[49m\u001b[38;5;241;43m.\u001b[39;49m\u001b[43mdownload\u001b[49m\u001b[43m(\u001b[49m\n\u001b[1;32m    185\u001b[0m \u001b[43m    \u001b[49m\u001b[43mfiltered_download_list\u001b[49m\u001b[43m,\u001b[49m\u001b[43m \u001b[49m\u001b[43mmax_threads\u001b[49m\u001b[38;5;241;43m=\u001b[39;49m\u001b[43mmax_threads\u001b[49m\u001b[43m,\u001b[49m\u001b[43m \u001b[49m\u001b[43mdecode_data\u001b[49m\u001b[38;5;241;43m=\u001b[39;49m\u001b[43mdecode_data\u001b[49m\u001b[43m,\u001b[49m\u001b[43m \u001b[49m\u001b[43mshow_progress\u001b[49m\u001b[38;5;241;43m=\u001b[39;49m\u001b[43mshow_progress\u001b[49m\n\u001b[1;32m    186\u001b[0m \u001b[43m\u001b[49m\u001b[43m)\u001b[49m\n\u001b[1;32m    188\u001b[0m \u001b[38;5;28;01mif\u001b[39;00m is_repeating_filter:\n\u001b[1;32m    189\u001b[0m     data_list \u001b[38;5;241m=\u001b[39m [copy\u001b[38;5;241m.\u001b[39mdeepcopy(data_list[index]) \u001b[38;5;28;01mfor\u001b[39;00m index \u001b[38;5;129;01min\u001b[39;00m mapping_list]\n",
      "File \u001b[0;32m/home/conda/master-asi-conae/315434deb1b1e05eacacc41e1b0529b1837100f46402a32041d77ba54ae6c5f3-20230213-125825-013239-74-edc-2022.10-14/lib/python3.9/site-packages/sentinelhub/download/sentinelhub_client.py:62\u001b[0m, in \u001b[0;36mSentinelHubDownloadClient.download\u001b[0;34m(self, *args, **kwargs)\u001b[0m\n\u001b[1;32m     60\u001b[0m \u001b[38;5;28mself\u001b[39m\u001b[38;5;241m.\u001b[39mlock \u001b[38;5;241m=\u001b[39m Lock()\n\u001b[1;32m     61\u001b[0m \u001b[38;5;28;01mtry\u001b[39;00m:\n\u001b[0;32m---> 62\u001b[0m     \u001b[38;5;28;01mreturn\u001b[39;00m \u001b[38;5;28;43msuper\u001b[39;49m\u001b[43m(\u001b[49m\u001b[43m)\u001b[49m\u001b[38;5;241;43m.\u001b[39;49m\u001b[43mdownload\u001b[49m\u001b[43m(\u001b[49m\u001b[38;5;241;43m*\u001b[39;49m\u001b[43margs\u001b[49m\u001b[43m,\u001b[49m\u001b[43m \u001b[49m\u001b[38;5;241;43m*\u001b[39;49m\u001b[38;5;241;43m*\u001b[39;49m\u001b[43mkwargs\u001b[49m\u001b[43m)\u001b[49m\n\u001b[1;32m     63\u001b[0m \u001b[38;5;28;01mfinally\u001b[39;00m:\n\u001b[1;32m     64\u001b[0m     \u001b[38;5;28mself\u001b[39m\u001b[38;5;241m.\u001b[39mlock \u001b[38;5;241m=\u001b[39m \u001b[38;5;28;01mNone\u001b[39;00m\n",
      "File \u001b[0;32m/home/conda/master-asi-conae/315434deb1b1e05eacacc41e1b0529b1837100f46402a32041d77ba54ae6c5f3-20230213-125825-013239-74-edc-2022.10-14/lib/python3.9/site-packages/sentinelhub/download/client.py:113\u001b[0m, in \u001b[0;36mDownloadClient.download\u001b[0;34m(self, download_requests, max_threads, decode_data, show_progress)\u001b[0m\n\u001b[1;32m    111\u001b[0m     \u001b[38;5;28;01melse\u001b[39;00m:\n\u001b[1;32m    112\u001b[0m         \u001b[38;5;28;01mfor\u001b[39;00m future \u001b[38;5;129;01min\u001b[39;00m as_completed(download_list):\n\u001b[0;32m--> 113\u001b[0m             data_list[future_order[future]] \u001b[38;5;241m=\u001b[39m \u001b[38;5;28;43mself\u001b[39;49m\u001b[38;5;241;43m.\u001b[39;49m\u001b[43m_process_download_future\u001b[49m\u001b[43m(\u001b[49m\u001b[43mfuture\u001b[49m\u001b[43m)\u001b[49m\n\u001b[1;32m    115\u001b[0m \u001b[38;5;28;01mif\u001b[39;00m \u001b[38;5;28misinstance\u001b[39m(download_requests, DownloadRequest):\n\u001b[1;32m    116\u001b[0m     \u001b[38;5;28;01mreturn\u001b[39;00m data_list[\u001b[38;5;241m0\u001b[39m]\n",
      "File \u001b[0;32m/home/conda/master-asi-conae/315434deb1b1e05eacacc41e1b0529b1837100f46402a32041d77ba54ae6c5f3-20230213-125825-013239-74-edc-2022.10-14/lib/python3.9/site-packages/sentinelhub/download/client.py:126\u001b[0m, in \u001b[0;36mDownloadClient._process_download_future\u001b[0;34m(self, future)\u001b[0m\n\u001b[1;32m    124\u001b[0m \u001b[38;5;28;01mif\u001b[39;00m \u001b[38;5;28mself\u001b[39m\u001b[38;5;241m.\u001b[39mraise_download_errors:\n\u001b[1;32m    125\u001b[0m     traceback \u001b[38;5;241m=\u001b[39m sys\u001b[38;5;241m.\u001b[39mexc_info()[\u001b[38;5;241m2\u001b[39m]\n\u001b[0;32m--> 126\u001b[0m     \u001b[38;5;28;01mraise\u001b[39;00m download_exception\u001b[38;5;241m.\u001b[39mwith_traceback(traceback)\n\u001b[1;32m    128\u001b[0m warnings\u001b[38;5;241m.\u001b[39mwarn(\u001b[38;5;28mstr\u001b[39m(download_exception), category\u001b[38;5;241m=\u001b[39mSHRuntimeWarning)\n\u001b[1;32m    129\u001b[0m \u001b[38;5;28;01mreturn\u001b[39;00m \u001b[38;5;28;01mNone\u001b[39;00m\n",
      "File \u001b[0;32m/home/conda/master-asi-conae/315434deb1b1e05eacacc41e1b0529b1837100f46402a32041d77ba54ae6c5f3-20230213-125825-013239-74-edc-2022.10-14/lib/python3.9/site-packages/sentinelhub/download/client.py:122\u001b[0m, in \u001b[0;36mDownloadClient._process_download_future\u001b[0;34m(self, future)\u001b[0m\n\u001b[1;32m    120\u001b[0m \u001b[38;5;250m\u001b[39m\u001b[38;5;124;03m\"\"\"Unpacks the future and correctly handles exceptions\"\"\"\u001b[39;00m\n\u001b[1;32m    121\u001b[0m \u001b[38;5;28;01mtry\u001b[39;00m:\n\u001b[0;32m--> 122\u001b[0m     \u001b[38;5;28;01mreturn\u001b[39;00m \u001b[43mfuture\u001b[49m\u001b[38;5;241;43m.\u001b[39;49m\u001b[43mresult\u001b[49m\u001b[43m(\u001b[49m\u001b[43m)\u001b[49m\n\u001b[1;32m    123\u001b[0m \u001b[38;5;28;01mexcept\u001b[39;00m DownloadFailedException \u001b[38;5;28;01mas\u001b[39;00m download_exception:\n\u001b[1;32m    124\u001b[0m     \u001b[38;5;28;01mif\u001b[39;00m \u001b[38;5;28mself\u001b[39m\u001b[38;5;241m.\u001b[39mraise_download_errors:\n",
      "File \u001b[0;32m/home/conda/master-asi-conae/315434deb1b1e05eacacc41e1b0529b1837100f46402a32041d77ba54ae6c5f3-20230213-125825-013239-74-edc-2022.10-14/lib/python3.9/concurrent/futures/_base.py:439\u001b[0m, in \u001b[0;36mFuture.result\u001b[0;34m(self, timeout)\u001b[0m\n\u001b[1;32m    437\u001b[0m     \u001b[38;5;28;01mraise\u001b[39;00m CancelledError()\n\u001b[1;32m    438\u001b[0m \u001b[38;5;28;01melif\u001b[39;00m \u001b[38;5;28mself\u001b[39m\u001b[38;5;241m.\u001b[39m_state \u001b[38;5;241m==\u001b[39m FINISHED:\n\u001b[0;32m--> 439\u001b[0m     \u001b[38;5;28;01mreturn\u001b[39;00m \u001b[38;5;28;43mself\u001b[39;49m\u001b[38;5;241;43m.\u001b[39;49m\u001b[43m__get_result\u001b[49m\u001b[43m(\u001b[49m\u001b[43m)\u001b[49m\n\u001b[1;32m    441\u001b[0m \u001b[38;5;28mself\u001b[39m\u001b[38;5;241m.\u001b[39m_condition\u001b[38;5;241m.\u001b[39mwait(timeout)\n\u001b[1;32m    443\u001b[0m \u001b[38;5;28;01mif\u001b[39;00m \u001b[38;5;28mself\u001b[39m\u001b[38;5;241m.\u001b[39m_state \u001b[38;5;129;01min\u001b[39;00m [CANCELLED, CANCELLED_AND_NOTIFIED]:\n",
      "File \u001b[0;32m/home/conda/master-asi-conae/315434deb1b1e05eacacc41e1b0529b1837100f46402a32041d77ba54ae6c5f3-20230213-125825-013239-74-edc-2022.10-14/lib/python3.9/concurrent/futures/_base.py:391\u001b[0m, in \u001b[0;36mFuture.__get_result\u001b[0;34m(self)\u001b[0m\n\u001b[1;32m    389\u001b[0m \u001b[38;5;28;01mif\u001b[39;00m \u001b[38;5;28mself\u001b[39m\u001b[38;5;241m.\u001b[39m_exception:\n\u001b[1;32m    390\u001b[0m     \u001b[38;5;28;01mtry\u001b[39;00m:\n\u001b[0;32m--> 391\u001b[0m         \u001b[38;5;28;01mraise\u001b[39;00m \u001b[38;5;28mself\u001b[39m\u001b[38;5;241m.\u001b[39m_exception\n\u001b[1;32m    392\u001b[0m     \u001b[38;5;28;01mfinally\u001b[39;00m:\n\u001b[1;32m    393\u001b[0m         \u001b[38;5;66;03m# Break a reference cycle with the exception in self._exception\u001b[39;00m\n\u001b[1;32m    394\u001b[0m         \u001b[38;5;28mself\u001b[39m \u001b[38;5;241m=\u001b[39m \u001b[38;5;28;01mNone\u001b[39;00m\n",
      "File \u001b[0;32m/home/conda/master-asi-conae/315434deb1b1e05eacacc41e1b0529b1837100f46402a32041d77ba54ae6c5f3-20230213-125825-013239-74-edc-2022.10-14/lib/python3.9/concurrent/futures/thread.py:58\u001b[0m, in \u001b[0;36m_WorkItem.run\u001b[0;34m(self)\u001b[0m\n\u001b[1;32m     55\u001b[0m     \u001b[38;5;28;01mreturn\u001b[39;00m\n\u001b[1;32m     57\u001b[0m \u001b[38;5;28;01mtry\u001b[39;00m:\n\u001b[0;32m---> 58\u001b[0m     result \u001b[38;5;241m=\u001b[39m \u001b[38;5;28;43mself\u001b[39;49m\u001b[38;5;241;43m.\u001b[39;49m\u001b[43mfn\u001b[49m\u001b[43m(\u001b[49m\u001b[38;5;241;43m*\u001b[39;49m\u001b[38;5;28;43mself\u001b[39;49m\u001b[38;5;241;43m.\u001b[39;49m\u001b[43margs\u001b[49m\u001b[43m,\u001b[49m\u001b[43m \u001b[49m\u001b[38;5;241;43m*\u001b[39;49m\u001b[38;5;241;43m*\u001b[39;49m\u001b[38;5;28;43mself\u001b[39;49m\u001b[38;5;241;43m.\u001b[39;49m\u001b[43mkwargs\u001b[49m\u001b[43m)\u001b[49m\n\u001b[1;32m     59\u001b[0m \u001b[38;5;28;01mexcept\u001b[39;00m \u001b[38;5;167;01mBaseException\u001b[39;00m \u001b[38;5;28;01mas\u001b[39;00m exc:\n\u001b[1;32m     60\u001b[0m     \u001b[38;5;28mself\u001b[39m\u001b[38;5;241m.\u001b[39mfuture\u001b[38;5;241m.\u001b[39mset_exception(exc)\n",
      "File \u001b[0;32m/home/conda/master-asi-conae/315434deb1b1e05eacacc41e1b0529b1837100f46402a32041d77ba54ae6c5f3-20230213-125825-013239-74-edc-2022.10-14/lib/python3.9/site-packages/sentinelhub/download/client.py:133\u001b[0m, in \u001b[0;36mDownloadClient._single_download_decoded\u001b[0;34m(self, request)\u001b[0m\n\u001b[1;32m    131\u001b[0m \u001b[38;5;28;01mdef\u001b[39;00m \u001b[38;5;21m_single_download_decoded\u001b[39m(\u001b[38;5;28mself\u001b[39m, request: DownloadRequest) \u001b[38;5;241m-\u001b[39m\u001b[38;5;241m>\u001b[39m Any:\n\u001b[1;32m    132\u001b[0m \u001b[38;5;250m    \u001b[39m\u001b[38;5;124;03m\"\"\"Downloads a response and decodes it into data. By decoding a single response\"\"\"\u001b[39;00m\n\u001b[0;32m--> 133\u001b[0m     response \u001b[38;5;241m=\u001b[39m \u001b[38;5;28;43mself\u001b[39;49m\u001b[38;5;241;43m.\u001b[39;49m\u001b[43m_single_download\u001b[49m\u001b[43m(\u001b[49m\u001b[43mrequest\u001b[49m\u001b[43m)\u001b[49m\n\u001b[1;32m    134\u001b[0m     \u001b[38;5;28;01mreturn\u001b[39;00m \u001b[38;5;28;01mNone\u001b[39;00m \u001b[38;5;28;01mif\u001b[39;00m response \u001b[38;5;129;01mis\u001b[39;00m \u001b[38;5;28;01mNone\u001b[39;00m \u001b[38;5;28;01melse\u001b[39;00m response\u001b[38;5;241m.\u001b[39mdecode()\n",
      "File \u001b[0;32m/home/conda/master-asi-conae/315434deb1b1e05eacacc41e1b0529b1837100f46402a32041d77ba54ae6c5f3-20230213-125825-013239-74-edc-2022.10-14/lib/python3.9/site-packages/sentinelhub/download/client.py:146\u001b[0m, in \u001b[0;36mDownloadClient._single_download\u001b[0;34m(self, request)\u001b[0m\n\u001b[1;32m    144\u001b[0m no_local_data \u001b[38;5;241m=\u001b[39m \u001b[38;5;28mself\u001b[39m\u001b[38;5;241m.\u001b[39mredownload \u001b[38;5;129;01mor\u001b[39;00m response_path \u001b[38;5;129;01mis\u001b[39;00m \u001b[38;5;28;01mNone\u001b[39;00m \u001b[38;5;129;01mor\u001b[39;00m \u001b[38;5;129;01mnot\u001b[39;00m os\u001b[38;5;241m.\u001b[39mpath\u001b[38;5;241m.\u001b[39mexists(response_path)\n\u001b[1;32m    145\u001b[0m \u001b[38;5;28;01mif\u001b[39;00m no_local_data:\n\u001b[0;32m--> 146\u001b[0m     response \u001b[38;5;241m=\u001b[39m \u001b[38;5;28;43mself\u001b[39;49m\u001b[38;5;241;43m.\u001b[39;49m\u001b[43m_execute_download\u001b[49m\u001b[43m(\u001b[49m\u001b[43mrequest\u001b[49m\u001b[43m)\u001b[49m\n\u001b[1;32m    147\u001b[0m \u001b[38;5;28;01melse\u001b[39;00m:\n\u001b[1;32m    148\u001b[0m     \u001b[38;5;28;01mif\u001b[39;00m \u001b[38;5;129;01mnot\u001b[39;00m request\u001b[38;5;241m.\u001b[39mreturn_data \u001b[38;5;129;01mor\u001b[39;00m response_path \u001b[38;5;129;01mis\u001b[39;00m \u001b[38;5;28;01mNone\u001b[39;00m:\n",
      "File \u001b[0;32m/home/conda/master-asi-conae/315434deb1b1e05eacacc41e1b0529b1837100f46402a32041d77ba54ae6c5f3-20230213-125825-013239-74-edc-2022.10-14/lib/python3.9/site-packages/sentinelhub/download/handlers.py:67\u001b[0m, in \u001b[0;36mretry_temporary_errors.<locals>.new_download_func\u001b[0;34m(self, request)\u001b[0m\n\u001b[1;32m     65\u001b[0m \u001b[38;5;28;01mfor\u001b[39;00m attempt_num \u001b[38;5;129;01min\u001b[39;00m \u001b[38;5;28mrange\u001b[39m(download_attempts):\n\u001b[1;32m     66\u001b[0m     \u001b[38;5;28;01mtry\u001b[39;00m:\n\u001b[0;32m---> 67\u001b[0m         \u001b[38;5;28;01mreturn\u001b[39;00m \u001b[43mdownload_func\u001b[49m\u001b[43m(\u001b[49m\u001b[38;5;28;43mself\u001b[39;49m\u001b[43m,\u001b[49m\u001b[43m \u001b[49m\u001b[43mrequest\u001b[49m\u001b[43m)\u001b[49m\n\u001b[1;32m     68\u001b[0m     \u001b[38;5;28;01mexcept\u001b[39;00m requests\u001b[38;5;241m.\u001b[39mRequestException \u001b[38;5;28;01mas\u001b[39;00m exception:\n\u001b[1;32m     69\u001b[0m         \u001b[38;5;28;01mif\u001b[39;00m \u001b[38;5;129;01mnot\u001b[39;00m (\n\u001b[1;32m     70\u001b[0m             _is_temporary_problem(exception)\n\u001b[1;32m     71\u001b[0m             \u001b[38;5;129;01mor\u001b[39;00m (\n\u001b[0;32m   (...)\u001b[0m\n\u001b[1;32m     74\u001b[0m             )\n\u001b[1;32m     75\u001b[0m         ):\n",
      "File \u001b[0;32m/home/conda/master-asi-conae/315434deb1b1e05eacacc41e1b0529b1837100f46402a32041d77ba54ae6c5f3-20230213-125825-013239-74-edc-2022.10-14/lib/python3.9/site-packages/sentinelhub/download/handlers.py:47\u001b[0m, in \u001b[0;36mfail_user_errors.<locals>.new_download_func\u001b[0;34m(self, request)\u001b[0m\n\u001b[1;32m     42\u001b[0m \u001b[38;5;28;01mexcept\u001b[39;00m requests\u001b[38;5;241m.\u001b[39mHTTPError \u001b[38;5;28;01mas\u001b[39;00m exception:\n\u001b[1;32m     43\u001b[0m     \u001b[38;5;28;01mif\u001b[39;00m (\n\u001b[1;32m     44\u001b[0m         exception\u001b[38;5;241m.\u001b[39mresponse\u001b[38;5;241m.\u001b[39mstatus_code \u001b[38;5;241m<\u001b[39m requests\u001b[38;5;241m.\u001b[39mstatus_codes\u001b[38;5;241m.\u001b[39mcodes\u001b[38;5;241m.\u001b[39mINTERNAL_SERVER_ERROR\n\u001b[1;32m     45\u001b[0m         \u001b[38;5;129;01mand\u001b[39;00m exception\u001b[38;5;241m.\u001b[39mresponse\u001b[38;5;241m.\u001b[39mstatus_code \u001b[38;5;241m!=\u001b[39m requests\u001b[38;5;241m.\u001b[39mstatus_codes\u001b[38;5;241m.\u001b[39mcodes\u001b[38;5;241m.\u001b[39mTOO_MANY_REQUESTS\n\u001b[1;32m     46\u001b[0m     ):\n\u001b[0;32m---> 47\u001b[0m         \u001b[38;5;28;01mraise\u001b[39;00m DownloadFailedException(\n\u001b[1;32m     48\u001b[0m             _create_download_failed_message(exception, request\u001b[38;5;241m.\u001b[39murl), request_exception\u001b[38;5;241m=\u001b[39mexception\n\u001b[1;32m     49\u001b[0m         ) \u001b[38;5;28;01mfrom\u001b[39;00m \u001b[38;5;21;01mexception\u001b[39;00m\n\u001b[1;32m     50\u001b[0m     \u001b[38;5;28;01mraise\u001b[39;00m exception \u001b[38;5;28;01mfrom\u001b[39;00m \u001b[38;5;21;01mexception\u001b[39;00m\n",
      "\u001b[0;31mDownloadFailedException\u001b[0m: Failed to download from:\nhttps://services.sentinel-hub.com/api/v1/process\nwith HTTPError:\n400 Client Error: Bad Request for url: https://services.sentinel-hub.com/api/v1/process\nServer response: \"{\"status\": 400, \"reason\": \"Bad Request\", \"message\": \"Invalid request\", \"code\": \"COMMON_BAD_PAYLOAD\", \"errors\": [{\"parameter\": \"output->width\", \"invalidValue\": 2881, \"violation\": \"must be less than or equal to 2500\", \"description\": \"The request image width. Must be an integer between 1 and 2500. <br />*Only one pair of parameters \\\"width\\\"/\\\"height\\\" or \\\"resx\\\"/\\\"resy\\\" must be set at the same time.*\"}, {\"parameter\": \"output->height\", \"invalidValue\": 3058, \"violation\": \"must be less than or equal to 2500\", \"description\": \"The request image height. Must be an integer between 1 and 2500. <br />*Only one pair of parameters \\\"width\\\"/\\\"height\\\" or \\\"resx\\\"/\\\"resy\\\" must be set at the same time.*\"}]}\""
     ]
    }
   ],
   "source": [
    "# The evalscript for RGB map creation\n",
    "evalscript_rgb = \"\"\"\n",
    " //VERSION=3\n",
    "function setup(){\n",
    "  return{\n",
    "    input: [\"B02\", \"B03\", \"B04\", \"dataMask\"],\n",
    "    output: {bands: 4}\n",
    "  }\n",
    "}\n",
    "\n",
    "function evaluatePixel(sample){\n",
    "  // Set gain for visualisation\n",
    "  let gain = 2.5;\n",
    "  // Return RGB\n",
    "  return [sample.B04 * gain, sample.B03 * gain, sample.B02 * gain, sample.dataMask];\n",
    "}\n",
    "\"\"\"\n",
    "request_rgb = SentinelHubRequest(\n",
    "    evalscript=evalscript_rgb,\n",
    "    input_data=[\n",
    "        SentinelHubRequest.input_data(\n",
    "            data_collection=DataCollection.SENTINEL2_L1C,\n",
    "            time_interval=(date, date),\n",
    "        )],\n",
    "    responses=[\n",
    "        SentinelHubRequest.output_response('default', MimeType.TIFF)\n",
    "    ],\n",
    "    geometry=aoi,\n",
    "    size=bbox_to_dimensions(aoi.bbox, resolution=10),\n",
    "    config=config\n",
    ")\n",
    "rgb_response = request_rgb.get_data()"
   ]
  },
  {
   "cell_type": "markdown",
   "id": "f182ac9c-5030-47f3-8267-61067e145929",
   "metadata": {},
   "source": [
    "#### Show the result"
   ]
  },
  {
   "cell_type": "code",
   "execution_count": null,
   "id": "c24d116d-0876-45ce-ab74-54d468349b71",
   "metadata": {},
   "outputs": [],
   "source": [
    "# Create a basemap with folium\n",
    "m = folium.Map(\n",
    "    location=aoi.bbox.middle[::-1],\n",
    "    zoom_start=11)\n",
    "\n",
    "# Color map for the snow cover (0 no data: transparent, 1 snow: white, 2 snow-free: green, 3 cloud: gray)\n",
    "cmap = ((0, 0, 0, 0), (1, 1, 1, 1), (0, 0.6, 0.3, 1), (0.5, 0.5, 0.5, 1))\n",
    "\n",
    "# Add the snow cover to the map\n",
    "folium.raster_layers.ImageOverlay(\n",
    "    snowcover[0],\n",
    "    bounds=[aoi.bbox.lower_left[::-1], aoi.bbox.upper_right[::-1]],\n",
    "    name='snow cover',\n",
    "    colormap=lambda x: cmap[x]\n",
    ").add_to(m)\n",
    "\n",
    "# Add the Sentinel-2 RGB to the map\n",
    "folium.raster_layers.ImageOverlay(\n",
    "    rgb_response[0]/255,\n",
    "    bounds=[aoi.bbox.lower_left[::-1], aoi.bbox.upper_right[::-1]],\n",
    "    name='RGB',\n",
    ").add_to(m)\n",
    "\n",
    "# Add the layer control\n",
    "folium.LayerControl().add_to(m)\n",
    "\n",
    "# Show the map\n",
    "m"
   ]
  },
  {
   "cell_type": "code",
   "execution_count": 11,
   "id": "a7f29c6d-af54-4045-880b-e7e9137f9832",
   "metadata": {},
   "outputs": [
    {
     "data": {
      "text/plain": [
       "[array([[0, 0, 0, ..., 0, 0, 0],\n",
       "        [0, 0, 0, ..., 0, 0, 0],\n",
       "        [0, 0, 0, ..., 0, 0, 0],\n",
       "        ...,\n",
       "        [0, 0, 0, ..., 0, 0, 0],\n",
       "        [0, 0, 0, ..., 0, 0, 0],\n",
       "        [0, 0, 0, ..., 0, 0, 0]], dtype=uint8)]"
      ]
     },
     "execution_count": 11,
     "metadata": {},
     "output_type": "execute_result"
    }
   ],
   "source": [
    "snowcover"
   ]
  },
  {
   "cell_type": "code",
   "execution_count": 12,
   "id": "bb391484-b7cb-4702-bbf0-61d4e6175bc9",
   "metadata": {},
   "outputs": [
    {
     "data": {
      "text/plain": [
       "<folium.raster_layers.ImageOverlay at 0x7ff35780afa0>"
      ]
     },
     "execution_count": 12,
     "metadata": {},
     "output_type": "execute_result"
    }
   ],
   "source": [
    "# Create a basemap with folium\n",
    "m = folium.Map(\n",
    "    location=aoi.bbox.middle[::-1],\n",
    "    zoom_start=11)\n",
    "\n",
    "# Color map for the snow cover (0 no data: transparent, 1 snow: white, 2 snow-free: green, 3 cloud: gray)\n",
    "cmap = ((0, 0, 0, 0), (1, 1, 1, 1), (0, 0.6, 0.3, 1), (0.5, 0.5, 0.5, 1))\n",
    "\n",
    "# Add the snow cover to the map\n",
    "folium.raster_layers.ImageOverlay(\n",
    "    snowcover[0],\n",
    "    bounds=[aoi.bbox.lower_left[::-1], aoi.bbox.upper_right[::-1]],\n",
    "    name='snow cover',\n",
    "    colormap=lambda x: cmap[x]\n",
    ").add_to(m)"
   ]
  },
  {
   "cell_type": "code",
   "execution_count": 13,
   "id": "c589711f-0343-438e-bce1-4ba3c8b80eac",
   "metadata": {},
   "outputs": [
    {
     "data": {
      "text/html": [
       "<div style=\"width:100%;\"><div style=\"position:relative;width:100%;height:0;padding-bottom:60%;\"><span style=\"color:#565656\">Make this Notebook Trusted to load map: File -> Trust Notebook</span><iframe srcdoc=\"&lt;!DOCTYPE html&gt;\n",
       "&lt;html&gt;\n",
       "&lt;head&gt;\n",
       "    \n",
       "    &lt;meta http-equiv=&quot;content-type&quot; content=&quot;text/html; charset=UTF-8&quot; /&gt;\n",
       "    \n",
       "        &lt;script&gt;\n",
       "            L_NO_TOUCH = false;\n",
       "            L_DISABLE_3D = false;\n",
       "        &lt;/script&gt;\n",
       "    \n",
       "    &lt;style&gt;html, body {width: 100%;height: 100%;margin: 0;padding: 0;}&lt;/style&gt;\n",
       "    &lt;style&gt;#map {position:absolute;top:0;bottom:0;right:0;left:0;}&lt;/style&gt;\n",
       "    &lt;script src=&quot;https://cdn.jsdelivr.net/npm/leaflet@1.9.3/dist/leaflet.js&quot;&gt;&lt;/script&gt;\n",
       "    &lt;script src=&quot;https://code.jquery.com/jquery-1.12.4.min.js&quot;&gt;&lt;/script&gt;\n",
       "    &lt;script src=&quot;https://cdn.jsdelivr.net/npm/bootstrap@5.2.2/dist/js/bootstrap.bundle.min.js&quot;&gt;&lt;/script&gt;\n",
       "    &lt;script src=&quot;https://cdnjs.cloudflare.com/ajax/libs/Leaflet.awesome-markers/2.0.2/leaflet.awesome-markers.js&quot;&gt;&lt;/script&gt;\n",
       "    &lt;link rel=&quot;stylesheet&quot; href=&quot;https://cdn.jsdelivr.net/npm/leaflet@1.9.3/dist/leaflet.css&quot;/&gt;\n",
       "    &lt;link rel=&quot;stylesheet&quot; href=&quot;https://cdn.jsdelivr.net/npm/bootstrap@5.2.2/dist/css/bootstrap.min.css&quot;/&gt;\n",
       "    &lt;link rel=&quot;stylesheet&quot; href=&quot;https://netdna.bootstrapcdn.com/bootstrap/3.0.0/css/bootstrap.min.css&quot;/&gt;\n",
       "    &lt;link rel=&quot;stylesheet&quot; href=&quot;https://cdn.jsdelivr.net/npm/@fortawesome/fontawesome-free@6.2.0/css/all.min.css&quot;/&gt;\n",
       "    &lt;link rel=&quot;stylesheet&quot; href=&quot;https://cdnjs.cloudflare.com/ajax/libs/Leaflet.awesome-markers/2.0.2/leaflet.awesome-markers.css&quot;/&gt;\n",
       "    &lt;link rel=&quot;stylesheet&quot; href=&quot;https://cdn.jsdelivr.net/gh/python-visualization/folium/folium/templates/leaflet.awesome.rotate.min.css&quot;/&gt;\n",
       "    \n",
       "            &lt;meta name=&quot;viewport&quot; content=&quot;width=device-width,\n",
       "                initial-scale=1.0, maximum-scale=1.0, user-scalable=no&quot; /&gt;\n",
       "            &lt;style&gt;\n",
       "                #map_ff98d8142e36f9e507bc98d336df1a06 {\n",
       "                    position: relative;\n",
       "                    width: 100.0%;\n",
       "                    height: 100.0%;\n",
       "                    left: 0.0%;\n",
       "                    top: 0.0%;\n",
       "                }\n",
       "                .leaflet-container { font-size: 1rem; }\n",
       "            &lt;/style&gt;\n",
       "        \n",
       "    \n",
       "                &lt;style&gt;\n",
       "                    .leaflet-image-layer {\n",
       "                        /* old android/safari*/\n",
       "                        image-rendering: -webkit-optimize-contrast;\n",
       "                        image-rendering: crisp-edges; /* safari */\n",
       "                        image-rendering: pixelated; /* chrome */\n",
       "                        image-rendering: -moz-crisp-edges; /* firefox */\n",
       "                        image-rendering: -o-crisp-edges; /* opera */\n",
       "                        -ms-interpolation-mode: nearest-neighbor; /* ie */\n",
       "                    }\n",
       "                &lt;/style&gt;\n",
       "            \n",
       "&lt;/head&gt;\n",
       "&lt;body&gt;\n",
       "    \n",
       "    \n",
       "            &lt;div class=&quot;folium-map&quot; id=&quot;map_ff98d8142e36f9e507bc98d336df1a06&quot; &gt;&lt;/div&gt;\n",
       "        \n",
       "&lt;/body&gt;\n",
       "&lt;script&gt;\n",
       "    \n",
       "    \n",
       "            var map_ff98d8142e36f9e507bc98d336df1a06 = L.map(\n",
       "                &quot;map_ff98d8142e36f9e507bc98d336df1a06&quot;,\n",
       "                {\n",
       "                    center: [46.83277554249176, 11.27747117499851],\n",
       "                    crs: L.CRS.EPSG3857,\n",
       "                    zoom: 11,\n",
       "                    zoomControl: true,\n",
       "                    preferCanvas: false,\n",
       "                }\n",
       "            );\n",
       "\n",
       "            \n",
       "\n",
       "        \n",
       "    \n",
       "            var tile_layer_ed636a8203163245e2cb165866a777fb = L.tileLayer(\n",
       "                &quot;https://{s}.tile.openstreetmap.org/{z}/{x}/{y}.png&quot;,\n",
       "                {&quot;attribution&quot;: &quot;Data by \\u0026copy; \\u003ca target=\\&quot;_blank\\&quot; href=\\&quot;http://openstreetmap.org\\&quot;\\u003eOpenStreetMap\\u003c/a\\u003e, under \\u003ca target=\\&quot;_blank\\&quot; href=\\&quot;http://www.openstreetmap.org/copyright\\&quot;\\u003eODbL\\u003c/a\\u003e.&quot;, &quot;detectRetina&quot;: false, &quot;maxNativeZoom&quot;: 18, &quot;maxZoom&quot;: 18, &quot;minZoom&quot;: 0, &quot;noWrap&quot;: false, &quot;opacity&quot;: 1, &quot;subdomains&quot;: &quot;abc&quot;, &quot;tms&quot;: false}\n",
       "            ).addTo(map_ff98d8142e36f9e507bc98d336df1a06);\n",
       "        \n",
       "    \n",
       "            var image_overlay_891e7373e51770720b5714df058a529c = L.imageOverlay(\n",
       "                &quot;data:image/png;base64,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&quot;,\n",
       "                [[46.699056915737, 11.08294923961381], [46.966494169246516, 11.47199311038321]],\n",
       "                {}\n",
       "            ).addTo(map_ff98d8142e36f9e507bc98d336df1a06);\n",
       "        \n",
       "&lt;/script&gt;\n",
       "&lt;/html&gt;\" style=\"position:absolute;width:100%;height:100%;left:0;top:0;border:none !important;\" allowfullscreen webkitallowfullscreen mozallowfullscreen></iframe></div></div>"
      ],
      "text/plain": [
       "<folium.folium.Map at 0x7ff2fda58850>"
      ]
     },
     "execution_count": 13,
     "metadata": {},
     "output_type": "execute_result"
    }
   ],
   "source": [
    "m"
   ]
  },
  {
   "cell_type": "code",
   "execution_count": null,
   "id": "0b06f250-db52-4035-a17b-0792ea07a68e",
   "metadata": {},
   "outputs": [],
   "source": []
  }
 ],
 "metadata": {
  "kernelspec": {
   "display_name": "master-asi-conae-edc-2022.10-14",
   "language": "python",
   "name": "conda-env-master-asi-conae-edc-2022.10-14-py"
  },
  "language_info": {
   "codemirror_mode": {
    "name": "ipython",
    "version": 3
   },
   "file_extension": ".py",
   "mimetype": "text/x-python",
   "name": "python",
   "nbconvert_exporter": "python",
   "pygments_lexer": "ipython3",
   "version": "3.9.16"
  }
 },
 "nbformat": 4,
 "nbformat_minor": 5
}
