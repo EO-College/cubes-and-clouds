{
 "cells": [
  {
   "cell_type": "code",
   "execution_count": null,
   "id": "7a94d852-017a-430e-b0bb-e4427984398e",
   "metadata": {},
   "outputs": [],
   "source": [
    "# Sentinel Hub\n",
    "from sentinelhub import (SHConfig, SentinelHubRequest, DataCollection, MimeType, CRS, BBox, bbox_to_dimensions, geometry)\n",
    "\n",
    "# Geospatial libraries\n",
    "import geopandas as gpd"
   ]
  },
  {
   "cell_type": "code",
   "execution_count": null,
   "id": "2f2e69ff-457e-4091-bde7-85d6b89bfb45",
   "metadata": {},
   "outputs": [],
   "source": [
    "x1 = 11.012421\n",
    "y1 = 46.659805\n",
    "x2 = 11.505432\n",
    "y2 = 47.009289\n",
    "\n",
    "bbox = x1, y1, x2, y2"
   ]
  }
 ],
 "metadata": {
  "kernelspec": {
   "display_name": "master-asi-conae-edc-2022.10-14",
   "language": "python",
   "name": "conda-env-master-asi-conae-edc-2022.10-14-py"
  },
  "language_info": {
   "codemirror_mode": {
    "name": "ipython",
    "version": 3
   },
   "file_extension": ".py",
   "mimetype": "text/x-python",
   "name": "python",
   "nbconvert_exporter": "python",
   "pygments_lexer": "ipython3",
   "version": "3.9.16"
  }
 },
 "nbformat": 4,
 "nbformat_minor": 5
}
