{
 "cells": [
  {
   "cell_type": "markdown",
   "id": "0fbba1f4-9e0b-4c47-9e5c-19dbae956a0c",
   "metadata": {},
   "source": [
    "<center><img src=\"https://raw.githubusercontent.com/EO-College/cubes-and-clouds/main/icons/cnc_3icons_process_circle.svg\"\n",
    "     alt=\"Cubes & Clouds logo\"\n",
    "     style=\"float: center; margin-right: 10px; margin-left: 10px; max-height: 250px;\" /></center>"
   ]
  },
  {
   "cell_type": "markdown",
   "id": "0c6aed2f-1493-4636-a124-03c81b28bc52",
   "metadata": {
    "tags": []
   },
   "source": [
    "# 3.1 Data Processing\n",
    "\n",
    "<img src=\"https://openeo.org/images/openeo_logo.png\"\n",
    "     alt=\"openEO logo\"\n",
    "     style=\"float: center; margin-right: 10px; max-height: 100px;\"/>\n",
    "\n",
    "## Snow Cover mapping with openEO\n",
    "\n",
    "In this exercise we will build a complete EO workflow on a cloud platform; from data access to obtaining the result. In this example we will analyse snow cover in the Alps.\n",
    "\n",
    "We are going to follow these steps in our analysis:\n",
    "\n",
    "-   Load satellite collections\n",
    "-   Specify the spatial, temporal extents and the features we are interested in\n",
    "-   Process the satellite data to retrieve snow cover information\n",
    "-   Aggregate information to get catchment statistics over time\n",
    "-   Visualize and analyse the results\n",
    "\n",
    "More information on the openEO Python Client: https://open-eo.github.io/openeo-python-client/index.html"
   ]
  },
  {
   "cell_type": "markdown",
   "id": "cfe1892d-f9f9-4e9a-8d82-db000c59b6ce",
   "metadata": {
    "tags": []
   },
   "source": [
    "## Libraries"
   ]
  },
  {
   "cell_type": "markdown",
   "id": "c7a11bc4-0c90-4357-ae72-0075ec479f7f",
   "metadata": {},
   "source": [
    "We start by creating the shared folders and data files needed to complete the exercise using the following shell commands"
   ]
  },
  {
   "cell_type": "code",
   "execution_count": null,
   "id": "630caf52-0967-43b0-aa89-4900310c7ffb",
   "metadata": {
    "tags": []
   },
   "outputs": [],
   "source": [
    "!cp -r ${DATA_PATH%/*/*}/notebooks/cubes-and-clouds/lectures/3.1_data_processing/exercises/31_results $HOME/\n",
    "!cp -r ${DATA_PATH%/*/*}/notebooks/cubes-and-clouds/lectures/3.1_data_processing/exercises/31_data $HOME/"
   ]
  },
  {
   "cell_type": "code",
   "execution_count": null,
   "id": "1abf270c-d73e-4109-854c-3cf36a1b36d7",
   "metadata": {
    "tags": []
   },
   "outputs": [],
   "source": [
    "# platform libraries\n",
    "import openeo\n",
    "\n",
    "# utility libraries\n",
    "from datetime import date\n",
    "import numpy as np\n",
    "import xarray as xr\n",
    "import rioxarray\n",
    "import json\n",
    "import pandas as pd\n",
    "import matplotlib.pyplot as plt\n",
    "import geopandas as gpd\n",
    "import leafmap.foliumap as leafmap"
   ]
  },
  {
   "cell_type": "markdown",
   "id": "f9d64c64-39db-4869-917c-ed24bef18204",
   "metadata": {
    "tags": []
   },
   "source": [
    "## Connect to a cloud platform\n",
    "Connect to the Copernicus Dataspace Ecosystem. Being connected allows for data discovery."
   ]
  },
  {
   "cell_type": "code",
   "execution_count": null,
   "id": "86afd551-857e-4129-a2ee-39a933255f34",
   "metadata": {
    "tags": []
   },
   "outputs": [],
   "source": [
    "conn = openeo.connect('https://openeo.dataspace.copernicus.eu/')"
   ]
  },
  {
   "cell_type": "markdown",
   "id": "0ed52c6b-9279-4563-8b1d-b51b8bdf8d63",
   "metadata": {},
   "source": [
    "And login. Being logged in allows to use the full range of functionality including processing!"
   ]
  },
  {
   "cell_type": "code",
   "execution_count": null,
   "id": "bc9dbe7a-ff09-439c-9aef-4004fed80820",
   "metadata": {
    "tags": []
   },
   "outputs": [],
   "source": [
    "conn.authenticate_oidc()"
   ]
  },
  {
   "cell_type": "markdown",
   "id": "d8bfd388-c854-49f1-88b7-4879d5f5c2e1",
   "metadata": {},
   "source": [
    "Check if the login worked."
   ]
  },
  {
   "cell_type": "code",
   "execution_count": null,
   "id": "49e8aa86-c476-413c-a186-6f8df29b7429",
   "metadata": {
    "tags": []
   },
   "outputs": [],
   "source": [
    "conn.describe_account()"
   ]
  },
  {
   "cell_type": "markdown",
   "id": "1e95d456-a831-4cca-ab1f-5a2ec8805291",
   "metadata": {},
   "source": [
    "## Region of Interest"
   ]
  },
  {
   "cell_type": "markdown",
   "id": "3a324185-d64a-4e69-9601-8f63af0805ac",
   "metadata": {},
   "source": [
    "Our region of interest is the Val Passiria Catchment in the South Tyrolian Alps (Italy). Let's load the catchment area."
   ]
  },
  {
   "cell_type": "code",
   "execution_count": null,
   "id": "b1679451-2868-4109-ab17-38532a8033e3",
   "metadata": {
    "tags": []
   },
   "outputs": [],
   "source": [
    "catchment_outline = gpd.read_file('31_data/catchment_outline.geojson')"
   ]
  },
  {
   "cell_type": "code",
   "execution_count": null,
   "id": "3cd3057b-39f8-4644-886d-bdbad43c6cb5",
   "metadata": {
    "tags": []
   },
   "outputs": [],
   "source": [
    "center = (float(catchment_outline.centroid.y), float(catchment_outline.centroid.x))\n",
    "m = leafmap.Map(center=center, zoom=10)\n",
    "m.add_vector('31_data/catchment_outline.geojson', layer_name=\"catchment\")\n",
    "m"
   ]
  },
  {
   "cell_type": "markdown",
   "id": "8d2e24bb-ae0a-4033-bebf-66ca9aa4e5d1",
   "metadata": {},
   "source": [
    "**Quiz hint: Look closely at the end of the displayed catchment area to identify the outlet**"
   ]
  },
  {
   "cell_type": "markdown",
   "id": "284cd7b6-e646-4950-b747-4e1a734f148b",
   "metadata": {},
   "source": [
    "## Inspect Metadata\n",
    "We need to set the following configurations to define the content of the data cube we want to access:\n",
    "- dataset name\n",
    "- band names\n",
    "- time range\n",
    "- the area of interest specifed via bounding box coordinates\n",
    "- spatial resolution\n",
    "\n",
    "To select the correct dataset we can first list all the available datasets."
   ]
  },
  {
   "cell_type": "code",
   "execution_count": null,
   "id": "7a3592c5-f078-48c0-b039-270fe99f48d6",
   "metadata": {
    "tags": []
   },
   "outputs": [],
   "source": [
    "print(conn.list_collection_ids())"
   ]
  },
  {
   "cell_type": "markdown",
   "id": "958ff432-b8cb-45b5-b6c4-68c1e0f92640",
   "metadata": {},
   "source": [
    "We want to use the Sentinel-2 L2A product. It's name is `'SENTINEL2_L2A'`. \n",
    "\n",
    "We get the metadata for this collection as follows. This is an important step to familiarize yourself with the data collection (e.g. learn the band names)."
   ]
  },
  {
   "cell_type": "code",
   "execution_count": null,
   "id": "7bf6babb-457b-4a09-81d5-092b92c32d5d",
   "metadata": {
    "tags": []
   },
   "outputs": [],
   "source": [
    "conn.describe_collection(\"SENTINEL2_L2A\")"
   ]
  },
  {
   "cell_type": "markdown",
   "id": "ed91226f-a9ea-45d5-9663-98ed56fb067f",
   "metadata": {},
   "source": [
    "## Define a workflow\n",
    "We will define our workflow now. And chain all the processes together we need for analyzing the snow cover in the catchment.\n",
    "\n",
    "- Load a data cube with specific filters\n",
    "- Calculate the Normalized Difference Snow Index\n",
    "- Classify snow and no-snow using a threshold yielding the Snow Covered Area\n",
    "- Create and apply a cloud mask to remove cloudy pixels\n",
    "- Visualize one date of the snow map and crop it to the exact catchment outline\n",
    "- Calculate catchment statistics to get a timeseries on snow cover and cloud cover\n",
    "- Filter the time series by the cloud percentage and visualize the time series graph"
   ]
  },
  {
   "cell_type": "markdown",
   "id": "f786a79c-897d-4858-83c0-af9d4c4efede",
   "metadata": {},
   "source": [
    "### Define the data cube\n",
    "We define all extents of our data cube. We use the catchment as spatial extent. As a time range we will focus on the snow melting season 2018, in particular from Febraury to June 2018. We are only interested in the green and short wave infrared band, band 3 and 11. And we directly remove time slices with a cloud cover >= 90 %."
   ]
  },
  {
   "cell_type": "code",
   "execution_count": null,
   "id": "139b411c-b401-4af8-9f7a-d046e24e00e1",
   "metadata": {
    "tags": []
   },
   "outputs": [],
   "source": [
    "bbox = catchment_outline.bounds.iloc[0]\n",
    "bbox"
   ]
  },
  {
   "cell_type": "code",
   "execution_count": null,
   "id": "2a136b78-6eba-42df-a71b-f1b86c4a27ea",
   "metadata": {
    "tags": []
   },
   "outputs": [],
   "source": [
    "from openeo.processes import lte\n",
    "collection      = 'SENTINEL2_L2A'\n",
    "spatial_extent  = {'west':bbox[0],'east':bbox[2],'south':bbox[1],'north':bbox[3],'crs':4326}\n",
    "temporal_extent = [\"2018-02-01\", \"2018-06-30\"]\n",
    "bands           = ['B03', 'B11', 'SCL']\n",
    "properties={\"eo:cloud_cover\": lambda x: lte(x, 90)}"
   ]
  },
  {
   "cell_type": "markdown",
   "id": "450db68c-ffdc-4037-9885-045afec86637",
   "metadata": {
    "tags": []
   },
   "source": [
    "### Load the data cube\n",
    "We have defined the extents we are interested in. Now we use these definitions to load the data cube."
   ]
  },
  {
   "cell_type": "code",
   "execution_count": null,
   "id": "7d89755c-ef86-464f-a5e0-187bd44dfd53",
   "metadata": {
    "tags": []
   },
   "outputs": [],
   "source": [
    "s2 = conn.load_collection(collection,\n",
    "                          spatial_extent=spatial_extent,\n",
    "                          bands=bands,\n",
    "                          temporal_extent=temporal_extent,\n",
    "                          properties=properties)"
   ]
  },
  {
   "cell_type": "markdown",
   "id": "f93a67e6-6746-4de7-9142-635eee9a1196",
   "metadata": {},
   "source": [
    "### NDSI - Normalized Difference Snow Index\n",
    "The Normalized Difference Snow Index (NDSI) is computed as:\n",
    "\n",
    "$$ NDSI = \\frac {GREEN - SWIR} {GREEN +SWIR} $$\n",
    "\n",
    "We have created a Sentinel-2 data cube with bands B03 (green) and B11 (SWIR). We will use the green and SWIR band to calculate a the NDSI. This process is reducing the band dimension of the data cube to generate new information, the NDSI."
   ]
  },
  {
   "cell_type": "code",
   "execution_count": null,
   "id": "26cd85ae-fddf-42c5-975a-1e911420e063",
   "metadata": {
    "tags": []
   },
   "outputs": [],
   "source": [
    "green = s2.band(\"B03\")\n",
    "swir = s2.band(\"B11\")\n",
    "ndsi = (green - swir) / (green + swir)\n",
    "ndsi"
   ]
  },
  {
   "cell_type": "markdown",
   "id": "746ef0f4-9c9f-4884-8806-730d91261acb",
   "metadata": {},
   "source": [
    "### Creating the Snow Map\n",
    "So far we have a time series map of NDSI values. We are intereseted in the presence of snow though. Ideally in a binary classification: snow and no snow.\n",
    "To achieve this we are setting a threshold of 0.4 on the NDSI. This gives us a binary snow map."
   ]
  },
  {
   "cell_type": "code",
   "execution_count": null,
   "id": "591d44b1-20d1-447a-a956-291495f7a1c1",
   "metadata": {
    "tags": []
   },
   "outputs": [],
   "source": [
    "snowmap = ( ndsi > 0.4 ) * 1.0  # the addition of \"* 1.00\" is a workaround for a backend specific implementation problem. Once solved on the CDSE openEO backend it could be removed\n",
    "snowmap"
   ]
  },
  {
   "cell_type": "markdown",
   "id": "1b4ae963-05f1-48d0-937f-f162783f3fe3",
   "metadata": {},
   "source": [
    "### Creating a cloud mask\n",
    "\n",
    "We are going to use the Scene Classification of Sentinel-2, called the \"SCL\" band,  for creating a cloud mask and then applying it to the NDSI. The values we are interested in are: `8 = cloud medium probability`, `9 = cloud high probability`, `3 = cloud shadow`\n",
    "\n",
    "Here is more information on the Scene Classification of Sentinel-2: https://sentiwiki.copernicus.eu/web/s2-processing#S2-Processing-Scene-Classification"
   ]
  },
  {
   "cell_type": "code",
   "execution_count": null,
   "id": "99556d13-fae5-4726-a656-979a1945e7c1",
   "metadata": {
    "tags": []
   },
   "outputs": [],
   "source": [
    "scl_band = s2.band(\"SCL\")\n",
    "cloud_mask = ( (scl_band == 8) | (scl_band == 9) | (scl_band == 3) ) * 1.0\n",
    "cloud_mask"
   ]
  },
  {
   "cell_type": "markdown",
   "id": "8b2219e0-12c1-487f-b95c-cd96743f866d",
   "metadata": {},
   "source": [
    "The SCL layer has a ground sample distance of 20 meter while the other bands have 10 meter GSD"
   ]
  },
  {
   "cell_type": "markdown",
   "id": "8e7d0d18-2c39-4b4f-b493-d0370d7f1c92",
   "metadata": {},
   "source": [
    "### Applying the cloud mask to the snowmap\n",
    "We will mask out all pixels that are covered by clouds. This will result in: 0 = no_snow, 1 = snow, 2 = cloud"
   ]
  },
  {
   "cell_type": "code",
   "execution_count": null,
   "id": "8e188e75-57d6-4140-920d-937bea779934",
   "metadata": {
    "tags": []
   },
   "outputs": [],
   "source": [
    "snowmap_cloudfree = snowmap.mask(cloud_mask,replacement=2) # replacement is null by default\n",
    "snowmap_cloudfree"
   ]
  },
  {
   "cell_type": "markdown",
   "id": "61be5bad-fce6-46b3-85f3-cbfc15d309f0",
   "metadata": {},
   "source": [
    "### Mask Polygon: From Bounding Box to Shape\n",
    "We have a cloud masked snow map data cube now. In order to keep only pixels within the exact chatchment boundaries we mask to the outline of the catchment. Values outside of the boundaries are set to NA."
   ]
  },
  {
   "cell_type": "code",
   "execution_count": null,
   "id": "09b8c9ff-0f11-43ae-81c7-c323365fe3ac",
   "metadata": {
    "tags": []
   },
   "outputs": [],
   "source": [
    "catchment_outline['geometry'][0]"
   ]
  },
  {
   "cell_type": "code",
   "execution_count": null,
   "id": "c6cc66f6-0f09-46e4-b687-f42703da647f",
   "metadata": {
    "scrolled": true,
    "tags": []
   },
   "outputs": [],
   "source": [
    "snowmap_cloudfree_masked = snowmap_cloudfree.mask_polygon(catchment_outline['geometry'][0])"
   ]
  },
  {
   "cell_type": "markdown",
   "id": "ce3b6b14-7f09-456d-9162-8c5f688c67e5",
   "metadata": {},
   "source": [
    "### Visualize one time step of the timeseries\n",
    "Let's have a first look at a time slice of our snow map. So far we have not computed anything. We have only defined a set of functions that are going to be applied in sequence. This makes up our workflow or processing graph. \n",
    "To reduce the data volume which we are going to download we are only selecting one time step of our data cube.\n",
    "\n",
    "**In order to start the processing we have to tell the cloud platform specifically that we want to execute our workflow. In this case we want to start the processing directly without registering a job on the backend. This solution is good for small amounts of data. For larger processing tasks batch jobs are preferred (we'll do that later).**"
   ]
  },
  {
   "cell_type": "code",
   "execution_count": null,
   "id": "891968e3-ddfe-4dad-bba7-af22f8a5f16e",
   "metadata": {
    "tags": []
   },
   "outputs": [],
   "source": [
    "snowmap_cloudfree_1d = snowmap_cloudfree_masked.filter_temporal('2018-02-10', '2018-02-12')\n",
    "snowmap_cloudfree_1d.download('31_results/snowmap_cloudfree_1d.nc')"
   ]
  },
  {
   "cell_type": "markdown",
   "id": "25a5d46c-4778-4c8a-bdbe-8041c7530f12",
   "metadata": {},
   "source": [
    "Once the processing is done on the cloud and the data is downloaded we can load the file into our working environment and plot it!\n",
    "\n",
    "The area of interest is spread across two S2 tiles. This is visibile in the northern part of the plot because we chose one specific acquisition date where there is not data available for the northern tile."
   ]
  },
  {
   "cell_type": "code",
   "execution_count": null,
   "id": "405e1ee1-febf-4ec6-83d4-5bc644756169",
   "metadata": {
    "tags": []
   },
   "outputs": [],
   "source": [
    "xr.open_dataarray('31_results/snowmap_cloudfree_1d.nc',decode_coords=\"all\")[0].plot.imshow()"
   ]
  },
  {
   "cell_type": "markdown",
   "id": "914a28f1-1a9b-4647-8411-a3ff2821e59f",
   "metadata": {
    "tags": []
   },
   "source": [
    "## Calculate Catchment Statistics\n",
    "\n",
    "We are looking at the snow cover of a region over time and want to extract aggregated catchment statistics on snow cover and cloud cover. We do this by counting all the pixels in the catchment, counting the pixels that are covered by snow and the pixels covered by clouds.\n",
    "\n",
    "Ultimately we are interested in the **snow covered area (SCA)** within the catchment. We count all snow covered pixels within the catchment for each time step. Multiplied by the pixel size that would be the snow covered area. The snow pixel count divided by the total number of pixels in the catchment is the percentage of pixels covered with snow. We will use this number.\n",
    "\n",
    "We need to make sure that the information content meets our expected quality. Therefore, we calculate the **cloud percentage** for the catchment for each timestep. We use this information to filter the timeseries. All timesteps that have a cloud coverage of over 25% will be discarded.\n",
    "\n",
    "We are going to \n",
    "- Get number of pixels in the catchment: total, clouds, snow.\n",
    "- Combine the three aggregated pixel counts into one data cube.\n",
    "- Calculate cloud and snow percentages\n",
    "- Filter cloudy time steps with the cloud percentage\n",
    "- Plot the resulting time series\n"
   ]
  },
  {
   "cell_type": "markdown",
   "id": "79beb8ce-39f3-4d96-837a-bec0b169725d",
   "metadata": {},
   "source": [
    "**Quiz hint: remember the pixel counts here for the final exercise**"
   ]
  },
  {
   "cell_type": "markdown",
   "id": "2d9233ac-286e-432d-8581-0b53e7c0b63d",
   "metadata": {},
   "source": [
    "### Count pixels and aggregate spatially to the catchment"
   ]
  },
  {
   "cell_type": "code",
   "execution_count": null,
   "id": "0704eac4-5fd2-4a6f-87b3-0689f669dc04",
   "metadata": {
    "tags": []
   },
   "outputs": [],
   "source": [
    "# number of all pixels\n",
    "n_catchment = ((snowmap_cloudfree > -1) * 1.0).add_dimension(name=\"bands\",type=\"bands\",label=\"n_catchment\")\n",
    "\n",
    "# number of cloud pixels (no function needed, mask already created before)\n",
    "n_cloud = cloud_mask.add_dimension(name=\"bands\",type=\"bands\",label=\"n_cloud\")\n",
    "\n",
    "# number of snow pixels\n",
    "n_snow = ((snowmap_cloudfree == 1) * 1.0).add_dimension(name=\"bands\",type=\"bands\",label=\"n_snow\")\n",
    "\n",
    "# combine the binary data cubes into one data cube\n",
    "n_catchment_cloud_snow = n_catchment.merge_cubes(n_cloud).merge_cubes(n_snow)\n",
    "\n",
    "# aggregate to catchment\n",
    "n_pixels = n_catchment_cloud_snow.aggregate_spatial(geometries = catchment_outline['geometry'][0], reducer = 'sum')\n",
    "n_pixels"
   ]
  },
  {
   "cell_type": "markdown",
   "id": "ff976399-bea0-477f-a014-5cf6a961e674",
   "metadata": {},
   "source": [
    "### Register a batch job for processing\n",
    "We are starting the processing now with a batch job. This registers our job on the backend in our user space and assigns further information to the job, such as an ID, the job status, the process graph and further metadata. First we specifiy the end of our process graph with `save_result()` and specifiy the format (since we aggregated over the spatial dimension we will receive three arrays of data. So JSON is a suitable format). Then we create the batch job and start it."
   ]
  },
  {
   "cell_type": "code",
   "execution_count": null,
   "id": "09d15142-b402-4b85-a98c-e3aa61d793c8",
   "metadata": {
    "tags": []
   },
   "outputs": [],
   "source": [
    "# Define the end of the process graph and the output format\n",
    "n_pixels_json = n_pixels.save_result(format=\"JSON\")\n",
    "# Create a batch job\n",
    "job = n_pixels_json.create_job(title=\"n_pixels_json\")\n",
    "# start the job and wait till it finishes\n",
    "job.start_and_wait()"
   ]
  },
  {
   "cell_type": "markdown",
   "id": "cc1be5d0-c0bd-4bad-8c7f-ee8ca0f50c9b",
   "metadata": {},
   "source": [
    "Now we can check the status of our job. We can download the result once the job has finished."
   ]
  },
  {
   "cell_type": "code",
   "execution_count": null,
   "id": "2b2e726b-1c43-45e8-b0a4-e55a960c543a",
   "metadata": {
    "tags": []
   },
   "outputs": [],
   "source": [
    "job.status()"
   ]
  },
  {
   "cell_type": "code",
   "execution_count": null,
   "id": "4350f435-c8ef-4c15-a461-4745d66677d0",
   "metadata": {
    "tags": []
   },
   "outputs": [],
   "source": [
    "if job.status() == \"finished\":\n",
    "    results = job.get_results()\n",
    "    results.download_files(\"31_results/\")"
   ]
  },
  {
   "cell_type": "markdown",
   "id": "7533cc88-0e3b-4e36-b633-16ac2f0a2277",
   "metadata": {
    "tags": []
   },
   "source": [
    "**Quick hint: take a look at the job description: e.g. `job.describe_job()`**"
   ]
  },
  {
   "cell_type": "markdown",
   "id": "aa996a8d-ced1-4641-b8b8-4b5badab028d",
   "metadata": {},
   "source": [
    "### Load the resulting time series\n",
    "Let's load the result. It contains the total number of pixels in the catchment, number of cloud and snow pixels."
   ]
  },
  {
   "cell_type": "code",
   "execution_count": null,
   "id": "74764134-ea52-4837-a635-eb8e65119b12",
   "metadata": {
    "tags": []
   },
   "outputs": [],
   "source": [
    "# load the result\n",
    "with open(\"31_results/timeseries.json\",\"r\") as file:\n",
    "    n_pixels_json = json.load(file)"
   ]
  },
  {
   "cell_type": "code",
   "execution_count": null,
   "id": "e022c407-f8a2-4fae-8869-4283cbd1916f",
   "metadata": {
    "tags": []
   },
   "outputs": [],
   "source": [
    "# check the first 5 entries to check the data structure.\n",
    "list(n_pixels_json.items())[:3] # careful unsorted dates due to JSON format"
   ]
  },
  {
   "cell_type": "code",
   "execution_count": null,
   "id": "0a9f9769-e4ce-4215-92a5-6c0e07a06387",
   "metadata": {},
   "outputs": [],
   "source": [
    "len(n_pixels_json)"
   ]
  },
  {
   "cell_type": "markdown",
   "id": "b8d2f970-9980-4ca0-b476-869ababf2b7a",
   "metadata": {},
   "source": [
    "**_Quick hint: what is the length of the time series JSON?_**\n",
    "`len(n_pixels_json)`"
   ]
  },
  {
   "cell_type": "markdown",
   "id": "0101fa0a-44ac-4ece-b555-e29f6b4167da",
   "metadata": {},
   "source": [
    "Now we do some data wrangling to get a structured data frame."
   ]
  },
  {
   "cell_type": "code",
   "execution_count": null,
   "id": "1ec6fdfe-329f-4688-887d-9dc8fa6bd492",
   "metadata": {
    "tags": []
   },
   "outputs": [],
   "source": [
    "# Create a Pandas DataFrame to hold the values\n",
    "dates = [k for k in n_pixels_json]\n",
    "n_catchment_vals = [n_pixels_json[k][0][0] for k in n_pixels_json]\n",
    "n_cloud_vals = [n_pixels_json[k][0][1] for k in n_pixels_json]\n",
    "n_snow_vals = [n_pixels_json[k][0][2] for k in n_pixels_json]\n",
    "\n",
    "data = {\n",
    "        \"time\":pd.to_datetime(dates),\n",
    "        \"n_catchment_vals\":n_catchment_vals,\n",
    "        \"n_cloud_vals\":n_cloud_vals,\n",
    "        \"n_snow_vals\":n_snow_vals\n",
    "       }\n",
    "df = pd.DataFrame(data=data).set_index(\"time\")\n",
    "# Sort the values by date\n",
    "df = df.sort_values(axis=0,by=\"time\")\n",
    "df[:3]"
   ]
  },
  {
   "cell_type": "markdown",
   "id": "f13aa02e-f4a2-4dba-8c7f-048aa7eec1f0",
   "metadata": {},
   "source": [
    "Compute the total number of snow pixels in the selected temporal period:"
   ]
  },
  {
   "cell_type": "code",
   "execution_count": null,
   "id": "15b4d8c7-e2e4-45e2-a456-d5a75503cace",
   "metadata": {
    "tags": []
   },
   "outputs": [],
   "source": [
    "df.n_snow_vals.sum()"
   ]
  },
  {
   "cell_type": "markdown",
   "id": "1bad0cdc-9ae9-4dfc-a6d7-e7079bcd947a",
   "metadata": {},
   "source": [
    "### Calculate the cloud percentage for filtering time steps\n",
    "Divide the number of cloudy pixels by the number of total pixels = cloud percentage"
   ]
  },
  {
   "cell_type": "code",
   "execution_count": null,
   "id": "ba2372ff-410f-47fb-849e-b8d008baf320",
   "metadata": {
    "tags": []
   },
   "outputs": [],
   "source": [
    "perc_cloud = df[\"n_cloud_vals\"].values / df[\"n_catchment_vals\"].values * 100\n",
    "df[\"perc_cloud\"] = perc_cloud\n",
    "df[:3]"
   ]
  },
  {
   "cell_type": "markdown",
   "id": "25cf5fd6-1820-4d1f-9bfe-2e37b015124a",
   "metadata": {
    "tags": []
   },
   "source": [
    "**Quick hint: The sum of the n_catchment_vals should give an overall idea of the total number of pixels in the datacube for the whole time-series** `df.n_catchment_vals.sum()`"
   ]
  },
  {
   "cell_type": "markdown",
   "id": "cc1c0b71-d210-4fa6-8f75-95def5cc2917",
   "metadata": {
    "tags": []
   },
   "source": [
    "**Quick hint: a filter of the snow values can give an idea of when the maximum snow cover occurred** `df.where(df.n_snow_vals == df.n_snow_vals.max())`"
   ]
  },
  {
   "cell_type": "markdown",
   "id": "0561cf75-b96a-4687-a57d-1d6eb0b22232",
   "metadata": {},
   "source": [
    "**Quick hint: a simplified approach for converting from pixel count to square kilometres is to use this simplified formula::**\n",
    "\n",
    "${{Area (km^2)} = (\\frac{Spatial resolution (meters/pixel)^2}{1,000,000})\\times{\\text{Total pixel count}}}$"
   ]
  },
  {
   "cell_type": "markdown",
   "id": "af1331f9-b440-4f0e-a161-00cc00ffcd25",
   "metadata": {},
   "source": [
    "Plot the timeseries and the cloud threshold of 25%. If the cloud cover is higher the timestep will be excluded later on.\n",
    "\n",
    "Plot the **cloud percentage** with the threshold."
   ]
  },
  {
   "cell_type": "code",
   "execution_count": null,
   "id": "fdea8b55-0cb5-4985-9913-55ac66a63d94",
   "metadata": {
    "tags": []
   },
   "outputs": [],
   "source": [
    "df.plot(y=\"perc_cloud\",rot=45,kind=\"line\",marker='o')\n",
    "plt.axhline(y = 25, color = \"r\", linestyle = \"-\")\n",
    "plt.show()"
   ]
  },
  {
   "cell_type": "markdown",
   "id": "153772f2-dfdd-44e2-9cc5-5579c5dd3fd1",
   "metadata": {},
   "source": [
    "### Calculate the snow percentage\n",
    "Divide the number of snow pixels by the number of total pixels = snow percentage"
   ]
  },
  {
   "cell_type": "code",
   "execution_count": null,
   "id": "669cba7c-d625-4adc-8d40-e029702a8826",
   "metadata": {
    "tags": []
   },
   "outputs": [],
   "source": [
    "perc_snow = df[\"n_snow_vals\"].values / df[\"n_catchment_vals\"].values * 100\n",
    "df[\"perc_snow\"] = perc_snow\n",
    "df[:3]"
   ]
  },
  {
   "cell_type": "markdown",
   "id": "56db5d2a-22af-4200-9ea2-5d94479d9f72",
   "metadata": {},
   "source": [
    "Plot the **unfiltered snow percentage**"
   ]
  },
  {
   "cell_type": "code",
   "execution_count": null,
   "id": "03e06724-f4c6-4dd0-9707-d94c92b4c74c",
   "metadata": {
    "tags": []
   },
   "outputs": [],
   "source": [
    "df.plot(y=\"perc_snow\",rot=45,kind=\"line\",marker='o')\n",
    "plt.show()"
   ]
  },
  {
   "cell_type": "markdown",
   "id": "c6ca8ab6-a6b6-479f-821d-236dd8cb5df9",
   "metadata": {},
   "source": [
    "### Filter out cloudy time steps\n",
    "Keep only the dates with cloud coverage less than the threshold"
   ]
  },
  {
   "cell_type": "code",
   "execution_count": null,
   "id": "f8c31218-8d75-43b3-9106-bf70f0624544",
   "metadata": {
    "tags": []
   },
   "outputs": [],
   "source": [
    "df_filtered = df.loc[df[\"perc_cloud\"]<25]"
   ]
  },
  {
   "cell_type": "markdown",
   "id": "9e192035-03c3-4b98-bb0c-611128be8284",
   "metadata": {},
   "source": [
    "### Plot and save the cloud free snow percentage time series\n",
    "Plot the **cloud filtered snow percentage**"
   ]
  },
  {
   "cell_type": "code",
   "execution_count": null,
   "id": "b6c0646a-1385-4980-b443-48fbb2062783",
   "metadata": {
    "tags": []
   },
   "outputs": [],
   "source": [
    "df_filtered.plot(y=\"perc_snow\",rot=45,kind=\"line\",marker='o')\n",
    "plt.show()"
   ]
  },
  {
   "cell_type": "markdown",
   "id": "dcff56ef-8fe1-4b63-a2b4-5c37b69572da",
   "metadata": {
    "tags": []
   },
   "source": [
    "Save the **cloud filtered snow percentage**"
   ]
  },
  {
   "cell_type": "code",
   "execution_count": null,
   "id": "ff1025f1-f2ed-4d5f-afbd-c95df37da869",
   "metadata": {
    "tags": []
   },
   "outputs": [],
   "source": [
    "df_filtered.to_csv(\"31_results/filtered_snow_perc.csv\")"
   ]
  },
  {
   "cell_type": "code",
   "execution_count": null,
   "id": "9e22fd25-efd2-4b95-93d5-f04f38e762c6",
   "metadata": {},
   "outputs": [],
   "source": []
  }
 ],
 "metadata": {
  "kernelspec": {
   "display_name": "cubes-and-clouds-cubes-and-clouds-new",
   "language": "python",
   "name": "conda-env-cubes-and-clouds-cubes-and-clouds-new-py"
  },
  "language_info": {
   "codemirror_mode": {
    "name": "ipython",
    "version": 3
   },
   "file_extension": ".py",
   "mimetype": "text/x-python",
   "name": "python",
   "nbconvert_exporter": "python",
   "pygments_lexer": "ipython3",
   "version": "3.11.11"
  }
 },
 "nbformat": 4,
 "nbformat_minor": 5
}
