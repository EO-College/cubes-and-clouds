{
 "cells": [
  {
   "cell_type": "markdown",
   "id": "5f4a0cab-e26e-4942-96ee-78de70890ad9",
   "metadata": {},
   "source": [
    "<center><img src=\"https://raw.githubusercontent.com/EO-College/cubes-and-clouds/main/icons/cnc_3icons_process_circle.svg\"\n",
    "     alt=\"Cubes & Clouds logo\"\n",
    "     style=\"float: center; margin-right: 10px; margin-left: 10px; max-height: 250px;\" /></center>"
   ]
  },
  {
   "cell_type": "markdown",
   "id": "43f2c4b3-88f7-4ebf-8248-a72728d14012",
   "metadata": {},
   "source": [
    "# 2.3 Data Access and Basic Processing\n",
    "\n",
    "<img src=\"https://openeo.org/images/openeo_logo.png\"\n",
    "     alt=\"openEO logo\"\n",
    "     style=\"float: center; margin-right: 10px; max-height: 100px;\"/>\n",
    "\n",
    "## Apply Operator with openEO\n",
    "\n",
    "The apply operator applies a process to each value in the data cube (i.e. a local operation).\n",
    "\n",
    "Let's start again with the same sample data from the Sentinel-2 STAC Collection, applying the filters directly in the `load_stac` call, to reduce the amount of data."
   ]
  },
  {
   "cell_type": "code",
   "execution_count": null,
   "id": "b5c18492-e3c7-4a05-a5b6-6c606b8253c1",
   "metadata": {
    "tags": []
   },
   "outputs": [],
   "source": [
    "import openeo\n",
    "from openeo.local import LocalConnection\n",
    "local_conn = LocalConnection('')\n",
    "\n",
    "url = \"https://earth-search.aws.element84.com/v1/collections/sentinel-2-l2a\"\n",
    "spatial_extent = {\"west\": 11.259613, \"east\": 11.406212, \"south\": 46.461019, \"north\": 46.522237}\n",
    "temporal_extent = ['2022-07-10T00:00:00Z','2022-07-13T00:00:00Z']\n",
    "bands = [\"red\",\"green\",\"blue\"]\n",
    "properties = {\"eo:cloud_cover\": dict(lt=50)}\n",
    "datacube = local_conn.load_stac(url=url,\n",
    "                    spatial_extent=spatial_extent,\n",
    "                    temporal_extent = temporal_extent,\n",
    "                    bands=bands,\n",
    "                    properties=properties\n",
    ")\n",
    "\n",
    "datacube.execute()"
   ]
  },
  {
   "cell_type": "markdown",
   "id": "3f2dade5-e7d9-48fa-9b2b-8e80a4d12d1b",
   "metadata": {},
   "source": [
    "Visualize the RGB bands of our sample dataset:"
   ]
  },
  {
   "cell_type": "code",
   "execution_count": null,
   "id": "d645581d-2e82-4a32-b1e3-e214938879c8",
   "metadata": {
    "tags": []
   },
   "outputs": [],
   "source": [
    "data = datacube.execute()\n",
    "data[0].plot.imshow()"
   ]
  },
  {
   "cell_type": "markdown",
   "id": "6097dca4-5ada-4ea1-bb8c-9a853f3fa2e8",
   "metadata": {},
   "source": [
    "### Apply an arithmetic formula"
   ]
  },
  {
   "cell_type": "markdown",
   "id": "8c56a01b-795b-4b3e-99e2-93622302d955",
   "metadata": {},
   "source": [
    "We would like to improve the previous visualization, rescaling all the pixels between 0 and 1.\n",
    "\n",
    "We can use `apply` in combination with the `linear_scale_range` processe."
   ]
  },
  {
   "cell_type": "code",
   "execution_count": null,
   "id": "9d71f32a-4f58-4709-96ad-ebea3c248539",
   "metadata": {
    "tags": []
   },
   "outputs": [],
   "source": [
    "from openeo.processes import linear_scale_range\n",
    "input_min = -0.1\n",
    "input_max = 0.2\n",
    "output_min = 0\n",
    "output_max = 1\n",
    "\n",
    "def rescale(x):\n",
    "    return linear_scale_range(x,input_min,input_max,output_min,output_max)\n",
    "\n",
    "scaled_data = datacube.apply(rescale)\n",
    "scaled_data"
   ]
  },
  {
   "cell_type": "markdown",
   "id": "179b0c31-97ce-47d7-9a87-16fc7d2bd544",
   "metadata": {},
   "source": [
    "Visualize the result and see how `apply` scaled the data resulting in a more meaningful visualization:"
   ]
  },
  {
   "cell_type": "code",
   "execution_count": null,
   "id": "6ec03fc3-83c1-48b4-9e08-37e5665215cd",
   "metadata": {
    "tags": []
   },
   "outputs": [],
   "source": [
    "scaled_data_xr = scaled_data.execute()\n",
    "scaled_data_xr[0].plot.imshow()"
   ]
  }
 ],
 "metadata": {
  "kernelspec": {
   "display_name": "cubes-and-clouds-cubes-and-clouds-new",
   "language": "python",
   "name": "conda-env-cubes-and-clouds-cubes-and-clouds-new-py"
  },
  "language_info": {
   "codemirror_mode": {
    "name": "ipython",
    "version": 3
   },
   "file_extension": ".py",
   "mimetype": "text/x-python",
   "name": "python",
   "nbconvert_exporter": "python",
   "pygments_lexer": "ipython3",
   "version": "3.11.11"
  }
 },
 "nbformat": 4,
 "nbformat_minor": 5
}
