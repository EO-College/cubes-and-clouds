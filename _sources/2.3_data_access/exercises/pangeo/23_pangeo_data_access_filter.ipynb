{
 "cells": [
  {
   "cell_type": "markdown",
   "id": "5f4a0cab-e26e-4942-96ee-78de70890ad9",
   "metadata": {},
   "source": [
    "<center><img src=\"https://raw.githubusercontent.com/EO-College/cubes-and-clouds/main/icons/cnc_3icons_process_circle.svg\"\n",
    "     alt=\"Cubes & Clouds logo\"\n",
    "     style=\"float: center; margin-right: 10px; margin-left: 10px; max-height: 250px;\" /></center>"
   ]
  },
  {
   "cell_type": "markdown",
   "id": "43f2c4b3-88f7-4ebf-8248-a72728d14012",
   "metadata": {},
   "source": [
    "# 2.3 Data Access and Basic Processing\n",
    "\n",
    "<img src=\"https://raw.githubusercontent.com/pangeo-data/pangeo.io/refs/heads/main/public/Pangeo-assets/pangeo_logo.png\"\n",
    "     alt=\"Pangeo logo\"\n",
    "     style=\"float: center; margin-right: 10px; max-height: 80px;\"/>\n",
    "\n",
    "## Filter Operators with Pangeo ecosystem\n",
    "\n",
    "When interacting with large data collections, it is necessary to keep in mind that it's not possible to load everything!\n",
    "\n",
    "Therefore, we always have to define our requirements in advance and apply them to the data using filter operators.\n",
    "\n",
    "Let's start again with the same sample data from the Sentinel-2 STAC Collection with an additional filter."
   ]
  },
  {
   "cell_type": "markdown",
   "id": "dda8de1c-83d3-4dfd-a506-eb1a2302d752",
   "metadata": {},
   "source": [
    "### Properties Filter\n",
    "\n",
    "When working with optical data like Sentinel-2, most of the times we would like to discard cloudy acquisitions as soon as possible.\n",
    "\n",
    "We can do it using a property filter: in this case we want to keep only the acquisitions with less than 50% cloud coverage."
   ]
  },
  {
   "cell_type": "code",
   "execution_count": null,
   "id": "c0917811-6048-4f00-b14f-ccbe5d5d1429",
   "metadata": {},
   "outputs": [],
   "source": [
    "import pystac_client\n",
    "import stackstac\n",
    "import numpy as np\n",
    "from pyproj import Proj"
   ]
  },
  {
   "cell_type": "code",
   "execution_count": null,
   "id": "8c4cf43c-e172-40d1-822f-56e78d909fbb",
   "metadata": {},
   "outputs": [],
   "source": [
    "properties = {\"eo:cloud_cover\": dict(lt=50)}"
   ]
  },
  {
   "cell_type": "code",
   "execution_count": null,
   "id": "ca3f3412-bfe4-4dab-8e22-93acce9fba88",
   "metadata": {},
   "outputs": [],
   "source": [
    "spatial_extent = [11.1, 46.1, 11.5, 46.5]\n",
    "temporal_extent = [\"2024-01-01T00:00:00Z\",\"2024-10-30T00:00:00Z\"]\n",
    "URL = \"https://earth-search.aws.element84.com/v1\"\n",
    "catalog = pystac_client.Client.open(URL)\n",
    "items = catalog.search(\n",
    "    bbox=spatial_extent,\n",
    "    datetime=temporal_extent,\n",
    "    collections=[\"sentinel-2-l2a\"],\n",
    "    query=properties\n",
    ").item_collection()\n",
    "\n",
    "datacube = stackstac.stack(items,\n",
    "                     bounds_latlon=spatial_extent,\n",
    ")\n",
    "datacube"
   ]
  },
  {
   "cell_type": "markdown",
   "id": "6097dca4-5ada-4ea1-bb8c-9a853f3fa2e8",
   "metadata": {},
   "source": [
    "### Temporal Filter"
   ]
  },
  {
   "cell_type": "markdown",
   "id": "8c56a01b-795b-4b3e-99e2-93622302d955",
   "metadata": {},
   "source": [
    "To filter along time the data collection with Pangeo Xarray, we create a binary mask combining two conditions, passing it to the `where` method from Xarray. Remember to set `drop=True` to discard the dates outside the selected period.\n",
    "\n",
    "**Note**: We cannot use the sel method to select a slice to filter on the time dimension since the times are not equally spaced."
   ]
  },
  {
   "cell_type": "code",
   "execution_count": null,
   "id": "2feab3cf-87af-47fb-8764-593ef60a293b",
   "metadata": {},
   "outputs": [],
   "source": [
    "temporal_slice = datacube.where((datacube.time>=np.datetime64(\"2024-05-10T00:00:00\")) &\n",
    "                                (datacube.time<=np.datetime64(\"2024-06-30T00:00:00\")),\n",
    "                                drop=True)\n",
    "temporal_slice"
   ]
  },
  {
   "cell_type": "markdown",
   "id": "1a41ee31-5e68-4c5d-ab4b-d3e6198725de",
   "metadata": {},
   "source": [
    "After running the previous cell, it is visible that the result has less elements (or labels) in the temporal dimension `time`.\n",
    "\n",
    "Additionally, the size of the selected data reduced a lot."
   ]
  },
  {
   "cell_type": "markdown",
   "id": "cba45782-c4ad-4993-b511-84ebb8b6d354",
   "metadata": {},
   "source": [
    "**Quiz hint: look carefully at the dimensions of the resulting datacube!**"
   ]
  },
  {
   "cell_type": "markdown",
   "id": "23071292-8c4c-49cb-8968-ee90588896b6",
   "metadata": {},
   "source": [
    "### Spatial Filter"
   ]
  },
  {
   "cell_type": "markdown",
   "id": "4ecbc445-2b37-4e7d-a538-f194cc86a58c",
   "metadata": {},
   "source": [
    "To slice along the spatial dimensions the data collection with Pangeo, we can use `sel` method with a `slice`."
   ]
  },
  {
   "cell_type": "markdown",
   "id": "814d61de-657a-4b42-9669-30dc5c61988d",
   "metadata": {},
   "source": [
    "Let's get the spatial extent expressed in the Coordinate Reference System of the datacube. We need to project latitudes, longitudes to the data cube CRS."
   ]
  },
  {
   "cell_type": "code",
   "execution_count": null,
   "id": "9b9295c8-a85a-4b8c-a39f-33989a544b28",
   "metadata": {},
   "outputs": [],
   "source": [
    "west = 11.259613; east = 11.406212\n",
    "south = 46.461019; north = 46.522237\n",
    "projection = Proj(temporal_slice.attrs[\"crs\"])\n",
    "x_ws, y_ws = projection(west, south)\n",
    "x_wn, y_wn = projection(west, north)\n",
    "x_es, y_es = projection(east, south)\n",
    "x_en, y_en = projection(east, north)\n",
    "xmax = max(x_ws, x_wn, x_es, x_en)\n",
    "xmin = min(x_ws, x_wn, x_es, x_en)\n",
    "ymax = max(y_ws, y_wn, y_es, y_en)\n",
    "ymin = min(y_ws, y_wn, y_es, y_en)\n",
    "print(xmin, xmax, ymin, ymax)"
   ]
  },
  {
   "cell_type": "markdown",
   "id": "499ef2a5-0344-4c1f-a833-4c79f4aa652a",
   "metadata": {},
   "source": [
    "The `sel` method with `slice` is used with a set of coordinates. \n",
    "\n",
    "**Note**: The order of the interval in the slice needs to be expressed in the same order as the corresponding coordinate."
   ]
  },
  {
   "cell_type": "code",
   "execution_count": null,
   "id": "bcd2d64d-2247-4c6d-a3db-fd57bb25f576",
   "metadata": {},
   "outputs": [],
   "source": [
    "spatial_slice = temporal_slice.sel(x=slice(xmin,xmax), y = slice(ymax,ymin))\n",
    "spatial_slice"
   ]
  },
  {
   "cell_type": "markdown",
   "id": "d07a11e3-2712-44f8-b185-497f707b3450",
   "metadata": {},
   "source": [
    "**Quiz hint: look carefully at the dimensions of the loaded datacube!**"
   ]
  },
  {
   "cell_type": "markdown",
   "id": "d4830d00-518e-4d26-ba35-bc593df3438a",
   "metadata": {},
   "source": [
    "### Bands Filter"
   ]
  },
  {
   "cell_type": "markdown",
   "id": "75116f86-a34b-4784-8c54-35b59bf9da8c",
   "metadata": {},
   "source": [
    "To slice along the bands dimension, keeping only the necessary bands, we can use the `sel` method and `isin`."
   ]
  },
  {
   "cell_type": "code",
   "execution_count": null,
   "id": "2db7b95c-7b61-4421-a091-d5a2badb974b",
   "metadata": {},
   "outputs": [],
   "source": [
    "bands = [\"red\", \"green\", \"blue\"]\n",
    "bands_slice = spatial_slice.sel(band=spatial_slice.band.isin(bands))\n",
    "bands_slice"
   ]
  }
 ],
 "metadata": {
  "kernelspec": {
   "display_name": "cubes-and-clouds-pangeo",
   "language": "python",
   "name": "conda-env-cubes-and-clouds-pangeo-py"
  },
  "language_info": {
   "codemirror_mode": {
    "name": "ipython",
    "version": 3
   },
   "file_extension": ".py",
   "mimetype": "text/x-python",
   "name": "python",
   "nbconvert_exporter": "python",
   "pygments_lexer": "ipython3",
   "version": "3.11.11"
  },
  "widgets": {
   "application/vnd.jupyter.widget-state+json": {
    "state": {},
    "version_major": 2,
    "version_minor": 0
   }
  }
 },
 "nbformat": 4,
 "nbformat_minor": 5
}
