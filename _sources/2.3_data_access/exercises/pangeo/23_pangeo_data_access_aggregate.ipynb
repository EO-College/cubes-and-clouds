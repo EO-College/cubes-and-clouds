{
 "cells": [
  {
   "cell_type": "markdown",
   "id": "42620ff9-45f3-4e4c-aa76-f0036ddab315",
   "metadata": {
    "tags": []
   },
   "source": [
    "<center><img src=\"https://raw.githubusercontent.com/EO-College/cubes-and-clouds/main/icons/cnc_3icons_process_circle.svg\"\n",
    "     alt=\"Cubes & Clouds logo\"\n",
    "     style=\"float: center; margin-right: 10px; margin-left: 10px; max-height: 250px;\" /></center>"
   ]
  },
  {
   "cell_type": "markdown",
   "id": "43f2c4b3-88f7-4ebf-8248-a72728d14012",
   "metadata": {},
   "source": [
    "# 2.3 Data Access and Basic Processing\n",
    "\n",
    "<img src=\"https://raw.githubusercontent.com/pangeo-data/pangeo.io/refs/heads/main/public/Pangeo-assets/pangeo_logo.png\"\n",
    "     alt=\"Pangeo logo\"\n",
    "     style=\"float: center; margin-right: 10px; max-height: 80px;\"/>\n",
    "\n",
    "## Aggregate Operators with Pangeo"
   ]
  },
  {
   "cell_type": "markdown",
   "id": "5691278c-4d66-4ee2-8592-75431cbff3c7",
   "metadata": {},
   "source": [
    "### `resample`: temporal aggregation with predefined intervals"
   ]
  },
  {
   "cell_type": "markdown",
   "id": "38e8b469-762b-4501-bae9-397d61679e5d",
   "metadata": {},
   "source": [
    "We start by creating the shared folders and data files needed to complete the exercise using the following shell commands"
   ]
  },
  {
   "cell_type": "code",
   "execution_count": null,
   "id": "0e3fd05a-b1a3-4466-8382-5dd411da420d",
   "metadata": {},
   "outputs": [],
   "source": [
    "!cp -r ${DATA_PATH%/*/*}/notebooks/cubes-and-clouds/lectures/2.3_data_access/exercises/pangeo/region.geojson $HOME/"
   ]
  },
  {
   "cell_type": "markdown",
   "id": "40dbc4e1-929a-4256-9e62-605d5a424fca",
   "metadata": {},
   "source": [
    "Start importing the necessary libraries."
   ]
  },
  {
   "cell_type": "code",
   "execution_count": null,
   "id": "4eca5284-2873-4b5c-9505-d67545fdec05",
   "metadata": {
    "tags": []
   },
   "outputs": [],
   "source": [
    "import pystac_client\n",
    "import stackstac\n",
    "import rioxarray"
   ]
  },
  {
   "cell_type": "markdown",
   "id": "df47065e-ab63-43c5-8107-8cfb0113e848",
   "metadata": {},
   "source": [
    "Define the necessary parameters"
   ]
  },
  {
   "cell_type": "code",
   "execution_count": null,
   "id": "40f8af94-90af-4608-8c9d-5bcb74b7f997",
   "metadata": {},
   "outputs": [],
   "source": [
    "spatial_extent = [11.4, 45.5, 11.42, 45.52]\n",
    "temporal_extent = [\"2020-01-01\", \"2020-12-31\"]\n",
    "bands = [\"red\",\"green\",\"blue\"]\n",
    "properties = {\"eo:cloud_cover\": dict(lt=15)}"
   ]
  },
  {
   "cell_type": "markdown",
   "id": "6e7552af-c1ed-467e-90bb-891a5c236e7b",
   "metadata": {},
   "source": [
    "Query the STAC Catalog to get the corresponding STAC Items for Sentinel-2"
   ]
  },
  {
   "cell_type": "code",
   "execution_count": null,
   "id": "b9c2d788-ff9d-4422-86a3-cf7682e09f74",
   "metadata": {},
   "outputs": [],
   "source": [
    "URL = \"https://earth-search.aws.element84.com/v1\"\n",
    "catalog = pystac_client.Client.open(URL)\n",
    "items = catalog.search(\n",
    "    collections=[\"sentinel-2-l2a\"],\n",
    "    bbox=spatial_extent,\n",
    "    datetime=temporal_extent,\n",
    "    query=properties\n",
    ").item_collection()"
   ]
  },
  {
   "cell_type": "markdown",
   "id": "0420def5-ebd5-446e-a6d0-799e3534e5d2",
   "metadata": {},
   "source": [
    "Create the starting Sentinel-2 datacube:"
   ]
  },
  {
   "cell_type": "code",
   "execution_count": null,
   "id": "f31103c8-99bd-416d-b648-8af7826912b0",
   "metadata": {},
   "outputs": [],
   "source": [
    "s2_cube = stackstac.stack(items,\n",
    "                     bounds_latlon=spatial_extent,\n",
    "                     assets=bands\n",
    ")\n",
    "s2_cube"
   ]
  },
  {
   "cell_type": "markdown",
   "id": "49a04782-d412-4229-aa4b-d8e0283d5feb",
   "metadata": {},
   "source": [
    "We might be interested in aggregating our data over periods like week, month, year etc., defining what operation to use to combine the data available in the chosen period.\n",
    "\n",
    "Using `resample` with a sampling frequency (e.g. '1MS' ) to specify how to resample the data, we can achieve this easily:"
   ]
  },
  {
   "cell_type": "code",
   "execution_count": null,
   "id": "e8565e4c-6164-40e9-8e78-4cd88b6dba3c",
   "metadata": {},
   "outputs": [],
   "source": [
    "s2_monthly_min = s2_cube.resample(time=\"1MS\").min(dim=\"time\")"
   ]
  },
  {
   "cell_type": "markdown",
   "id": "420f8621-fb50-4fc1-89a2-4dfc7ac0beea",
   "metadata": {},
   "source": [
    "Check what happens to the datacube inspecting the resulting Xarray object. Now the `time` dimension has 12 labels, one for each month."
   ]
  },
  {
   "cell_type": "code",
   "execution_count": null,
   "id": "f38e5288-7b95-4693-a912-b51c31a60e16",
   "metadata": {
    "tags": []
   },
   "outputs": [],
   "source": [
    "s2_monthly_min"
   ]
  },
  {
   "cell_type": "markdown",
   "id": "c8f52769-e384-4646-bd5f-b3f1b9a3ea7e",
   "metadata": {},
   "source": [
    "### Spatial aggregation over an Area of Interest\n",
    "One of the basic concepts in GIS is to clip data using a vector geometry. Xarray is not directly capable of dealing with vectors but thanks to Rioxarray it can be easily achieved. Rioxarray extends Xarray with most of the features that Rasterio (GDAL) brings.\n",
    "\n",
    "Let's first define the area of interest. It is defined in a geojson file which we can read with geopandas."
   ]
  },
  {
   "cell_type": "code",
   "execution_count": null,
   "id": "fffda9d5-4dd2-4dea-9084-d759e6aa0e1a",
   "metadata": {
    "tags": []
   },
   "outputs": [],
   "source": [
    "import geopandas as gpd"
   ]
  },
  {
   "cell_type": "code",
   "execution_count": null,
   "id": "6e158162-a807-4a9c-abc8-ce50f131d679",
   "metadata": {
    "tags": []
   },
   "outputs": [],
   "source": [
    "AOI = gpd.read_file('region.geojson')"
   ]
  },
  {
   "cell_type": "code",
   "execution_count": null,
   "id": "297e0a1b-3228-4362-a21f-55351eaaf766",
   "metadata": {
    "tags": []
   },
   "outputs": [],
   "source": [
    "AOI.geometry"
   ]
  },
  {
   "cell_type": "code",
   "execution_count": null,
   "id": "6223ea2e-90cb-46dd-88ed-9aeedc5255cc",
   "metadata": {
    "tags": []
   },
   "outputs": [],
   "source": [
    "AOI.plot()"
   ]
  },
  {
   "cell_type": "code",
   "execution_count": null,
   "id": "57a44025-6ee7-4ef7-86c0-5e6ee90c30a4",
   "metadata": {
    "tags": []
   },
   "outputs": [],
   "source": [
    "epsg = s2_cube[\"proj:epsg\"].values"
   ]
  },
  {
   "cell_type": "markdown",
   "id": "78be1863-679c-4824-8355-4753c3813cc7",
   "metadata": {},
   "source": [
    "We reproject our AOI to the same coordinate Reference System than our Sentinel-2 datacube and we clip the data with the polygon that has been obtained through geopandas at the beginning of the notebook."
   ]
  },
  {
   "cell_type": "code",
   "execution_count": null,
   "id": "cca63e2d-ea10-4fe8-a9f5-907580a2bdd7",
   "metadata": {
    "tags": []
   },
   "outputs": [],
   "source": [
    "s2_clipped = s2_cube.rio.clip(AOI.to_crs(epsg=epsg).geometry, crs=epsg)\n",
    "s2_clipped"
   ]
  },
  {
   "cell_type": "code",
   "execution_count": null,
   "id": "9d4277d2-d2f7-4c73-8d18-df3cc6adf9b6",
   "metadata": {
    "tags": []
   },
   "outputs": [],
   "source": [
    "s2_clipped.isel(time=0).isel(band=0).plot()"
   ]
  },
  {
   "cell_type": "markdown",
   "id": "53faec91-b04f-41a0-a152-fbd3926c26f2",
   "metadata": {
    "jp-MarkdownHeadingCollapsed": true
   },
   "source": [
    "We finally perform the spatial aggregation, taking the average over the remaining pixels:"
   ]
  },
  {
   "cell_type": "code",
   "execution_count": null,
   "id": "504d8206-a586-4177-8f8f-b2c78d44f61f",
   "metadata": {
    "tags": []
   },
   "outputs": [],
   "source": [
    "region_mean_xr = s2_clipped.mean((\"x\", \"y\"))\n",
    "region_mean_xr"
   ]
  },
  {
   "cell_type": "markdown",
   "id": "c0861a69-5387-4f4f-ba02-bde76ef3543a",
   "metadata": {},
   "source": [
    "We can compute the result and plot the resulting time series of values for a sample band:"
   ]
  },
  {
   "cell_type": "code",
   "execution_count": null,
   "id": "feb1af21-5912-4b9a-b278-4a13c3a25baf",
   "metadata": {
    "tags": []
   },
   "outputs": [],
   "source": [
    "region_mean_xr = region_mean_xr.loc[dict(band=\"red\")].compute()\n",
    "region_mean_xr.plot()"
   ]
  }
 ],
 "metadata": {
  "kernelspec": {
   "display_name": "cubes-and-clouds-pangeo",
   "language": "python",
   "name": "conda-env-cubes-and-clouds-pangeo-py"
  },
  "language_info": {
   "codemirror_mode": {
    "name": "ipython",
    "version": 3
   },
   "file_extension": ".py",
   "mimetype": "text/x-python",
   "name": "python",
   "nbconvert_exporter": "python",
   "pygments_lexer": "ipython3",
   "version": "3.11.11"
  },
  "widgets": {
   "application/vnd.jupyter.widget-state+json": {
    "state": {},
    "version_major": 2,
    "version_minor": 0
   }
  }
 },
 "nbformat": 4,
 "nbformat_minor": 5
}
